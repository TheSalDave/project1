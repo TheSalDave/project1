{
 "cells": [
  {
   "cell_type": "code",
   "execution_count": 1,
   "metadata": {
    "id": "f6uHMogW7HK0"
   },
   "outputs": [],
   "source": [
    "import pandas as pd\n",
    "import numpy as np\n",
    "import matplotlib.pyplot as plt\n",
    "import seaborn as sns\n",
    "from sklearn import svm\n",
    "from sklearn.ensemble import RandomForestRegressor\n",
    "from sklearn.linear_model import LogisticRegression\n",
    "from sklearn.naive_bayes import GaussianNB\n",
    "from sklearn.naive_bayes import MultinomialNB\n",
    "from sklearn.neighbors import KNeighborsRegressor\n",
    "from sklearn.model_selection import GridSearchCV\n",
    "from sklearn.preprocessing import StandardScaler\n",
    "from sklearn.metrics import mean_absolute_percentage_error\n",
    "\n",
    "from sklearn.experimental import enable_halving_search_cv # noqa\n",
    "# now you can import normally from model_selection\n",
    "from sklearn.model_selection import HalvingGridSearchCV"
   ]
  },
  {
   "cell_type": "code",
   "execution_count": 5,
   "metadata": {
    "colab": {
     "base_uri": "https://localhost:8080/",
     "height": 74,
     "resources": {
      "http://localhost:8080/nbextensions/google.colab/files.js": {
       "data": "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",
       "headers": [
        [
         "content-type",
         "application/javascript"
        ]
       ],
       "ok": true,
       "status": 200,
       "status_text": ""
      }
     }
    },
    "id": "fxyBMJEwOLxb",
    "outputId": "195624ac-0f5a-4155-e2e3-1eed4db3c06a"
   },
   "outputs": [
    {
     "data": {
      "text/html": [
       "\n",
       "     <input type=\"file\" id=\"files-b80871d5-a254-4076-9b0f-01fb2fcc7933\" name=\"files[]\" multiple disabled\n",
       "        style=\"border:none\" />\n",
       "     <output id=\"result-b80871d5-a254-4076-9b0f-01fb2fcc7933\">\n",
       "      Upload widget is only available when the cell has been executed in the\n",
       "      current browser session. Please rerun this cell to enable.\n",
       "      </output>\n",
       "      <script src=\"/nbextensions/google.colab/files.js\"></script> "
      ],
      "text/plain": [
       "<IPython.core.display.HTML object>"
      ]
     },
     "metadata": {},
     "output_type": "display_data"
    },
    {
     "name": "stdout",
     "output_type": "stream",
     "text": [
      "Saving HH_Input.xlsx to HH_Input.xlsx\n"
     ]
    }
   ],
   "source": [
    "from google.colab import files\n",
    "uploaded = files.upload()"
   ]
  },
  {
   "cell_type": "code",
   "execution_count": 2,
   "metadata": {
    "colab": {
     "base_uri": "https://localhost:8080/",
     "height": 423
    },
    "id": "dIP-ANp8OWnO",
    "outputId": "e9eac405-12fc-4756-dc8b-8bbdf116ae3e",
    "scrolled": true
   },
   "outputs": [
    {
     "data": {
      "text/html": [
       "<div>\n",
       "<style scoped>\n",
       "    .dataframe tbody tr th:only-of-type {\n",
       "        vertical-align: middle;\n",
       "    }\n",
       "\n",
       "    .dataframe tbody tr th {\n",
       "        vertical-align: top;\n",
       "    }\n",
       "\n",
       "    .dataframe thead th {\n",
       "        text-align: right;\n",
       "    }\n",
       "</style>\n",
       "<table border=\"1\" class=\"dataframe\">\n",
       "  <thead>\n",
       "    <tr style=\"text-align: right;\">\n",
       "      <th></th>\n",
       "      <th>Target</th>\n",
       "      <th>n-1</th>\n",
       "      <th>n-2</th>\n",
       "      <th>n-3</th>\n",
       "      <th>n-4</th>\n",
       "      <th>n-5</th>\n",
       "      <th>dayofweek</th>\n",
       "      <th>hour</th>\n",
       "      <th>holiday</th>\n",
       "      <th>month</th>\n",
       "      <th>Temperature (C)</th>\n",
       "      <th>Feels like (C)</th>\n",
       "      <th>Humidity (%)</th>\n",
       "    </tr>\n",
       "  </thead>\n",
       "  <tbody>\n",
       "    <tr>\n",
       "      <th>0</th>\n",
       "      <td>12.60</td>\n",
       "      <td>12.80</td>\n",
       "      <td>11.90</td>\n",
       "      <td>13.50</td>\n",
       "      <td>12.30</td>\n",
       "      <td>12.80</td>\n",
       "      <td>0</td>\n",
       "      <td>0</td>\n",
       "      <td>1</td>\n",
       "      <td>1</td>\n",
       "      <td>6.1</td>\n",
       "      <td>2.0</td>\n",
       "      <td>84.33</td>\n",
       "    </tr>\n",
       "    <tr>\n",
       "      <th>1</th>\n",
       "      <td>11.90</td>\n",
       "      <td>12.60</td>\n",
       "      <td>12.80</td>\n",
       "      <td>11.90</td>\n",
       "      <td>13.50</td>\n",
       "      <td>12.30</td>\n",
       "      <td>0</td>\n",
       "      <td>0</td>\n",
       "      <td>1</td>\n",
       "      <td>1</td>\n",
       "      <td>6.0</td>\n",
       "      <td>1.6</td>\n",
       "      <td>80.44</td>\n",
       "    </tr>\n",
       "    <tr>\n",
       "      <th>2</th>\n",
       "      <td>13.00</td>\n",
       "      <td>11.90</td>\n",
       "      <td>12.60</td>\n",
       "      <td>12.80</td>\n",
       "      <td>11.90</td>\n",
       "      <td>13.50</td>\n",
       "      <td>0</td>\n",
       "      <td>0</td>\n",
       "      <td>1</td>\n",
       "      <td>1</td>\n",
       "      <td>6.0</td>\n",
       "      <td>1.6</td>\n",
       "      <td>80.44</td>\n",
       "    </tr>\n",
       "    <tr>\n",
       "      <th>3</th>\n",
       "      <td>11.91</td>\n",
       "      <td>13.00</td>\n",
       "      <td>11.90</td>\n",
       "      <td>12.60</td>\n",
       "      <td>12.80</td>\n",
       "      <td>11.90</td>\n",
       "      <td>0</td>\n",
       "      <td>0</td>\n",
       "      <td>1</td>\n",
       "      <td>1</td>\n",
       "      <td>5.8</td>\n",
       "      <td>1.7</td>\n",
       "      <td>82.54</td>\n",
       "    </tr>\n",
       "    <tr>\n",
       "      <th>4</th>\n",
       "      <td>11.90</td>\n",
       "      <td>11.91</td>\n",
       "      <td>13.00</td>\n",
       "      <td>11.90</td>\n",
       "      <td>12.60</td>\n",
       "      <td>12.80</td>\n",
       "      <td>0</td>\n",
       "      <td>0</td>\n",
       "      <td>1</td>\n",
       "      <td>1</td>\n",
       "      <td>5.8</td>\n",
       "      <td>1.7</td>\n",
       "      <td>82.54</td>\n",
       "    </tr>\n",
       "    <tr>\n",
       "      <th>...</th>\n",
       "      <td>...</td>\n",
       "      <td>...</td>\n",
       "      <td>...</td>\n",
       "      <td>...</td>\n",
       "      <td>...</td>\n",
       "      <td>...</td>\n",
       "      <td>...</td>\n",
       "      <td>...</td>\n",
       "      <td>...</td>\n",
       "      <td>...</td>\n",
       "      <td>...</td>\n",
       "      <td>...</td>\n",
       "      <td>...</td>\n",
       "    </tr>\n",
       "    <tr>\n",
       "      <th>35030</th>\n",
       "      <td>13.56</td>\n",
       "      <td>15.12</td>\n",
       "      <td>15.00</td>\n",
       "      <td>14.56</td>\n",
       "      <td>15.00</td>\n",
       "      <td>15.31</td>\n",
       "      <td>1</td>\n",
       "      <td>0</td>\n",
       "      <td>0</td>\n",
       "      <td>12</td>\n",
       "      <td>6.5</td>\n",
       "      <td>3.3</td>\n",
       "      <td>88.23</td>\n",
       "    </tr>\n",
       "    <tr>\n",
       "      <th>35031</th>\n",
       "      <td>13.81</td>\n",
       "      <td>13.56</td>\n",
       "      <td>15.12</td>\n",
       "      <td>15.00</td>\n",
       "      <td>14.56</td>\n",
       "      <td>15.00</td>\n",
       "      <td>1</td>\n",
       "      <td>0</td>\n",
       "      <td>0</td>\n",
       "      <td>12</td>\n",
       "      <td>6.6</td>\n",
       "      <td>4.4</td>\n",
       "      <td>87.69</td>\n",
       "    </tr>\n",
       "    <tr>\n",
       "      <th>35032</th>\n",
       "      <td>14.12</td>\n",
       "      <td>13.81</td>\n",
       "      <td>13.56</td>\n",
       "      <td>15.12</td>\n",
       "      <td>15.00</td>\n",
       "      <td>14.56</td>\n",
       "      <td>1</td>\n",
       "      <td>0</td>\n",
       "      <td>0</td>\n",
       "      <td>12</td>\n",
       "      <td>6.6</td>\n",
       "      <td>4.4</td>\n",
       "      <td>87.69</td>\n",
       "    </tr>\n",
       "    <tr>\n",
       "      <th>35033</th>\n",
       "      <td>14.50</td>\n",
       "      <td>14.12</td>\n",
       "      <td>13.81</td>\n",
       "      <td>13.56</td>\n",
       "      <td>15.12</td>\n",
       "      <td>15.00</td>\n",
       "      <td>1</td>\n",
       "      <td>0</td>\n",
       "      <td>0</td>\n",
       "      <td>12</td>\n",
       "      <td>6.7</td>\n",
       "      <td>4.1</td>\n",
       "      <td>88.13</td>\n",
       "    </tr>\n",
       "    <tr>\n",
       "      <th>35034</th>\n",
       "      <td>13.88</td>\n",
       "      <td>14.50</td>\n",
       "      <td>14.12</td>\n",
       "      <td>13.81</td>\n",
       "      <td>13.56</td>\n",
       "      <td>15.12</td>\n",
       "      <td>1</td>\n",
       "      <td>0</td>\n",
       "      <td>0</td>\n",
       "      <td>12</td>\n",
       "      <td>6.7</td>\n",
       "      <td>4.1</td>\n",
       "      <td>88.13</td>\n",
       "    </tr>\n",
       "  </tbody>\n",
       "</table>\n",
       "<p>35035 rows × 13 columns</p>\n",
       "</div>"
      ],
      "text/plain": [
       "       Target    n-1    n-2    n-3    n-4    n-5  dayofweek  hour  holiday  \\\n",
       "0       12.60  12.80  11.90  13.50  12.30  12.80          0     0        1   \n",
       "1       11.90  12.60  12.80  11.90  13.50  12.30          0     0        1   \n",
       "2       13.00  11.90  12.60  12.80  11.90  13.50          0     0        1   \n",
       "3       11.91  13.00  11.90  12.60  12.80  11.90          0     0        1   \n",
       "4       11.90  11.91  13.00  11.90  12.60  12.80          0     0        1   \n",
       "...       ...    ...    ...    ...    ...    ...        ...   ...      ...   \n",
       "35030   13.56  15.12  15.00  14.56  15.00  15.31          1     0        0   \n",
       "35031   13.81  13.56  15.12  15.00  14.56  15.00          1     0        0   \n",
       "35032   14.12  13.81  13.56  15.12  15.00  14.56          1     0        0   \n",
       "35033   14.50  14.12  13.81  13.56  15.12  15.00          1     0        0   \n",
       "35034   13.88  14.50  14.12  13.81  13.56  15.12          1     0        0   \n",
       "\n",
       "       month  Temperature (C)  Feels like (C)  Humidity (%)  \n",
       "0          1              6.1             2.0         84.33  \n",
       "1          1              6.0             1.6         80.44  \n",
       "2          1              6.0             1.6         80.44  \n",
       "3          1              5.8             1.7         82.54  \n",
       "4          1              5.8             1.7         82.54  \n",
       "...      ...              ...             ...           ...  \n",
       "35030     12              6.5             3.3         88.23  \n",
       "35031     12              6.6             4.4         87.69  \n",
       "35032     12              6.6             4.4         87.69  \n",
       "35033     12              6.7             4.1         88.13  \n",
       "35034     12              6.7             4.1         88.13  \n",
       "\n",
       "[35035 rows x 13 columns]"
      ]
     },
     "execution_count": 2,
     "metadata": {},
     "output_type": "execute_result"
    }
   ],
   "source": [
    "df = pd.read_excel(\"HH_Input.xlsx\")\n",
    "df = df.drop('Unnamed: 0', axis = 1)\n",
    "df"
   ]
  },
  {
   "cell_type": "code",
   "execution_count": 3,
   "metadata": {
    "id": "tMNKFtH1O_xl"
   },
   "outputs": [],
   "source": [
    "feature_cols = ['n-1', 'n-2', 'n-3', 'n-4', 'n-5', 'dayofweek', 'hour', 'month', 'holiday', 'Temperature (C)', 'Feels like (C)', 'Humidity (%)']\n",
    "\n",
    "X = df[feature_cols] # Features\n",
    "y = df.Target # Target variable\n",
    "\n",
    "#from sklearn.model_selection import train_test_split\n",
    "\n",
    "#X_train,X_test,y_train,y_test = train_test_split(X,y,test_size=0.25,random_state=0) #split training:testing 75:25\n",
    "\n",
    "scaler = StandardScaler() #scaling\n",
    "X_scaled = scaler.fit_transform(X)"
   ]
  },
  {
   "cell_type": "code",
   "execution_count": 9,
   "metadata": {
    "colab": {
     "base_uri": "https://localhost:8080/",
     "height": 3799
    },
    "id": "pd8bTLqhO_9V",
    "outputId": "34629eea-a382-415a-a3c5-1a16e3967a9a"
   },
   "outputs": [
    {
     "metadata": {
      "tags": null
     },
     "name": "stdout",
     "output_type": "stream",
     "text": [
      "n_iterations: 4\n",
      "n_required_iterations: 4\n",
      "n_possible_iterations: 4\n",
      "min_resources_: 1297\n",
      "max_resources_: 35035\n",
      "aggressive_elimination: False\n",
      "factor: 3\n",
      "----------\n",
      "iter: 0\n",
      "n_candidates: 32\n",
      "n_resources: 1297\n",
      "Fitting 3 folds for each of 32 candidates, totalling 96 fits\n",
      "[CV] END ...................C=0.01, epsilon=0.01, kernel=rbf; total time=   0.1s\n",
      "[CV] END ...................C=0.01, epsilon=0.01, kernel=rbf; total time=   0.1s\n",
      "[CV] END ...................C=0.01, epsilon=0.01, kernel=rbf; total time=   0.1s\n",
      "[CV] END ................C=0.01, epsilon=0.01, kernel=linear; total time=   0.0s\n",
      "[CV] END ................C=0.01, epsilon=0.01, kernel=linear; total time=   0.0s\n",
      "[CV] END ................C=0.01, epsilon=0.01, kernel=linear; total time=   0.0s\n",
      "[CV] END ....................C=0.01, epsilon=0.1, kernel=rbf; total time=   0.1s\n",
      "[CV] END ....................C=0.01, epsilon=0.1, kernel=rbf; total time=   0.1s\n",
      "[CV] END ....................C=0.01, epsilon=0.1, kernel=rbf; total time=   0.1s\n",
      "[CV] END .................C=0.01, epsilon=0.1, kernel=linear; total time=   0.1s\n",
      "[CV] END .................C=0.01, epsilon=0.1, kernel=linear; total time=   0.0s\n",
      "[CV] END .................C=0.01, epsilon=0.1, kernel=linear; total time=   0.0s\n",
      "[CV] END ......................C=0.01, epsilon=1, kernel=rbf; total time=   0.1s\n",
      "[CV] END ......................C=0.01, epsilon=1, kernel=rbf; total time=   0.1s\n",
      "[CV] END ......................C=0.01, epsilon=1, kernel=rbf; total time=   0.1s\n",
      "[CV] END ...................C=0.01, epsilon=1, kernel=linear; total time=   0.0s\n",
      "[CV] END ...................C=0.01, epsilon=1, kernel=linear; total time=   0.0s\n",
      "[CV] END ...................C=0.01, epsilon=1, kernel=linear; total time=   0.0s\n",
      "[CV] END .....................C=0.01, epsilon=10, kernel=rbf; total time=   0.0s\n",
      "[CV] END .....................C=0.01, epsilon=10, kernel=rbf; total time=   0.0s\n",
      "[CV] END .....................C=0.01, epsilon=10, kernel=rbf; total time=   0.0s\n",
      "[CV] END ..................C=0.01, epsilon=10, kernel=linear; total time=   0.0s\n",
      "[CV] END ..................C=0.01, epsilon=10, kernel=linear; total time=   0.0s\n",
      "[CV] END ..................C=0.01, epsilon=10, kernel=linear; total time=   0.0s\n",
      "[CV] END ....................C=0.1, epsilon=0.01, kernel=rbf; total time=   0.1s\n",
      "[CV] END ....................C=0.1, epsilon=0.01, kernel=rbf; total time=   0.1s\n",
      "[CV] END ....................C=0.1, epsilon=0.01, kernel=rbf; total time=   0.1s\n",
      "[CV] END .................C=0.1, epsilon=0.01, kernel=linear; total time=   0.1s\n",
      "[CV] END .................C=0.1, epsilon=0.01, kernel=linear; total time=   0.1s\n",
      "[CV] END .................C=0.1, epsilon=0.01, kernel=linear; total time=   0.1s\n",
      "[CV] END .....................C=0.1, epsilon=0.1, kernel=rbf; total time=   0.1s\n",
      "[CV] END .....................C=0.1, epsilon=0.1, kernel=rbf; total time=   0.1s\n",
      "[CV] END .....................C=0.1, epsilon=0.1, kernel=rbf; total time=   0.1s\n",
      "[CV] END ..................C=0.1, epsilon=0.1, kernel=linear; total time=   0.1s\n",
      "[CV] END ..................C=0.1, epsilon=0.1, kernel=linear; total time=   0.1s\n",
      "[CV] END ..................C=0.1, epsilon=0.1, kernel=linear; total time=   0.1s\n",
      "[CV] END .......................C=0.1, epsilon=1, kernel=rbf; total time=   0.0s\n",
      "[CV] END .......................C=0.1, epsilon=1, kernel=rbf; total time=   0.1s\n",
      "[CV] END .......................C=0.1, epsilon=1, kernel=rbf; total time=   0.1s\n",
      "[CV] END ....................C=0.1, epsilon=1, kernel=linear; total time=   0.0s\n",
      "[CV] END ....................C=0.1, epsilon=1, kernel=linear; total time=   0.0s\n",
      "[CV] END ....................C=0.1, epsilon=1, kernel=linear; total time=   0.0s\n",
      "[CV] END ......................C=0.1, epsilon=10, kernel=rbf; total time=   0.0s\n",
      "[CV] END ......................C=0.1, epsilon=10, kernel=rbf; total time=   0.0s\n",
      "[CV] END ......................C=0.1, epsilon=10, kernel=rbf; total time=   0.0s\n",
      "[CV] END ...................C=0.1, epsilon=10, kernel=linear; total time=   0.0s\n",
      "[CV] END ...................C=0.1, epsilon=10, kernel=linear; total time=   0.0s\n",
      "[CV] END ...................C=0.1, epsilon=10, kernel=linear; total time=   0.0s\n",
      "[CV] END ......................C=1, epsilon=0.01, kernel=rbf; total time=   0.1s\n",
      "[CV] END ......................C=1, epsilon=0.01, kernel=rbf; total time=   0.1s\n",
      "[CV] END ......................C=1, epsilon=0.01, kernel=rbf; total time=   0.1s\n",
      "[CV] END ...................C=1, epsilon=0.01, kernel=linear; total time=   0.1s\n",
      "[CV] END ...................C=1, epsilon=0.01, kernel=linear; total time=   0.1s\n",
      "[CV] END ...................C=1, epsilon=0.01, kernel=linear; total time=   0.1s\n",
      "[CV] END .......................C=1, epsilon=0.1, kernel=rbf; total time=   0.1s\n",
      "[CV] END .......................C=1, epsilon=0.1, kernel=rbf; total time=   0.1s\n",
      "[CV] END .......................C=1, epsilon=0.1, kernel=rbf; total time=   0.1s\n",
      "[CV] END ....................C=1, epsilon=0.1, kernel=linear; total time=   0.1s\n",
      "[CV] END ....................C=1, epsilon=0.1, kernel=linear; total time=   0.1s\n",
      "[CV] END ....................C=1, epsilon=0.1, kernel=linear; total time=   0.1s\n",
      "[CV] END .........................C=1, epsilon=1, kernel=rbf; total time=   0.0s\n",
      "[CV] END .........................C=1, epsilon=1, kernel=rbf; total time=   0.0s\n",
      "[CV] END .........................C=1, epsilon=1, kernel=rbf; total time=   0.0s\n",
      "[CV] END ......................C=1, epsilon=1, kernel=linear; total time=   0.0s\n",
      "[CV] END ......................C=1, epsilon=1, kernel=linear; total time=   0.0s\n",
      "[CV] END ......................C=1, epsilon=1, kernel=linear; total time=   0.0s\n",
      "[CV] END ........................C=1, epsilon=10, kernel=rbf; total time=   0.0s\n",
      "[CV] END ........................C=1, epsilon=10, kernel=rbf; total time=   0.0s\n",
      "[CV] END ........................C=1, epsilon=10, kernel=rbf; total time=   0.0s\n",
      "[CV] END .....................C=1, epsilon=10, kernel=linear; total time=   0.0s\n",
      "[CV] END .....................C=1, epsilon=10, kernel=linear; total time=   0.0s\n",
      "[CV] END .....................C=1, epsilon=10, kernel=linear; total time=   0.0s\n",
      "[CV] END ....................C=100, epsilon=0.01, kernel=rbf; total time=   0.5s\n",
      "[CV] END ....................C=100, epsilon=0.01, kernel=rbf; total time=   0.5s\n",
      "[CV] END ....................C=100, epsilon=0.01, kernel=rbf; total time=   0.5s\n",
      "[CV] END .................C=100, epsilon=0.01, kernel=linear; total time=   2.6s\n",
      "[CV] END .................C=100, epsilon=0.01, kernel=linear; total time=   2.2s\n",
      "[CV] END .................C=100, epsilon=0.01, kernel=linear; total time=   2.5s\n",
      "[CV] END .....................C=100, epsilon=0.1, kernel=rbf; total time=   0.4s\n",
      "[CV] END .....................C=100, epsilon=0.1, kernel=rbf; total time=   0.4s\n",
      "[CV] END .....................C=100, epsilon=0.1, kernel=rbf; total time=   0.4s\n",
      "[CV] END ..................C=100, epsilon=0.1, kernel=linear; total time=   2.9s\n",
      "[CV] END ..................C=100, epsilon=0.1, kernel=linear; total time=   2.4s\n",
      "[CV] END ..................C=100, epsilon=0.1, kernel=linear; total time=   2.3s\n",
      "[CV] END .......................C=100, epsilon=1, kernel=rbf; total time=   0.1s\n",
      "[CV] END .......................C=100, epsilon=1, kernel=rbf; total time=   0.1s\n",
      "[CV] END .......................C=100, epsilon=1, kernel=rbf; total time=   0.1s\n",
      "[CV] END ....................C=100, epsilon=1, kernel=linear; total time=   0.5s\n",
      "[CV] END ....................C=100, epsilon=1, kernel=linear; total time=   0.4s\n",
      "[CV] END ....................C=100, epsilon=1, kernel=linear; total time=   0.7s\n",
      "[CV] END ......................C=100, epsilon=10, kernel=rbf; total time=   0.0s\n",
      "[CV] END ......................C=100, epsilon=10, kernel=rbf; total time=   0.0s\n",
      "[CV] END ......................C=100, epsilon=10, kernel=rbf; total time=   0.0s\n",
      "[CV] END ...................C=100, epsilon=10, kernel=linear; total time=   0.0s\n",
      "[CV] END ...................C=100, epsilon=10, kernel=linear; total time=   0.0s\n",
      "[CV] END ...................C=100, epsilon=10, kernel=linear; total time=   0.0s\n",
      "----------\n",
      "iter: 1\n",
      "n_candidates: 11\n",
      "n_resources: 3891\n",
      "Fitting 3 folds for each of 11 candidates, totalling 33 fits\n",
      "[CV] END .....................C=100, epsilon=0.1, kernel=rbf; total time=   3.0s\n",
      "[CV] END .....................C=100, epsilon=0.1, kernel=rbf; total time=   2.8s\n",
      "[CV] END .....................C=100, epsilon=0.1, kernel=rbf; total time=   2.8s\n",
      "[CV] END .......................C=100, epsilon=1, kernel=rbf; total time=   0.6s\n",
      "[CV] END .......................C=100, epsilon=1, kernel=rbf; total time=   0.7s\n",
      "[CV] END .......................C=100, epsilon=1, kernel=rbf; total time=   0.8s\n",
      "[CV] END ....................C=0.1, epsilon=1, kernel=linear; total time=   0.1s\n",
      "[CV] END ....................C=0.1, epsilon=1, kernel=linear; total time=   0.1s\n",
      "[CV] END ....................C=0.1, epsilon=1, kernel=linear; total time=   0.1s\n",
      "[CV] END ..................C=0.1, epsilon=0.1, kernel=linear; total time=   0.4s\n",
      "[CV] END ..................C=0.1, epsilon=0.1, kernel=linear; total time=   0.4s\n",
      "[CV] END ..................C=0.1, epsilon=0.1, kernel=linear; total time=   0.4s\n",
      "[CV] END .................C=0.1, epsilon=0.01, kernel=linear; total time=   0.4s\n",
      "[CV] END .................C=0.1, epsilon=0.01, kernel=linear; total time=   0.4s\n",
      "[CV] END .................C=0.1, epsilon=0.01, kernel=linear; total time=   0.4s\n",
      "[CV] END ...................C=1, epsilon=0.01, kernel=linear; total time=   0.8s\n",
      "[CV] END ...................C=1, epsilon=0.01, kernel=linear; total time=   0.7s\n",
      "[CV] END ...................C=1, epsilon=0.01, kernel=linear; total time=   0.8s\n",
      "[CV] END ....................C=1, epsilon=0.1, kernel=linear; total time=   0.8s\n",
      "[CV] END ....................C=1, epsilon=0.1, kernel=linear; total time=   0.7s\n",
      "[CV] END ....................C=1, epsilon=0.1, kernel=linear; total time=   0.7s\n",
      "[CV] END ..................C=100, epsilon=0.1, kernel=linear; total time=  17.9s\n",
      "[CV] END ..................C=100, epsilon=0.1, kernel=linear; total time=  15.2s\n",
      "[CV] END ..................C=100, epsilon=0.1, kernel=linear; total time=  17.5s\n",
      "[CV] END .................C=100, epsilon=0.01, kernel=linear; total time=  19.6s\n",
      "[CV] END .................C=100, epsilon=0.01, kernel=linear; total time=  17.3s\n",
      "[CV] END .................C=100, epsilon=0.01, kernel=linear; total time=  17.4s\n",
      "[CV] END ......................C=1, epsilon=1, kernel=linear; total time=   0.2s\n",
      "[CV] END ......................C=1, epsilon=1, kernel=linear; total time=   0.2s\n",
      "[CV] END ......................C=1, epsilon=1, kernel=linear; total time=   0.2s\n",
      "[CV] END ....................C=100, epsilon=1, kernel=linear; total time=   3.6s\n",
      "[CV] END ....................C=100, epsilon=1, kernel=linear; total time=   2.8s\n",
      "[CV] END ....................C=100, epsilon=1, kernel=linear; total time=   3.3s\n",
      "----------\n",
      "iter: 2\n",
      "n_candidates: 4\n",
      "n_resources: 11673\n",
      "Fitting 3 folds for each of 4 candidates, totalling 12 fits\n",
      "[CV] END ....................C=1, epsilon=0.1, kernel=linear; total time=   5.7s\n",
      "[CV] END ....................C=1, epsilon=0.1, kernel=linear; total time=   5.3s\n",
      "[CV] END ....................C=1, epsilon=0.1, kernel=linear; total time=   5.1s\n",
      "[CV] END ..................C=100, epsilon=0.1, kernel=linear; total time= 2.4min\n",
      "[CV] END ..................C=100, epsilon=0.1, kernel=linear; total time= 2.3min\n",
      "[CV] END ..................C=100, epsilon=0.1, kernel=linear; total time= 2.4min\n",
      "[CV] END ....................C=100, epsilon=1, kernel=linear; total time=  24.4s\n",
      "[CV] END ....................C=100, epsilon=1, kernel=linear; total time=  22.9s\n",
      "[CV] END ....................C=100, epsilon=1, kernel=linear; total time=  28.1s\n",
      "[CV] END ......................C=1, epsilon=1, kernel=linear; total time=   1.4s\n",
      "[CV] END ......................C=1, epsilon=1, kernel=linear; total time=   1.3s\n",
      "[CV] END ......................C=1, epsilon=1, kernel=linear; total time=   1.6s\n",
      "----------\n",
      "iter: 3\n",
      "n_candidates: 2\n",
      "n_resources: 35019\n",
      "Fitting 3 folds for each of 2 candidates, totalling 6 fits\n",
      "[CV] END ....................C=100, epsilon=1, kernel=linear; total time= 3.3min\n",
      "[CV] END ....................C=100, epsilon=1, kernel=linear; total time= 3.2min\n",
      "[CV] END ....................C=100, epsilon=1, kernel=linear; total time= 3.6min\n",
      "[CV] END ......................C=1, epsilon=1, kernel=linear; total time=  10.6s\n",
      "[CV] END ......................C=1, epsilon=1, kernel=linear; total time=  10.3s\n",
      "[CV] END ......................C=1, epsilon=1, kernel=linear; total time=  10.8s\n"
     ]
    },
    {
     "data": {
      "text/html": [
       "\n",
       "  <div id=\"df-44b20556-ddd0-41e3-aacd-41633e69378c\">\n",
       "    <div class=\"colab-df-container\">\n",
       "      <div>\n",
       "<style scoped>\n",
       "    .dataframe tbody tr th:only-of-type {\n",
       "        vertical-align: middle;\n",
       "    }\n",
       "\n",
       "    .dataframe tbody tr th {\n",
       "        vertical-align: top;\n",
       "    }\n",
       "\n",
       "    .dataframe thead th {\n",
       "        text-align: right;\n",
       "    }\n",
       "</style>\n",
       "<table border=\"1\" class=\"dataframe\">\n",
       "  <thead>\n",
       "    <tr style=\"text-align: right;\">\n",
       "      <th></th>\n",
       "      <th>param_kernel</th>\n",
       "      <th>param_C</th>\n",
       "      <th>param_epsilon</th>\n",
       "      <th>mean_test_score</th>\n",
       "      <th>rank_test_score</th>\n",
       "    </tr>\n",
       "  </thead>\n",
       "  <tbody>\n",
       "    <tr>\n",
       "      <th>41</th>\n",
       "      <td>linear</td>\n",
       "      <td>1</td>\n",
       "      <td>1</td>\n",
       "      <td>0.966872</td>\n",
       "      <td>1</td>\n",
       "    </tr>\n",
       "    <tr>\n",
       "      <th>42</th>\n",
       "      <td>linear</td>\n",
       "      <td>100</td>\n",
       "      <td>1</td>\n",
       "      <td>0.966845</td>\n",
       "      <td>2</td>\n",
       "    </tr>\n",
       "    <tr>\n",
       "      <th>39</th>\n",
       "      <td>linear</td>\n",
       "      <td>100</td>\n",
       "      <td>0.1</td>\n",
       "      <td>0.966720</td>\n",
       "      <td>3</td>\n",
       "    </tr>\n",
       "    <tr>\n",
       "      <th>38</th>\n",
       "      <td>linear</td>\n",
       "      <td>1</td>\n",
       "      <td>0.1</td>\n",
       "      <td>0.966691</td>\n",
       "      <td>4</td>\n",
       "    </tr>\n",
       "    <tr>\n",
       "      <th>40</th>\n",
       "      <td>linear</td>\n",
       "      <td>100</td>\n",
       "      <td>0.01</td>\n",
       "      <td>0.966658</td>\n",
       "      <td>5</td>\n",
       "    </tr>\n",
       "    <tr>\n",
       "      <th>37</th>\n",
       "      <td>linear</td>\n",
       "      <td>1</td>\n",
       "      <td>0.01</td>\n",
       "      <td>0.966652</td>\n",
       "      <td>6</td>\n",
       "    </tr>\n",
       "    <tr>\n",
       "      <th>35</th>\n",
       "      <td>linear</td>\n",
       "      <td>0.1</td>\n",
       "      <td>0.1</td>\n",
       "      <td>0.966209</td>\n",
       "      <td>7</td>\n",
       "    </tr>\n",
       "    <tr>\n",
       "      <th>34</th>\n",
       "      <td>linear</td>\n",
       "      <td>0.1</td>\n",
       "      <td>1</td>\n",
       "      <td>0.966158</td>\n",
       "      <td>8</td>\n",
       "    </tr>\n",
       "    <tr>\n",
       "      <th>36</th>\n",
       "      <td>linear</td>\n",
       "      <td>0.1</td>\n",
       "      <td>0.01</td>\n",
       "      <td>0.966140</td>\n",
       "      <td>9</td>\n",
       "    </tr>\n",
       "    <tr>\n",
       "      <th>47</th>\n",
       "      <td>linear</td>\n",
       "      <td>100</td>\n",
       "      <td>1</td>\n",
       "      <td>0.963823</td>\n",
       "      <td>10</td>\n",
       "    </tr>\n",
       "    <tr>\n",
       "      <th>48</th>\n",
       "      <td>linear</td>\n",
       "      <td>1</td>\n",
       "      <td>1</td>\n",
       "      <td>0.963817</td>\n",
       "      <td>11</td>\n",
       "    </tr>\n",
       "    <tr>\n",
       "      <th>46</th>\n",
       "      <td>linear</td>\n",
       "      <td>1</td>\n",
       "      <td>1</td>\n",
       "      <td>0.963770</td>\n",
       "      <td>12</td>\n",
       "    </tr>\n",
       "    <tr>\n",
       "      <th>45</th>\n",
       "      <td>linear</td>\n",
       "      <td>100</td>\n",
       "      <td>1</td>\n",
       "      <td>0.963764</td>\n",
       "      <td>13</td>\n",
       "    </tr>\n",
       "    <tr>\n",
       "      <th>44</th>\n",
       "      <td>linear</td>\n",
       "      <td>100</td>\n",
       "      <td>0.1</td>\n",
       "      <td>0.963306</td>\n",
       "      <td>14</td>\n",
       "    </tr>\n",
       "    <tr>\n",
       "      <th>43</th>\n",
       "      <td>linear</td>\n",
       "      <td>1</td>\n",
       "      <td>0.1</td>\n",
       "      <td>0.963281</td>\n",
       "      <td>15</td>\n",
       "    </tr>\n",
       "    <tr>\n",
       "      <th>29</th>\n",
       "      <td>linear</td>\n",
       "      <td>100</td>\n",
       "      <td>1</td>\n",
       "      <td>0.962214</td>\n",
       "      <td>16</td>\n",
       "    </tr>\n",
       "    <tr>\n",
       "      <th>21</th>\n",
       "      <td>linear</td>\n",
       "      <td>1</td>\n",
       "      <td>1</td>\n",
       "      <td>0.962133</td>\n",
       "      <td>17</td>\n",
       "    </tr>\n",
       "    <tr>\n",
       "      <th>25</th>\n",
       "      <td>linear</td>\n",
       "      <td>100</td>\n",
       "      <td>0.01</td>\n",
       "      <td>0.962109</td>\n",
       "      <td>18</td>\n",
       "    </tr>\n",
       "    <tr>\n",
       "      <th>27</th>\n",
       "      <td>linear</td>\n",
       "      <td>100</td>\n",
       "      <td>0.1</td>\n",
       "      <td>0.962090</td>\n",
       "      <td>19</td>\n",
       "    </tr>\n",
       "    <tr>\n",
       "      <th>19</th>\n",
       "      <td>linear</td>\n",
       "      <td>1</td>\n",
       "      <td>0.1</td>\n",
       "      <td>0.961728</td>\n",
       "      <td>20</td>\n",
       "    </tr>\n",
       "    <tr>\n",
       "      <th>17</th>\n",
       "      <td>linear</td>\n",
       "      <td>1</td>\n",
       "      <td>0.01</td>\n",
       "      <td>0.961704</td>\n",
       "      <td>21</td>\n",
       "    </tr>\n",
       "    <tr>\n",
       "      <th>9</th>\n",
       "      <td>linear</td>\n",
       "      <td>0.1</td>\n",
       "      <td>0.01</td>\n",
       "      <td>0.957069</td>\n",
       "      <td>22</td>\n",
       "    </tr>\n",
       "    <tr>\n",
       "      <th>11</th>\n",
       "      <td>linear</td>\n",
       "      <td>0.1</td>\n",
       "      <td>0.1</td>\n",
       "      <td>0.956852</td>\n",
       "      <td>23</td>\n",
       "    </tr>\n",
       "    <tr>\n",
       "      <th>13</th>\n",
       "      <td>linear</td>\n",
       "      <td>0.1</td>\n",
       "      <td>1</td>\n",
       "      <td>0.956592</td>\n",
       "      <td>24</td>\n",
       "    </tr>\n",
       "    <tr>\n",
       "      <th>33</th>\n",
       "      <td>rbf</td>\n",
       "      <td>100</td>\n",
       "      <td>1</td>\n",
       "      <td>0.955802</td>\n",
       "      <td>25</td>\n",
       "    </tr>\n",
       "    <tr>\n",
       "      <th>32</th>\n",
       "      <td>rbf</td>\n",
       "      <td>100</td>\n",
       "      <td>0.1</td>\n",
       "      <td>0.954373</td>\n",
       "      <td>26</td>\n",
       "    </tr>\n",
       "    <tr>\n",
       "      <th>28</th>\n",
       "      <td>rbf</td>\n",
       "      <td>100</td>\n",
       "      <td>1</td>\n",
       "      <td>0.942863</td>\n",
       "      <td>27</td>\n",
       "    </tr>\n",
       "    <tr>\n",
       "      <th>26</th>\n",
       "      <td>rbf</td>\n",
       "      <td>100</td>\n",
       "      <td>0.1</td>\n",
       "      <td>0.937052</td>\n",
       "      <td>28</td>\n",
       "    </tr>\n",
       "    <tr>\n",
       "      <th>24</th>\n",
       "      <td>rbf</td>\n",
       "      <td>100</td>\n",
       "      <td>0.01</td>\n",
       "      <td>0.935138</td>\n",
       "      <td>29</td>\n",
       "    </tr>\n",
       "    <tr>\n",
       "      <th>16</th>\n",
       "      <td>rbf</td>\n",
       "      <td>1</td>\n",
       "      <td>0.01</td>\n",
       "      <td>0.925090</td>\n",
       "      <td>30</td>\n",
       "    </tr>\n",
       "    <tr>\n",
       "      <th>18</th>\n",
       "      <td>rbf</td>\n",
       "      <td>1</td>\n",
       "      <td>0.1</td>\n",
       "      <td>0.924933</td>\n",
       "      <td>31</td>\n",
       "    </tr>\n",
       "    <tr>\n",
       "      <th>20</th>\n",
       "      <td>rbf</td>\n",
       "      <td>1</td>\n",
       "      <td>1</td>\n",
       "      <td>0.914883</td>\n",
       "      <td>32</td>\n",
       "    </tr>\n",
       "    <tr>\n",
       "      <th>3</th>\n",
       "      <td>linear</td>\n",
       "      <td>0.01</td>\n",
       "      <td>0.1</td>\n",
       "      <td>0.911735</td>\n",
       "      <td>33</td>\n",
       "    </tr>\n",
       "    <tr>\n",
       "      <th>1</th>\n",
       "      <td>linear</td>\n",
       "      <td>0.01</td>\n",
       "      <td>0.01</td>\n",
       "      <td>0.911669</td>\n",
       "      <td>34</td>\n",
       "    </tr>\n",
       "    <tr>\n",
       "      <th>5</th>\n",
       "      <td>linear</td>\n",
       "      <td>0.01</td>\n",
       "      <td>1</td>\n",
       "      <td>0.903022</td>\n",
       "      <td>35</td>\n",
       "    </tr>\n",
       "    <tr>\n",
       "      <th>8</th>\n",
       "      <td>rbf</td>\n",
       "      <td>0.1</td>\n",
       "      <td>0.01</td>\n",
       "      <td>0.709589</td>\n",
       "      <td>36</td>\n",
       "    </tr>\n",
       "    <tr>\n",
       "      <th>10</th>\n",
       "      <td>rbf</td>\n",
       "      <td>0.1</td>\n",
       "      <td>0.1</td>\n",
       "      <td>0.709516</td>\n",
       "      <td>37</td>\n",
       "    </tr>\n",
       "    <tr>\n",
       "      <th>12</th>\n",
       "      <td>rbf</td>\n",
       "      <td>0.1</td>\n",
       "      <td>1</td>\n",
       "      <td>0.699850</td>\n",
       "      <td>38</td>\n",
       "    </tr>\n",
       "    <tr>\n",
       "      <th>4</th>\n",
       "      <td>rbf</td>\n",
       "      <td>0.01</td>\n",
       "      <td>1</td>\n",
       "      <td>0.142228</td>\n",
       "      <td>39</td>\n",
       "    </tr>\n",
       "    <tr>\n",
       "      <th>0</th>\n",
       "      <td>rbf</td>\n",
       "      <td>0.01</td>\n",
       "      <td>0.01</td>\n",
       "      <td>0.130842</td>\n",
       "      <td>40</td>\n",
       "    </tr>\n",
       "    <tr>\n",
       "      <th>2</th>\n",
       "      <td>rbf</td>\n",
       "      <td>0.01</td>\n",
       "      <td>0.1</td>\n",
       "      <td>0.128114</td>\n",
       "      <td>41</td>\n",
       "    </tr>\n",
       "    <tr>\n",
       "      <th>31</th>\n",
       "      <td>linear</td>\n",
       "      <td>100</td>\n",
       "      <td>10</td>\n",
       "      <td>-0.252522</td>\n",
       "      <td>42</td>\n",
       "    </tr>\n",
       "    <tr>\n",
       "      <th>23</th>\n",
       "      <td>linear</td>\n",
       "      <td>1</td>\n",
       "      <td>10</td>\n",
       "      <td>-0.252522</td>\n",
       "      <td>42</td>\n",
       "    </tr>\n",
       "    <tr>\n",
       "      <th>7</th>\n",
       "      <td>linear</td>\n",
       "      <td>0.01</td>\n",
       "      <td>10</td>\n",
       "      <td>-0.258179</td>\n",
       "      <td>44</td>\n",
       "    </tr>\n",
       "    <tr>\n",
       "      <th>15</th>\n",
       "      <td>linear</td>\n",
       "      <td>0.1</td>\n",
       "      <td>10</td>\n",
       "      <td>-0.262605</td>\n",
       "      <td>45</td>\n",
       "    </tr>\n",
       "    <tr>\n",
       "      <th>30</th>\n",
       "      <td>rbf</td>\n",
       "      <td>100</td>\n",
       "      <td>10</td>\n",
       "      <td>-0.274107</td>\n",
       "      <td>46</td>\n",
       "    </tr>\n",
       "    <tr>\n",
       "      <th>22</th>\n",
       "      <td>rbf</td>\n",
       "      <td>1</td>\n",
       "      <td>10</td>\n",
       "      <td>-0.275985</td>\n",
       "      <td>47</td>\n",
       "    </tr>\n",
       "    <tr>\n",
       "      <th>14</th>\n",
       "      <td>rbf</td>\n",
       "      <td>0.1</td>\n",
       "      <td>10</td>\n",
       "      <td>-0.326770</td>\n",
       "      <td>48</td>\n",
       "    </tr>\n",
       "    <tr>\n",
       "      <th>6</th>\n",
       "      <td>rbf</td>\n",
       "      <td>0.01</td>\n",
       "      <td>10</td>\n",
       "      <td>-0.357228</td>\n",
       "      <td>49</td>\n",
       "    </tr>\n",
       "  </tbody>\n",
       "</table>\n",
       "</div>\n",
       "      <button class=\"colab-df-convert\" onclick=\"convertToInteractive('df-44b20556-ddd0-41e3-aacd-41633e69378c')\"\n",
       "              title=\"Convert this dataframe to an interactive table.\"\n",
       "              style=\"display:none;\">\n",
       "        \n",
       "  <svg xmlns=\"http://www.w3.org/2000/svg\" height=\"24px\"viewBox=\"0 0 24 24\"\n",
       "       width=\"24px\">\n",
       "    <path d=\"M0 0h24v24H0V0z\" fill=\"none\"/>\n",
       "    <path d=\"M18.56 5.44l.94 2.06.94-2.06 2.06-.94-2.06-.94-.94-2.06-.94 2.06-2.06.94zm-11 1L8.5 8.5l.94-2.06 2.06-.94-2.06-.94L8.5 2.5l-.94 2.06-2.06.94zm10 10l.94 2.06.94-2.06 2.06-.94-2.06-.94-.94-2.06-.94 2.06-2.06.94z\"/><path d=\"M17.41 7.96l-1.37-1.37c-.4-.4-.92-.59-1.43-.59-.52 0-1.04.2-1.43.59L10.3 9.45l-7.72 7.72c-.78.78-.78 2.05 0 2.83L4 21.41c.39.39.9.59 1.41.59.51 0 1.02-.2 1.41-.59l7.78-7.78 2.81-2.81c.8-.78.8-2.07 0-2.86zM5.41 20L4 18.59l7.72-7.72 1.47 1.35L5.41 20z\"/>\n",
       "  </svg>\n",
       "      </button>\n",
       "      \n",
       "  <style>\n",
       "    .colab-df-container {\n",
       "      display:flex;\n",
       "      flex-wrap:wrap;\n",
       "      gap: 12px;\n",
       "    }\n",
       "\n",
       "    .colab-df-convert {\n",
       "      background-color: #E8F0FE;\n",
       "      border: none;\n",
       "      border-radius: 50%;\n",
       "      cursor: pointer;\n",
       "      display: none;\n",
       "      fill: #1967D2;\n",
       "      height: 32px;\n",
       "      padding: 0 0 0 0;\n",
       "      width: 32px;\n",
       "    }\n",
       "\n",
       "    .colab-df-convert:hover {\n",
       "      background-color: #E2EBFA;\n",
       "      box-shadow: 0px 1px 2px rgba(60, 64, 67, 0.3), 0px 1px 3px 1px rgba(60, 64, 67, 0.15);\n",
       "      fill: #174EA6;\n",
       "    }\n",
       "\n",
       "    [theme=dark] .colab-df-convert {\n",
       "      background-color: #3B4455;\n",
       "      fill: #D2E3FC;\n",
       "    }\n",
       "\n",
       "    [theme=dark] .colab-df-convert:hover {\n",
       "      background-color: #434B5C;\n",
       "      box-shadow: 0px 1px 3px 1px rgba(0, 0, 0, 0.15);\n",
       "      filter: drop-shadow(0px 1px 2px rgba(0, 0, 0, 0.3));\n",
       "      fill: #FFFFFF;\n",
       "    }\n",
       "  </style>\n",
       "\n",
       "      <script>\n",
       "        const buttonEl =\n",
       "          document.querySelector('#df-44b20556-ddd0-41e3-aacd-41633e69378c button.colab-df-convert');\n",
       "        buttonEl.style.display =\n",
       "          google.colab.kernel.accessAllowed ? 'block' : 'none';\n",
       "\n",
       "        async function convertToInteractive(key) {\n",
       "          const element = document.querySelector('#df-44b20556-ddd0-41e3-aacd-41633e69378c');\n",
       "          const dataTable =\n",
       "            await google.colab.kernel.invokeFunction('convertToInteractive',\n",
       "                                                     [key], {});\n",
       "          if (!dataTable) return;\n",
       "\n",
       "          const docLinkHtml = 'Like what you see? Visit the ' +\n",
       "            '<a target=\"_blank\" href=https://colab.research.google.com/notebooks/data_table.ipynb>data table notebook</a>'\n",
       "            + ' to learn more about interactive tables.';\n",
       "          element.innerHTML = '';\n",
       "          dataTable['output_type'] = 'display_data';\n",
       "          await google.colab.output.renderOutput(dataTable, element);\n",
       "          const docLink = document.createElement('div');\n",
       "          docLink.innerHTML = docLinkHtml;\n",
       "          element.appendChild(docLink);\n",
       "        }\n",
       "      </script>\n",
       "    </div>\n",
       "  </div>\n",
       "  "
      ],
      "text/plain": [
       "   param_kernel param_C param_epsilon  mean_test_score  rank_test_score\n",
       "41       linear       1             1         0.966872                1\n",
       "42       linear     100             1         0.966845                2\n",
       "39       linear     100           0.1         0.966720                3\n",
       "38       linear       1           0.1         0.966691                4\n",
       "40       linear     100          0.01         0.966658                5\n",
       "37       linear       1          0.01         0.966652                6\n",
       "35       linear     0.1           0.1         0.966209                7\n",
       "34       linear     0.1             1         0.966158                8\n",
       "36       linear     0.1          0.01         0.966140                9\n",
       "47       linear     100             1         0.963823               10\n",
       "48       linear       1             1         0.963817               11\n",
       "46       linear       1             1         0.963770               12\n",
       "45       linear     100             1         0.963764               13\n",
       "44       linear     100           0.1         0.963306               14\n",
       "43       linear       1           0.1         0.963281               15\n",
       "29       linear     100             1         0.962214               16\n",
       "21       linear       1             1         0.962133               17\n",
       "25       linear     100          0.01         0.962109               18\n",
       "27       linear     100           0.1         0.962090               19\n",
       "19       linear       1           0.1         0.961728               20\n",
       "17       linear       1          0.01         0.961704               21\n",
       "9        linear     0.1          0.01         0.957069               22\n",
       "11       linear     0.1           0.1         0.956852               23\n",
       "13       linear     0.1             1         0.956592               24\n",
       "33          rbf     100             1         0.955802               25\n",
       "32          rbf     100           0.1         0.954373               26\n",
       "28          rbf     100             1         0.942863               27\n",
       "26          rbf     100           0.1         0.937052               28\n",
       "24          rbf     100          0.01         0.935138               29\n",
       "16          rbf       1          0.01         0.925090               30\n",
       "18          rbf       1           0.1         0.924933               31\n",
       "20          rbf       1             1         0.914883               32\n",
       "3        linear    0.01           0.1         0.911735               33\n",
       "1        linear    0.01          0.01         0.911669               34\n",
       "5        linear    0.01             1         0.903022               35\n",
       "8           rbf     0.1          0.01         0.709589               36\n",
       "10          rbf     0.1           0.1         0.709516               37\n",
       "12          rbf     0.1             1         0.699850               38\n",
       "4           rbf    0.01             1         0.142228               39\n",
       "0           rbf    0.01          0.01         0.130842               40\n",
       "2           rbf    0.01           0.1         0.128114               41\n",
       "31       linear     100            10        -0.252522               42\n",
       "23       linear       1            10        -0.252522               42\n",
       "7        linear    0.01            10        -0.258179               44\n",
       "15       linear     0.1            10        -0.262605               45\n",
       "30          rbf     100            10        -0.274107               46\n",
       "22          rbf       1            10        -0.275985               47\n",
       "14          rbf     0.1            10        -0.326770               48\n",
       "6           rbf    0.01            10        -0.357228               49"
      ]
     },
     "execution_count": 9,
     "metadata": {},
     "output_type": "execute_result"
    }
   ],
   "source": [
    "SVM = HalvingGridSearchCV(svm.SVR(gamma='scale'), {\n",
    "    'C': [0.01, 0.1, 1, 100],\n",
    "    'kernel': ['rbf','linear'],\n",
    "    'epsilon': [0.01,0.1,1,10]\n",
    "}, cv=3, verbose=2, return_train_score=False)\n",
    "SVM.fit(X_scaled, y)\n",
    "\n",
    "svm_results = pd.DataFrame(SVM.cv_results_)\n",
    "svmresults = svm_results[['param_kernel','param_C','param_epsilon', 'mean_test_score', 'rank_test_score']].sort_values(by=['rank_test_score'])\n",
    "svmresults"
   ]
  },
  {
   "cell_type": "markdown",
   "metadata": {
    "id": "-MFY8W7-eGW9"
   },
   "source": [
    "# Linear Regression\n"
   ]
  },
  {
   "cell_type": "code",
   "execution_count": 20,
   "metadata": {
    "id": "tg_Z7awlPAL9"
   },
   "outputs": [
    {
     "name": "stderr",
     "output_type": "stream",
     "text": [
      "C:\\Users\\salda\\Anaconda3\\lib\\site-packages\\sklearn\\model_selection\\_validation.py:593: UserWarning: With alpha=0, this algorithm does not converge well. You are advised to use the LinearRegression estimator\n",
      "  estimator.fit(X_train, y_train, **fit_params)\n",
      "C:\\Users\\salda\\Anaconda3\\lib\\site-packages\\sklearn\\linear_model\\_coordinate_descent.py:530: UserWarning: Coordinate descent with no regularization may lead to unexpected results and is discouraged.\n",
      "  model = cd_fast.enet_coordinate_descent(\n",
      "C:\\Users\\salda\\Anaconda3\\lib\\site-packages\\sklearn\\linear_model\\_coordinate_descent.py:530: ConvergenceWarning: Objective did not converge. You might want to increase the number of iterations. Duality gap: 16810.097947232618, tolerance: 94.432955791459\n",
      "  model = cd_fast.enet_coordinate_descent(\n",
      "C:\\Users\\salda\\Anaconda3\\lib\\site-packages\\sklearn\\model_selection\\_validation.py:593: UserWarning: With alpha=0, this algorithm does not converge well. You are advised to use the LinearRegression estimator\n",
      "  estimator.fit(X_train, y_train, **fit_params)\n",
      "C:\\Users\\salda\\Anaconda3\\lib\\site-packages\\sklearn\\linear_model\\_coordinate_descent.py:530: UserWarning: Coordinate descent with no regularization may lead to unexpected results and is discouraged.\n",
      "  model = cd_fast.enet_coordinate_descent(\n",
      "C:\\Users\\salda\\Anaconda3\\lib\\site-packages\\sklearn\\linear_model\\_coordinate_descent.py:530: ConvergenceWarning: Objective did not converge. You might want to increase the number of iterations. Duality gap: 17060.77661351521, tolerance: 98.32312182332687\n",
      "  model = cd_fast.enet_coordinate_descent(\n",
      "C:\\Users\\salda\\Anaconda3\\lib\\site-packages\\sklearn\\model_selection\\_validation.py:593: UserWarning: With alpha=0, this algorithm does not converge well. You are advised to use the LinearRegression estimator\n",
      "  estimator.fit(X_train, y_train, **fit_params)\n",
      "C:\\Users\\salda\\Anaconda3\\lib\\site-packages\\sklearn\\linear_model\\_coordinate_descent.py:530: UserWarning: Coordinate descent with no regularization may lead to unexpected results and is discouraged.\n",
      "  model = cd_fast.enet_coordinate_descent(\n",
      "C:\\Users\\salda\\Anaconda3\\lib\\site-packages\\sklearn\\linear_model\\_coordinate_descent.py:530: ConvergenceWarning: Objective did not converge. You might want to increase the number of iterations. Duality gap: 17184.60215783879, tolerance: 100.54019200287762\n",
      "  model = cd_fast.enet_coordinate_descent(\n",
      "C:\\Users\\salda\\Anaconda3\\lib\\site-packages\\sklearn\\model_selection\\_validation.py:593: UserWarning: With alpha=0, this algorithm does not converge well. You are advised to use the LinearRegression estimator\n",
      "  estimator.fit(X_train, y_train, **fit_params)\n",
      "C:\\Users\\salda\\Anaconda3\\lib\\site-packages\\sklearn\\linear_model\\_coordinate_descent.py:530: UserWarning: Coordinate descent with no regularization may lead to unexpected results and is discouraged.\n",
      "  model = cd_fast.enet_coordinate_descent(\n",
      "C:\\Users\\salda\\Anaconda3\\lib\\site-packages\\sklearn\\linear_model\\_coordinate_descent.py:530: ConvergenceWarning: Objective did not converge. You might want to increase the number of iterations. Duality gap: 17326.67089106073, tolerance: 96.91353187949206\n",
      "  model = cd_fast.enet_coordinate_descent(\n",
      "C:\\Users\\salda\\Anaconda3\\lib\\site-packages\\sklearn\\model_selection\\_validation.py:593: UserWarning: With alpha=0, this algorithm does not converge well. You are advised to use the LinearRegression estimator\n",
      "  estimator.fit(X_train, y_train, **fit_params)\n",
      "C:\\Users\\salda\\Anaconda3\\lib\\site-packages\\sklearn\\linear_model\\_coordinate_descent.py:530: UserWarning: Coordinate descent with no regularization may lead to unexpected results and is discouraged.\n",
      "  model = cd_fast.enet_coordinate_descent(\n",
      "C:\\Users\\salda\\Anaconda3\\lib\\site-packages\\sklearn\\linear_model\\_coordinate_descent.py:530: ConvergenceWarning: Objective did not converge. You might want to increase the number of iterations. Duality gap: 17197.402559799135, tolerance: 96.73891091368922\n",
      "  model = cd_fast.enet_coordinate_descent(\n",
      "C:\\Users\\salda\\Anaconda3\\lib\\site-packages\\sklearn\\model_selection\\_validation.py:593: UserWarning: With alpha=0, this algorithm does not converge well. You are advised to use the LinearRegression estimator\n",
      "  estimator.fit(X_train, y_train, **fit_params)\n",
      "C:\\Users\\salda\\Anaconda3\\lib\\site-packages\\sklearn\\linear_model\\_coordinate_descent.py:530: UserWarning: Coordinate descent with no regularization may lead to unexpected results and is discouraged.\n",
      "  model = cd_fast.enet_coordinate_descent(\n",
      "C:\\Users\\salda\\Anaconda3\\lib\\site-packages\\sklearn\\linear_model\\_coordinate_descent.py:530: ConvergenceWarning: Objective did not converge. You might want to increase the number of iterations. Duality gap: 17132.16477988736, tolerance: 92.76530871520241\n",
      "  model = cd_fast.enet_coordinate_descent(\n",
      "C:\\Users\\salda\\Anaconda3\\lib\\site-packages\\sklearn\\model_selection\\_validation.py:593: UserWarning: With alpha=0, this algorithm does not converge well. You are advised to use the LinearRegression estimator\n",
      "  estimator.fit(X_train, y_train, **fit_params)\n",
      "C:\\Users\\salda\\Anaconda3\\lib\\site-packages\\sklearn\\linear_model\\_coordinate_descent.py:530: UserWarning: Coordinate descent with no regularization may lead to unexpected results and is discouraged.\n",
      "  model = cd_fast.enet_coordinate_descent(\n",
      "C:\\Users\\salda\\Anaconda3\\lib\\site-packages\\sklearn\\linear_model\\_coordinate_descent.py:530: ConvergenceWarning: Objective did not converge. You might want to increase the number of iterations. Duality gap: 17560.95282188974, tolerance: 99.48234467111197\n",
      "  model = cd_fast.enet_coordinate_descent(\n",
      "C:\\Users\\salda\\Anaconda3\\lib\\site-packages\\sklearn\\model_selection\\_validation.py:593: UserWarning: With alpha=0, this algorithm does not converge well. You are advised to use the LinearRegression estimator\n",
      "  estimator.fit(X_train, y_train, **fit_params)\n",
      "C:\\Users\\salda\\Anaconda3\\lib\\site-packages\\sklearn\\linear_model\\_coordinate_descent.py:530: UserWarning: Coordinate descent with no regularization may lead to unexpected results and is discouraged.\n",
      "  model = cd_fast.enet_coordinate_descent(\n",
      "C:\\Users\\salda\\Anaconda3\\lib\\site-packages\\sklearn\\linear_model\\_coordinate_descent.py:530: ConvergenceWarning: Objective did not converge. You might want to increase the number of iterations. Duality gap: 17507.526217601146, tolerance: 100.5110297553483\n",
      "  model = cd_fast.enet_coordinate_descent(\n",
      "C:\\Users\\salda\\Anaconda3\\lib\\site-packages\\sklearn\\model_selection\\_validation.py:593: UserWarning: With alpha=0, this algorithm does not converge well. You are advised to use the LinearRegression estimator\n",
      "  estimator.fit(X_train, y_train, **fit_params)\n",
      "C:\\Users\\salda\\Anaconda3\\lib\\site-packages\\sklearn\\linear_model\\_coordinate_descent.py:530: UserWarning: Coordinate descent with no regularization may lead to unexpected results and is discouraged.\n",
      "  model = cd_fast.enet_coordinate_descent(\n",
      "C:\\Users\\salda\\Anaconda3\\lib\\site-packages\\sklearn\\linear_model\\_coordinate_descent.py:530: ConvergenceWarning: Objective did not converge. You might want to increase the number of iterations. Duality gap: 17428.43222955642, tolerance: 100.0269594026298\n",
      "  model = cd_fast.enet_coordinate_descent(\n",
      "C:\\Users\\salda\\Anaconda3\\lib\\site-packages\\sklearn\\model_selection\\_validation.py:593: UserWarning: With alpha=0, this algorithm does not converge well. You are advised to use the LinearRegression estimator\n",
      "  estimator.fit(X_train, y_train, **fit_params)\n",
      "C:\\Users\\salda\\Anaconda3\\lib\\site-packages\\sklearn\\linear_model\\_coordinate_descent.py:530: UserWarning: Coordinate descent with no regularization may lead to unexpected results and is discouraged.\n",
      "  model = cd_fast.enet_coordinate_descent(\n",
      "C:\\Users\\salda\\Anaconda3\\lib\\site-packages\\sklearn\\linear_model\\_coordinate_descent.py:530: ConvergenceWarning: Objective did not converge. You might want to increase the number of iterations. Duality gap: 17008.325754463407, tolerance: 97.93095493448696\n",
      "  model = cd_fast.enet_coordinate_descent(\n",
      "C:\\Users\\salda\\Anaconda3\\lib\\site-packages\\sklearn\\model_selection\\_search.py:880: UserWarning: With alpha=0, this algorithm does not converge well. You are advised to use the LinearRegression estimator\n",
      "  self.best_estimator_.fit(X, y, **fit_params)\n",
      "C:\\Users\\salda\\Anaconda3\\lib\\site-packages\\sklearn\\linear_model\\_coordinate_descent.py:530: UserWarning: Coordinate descent with no regularization may lead to unexpected results and is discouraged.\n",
      "  model = cd_fast.enet_coordinate_descent(\n"
     ]
    },
    {
     "name": "stderr",
     "output_type": "stream",
     "text": [
      "C:\\Users\\salda\\Anaconda3\\lib\\site-packages\\sklearn\\linear_model\\_coordinate_descent.py:530: ConvergenceWarning: Objective did not converge. You might want to increase the number of iterations. Duality gap: 19138.339015388174, tolerance: 108.74186115279389\n",
      "  model = cd_fast.enet_coordinate_descent(\n"
     ]
    },
    {
     "data": {
      "text/html": [
       "<div>\n",
       "<style scoped>\n",
       "    .dataframe tbody tr th:only-of-type {\n",
       "        vertical-align: middle;\n",
       "    }\n",
       "\n",
       "    .dataframe tbody tr th {\n",
       "        vertical-align: top;\n",
       "    }\n",
       "\n",
       "    .dataframe thead th {\n",
       "        text-align: right;\n",
       "    }\n",
       "</style>\n",
       "<table border=\"1\" class=\"dataframe\">\n",
       "  <thead>\n",
       "    <tr style=\"text-align: right;\">\n",
       "      <th></th>\n",
       "      <th>params</th>\n",
       "      <th>mean_test_score</th>\n",
       "      <th>rank_test_score</th>\n",
       "    </tr>\n",
       "  </thead>\n",
       "  <tbody>\n",
       "    <tr>\n",
       "      <th>0</th>\n",
       "      <td>{'alpha': 0}</td>\n",
       "      <td>0.960060</td>\n",
       "      <td>1</td>\n",
       "    </tr>\n",
       "    <tr>\n",
       "      <th>1</th>\n",
       "      <td>{'alpha': 1}</td>\n",
       "      <td>0.918373</td>\n",
       "      <td>2</td>\n",
       "    </tr>\n",
       "  </tbody>\n",
       "</table>\n",
       "</div>"
      ],
      "text/plain": [
       "         params  mean_test_score  rank_test_score\n",
       "0  {'alpha': 0}         0.960060                1\n",
       "1  {'alpha': 1}         0.918373                2"
      ]
     },
     "execution_count": 20,
     "metadata": {},
     "output_type": "execute_result"
    }
   ],
   "source": [
    "from sklearn.linear_model import Lasso\n",
    "\n",
    "alpha = range(0,2,1)\n",
    "\n",
    "LR = GridSearchCV(Lasso(), {\n",
    "    'alpha': alpha,\n",
    "}, cv=10, return_train_score=False)\n",
    "LR.fit(X_scaled, y)\n",
    "\n",
    "LR_results = pd.DataFrame(LR.cv_results_)\n",
    "LR_results = LR_results[['params', 'mean_test_score', 'rank_test_score']].sort_values(by=['rank_test_score'])\n",
    "LR_results"
   ]
  },
  {
   "cell_type": "code",
   "execution_count": 4,
   "metadata": {
    "colab": {
     "base_uri": "https://localhost:8080/",
     "height": 1000
    },
    "id": "7HuOWmTbkUqK",
    "outputId": "d6514c2a-0dd6-4ac2-b699-c1e01a0ab2aa",
    "scrolled": true
   },
   "outputs": [
    {
     "name": "stdout",
     "output_type": "stream",
     "text": [
      "Fitting 5 folds for each of 234 candidates, totalling 1170 fits\n",
      "[CV] END hidden_layer_sizes=1, learning_rate_init=0.1, max_iter=2500, random_state=42, solver=lbfgs; total time=   0.0s\n",
      "[CV] END hidden_layer_sizes=1, learning_rate_init=0.1, max_iter=2500, random_state=42, solver=lbfgs; total time=   0.3s\n",
      "[CV] END hidden_layer_sizes=1, learning_rate_init=0.1, max_iter=2500, random_state=42, solver=lbfgs; total time=   0.2s\n",
      "[CV] END hidden_layer_sizes=1, learning_rate_init=0.1, max_iter=2500, random_state=42, solver=lbfgs; total time=   0.2s\n",
      "[CV] END hidden_layer_sizes=1, learning_rate_init=0.1, max_iter=2500, random_state=42, solver=lbfgs; total time=   0.3s\n",
      "[CV] END hidden_layer_sizes=1, learning_rate_init=0.1, max_iter=2500, random_state=42, solver=adam; total time=   1.6s\n",
      "[CV] END hidden_layer_sizes=1, learning_rate_init=0.1, max_iter=2500, random_state=42, solver=adam; total time=   1.2s\n",
      "[CV] END hidden_layer_sizes=1, learning_rate_init=0.1, max_iter=2500, random_state=42, solver=adam; total time=   0.9s\n",
      "[CV] END hidden_layer_sizes=1, learning_rate_init=0.1, max_iter=2500, random_state=42, solver=adam; total time=   0.9s\n",
      "[CV] END hidden_layer_sizes=1, learning_rate_init=0.1, max_iter=2500, random_state=42, solver=adam; total time=   1.0s\n",
      "[CV] END hidden_layer_sizes=1, learning_rate_init=0.001, max_iter=2500, random_state=42, solver=lbfgs; total time=   0.0s\n",
      "[CV] END hidden_layer_sizes=1, learning_rate_init=0.001, max_iter=2500, random_state=42, solver=lbfgs; total time=   0.4s\n",
      "[CV] END hidden_layer_sizes=1, learning_rate_init=0.001, max_iter=2500, random_state=42, solver=lbfgs; total time=   0.2s\n",
      "[CV] END hidden_layer_sizes=1, learning_rate_init=0.001, max_iter=2500, random_state=42, solver=lbfgs; total time=   0.2s\n",
      "[CV] END hidden_layer_sizes=1, learning_rate_init=0.001, max_iter=2500, random_state=42, solver=lbfgs; total time=   0.3s\n",
      "[CV] END hidden_layer_sizes=1, learning_rate_init=0.001, max_iter=2500, random_state=42, solver=adam; total time=  21.0s\n",
      "[CV] END hidden_layer_sizes=1, learning_rate_init=0.001, max_iter=2500, random_state=42, solver=adam; total time=  22.4s\n",
      "[CV] END hidden_layer_sizes=1, learning_rate_init=0.001, max_iter=2500, random_state=42, solver=adam; total time=  11.1s\n",
      "[CV] END hidden_layer_sizes=1, learning_rate_init=0.001, max_iter=2500, random_state=42, solver=adam; total time=  21.3s\n",
      "[CV] END hidden_layer_sizes=1, learning_rate_init=0.001, max_iter=2500, random_state=42, solver=adam; total time=  26.3s\n",
      "[CV] END hidden_layer_sizes=1, learning_rate_init=1e-05, max_iter=2500, random_state=42, solver=lbfgs; total time=   0.0s\n",
      "[CV] END hidden_layer_sizes=1, learning_rate_init=1e-05, max_iter=2500, random_state=42, solver=lbfgs; total time=   0.2s\n",
      "[CV] END hidden_layer_sizes=1, learning_rate_init=1e-05, max_iter=2500, random_state=42, solver=lbfgs; total time=   0.3s\n",
      "[CV] END hidden_layer_sizes=1, learning_rate_init=1e-05, max_iter=2500, random_state=42, solver=lbfgs; total time=   0.3s\n",
      "[CV] END hidden_layer_sizes=1, learning_rate_init=1e-05, max_iter=2500, random_state=42, solver=lbfgs; total time=   0.3s\n"
     ]
    },
    {
     "name": "stderr",
     "output_type": "stream",
     "text": [
      "C:\\Users\\salda\\Anaconda3\\lib\\site-packages\\sklearn\\neural_network\\_multilayer_perceptron.py:614: ConvergenceWarning: Stochastic Optimizer: Maximum iterations (2500) reached and the optimization hasn't converged yet.\n",
      "  warnings.warn(\n"
     ]
    },
    {
     "name": "stdout",
     "output_type": "stream",
     "text": [
      "[CV] END hidden_layer_sizes=1, learning_rate_init=1e-05, max_iter=2500, random_state=42, solver=adam; total time= 2.0min\n"
     ]
    },
    {
     "name": "stderr",
     "output_type": "stream",
     "text": [
      "C:\\Users\\salda\\Anaconda3\\lib\\site-packages\\sklearn\\neural_network\\_multilayer_perceptron.py:614: ConvergenceWarning: Stochastic Optimizer: Maximum iterations (2500) reached and the optimization hasn't converged yet.\n",
      "  warnings.warn(\n"
     ]
    },
    {
     "name": "stdout",
     "output_type": "stream",
     "text": [
      "[CV] END hidden_layer_sizes=1, learning_rate_init=1e-05, max_iter=2500, random_state=42, solver=adam; total time= 1.8min\n"
     ]
    },
    {
     "name": "stderr",
     "output_type": "stream",
     "text": [
      "C:\\Users\\salda\\Anaconda3\\lib\\site-packages\\sklearn\\neural_network\\_multilayer_perceptron.py:614: ConvergenceWarning: Stochastic Optimizer: Maximum iterations (2500) reached and the optimization hasn't converged yet.\n",
      "  warnings.warn(\n"
     ]
    },
    {
     "name": "stdout",
     "output_type": "stream",
     "text": [
      "[CV] END hidden_layer_sizes=1, learning_rate_init=1e-05, max_iter=2500, random_state=42, solver=adam; total time= 1.7min\n"
     ]
    },
    {
     "name": "stderr",
     "output_type": "stream",
     "text": [
      "C:\\Users\\salda\\Anaconda3\\lib\\site-packages\\sklearn\\neural_network\\_multilayer_perceptron.py:614: ConvergenceWarning: Stochastic Optimizer: Maximum iterations (2500) reached and the optimization hasn't converged yet.\n",
      "  warnings.warn(\n"
     ]
    },
    {
     "name": "stdout",
     "output_type": "stream",
     "text": [
      "[CV] END hidden_layer_sizes=1, learning_rate_init=1e-05, max_iter=2500, random_state=42, solver=adam; total time= 1.6min\n"
     ]
    },
    {
     "name": "stderr",
     "output_type": "stream",
     "text": [
      "C:\\Users\\salda\\Anaconda3\\lib\\site-packages\\sklearn\\neural_network\\_multilayer_perceptron.py:614: ConvergenceWarning: Stochastic Optimizer: Maximum iterations (2500) reached and the optimization hasn't converged yet.\n",
      "  warnings.warn(\n"
     ]
    },
    {
     "name": "stdout",
     "output_type": "stream",
     "text": [
      "[CV] END hidden_layer_sizes=1, learning_rate_init=1e-05, max_iter=2500, random_state=42, solver=adam; total time= 1.6min\n",
      "[CV] END hidden_layer_sizes=2, learning_rate_init=0.1, max_iter=2500, random_state=42, solver=lbfgs; total time=   5.7s\n",
      "[CV] END hidden_layer_sizes=2, learning_rate_init=0.1, max_iter=2500, random_state=42, solver=lbfgs; total time=   2.8s\n"
     ]
    },
    {
     "name": "stderr",
     "output_type": "stream",
     "text": [
      "C:\\Users\\salda\\Anaconda3\\lib\\site-packages\\sklearn\\neural_network\\_multilayer_perceptron.py:500: ConvergenceWarning: lbfgs failed to converge (status=1):\n",
      "STOP: TOTAL NO. of ITERATIONS REACHED LIMIT.\n",
      "\n",
      "Increase the number of iterations (max_iter) or scale the data as shown in:\n",
      "    https://scikit-learn.org/stable/modules/preprocessing.html\n",
      "  self.n_iter_ = _check_optimize_result(\"lbfgs\", opt_res, self.max_iter)\n"
     ]
    },
    {
     "name": "stdout",
     "output_type": "stream",
     "text": [
      "[CV] END hidden_layer_sizes=2, learning_rate_init=0.1, max_iter=2500, random_state=42, solver=lbfgs; total time=   7.8s\n",
      "[CV] END hidden_layer_sizes=2, learning_rate_init=0.1, max_iter=2500, random_state=42, solver=lbfgs; total time=   2.9s\n",
      "[CV] END hidden_layer_sizes=2, learning_rate_init=0.1, max_iter=2500, random_state=42, solver=lbfgs; total time=   0.2s\n",
      "[CV] END hidden_layer_sizes=2, learning_rate_init=0.1, max_iter=2500, random_state=42, solver=adam; total time=   1.9s\n",
      "[CV] END hidden_layer_sizes=2, learning_rate_init=0.1, max_iter=2500, random_state=42, solver=adam; total time=   1.3s\n",
      "[CV] END hidden_layer_sizes=2, learning_rate_init=0.1, max_iter=2500, random_state=42, solver=adam; total time=   1.4s\n",
      "[CV] END hidden_layer_sizes=2, learning_rate_init=0.1, max_iter=2500, random_state=42, solver=adam; total time=   2.2s\n",
      "[CV] END hidden_layer_sizes=2, learning_rate_init=0.1, max_iter=2500, random_state=42, solver=adam; total time=   0.5s\n",
      "[CV] END hidden_layer_sizes=2, learning_rate_init=0.001, max_iter=2500, random_state=42, solver=lbfgs; total time=   4.8s\n",
      "[CV] END hidden_layer_sizes=2, learning_rate_init=0.001, max_iter=2500, random_state=42, solver=lbfgs; total time=   2.9s\n"
     ]
    },
    {
     "name": "stderr",
     "output_type": "stream",
     "text": [
      "C:\\Users\\salda\\Anaconda3\\lib\\site-packages\\sklearn\\neural_network\\_multilayer_perceptron.py:500: ConvergenceWarning: lbfgs failed to converge (status=1):\n",
      "STOP: TOTAL NO. of ITERATIONS REACHED LIMIT.\n",
      "\n",
      "Increase the number of iterations (max_iter) or scale the data as shown in:\n",
      "    https://scikit-learn.org/stable/modules/preprocessing.html\n",
      "  self.n_iter_ = _check_optimize_result(\"lbfgs\", opt_res, self.max_iter)\n"
     ]
    },
    {
     "name": "stdout",
     "output_type": "stream",
     "text": [
      "[CV] END hidden_layer_sizes=2, learning_rate_init=0.001, max_iter=2500, random_state=42, solver=lbfgs; total time=   8.2s\n",
      "[CV] END hidden_layer_sizes=2, learning_rate_init=0.001, max_iter=2500, random_state=42, solver=lbfgs; total time=   3.0s\n",
      "[CV] END hidden_layer_sizes=2, learning_rate_init=0.001, max_iter=2500, random_state=42, solver=lbfgs; total time=   0.2s\n",
      "[CV] END hidden_layer_sizes=2, learning_rate_init=0.001, max_iter=2500, random_state=42, solver=adam; total time=  10.0s\n",
      "[CV] END hidden_layer_sizes=2, learning_rate_init=0.001, max_iter=2500, random_state=42, solver=adam; total time=   7.3s\n",
      "[CV] END hidden_layer_sizes=2, learning_rate_init=0.001, max_iter=2500, random_state=42, solver=adam; total time=  11.7s\n",
      "[CV] END hidden_layer_sizes=2, learning_rate_init=0.001, max_iter=2500, random_state=42, solver=adam; total time=   7.8s\n",
      "[CV] END hidden_layer_sizes=2, learning_rate_init=0.001, max_iter=2500, random_state=42, solver=adam; total time=   9.4s\n",
      "[CV] END hidden_layer_sizes=2, learning_rate_init=1e-05, max_iter=2500, random_state=42, solver=lbfgs; total time=   4.6s\n",
      "[CV] END hidden_layer_sizes=2, learning_rate_init=1e-05, max_iter=2500, random_state=42, solver=lbfgs; total time=   3.1s\n"
     ]
    },
    {
     "name": "stderr",
     "output_type": "stream",
     "text": [
      "C:\\Users\\salda\\Anaconda3\\lib\\site-packages\\sklearn\\neural_network\\_multilayer_perceptron.py:500: ConvergenceWarning: lbfgs failed to converge (status=1):\n",
      "STOP: TOTAL NO. of ITERATIONS REACHED LIMIT.\n",
      "\n",
      "Increase the number of iterations (max_iter) or scale the data as shown in:\n",
      "    https://scikit-learn.org/stable/modules/preprocessing.html\n",
      "  self.n_iter_ = _check_optimize_result(\"lbfgs\", opt_res, self.max_iter)\n"
     ]
    },
    {
     "name": "stdout",
     "output_type": "stream",
     "text": [
      "[CV] END hidden_layer_sizes=2, learning_rate_init=1e-05, max_iter=2500, random_state=42, solver=lbfgs; total time=   7.8s\n",
      "[CV] END hidden_layer_sizes=2, learning_rate_init=1e-05, max_iter=2500, random_state=42, solver=lbfgs; total time=   2.9s\n",
      "[CV] END hidden_layer_sizes=2, learning_rate_init=1e-05, max_iter=2500, random_state=42, solver=lbfgs; total time=   0.2s\n"
     ]
    },
    {
     "name": "stderr",
     "output_type": "stream",
     "text": [
      "C:\\Users\\salda\\Anaconda3\\lib\\site-packages\\sklearn\\neural_network\\_multilayer_perceptron.py:614: ConvergenceWarning: Stochastic Optimizer: Maximum iterations (2500) reached and the optimization hasn't converged yet.\n",
      "  warnings.warn(\n"
     ]
    },
    {
     "name": "stdout",
     "output_type": "stream",
     "text": [
      "[CV] END hidden_layer_sizes=2, learning_rate_init=1e-05, max_iter=2500, random_state=42, solver=adam; total time= 1.7min\n"
     ]
    },
    {
     "name": "stderr",
     "output_type": "stream",
     "text": [
      "C:\\Users\\salda\\Anaconda3\\lib\\site-packages\\sklearn\\neural_network\\_multilayer_perceptron.py:614: ConvergenceWarning: Stochastic Optimizer: Maximum iterations (2500) reached and the optimization hasn't converged yet.\n",
      "  warnings.warn(\n"
     ]
    },
    {
     "name": "stdout",
     "output_type": "stream",
     "text": [
      "[CV] END hidden_layer_sizes=2, learning_rate_init=1e-05, max_iter=2500, random_state=42, solver=adam; total time= 1.8min\n"
     ]
    },
    {
     "name": "stderr",
     "output_type": "stream",
     "text": [
      "C:\\Users\\salda\\Anaconda3\\lib\\site-packages\\sklearn\\neural_network\\_multilayer_perceptron.py:614: ConvergenceWarning: Stochastic Optimizer: Maximum iterations (2500) reached and the optimization hasn't converged yet.\n",
      "  warnings.warn(\n"
     ]
    },
    {
     "name": "stdout",
     "output_type": "stream",
     "text": [
      "[CV] END hidden_layer_sizes=2, learning_rate_init=1e-05, max_iter=2500, random_state=42, solver=adam; total time= 1.7min\n"
     ]
    },
    {
     "name": "stderr",
     "output_type": "stream",
     "text": [
      "C:\\Users\\salda\\Anaconda3\\lib\\site-packages\\sklearn\\neural_network\\_multilayer_perceptron.py:614: ConvergenceWarning: Stochastic Optimizer: Maximum iterations (2500) reached and the optimization hasn't converged yet.\n",
      "  warnings.warn(\n"
     ]
    },
    {
     "name": "stdout",
     "output_type": "stream",
     "text": [
      "[CV] END hidden_layer_sizes=2, learning_rate_init=1e-05, max_iter=2500, random_state=42, solver=adam; total time= 1.7min\n"
     ]
    },
    {
     "name": "stderr",
     "output_type": "stream",
     "text": [
      "C:\\Users\\salda\\Anaconda3\\lib\\site-packages\\sklearn\\neural_network\\_multilayer_perceptron.py:614: ConvergenceWarning: Stochastic Optimizer: Maximum iterations (2500) reached and the optimization hasn't converged yet.\n",
      "  warnings.warn(\n"
     ]
    },
    {
     "name": "stdout",
     "output_type": "stream",
     "text": [
      "[CV] END hidden_layer_sizes=2, learning_rate_init=1e-05, max_iter=2500, random_state=42, solver=adam; total time= 1.7min\n",
      "[CV] END hidden_layer_sizes=3, learning_rate_init=0.1, max_iter=2500, random_state=42, solver=lbfgs; total time=   4.9s\n",
      "[CV] END hidden_layer_sizes=3, learning_rate_init=0.1, max_iter=2500, random_state=42, solver=lbfgs; total time=   6.4s\n",
      "[CV] END hidden_layer_sizes=3, learning_rate_init=0.1, max_iter=2500, random_state=42, solver=lbfgs; total time=   5.0s\n",
      "[CV] END hidden_layer_sizes=3, learning_rate_init=0.1, max_iter=2500, random_state=42, solver=lbfgs; total time=   1.9s\n",
      "[CV] END hidden_layer_sizes=3, learning_rate_init=0.1, max_iter=2500, random_state=42, solver=lbfgs; total time=   4.9s\n",
      "[CV] END hidden_layer_sizes=3, learning_rate_init=0.1, max_iter=2500, random_state=42, solver=adam; total time=   0.6s\n",
      "[CV] END hidden_layer_sizes=3, learning_rate_init=0.1, max_iter=2500, random_state=42, solver=adam; total time=   0.7s\n",
      "[CV] END hidden_layer_sizes=3, learning_rate_init=0.1, max_iter=2500, random_state=42, solver=adam; total time=   2.3s\n",
      "[CV] END hidden_layer_sizes=3, learning_rate_init=0.1, max_iter=2500, random_state=42, solver=adam; total time=   0.6s\n",
      "[CV] END hidden_layer_sizes=3, learning_rate_init=0.1, max_iter=2500, random_state=42, solver=adam; total time=   0.6s\n",
      "[CV] END hidden_layer_sizes=3, learning_rate_init=0.001, max_iter=2500, random_state=42, solver=lbfgs; total time=   4.3s\n",
      "[CV] END hidden_layer_sizes=3, learning_rate_init=0.001, max_iter=2500, random_state=42, solver=lbfgs; total time=   6.4s\n",
      "[CV] END hidden_layer_sizes=3, learning_rate_init=0.001, max_iter=2500, random_state=42, solver=lbfgs; total time=   4.9s\n",
      "[CV] END hidden_layer_sizes=3, learning_rate_init=0.001, max_iter=2500, random_state=42, solver=lbfgs; total time=   1.9s\n",
      "[CV] END hidden_layer_sizes=3, learning_rate_init=0.001, max_iter=2500, random_state=42, solver=lbfgs; total time=   5.0s\n",
      "[CV] END hidden_layer_sizes=3, learning_rate_init=0.001, max_iter=2500, random_state=42, solver=adam; total time=   3.8s\n",
      "[CV] END hidden_layer_sizes=3, learning_rate_init=0.001, max_iter=2500, random_state=42, solver=adam; total time=   8.5s\n",
      "[CV] END hidden_layer_sizes=3, learning_rate_init=0.001, max_iter=2500, random_state=42, solver=adam; total time=   4.3s\n",
      "[CV] END hidden_layer_sizes=3, learning_rate_init=0.001, max_iter=2500, random_state=42, solver=adam; total time=   4.1s\n",
      "[CV] END hidden_layer_sizes=3, learning_rate_init=0.001, max_iter=2500, random_state=42, solver=adam; total time=   9.6s\n",
      "[CV] END hidden_layer_sizes=3, learning_rate_init=1e-05, max_iter=2500, random_state=42, solver=lbfgs; total time=   4.5s\n",
      "[CV] END hidden_layer_sizes=3, learning_rate_init=1e-05, max_iter=2500, random_state=42, solver=lbfgs; total time=   6.0s\n",
      "[CV] END hidden_layer_sizes=3, learning_rate_init=1e-05, max_iter=2500, random_state=42, solver=lbfgs; total time=   5.1s\n",
      "[CV] END hidden_layer_sizes=3, learning_rate_init=1e-05, max_iter=2500, random_state=42, solver=lbfgs; total time=   2.0s\n",
      "[CV] END hidden_layer_sizes=3, learning_rate_init=1e-05, max_iter=2500, random_state=42, solver=lbfgs; total time=   4.7s\n"
     ]
    },
    {
     "name": "stderr",
     "output_type": "stream",
     "text": [
      "C:\\Users\\salda\\Anaconda3\\lib\\site-packages\\sklearn\\neural_network\\_multilayer_perceptron.py:614: ConvergenceWarning: Stochastic Optimizer: Maximum iterations (2500) reached and the optimization hasn't converged yet.\n",
      "  warnings.warn(\n"
     ]
    },
    {
     "name": "stdout",
     "output_type": "stream",
     "text": [
      "[CV] END hidden_layer_sizes=3, learning_rate_init=1e-05, max_iter=2500, random_state=42, solver=adam; total time= 1.8min\n"
     ]
    },
    {
     "name": "stderr",
     "output_type": "stream",
     "text": [
      "C:\\Users\\salda\\Anaconda3\\lib\\site-packages\\sklearn\\neural_network\\_multilayer_perceptron.py:614: ConvergenceWarning: Stochastic Optimizer: Maximum iterations (2500) reached and the optimization hasn't converged yet.\n",
      "  warnings.warn(\n"
     ]
    },
    {
     "name": "stdout",
     "output_type": "stream",
     "text": [
      "[CV] END hidden_layer_sizes=3, learning_rate_init=1e-05, max_iter=2500, random_state=42, solver=adam; total time= 1.8min\n"
     ]
    },
    {
     "name": "stderr",
     "output_type": "stream",
     "text": [
      "C:\\Users\\salda\\Anaconda3\\lib\\site-packages\\sklearn\\neural_network\\_multilayer_perceptron.py:614: ConvergenceWarning: Stochastic Optimizer: Maximum iterations (2500) reached and the optimization hasn't converged yet.\n",
      "  warnings.warn(\n"
     ]
    },
    {
     "name": "stdout",
     "output_type": "stream",
     "text": [
      "[CV] END hidden_layer_sizes=3, learning_rate_init=1e-05, max_iter=2500, random_state=42, solver=adam; total time= 1.8min\n"
     ]
    },
    {
     "name": "stderr",
     "output_type": "stream",
     "text": [
      "C:\\Users\\salda\\Anaconda3\\lib\\site-packages\\sklearn\\neural_network\\_multilayer_perceptron.py:614: ConvergenceWarning: Stochastic Optimizer: Maximum iterations (2500) reached and the optimization hasn't converged yet.\n",
      "  warnings.warn(\n"
     ]
    },
    {
     "name": "stdout",
     "output_type": "stream",
     "text": [
      "[CV] END hidden_layer_sizes=3, learning_rate_init=1e-05, max_iter=2500, random_state=42, solver=adam; total time= 1.7min\n"
     ]
    },
    {
     "name": "stderr",
     "output_type": "stream",
     "text": [
      "C:\\Users\\salda\\Anaconda3\\lib\\site-packages\\sklearn\\neural_network\\_multilayer_perceptron.py:614: ConvergenceWarning: Stochastic Optimizer: Maximum iterations (2500) reached and the optimization hasn't converged yet.\n",
      "  warnings.warn(\n"
     ]
    },
    {
     "name": "stdout",
     "output_type": "stream",
     "text": [
      "[CV] END hidden_layer_sizes=3, learning_rate_init=1e-05, max_iter=2500, random_state=42, solver=adam; total time= 1.8min\n",
      "[CV] END hidden_layer_sizes=4, learning_rate_init=0.1, max_iter=2500, random_state=42, solver=lbfgs; total time=   2.4s\n",
      "[CV] END hidden_layer_sizes=4, learning_rate_init=0.1, max_iter=2500, random_state=42, solver=lbfgs; total time=   1.8s\n",
      "[CV] END hidden_layer_sizes=4, learning_rate_init=0.1, max_iter=2500, random_state=42, solver=lbfgs; total time=   7.0s\n",
      "[CV] END hidden_layer_sizes=4, learning_rate_init=0.1, max_iter=2500, random_state=42, solver=lbfgs; total time=   1.6s\n",
      "[CV] END hidden_layer_sizes=4, learning_rate_init=0.1, max_iter=2500, random_state=42, solver=lbfgs; total time=   2.2s\n",
      "[CV] END hidden_layer_sizes=4, learning_rate_init=0.1, max_iter=2500, random_state=42, solver=adam; total time=   1.3s\n",
      "[CV] END hidden_layer_sizes=4, learning_rate_init=0.1, max_iter=2500, random_state=42, solver=adam; total time=   0.8s\n",
      "[CV] END hidden_layer_sizes=4, learning_rate_init=0.1, max_iter=2500, random_state=42, solver=adam; total time=   0.5s\n",
      "[CV] END hidden_layer_sizes=4, learning_rate_init=0.1, max_iter=2500, random_state=42, solver=adam; total time=   0.6s\n",
      "[CV] END hidden_layer_sizes=4, learning_rate_init=0.1, max_iter=2500, random_state=42, solver=adam; total time=   0.5s\n",
      "[CV] END hidden_layer_sizes=4, learning_rate_init=0.001, max_iter=2500, random_state=42, solver=lbfgs; total time=   2.4s\n",
      "[CV] END hidden_layer_sizes=4, learning_rate_init=0.001, max_iter=2500, random_state=42, solver=lbfgs; total time=   1.7s\n",
      "[CV] END hidden_layer_sizes=4, learning_rate_init=0.001, max_iter=2500, random_state=42, solver=lbfgs; total time=   7.0s\n",
      "[CV] END hidden_layer_sizes=4, learning_rate_init=0.001, max_iter=2500, random_state=42, solver=lbfgs; total time=   1.6s\n",
      "[CV] END hidden_layer_sizes=4, learning_rate_init=0.001, max_iter=2500, random_state=42, solver=lbfgs; total time=   2.2s\n",
      "[CV] END hidden_layer_sizes=4, learning_rate_init=0.001, max_iter=2500, random_state=42, solver=adam; total time=   3.7s\n",
      "[CV] END hidden_layer_sizes=4, learning_rate_init=0.001, max_iter=2500, random_state=42, solver=adam; total time=   6.7s\n",
      "[CV] END hidden_layer_sizes=4, learning_rate_init=0.001, max_iter=2500, random_state=42, solver=adam; total time=   4.9s\n",
      "[CV] END hidden_layer_sizes=4, learning_rate_init=0.001, max_iter=2500, random_state=42, solver=adam; total time=   7.9s\n",
      "[CV] END hidden_layer_sizes=4, learning_rate_init=0.001, max_iter=2500, random_state=42, solver=adam; total time=   3.6s\n",
      "[CV] END hidden_layer_sizes=4, learning_rate_init=1e-05, max_iter=2500, random_state=42, solver=lbfgs; total time=   2.2s\n",
      "[CV] END hidden_layer_sizes=4, learning_rate_init=1e-05, max_iter=2500, random_state=42, solver=lbfgs; total time=   1.7s\n",
      "[CV] END hidden_layer_sizes=4, learning_rate_init=1e-05, max_iter=2500, random_state=42, solver=lbfgs; total time=   6.3s\n",
      "[CV] END hidden_layer_sizes=4, learning_rate_init=1e-05, max_iter=2500, random_state=42, solver=lbfgs; total time=   1.9s\n",
      "[CV] END hidden_layer_sizes=4, learning_rate_init=1e-05, max_iter=2500, random_state=42, solver=lbfgs; total time=   2.2s\n",
      "[CV] END hidden_layer_sizes=4, learning_rate_init=1e-05, max_iter=2500, random_state=42, solver=adam; total time= 1.3min\n",
      "[CV] END hidden_layer_sizes=4, learning_rate_init=1e-05, max_iter=2500, random_state=42, solver=adam; total time= 1.4min\n",
      "[CV] END hidden_layer_sizes=4, learning_rate_init=1e-05, max_iter=2500, random_state=42, solver=adam; total time= 1.2min\n",
      "[CV] END hidden_layer_sizes=4, learning_rate_init=1e-05, max_iter=2500, random_state=42, solver=adam; total time= 1.4min\n",
      "[CV] END hidden_layer_sizes=4, learning_rate_init=1e-05, max_iter=2500, random_state=42, solver=adam; total time= 1.2min\n"
     ]
    },
    {
     "name": "stderr",
     "output_type": "stream",
     "text": [
      "C:\\Users\\salda\\Anaconda3\\lib\\site-packages\\sklearn\\neural_network\\_multilayer_perceptron.py:500: ConvergenceWarning: lbfgs failed to converge (status=1):\n",
      "STOP: TOTAL NO. of ITERATIONS REACHED LIMIT.\n",
      "\n",
      "Increase the number of iterations (max_iter) or scale the data as shown in:\n",
      "    https://scikit-learn.org/stable/modules/preprocessing.html\n",
      "  self.n_iter_ = _check_optimize_result(\"lbfgs\", opt_res, self.max_iter)\n"
     ]
    },
    {
     "name": "stdout",
     "output_type": "stream",
     "text": [
      "[CV] END hidden_layer_sizes=5, learning_rate_init=0.1, max_iter=2500, random_state=42, solver=lbfgs; total time=  14.5s\n",
      "[CV] END hidden_layer_sizes=5, learning_rate_init=0.1, max_iter=2500, random_state=42, solver=lbfgs; total time=   7.1s\n",
      "[CV] END hidden_layer_sizes=5, learning_rate_init=0.1, max_iter=2500, random_state=42, solver=lbfgs; total time=  11.6s\n",
      "[CV] END hidden_layer_sizes=5, learning_rate_init=0.1, max_iter=2500, random_state=42, solver=lbfgs; total time=  13.5s\n"
     ]
    },
    {
     "name": "stderr",
     "output_type": "stream",
     "text": [
      "C:\\Users\\salda\\Anaconda3\\lib\\site-packages\\sklearn\\neural_network\\_multilayer_perceptron.py:500: ConvergenceWarning: lbfgs failed to converge (status=1):\n",
      "STOP: TOTAL NO. of ITERATIONS REACHED LIMIT.\n",
      "\n",
      "Increase the number of iterations (max_iter) or scale the data as shown in:\n",
      "    https://scikit-learn.org/stable/modules/preprocessing.html\n",
      "  self.n_iter_ = _check_optimize_result(\"lbfgs\", opt_res, self.max_iter)\n"
     ]
    },
    {
     "name": "stdout",
     "output_type": "stream",
     "text": [
      "[CV] END hidden_layer_sizes=5, learning_rate_init=0.1, max_iter=2500, random_state=42, solver=lbfgs; total time=  13.3s\n",
      "[CV] END hidden_layer_sizes=5, learning_rate_init=0.1, max_iter=2500, random_state=42, solver=adam; total time=   2.3s\n",
      "[CV] END hidden_layer_sizes=5, learning_rate_init=0.1, max_iter=2500, random_state=42, solver=adam; total time=   1.3s\n",
      "[CV] END hidden_layer_sizes=5, learning_rate_init=0.1, max_iter=2500, random_state=42, solver=adam; total time=   0.7s\n",
      "[CV] END hidden_layer_sizes=5, learning_rate_init=0.1, max_iter=2500, random_state=42, solver=adam; total time=   2.0s\n",
      "[CV] END hidden_layer_sizes=5, learning_rate_init=0.1, max_iter=2500, random_state=42, solver=adam; total time=   0.7s\n"
     ]
    },
    {
     "name": "stderr",
     "output_type": "stream",
     "text": [
      "C:\\Users\\salda\\Anaconda3\\lib\\site-packages\\sklearn\\neural_network\\_multilayer_perceptron.py:500: ConvergenceWarning: lbfgs failed to converge (status=1):\n",
      "STOP: TOTAL NO. of ITERATIONS REACHED LIMIT.\n",
      "\n",
      "Increase the number of iterations (max_iter) or scale the data as shown in:\n",
      "    https://scikit-learn.org/stable/modules/preprocessing.html\n",
      "  self.n_iter_ = _check_optimize_result(\"lbfgs\", opt_res, self.max_iter)\n"
     ]
    },
    {
     "name": "stdout",
     "output_type": "stream",
     "text": [
      "[CV] END hidden_layer_sizes=5, learning_rate_init=0.001, max_iter=2500, random_state=42, solver=lbfgs; total time=  14.2s\n",
      "[CV] END hidden_layer_sizes=5, learning_rate_init=0.001, max_iter=2500, random_state=42, solver=lbfgs; total time=   7.5s\n",
      "[CV] END hidden_layer_sizes=5, learning_rate_init=0.001, max_iter=2500, random_state=42, solver=lbfgs; total time=  11.6s\n",
      "[CV] END hidden_layer_sizes=5, learning_rate_init=0.001, max_iter=2500, random_state=42, solver=lbfgs; total time=  13.7s\n"
     ]
    },
    {
     "name": "stderr",
     "output_type": "stream",
     "text": [
      "C:\\Users\\salda\\Anaconda3\\lib\\site-packages\\sklearn\\neural_network\\_multilayer_perceptron.py:500: ConvergenceWarning: lbfgs failed to converge (status=1):\n",
      "STOP: TOTAL NO. of ITERATIONS REACHED LIMIT.\n",
      "\n",
      "Increase the number of iterations (max_iter) or scale the data as shown in:\n",
      "    https://scikit-learn.org/stable/modules/preprocessing.html\n",
      "  self.n_iter_ = _check_optimize_result(\"lbfgs\", opt_res, self.max_iter)\n"
     ]
    },
    {
     "name": "stdout",
     "output_type": "stream",
     "text": [
      "[CV] END hidden_layer_sizes=5, learning_rate_init=0.001, max_iter=2500, random_state=42, solver=lbfgs; total time=  13.6s\n",
      "[CV] END hidden_layer_sizes=5, learning_rate_init=0.001, max_iter=2500, random_state=42, solver=adam; total time=  13.4s\n",
      "[CV] END hidden_layer_sizes=5, learning_rate_init=0.001, max_iter=2500, random_state=42, solver=adam; total time=  10.6s\n",
      "[CV] END hidden_layer_sizes=5, learning_rate_init=0.001, max_iter=2500, random_state=42, solver=adam; total time=  14.2s\n",
      "[CV] END hidden_layer_sizes=5, learning_rate_init=0.001, max_iter=2500, random_state=42, solver=adam; total time=  11.1s\n",
      "[CV] END hidden_layer_sizes=5, learning_rate_init=0.001, max_iter=2500, random_state=42, solver=adam; total time=   6.9s\n"
     ]
    },
    {
     "name": "stderr",
     "output_type": "stream",
     "text": [
      "C:\\Users\\salda\\Anaconda3\\lib\\site-packages\\sklearn\\neural_network\\_multilayer_perceptron.py:500: ConvergenceWarning: lbfgs failed to converge (status=1):\n",
      "STOP: TOTAL NO. of ITERATIONS REACHED LIMIT.\n",
      "\n",
      "Increase the number of iterations (max_iter) or scale the data as shown in:\n",
      "    https://scikit-learn.org/stable/modules/preprocessing.html\n",
      "  self.n_iter_ = _check_optimize_result(\"lbfgs\", opt_res, self.max_iter)\n"
     ]
    },
    {
     "name": "stdout",
     "output_type": "stream",
     "text": [
      "[CV] END hidden_layer_sizes=5, learning_rate_init=1e-05, max_iter=2500, random_state=42, solver=lbfgs; total time=  14.5s\n",
      "[CV] END hidden_layer_sizes=5, learning_rate_init=1e-05, max_iter=2500, random_state=42, solver=lbfgs; total time=   6.9s\n",
      "[CV] END hidden_layer_sizes=5, learning_rate_init=1e-05, max_iter=2500, random_state=42, solver=lbfgs; total time=  11.8s\n",
      "[CV] END hidden_layer_sizes=5, learning_rate_init=1e-05, max_iter=2500, random_state=42, solver=lbfgs; total time=  14.0s\n"
     ]
    },
    {
     "name": "stderr",
     "output_type": "stream",
     "text": [
      "C:\\Users\\salda\\Anaconda3\\lib\\site-packages\\sklearn\\neural_network\\_multilayer_perceptron.py:500: ConvergenceWarning: lbfgs failed to converge (status=1):\n",
      "STOP: TOTAL NO. of ITERATIONS REACHED LIMIT.\n",
      "\n",
      "Increase the number of iterations (max_iter) or scale the data as shown in:\n",
      "    https://scikit-learn.org/stable/modules/preprocessing.html\n",
      "  self.n_iter_ = _check_optimize_result(\"lbfgs\", opt_res, self.max_iter)\n"
     ]
    },
    {
     "name": "stdout",
     "output_type": "stream",
     "text": [
      "[CV] END hidden_layer_sizes=5, learning_rate_init=1e-05, max_iter=2500, random_state=42, solver=lbfgs; total time=  13.4s\n"
     ]
    },
    {
     "name": "stderr",
     "output_type": "stream",
     "text": [
      "C:\\Users\\salda\\Anaconda3\\lib\\site-packages\\sklearn\\neural_network\\_multilayer_perceptron.py:614: ConvergenceWarning: Stochastic Optimizer: Maximum iterations (2500) reached and the optimization hasn't converged yet.\n",
      "  warnings.warn(\n"
     ]
    },
    {
     "name": "stdout",
     "output_type": "stream",
     "text": [
      "[CV] END hidden_layer_sizes=5, learning_rate_init=1e-05, max_iter=2500, random_state=42, solver=adam; total time= 1.8min\n"
     ]
    },
    {
     "name": "stderr",
     "output_type": "stream",
     "text": [
      "C:\\Users\\salda\\Anaconda3\\lib\\site-packages\\sklearn\\neural_network\\_multilayer_perceptron.py:614: ConvergenceWarning: Stochastic Optimizer: Maximum iterations (2500) reached and the optimization hasn't converged yet.\n",
      "  warnings.warn(\n"
     ]
    },
    {
     "name": "stdout",
     "output_type": "stream",
     "text": [
      "[CV] END hidden_layer_sizes=5, learning_rate_init=1e-05, max_iter=2500, random_state=42, solver=adam; total time= 1.8min\n"
     ]
    },
    {
     "name": "stderr",
     "output_type": "stream",
     "text": [
      "C:\\Users\\salda\\Anaconda3\\lib\\site-packages\\sklearn\\neural_network\\_multilayer_perceptron.py:614: ConvergenceWarning: Stochastic Optimizer: Maximum iterations (2500) reached and the optimization hasn't converged yet.\n",
      "  warnings.warn(\n"
     ]
    },
    {
     "name": "stdout",
     "output_type": "stream",
     "text": [
      "[CV] END hidden_layer_sizes=5, learning_rate_init=1e-05, max_iter=2500, random_state=42, solver=adam; total time= 1.8min\n"
     ]
    },
    {
     "name": "stderr",
     "output_type": "stream",
     "text": [
      "C:\\Users\\salda\\Anaconda3\\lib\\site-packages\\sklearn\\neural_network\\_multilayer_perceptron.py:614: ConvergenceWarning: Stochastic Optimizer: Maximum iterations (2500) reached and the optimization hasn't converged yet.\n",
      "  warnings.warn(\n"
     ]
    },
    {
     "name": "stdout",
     "output_type": "stream",
     "text": [
      "[CV] END hidden_layer_sizes=5, learning_rate_init=1e-05, max_iter=2500, random_state=42, solver=adam; total time= 1.8min\n"
     ]
    },
    {
     "name": "stderr",
     "output_type": "stream",
     "text": [
      "C:\\Users\\salda\\Anaconda3\\lib\\site-packages\\sklearn\\neural_network\\_multilayer_perceptron.py:614: ConvergenceWarning: Stochastic Optimizer: Maximum iterations (2500) reached and the optimization hasn't converged yet.\n",
      "  warnings.warn(\n"
     ]
    },
    {
     "name": "stdout",
     "output_type": "stream",
     "text": [
      "[CV] END hidden_layer_sizes=5, learning_rate_init=1e-05, max_iter=2500, random_state=42, solver=adam; total time= 1.8min\n",
      "[CV] END hidden_layer_sizes=6, learning_rate_init=0.1, max_iter=2500, random_state=42, solver=lbfgs; total time=  10.3s\n",
      "[CV] END hidden_layer_sizes=6, learning_rate_init=0.1, max_iter=2500, random_state=42, solver=lbfgs; total time=   8.8s\n",
      "[CV] END hidden_layer_sizes=6, learning_rate_init=0.1, max_iter=2500, random_state=42, solver=lbfgs; total time=   7.0s\n",
      "[CV] END hidden_layer_sizes=6, learning_rate_init=0.1, max_iter=2500, random_state=42, solver=lbfgs; total time=   9.7s\n",
      "[CV] END hidden_layer_sizes=6, learning_rate_init=0.1, max_iter=2500, random_state=42, solver=lbfgs; total time=   7.6s\n",
      "[CV] END hidden_layer_sizes=6, learning_rate_init=0.1, max_iter=2500, random_state=42, solver=adam; total time=   1.1s\n",
      "[CV] END hidden_layer_sizes=6, learning_rate_init=0.1, max_iter=2500, random_state=42, solver=adam; total time=   0.8s\n",
      "[CV] END hidden_layer_sizes=6, learning_rate_init=0.1, max_iter=2500, random_state=42, solver=adam; total time=   0.6s\n",
      "[CV] END hidden_layer_sizes=6, learning_rate_init=0.1, max_iter=2500, random_state=42, solver=adam; total time=   1.8s\n",
      "[CV] END hidden_layer_sizes=6, learning_rate_init=0.1, max_iter=2500, random_state=42, solver=adam; total time=   1.1s\n",
      "[CV] END hidden_layer_sizes=6, learning_rate_init=0.001, max_iter=2500, random_state=42, solver=lbfgs; total time=  10.8s\n",
      "[CV] END hidden_layer_sizes=6, learning_rate_init=0.001, max_iter=2500, random_state=42, solver=lbfgs; total time=   8.6s\n",
      "[CV] END hidden_layer_sizes=6, learning_rate_init=0.001, max_iter=2500, random_state=42, solver=lbfgs; total time=   6.9s\n",
      "[CV] END hidden_layer_sizes=6, learning_rate_init=0.001, max_iter=2500, random_state=42, solver=lbfgs; total time=   9.2s\n",
      "[CV] END hidden_layer_sizes=6, learning_rate_init=0.001, max_iter=2500, random_state=42, solver=lbfgs; total time=   8.0s\n",
      "[CV] END hidden_layer_sizes=6, learning_rate_init=0.001, max_iter=2500, random_state=42, solver=adam; total time=   8.3s\n",
      "[CV] END hidden_layer_sizes=6, learning_rate_init=0.001, max_iter=2500, random_state=42, solver=adam; total time=   6.3s\n",
      "[CV] END hidden_layer_sizes=6, learning_rate_init=0.001, max_iter=2500, random_state=42, solver=adam; total time=   7.1s\n",
      "[CV] END hidden_layer_sizes=6, learning_rate_init=0.001, max_iter=2500, random_state=42, solver=adam; total time=   5.1s\n",
      "[CV] END hidden_layer_sizes=6, learning_rate_init=0.001, max_iter=2500, random_state=42, solver=adam; total time=   6.3s\n",
      "[CV] END hidden_layer_sizes=6, learning_rate_init=1e-05, max_iter=2500, random_state=42, solver=lbfgs; total time=  10.4s\n",
      "[CV] END hidden_layer_sizes=6, learning_rate_init=1e-05, max_iter=2500, random_state=42, solver=lbfgs; total time=   9.0s\n",
      "[CV] END hidden_layer_sizes=6, learning_rate_init=1e-05, max_iter=2500, random_state=42, solver=lbfgs; total time=   7.2s\n",
      "[CV] END hidden_layer_sizes=6, learning_rate_init=1e-05, max_iter=2500, random_state=42, solver=lbfgs; total time=   9.2s\n",
      "[CV] END hidden_layer_sizes=6, learning_rate_init=1e-05, max_iter=2500, random_state=42, solver=lbfgs; total time=   7.6s\n",
      "[CV] END hidden_layer_sizes=6, learning_rate_init=1e-05, max_iter=2500, random_state=42, solver=adam; total time= 1.8min\n"
     ]
    },
    {
     "name": "stderr",
     "output_type": "stream",
     "text": [
      "C:\\Users\\salda\\Anaconda3\\lib\\site-packages\\sklearn\\neural_network\\_multilayer_perceptron.py:614: ConvergenceWarning: Stochastic Optimizer: Maximum iterations (2500) reached and the optimization hasn't converged yet.\n",
      "  warnings.warn(\n"
     ]
    },
    {
     "name": "stdout",
     "output_type": "stream",
     "text": [
      "[CV] END hidden_layer_sizes=6, learning_rate_init=1e-05, max_iter=2500, random_state=42, solver=adam; total time= 1.8min\n",
      "[CV] END hidden_layer_sizes=6, learning_rate_init=1e-05, max_iter=2500, random_state=42, solver=adam; total time= 1.6min\n"
     ]
    },
    {
     "name": "stderr",
     "output_type": "stream",
     "text": [
      "C:\\Users\\salda\\Anaconda3\\lib\\site-packages\\sklearn\\neural_network\\_multilayer_perceptron.py:614: ConvergenceWarning: Stochastic Optimizer: Maximum iterations (2500) reached and the optimization hasn't converged yet.\n",
      "  warnings.warn(\n"
     ]
    },
    {
     "name": "stdout",
     "output_type": "stream",
     "text": [
      "[CV] END hidden_layer_sizes=6, learning_rate_init=1e-05, max_iter=2500, random_state=42, solver=adam; total time= 1.9min\n"
     ]
    },
    {
     "name": "stderr",
     "output_type": "stream",
     "text": [
      "C:\\Users\\salda\\Anaconda3\\lib\\site-packages\\sklearn\\neural_network\\_multilayer_perceptron.py:614: ConvergenceWarning: Stochastic Optimizer: Maximum iterations (2500) reached and the optimization hasn't converged yet.\n",
      "  warnings.warn(\n"
     ]
    },
    {
     "name": "stdout",
     "output_type": "stream",
     "text": [
      "[CV] END hidden_layer_sizes=6, learning_rate_init=1e-05, max_iter=2500, random_state=42, solver=adam; total time= 1.8min\n",
      "[CV] END hidden_layer_sizes=7, learning_rate_init=0.1, max_iter=2500, random_state=42, solver=lbfgs; total time=   9.6s\n",
      "[CV] END hidden_layer_sizes=7, learning_rate_init=0.1, max_iter=2500, random_state=42, solver=lbfgs; total time=   6.4s\n",
      "[CV] END hidden_layer_sizes=7, learning_rate_init=0.1, max_iter=2500, random_state=42, solver=lbfgs; total time=   8.1s\n",
      "[CV] END hidden_layer_sizes=7, learning_rate_init=0.1, max_iter=2500, random_state=42, solver=lbfgs; total time=   9.8s\n",
      "[CV] END hidden_layer_sizes=7, learning_rate_init=0.1, max_iter=2500, random_state=42, solver=lbfgs; total time=  11.3s\n",
      "[CV] END hidden_layer_sizes=7, learning_rate_init=0.1, max_iter=2500, random_state=42, solver=adam; total time=   1.4s\n",
      "[CV] END hidden_layer_sizes=7, learning_rate_init=0.1, max_iter=2500, random_state=42, solver=adam; total time=   0.7s\n",
      "[CV] END hidden_layer_sizes=7, learning_rate_init=0.1, max_iter=2500, random_state=42, solver=adam; total time=   1.6s\n",
      "[CV] END hidden_layer_sizes=7, learning_rate_init=0.1, max_iter=2500, random_state=42, solver=adam; total time=   3.8s\n",
      "[CV] END hidden_layer_sizes=7, learning_rate_init=0.1, max_iter=2500, random_state=42, solver=adam; total time=   0.8s\n",
      "[CV] END hidden_layer_sizes=7, learning_rate_init=0.001, max_iter=2500, random_state=42, solver=lbfgs; total time=   9.5s\n",
      "[CV] END hidden_layer_sizes=7, learning_rate_init=0.001, max_iter=2500, random_state=42, solver=lbfgs; total time=   6.1s\n",
      "[CV] END hidden_layer_sizes=7, learning_rate_init=0.001, max_iter=2500, random_state=42, solver=lbfgs; total time=   8.1s\n",
      "[CV] END hidden_layer_sizes=7, learning_rate_init=0.001, max_iter=2500, random_state=42, solver=lbfgs; total time=   9.6s\n",
      "[CV] END hidden_layer_sizes=7, learning_rate_init=0.001, max_iter=2500, random_state=42, solver=lbfgs; total time=  10.8s\n",
      "[CV] END hidden_layer_sizes=7, learning_rate_init=0.001, max_iter=2500, random_state=42, solver=adam; total time=  10.5s\n",
      "[CV] END hidden_layer_sizes=7, learning_rate_init=0.001, max_iter=2500, random_state=42, solver=adam; total time=  11.6s\n",
      "[CV] END hidden_layer_sizes=7, learning_rate_init=0.001, max_iter=2500, random_state=42, solver=adam; total time=   6.8s\n",
      "[CV] END hidden_layer_sizes=7, learning_rate_init=0.001, max_iter=2500, random_state=42, solver=adam; total time=   6.4s\n",
      "[CV] END hidden_layer_sizes=7, learning_rate_init=0.001, max_iter=2500, random_state=42, solver=adam; total time=   5.2s\n",
      "[CV] END hidden_layer_sizes=7, learning_rate_init=1e-05, max_iter=2500, random_state=42, solver=lbfgs; total time=   9.3s\n",
      "[CV] END hidden_layer_sizes=7, learning_rate_init=1e-05, max_iter=2500, random_state=42, solver=lbfgs; total time=   6.4s\n",
      "[CV] END hidden_layer_sizes=7, learning_rate_init=1e-05, max_iter=2500, random_state=42, solver=lbfgs; total time=   9.1s\n",
      "[CV] END hidden_layer_sizes=7, learning_rate_init=1e-05, max_iter=2500, random_state=42, solver=lbfgs; total time=   9.8s\n",
      "[CV] END hidden_layer_sizes=7, learning_rate_init=1e-05, max_iter=2500, random_state=42, solver=lbfgs; total time=  10.6s\n",
      "[CV] END hidden_layer_sizes=7, learning_rate_init=1e-05, max_iter=2500, random_state=42, solver=adam; total time= 1.4min\n",
      "[CV] END hidden_layer_sizes=7, learning_rate_init=1e-05, max_iter=2500, random_state=42, solver=adam; total time= 1.4min\n",
      "[CV] END hidden_layer_sizes=7, learning_rate_init=1e-05, max_iter=2500, random_state=42, solver=adam; total time= 1.4min\n",
      "[CV] END hidden_layer_sizes=7, learning_rate_init=1e-05, max_iter=2500, random_state=42, solver=adam; total time= 1.5min\n",
      "[CV] END hidden_layer_sizes=7, learning_rate_init=1e-05, max_iter=2500, random_state=42, solver=adam; total time= 1.5min\n",
      "[CV] END hidden_layer_sizes=8, learning_rate_init=0.1, max_iter=2500, random_state=42, solver=lbfgs; total time=  13.3s\n",
      "[CV] END hidden_layer_sizes=8, learning_rate_init=0.1, max_iter=2500, random_state=42, solver=lbfgs; total time=  12.6s\n"
     ]
    },
    {
     "name": "stderr",
     "output_type": "stream",
     "text": [
      "C:\\Users\\salda\\Anaconda3\\lib\\site-packages\\sklearn\\neural_network\\_multilayer_perceptron.py:500: ConvergenceWarning: lbfgs failed to converge (status=1):\n",
      "STOP: TOTAL NO. of ITERATIONS REACHED LIMIT.\n",
      "\n",
      "Increase the number of iterations (max_iter) or scale the data as shown in:\n",
      "    https://scikit-learn.org/stable/modules/preprocessing.html\n",
      "  self.n_iter_ = _check_optimize_result(\"lbfgs\", opt_res, self.max_iter)\n"
     ]
    },
    {
     "name": "stdout",
     "output_type": "stream",
     "text": [
      "[CV] END hidden_layer_sizes=8, learning_rate_init=0.1, max_iter=2500, random_state=42, solver=lbfgs; total time=  19.0s\n",
      "[CV] END hidden_layer_sizes=8, learning_rate_init=0.1, max_iter=2500, random_state=42, solver=lbfgs; total time=  14.5s\n"
     ]
    },
    {
     "name": "stderr",
     "output_type": "stream",
     "text": [
      "C:\\Users\\salda\\Anaconda3\\lib\\site-packages\\sklearn\\neural_network\\_multilayer_perceptron.py:500: ConvergenceWarning: lbfgs failed to converge (status=1):\n",
      "STOP: TOTAL NO. of ITERATIONS REACHED LIMIT.\n",
      "\n",
      "Increase the number of iterations (max_iter) or scale the data as shown in:\n",
      "    https://scikit-learn.org/stable/modules/preprocessing.html\n",
      "  self.n_iter_ = _check_optimize_result(\"lbfgs\", opt_res, self.max_iter)\n"
     ]
    },
    {
     "name": "stdout",
     "output_type": "stream",
     "text": [
      "[CV] END hidden_layer_sizes=8, learning_rate_init=0.1, max_iter=2500, random_state=42, solver=lbfgs; total time=  21.4s\n",
      "[CV] END hidden_layer_sizes=8, learning_rate_init=0.1, max_iter=2500, random_state=42, solver=adam; total time=   2.6s\n",
      "[CV] END hidden_layer_sizes=8, learning_rate_init=0.1, max_iter=2500, random_state=42, solver=adam; total time=   3.4s\n",
      "[CV] END hidden_layer_sizes=8, learning_rate_init=0.1, max_iter=2500, random_state=42, solver=adam; total time=   0.6s\n",
      "[CV] END hidden_layer_sizes=8, learning_rate_init=0.1, max_iter=2500, random_state=42, solver=adam; total time=   2.4s\n",
      "[CV] END hidden_layer_sizes=8, learning_rate_init=0.1, max_iter=2500, random_state=42, solver=adam; total time=   0.5s\n",
      "[CV] END hidden_layer_sizes=8, learning_rate_init=0.001, max_iter=2500, random_state=42, solver=lbfgs; total time=  13.1s\n",
      "[CV] END hidden_layer_sizes=8, learning_rate_init=0.001, max_iter=2500, random_state=42, solver=lbfgs; total time=  12.2s\n"
     ]
    },
    {
     "name": "stderr",
     "output_type": "stream",
     "text": [
      "C:\\Users\\salda\\Anaconda3\\lib\\site-packages\\sklearn\\neural_network\\_multilayer_perceptron.py:500: ConvergenceWarning: lbfgs failed to converge (status=1):\n",
      "STOP: TOTAL NO. of ITERATIONS REACHED LIMIT.\n",
      "\n",
      "Increase the number of iterations (max_iter) or scale the data as shown in:\n",
      "    https://scikit-learn.org/stable/modules/preprocessing.html\n",
      "  self.n_iter_ = _check_optimize_result(\"lbfgs\", opt_res, self.max_iter)\n"
     ]
    },
    {
     "name": "stdout",
     "output_type": "stream",
     "text": [
      "[CV] END hidden_layer_sizes=8, learning_rate_init=0.001, max_iter=2500, random_state=42, solver=lbfgs; total time=  18.8s\n",
      "[CV] END hidden_layer_sizes=8, learning_rate_init=0.001, max_iter=2500, random_state=42, solver=lbfgs; total time=  15.2s\n"
     ]
    },
    {
     "name": "stderr",
     "output_type": "stream",
     "text": [
      "C:\\Users\\salda\\Anaconda3\\lib\\site-packages\\sklearn\\neural_network\\_multilayer_perceptron.py:500: ConvergenceWarning: lbfgs failed to converge (status=1):\n",
      "STOP: TOTAL NO. of ITERATIONS REACHED LIMIT.\n",
      "\n",
      "Increase the number of iterations (max_iter) or scale the data as shown in:\n",
      "    https://scikit-learn.org/stable/modules/preprocessing.html\n",
      "  self.n_iter_ = _check_optimize_result(\"lbfgs\", opt_res, self.max_iter)\n"
     ]
    },
    {
     "name": "stdout",
     "output_type": "stream",
     "text": [
      "[CV] END hidden_layer_sizes=8, learning_rate_init=0.001, max_iter=2500, random_state=42, solver=lbfgs; total time=  19.2s\n",
      "[CV] END hidden_layer_sizes=8, learning_rate_init=0.001, max_iter=2500, random_state=42, solver=adam; total time=   7.0s\n",
      "[CV] END hidden_layer_sizes=8, learning_rate_init=0.001, max_iter=2500, random_state=42, solver=adam; total time=   9.8s\n",
      "[CV] END hidden_layer_sizes=8, learning_rate_init=0.001, max_iter=2500, random_state=42, solver=adam; total time=   8.0s\n",
      "[CV] END hidden_layer_sizes=8, learning_rate_init=0.001, max_iter=2500, random_state=42, solver=adam; total time=   5.2s\n",
      "[CV] END hidden_layer_sizes=8, learning_rate_init=0.001, max_iter=2500, random_state=42, solver=adam; total time=   9.5s\n",
      "[CV] END hidden_layer_sizes=8, learning_rate_init=1e-05, max_iter=2500, random_state=42, solver=lbfgs; total time=  13.2s\n",
      "[CV] END hidden_layer_sizes=8, learning_rate_init=1e-05, max_iter=2500, random_state=42, solver=lbfgs; total time=  12.0s\n"
     ]
    },
    {
     "name": "stderr",
     "output_type": "stream",
     "text": [
      "C:\\Users\\salda\\Anaconda3\\lib\\site-packages\\sklearn\\neural_network\\_multilayer_perceptron.py:500: ConvergenceWarning: lbfgs failed to converge (status=1):\n",
      "STOP: TOTAL NO. of ITERATIONS REACHED LIMIT.\n",
      "\n",
      "Increase the number of iterations (max_iter) or scale the data as shown in:\n",
      "    https://scikit-learn.org/stable/modules/preprocessing.html\n",
      "  self.n_iter_ = _check_optimize_result(\"lbfgs\", opt_res, self.max_iter)\n"
     ]
    },
    {
     "name": "stdout",
     "output_type": "stream",
     "text": [
      "[CV] END hidden_layer_sizes=8, learning_rate_init=1e-05, max_iter=2500, random_state=42, solver=lbfgs; total time=  19.2s\n",
      "[CV] END hidden_layer_sizes=8, learning_rate_init=1e-05, max_iter=2500, random_state=42, solver=lbfgs; total time=  14.7s\n"
     ]
    },
    {
     "name": "stderr",
     "output_type": "stream",
     "text": [
      "C:\\Users\\salda\\Anaconda3\\lib\\site-packages\\sklearn\\neural_network\\_multilayer_perceptron.py:500: ConvergenceWarning: lbfgs failed to converge (status=1):\n",
      "STOP: TOTAL NO. of ITERATIONS REACHED LIMIT.\n",
      "\n",
      "Increase the number of iterations (max_iter) or scale the data as shown in:\n",
      "    https://scikit-learn.org/stable/modules/preprocessing.html\n",
      "  self.n_iter_ = _check_optimize_result(\"lbfgs\", opt_res, self.max_iter)\n"
     ]
    },
    {
     "name": "stdout",
     "output_type": "stream",
     "text": [
      "[CV] END hidden_layer_sizes=8, learning_rate_init=1e-05, max_iter=2500, random_state=42, solver=lbfgs; total time=  18.9s\n",
      "[CV] END hidden_layer_sizes=8, learning_rate_init=1e-05, max_iter=2500, random_state=42, solver=adam; total time= 1.7min\n",
      "[CV] END hidden_layer_sizes=8, learning_rate_init=1e-05, max_iter=2500, random_state=42, solver=adam; total time= 1.7min\n",
      "[CV] END hidden_layer_sizes=8, learning_rate_init=1e-05, max_iter=2500, random_state=42, solver=adam; total time= 1.7min\n",
      "[CV] END hidden_layer_sizes=8, learning_rate_init=1e-05, max_iter=2500, random_state=42, solver=adam; total time= 1.7min\n",
      "[CV] END hidden_layer_sizes=8, learning_rate_init=1e-05, max_iter=2500, random_state=42, solver=adam; total time= 1.7min\n",
      "[CV] END hidden_layer_sizes=9, learning_rate_init=0.1, max_iter=2500, random_state=42, solver=lbfgs; total time=  14.9s\n",
      "[CV] END hidden_layer_sizes=9, learning_rate_init=0.1, max_iter=2500, random_state=42, solver=lbfgs; total time=  15.3s\n",
      "[CV] END hidden_layer_sizes=9, learning_rate_init=0.1, max_iter=2500, random_state=42, solver=lbfgs; total time=  13.8s\n"
     ]
    },
    {
     "name": "stderr",
     "output_type": "stream",
     "text": [
      "C:\\Users\\salda\\Anaconda3\\lib\\site-packages\\sklearn\\neural_network\\_multilayer_perceptron.py:500: ConvergenceWarning: lbfgs failed to converge (status=1):\n",
      "STOP: TOTAL NO. of ITERATIONS REACHED LIMIT.\n",
      "\n",
      "Increase the number of iterations (max_iter) or scale the data as shown in:\n",
      "    https://scikit-learn.org/stable/modules/preprocessing.html\n",
      "  self.n_iter_ = _check_optimize_result(\"lbfgs\", opt_res, self.max_iter)\n"
     ]
    },
    {
     "name": "stdout",
     "output_type": "stream",
     "text": [
      "[CV] END hidden_layer_sizes=9, learning_rate_init=0.1, max_iter=2500, random_state=42, solver=lbfgs; total time=  19.4s\n",
      "[CV] END hidden_layer_sizes=9, learning_rate_init=0.1, max_iter=2500, random_state=42, solver=lbfgs; total time=  12.3s\n",
      "[CV] END hidden_layer_sizes=9, learning_rate_init=0.1, max_iter=2500, random_state=42, solver=adam; total time=   0.6s\n",
      "[CV] END hidden_layer_sizes=9, learning_rate_init=0.1, max_iter=2500, random_state=42, solver=adam; total time=   0.7s\n",
      "[CV] END hidden_layer_sizes=9, learning_rate_init=0.1, max_iter=2500, random_state=42, solver=adam; total time=   0.6s\n",
      "[CV] END hidden_layer_sizes=9, learning_rate_init=0.1, max_iter=2500, random_state=42, solver=adam; total time=   3.9s\n",
      "[CV] END hidden_layer_sizes=9, learning_rate_init=0.1, max_iter=2500, random_state=42, solver=adam; total time=   0.8s\n",
      "[CV] END hidden_layer_sizes=9, learning_rate_init=0.001, max_iter=2500, random_state=42, solver=lbfgs; total time=  14.1s\n",
      "[CV] END hidden_layer_sizes=9, learning_rate_init=0.001, max_iter=2500, random_state=42, solver=lbfgs; total time=  15.6s\n",
      "[CV] END hidden_layer_sizes=9, learning_rate_init=0.001, max_iter=2500, random_state=42, solver=lbfgs; total time=  14.0s\n"
     ]
    },
    {
     "name": "stderr",
     "output_type": "stream",
     "text": [
      "C:\\Users\\salda\\Anaconda3\\lib\\site-packages\\sklearn\\neural_network\\_multilayer_perceptron.py:500: ConvergenceWarning: lbfgs failed to converge (status=1):\n",
      "STOP: TOTAL NO. of ITERATIONS REACHED LIMIT.\n",
      "\n",
      "Increase the number of iterations (max_iter) or scale the data as shown in:\n",
      "    https://scikit-learn.org/stable/modules/preprocessing.html\n",
      "  self.n_iter_ = _check_optimize_result(\"lbfgs\", opt_res, self.max_iter)\n"
     ]
    },
    {
     "name": "stdout",
     "output_type": "stream",
     "text": [
      "[CV] END hidden_layer_sizes=9, learning_rate_init=0.001, max_iter=2500, random_state=42, solver=lbfgs; total time=  19.5s\n",
      "[CV] END hidden_layer_sizes=9, learning_rate_init=0.001, max_iter=2500, random_state=42, solver=lbfgs; total time=  11.8s\n",
      "[CV] END hidden_layer_sizes=9, learning_rate_init=0.001, max_iter=2500, random_state=42, solver=adam; total time=   7.0s\n",
      "[CV] END hidden_layer_sizes=9, learning_rate_init=0.001, max_iter=2500, random_state=42, solver=adam; total time=   8.7s\n",
      "[CV] END hidden_layer_sizes=9, learning_rate_init=0.001, max_iter=2500, random_state=42, solver=adam; total time=   6.5s\n",
      "[CV] END hidden_layer_sizes=9, learning_rate_init=0.001, max_iter=2500, random_state=42, solver=adam; total time=   8.0s\n",
      "[CV] END hidden_layer_sizes=9, learning_rate_init=0.001, max_iter=2500, random_state=42, solver=adam; total time=   8.3s\n",
      "[CV] END hidden_layer_sizes=9, learning_rate_init=1e-05, max_iter=2500, random_state=42, solver=lbfgs; total time=  14.3s\n",
      "[CV] END hidden_layer_sizes=9, learning_rate_init=1e-05, max_iter=2500, random_state=42, solver=lbfgs; total time=  15.4s\n",
      "[CV] END hidden_layer_sizes=9, learning_rate_init=1e-05, max_iter=2500, random_state=42, solver=lbfgs; total time=  13.2s\n"
     ]
    },
    {
     "name": "stderr",
     "output_type": "stream",
     "text": [
      "C:\\Users\\salda\\Anaconda3\\lib\\site-packages\\sklearn\\neural_network\\_multilayer_perceptron.py:500: ConvergenceWarning: lbfgs failed to converge (status=1):\n",
      "STOP: TOTAL NO. of ITERATIONS REACHED LIMIT.\n",
      "\n",
      "Increase the number of iterations (max_iter) or scale the data as shown in:\n",
      "    https://scikit-learn.org/stable/modules/preprocessing.html\n",
      "  self.n_iter_ = _check_optimize_result(\"lbfgs\", opt_res, self.max_iter)\n"
     ]
    },
    {
     "name": "stdout",
     "output_type": "stream",
     "text": [
      "[CV] END hidden_layer_sizes=9, learning_rate_init=1e-05, max_iter=2500, random_state=42, solver=lbfgs; total time=  20.0s\n",
      "[CV] END hidden_layer_sizes=9, learning_rate_init=1e-05, max_iter=2500, random_state=42, solver=lbfgs; total time=  11.7s\n",
      "[CV] END hidden_layer_sizes=9, learning_rate_init=1e-05, max_iter=2500, random_state=42, solver=adam; total time= 1.4min\n",
      "[CV] END hidden_layer_sizes=9, learning_rate_init=1e-05, max_iter=2500, random_state=42, solver=adam; total time= 1.5min\n",
      "[CV] END hidden_layer_sizes=9, learning_rate_init=1e-05, max_iter=2500, random_state=42, solver=adam; total time= 1.4min\n",
      "[CV] END hidden_layer_sizes=9, learning_rate_init=1e-05, max_iter=2500, random_state=42, solver=adam; total time= 1.4min\n",
      "[CV] END hidden_layer_sizes=9, learning_rate_init=1e-05, max_iter=2500, random_state=42, solver=adam; total time= 1.5min\n"
     ]
    },
    {
     "name": "stderr",
     "output_type": "stream",
     "text": [
      "C:\\Users\\salda\\Anaconda3\\lib\\site-packages\\sklearn\\neural_network\\_multilayer_perceptron.py:500: ConvergenceWarning: lbfgs failed to converge (status=1):\n",
      "STOP: TOTAL NO. of ITERATIONS REACHED LIMIT.\n",
      "\n",
      "Increase the number of iterations (max_iter) or scale the data as shown in:\n",
      "    https://scikit-learn.org/stable/modules/preprocessing.html\n",
      "  self.n_iter_ = _check_optimize_result(\"lbfgs\", opt_res, self.max_iter)\n"
     ]
    },
    {
     "name": "stdout",
     "output_type": "stream",
     "text": [
      "[CV] END hidden_layer_sizes=10, learning_rate_init=0.1, max_iter=2500, random_state=42, solver=lbfgs; total time=  21.6s\n",
      "[CV] END hidden_layer_sizes=10, learning_rate_init=0.1, max_iter=2500, random_state=42, solver=lbfgs; total time=  18.7s\n"
     ]
    },
    {
     "name": "stderr",
     "output_type": "stream",
     "text": [
      "C:\\Users\\salda\\Anaconda3\\lib\\site-packages\\sklearn\\neural_network\\_multilayer_perceptron.py:500: ConvergenceWarning: lbfgs failed to converge (status=1):\n",
      "STOP: TOTAL NO. of ITERATIONS REACHED LIMIT.\n",
      "\n",
      "Increase the number of iterations (max_iter) or scale the data as shown in:\n",
      "    https://scikit-learn.org/stable/modules/preprocessing.html\n",
      "  self.n_iter_ = _check_optimize_result(\"lbfgs\", opt_res, self.max_iter)\n"
     ]
    },
    {
     "name": "stdout",
     "output_type": "stream",
     "text": [
      "[CV] END hidden_layer_sizes=10, learning_rate_init=0.1, max_iter=2500, random_state=42, solver=lbfgs; total time=  21.7s\n"
     ]
    },
    {
     "name": "stderr",
     "output_type": "stream",
     "text": [
      "C:\\Users\\salda\\Anaconda3\\lib\\site-packages\\sklearn\\neural_network\\_multilayer_perceptron.py:500: ConvergenceWarning: lbfgs failed to converge (status=1):\n",
      "STOP: TOTAL NO. of ITERATIONS REACHED LIMIT.\n",
      "\n",
      "Increase the number of iterations (max_iter) or scale the data as shown in:\n",
      "    https://scikit-learn.org/stable/modules/preprocessing.html\n",
      "  self.n_iter_ = _check_optimize_result(\"lbfgs\", opt_res, self.max_iter)\n"
     ]
    },
    {
     "name": "stdout",
     "output_type": "stream",
     "text": [
      "[CV] END hidden_layer_sizes=10, learning_rate_init=0.1, max_iter=2500, random_state=42, solver=lbfgs; total time=  22.3s\n",
      "[CV] END hidden_layer_sizes=10, learning_rate_init=0.1, max_iter=2500, random_state=42, solver=lbfgs; total time=  14.2s\n",
      "[CV] END hidden_layer_sizes=10, learning_rate_init=0.1, max_iter=2500, random_state=42, solver=adam; total time=   0.7s\n",
      "[CV] END hidden_layer_sizes=10, learning_rate_init=0.1, max_iter=2500, random_state=42, solver=adam; total time=   1.7s\n",
      "[CV] END hidden_layer_sizes=10, learning_rate_init=0.1, max_iter=2500, random_state=42, solver=adam; total time=   0.6s\n",
      "[CV] END hidden_layer_sizes=10, learning_rate_init=0.1, max_iter=2500, random_state=42, solver=adam; total time=   0.8s\n",
      "[CV] END hidden_layer_sizes=10, learning_rate_init=0.1, max_iter=2500, random_state=42, solver=adam; total time=   1.0s\n"
     ]
    },
    {
     "name": "stderr",
     "output_type": "stream",
     "text": [
      "C:\\Users\\salda\\Anaconda3\\lib\\site-packages\\sklearn\\neural_network\\_multilayer_perceptron.py:500: ConvergenceWarning: lbfgs failed to converge (status=1):\n",
      "STOP: TOTAL NO. of ITERATIONS REACHED LIMIT.\n",
      "\n",
      "Increase the number of iterations (max_iter) or scale the data as shown in:\n",
      "    https://scikit-learn.org/stable/modules/preprocessing.html\n",
      "  self.n_iter_ = _check_optimize_result(\"lbfgs\", opt_res, self.max_iter)\n"
     ]
    },
    {
     "name": "stdout",
     "output_type": "stream",
     "text": [
      "[CV] END hidden_layer_sizes=10, learning_rate_init=0.001, max_iter=2500, random_state=42, solver=lbfgs; total time=  21.1s\n",
      "[CV] END hidden_layer_sizes=10, learning_rate_init=0.001, max_iter=2500, random_state=42, solver=lbfgs; total time=  18.9s\n"
     ]
    },
    {
     "name": "stderr",
     "output_type": "stream",
     "text": [
      "C:\\Users\\salda\\Anaconda3\\lib\\site-packages\\sklearn\\neural_network\\_multilayer_perceptron.py:500: ConvergenceWarning: lbfgs failed to converge (status=1):\n",
      "STOP: TOTAL NO. of ITERATIONS REACHED LIMIT.\n",
      "\n",
      "Increase the number of iterations (max_iter) or scale the data as shown in:\n",
      "    https://scikit-learn.org/stable/modules/preprocessing.html\n",
      "  self.n_iter_ = _check_optimize_result(\"lbfgs\", opt_res, self.max_iter)\n"
     ]
    },
    {
     "name": "stdout",
     "output_type": "stream",
     "text": [
      "[CV] END hidden_layer_sizes=10, learning_rate_init=0.001, max_iter=2500, random_state=42, solver=lbfgs; total time=  21.7s\n"
     ]
    },
    {
     "name": "stderr",
     "output_type": "stream",
     "text": [
      "C:\\Users\\salda\\Anaconda3\\lib\\site-packages\\sklearn\\neural_network\\_multilayer_perceptron.py:500: ConvergenceWarning: lbfgs failed to converge (status=1):\n",
      "STOP: TOTAL NO. of ITERATIONS REACHED LIMIT.\n",
      "\n",
      "Increase the number of iterations (max_iter) or scale the data as shown in:\n",
      "    https://scikit-learn.org/stable/modules/preprocessing.html\n",
      "  self.n_iter_ = _check_optimize_result(\"lbfgs\", opt_res, self.max_iter)\n"
     ]
    },
    {
     "name": "stdout",
     "output_type": "stream",
     "text": [
      "[CV] END hidden_layer_sizes=10, learning_rate_init=0.001, max_iter=2500, random_state=42, solver=lbfgs; total time=  21.4s\n",
      "[CV] END hidden_layer_sizes=10, learning_rate_init=0.001, max_iter=2500, random_state=42, solver=lbfgs; total time=  14.4s\n",
      "[CV] END hidden_layer_sizes=10, learning_rate_init=0.001, max_iter=2500, random_state=42, solver=adam; total time=   7.4s\n",
      "[CV] END hidden_layer_sizes=10, learning_rate_init=0.001, max_iter=2500, random_state=42, solver=adam; total time=   7.3s\n",
      "[CV] END hidden_layer_sizes=10, learning_rate_init=0.001, max_iter=2500, random_state=42, solver=adam; total time=   9.7s\n",
      "[CV] END hidden_layer_sizes=10, learning_rate_init=0.001, max_iter=2500, random_state=42, solver=adam; total time=   5.0s\n",
      "[CV] END hidden_layer_sizes=10, learning_rate_init=0.001, max_iter=2500, random_state=42, solver=adam; total time=  12.7s\n"
     ]
    },
    {
     "name": "stderr",
     "output_type": "stream",
     "text": [
      "C:\\Users\\salda\\Anaconda3\\lib\\site-packages\\sklearn\\neural_network\\_multilayer_perceptron.py:500: ConvergenceWarning: lbfgs failed to converge (status=1):\n",
      "STOP: TOTAL NO. of ITERATIONS REACHED LIMIT.\n",
      "\n",
      "Increase the number of iterations (max_iter) or scale the data as shown in:\n",
      "    https://scikit-learn.org/stable/modules/preprocessing.html\n",
      "  self.n_iter_ = _check_optimize_result(\"lbfgs\", opt_res, self.max_iter)\n"
     ]
    },
    {
     "name": "stdout",
     "output_type": "stream",
     "text": [
      "[CV] END hidden_layer_sizes=10, learning_rate_init=1e-05, max_iter=2500, random_state=42, solver=lbfgs; total time=  21.4s\n",
      "[CV] END hidden_layer_sizes=10, learning_rate_init=1e-05, max_iter=2500, random_state=42, solver=lbfgs; total time=  18.4s\n"
     ]
    },
    {
     "name": "stderr",
     "output_type": "stream",
     "text": [
      "C:\\Users\\salda\\Anaconda3\\lib\\site-packages\\sklearn\\neural_network\\_multilayer_perceptron.py:500: ConvergenceWarning: lbfgs failed to converge (status=1):\n",
      "STOP: TOTAL NO. of ITERATIONS REACHED LIMIT.\n",
      "\n",
      "Increase the number of iterations (max_iter) or scale the data as shown in:\n",
      "    https://scikit-learn.org/stable/modules/preprocessing.html\n",
      "  self.n_iter_ = _check_optimize_result(\"lbfgs\", opt_res, self.max_iter)\n"
     ]
    },
    {
     "name": "stdout",
     "output_type": "stream",
     "text": [
      "[CV] END hidden_layer_sizes=10, learning_rate_init=1e-05, max_iter=2500, random_state=42, solver=lbfgs; total time=  22.3s\n"
     ]
    },
    {
     "name": "stderr",
     "output_type": "stream",
     "text": [
      "C:\\Users\\salda\\Anaconda3\\lib\\site-packages\\sklearn\\neural_network\\_multilayer_perceptron.py:500: ConvergenceWarning: lbfgs failed to converge (status=1):\n",
      "STOP: TOTAL NO. of ITERATIONS REACHED LIMIT.\n",
      "\n",
      "Increase the number of iterations (max_iter) or scale the data as shown in:\n",
      "    https://scikit-learn.org/stable/modules/preprocessing.html\n",
      "  self.n_iter_ = _check_optimize_result(\"lbfgs\", opt_res, self.max_iter)\n"
     ]
    },
    {
     "name": "stdout",
     "output_type": "stream",
     "text": [
      "[CV] END hidden_layer_sizes=10, learning_rate_init=1e-05, max_iter=2500, random_state=42, solver=lbfgs; total time=  22.2s\n",
      "[CV] END hidden_layer_sizes=10, learning_rate_init=1e-05, max_iter=2500, random_state=42, solver=lbfgs; total time=  13.9s\n",
      "[CV] END hidden_layer_sizes=10, learning_rate_init=1e-05, max_iter=2500, random_state=42, solver=adam; total time= 1.4min\n",
      "[CV] END hidden_layer_sizes=10, learning_rate_init=1e-05, max_iter=2500, random_state=42, solver=adam; total time= 1.4min\n",
      "[CV] END hidden_layer_sizes=10, learning_rate_init=1e-05, max_iter=2500, random_state=42, solver=adam; total time= 1.5min\n",
      "[CV] END hidden_layer_sizes=10, learning_rate_init=1e-05, max_iter=2500, random_state=42, solver=adam; total time= 1.5min\n",
      "[CV] END hidden_layer_sizes=10, learning_rate_init=1e-05, max_iter=2500, random_state=42, solver=adam; total time= 1.4min\n",
      "[CV] END hidden_layer_sizes=11, learning_rate_init=0.1, max_iter=2500, random_state=42, solver=lbfgs; total time=  19.2s\n"
     ]
    },
    {
     "name": "stderr",
     "output_type": "stream",
     "text": [
      "C:\\Users\\salda\\Anaconda3\\lib\\site-packages\\sklearn\\neural_network\\_multilayer_perceptron.py:500: ConvergenceWarning: lbfgs failed to converge (status=1):\n",
      "STOP: TOTAL NO. of ITERATIONS REACHED LIMIT.\n",
      "\n",
      "Increase the number of iterations (max_iter) or scale the data as shown in:\n",
      "    https://scikit-learn.org/stable/modules/preprocessing.html\n",
      "  self.n_iter_ = _check_optimize_result(\"lbfgs\", opt_res, self.max_iter)\n"
     ]
    },
    {
     "name": "stdout",
     "output_type": "stream",
     "text": [
      "[CV] END hidden_layer_sizes=11, learning_rate_init=0.1, max_iter=2500, random_state=42, solver=lbfgs; total time=  25.3s\n",
      "[CV] END hidden_layer_sizes=11, learning_rate_init=0.1, max_iter=2500, random_state=42, solver=lbfgs; total time=  20.0s\n",
      "[CV] END hidden_layer_sizes=11, learning_rate_init=0.1, max_iter=2500, random_state=42, solver=lbfgs; total time=  13.9s\n",
      "[CV] END hidden_layer_sizes=11, learning_rate_init=0.1, max_iter=2500, random_state=42, solver=lbfgs; total time=  19.8s\n",
      "[CV] END hidden_layer_sizes=11, learning_rate_init=0.1, max_iter=2500, random_state=42, solver=adam; total time=   2.7s\n",
      "[CV] END hidden_layer_sizes=11, learning_rate_init=0.1, max_iter=2500, random_state=42, solver=adam; total time=   3.4s\n",
      "[CV] END hidden_layer_sizes=11, learning_rate_init=0.1, max_iter=2500, random_state=42, solver=adam; total time=   0.8s\n",
      "[CV] END hidden_layer_sizes=11, learning_rate_init=0.1, max_iter=2500, random_state=42, solver=adam; total time=   1.7s\n",
      "[CV] END hidden_layer_sizes=11, learning_rate_init=0.1, max_iter=2500, random_state=42, solver=adam; total time=   3.6s\n",
      "[CV] END hidden_layer_sizes=11, learning_rate_init=0.001, max_iter=2500, random_state=42, solver=lbfgs; total time=  19.2s\n"
     ]
    },
    {
     "name": "stderr",
     "output_type": "stream",
     "text": [
      "C:\\Users\\salda\\Anaconda3\\lib\\site-packages\\sklearn\\neural_network\\_multilayer_perceptron.py:500: ConvergenceWarning: lbfgs failed to converge (status=1):\n",
      "STOP: TOTAL NO. of ITERATIONS REACHED LIMIT.\n",
      "\n",
      "Increase the number of iterations (max_iter) or scale the data as shown in:\n",
      "    https://scikit-learn.org/stable/modules/preprocessing.html\n",
      "  self.n_iter_ = _check_optimize_result(\"lbfgs\", opt_res, self.max_iter)\n"
     ]
    },
    {
     "name": "stdout",
     "output_type": "stream",
     "text": [
      "[CV] END hidden_layer_sizes=11, learning_rate_init=0.001, max_iter=2500, random_state=42, solver=lbfgs; total time=  24.5s\n",
      "[CV] END hidden_layer_sizes=11, learning_rate_init=0.001, max_iter=2500, random_state=42, solver=lbfgs; total time=  20.0s\n",
      "[CV] END hidden_layer_sizes=11, learning_rate_init=0.001, max_iter=2500, random_state=42, solver=lbfgs; total time=  13.9s\n",
      "[CV] END hidden_layer_sizes=11, learning_rate_init=0.001, max_iter=2500, random_state=42, solver=lbfgs; total time=  19.8s\n",
      "[CV] END hidden_layer_sizes=11, learning_rate_init=0.001, max_iter=2500, random_state=42, solver=adam; total time=  10.7s\n",
      "[CV] END hidden_layer_sizes=11, learning_rate_init=0.001, max_iter=2500, random_state=42, solver=adam; total time=  17.9s\n",
      "[CV] END hidden_layer_sizes=11, learning_rate_init=0.001, max_iter=2500, random_state=42, solver=adam; total time=   8.4s\n",
      "[CV] END hidden_layer_sizes=11, learning_rate_init=0.001, max_iter=2500, random_state=42, solver=adam; total time=   8.7s\n",
      "[CV] END hidden_layer_sizes=11, learning_rate_init=0.001, max_iter=2500, random_state=42, solver=adam; total time=  14.2s\n",
      "[CV] END hidden_layer_sizes=11, learning_rate_init=1e-05, max_iter=2500, random_state=42, solver=lbfgs; total time=  19.1s\n"
     ]
    },
    {
     "name": "stderr",
     "output_type": "stream",
     "text": [
      "C:\\Users\\salda\\Anaconda3\\lib\\site-packages\\sklearn\\neural_network\\_multilayer_perceptron.py:500: ConvergenceWarning: lbfgs failed to converge (status=1):\n",
      "STOP: TOTAL NO. of ITERATIONS REACHED LIMIT.\n",
      "\n",
      "Increase the number of iterations (max_iter) or scale the data as shown in:\n",
      "    https://scikit-learn.org/stable/modules/preprocessing.html\n",
      "  self.n_iter_ = _check_optimize_result(\"lbfgs\", opt_res, self.max_iter)\n"
     ]
    },
    {
     "name": "stdout",
     "output_type": "stream",
     "text": [
      "[CV] END hidden_layer_sizes=11, learning_rate_init=1e-05, max_iter=2500, random_state=42, solver=lbfgs; total time=  23.3s\n",
      "[CV] END hidden_layer_sizes=11, learning_rate_init=1e-05, max_iter=2500, random_state=42, solver=lbfgs; total time=  20.5s\n",
      "[CV] END hidden_layer_sizes=11, learning_rate_init=1e-05, max_iter=2500, random_state=42, solver=lbfgs; total time=  14.3s\n",
      "[CV] END hidden_layer_sizes=11, learning_rate_init=1e-05, max_iter=2500, random_state=42, solver=lbfgs; total time=  20.0s\n",
      "[CV] END hidden_layer_sizes=11, learning_rate_init=1e-05, max_iter=2500, random_state=42, solver=adam; total time= 1.6min\n",
      "[CV] END hidden_layer_sizes=11, learning_rate_init=1e-05, max_iter=2500, random_state=42, solver=adam; total time= 1.6min\n",
      "[CV] END hidden_layer_sizes=11, learning_rate_init=1e-05, max_iter=2500, random_state=42, solver=adam; total time= 1.7min\n",
      "[CV] END hidden_layer_sizes=11, learning_rate_init=1e-05, max_iter=2500, random_state=42, solver=adam; total time= 1.8min\n",
      "[CV] END hidden_layer_sizes=11, learning_rate_init=1e-05, max_iter=2500, random_state=42, solver=adam; total time= 1.7min\n",
      "[CV] END hidden_layer_sizes=12, learning_rate_init=0.1, max_iter=2500, random_state=42, solver=lbfgs; total time=  21.2s\n"
     ]
    },
    {
     "name": "stderr",
     "output_type": "stream",
     "text": [
      "C:\\Users\\salda\\Anaconda3\\lib\\site-packages\\sklearn\\neural_network\\_multilayer_perceptron.py:500: ConvergenceWarning: lbfgs failed to converge (status=1):\n",
      "STOP: TOTAL NO. of ITERATIONS REACHED LIMIT.\n",
      "\n",
      "Increase the number of iterations (max_iter) or scale the data as shown in:\n",
      "    https://scikit-learn.org/stable/modules/preprocessing.html\n",
      "  self.n_iter_ = _check_optimize_result(\"lbfgs\", opt_res, self.max_iter)\n"
     ]
    },
    {
     "name": "stdout",
     "output_type": "stream",
     "text": [
      "[CV] END hidden_layer_sizes=12, learning_rate_init=0.1, max_iter=2500, random_state=42, solver=lbfgs; total time=  26.2s\n",
      "[CV] END hidden_layer_sizes=12, learning_rate_init=0.1, max_iter=2500, random_state=42, solver=lbfgs; total time=  16.5s\n"
     ]
    },
    {
     "name": "stderr",
     "output_type": "stream",
     "text": [
      "C:\\Users\\salda\\Anaconda3\\lib\\site-packages\\sklearn\\neural_network\\_multilayer_perceptron.py:500: ConvergenceWarning: lbfgs failed to converge (status=1):\n",
      "STOP: TOTAL NO. of ITERATIONS REACHED LIMIT.\n",
      "\n",
      "Increase the number of iterations (max_iter) or scale the data as shown in:\n",
      "    https://scikit-learn.org/stable/modules/preprocessing.html\n",
      "  self.n_iter_ = _check_optimize_result(\"lbfgs\", opt_res, self.max_iter)\n"
     ]
    },
    {
     "name": "stdout",
     "output_type": "stream",
     "text": [
      "[CV] END hidden_layer_sizes=12, learning_rate_init=0.1, max_iter=2500, random_state=42, solver=lbfgs; total time=  25.5s\n",
      "[CV] END hidden_layer_sizes=12, learning_rate_init=0.1, max_iter=2500, random_state=42, solver=lbfgs; total time=  22.7s\n",
      "[CV] END hidden_layer_sizes=12, learning_rate_init=0.1, max_iter=2500, random_state=42, solver=adam; total time=   1.0s\n",
      "[CV] END hidden_layer_sizes=12, learning_rate_init=0.1, max_iter=2500, random_state=42, solver=adam; total time=   0.9s\n",
      "[CV] END hidden_layer_sizes=12, learning_rate_init=0.1, max_iter=2500, random_state=42, solver=adam; total time=   2.3s\n",
      "[CV] END hidden_layer_sizes=12, learning_rate_init=0.1, max_iter=2500, random_state=42, solver=adam; total time=   2.5s\n",
      "[CV] END hidden_layer_sizes=12, learning_rate_init=0.1, max_iter=2500, random_state=42, solver=adam; total time=   2.3s\n",
      "[CV] END hidden_layer_sizes=12, learning_rate_init=0.001, max_iter=2500, random_state=42, solver=lbfgs; total time=  21.6s\n"
     ]
    },
    {
     "name": "stderr",
     "output_type": "stream",
     "text": [
      "C:\\Users\\salda\\Anaconda3\\lib\\site-packages\\sklearn\\neural_network\\_multilayer_perceptron.py:500: ConvergenceWarning: lbfgs failed to converge (status=1):\n",
      "STOP: TOTAL NO. of ITERATIONS REACHED LIMIT.\n",
      "\n",
      "Increase the number of iterations (max_iter) or scale the data as shown in:\n",
      "    https://scikit-learn.org/stable/modules/preprocessing.html\n",
      "  self.n_iter_ = _check_optimize_result(\"lbfgs\", opt_res, self.max_iter)\n"
     ]
    },
    {
     "name": "stdout",
     "output_type": "stream",
     "text": [
      "[CV] END hidden_layer_sizes=12, learning_rate_init=0.001, max_iter=2500, random_state=42, solver=lbfgs; total time=  25.2s\n",
      "[CV] END hidden_layer_sizes=12, learning_rate_init=0.001, max_iter=2500, random_state=42, solver=lbfgs; total time=  16.1s\n"
     ]
    },
    {
     "name": "stderr",
     "output_type": "stream",
     "text": [
      "C:\\Users\\salda\\Anaconda3\\lib\\site-packages\\sklearn\\neural_network\\_multilayer_perceptron.py:500: ConvergenceWarning: lbfgs failed to converge (status=1):\n",
      "STOP: TOTAL NO. of ITERATIONS REACHED LIMIT.\n",
      "\n",
      "Increase the number of iterations (max_iter) or scale the data as shown in:\n",
      "    https://scikit-learn.org/stable/modules/preprocessing.html\n",
      "  self.n_iter_ = _check_optimize_result(\"lbfgs\", opt_res, self.max_iter)\n"
     ]
    },
    {
     "name": "stdout",
     "output_type": "stream",
     "text": [
      "[CV] END hidden_layer_sizes=12, learning_rate_init=0.001, max_iter=2500, random_state=42, solver=lbfgs; total time=  25.8s\n",
      "[CV] END hidden_layer_sizes=12, learning_rate_init=0.001, max_iter=2500, random_state=42, solver=lbfgs; total time=  22.3s\n",
      "[CV] END hidden_layer_sizes=12, learning_rate_init=0.001, max_iter=2500, random_state=42, solver=adam; total time=   8.7s\n",
      "[CV] END hidden_layer_sizes=12, learning_rate_init=0.001, max_iter=2500, random_state=42, solver=adam; total time=  14.4s\n",
      "[CV] END hidden_layer_sizes=12, learning_rate_init=0.001, max_iter=2500, random_state=42, solver=adam; total time=  15.1s\n",
      "[CV] END hidden_layer_sizes=12, learning_rate_init=0.001, max_iter=2500, random_state=42, solver=adam; total time=  11.7s\n",
      "[CV] END hidden_layer_sizes=12, learning_rate_init=0.001, max_iter=2500, random_state=42, solver=adam; total time=  11.2s\n",
      "[CV] END hidden_layer_sizes=12, learning_rate_init=1e-05, max_iter=2500, random_state=42, solver=lbfgs; total time=  21.3s\n"
     ]
    },
    {
     "name": "stderr",
     "output_type": "stream",
     "text": [
      "C:\\Users\\salda\\Anaconda3\\lib\\site-packages\\sklearn\\neural_network\\_multilayer_perceptron.py:500: ConvergenceWarning: lbfgs failed to converge (status=1):\n",
      "STOP: TOTAL NO. of ITERATIONS REACHED LIMIT.\n",
      "\n",
      "Increase the number of iterations (max_iter) or scale the data as shown in:\n",
      "    https://scikit-learn.org/stable/modules/preprocessing.html\n",
      "  self.n_iter_ = _check_optimize_result(\"lbfgs\", opt_res, self.max_iter)\n"
     ]
    },
    {
     "name": "stdout",
     "output_type": "stream",
     "text": [
      "[CV] END hidden_layer_sizes=12, learning_rate_init=1e-05, max_iter=2500, random_state=42, solver=lbfgs; total time=  25.0s\n",
      "[CV] END hidden_layer_sizes=12, learning_rate_init=1e-05, max_iter=2500, random_state=42, solver=lbfgs; total time=  17.4s\n"
     ]
    },
    {
     "name": "stderr",
     "output_type": "stream",
     "text": [
      "C:\\Users\\salda\\Anaconda3\\lib\\site-packages\\sklearn\\neural_network\\_multilayer_perceptron.py:500: ConvergenceWarning: lbfgs failed to converge (status=1):\n",
      "STOP: TOTAL NO. of ITERATIONS REACHED LIMIT.\n",
      "\n",
      "Increase the number of iterations (max_iter) or scale the data as shown in:\n",
      "    https://scikit-learn.org/stable/modules/preprocessing.html\n",
      "  self.n_iter_ = _check_optimize_result(\"lbfgs\", opt_res, self.max_iter)\n"
     ]
    },
    {
     "name": "stdout",
     "output_type": "stream",
     "text": [
      "[CV] END hidden_layer_sizes=12, learning_rate_init=1e-05, max_iter=2500, random_state=42, solver=lbfgs; total time=  25.6s\n",
      "[CV] END hidden_layer_sizes=12, learning_rate_init=1e-05, max_iter=2500, random_state=42, solver=lbfgs; total time=  22.2s\n",
      "[CV] END hidden_layer_sizes=12, learning_rate_init=1e-05, max_iter=2500, random_state=42, solver=adam; total time= 1.5min\n",
      "[CV] END hidden_layer_sizes=12, learning_rate_init=1e-05, max_iter=2500, random_state=42, solver=adam; total time= 1.6min\n",
      "[CV] END hidden_layer_sizes=12, learning_rate_init=1e-05, max_iter=2500, random_state=42, solver=adam; total time= 1.8min\n",
      "[CV] END hidden_layer_sizes=12, learning_rate_init=1e-05, max_iter=2500, random_state=42, solver=adam; total time= 1.5min\n",
      "[CV] END hidden_layer_sizes=12, learning_rate_init=1e-05, max_iter=2500, random_state=42, solver=adam; total time= 1.4min\n"
     ]
    },
    {
     "name": "stderr",
     "output_type": "stream",
     "text": [
      "C:\\Users\\salda\\Anaconda3\\lib\\site-packages\\sklearn\\neural_network\\_multilayer_perceptron.py:500: ConvergenceWarning: lbfgs failed to converge (status=1):\n",
      "STOP: TOTAL NO. of ITERATIONS REACHED LIMIT.\n",
      "\n",
      "Increase the number of iterations (max_iter) or scale the data as shown in:\n",
      "    https://scikit-learn.org/stable/modules/preprocessing.html\n",
      "  self.n_iter_ = _check_optimize_result(\"lbfgs\", opt_res, self.max_iter)\n"
     ]
    },
    {
     "name": "stdout",
     "output_type": "stream",
     "text": [
      "[CV] END hidden_layer_sizes=13, learning_rate_init=0.1, max_iter=2500, random_state=42, solver=lbfgs; total time=  27.0s\n"
     ]
    },
    {
     "name": "stderr",
     "output_type": "stream",
     "text": [
      "C:\\Users\\salda\\Anaconda3\\lib\\site-packages\\sklearn\\neural_network\\_multilayer_perceptron.py:500: ConvergenceWarning: lbfgs failed to converge (status=1):\n",
      "STOP: TOTAL NO. of ITERATIONS REACHED LIMIT.\n",
      "\n",
      "Increase the number of iterations (max_iter) or scale the data as shown in:\n",
      "    https://scikit-learn.org/stable/modules/preprocessing.html\n",
      "  self.n_iter_ = _check_optimize_result(\"lbfgs\", opt_res, self.max_iter)\n"
     ]
    },
    {
     "name": "stdout",
     "output_type": "stream",
     "text": [
      "[CV] END hidden_layer_sizes=13, learning_rate_init=0.1, max_iter=2500, random_state=42, solver=lbfgs; total time=  28.6s\n"
     ]
    },
    {
     "name": "stderr",
     "output_type": "stream",
     "text": [
      "C:\\Users\\salda\\Anaconda3\\lib\\site-packages\\sklearn\\neural_network\\_multilayer_perceptron.py:500: ConvergenceWarning: lbfgs failed to converge (status=1):\n",
      "STOP: TOTAL NO. of ITERATIONS REACHED LIMIT.\n",
      "\n",
      "Increase the number of iterations (max_iter) or scale the data as shown in:\n",
      "    https://scikit-learn.org/stable/modules/preprocessing.html\n",
      "  self.n_iter_ = _check_optimize_result(\"lbfgs\", opt_res, self.max_iter)\n"
     ]
    },
    {
     "name": "stdout",
     "output_type": "stream",
     "text": [
      "[CV] END hidden_layer_sizes=13, learning_rate_init=0.1, max_iter=2500, random_state=42, solver=lbfgs; total time=  27.3s\n",
      "[CV] END hidden_layer_sizes=13, learning_rate_init=0.1, max_iter=2500, random_state=42, solver=lbfgs; total time=  24.6s\n"
     ]
    },
    {
     "name": "stderr",
     "output_type": "stream",
     "text": [
      "C:\\Users\\salda\\Anaconda3\\lib\\site-packages\\sklearn\\neural_network\\_multilayer_perceptron.py:500: ConvergenceWarning: lbfgs failed to converge (status=1):\n",
      "STOP: TOTAL NO. of ITERATIONS REACHED LIMIT.\n",
      "\n",
      "Increase the number of iterations (max_iter) or scale the data as shown in:\n",
      "    https://scikit-learn.org/stable/modules/preprocessing.html\n",
      "  self.n_iter_ = _check_optimize_result(\"lbfgs\", opt_res, self.max_iter)\n"
     ]
    },
    {
     "name": "stdout",
     "output_type": "stream",
     "text": [
      "[CV] END hidden_layer_sizes=13, learning_rate_init=0.1, max_iter=2500, random_state=42, solver=lbfgs; total time=  26.4s\n",
      "[CV] END hidden_layer_sizes=13, learning_rate_init=0.1, max_iter=2500, random_state=42, solver=adam; total time=   2.3s\n",
      "[CV] END hidden_layer_sizes=13, learning_rate_init=0.1, max_iter=2500, random_state=42, solver=adam; total time=   2.5s\n",
      "[CV] END hidden_layer_sizes=13, learning_rate_init=0.1, max_iter=2500, random_state=42, solver=adam; total time=   1.9s\n",
      "[CV] END hidden_layer_sizes=13, learning_rate_init=0.1, max_iter=2500, random_state=42, solver=adam; total time=   0.7s\n",
      "[CV] END hidden_layer_sizes=13, learning_rate_init=0.1, max_iter=2500, random_state=42, solver=adam; total time=   1.4s\n"
     ]
    },
    {
     "name": "stderr",
     "output_type": "stream",
     "text": [
      "C:\\Users\\salda\\Anaconda3\\lib\\site-packages\\sklearn\\neural_network\\_multilayer_perceptron.py:500: ConvergenceWarning: lbfgs failed to converge (status=1):\n",
      "STOP: TOTAL NO. of ITERATIONS REACHED LIMIT.\n",
      "\n",
      "Increase the number of iterations (max_iter) or scale the data as shown in:\n",
      "    https://scikit-learn.org/stable/modules/preprocessing.html\n",
      "  self.n_iter_ = _check_optimize_result(\"lbfgs\", opt_res, self.max_iter)\n"
     ]
    },
    {
     "name": "stdout",
     "output_type": "stream",
     "text": [
      "[CV] END hidden_layer_sizes=13, learning_rate_init=0.001, max_iter=2500, random_state=42, solver=lbfgs; total time=  27.2s\n"
     ]
    },
    {
     "name": "stderr",
     "output_type": "stream",
     "text": [
      "C:\\Users\\salda\\Anaconda3\\lib\\site-packages\\sklearn\\neural_network\\_multilayer_perceptron.py:500: ConvergenceWarning: lbfgs failed to converge (status=1):\n",
      "STOP: TOTAL NO. of ITERATIONS REACHED LIMIT.\n",
      "\n",
      "Increase the number of iterations (max_iter) or scale the data as shown in:\n",
      "    https://scikit-learn.org/stable/modules/preprocessing.html\n",
      "  self.n_iter_ = _check_optimize_result(\"lbfgs\", opt_res, self.max_iter)\n"
     ]
    },
    {
     "name": "stdout",
     "output_type": "stream",
     "text": [
      "[CV] END hidden_layer_sizes=13, learning_rate_init=0.001, max_iter=2500, random_state=42, solver=lbfgs; total time=  27.9s\n"
     ]
    },
    {
     "name": "stderr",
     "output_type": "stream",
     "text": [
      "C:\\Users\\salda\\Anaconda3\\lib\\site-packages\\sklearn\\neural_network\\_multilayer_perceptron.py:500: ConvergenceWarning: lbfgs failed to converge (status=1):\n",
      "STOP: TOTAL NO. of ITERATIONS REACHED LIMIT.\n",
      "\n",
      "Increase the number of iterations (max_iter) or scale the data as shown in:\n",
      "    https://scikit-learn.org/stable/modules/preprocessing.html\n",
      "  self.n_iter_ = _check_optimize_result(\"lbfgs\", opt_res, self.max_iter)\n"
     ]
    },
    {
     "name": "stdout",
     "output_type": "stream",
     "text": [
      "[CV] END hidden_layer_sizes=13, learning_rate_init=0.001, max_iter=2500, random_state=42, solver=lbfgs; total time=  27.1s\n",
      "[CV] END hidden_layer_sizes=13, learning_rate_init=0.001, max_iter=2500, random_state=42, solver=lbfgs; total time=  23.9s\n"
     ]
    },
    {
     "name": "stderr",
     "output_type": "stream",
     "text": [
      "C:\\Users\\salda\\Anaconda3\\lib\\site-packages\\sklearn\\neural_network\\_multilayer_perceptron.py:500: ConvergenceWarning: lbfgs failed to converge (status=1):\n",
      "STOP: TOTAL NO. of ITERATIONS REACHED LIMIT.\n",
      "\n",
      "Increase the number of iterations (max_iter) or scale the data as shown in:\n",
      "    https://scikit-learn.org/stable/modules/preprocessing.html\n",
      "  self.n_iter_ = _check_optimize_result(\"lbfgs\", opt_res, self.max_iter)\n"
     ]
    },
    {
     "name": "stdout",
     "output_type": "stream",
     "text": [
      "[CV] END hidden_layer_sizes=13, learning_rate_init=0.001, max_iter=2500, random_state=42, solver=lbfgs; total time=  26.9s\n",
      "[CV] END hidden_layer_sizes=13, learning_rate_init=0.001, max_iter=2500, random_state=42, solver=adam; total time=   9.6s\n",
      "[CV] END hidden_layer_sizes=13, learning_rate_init=0.001, max_iter=2500, random_state=42, solver=adam; total time=   9.8s\n",
      "[CV] END hidden_layer_sizes=13, learning_rate_init=0.001, max_iter=2500, random_state=42, solver=adam; total time=  13.2s\n",
      "[CV] END hidden_layer_sizes=13, learning_rate_init=0.001, max_iter=2500, random_state=42, solver=adam; total time=  11.3s\n",
      "[CV] END hidden_layer_sizes=13, learning_rate_init=0.001, max_iter=2500, random_state=42, solver=adam; total time=  17.4s\n"
     ]
    },
    {
     "name": "stderr",
     "output_type": "stream",
     "text": [
      "C:\\Users\\salda\\Anaconda3\\lib\\site-packages\\sklearn\\neural_network\\_multilayer_perceptron.py:500: ConvergenceWarning: lbfgs failed to converge (status=1):\n",
      "STOP: TOTAL NO. of ITERATIONS REACHED LIMIT.\n",
      "\n",
      "Increase the number of iterations (max_iter) or scale the data as shown in:\n",
      "    https://scikit-learn.org/stable/modules/preprocessing.html\n",
      "  self.n_iter_ = _check_optimize_result(\"lbfgs\", opt_res, self.max_iter)\n"
     ]
    },
    {
     "name": "stdout",
     "output_type": "stream",
     "text": [
      "[CV] END hidden_layer_sizes=13, learning_rate_init=1e-05, max_iter=2500, random_state=42, solver=lbfgs; total time=  26.6s\n"
     ]
    },
    {
     "name": "stderr",
     "output_type": "stream",
     "text": [
      "C:\\Users\\salda\\Anaconda3\\lib\\site-packages\\sklearn\\neural_network\\_multilayer_perceptron.py:500: ConvergenceWarning: lbfgs failed to converge (status=1):\n",
      "STOP: TOTAL NO. of ITERATIONS REACHED LIMIT.\n",
      "\n",
      "Increase the number of iterations (max_iter) or scale the data as shown in:\n",
      "    https://scikit-learn.org/stable/modules/preprocessing.html\n",
      "  self.n_iter_ = _check_optimize_result(\"lbfgs\", opt_res, self.max_iter)\n"
     ]
    },
    {
     "name": "stdout",
     "output_type": "stream",
     "text": [
      "[CV] END hidden_layer_sizes=13, learning_rate_init=1e-05, max_iter=2500, random_state=42, solver=lbfgs; total time=  28.0s\n"
     ]
    },
    {
     "name": "stderr",
     "output_type": "stream",
     "text": [
      "C:\\Users\\salda\\Anaconda3\\lib\\site-packages\\sklearn\\neural_network\\_multilayer_perceptron.py:500: ConvergenceWarning: lbfgs failed to converge (status=1):\n",
      "STOP: TOTAL NO. of ITERATIONS REACHED LIMIT.\n",
      "\n",
      "Increase the number of iterations (max_iter) or scale the data as shown in:\n",
      "    https://scikit-learn.org/stable/modules/preprocessing.html\n",
      "  self.n_iter_ = _check_optimize_result(\"lbfgs\", opt_res, self.max_iter)\n"
     ]
    },
    {
     "name": "stdout",
     "output_type": "stream",
     "text": [
      "[CV] END hidden_layer_sizes=13, learning_rate_init=1e-05, max_iter=2500, random_state=42, solver=lbfgs; total time=  26.4s\n",
      "[CV] END hidden_layer_sizes=13, learning_rate_init=1e-05, max_iter=2500, random_state=42, solver=lbfgs; total time=  24.7s\n"
     ]
    },
    {
     "name": "stderr",
     "output_type": "stream",
     "text": [
      "C:\\Users\\salda\\Anaconda3\\lib\\site-packages\\sklearn\\neural_network\\_multilayer_perceptron.py:500: ConvergenceWarning: lbfgs failed to converge (status=1):\n",
      "STOP: TOTAL NO. of ITERATIONS REACHED LIMIT.\n",
      "\n",
      "Increase the number of iterations (max_iter) or scale the data as shown in:\n",
      "    https://scikit-learn.org/stable/modules/preprocessing.html\n",
      "  self.n_iter_ = _check_optimize_result(\"lbfgs\", opt_res, self.max_iter)\n"
     ]
    },
    {
     "name": "stdout",
     "output_type": "stream",
     "text": [
      "[CV] END hidden_layer_sizes=13, learning_rate_init=1e-05, max_iter=2500, random_state=42, solver=lbfgs; total time=  26.8s\n",
      "[CV] END hidden_layer_sizes=13, learning_rate_init=1e-05, max_iter=2500, random_state=42, solver=adam; total time= 1.4min\n",
      "[CV] END hidden_layer_sizes=13, learning_rate_init=1e-05, max_iter=2500, random_state=42, solver=adam; total time= 1.5min\n",
      "[CV] END hidden_layer_sizes=13, learning_rate_init=1e-05, max_iter=2500, random_state=42, solver=adam; total time= 1.6min\n",
      "[CV] END hidden_layer_sizes=13, learning_rate_init=1e-05, max_iter=2500, random_state=42, solver=adam; total time= 1.5min\n",
      "[CV] END hidden_layer_sizes=13, learning_rate_init=1e-05, max_iter=2500, random_state=42, solver=adam; total time= 1.5min\n",
      "[CV] END hidden_layer_sizes=14, learning_rate_init=0.1, max_iter=2500, random_state=42, solver=lbfgs; total time=  29.1s\n",
      "[CV] END hidden_layer_sizes=14, learning_rate_init=0.1, max_iter=2500, random_state=42, solver=lbfgs; total time=  25.2s\n"
     ]
    },
    {
     "name": "stderr",
     "output_type": "stream",
     "text": [
      "C:\\Users\\salda\\Anaconda3\\lib\\site-packages\\sklearn\\neural_network\\_multilayer_perceptron.py:500: ConvergenceWarning: lbfgs failed to converge (status=1):\n",
      "STOP: TOTAL NO. of ITERATIONS REACHED LIMIT.\n",
      "\n",
      "Increase the number of iterations (max_iter) or scale the data as shown in:\n",
      "    https://scikit-learn.org/stable/modules/preprocessing.html\n",
      "  self.n_iter_ = _check_optimize_result(\"lbfgs\", opt_res, self.max_iter)\n"
     ]
    },
    {
     "name": "stdout",
     "output_type": "stream",
     "text": [
      "[CV] END hidden_layer_sizes=14, learning_rate_init=0.1, max_iter=2500, random_state=42, solver=lbfgs; total time=  29.5s\n",
      "[CV] END hidden_layer_sizes=14, learning_rate_init=0.1, max_iter=2500, random_state=42, solver=lbfgs; total time=  26.0s\n"
     ]
    },
    {
     "name": "stderr",
     "output_type": "stream",
     "text": [
      "C:\\Users\\salda\\Anaconda3\\lib\\site-packages\\sklearn\\neural_network\\_multilayer_perceptron.py:500: ConvergenceWarning: lbfgs failed to converge (status=1):\n",
      "STOP: TOTAL NO. of ITERATIONS REACHED LIMIT.\n",
      "\n",
      "Increase the number of iterations (max_iter) or scale the data as shown in:\n",
      "    https://scikit-learn.org/stable/modules/preprocessing.html\n",
      "  self.n_iter_ = _check_optimize_result(\"lbfgs\", opt_res, self.max_iter)\n"
     ]
    },
    {
     "name": "stdout",
     "output_type": "stream",
     "text": [
      "[CV] END hidden_layer_sizes=14, learning_rate_init=0.1, max_iter=2500, random_state=42, solver=lbfgs; total time=  30.4s\n",
      "[CV] END hidden_layer_sizes=14, learning_rate_init=0.1, max_iter=2500, random_state=42, solver=adam; total time=   1.6s\n",
      "[CV] END hidden_layer_sizes=14, learning_rate_init=0.1, max_iter=2500, random_state=42, solver=adam; total time=   2.7s\n",
      "[CV] END hidden_layer_sizes=14, learning_rate_init=0.1, max_iter=2500, random_state=42, solver=adam; total time=   0.7s\n",
      "[CV] END hidden_layer_sizes=14, learning_rate_init=0.1, max_iter=2500, random_state=42, solver=adam; total time=   0.7s\n",
      "[CV] END hidden_layer_sizes=14, learning_rate_init=0.1, max_iter=2500, random_state=42, solver=adam; total time=   2.2s\n",
      "[CV] END hidden_layer_sizes=14, learning_rate_init=0.001, max_iter=2500, random_state=42, solver=lbfgs; total time=  28.3s\n",
      "[CV] END hidden_layer_sizes=14, learning_rate_init=0.001, max_iter=2500, random_state=42, solver=lbfgs; total time=  25.7s\n"
     ]
    },
    {
     "name": "stderr",
     "output_type": "stream",
     "text": [
      "C:\\Users\\salda\\Anaconda3\\lib\\site-packages\\sklearn\\neural_network\\_multilayer_perceptron.py:500: ConvergenceWarning: lbfgs failed to converge (status=1):\n",
      "STOP: TOTAL NO. of ITERATIONS REACHED LIMIT.\n",
      "\n",
      "Increase the number of iterations (max_iter) or scale the data as shown in:\n",
      "    https://scikit-learn.org/stable/modules/preprocessing.html\n",
      "  self.n_iter_ = _check_optimize_result(\"lbfgs\", opt_res, self.max_iter)\n"
     ]
    },
    {
     "name": "stdout",
     "output_type": "stream",
     "text": [
      "[CV] END hidden_layer_sizes=14, learning_rate_init=0.001, max_iter=2500, random_state=42, solver=lbfgs; total time=  28.6s\n",
      "[CV] END hidden_layer_sizes=14, learning_rate_init=0.001, max_iter=2500, random_state=42, solver=lbfgs; total time=  26.8s\n"
     ]
    },
    {
     "name": "stderr",
     "output_type": "stream",
     "text": [
      "C:\\Users\\salda\\Anaconda3\\lib\\site-packages\\sklearn\\neural_network\\_multilayer_perceptron.py:500: ConvergenceWarning: lbfgs failed to converge (status=1):\n",
      "STOP: TOTAL NO. of ITERATIONS REACHED LIMIT.\n",
      "\n",
      "Increase the number of iterations (max_iter) or scale the data as shown in:\n",
      "    https://scikit-learn.org/stable/modules/preprocessing.html\n",
      "  self.n_iter_ = _check_optimize_result(\"lbfgs\", opt_res, self.max_iter)\n"
     ]
    },
    {
     "name": "stdout",
     "output_type": "stream",
     "text": [
      "[CV] END hidden_layer_sizes=14, learning_rate_init=0.001, max_iter=2500, random_state=42, solver=lbfgs; total time=  28.3s\n",
      "[CV] END hidden_layer_sizes=14, learning_rate_init=0.001, max_iter=2500, random_state=42, solver=adam; total time=  14.6s\n",
      "[CV] END hidden_layer_sizes=14, learning_rate_init=0.001, max_iter=2500, random_state=42, solver=adam; total time=   9.3s\n",
      "[CV] END hidden_layer_sizes=14, learning_rate_init=0.001, max_iter=2500, random_state=42, solver=adam; total time=   8.9s\n",
      "[CV] END hidden_layer_sizes=14, learning_rate_init=0.001, max_iter=2500, random_state=42, solver=adam; total time=  17.3s\n",
      "[CV] END hidden_layer_sizes=14, learning_rate_init=0.001, max_iter=2500, random_state=42, solver=adam; total time=   8.0s\n",
      "[CV] END hidden_layer_sizes=14, learning_rate_init=1e-05, max_iter=2500, random_state=42, solver=lbfgs; total time=  29.4s\n",
      "[CV] END hidden_layer_sizes=14, learning_rate_init=1e-05, max_iter=2500, random_state=42, solver=lbfgs; total time=  25.1s\n"
     ]
    },
    {
     "name": "stderr",
     "output_type": "stream",
     "text": [
      "C:\\Users\\salda\\Anaconda3\\lib\\site-packages\\sklearn\\neural_network\\_multilayer_perceptron.py:500: ConvergenceWarning: lbfgs failed to converge (status=1):\n",
      "STOP: TOTAL NO. of ITERATIONS REACHED LIMIT.\n",
      "\n",
      "Increase the number of iterations (max_iter) or scale the data as shown in:\n",
      "    https://scikit-learn.org/stable/modules/preprocessing.html\n",
      "  self.n_iter_ = _check_optimize_result(\"lbfgs\", opt_res, self.max_iter)\n"
     ]
    },
    {
     "name": "stdout",
     "output_type": "stream",
     "text": [
      "[CV] END hidden_layer_sizes=14, learning_rate_init=1e-05, max_iter=2500, random_state=42, solver=lbfgs; total time=  28.8s\n",
      "[CV] END hidden_layer_sizes=14, learning_rate_init=1e-05, max_iter=2500, random_state=42, solver=lbfgs; total time=  26.4s\n"
     ]
    },
    {
     "name": "stderr",
     "output_type": "stream",
     "text": [
      "C:\\Users\\salda\\Anaconda3\\lib\\site-packages\\sklearn\\neural_network\\_multilayer_perceptron.py:500: ConvergenceWarning: lbfgs failed to converge (status=1):\n",
      "STOP: TOTAL NO. of ITERATIONS REACHED LIMIT.\n",
      "\n",
      "Increase the number of iterations (max_iter) or scale the data as shown in:\n",
      "    https://scikit-learn.org/stable/modules/preprocessing.html\n",
      "  self.n_iter_ = _check_optimize_result(\"lbfgs\", opt_res, self.max_iter)\n"
     ]
    },
    {
     "name": "stdout",
     "output_type": "stream",
     "text": [
      "[CV] END hidden_layer_sizes=14, learning_rate_init=1e-05, max_iter=2500, random_state=42, solver=lbfgs; total time=  28.9s\n",
      "[CV] END hidden_layer_sizes=14, learning_rate_init=1e-05, max_iter=2500, random_state=42, solver=adam; total time= 1.4min\n",
      "[CV] END hidden_layer_sizes=14, learning_rate_init=1e-05, max_iter=2500, random_state=42, solver=adam; total time= 1.4min\n",
      "[CV] END hidden_layer_sizes=14, learning_rate_init=1e-05, max_iter=2500, random_state=42, solver=adam; total time= 1.4min\n",
      "[CV] END hidden_layer_sizes=14, learning_rate_init=1e-05, max_iter=2500, random_state=42, solver=adam; total time= 1.4min\n",
      "[CV] END hidden_layer_sizes=14, learning_rate_init=1e-05, max_iter=2500, random_state=42, solver=adam; total time= 1.3min\n"
     ]
    },
    {
     "name": "stderr",
     "output_type": "stream",
     "text": [
      "C:\\Users\\salda\\Anaconda3\\lib\\site-packages\\sklearn\\neural_network\\_multilayer_perceptron.py:500: ConvergenceWarning: lbfgs failed to converge (status=1):\n",
      "STOP: TOTAL NO. of ITERATIONS REACHED LIMIT.\n",
      "\n",
      "Increase the number of iterations (max_iter) or scale the data as shown in:\n",
      "    https://scikit-learn.org/stable/modules/preprocessing.html\n",
      "  self.n_iter_ = _check_optimize_result(\"lbfgs\", opt_res, self.max_iter)\n"
     ]
    },
    {
     "name": "stdout",
     "output_type": "stream",
     "text": [
      "[CV] END hidden_layer_sizes=15, learning_rate_init=0.1, max_iter=2500, random_state=42, solver=lbfgs; total time=  31.8s\n"
     ]
    },
    {
     "name": "stderr",
     "output_type": "stream",
     "text": [
      "C:\\Users\\salda\\Anaconda3\\lib\\site-packages\\sklearn\\neural_network\\_multilayer_perceptron.py:500: ConvergenceWarning: lbfgs failed to converge (status=1):\n",
      "STOP: TOTAL NO. of ITERATIONS REACHED LIMIT.\n",
      "\n",
      "Increase the number of iterations (max_iter) or scale the data as shown in:\n",
      "    https://scikit-learn.org/stable/modules/preprocessing.html\n",
      "  self.n_iter_ = _check_optimize_result(\"lbfgs\", opt_res, self.max_iter)\n"
     ]
    },
    {
     "name": "stdout",
     "output_type": "stream",
     "text": [
      "[CV] END hidden_layer_sizes=15, learning_rate_init=0.1, max_iter=2500, random_state=42, solver=lbfgs; total time=  32.8s\n"
     ]
    },
    {
     "name": "stderr",
     "output_type": "stream",
     "text": [
      "C:\\Users\\salda\\Anaconda3\\lib\\site-packages\\sklearn\\neural_network\\_multilayer_perceptron.py:500: ConvergenceWarning: lbfgs failed to converge (status=1):\n",
      "STOP: TOTAL NO. of ITERATIONS REACHED LIMIT.\n",
      "\n",
      "Increase the number of iterations (max_iter) or scale the data as shown in:\n",
      "    https://scikit-learn.org/stable/modules/preprocessing.html\n",
      "  self.n_iter_ = _check_optimize_result(\"lbfgs\", opt_res, self.max_iter)\n"
     ]
    },
    {
     "name": "stdout",
     "output_type": "stream",
     "text": [
      "[CV] END hidden_layer_sizes=15, learning_rate_init=0.1, max_iter=2500, random_state=42, solver=lbfgs; total time=  31.7s\n"
     ]
    },
    {
     "name": "stderr",
     "output_type": "stream",
     "text": [
      "C:\\Users\\salda\\Anaconda3\\lib\\site-packages\\sklearn\\neural_network\\_multilayer_perceptron.py:500: ConvergenceWarning: lbfgs failed to converge (status=1):\n",
      "STOP: TOTAL NO. of ITERATIONS REACHED LIMIT.\n",
      "\n",
      "Increase the number of iterations (max_iter) or scale the data as shown in:\n",
      "    https://scikit-learn.org/stable/modules/preprocessing.html\n",
      "  self.n_iter_ = _check_optimize_result(\"lbfgs\", opt_res, self.max_iter)\n"
     ]
    },
    {
     "name": "stdout",
     "output_type": "stream",
     "text": [
      "[CV] END hidden_layer_sizes=15, learning_rate_init=0.1, max_iter=2500, random_state=42, solver=lbfgs; total time=  32.3s\n"
     ]
    },
    {
     "name": "stderr",
     "output_type": "stream",
     "text": [
      "C:\\Users\\salda\\Anaconda3\\lib\\site-packages\\sklearn\\neural_network\\_multilayer_perceptron.py:500: ConvergenceWarning: lbfgs failed to converge (status=1):\n",
      "STOP: TOTAL NO. of ITERATIONS REACHED LIMIT.\n",
      "\n",
      "Increase the number of iterations (max_iter) or scale the data as shown in:\n",
      "    https://scikit-learn.org/stable/modules/preprocessing.html\n",
      "  self.n_iter_ = _check_optimize_result(\"lbfgs\", opt_res, self.max_iter)\n"
     ]
    },
    {
     "name": "stdout",
     "output_type": "stream",
     "text": [
      "[CV] END hidden_layer_sizes=15, learning_rate_init=0.1, max_iter=2500, random_state=42, solver=lbfgs; total time=  30.6s\n",
      "[CV] END hidden_layer_sizes=15, learning_rate_init=0.1, max_iter=2500, random_state=42, solver=adam; total time=   1.8s\n",
      "[CV] END hidden_layer_sizes=15, learning_rate_init=0.1, max_iter=2500, random_state=42, solver=adam; total time=   2.4s\n",
      "[CV] END hidden_layer_sizes=15, learning_rate_init=0.1, max_iter=2500, random_state=42, solver=adam; total time=   3.6s\n",
      "[CV] END hidden_layer_sizes=15, learning_rate_init=0.1, max_iter=2500, random_state=42, solver=adam; total time=   2.4s\n",
      "[CV] END hidden_layer_sizes=15, learning_rate_init=0.1, max_iter=2500, random_state=42, solver=adam; total time=   2.5s\n"
     ]
    },
    {
     "name": "stderr",
     "output_type": "stream",
     "text": [
      "C:\\Users\\salda\\Anaconda3\\lib\\site-packages\\sklearn\\neural_network\\_multilayer_perceptron.py:500: ConvergenceWarning: lbfgs failed to converge (status=1):\n",
      "STOP: TOTAL NO. of ITERATIONS REACHED LIMIT.\n",
      "\n",
      "Increase the number of iterations (max_iter) or scale the data as shown in:\n",
      "    https://scikit-learn.org/stable/modules/preprocessing.html\n",
      "  self.n_iter_ = _check_optimize_result(\"lbfgs\", opt_res, self.max_iter)\n"
     ]
    },
    {
     "name": "stdout",
     "output_type": "stream",
     "text": [
      "[CV] END hidden_layer_sizes=15, learning_rate_init=0.001, max_iter=2500, random_state=42, solver=lbfgs; total time=  32.5s\n"
     ]
    },
    {
     "name": "stderr",
     "output_type": "stream",
     "text": [
      "C:\\Users\\salda\\Anaconda3\\lib\\site-packages\\sklearn\\neural_network\\_multilayer_perceptron.py:500: ConvergenceWarning: lbfgs failed to converge (status=1):\n",
      "STOP: TOTAL NO. of ITERATIONS REACHED LIMIT.\n",
      "\n",
      "Increase the number of iterations (max_iter) or scale the data as shown in:\n",
      "    https://scikit-learn.org/stable/modules/preprocessing.html\n",
      "  self.n_iter_ = _check_optimize_result(\"lbfgs\", opt_res, self.max_iter)\n"
     ]
    },
    {
     "name": "stdout",
     "output_type": "stream",
     "text": [
      "[CV] END hidden_layer_sizes=15, learning_rate_init=0.001, max_iter=2500, random_state=42, solver=lbfgs; total time=  32.8s\n"
     ]
    },
    {
     "name": "stderr",
     "output_type": "stream",
     "text": [
      "C:\\Users\\salda\\Anaconda3\\lib\\site-packages\\sklearn\\neural_network\\_multilayer_perceptron.py:500: ConvergenceWarning: lbfgs failed to converge (status=1):\n",
      "STOP: TOTAL NO. of ITERATIONS REACHED LIMIT.\n",
      "\n",
      "Increase the number of iterations (max_iter) or scale the data as shown in:\n",
      "    https://scikit-learn.org/stable/modules/preprocessing.html\n",
      "  self.n_iter_ = _check_optimize_result(\"lbfgs\", opt_res, self.max_iter)\n"
     ]
    },
    {
     "name": "stdout",
     "output_type": "stream",
     "text": [
      "[CV] END hidden_layer_sizes=15, learning_rate_init=0.001, max_iter=2500, random_state=42, solver=lbfgs; total time=  30.9s\n"
     ]
    },
    {
     "name": "stderr",
     "output_type": "stream",
     "text": [
      "C:\\Users\\salda\\Anaconda3\\lib\\site-packages\\sklearn\\neural_network\\_multilayer_perceptron.py:500: ConvergenceWarning: lbfgs failed to converge (status=1):\n",
      "STOP: TOTAL NO. of ITERATIONS REACHED LIMIT.\n",
      "\n",
      "Increase the number of iterations (max_iter) or scale the data as shown in:\n",
      "    https://scikit-learn.org/stable/modules/preprocessing.html\n",
      "  self.n_iter_ = _check_optimize_result(\"lbfgs\", opt_res, self.max_iter)\n"
     ]
    },
    {
     "name": "stdout",
     "output_type": "stream",
     "text": [
      "[CV] END hidden_layer_sizes=15, learning_rate_init=0.001, max_iter=2500, random_state=42, solver=lbfgs; total time=  31.9s\n"
     ]
    },
    {
     "name": "stderr",
     "output_type": "stream",
     "text": [
      "C:\\Users\\salda\\Anaconda3\\lib\\site-packages\\sklearn\\neural_network\\_multilayer_perceptron.py:500: ConvergenceWarning: lbfgs failed to converge (status=1):\n",
      "STOP: TOTAL NO. of ITERATIONS REACHED LIMIT.\n",
      "\n",
      "Increase the number of iterations (max_iter) or scale the data as shown in:\n",
      "    https://scikit-learn.org/stable/modules/preprocessing.html\n",
      "  self.n_iter_ = _check_optimize_result(\"lbfgs\", opt_res, self.max_iter)\n"
     ]
    },
    {
     "name": "stdout",
     "output_type": "stream",
     "text": [
      "[CV] END hidden_layer_sizes=15, learning_rate_init=0.001, max_iter=2500, random_state=42, solver=lbfgs; total time=  31.1s\n",
      "[CV] END hidden_layer_sizes=15, learning_rate_init=0.001, max_iter=2500, random_state=42, solver=adam; total time=  12.7s\n",
      "[CV] END hidden_layer_sizes=15, learning_rate_init=0.001, max_iter=2500, random_state=42, solver=adam; total time=   7.8s\n",
      "[CV] END hidden_layer_sizes=15, learning_rate_init=0.001, max_iter=2500, random_state=42, solver=adam; total time=  10.7s\n",
      "[CV] END hidden_layer_sizes=15, learning_rate_init=0.001, max_iter=2500, random_state=42, solver=adam; total time=   9.0s\n",
      "[CV] END hidden_layer_sizes=15, learning_rate_init=0.001, max_iter=2500, random_state=42, solver=adam; total time=   9.0s\n"
     ]
    },
    {
     "name": "stderr",
     "output_type": "stream",
     "text": [
      "C:\\Users\\salda\\Anaconda3\\lib\\site-packages\\sklearn\\neural_network\\_multilayer_perceptron.py:500: ConvergenceWarning: lbfgs failed to converge (status=1):\n",
      "STOP: TOTAL NO. of ITERATIONS REACHED LIMIT.\n",
      "\n",
      "Increase the number of iterations (max_iter) or scale the data as shown in:\n",
      "    https://scikit-learn.org/stable/modules/preprocessing.html\n",
      "  self.n_iter_ = _check_optimize_result(\"lbfgs\", opt_res, self.max_iter)\n"
     ]
    },
    {
     "name": "stdout",
     "output_type": "stream",
     "text": [
      "[CV] END hidden_layer_sizes=15, learning_rate_init=1e-05, max_iter=2500, random_state=42, solver=lbfgs; total time=  31.3s\n"
     ]
    },
    {
     "name": "stderr",
     "output_type": "stream",
     "text": [
      "C:\\Users\\salda\\Anaconda3\\lib\\site-packages\\sklearn\\neural_network\\_multilayer_perceptron.py:500: ConvergenceWarning: lbfgs failed to converge (status=1):\n",
      "STOP: TOTAL NO. of ITERATIONS REACHED LIMIT.\n",
      "\n",
      "Increase the number of iterations (max_iter) or scale the data as shown in:\n",
      "    https://scikit-learn.org/stable/modules/preprocessing.html\n",
      "  self.n_iter_ = _check_optimize_result(\"lbfgs\", opt_res, self.max_iter)\n"
     ]
    },
    {
     "name": "stdout",
     "output_type": "stream",
     "text": [
      "[CV] END hidden_layer_sizes=15, learning_rate_init=1e-05, max_iter=2500, random_state=42, solver=lbfgs; total time=  33.3s\n"
     ]
    },
    {
     "name": "stderr",
     "output_type": "stream",
     "text": [
      "C:\\Users\\salda\\Anaconda3\\lib\\site-packages\\sklearn\\neural_network\\_multilayer_perceptron.py:500: ConvergenceWarning: lbfgs failed to converge (status=1):\n",
      "STOP: TOTAL NO. of ITERATIONS REACHED LIMIT.\n",
      "\n",
      "Increase the number of iterations (max_iter) or scale the data as shown in:\n",
      "    https://scikit-learn.org/stable/modules/preprocessing.html\n",
      "  self.n_iter_ = _check_optimize_result(\"lbfgs\", opt_res, self.max_iter)\n"
     ]
    },
    {
     "name": "stdout",
     "output_type": "stream",
     "text": [
      "[CV] END hidden_layer_sizes=15, learning_rate_init=1e-05, max_iter=2500, random_state=42, solver=lbfgs; total time=  31.3s\n"
     ]
    },
    {
     "name": "stderr",
     "output_type": "stream",
     "text": [
      "C:\\Users\\salda\\Anaconda3\\lib\\site-packages\\sklearn\\neural_network\\_multilayer_perceptron.py:500: ConvergenceWarning: lbfgs failed to converge (status=1):\n",
      "STOP: TOTAL NO. of ITERATIONS REACHED LIMIT.\n",
      "\n",
      "Increase the number of iterations (max_iter) or scale the data as shown in:\n",
      "    https://scikit-learn.org/stable/modules/preprocessing.html\n",
      "  self.n_iter_ = _check_optimize_result(\"lbfgs\", opt_res, self.max_iter)\n"
     ]
    },
    {
     "name": "stdout",
     "output_type": "stream",
     "text": [
      "[CV] END hidden_layer_sizes=15, learning_rate_init=1e-05, max_iter=2500, random_state=42, solver=lbfgs; total time=  31.5s\n"
     ]
    },
    {
     "name": "stderr",
     "output_type": "stream",
     "text": [
      "C:\\Users\\salda\\Anaconda3\\lib\\site-packages\\sklearn\\neural_network\\_multilayer_perceptron.py:500: ConvergenceWarning: lbfgs failed to converge (status=1):\n",
      "STOP: TOTAL NO. of ITERATIONS REACHED LIMIT.\n",
      "\n",
      "Increase the number of iterations (max_iter) or scale the data as shown in:\n",
      "    https://scikit-learn.org/stable/modules/preprocessing.html\n",
      "  self.n_iter_ = _check_optimize_result(\"lbfgs\", opt_res, self.max_iter)\n"
     ]
    },
    {
     "name": "stdout",
     "output_type": "stream",
     "text": [
      "[CV] END hidden_layer_sizes=15, learning_rate_init=1e-05, max_iter=2500, random_state=42, solver=lbfgs; total time=  30.2s\n",
      "[CV] END hidden_layer_sizes=15, learning_rate_init=1e-05, max_iter=2500, random_state=42, solver=adam; total time= 1.4min\n",
      "[CV] END hidden_layer_sizes=15, learning_rate_init=1e-05, max_iter=2500, random_state=42, solver=adam; total time= 1.5min\n",
      "[CV] END hidden_layer_sizes=15, learning_rate_init=1e-05, max_iter=2500, random_state=42, solver=adam; total time= 1.5min\n",
      "[CV] END hidden_layer_sizes=15, learning_rate_init=1e-05, max_iter=2500, random_state=42, solver=adam; total time= 1.4min\n",
      "[CV] END hidden_layer_sizes=15, learning_rate_init=1e-05, max_iter=2500, random_state=42, solver=adam; total time= 1.3min\n",
      "[CV] END hidden_layer_sizes=16, learning_rate_init=0.1, max_iter=2500, random_state=42, solver=lbfgs; total time=  26.8s\n",
      "[CV] END hidden_layer_sizes=16, learning_rate_init=0.1, max_iter=2500, random_state=42, solver=lbfgs; total time=  25.1s\n"
     ]
    },
    {
     "name": "stderr",
     "output_type": "stream",
     "text": [
      "C:\\Users\\salda\\Anaconda3\\lib\\site-packages\\sklearn\\neural_network\\_multilayer_perceptron.py:500: ConvergenceWarning: lbfgs failed to converge (status=1):\n",
      "STOP: TOTAL NO. of ITERATIONS REACHED LIMIT.\n",
      "\n",
      "Increase the number of iterations (max_iter) or scale the data as shown in:\n",
      "    https://scikit-learn.org/stable/modules/preprocessing.html\n",
      "  self.n_iter_ = _check_optimize_result(\"lbfgs\", opt_res, self.max_iter)\n"
     ]
    },
    {
     "name": "stdout",
     "output_type": "stream",
     "text": [
      "[CV] END hidden_layer_sizes=16, learning_rate_init=0.1, max_iter=2500, random_state=42, solver=lbfgs; total time=  33.7s\n"
     ]
    },
    {
     "name": "stderr",
     "output_type": "stream",
     "text": [
      "C:\\Users\\salda\\Anaconda3\\lib\\site-packages\\sklearn\\neural_network\\_multilayer_perceptron.py:500: ConvergenceWarning: lbfgs failed to converge (status=1):\n",
      "STOP: TOTAL NO. of ITERATIONS REACHED LIMIT.\n",
      "\n",
      "Increase the number of iterations (max_iter) or scale the data as shown in:\n",
      "    https://scikit-learn.org/stable/modules/preprocessing.html\n",
      "  self.n_iter_ = _check_optimize_result(\"lbfgs\", opt_res, self.max_iter)\n"
     ]
    },
    {
     "name": "stdout",
     "output_type": "stream",
     "text": [
      "[CV] END hidden_layer_sizes=16, learning_rate_init=0.1, max_iter=2500, random_state=42, solver=lbfgs; total time=  32.5s\n"
     ]
    },
    {
     "name": "stderr",
     "output_type": "stream",
     "text": [
      "C:\\Users\\salda\\Anaconda3\\lib\\site-packages\\sklearn\\neural_network\\_multilayer_perceptron.py:500: ConvergenceWarning: lbfgs failed to converge (status=1):\n",
      "STOP: TOTAL NO. of ITERATIONS REACHED LIMIT.\n",
      "\n",
      "Increase the number of iterations (max_iter) or scale the data as shown in:\n",
      "    https://scikit-learn.org/stable/modules/preprocessing.html\n",
      "  self.n_iter_ = _check_optimize_result(\"lbfgs\", opt_res, self.max_iter)\n"
     ]
    },
    {
     "name": "stdout",
     "output_type": "stream",
     "text": [
      "[CV] END hidden_layer_sizes=16, learning_rate_init=0.1, max_iter=2500, random_state=42, solver=lbfgs; total time=  32.3s\n",
      "[CV] END hidden_layer_sizes=16, learning_rate_init=0.1, max_iter=2500, random_state=42, solver=adam; total time=   0.7s\n",
      "[CV] END hidden_layer_sizes=16, learning_rate_init=0.1, max_iter=2500, random_state=42, solver=adam; total time=   0.8s\n",
      "[CV] END hidden_layer_sizes=16, learning_rate_init=0.1, max_iter=2500, random_state=42, solver=adam; total time=   2.3s\n",
      "[CV] END hidden_layer_sizes=16, learning_rate_init=0.1, max_iter=2500, random_state=42, solver=adam; total time=   3.4s\n",
      "[CV] END hidden_layer_sizes=16, learning_rate_init=0.1, max_iter=2500, random_state=42, solver=adam; total time=   2.3s\n",
      "[CV] END hidden_layer_sizes=16, learning_rate_init=0.001, max_iter=2500, random_state=42, solver=lbfgs; total time=  28.1s\n",
      "[CV] END hidden_layer_sizes=16, learning_rate_init=0.001, max_iter=2500, random_state=42, solver=lbfgs; total time=  25.2s\n"
     ]
    },
    {
     "name": "stderr",
     "output_type": "stream",
     "text": [
      "C:\\Users\\salda\\Anaconda3\\lib\\site-packages\\sklearn\\neural_network\\_multilayer_perceptron.py:500: ConvergenceWarning: lbfgs failed to converge (status=1):\n",
      "STOP: TOTAL NO. of ITERATIONS REACHED LIMIT.\n",
      "\n",
      "Increase the number of iterations (max_iter) or scale the data as shown in:\n",
      "    https://scikit-learn.org/stable/modules/preprocessing.html\n",
      "  self.n_iter_ = _check_optimize_result(\"lbfgs\", opt_res, self.max_iter)\n"
     ]
    },
    {
     "name": "stdout",
     "output_type": "stream",
     "text": [
      "[CV] END hidden_layer_sizes=16, learning_rate_init=0.001, max_iter=2500, random_state=42, solver=lbfgs; total time=  32.3s\n"
     ]
    },
    {
     "name": "stderr",
     "output_type": "stream",
     "text": [
      "C:\\Users\\salda\\Anaconda3\\lib\\site-packages\\sklearn\\neural_network\\_multilayer_perceptron.py:500: ConvergenceWarning: lbfgs failed to converge (status=1):\n",
      "STOP: TOTAL NO. of ITERATIONS REACHED LIMIT.\n",
      "\n",
      "Increase the number of iterations (max_iter) or scale the data as shown in:\n",
      "    https://scikit-learn.org/stable/modules/preprocessing.html\n",
      "  self.n_iter_ = _check_optimize_result(\"lbfgs\", opt_res, self.max_iter)\n"
     ]
    },
    {
     "name": "stdout",
     "output_type": "stream",
     "text": [
      "[CV] END hidden_layer_sizes=16, learning_rate_init=0.001, max_iter=2500, random_state=42, solver=lbfgs; total time=  32.3s\n"
     ]
    },
    {
     "name": "stderr",
     "output_type": "stream",
     "text": [
      "C:\\Users\\salda\\Anaconda3\\lib\\site-packages\\sklearn\\neural_network\\_multilayer_perceptron.py:500: ConvergenceWarning: lbfgs failed to converge (status=1):\n",
      "STOP: TOTAL NO. of ITERATIONS REACHED LIMIT.\n",
      "\n",
      "Increase the number of iterations (max_iter) or scale the data as shown in:\n",
      "    https://scikit-learn.org/stable/modules/preprocessing.html\n",
      "  self.n_iter_ = _check_optimize_result(\"lbfgs\", opt_res, self.max_iter)\n"
     ]
    },
    {
     "name": "stdout",
     "output_type": "stream",
     "text": [
      "[CV] END hidden_layer_sizes=16, learning_rate_init=0.001, max_iter=2500, random_state=42, solver=lbfgs; total time=  33.1s\n",
      "[CV] END hidden_layer_sizes=16, learning_rate_init=0.001, max_iter=2500, random_state=42, solver=adam; total time=  18.4s\n",
      "[CV] END hidden_layer_sizes=16, learning_rate_init=0.001, max_iter=2500, random_state=42, solver=adam; total time=   8.7s\n",
      "[CV] END hidden_layer_sizes=16, learning_rate_init=0.001, max_iter=2500, random_state=42, solver=adam; total time=  10.2s\n",
      "[CV] END hidden_layer_sizes=16, learning_rate_init=0.001, max_iter=2500, random_state=42, solver=adam; total time=  11.9s\n",
      "[CV] END hidden_layer_sizes=16, learning_rate_init=0.001, max_iter=2500, random_state=42, solver=adam; total time=   8.2s\n",
      "[CV] END hidden_layer_sizes=16, learning_rate_init=1e-05, max_iter=2500, random_state=42, solver=lbfgs; total time=  26.9s\n",
      "[CV] END hidden_layer_sizes=16, learning_rate_init=1e-05, max_iter=2500, random_state=42, solver=lbfgs; total time=  25.2s\n"
     ]
    },
    {
     "name": "stderr",
     "output_type": "stream",
     "text": [
      "C:\\Users\\salda\\Anaconda3\\lib\\site-packages\\sklearn\\neural_network\\_multilayer_perceptron.py:500: ConvergenceWarning: lbfgs failed to converge (status=1):\n",
      "STOP: TOTAL NO. of ITERATIONS REACHED LIMIT.\n",
      "\n",
      "Increase the number of iterations (max_iter) or scale the data as shown in:\n",
      "    https://scikit-learn.org/stable/modules/preprocessing.html\n",
      "  self.n_iter_ = _check_optimize_result(\"lbfgs\", opt_res, self.max_iter)\n"
     ]
    },
    {
     "name": "stdout",
     "output_type": "stream",
     "text": [
      "[CV] END hidden_layer_sizes=16, learning_rate_init=1e-05, max_iter=2500, random_state=42, solver=lbfgs; total time=  31.5s\n"
     ]
    },
    {
     "name": "stderr",
     "output_type": "stream",
     "text": [
      "C:\\Users\\salda\\Anaconda3\\lib\\site-packages\\sklearn\\neural_network\\_multilayer_perceptron.py:500: ConvergenceWarning: lbfgs failed to converge (status=1):\n",
      "STOP: TOTAL NO. of ITERATIONS REACHED LIMIT.\n",
      "\n",
      "Increase the number of iterations (max_iter) or scale the data as shown in:\n",
      "    https://scikit-learn.org/stable/modules/preprocessing.html\n",
      "  self.n_iter_ = _check_optimize_result(\"lbfgs\", opt_res, self.max_iter)\n"
     ]
    },
    {
     "name": "stdout",
     "output_type": "stream",
     "text": [
      "[CV] END hidden_layer_sizes=16, learning_rate_init=1e-05, max_iter=2500, random_state=42, solver=lbfgs; total time=  34.2s\n"
     ]
    },
    {
     "name": "stderr",
     "output_type": "stream",
     "text": [
      "C:\\Users\\salda\\Anaconda3\\lib\\site-packages\\sklearn\\neural_network\\_multilayer_perceptron.py:500: ConvergenceWarning: lbfgs failed to converge (status=1):\n",
      "STOP: TOTAL NO. of ITERATIONS REACHED LIMIT.\n",
      "\n",
      "Increase the number of iterations (max_iter) or scale the data as shown in:\n",
      "    https://scikit-learn.org/stable/modules/preprocessing.html\n",
      "  self.n_iter_ = _check_optimize_result(\"lbfgs\", opt_res, self.max_iter)\n"
     ]
    },
    {
     "name": "stdout",
     "output_type": "stream",
     "text": [
      "[CV] END hidden_layer_sizes=16, learning_rate_init=1e-05, max_iter=2500, random_state=42, solver=lbfgs; total time=  31.5s\n",
      "[CV] END hidden_layer_sizes=16, learning_rate_init=1e-05, max_iter=2500, random_state=42, solver=adam; total time= 1.4min\n",
      "[CV] END hidden_layer_sizes=16, learning_rate_init=1e-05, max_iter=2500, random_state=42, solver=adam; total time= 1.4min\n",
      "[CV] END hidden_layer_sizes=16, learning_rate_init=1e-05, max_iter=2500, random_state=42, solver=adam; total time= 1.4min\n",
      "[CV] END hidden_layer_sizes=16, learning_rate_init=1e-05, max_iter=2500, random_state=42, solver=adam; total time= 1.3min\n",
      "[CV] END hidden_layer_sizes=16, learning_rate_init=1e-05, max_iter=2500, random_state=42, solver=adam; total time= 1.3min\n"
     ]
    },
    {
     "name": "stderr",
     "output_type": "stream",
     "text": [
      "C:\\Users\\salda\\Anaconda3\\lib\\site-packages\\sklearn\\neural_network\\_multilayer_perceptron.py:500: ConvergenceWarning: lbfgs failed to converge (status=1):\n",
      "STOP: TOTAL NO. of ITERATIONS REACHED LIMIT.\n",
      "\n",
      "Increase the number of iterations (max_iter) or scale the data as shown in:\n",
      "    https://scikit-learn.org/stable/modules/preprocessing.html\n",
      "  self.n_iter_ = _check_optimize_result(\"lbfgs\", opt_res, self.max_iter)\n"
     ]
    },
    {
     "name": "stdout",
     "output_type": "stream",
     "text": [
      "[CV] END hidden_layer_sizes=17, learning_rate_init=0.1, max_iter=2500, random_state=42, solver=lbfgs; total time=  33.7s\n"
     ]
    },
    {
     "name": "stderr",
     "output_type": "stream",
     "text": [
      "C:\\Users\\salda\\Anaconda3\\lib\\site-packages\\sklearn\\neural_network\\_multilayer_perceptron.py:500: ConvergenceWarning: lbfgs failed to converge (status=1):\n",
      "STOP: TOTAL NO. of ITERATIONS REACHED LIMIT.\n",
      "\n",
      "Increase the number of iterations (max_iter) or scale the data as shown in:\n",
      "    https://scikit-learn.org/stable/modules/preprocessing.html\n",
      "  self.n_iter_ = _check_optimize_result(\"lbfgs\", opt_res, self.max_iter)\n"
     ]
    },
    {
     "name": "stdout",
     "output_type": "stream",
     "text": [
      "[CV] END hidden_layer_sizes=17, learning_rate_init=0.1, max_iter=2500, random_state=42, solver=lbfgs; total time=  31.9s\n"
     ]
    },
    {
     "name": "stderr",
     "output_type": "stream",
     "text": [
      "C:\\Users\\salda\\Anaconda3\\lib\\site-packages\\sklearn\\neural_network\\_multilayer_perceptron.py:500: ConvergenceWarning: lbfgs failed to converge (status=1):\n",
      "STOP: TOTAL NO. of ITERATIONS REACHED LIMIT.\n",
      "\n",
      "Increase the number of iterations (max_iter) or scale the data as shown in:\n",
      "    https://scikit-learn.org/stable/modules/preprocessing.html\n",
      "  self.n_iter_ = _check_optimize_result(\"lbfgs\", opt_res, self.max_iter)\n"
     ]
    },
    {
     "name": "stdout",
     "output_type": "stream",
     "text": [
      "[CV] END hidden_layer_sizes=17, learning_rate_init=0.1, max_iter=2500, random_state=42, solver=lbfgs; total time=  34.1s\n"
     ]
    },
    {
     "name": "stderr",
     "output_type": "stream",
     "text": [
      "C:\\Users\\salda\\Anaconda3\\lib\\site-packages\\sklearn\\neural_network\\_multilayer_perceptron.py:500: ConvergenceWarning: lbfgs failed to converge (status=1):\n",
      "STOP: TOTAL NO. of ITERATIONS REACHED LIMIT.\n",
      "\n",
      "Increase the number of iterations (max_iter) or scale the data as shown in:\n",
      "    https://scikit-learn.org/stable/modules/preprocessing.html\n",
      "  self.n_iter_ = _check_optimize_result(\"lbfgs\", opt_res, self.max_iter)\n"
     ]
    },
    {
     "name": "stdout",
     "output_type": "stream",
     "text": [
      "[CV] END hidden_layer_sizes=17, learning_rate_init=0.1, max_iter=2500, random_state=42, solver=lbfgs; total time=  31.2s\n"
     ]
    },
    {
     "name": "stderr",
     "output_type": "stream",
     "text": [
      "C:\\Users\\salda\\Anaconda3\\lib\\site-packages\\sklearn\\neural_network\\_multilayer_perceptron.py:500: ConvergenceWarning: lbfgs failed to converge (status=1):\n",
      "STOP: TOTAL NO. of ITERATIONS REACHED LIMIT.\n",
      "\n",
      "Increase the number of iterations (max_iter) or scale the data as shown in:\n",
      "    https://scikit-learn.org/stable/modules/preprocessing.html\n",
      "  self.n_iter_ = _check_optimize_result(\"lbfgs\", opt_res, self.max_iter)\n"
     ]
    },
    {
     "name": "stdout",
     "output_type": "stream",
     "text": [
      "[CV] END hidden_layer_sizes=17, learning_rate_init=0.1, max_iter=2500, random_state=42, solver=lbfgs; total time=  32.0s\n",
      "[CV] END hidden_layer_sizes=17, learning_rate_init=0.1, max_iter=2500, random_state=42, solver=adam; total time=   1.7s\n",
      "[CV] END hidden_layer_sizes=17, learning_rate_init=0.1, max_iter=2500, random_state=42, solver=adam; total time=   2.8s\n",
      "[CV] END hidden_layer_sizes=17, learning_rate_init=0.1, max_iter=2500, random_state=42, solver=adam; total time=   2.3s\n",
      "[CV] END hidden_layer_sizes=17, learning_rate_init=0.1, max_iter=2500, random_state=42, solver=adam; total time=   3.0s\n",
      "[CV] END hidden_layer_sizes=17, learning_rate_init=0.1, max_iter=2500, random_state=42, solver=adam; total time=   1.7s\n"
     ]
    },
    {
     "name": "stderr",
     "output_type": "stream",
     "text": [
      "C:\\Users\\salda\\Anaconda3\\lib\\site-packages\\sklearn\\neural_network\\_multilayer_perceptron.py:500: ConvergenceWarning: lbfgs failed to converge (status=1):\n",
      "STOP: TOTAL NO. of ITERATIONS REACHED LIMIT.\n",
      "\n",
      "Increase the number of iterations (max_iter) or scale the data as shown in:\n",
      "    https://scikit-learn.org/stable/modules/preprocessing.html\n",
      "  self.n_iter_ = _check_optimize_result(\"lbfgs\", opt_res, self.max_iter)\n"
     ]
    },
    {
     "name": "stdout",
     "output_type": "stream",
     "text": [
      "[CV] END hidden_layer_sizes=17, learning_rate_init=0.001, max_iter=2500, random_state=42, solver=lbfgs; total time=  34.2s\n"
     ]
    },
    {
     "name": "stderr",
     "output_type": "stream",
     "text": [
      "C:\\Users\\salda\\Anaconda3\\lib\\site-packages\\sklearn\\neural_network\\_multilayer_perceptron.py:500: ConvergenceWarning: lbfgs failed to converge (status=1):\n",
      "STOP: TOTAL NO. of ITERATIONS REACHED LIMIT.\n",
      "\n",
      "Increase the number of iterations (max_iter) or scale the data as shown in:\n",
      "    https://scikit-learn.org/stable/modules/preprocessing.html\n",
      "  self.n_iter_ = _check_optimize_result(\"lbfgs\", opt_res, self.max_iter)\n"
     ]
    },
    {
     "name": "stdout",
     "output_type": "stream",
     "text": [
      "[CV] END hidden_layer_sizes=17, learning_rate_init=0.001, max_iter=2500, random_state=42, solver=lbfgs; total time=  32.5s\n"
     ]
    },
    {
     "name": "stderr",
     "output_type": "stream",
     "text": [
      "C:\\Users\\salda\\Anaconda3\\lib\\site-packages\\sklearn\\neural_network\\_multilayer_perceptron.py:500: ConvergenceWarning: lbfgs failed to converge (status=1):\n",
      "STOP: TOTAL NO. of ITERATIONS REACHED LIMIT.\n",
      "\n",
      "Increase the number of iterations (max_iter) or scale the data as shown in:\n",
      "    https://scikit-learn.org/stable/modules/preprocessing.html\n",
      "  self.n_iter_ = _check_optimize_result(\"lbfgs\", opt_res, self.max_iter)\n"
     ]
    },
    {
     "name": "stdout",
     "output_type": "stream",
     "text": [
      "[CV] END hidden_layer_sizes=17, learning_rate_init=0.001, max_iter=2500, random_state=42, solver=lbfgs; total time=  33.6s\n"
     ]
    },
    {
     "name": "stderr",
     "output_type": "stream",
     "text": [
      "C:\\Users\\salda\\Anaconda3\\lib\\site-packages\\sklearn\\neural_network\\_multilayer_perceptron.py:500: ConvergenceWarning: lbfgs failed to converge (status=1):\n",
      "STOP: TOTAL NO. of ITERATIONS REACHED LIMIT.\n",
      "\n",
      "Increase the number of iterations (max_iter) or scale the data as shown in:\n",
      "    https://scikit-learn.org/stable/modules/preprocessing.html\n",
      "  self.n_iter_ = _check_optimize_result(\"lbfgs\", opt_res, self.max_iter)\n"
     ]
    },
    {
     "name": "stdout",
     "output_type": "stream",
     "text": [
      "[CV] END hidden_layer_sizes=17, learning_rate_init=0.001, max_iter=2500, random_state=42, solver=lbfgs; total time=  31.3s\n"
     ]
    },
    {
     "name": "stderr",
     "output_type": "stream",
     "text": [
      "C:\\Users\\salda\\Anaconda3\\lib\\site-packages\\sklearn\\neural_network\\_multilayer_perceptron.py:500: ConvergenceWarning: lbfgs failed to converge (status=1):\n",
      "STOP: TOTAL NO. of ITERATIONS REACHED LIMIT.\n",
      "\n",
      "Increase the number of iterations (max_iter) or scale the data as shown in:\n",
      "    https://scikit-learn.org/stable/modules/preprocessing.html\n",
      "  self.n_iter_ = _check_optimize_result(\"lbfgs\", opt_res, self.max_iter)\n"
     ]
    },
    {
     "name": "stdout",
     "output_type": "stream",
     "text": [
      "[CV] END hidden_layer_sizes=17, learning_rate_init=0.001, max_iter=2500, random_state=42, solver=lbfgs; total time=  32.1s\n",
      "[CV] END hidden_layer_sizes=17, learning_rate_init=0.001, max_iter=2500, random_state=42, solver=adam; total time=  10.5s\n",
      "[CV] END hidden_layer_sizes=17, learning_rate_init=0.001, max_iter=2500, random_state=42, solver=adam; total time=  15.2s\n",
      "[CV] END hidden_layer_sizes=17, learning_rate_init=0.001, max_iter=2500, random_state=42, solver=adam; total time=   8.6s\n",
      "[CV] END hidden_layer_sizes=17, learning_rate_init=0.001, max_iter=2500, random_state=42, solver=adam; total time=  10.9s\n",
      "[CV] END hidden_layer_sizes=17, learning_rate_init=0.001, max_iter=2500, random_state=42, solver=adam; total time=  12.6s\n"
     ]
    },
    {
     "name": "stderr",
     "output_type": "stream",
     "text": [
      "C:\\Users\\salda\\Anaconda3\\lib\\site-packages\\sklearn\\neural_network\\_multilayer_perceptron.py:500: ConvergenceWarning: lbfgs failed to converge (status=1):\n",
      "STOP: TOTAL NO. of ITERATIONS REACHED LIMIT.\n",
      "\n",
      "Increase the number of iterations (max_iter) or scale the data as shown in:\n",
      "    https://scikit-learn.org/stable/modules/preprocessing.html\n",
      "  self.n_iter_ = _check_optimize_result(\"lbfgs\", opt_res, self.max_iter)\n"
     ]
    },
    {
     "name": "stdout",
     "output_type": "stream",
     "text": [
      "[CV] END hidden_layer_sizes=17, learning_rate_init=1e-05, max_iter=2500, random_state=42, solver=lbfgs; total time=  33.4s\n"
     ]
    },
    {
     "name": "stderr",
     "output_type": "stream",
     "text": [
      "C:\\Users\\salda\\Anaconda3\\lib\\site-packages\\sklearn\\neural_network\\_multilayer_perceptron.py:500: ConvergenceWarning: lbfgs failed to converge (status=1):\n",
      "STOP: TOTAL NO. of ITERATIONS REACHED LIMIT.\n",
      "\n",
      "Increase the number of iterations (max_iter) or scale the data as shown in:\n",
      "    https://scikit-learn.org/stable/modules/preprocessing.html\n",
      "  self.n_iter_ = _check_optimize_result(\"lbfgs\", opt_res, self.max_iter)\n"
     ]
    },
    {
     "name": "stdout",
     "output_type": "stream",
     "text": [
      "[CV] END hidden_layer_sizes=17, learning_rate_init=1e-05, max_iter=2500, random_state=42, solver=lbfgs; total time=  32.9s\n"
     ]
    },
    {
     "name": "stderr",
     "output_type": "stream",
     "text": [
      "C:\\Users\\salda\\Anaconda3\\lib\\site-packages\\sklearn\\neural_network\\_multilayer_perceptron.py:500: ConvergenceWarning: lbfgs failed to converge (status=1):\n",
      "STOP: TOTAL NO. of ITERATIONS REACHED LIMIT.\n",
      "\n",
      "Increase the number of iterations (max_iter) or scale the data as shown in:\n",
      "    https://scikit-learn.org/stable/modules/preprocessing.html\n",
      "  self.n_iter_ = _check_optimize_result(\"lbfgs\", opt_res, self.max_iter)\n"
     ]
    },
    {
     "name": "stdout",
     "output_type": "stream",
     "text": [
      "[CV] END hidden_layer_sizes=17, learning_rate_init=1e-05, max_iter=2500, random_state=42, solver=lbfgs; total time=  34.4s\n"
     ]
    },
    {
     "name": "stderr",
     "output_type": "stream",
     "text": [
      "C:\\Users\\salda\\Anaconda3\\lib\\site-packages\\sklearn\\neural_network\\_multilayer_perceptron.py:500: ConvergenceWarning: lbfgs failed to converge (status=1):\n",
      "STOP: TOTAL NO. of ITERATIONS REACHED LIMIT.\n",
      "\n",
      "Increase the number of iterations (max_iter) or scale the data as shown in:\n",
      "    https://scikit-learn.org/stable/modules/preprocessing.html\n",
      "  self.n_iter_ = _check_optimize_result(\"lbfgs\", opt_res, self.max_iter)\n"
     ]
    },
    {
     "name": "stdout",
     "output_type": "stream",
     "text": [
      "[CV] END hidden_layer_sizes=17, learning_rate_init=1e-05, max_iter=2500, random_state=42, solver=lbfgs; total time=  33.5s\n"
     ]
    },
    {
     "name": "stderr",
     "output_type": "stream",
     "text": [
      "C:\\Users\\salda\\Anaconda3\\lib\\site-packages\\sklearn\\neural_network\\_multilayer_perceptron.py:500: ConvergenceWarning: lbfgs failed to converge (status=1):\n",
      "STOP: TOTAL NO. of ITERATIONS REACHED LIMIT.\n",
      "\n",
      "Increase the number of iterations (max_iter) or scale the data as shown in:\n",
      "    https://scikit-learn.org/stable/modules/preprocessing.html\n",
      "  self.n_iter_ = _check_optimize_result(\"lbfgs\", opt_res, self.max_iter)\n"
     ]
    },
    {
     "name": "stdout",
     "output_type": "stream",
     "text": [
      "[CV] END hidden_layer_sizes=17, learning_rate_init=1e-05, max_iter=2500, random_state=42, solver=lbfgs; total time=  32.9s\n",
      "[CV] END hidden_layer_sizes=17, learning_rate_init=1e-05, max_iter=2500, random_state=42, solver=adam; total time= 1.4min\n",
      "[CV] END hidden_layer_sizes=17, learning_rate_init=1e-05, max_iter=2500, random_state=42, solver=adam; total time= 1.3min\n",
      "[CV] END hidden_layer_sizes=17, learning_rate_init=1e-05, max_iter=2500, random_state=42, solver=adam; total time= 1.5min\n",
      "[CV] END hidden_layer_sizes=17, learning_rate_init=1e-05, max_iter=2500, random_state=42, solver=adam; total time= 1.4min\n",
      "[CV] END hidden_layer_sizes=17, learning_rate_init=1e-05, max_iter=2500, random_state=42, solver=adam; total time= 1.4min\n"
     ]
    },
    {
     "name": "stderr",
     "output_type": "stream",
     "text": [
      "C:\\Users\\salda\\Anaconda3\\lib\\site-packages\\sklearn\\neural_network\\_multilayer_perceptron.py:500: ConvergenceWarning: lbfgs failed to converge (status=1):\n",
      "STOP: TOTAL NO. of ITERATIONS REACHED LIMIT.\n",
      "\n",
      "Increase the number of iterations (max_iter) or scale the data as shown in:\n",
      "    https://scikit-learn.org/stable/modules/preprocessing.html\n",
      "  self.n_iter_ = _check_optimize_result(\"lbfgs\", opt_res, self.max_iter)\n"
     ]
    },
    {
     "name": "stdout",
     "output_type": "stream",
     "text": [
      "[CV] END hidden_layer_sizes=18, learning_rate_init=0.1, max_iter=2500, random_state=42, solver=lbfgs; total time=  34.4s\n"
     ]
    },
    {
     "name": "stderr",
     "output_type": "stream",
     "text": [
      "C:\\Users\\salda\\Anaconda3\\lib\\site-packages\\sklearn\\neural_network\\_multilayer_perceptron.py:500: ConvergenceWarning: lbfgs failed to converge (status=1):\n",
      "STOP: TOTAL NO. of ITERATIONS REACHED LIMIT.\n",
      "\n",
      "Increase the number of iterations (max_iter) or scale the data as shown in:\n",
      "    https://scikit-learn.org/stable/modules/preprocessing.html\n",
      "  self.n_iter_ = _check_optimize_result(\"lbfgs\", opt_res, self.max_iter)\n"
     ]
    },
    {
     "name": "stdout",
     "output_type": "stream",
     "text": [
      "[CV] END hidden_layer_sizes=18, learning_rate_init=0.1, max_iter=2500, random_state=42, solver=lbfgs; total time=  36.8s\n"
     ]
    },
    {
     "name": "stderr",
     "output_type": "stream",
     "text": [
      "C:\\Users\\salda\\Anaconda3\\lib\\site-packages\\sklearn\\neural_network\\_multilayer_perceptron.py:500: ConvergenceWarning: lbfgs failed to converge (status=1):\n",
      "STOP: TOTAL NO. of ITERATIONS REACHED LIMIT.\n",
      "\n",
      "Increase the number of iterations (max_iter) or scale the data as shown in:\n",
      "    https://scikit-learn.org/stable/modules/preprocessing.html\n",
      "  self.n_iter_ = _check_optimize_result(\"lbfgs\", opt_res, self.max_iter)\n"
     ]
    },
    {
     "name": "stdout",
     "output_type": "stream",
     "text": [
      "[CV] END hidden_layer_sizes=18, learning_rate_init=0.1, max_iter=2500, random_state=42, solver=lbfgs; total time=  35.4s\n"
     ]
    },
    {
     "name": "stderr",
     "output_type": "stream",
     "text": [
      "C:\\Users\\salda\\Anaconda3\\lib\\site-packages\\sklearn\\neural_network\\_multilayer_perceptron.py:500: ConvergenceWarning: lbfgs failed to converge (status=1):\n",
      "STOP: TOTAL NO. of ITERATIONS REACHED LIMIT.\n",
      "\n",
      "Increase the number of iterations (max_iter) or scale the data as shown in:\n",
      "    https://scikit-learn.org/stable/modules/preprocessing.html\n",
      "  self.n_iter_ = _check_optimize_result(\"lbfgs\", opt_res, self.max_iter)\n"
     ]
    },
    {
     "name": "stdout",
     "output_type": "stream",
     "text": [
      "[CV] END hidden_layer_sizes=18, learning_rate_init=0.1, max_iter=2500, random_state=42, solver=lbfgs; total time=  35.8s\n"
     ]
    },
    {
     "name": "stderr",
     "output_type": "stream",
     "text": [
      "C:\\Users\\salda\\Anaconda3\\lib\\site-packages\\sklearn\\neural_network\\_multilayer_perceptron.py:500: ConvergenceWarning: lbfgs failed to converge (status=1):\n",
      "STOP: TOTAL NO. of ITERATIONS REACHED LIMIT.\n",
      "\n",
      "Increase the number of iterations (max_iter) or scale the data as shown in:\n",
      "    https://scikit-learn.org/stable/modules/preprocessing.html\n",
      "  self.n_iter_ = _check_optimize_result(\"lbfgs\", opt_res, self.max_iter)\n"
     ]
    },
    {
     "name": "stdout",
     "output_type": "stream",
     "text": [
      "[CV] END hidden_layer_sizes=18, learning_rate_init=0.1, max_iter=2500, random_state=42, solver=lbfgs; total time=  32.8s\n",
      "[CV] END hidden_layer_sizes=18, learning_rate_init=0.1, max_iter=2500, random_state=42, solver=adam; total time=   2.6s\n",
      "[CV] END hidden_layer_sizes=18, learning_rate_init=0.1, max_iter=2500, random_state=42, solver=adam; total time=   1.2s\n",
      "[CV] END hidden_layer_sizes=18, learning_rate_init=0.1, max_iter=2500, random_state=42, solver=adam; total time=   3.3s\n",
      "[CV] END hidden_layer_sizes=18, learning_rate_init=0.1, max_iter=2500, random_state=42, solver=adam; total time=   1.8s\n",
      "[CV] END hidden_layer_sizes=18, learning_rate_init=0.1, max_iter=2500, random_state=42, solver=adam; total time=   1.1s\n"
     ]
    },
    {
     "name": "stderr",
     "output_type": "stream",
     "text": [
      "C:\\Users\\salda\\Anaconda3\\lib\\site-packages\\sklearn\\neural_network\\_multilayer_perceptron.py:500: ConvergenceWarning: lbfgs failed to converge (status=1):\n",
      "STOP: TOTAL NO. of ITERATIONS REACHED LIMIT.\n",
      "\n",
      "Increase the number of iterations (max_iter) or scale the data as shown in:\n",
      "    https://scikit-learn.org/stable/modules/preprocessing.html\n",
      "  self.n_iter_ = _check_optimize_result(\"lbfgs\", opt_res, self.max_iter)\n"
     ]
    },
    {
     "name": "stdout",
     "output_type": "stream",
     "text": [
      "[CV] END hidden_layer_sizes=18, learning_rate_init=0.001, max_iter=2500, random_state=42, solver=lbfgs; total time=  34.2s\n"
     ]
    },
    {
     "name": "stderr",
     "output_type": "stream",
     "text": [
      "C:\\Users\\salda\\Anaconda3\\lib\\site-packages\\sklearn\\neural_network\\_multilayer_perceptron.py:500: ConvergenceWarning: lbfgs failed to converge (status=1):\n",
      "STOP: TOTAL NO. of ITERATIONS REACHED LIMIT.\n",
      "\n",
      "Increase the number of iterations (max_iter) or scale the data as shown in:\n",
      "    https://scikit-learn.org/stable/modules/preprocessing.html\n",
      "  self.n_iter_ = _check_optimize_result(\"lbfgs\", opt_res, self.max_iter)\n"
     ]
    },
    {
     "name": "stdout",
     "output_type": "stream",
     "text": [
      "[CV] END hidden_layer_sizes=18, learning_rate_init=0.001, max_iter=2500, random_state=42, solver=lbfgs; total time=  41.0s\n"
     ]
    },
    {
     "name": "stderr",
     "output_type": "stream",
     "text": [
      "C:\\Users\\salda\\Anaconda3\\lib\\site-packages\\sklearn\\neural_network\\_multilayer_perceptron.py:500: ConvergenceWarning: lbfgs failed to converge (status=1):\n",
      "STOP: TOTAL NO. of ITERATIONS REACHED LIMIT.\n",
      "\n",
      "Increase the number of iterations (max_iter) or scale the data as shown in:\n",
      "    https://scikit-learn.org/stable/modules/preprocessing.html\n",
      "  self.n_iter_ = _check_optimize_result(\"lbfgs\", opt_res, self.max_iter)\n"
     ]
    },
    {
     "name": "stdout",
     "output_type": "stream",
     "text": [
      "[CV] END hidden_layer_sizes=18, learning_rate_init=0.001, max_iter=2500, random_state=42, solver=lbfgs; total time=  35.5s\n"
     ]
    },
    {
     "name": "stderr",
     "output_type": "stream",
     "text": [
      "C:\\Users\\salda\\Anaconda3\\lib\\site-packages\\sklearn\\neural_network\\_multilayer_perceptron.py:500: ConvergenceWarning: lbfgs failed to converge (status=1):\n",
      "STOP: TOTAL NO. of ITERATIONS REACHED LIMIT.\n",
      "\n",
      "Increase the number of iterations (max_iter) or scale the data as shown in:\n",
      "    https://scikit-learn.org/stable/modules/preprocessing.html\n",
      "  self.n_iter_ = _check_optimize_result(\"lbfgs\", opt_res, self.max_iter)\n"
     ]
    },
    {
     "name": "stdout",
     "output_type": "stream",
     "text": [
      "[CV] END hidden_layer_sizes=18, learning_rate_init=0.001, max_iter=2500, random_state=42, solver=lbfgs; total time=  36.2s\n"
     ]
    },
    {
     "name": "stderr",
     "output_type": "stream",
     "text": [
      "C:\\Users\\salda\\Anaconda3\\lib\\site-packages\\sklearn\\neural_network\\_multilayer_perceptron.py:500: ConvergenceWarning: lbfgs failed to converge (status=1):\n",
      "STOP: TOTAL NO. of ITERATIONS REACHED LIMIT.\n",
      "\n",
      "Increase the number of iterations (max_iter) or scale the data as shown in:\n",
      "    https://scikit-learn.org/stable/modules/preprocessing.html\n",
      "  self.n_iter_ = _check_optimize_result(\"lbfgs\", opt_res, self.max_iter)\n"
     ]
    },
    {
     "name": "stdout",
     "output_type": "stream",
     "text": [
      "[CV] END hidden_layer_sizes=18, learning_rate_init=0.001, max_iter=2500, random_state=42, solver=lbfgs; total time=  33.3s\n",
      "[CV] END hidden_layer_sizes=18, learning_rate_init=0.001, max_iter=2500, random_state=42, solver=adam; total time=  12.8s\n",
      "[CV] END hidden_layer_sizes=18, learning_rate_init=0.001, max_iter=2500, random_state=42, solver=adam; total time=  12.7s\n",
      "[CV] END hidden_layer_sizes=18, learning_rate_init=0.001, max_iter=2500, random_state=42, solver=adam; total time=  17.1s\n",
      "[CV] END hidden_layer_sizes=18, learning_rate_init=0.001, max_iter=2500, random_state=42, solver=adam; total time=  18.1s\n",
      "[CV] END hidden_layer_sizes=18, learning_rate_init=0.001, max_iter=2500, random_state=42, solver=adam; total time=  11.7s\n"
     ]
    },
    {
     "name": "stderr",
     "output_type": "stream",
     "text": [
      "C:\\Users\\salda\\Anaconda3\\lib\\site-packages\\sklearn\\neural_network\\_multilayer_perceptron.py:500: ConvergenceWarning: lbfgs failed to converge (status=1):\n",
      "STOP: TOTAL NO. of ITERATIONS REACHED LIMIT.\n",
      "\n",
      "Increase the number of iterations (max_iter) or scale the data as shown in:\n",
      "    https://scikit-learn.org/stable/modules/preprocessing.html\n",
      "  self.n_iter_ = _check_optimize_result(\"lbfgs\", opt_res, self.max_iter)\n"
     ]
    },
    {
     "name": "stdout",
     "output_type": "stream",
     "text": [
      "[CV] END hidden_layer_sizes=18, learning_rate_init=1e-05, max_iter=2500, random_state=42, solver=lbfgs; total time=  33.9s\n"
     ]
    },
    {
     "name": "stderr",
     "output_type": "stream",
     "text": [
      "C:\\Users\\salda\\Anaconda3\\lib\\site-packages\\sklearn\\neural_network\\_multilayer_perceptron.py:500: ConvergenceWarning: lbfgs failed to converge (status=1):\n",
      "STOP: TOTAL NO. of ITERATIONS REACHED LIMIT.\n",
      "\n",
      "Increase the number of iterations (max_iter) or scale the data as shown in:\n",
      "    https://scikit-learn.org/stable/modules/preprocessing.html\n",
      "  self.n_iter_ = _check_optimize_result(\"lbfgs\", opt_res, self.max_iter)\n"
     ]
    },
    {
     "name": "stdout",
     "output_type": "stream",
     "text": [
      "[CV] END hidden_layer_sizes=18, learning_rate_init=1e-05, max_iter=2500, random_state=42, solver=lbfgs; total time=  36.5s\n"
     ]
    },
    {
     "name": "stderr",
     "output_type": "stream",
     "text": [
      "C:\\Users\\salda\\Anaconda3\\lib\\site-packages\\sklearn\\neural_network\\_multilayer_perceptron.py:500: ConvergenceWarning: lbfgs failed to converge (status=1):\n",
      "STOP: TOTAL NO. of ITERATIONS REACHED LIMIT.\n",
      "\n",
      "Increase the number of iterations (max_iter) or scale the data as shown in:\n",
      "    https://scikit-learn.org/stable/modules/preprocessing.html\n",
      "  self.n_iter_ = _check_optimize_result(\"lbfgs\", opt_res, self.max_iter)\n"
     ]
    },
    {
     "name": "stdout",
     "output_type": "stream",
     "text": [
      "[CV] END hidden_layer_sizes=18, learning_rate_init=1e-05, max_iter=2500, random_state=42, solver=lbfgs; total time=  35.6s\n"
     ]
    },
    {
     "name": "stderr",
     "output_type": "stream",
     "text": [
      "C:\\Users\\salda\\Anaconda3\\lib\\site-packages\\sklearn\\neural_network\\_multilayer_perceptron.py:500: ConvergenceWarning: lbfgs failed to converge (status=1):\n",
      "STOP: TOTAL NO. of ITERATIONS REACHED LIMIT.\n",
      "\n",
      "Increase the number of iterations (max_iter) or scale the data as shown in:\n",
      "    https://scikit-learn.org/stable/modules/preprocessing.html\n",
      "  self.n_iter_ = _check_optimize_result(\"lbfgs\", opt_res, self.max_iter)\n"
     ]
    },
    {
     "name": "stdout",
     "output_type": "stream",
     "text": [
      "[CV] END hidden_layer_sizes=18, learning_rate_init=1e-05, max_iter=2500, random_state=42, solver=lbfgs; total time=  35.1s\n"
     ]
    },
    {
     "name": "stderr",
     "output_type": "stream",
     "text": [
      "C:\\Users\\salda\\Anaconda3\\lib\\site-packages\\sklearn\\neural_network\\_multilayer_perceptron.py:500: ConvergenceWarning: lbfgs failed to converge (status=1):\n",
      "STOP: TOTAL NO. of ITERATIONS REACHED LIMIT.\n",
      "\n",
      "Increase the number of iterations (max_iter) or scale the data as shown in:\n",
      "    https://scikit-learn.org/stable/modules/preprocessing.html\n",
      "  self.n_iter_ = _check_optimize_result(\"lbfgs\", opt_res, self.max_iter)\n"
     ]
    },
    {
     "name": "stdout",
     "output_type": "stream",
     "text": [
      "[CV] END hidden_layer_sizes=18, learning_rate_init=1e-05, max_iter=2500, random_state=42, solver=lbfgs; total time=  33.0s\n",
      "[CV] END hidden_layer_sizes=18, learning_rate_init=1e-05, max_iter=2500, random_state=42, solver=adam; total time= 1.2min\n",
      "[CV] END hidden_layer_sizes=18, learning_rate_init=1e-05, max_iter=2500, random_state=42, solver=adam; total time= 1.3min\n",
      "[CV] END hidden_layer_sizes=18, learning_rate_init=1e-05, max_iter=2500, random_state=42, solver=adam; total time= 1.3min\n",
      "[CV] END hidden_layer_sizes=18, learning_rate_init=1e-05, max_iter=2500, random_state=42, solver=adam; total time= 1.3min\n",
      "[CV] END hidden_layer_sizes=18, learning_rate_init=1e-05, max_iter=2500, random_state=42, solver=adam; total time= 1.2min\n"
     ]
    },
    {
     "name": "stderr",
     "output_type": "stream",
     "text": [
      "C:\\Users\\salda\\Anaconda3\\lib\\site-packages\\sklearn\\neural_network\\_multilayer_perceptron.py:500: ConvergenceWarning: lbfgs failed to converge (status=1):\n",
      "STOP: TOTAL NO. of ITERATIONS REACHED LIMIT.\n",
      "\n",
      "Increase the number of iterations (max_iter) or scale the data as shown in:\n",
      "    https://scikit-learn.org/stable/modules/preprocessing.html\n",
      "  self.n_iter_ = _check_optimize_result(\"lbfgs\", opt_res, self.max_iter)\n"
     ]
    },
    {
     "name": "stdout",
     "output_type": "stream",
     "text": [
      "[CV] END hidden_layer_sizes=19, learning_rate_init=0.1, max_iter=2500, random_state=42, solver=lbfgs; total time=  37.2s\n"
     ]
    },
    {
     "name": "stderr",
     "output_type": "stream",
     "text": [
      "C:\\Users\\salda\\Anaconda3\\lib\\site-packages\\sklearn\\neural_network\\_multilayer_perceptron.py:500: ConvergenceWarning: lbfgs failed to converge (status=1):\n",
      "STOP: TOTAL NO. of ITERATIONS REACHED LIMIT.\n",
      "\n",
      "Increase the number of iterations (max_iter) or scale the data as shown in:\n",
      "    https://scikit-learn.org/stable/modules/preprocessing.html\n",
      "  self.n_iter_ = _check_optimize_result(\"lbfgs\", opt_res, self.max_iter)\n"
     ]
    },
    {
     "name": "stdout",
     "output_type": "stream",
     "text": [
      "[CV] END hidden_layer_sizes=19, learning_rate_init=0.1, max_iter=2500, random_state=42, solver=lbfgs; total time=  37.2s\n"
     ]
    },
    {
     "name": "stderr",
     "output_type": "stream",
     "text": [
      "C:\\Users\\salda\\Anaconda3\\lib\\site-packages\\sklearn\\neural_network\\_multilayer_perceptron.py:500: ConvergenceWarning: lbfgs failed to converge (status=1):\n",
      "STOP: TOTAL NO. of ITERATIONS REACHED LIMIT.\n",
      "\n",
      "Increase the number of iterations (max_iter) or scale the data as shown in:\n",
      "    https://scikit-learn.org/stable/modules/preprocessing.html\n",
      "  self.n_iter_ = _check_optimize_result(\"lbfgs\", opt_res, self.max_iter)\n"
     ]
    },
    {
     "name": "stdout",
     "output_type": "stream",
     "text": [
      "[CV] END hidden_layer_sizes=19, learning_rate_init=0.1, max_iter=2500, random_state=42, solver=lbfgs; total time=  36.6s\n"
     ]
    },
    {
     "name": "stderr",
     "output_type": "stream",
     "text": [
      "C:\\Users\\salda\\Anaconda3\\lib\\site-packages\\sklearn\\neural_network\\_multilayer_perceptron.py:500: ConvergenceWarning: lbfgs failed to converge (status=1):\n",
      "STOP: TOTAL NO. of ITERATIONS REACHED LIMIT.\n",
      "\n",
      "Increase the number of iterations (max_iter) or scale the data as shown in:\n",
      "    https://scikit-learn.org/stable/modules/preprocessing.html\n",
      "  self.n_iter_ = _check_optimize_result(\"lbfgs\", opt_res, self.max_iter)\n"
     ]
    },
    {
     "name": "stdout",
     "output_type": "stream",
     "text": [
      "[CV] END hidden_layer_sizes=19, learning_rate_init=0.1, max_iter=2500, random_state=42, solver=lbfgs; total time=  36.6s\n"
     ]
    },
    {
     "name": "stderr",
     "output_type": "stream",
     "text": [
      "C:\\Users\\salda\\Anaconda3\\lib\\site-packages\\sklearn\\neural_network\\_multilayer_perceptron.py:500: ConvergenceWarning: lbfgs failed to converge (status=1):\n",
      "STOP: TOTAL NO. of ITERATIONS REACHED LIMIT.\n",
      "\n",
      "Increase the number of iterations (max_iter) or scale the data as shown in:\n",
      "    https://scikit-learn.org/stable/modules/preprocessing.html\n",
      "  self.n_iter_ = _check_optimize_result(\"lbfgs\", opt_res, self.max_iter)\n"
     ]
    },
    {
     "name": "stdout",
     "output_type": "stream",
     "text": [
      "[CV] END hidden_layer_sizes=19, learning_rate_init=0.1, max_iter=2500, random_state=42, solver=lbfgs; total time=  35.4s\n",
      "[CV] END hidden_layer_sizes=19, learning_rate_init=0.1, max_iter=2500, random_state=42, solver=adam; total time=   2.4s\n",
      "[CV] END hidden_layer_sizes=19, learning_rate_init=0.1, max_iter=2500, random_state=42, solver=adam; total time=   1.4s\n",
      "[CV] END hidden_layer_sizes=19, learning_rate_init=0.1, max_iter=2500, random_state=42, solver=adam; total time=   2.4s\n",
      "[CV] END hidden_layer_sizes=19, learning_rate_init=0.1, max_iter=2500, random_state=42, solver=adam; total time=   2.4s\n",
      "[CV] END hidden_layer_sizes=19, learning_rate_init=0.1, max_iter=2500, random_state=42, solver=adam; total time=   2.9s\n"
     ]
    },
    {
     "name": "stderr",
     "output_type": "stream",
     "text": [
      "C:\\Users\\salda\\Anaconda3\\lib\\site-packages\\sklearn\\neural_network\\_multilayer_perceptron.py:500: ConvergenceWarning: lbfgs failed to converge (status=1):\n",
      "STOP: TOTAL NO. of ITERATIONS REACHED LIMIT.\n",
      "\n",
      "Increase the number of iterations (max_iter) or scale the data as shown in:\n",
      "    https://scikit-learn.org/stable/modules/preprocessing.html\n",
      "  self.n_iter_ = _check_optimize_result(\"lbfgs\", opt_res, self.max_iter)\n"
     ]
    },
    {
     "name": "stdout",
     "output_type": "stream",
     "text": [
      "[CV] END hidden_layer_sizes=19, learning_rate_init=0.001, max_iter=2500, random_state=42, solver=lbfgs; total time=  36.2s\n"
     ]
    },
    {
     "name": "stderr",
     "output_type": "stream",
     "text": [
      "C:\\Users\\salda\\Anaconda3\\lib\\site-packages\\sklearn\\neural_network\\_multilayer_perceptron.py:500: ConvergenceWarning: lbfgs failed to converge (status=1):\n",
      "STOP: TOTAL NO. of ITERATIONS REACHED LIMIT.\n",
      "\n",
      "Increase the number of iterations (max_iter) or scale the data as shown in:\n",
      "    https://scikit-learn.org/stable/modules/preprocessing.html\n",
      "  self.n_iter_ = _check_optimize_result(\"lbfgs\", opt_res, self.max_iter)\n"
     ]
    },
    {
     "name": "stdout",
     "output_type": "stream",
     "text": [
      "[CV] END hidden_layer_sizes=19, learning_rate_init=0.001, max_iter=2500, random_state=42, solver=lbfgs; total time=  39.1s\n"
     ]
    },
    {
     "name": "stderr",
     "output_type": "stream",
     "text": [
      "C:\\Users\\salda\\Anaconda3\\lib\\site-packages\\sklearn\\neural_network\\_multilayer_perceptron.py:500: ConvergenceWarning: lbfgs failed to converge (status=1):\n",
      "STOP: TOTAL NO. of ITERATIONS REACHED LIMIT.\n",
      "\n",
      "Increase the number of iterations (max_iter) or scale the data as shown in:\n",
      "    https://scikit-learn.org/stable/modules/preprocessing.html\n",
      "  self.n_iter_ = _check_optimize_result(\"lbfgs\", opt_res, self.max_iter)\n"
     ]
    },
    {
     "name": "stdout",
     "output_type": "stream",
     "text": [
      "[CV] END hidden_layer_sizes=19, learning_rate_init=0.001, max_iter=2500, random_state=42, solver=lbfgs; total time=  36.3s\n"
     ]
    },
    {
     "name": "stderr",
     "output_type": "stream",
     "text": [
      "C:\\Users\\salda\\Anaconda3\\lib\\site-packages\\sklearn\\neural_network\\_multilayer_perceptron.py:500: ConvergenceWarning: lbfgs failed to converge (status=1):\n",
      "STOP: TOTAL NO. of ITERATIONS REACHED LIMIT.\n",
      "\n",
      "Increase the number of iterations (max_iter) or scale the data as shown in:\n",
      "    https://scikit-learn.org/stable/modules/preprocessing.html\n",
      "  self.n_iter_ = _check_optimize_result(\"lbfgs\", opt_res, self.max_iter)\n"
     ]
    },
    {
     "name": "stdout",
     "output_type": "stream",
     "text": [
      "[CV] END hidden_layer_sizes=19, learning_rate_init=0.001, max_iter=2500, random_state=42, solver=lbfgs; total time=  36.8s\n"
     ]
    },
    {
     "name": "stderr",
     "output_type": "stream",
     "text": [
      "C:\\Users\\salda\\Anaconda3\\lib\\site-packages\\sklearn\\neural_network\\_multilayer_perceptron.py:500: ConvergenceWarning: lbfgs failed to converge (status=1):\n",
      "STOP: TOTAL NO. of ITERATIONS REACHED LIMIT.\n",
      "\n",
      "Increase the number of iterations (max_iter) or scale the data as shown in:\n",
      "    https://scikit-learn.org/stable/modules/preprocessing.html\n",
      "  self.n_iter_ = _check_optimize_result(\"lbfgs\", opt_res, self.max_iter)\n"
     ]
    },
    {
     "name": "stdout",
     "output_type": "stream",
     "text": [
      "[CV] END hidden_layer_sizes=19, learning_rate_init=0.001, max_iter=2500, random_state=42, solver=lbfgs; total time=  35.6s\n",
      "[CV] END hidden_layer_sizes=19, learning_rate_init=0.001, max_iter=2500, random_state=42, solver=adam; total time=  14.3s\n",
      "[CV] END hidden_layer_sizes=19, learning_rate_init=0.001, max_iter=2500, random_state=42, solver=adam; total time=  16.6s\n",
      "[CV] END hidden_layer_sizes=19, learning_rate_init=0.001, max_iter=2500, random_state=42, solver=adam; total time=  18.0s\n",
      "[CV] END hidden_layer_sizes=19, learning_rate_init=0.001, max_iter=2500, random_state=42, solver=adam; total time=  15.3s\n",
      "[CV] END hidden_layer_sizes=19, learning_rate_init=0.001, max_iter=2500, random_state=42, solver=adam; total time=  12.2s\n"
     ]
    },
    {
     "name": "stderr",
     "output_type": "stream",
     "text": [
      "C:\\Users\\salda\\Anaconda3\\lib\\site-packages\\sklearn\\neural_network\\_multilayer_perceptron.py:500: ConvergenceWarning: lbfgs failed to converge (status=1):\n",
      "STOP: TOTAL NO. of ITERATIONS REACHED LIMIT.\n",
      "\n",
      "Increase the number of iterations (max_iter) or scale the data as shown in:\n",
      "    https://scikit-learn.org/stable/modules/preprocessing.html\n",
      "  self.n_iter_ = _check_optimize_result(\"lbfgs\", opt_res, self.max_iter)\n"
     ]
    },
    {
     "name": "stdout",
     "output_type": "stream",
     "text": [
      "[CV] END hidden_layer_sizes=19, learning_rate_init=1e-05, max_iter=2500, random_state=42, solver=lbfgs; total time=  36.4s\n"
     ]
    },
    {
     "name": "stderr",
     "output_type": "stream",
     "text": [
      "C:\\Users\\salda\\Anaconda3\\lib\\site-packages\\sklearn\\neural_network\\_multilayer_perceptron.py:500: ConvergenceWarning: lbfgs failed to converge (status=1):\n",
      "STOP: TOTAL NO. of ITERATIONS REACHED LIMIT.\n",
      "\n",
      "Increase the number of iterations (max_iter) or scale the data as shown in:\n",
      "    https://scikit-learn.org/stable/modules/preprocessing.html\n",
      "  self.n_iter_ = _check_optimize_result(\"lbfgs\", opt_res, self.max_iter)\n"
     ]
    },
    {
     "name": "stdout",
     "output_type": "stream",
     "text": [
      "[CV] END hidden_layer_sizes=19, learning_rate_init=1e-05, max_iter=2500, random_state=42, solver=lbfgs; total time=  37.8s\n"
     ]
    },
    {
     "name": "stderr",
     "output_type": "stream",
     "text": [
      "C:\\Users\\salda\\Anaconda3\\lib\\site-packages\\sklearn\\neural_network\\_multilayer_perceptron.py:500: ConvergenceWarning: lbfgs failed to converge (status=1):\n",
      "STOP: TOTAL NO. of ITERATIONS REACHED LIMIT.\n",
      "\n",
      "Increase the number of iterations (max_iter) or scale the data as shown in:\n",
      "    https://scikit-learn.org/stable/modules/preprocessing.html\n",
      "  self.n_iter_ = _check_optimize_result(\"lbfgs\", opt_res, self.max_iter)\n"
     ]
    },
    {
     "name": "stdout",
     "output_type": "stream",
     "text": [
      "[CV] END hidden_layer_sizes=19, learning_rate_init=1e-05, max_iter=2500, random_state=42, solver=lbfgs; total time=  36.4s\n"
     ]
    },
    {
     "name": "stderr",
     "output_type": "stream",
     "text": [
      "C:\\Users\\salda\\Anaconda3\\lib\\site-packages\\sklearn\\neural_network\\_multilayer_perceptron.py:500: ConvergenceWarning: lbfgs failed to converge (status=1):\n",
      "STOP: TOTAL NO. of ITERATIONS REACHED LIMIT.\n",
      "\n",
      "Increase the number of iterations (max_iter) or scale the data as shown in:\n",
      "    https://scikit-learn.org/stable/modules/preprocessing.html\n",
      "  self.n_iter_ = _check_optimize_result(\"lbfgs\", opt_res, self.max_iter)\n"
     ]
    },
    {
     "name": "stdout",
     "output_type": "stream",
     "text": [
      "[CV] END hidden_layer_sizes=19, learning_rate_init=1e-05, max_iter=2500, random_state=42, solver=lbfgs; total time=  36.1s\n"
     ]
    },
    {
     "name": "stderr",
     "output_type": "stream",
     "text": [
      "C:\\Users\\salda\\Anaconda3\\lib\\site-packages\\sklearn\\neural_network\\_multilayer_perceptron.py:500: ConvergenceWarning: lbfgs failed to converge (status=1):\n",
      "STOP: TOTAL NO. of ITERATIONS REACHED LIMIT.\n",
      "\n",
      "Increase the number of iterations (max_iter) or scale the data as shown in:\n",
      "    https://scikit-learn.org/stable/modules/preprocessing.html\n",
      "  self.n_iter_ = _check_optimize_result(\"lbfgs\", opt_res, self.max_iter)\n"
     ]
    },
    {
     "name": "stdout",
     "output_type": "stream",
     "text": [
      "[CV] END hidden_layer_sizes=19, learning_rate_init=1e-05, max_iter=2500, random_state=42, solver=lbfgs; total time=  35.7s\n",
      "[CV] END hidden_layer_sizes=19, learning_rate_init=1e-05, max_iter=2500, random_state=42, solver=adam; total time= 1.2min\n",
      "[CV] END hidden_layer_sizes=19, learning_rate_init=1e-05, max_iter=2500, random_state=42, solver=adam; total time= 1.2min\n",
      "[CV] END hidden_layer_sizes=19, learning_rate_init=1e-05, max_iter=2500, random_state=42, solver=adam; total time= 1.3min\n",
      "[CV] END hidden_layer_sizes=19, learning_rate_init=1e-05, max_iter=2500, random_state=42, solver=adam; total time= 1.2min\n",
      "[CV] END hidden_layer_sizes=19, learning_rate_init=1e-05, max_iter=2500, random_state=42, solver=adam; total time= 1.2min\n"
     ]
    },
    {
     "name": "stderr",
     "output_type": "stream",
     "text": [
      "C:\\Users\\salda\\Anaconda3\\lib\\site-packages\\sklearn\\neural_network\\_multilayer_perceptron.py:500: ConvergenceWarning: lbfgs failed to converge (status=1):\n",
      "STOP: TOTAL NO. of ITERATIONS REACHED LIMIT.\n",
      "\n",
      "Increase the number of iterations (max_iter) or scale the data as shown in:\n",
      "    https://scikit-learn.org/stable/modules/preprocessing.html\n",
      "  self.n_iter_ = _check_optimize_result(\"lbfgs\", opt_res, self.max_iter)\n"
     ]
    },
    {
     "name": "stdout",
     "output_type": "stream",
     "text": [
      "[CV] END hidden_layer_sizes=20, learning_rate_init=0.1, max_iter=2500, random_state=42, solver=lbfgs; total time=  37.9s\n"
     ]
    },
    {
     "name": "stderr",
     "output_type": "stream",
     "text": [
      "C:\\Users\\salda\\Anaconda3\\lib\\site-packages\\sklearn\\neural_network\\_multilayer_perceptron.py:500: ConvergenceWarning: lbfgs failed to converge (status=1):\n",
      "STOP: TOTAL NO. of ITERATIONS REACHED LIMIT.\n",
      "\n",
      "Increase the number of iterations (max_iter) or scale the data as shown in:\n",
      "    https://scikit-learn.org/stable/modules/preprocessing.html\n",
      "  self.n_iter_ = _check_optimize_result(\"lbfgs\", opt_res, self.max_iter)\n"
     ]
    },
    {
     "name": "stdout",
     "output_type": "stream",
     "text": [
      "[CV] END hidden_layer_sizes=20, learning_rate_init=0.1, max_iter=2500, random_state=42, solver=lbfgs; total time=  39.3s\n"
     ]
    },
    {
     "name": "stderr",
     "output_type": "stream",
     "text": [
      "C:\\Users\\salda\\Anaconda3\\lib\\site-packages\\sklearn\\neural_network\\_multilayer_perceptron.py:500: ConvergenceWarning: lbfgs failed to converge (status=1):\n",
      "STOP: TOTAL NO. of ITERATIONS REACHED LIMIT.\n",
      "\n",
      "Increase the number of iterations (max_iter) or scale the data as shown in:\n",
      "    https://scikit-learn.org/stable/modules/preprocessing.html\n",
      "  self.n_iter_ = _check_optimize_result(\"lbfgs\", opt_res, self.max_iter)\n"
     ]
    },
    {
     "name": "stdout",
     "output_type": "stream",
     "text": [
      "[CV] END hidden_layer_sizes=20, learning_rate_init=0.1, max_iter=2500, random_state=42, solver=lbfgs; total time=  40.3s\n"
     ]
    },
    {
     "name": "stderr",
     "output_type": "stream",
     "text": [
      "C:\\Users\\salda\\Anaconda3\\lib\\site-packages\\sklearn\\neural_network\\_multilayer_perceptron.py:500: ConvergenceWarning: lbfgs failed to converge (status=1):\n",
      "STOP: TOTAL NO. of ITERATIONS REACHED LIMIT.\n",
      "\n",
      "Increase the number of iterations (max_iter) or scale the data as shown in:\n",
      "    https://scikit-learn.org/stable/modules/preprocessing.html\n",
      "  self.n_iter_ = _check_optimize_result(\"lbfgs\", opt_res, self.max_iter)\n"
     ]
    },
    {
     "name": "stdout",
     "output_type": "stream",
     "text": [
      "[CV] END hidden_layer_sizes=20, learning_rate_init=0.1, max_iter=2500, random_state=42, solver=lbfgs; total time=  42.1s\n"
     ]
    },
    {
     "name": "stderr",
     "output_type": "stream",
     "text": [
      "C:\\Users\\salda\\Anaconda3\\lib\\site-packages\\sklearn\\neural_network\\_multilayer_perceptron.py:500: ConvergenceWarning: lbfgs failed to converge (status=1):\n",
      "STOP: TOTAL NO. of ITERATIONS REACHED LIMIT.\n",
      "\n",
      "Increase the number of iterations (max_iter) or scale the data as shown in:\n",
      "    https://scikit-learn.org/stable/modules/preprocessing.html\n",
      "  self.n_iter_ = _check_optimize_result(\"lbfgs\", opt_res, self.max_iter)\n"
     ]
    },
    {
     "name": "stdout",
     "output_type": "stream",
     "text": [
      "[CV] END hidden_layer_sizes=20, learning_rate_init=0.1, max_iter=2500, random_state=42, solver=lbfgs; total time=  37.0s\n",
      "[CV] END hidden_layer_sizes=20, learning_rate_init=0.1, max_iter=2500, random_state=42, solver=adam; total time=   3.4s\n",
      "[CV] END hidden_layer_sizes=20, learning_rate_init=0.1, max_iter=2500, random_state=42, solver=adam; total time=   2.8s\n",
      "[CV] END hidden_layer_sizes=20, learning_rate_init=0.1, max_iter=2500, random_state=42, solver=adam; total time=   3.9s\n",
      "[CV] END hidden_layer_sizes=20, learning_rate_init=0.1, max_iter=2500, random_state=42, solver=adam; total time=   2.2s\n",
      "[CV] END hidden_layer_sizes=20, learning_rate_init=0.1, max_iter=2500, random_state=42, solver=adam; total time=   0.6s\n"
     ]
    },
    {
     "name": "stderr",
     "output_type": "stream",
     "text": [
      "C:\\Users\\salda\\Anaconda3\\lib\\site-packages\\sklearn\\neural_network\\_multilayer_perceptron.py:500: ConvergenceWarning: lbfgs failed to converge (status=1):\n",
      "STOP: TOTAL NO. of ITERATIONS REACHED LIMIT.\n",
      "\n",
      "Increase the number of iterations (max_iter) or scale the data as shown in:\n",
      "    https://scikit-learn.org/stable/modules/preprocessing.html\n",
      "  self.n_iter_ = _check_optimize_result(\"lbfgs\", opt_res, self.max_iter)\n"
     ]
    },
    {
     "name": "stdout",
     "output_type": "stream",
     "text": [
      "[CV] END hidden_layer_sizes=20, learning_rate_init=0.001, max_iter=2500, random_state=42, solver=lbfgs; total time=  39.3s\n"
     ]
    },
    {
     "name": "stderr",
     "output_type": "stream",
     "text": [
      "C:\\Users\\salda\\Anaconda3\\lib\\site-packages\\sklearn\\neural_network\\_multilayer_perceptron.py:500: ConvergenceWarning: lbfgs failed to converge (status=1):\n",
      "STOP: TOTAL NO. of ITERATIONS REACHED LIMIT.\n",
      "\n",
      "Increase the number of iterations (max_iter) or scale the data as shown in:\n",
      "    https://scikit-learn.org/stable/modules/preprocessing.html\n",
      "  self.n_iter_ = _check_optimize_result(\"lbfgs\", opt_res, self.max_iter)\n"
     ]
    },
    {
     "name": "stdout",
     "output_type": "stream",
     "text": [
      "[CV] END hidden_layer_sizes=20, learning_rate_init=0.001, max_iter=2500, random_state=42, solver=lbfgs; total time=  39.9s\n"
     ]
    },
    {
     "name": "stderr",
     "output_type": "stream",
     "text": [
      "C:\\Users\\salda\\Anaconda3\\lib\\site-packages\\sklearn\\neural_network\\_multilayer_perceptron.py:500: ConvergenceWarning: lbfgs failed to converge (status=1):\n",
      "STOP: TOTAL NO. of ITERATIONS REACHED LIMIT.\n",
      "\n",
      "Increase the number of iterations (max_iter) or scale the data as shown in:\n",
      "    https://scikit-learn.org/stable/modules/preprocessing.html\n",
      "  self.n_iter_ = _check_optimize_result(\"lbfgs\", opt_res, self.max_iter)\n"
     ]
    },
    {
     "name": "stdout",
     "output_type": "stream",
     "text": [
      "[CV] END hidden_layer_sizes=20, learning_rate_init=0.001, max_iter=2500, random_state=42, solver=lbfgs; total time=  40.7s\n"
     ]
    },
    {
     "name": "stderr",
     "output_type": "stream",
     "text": [
      "C:\\Users\\salda\\Anaconda3\\lib\\site-packages\\sklearn\\neural_network\\_multilayer_perceptron.py:500: ConvergenceWarning: lbfgs failed to converge (status=1):\n",
      "STOP: TOTAL NO. of ITERATIONS REACHED LIMIT.\n",
      "\n",
      "Increase the number of iterations (max_iter) or scale the data as shown in:\n",
      "    https://scikit-learn.org/stable/modules/preprocessing.html\n",
      "  self.n_iter_ = _check_optimize_result(\"lbfgs\", opt_res, self.max_iter)\n"
     ]
    },
    {
     "name": "stdout",
     "output_type": "stream",
     "text": [
      "[CV] END hidden_layer_sizes=20, learning_rate_init=0.001, max_iter=2500, random_state=42, solver=lbfgs; total time=  40.3s\n"
     ]
    },
    {
     "name": "stderr",
     "output_type": "stream",
     "text": [
      "C:\\Users\\salda\\Anaconda3\\lib\\site-packages\\sklearn\\neural_network\\_multilayer_perceptron.py:500: ConvergenceWarning: lbfgs failed to converge (status=1):\n",
      "STOP: TOTAL NO. of ITERATIONS REACHED LIMIT.\n",
      "\n",
      "Increase the number of iterations (max_iter) or scale the data as shown in:\n",
      "    https://scikit-learn.org/stable/modules/preprocessing.html\n",
      "  self.n_iter_ = _check_optimize_result(\"lbfgs\", opt_res, self.max_iter)\n"
     ]
    },
    {
     "name": "stdout",
     "output_type": "stream",
     "text": [
      "[CV] END hidden_layer_sizes=20, learning_rate_init=0.001, max_iter=2500, random_state=42, solver=lbfgs; total time=  37.2s\n",
      "[CV] END hidden_layer_sizes=20, learning_rate_init=0.001, max_iter=2500, random_state=42, solver=adam; total time=   8.4s\n",
      "[CV] END hidden_layer_sizes=20, learning_rate_init=0.001, max_iter=2500, random_state=42, solver=adam; total time=   5.8s\n",
      "[CV] END hidden_layer_sizes=20, learning_rate_init=0.001, max_iter=2500, random_state=42, solver=adam; total time=   6.2s\n",
      "[CV] END hidden_layer_sizes=20, learning_rate_init=0.001, max_iter=2500, random_state=42, solver=adam; total time=   9.0s\n",
      "[CV] END hidden_layer_sizes=20, learning_rate_init=0.001, max_iter=2500, random_state=42, solver=adam; total time=   7.6s\n"
     ]
    },
    {
     "name": "stderr",
     "output_type": "stream",
     "text": [
      "C:\\Users\\salda\\Anaconda3\\lib\\site-packages\\sklearn\\neural_network\\_multilayer_perceptron.py:500: ConvergenceWarning: lbfgs failed to converge (status=1):\n",
      "STOP: TOTAL NO. of ITERATIONS REACHED LIMIT.\n",
      "\n",
      "Increase the number of iterations (max_iter) or scale the data as shown in:\n",
      "    https://scikit-learn.org/stable/modules/preprocessing.html\n",
      "  self.n_iter_ = _check_optimize_result(\"lbfgs\", opt_res, self.max_iter)\n"
     ]
    },
    {
     "name": "stdout",
     "output_type": "stream",
     "text": [
      "[CV] END hidden_layer_sizes=20, learning_rate_init=1e-05, max_iter=2500, random_state=42, solver=lbfgs; total time=  39.0s\n"
     ]
    },
    {
     "name": "stderr",
     "output_type": "stream",
     "text": [
      "C:\\Users\\salda\\Anaconda3\\lib\\site-packages\\sklearn\\neural_network\\_multilayer_perceptron.py:500: ConvergenceWarning: lbfgs failed to converge (status=1):\n",
      "STOP: TOTAL NO. of ITERATIONS REACHED LIMIT.\n",
      "\n",
      "Increase the number of iterations (max_iter) or scale the data as shown in:\n",
      "    https://scikit-learn.org/stable/modules/preprocessing.html\n",
      "  self.n_iter_ = _check_optimize_result(\"lbfgs\", opt_res, self.max_iter)\n"
     ]
    },
    {
     "name": "stdout",
     "output_type": "stream",
     "text": [
      "[CV] END hidden_layer_sizes=20, learning_rate_init=1e-05, max_iter=2500, random_state=42, solver=lbfgs; total time=  39.3s\n"
     ]
    },
    {
     "name": "stderr",
     "output_type": "stream",
     "text": [
      "C:\\Users\\salda\\Anaconda3\\lib\\site-packages\\sklearn\\neural_network\\_multilayer_perceptron.py:500: ConvergenceWarning: lbfgs failed to converge (status=1):\n",
      "STOP: TOTAL NO. of ITERATIONS REACHED LIMIT.\n",
      "\n",
      "Increase the number of iterations (max_iter) or scale the data as shown in:\n",
      "    https://scikit-learn.org/stable/modules/preprocessing.html\n",
      "  self.n_iter_ = _check_optimize_result(\"lbfgs\", opt_res, self.max_iter)\n"
     ]
    },
    {
     "name": "stdout",
     "output_type": "stream",
     "text": [
      "[CV] END hidden_layer_sizes=20, learning_rate_init=1e-05, max_iter=2500, random_state=42, solver=lbfgs; total time=  38.7s\n"
     ]
    },
    {
     "name": "stderr",
     "output_type": "stream",
     "text": [
      "C:\\Users\\salda\\Anaconda3\\lib\\site-packages\\sklearn\\neural_network\\_multilayer_perceptron.py:500: ConvergenceWarning: lbfgs failed to converge (status=1):\n",
      "STOP: TOTAL NO. of ITERATIONS REACHED LIMIT.\n",
      "\n",
      "Increase the number of iterations (max_iter) or scale the data as shown in:\n",
      "    https://scikit-learn.org/stable/modules/preprocessing.html\n",
      "  self.n_iter_ = _check_optimize_result(\"lbfgs\", opt_res, self.max_iter)\n"
     ]
    },
    {
     "name": "stdout",
     "output_type": "stream",
     "text": [
      "[CV] END hidden_layer_sizes=20, learning_rate_init=1e-05, max_iter=2500, random_state=42, solver=lbfgs; total time=  41.5s\n"
     ]
    },
    {
     "name": "stderr",
     "output_type": "stream",
     "text": [
      "C:\\Users\\salda\\Anaconda3\\lib\\site-packages\\sklearn\\neural_network\\_multilayer_perceptron.py:500: ConvergenceWarning: lbfgs failed to converge (status=1):\n",
      "STOP: TOTAL NO. of ITERATIONS REACHED LIMIT.\n",
      "\n",
      "Increase the number of iterations (max_iter) or scale the data as shown in:\n",
      "    https://scikit-learn.org/stable/modules/preprocessing.html\n",
      "  self.n_iter_ = _check_optimize_result(\"lbfgs\", opt_res, self.max_iter)\n"
     ]
    },
    {
     "name": "stdout",
     "output_type": "stream",
     "text": [
      "[CV] END hidden_layer_sizes=20, learning_rate_init=1e-05, max_iter=2500, random_state=42, solver=lbfgs; total time=  37.0s\n",
      "[CV] END hidden_layer_sizes=20, learning_rate_init=1e-05, max_iter=2500, random_state=42, solver=adam; total time= 1.0min\n",
      "[CV] END hidden_layer_sizes=20, learning_rate_init=1e-05, max_iter=2500, random_state=42, solver=adam; total time= 1.1min\n",
      "[CV] END hidden_layer_sizes=20, learning_rate_init=1e-05, max_iter=2500, random_state=42, solver=adam; total time= 1.0min\n",
      "[CV] END hidden_layer_sizes=20, learning_rate_init=1e-05, max_iter=2500, random_state=42, solver=adam; total time= 1.1min\n",
      "[CV] END hidden_layer_sizes=20, learning_rate_init=1e-05, max_iter=2500, random_state=42, solver=adam; total time=  57.3s\n"
     ]
    },
    {
     "name": "stderr",
     "output_type": "stream",
     "text": [
      "C:\\Users\\salda\\Anaconda3\\lib\\site-packages\\sklearn\\neural_network\\_multilayer_perceptron.py:500: ConvergenceWarning: lbfgs failed to converge (status=1):\n",
      "STOP: TOTAL NO. of ITERATIONS REACHED LIMIT.\n",
      "\n",
      "Increase the number of iterations (max_iter) or scale the data as shown in:\n",
      "    https://scikit-learn.org/stable/modules/preprocessing.html\n",
      "  self.n_iter_ = _check_optimize_result(\"lbfgs\", opt_res, self.max_iter)\n"
     ]
    },
    {
     "name": "stdout",
     "output_type": "stream",
     "text": [
      "[CV] END hidden_layer_sizes=21, learning_rate_init=0.1, max_iter=2500, random_state=42, solver=lbfgs; total time=  39.1s\n"
     ]
    },
    {
     "name": "stderr",
     "output_type": "stream",
     "text": [
      "C:\\Users\\salda\\Anaconda3\\lib\\site-packages\\sklearn\\neural_network\\_multilayer_perceptron.py:500: ConvergenceWarning: lbfgs failed to converge (status=1):\n",
      "STOP: TOTAL NO. of ITERATIONS REACHED LIMIT.\n",
      "\n",
      "Increase the number of iterations (max_iter) or scale the data as shown in:\n",
      "    https://scikit-learn.org/stable/modules/preprocessing.html\n",
      "  self.n_iter_ = _check_optimize_result(\"lbfgs\", opt_res, self.max_iter)\n"
     ]
    },
    {
     "name": "stdout",
     "output_type": "stream",
     "text": [
      "[CV] END hidden_layer_sizes=21, learning_rate_init=0.1, max_iter=2500, random_state=42, solver=lbfgs; total time=  39.5s\n"
     ]
    },
    {
     "name": "stderr",
     "output_type": "stream",
     "text": [
      "C:\\Users\\salda\\Anaconda3\\lib\\site-packages\\sklearn\\neural_network\\_multilayer_perceptron.py:500: ConvergenceWarning: lbfgs failed to converge (status=1):\n",
      "STOP: TOTAL NO. of ITERATIONS REACHED LIMIT.\n",
      "\n",
      "Increase the number of iterations (max_iter) or scale the data as shown in:\n",
      "    https://scikit-learn.org/stable/modules/preprocessing.html\n",
      "  self.n_iter_ = _check_optimize_result(\"lbfgs\", opt_res, self.max_iter)\n"
     ]
    },
    {
     "name": "stdout",
     "output_type": "stream",
     "text": [
      "[CV] END hidden_layer_sizes=21, learning_rate_init=0.1, max_iter=2500, random_state=42, solver=lbfgs; total time=  40.7s\n"
     ]
    },
    {
     "name": "stderr",
     "output_type": "stream",
     "text": [
      "C:\\Users\\salda\\Anaconda3\\lib\\site-packages\\sklearn\\neural_network\\_multilayer_perceptron.py:500: ConvergenceWarning: lbfgs failed to converge (status=1):\n",
      "STOP: TOTAL NO. of ITERATIONS REACHED LIMIT.\n",
      "\n",
      "Increase the number of iterations (max_iter) or scale the data as shown in:\n",
      "    https://scikit-learn.org/stable/modules/preprocessing.html\n",
      "  self.n_iter_ = _check_optimize_result(\"lbfgs\", opt_res, self.max_iter)\n"
     ]
    },
    {
     "name": "stdout",
     "output_type": "stream",
     "text": [
      "[CV] END hidden_layer_sizes=21, learning_rate_init=0.1, max_iter=2500, random_state=42, solver=lbfgs; total time=  39.3s\n"
     ]
    },
    {
     "name": "stderr",
     "output_type": "stream",
     "text": [
      "C:\\Users\\salda\\Anaconda3\\lib\\site-packages\\sklearn\\neural_network\\_multilayer_perceptron.py:500: ConvergenceWarning: lbfgs failed to converge (status=1):\n",
      "STOP: TOTAL NO. of ITERATIONS REACHED LIMIT.\n",
      "\n",
      "Increase the number of iterations (max_iter) or scale the data as shown in:\n",
      "    https://scikit-learn.org/stable/modules/preprocessing.html\n",
      "  self.n_iter_ = _check_optimize_result(\"lbfgs\", opt_res, self.max_iter)\n"
     ]
    },
    {
     "name": "stdout",
     "output_type": "stream",
     "text": [
      "[CV] END hidden_layer_sizes=21, learning_rate_init=0.1, max_iter=2500, random_state=42, solver=lbfgs; total time=  39.9s\n",
      "[CV] END hidden_layer_sizes=21, learning_rate_init=0.1, max_iter=2500, random_state=42, solver=adam; total time=   2.0s\n",
      "[CV] END hidden_layer_sizes=21, learning_rate_init=0.1, max_iter=2500, random_state=42, solver=adam; total time=   2.3s\n",
      "[CV] END hidden_layer_sizes=21, learning_rate_init=0.1, max_iter=2500, random_state=42, solver=adam; total time=   1.9s\n",
      "[CV] END hidden_layer_sizes=21, learning_rate_init=0.1, max_iter=2500, random_state=42, solver=adam; total time=   1.2s\n",
      "[CV] END hidden_layer_sizes=21, learning_rate_init=0.1, max_iter=2500, random_state=42, solver=adam; total time=   2.8s\n"
     ]
    },
    {
     "name": "stderr",
     "output_type": "stream",
     "text": [
      "C:\\Users\\salda\\Anaconda3\\lib\\site-packages\\sklearn\\neural_network\\_multilayer_perceptron.py:500: ConvergenceWarning: lbfgs failed to converge (status=1):\n",
      "STOP: TOTAL NO. of ITERATIONS REACHED LIMIT.\n",
      "\n",
      "Increase the number of iterations (max_iter) or scale the data as shown in:\n",
      "    https://scikit-learn.org/stable/modules/preprocessing.html\n",
      "  self.n_iter_ = _check_optimize_result(\"lbfgs\", opt_res, self.max_iter)\n"
     ]
    },
    {
     "name": "stdout",
     "output_type": "stream",
     "text": [
      "[CV] END hidden_layer_sizes=21, learning_rate_init=0.001, max_iter=2500, random_state=42, solver=lbfgs; total time=  41.4s\n"
     ]
    },
    {
     "name": "stderr",
     "output_type": "stream",
     "text": [
      "C:\\Users\\salda\\Anaconda3\\lib\\site-packages\\sklearn\\neural_network\\_multilayer_perceptron.py:500: ConvergenceWarning: lbfgs failed to converge (status=1):\n",
      "STOP: TOTAL NO. of ITERATIONS REACHED LIMIT.\n",
      "\n",
      "Increase the number of iterations (max_iter) or scale the data as shown in:\n",
      "    https://scikit-learn.org/stable/modules/preprocessing.html\n",
      "  self.n_iter_ = _check_optimize_result(\"lbfgs\", opt_res, self.max_iter)\n"
     ]
    },
    {
     "name": "stdout",
     "output_type": "stream",
     "text": [
      "[CV] END hidden_layer_sizes=21, learning_rate_init=0.001, max_iter=2500, random_state=42, solver=lbfgs; total time=  39.6s\n"
     ]
    },
    {
     "name": "stderr",
     "output_type": "stream",
     "text": [
      "C:\\Users\\salda\\Anaconda3\\lib\\site-packages\\sklearn\\neural_network\\_multilayer_perceptron.py:500: ConvergenceWarning: lbfgs failed to converge (status=1):\n",
      "STOP: TOTAL NO. of ITERATIONS REACHED LIMIT.\n",
      "\n",
      "Increase the number of iterations (max_iter) or scale the data as shown in:\n",
      "    https://scikit-learn.org/stable/modules/preprocessing.html\n",
      "  self.n_iter_ = _check_optimize_result(\"lbfgs\", opt_res, self.max_iter)\n"
     ]
    },
    {
     "name": "stdout",
     "output_type": "stream",
     "text": [
      "[CV] END hidden_layer_sizes=21, learning_rate_init=0.001, max_iter=2500, random_state=42, solver=lbfgs; total time=  39.7s\n"
     ]
    },
    {
     "name": "stderr",
     "output_type": "stream",
     "text": [
      "C:\\Users\\salda\\Anaconda3\\lib\\site-packages\\sklearn\\neural_network\\_multilayer_perceptron.py:500: ConvergenceWarning: lbfgs failed to converge (status=1):\n",
      "STOP: TOTAL NO. of ITERATIONS REACHED LIMIT.\n",
      "\n",
      "Increase the number of iterations (max_iter) or scale the data as shown in:\n",
      "    https://scikit-learn.org/stable/modules/preprocessing.html\n",
      "  self.n_iter_ = _check_optimize_result(\"lbfgs\", opt_res, self.max_iter)\n"
     ]
    },
    {
     "name": "stdout",
     "output_type": "stream",
     "text": [
      "[CV] END hidden_layer_sizes=21, learning_rate_init=0.001, max_iter=2500, random_state=42, solver=lbfgs; total time=  41.2s\n"
     ]
    },
    {
     "name": "stderr",
     "output_type": "stream",
     "text": [
      "C:\\Users\\salda\\Anaconda3\\lib\\site-packages\\sklearn\\neural_network\\_multilayer_perceptron.py:500: ConvergenceWarning: lbfgs failed to converge (status=1):\n",
      "STOP: TOTAL NO. of ITERATIONS REACHED LIMIT.\n",
      "\n",
      "Increase the number of iterations (max_iter) or scale the data as shown in:\n",
      "    https://scikit-learn.org/stable/modules/preprocessing.html\n",
      "  self.n_iter_ = _check_optimize_result(\"lbfgs\", opt_res, self.max_iter)\n"
     ]
    },
    {
     "name": "stdout",
     "output_type": "stream",
     "text": [
      "[CV] END hidden_layer_sizes=21, learning_rate_init=0.001, max_iter=2500, random_state=42, solver=lbfgs; total time=  39.8s\n",
      "[CV] END hidden_layer_sizes=21, learning_rate_init=0.001, max_iter=2500, random_state=42, solver=adam; total time=  15.2s\n",
      "[CV] END hidden_layer_sizes=21, learning_rate_init=0.001, max_iter=2500, random_state=42, solver=adam; total time=  14.5s\n",
      "[CV] END hidden_layer_sizes=21, learning_rate_init=0.001, max_iter=2500, random_state=42, solver=adam; total time=  17.5s\n",
      "[CV] END hidden_layer_sizes=21, learning_rate_init=0.001, max_iter=2500, random_state=42, solver=adam; total time=   7.3s\n",
      "[CV] END hidden_layer_sizes=21, learning_rate_init=0.001, max_iter=2500, random_state=42, solver=adam; total time=  19.5s\n"
     ]
    },
    {
     "name": "stderr",
     "output_type": "stream",
     "text": [
      "C:\\Users\\salda\\Anaconda3\\lib\\site-packages\\sklearn\\neural_network\\_multilayer_perceptron.py:500: ConvergenceWarning: lbfgs failed to converge (status=1):\n",
      "STOP: TOTAL NO. of ITERATIONS REACHED LIMIT.\n",
      "\n",
      "Increase the number of iterations (max_iter) or scale the data as shown in:\n",
      "    https://scikit-learn.org/stable/modules/preprocessing.html\n",
      "  self.n_iter_ = _check_optimize_result(\"lbfgs\", opt_res, self.max_iter)\n"
     ]
    },
    {
     "name": "stdout",
     "output_type": "stream",
     "text": [
      "[CV] END hidden_layer_sizes=21, learning_rate_init=1e-05, max_iter=2500, random_state=42, solver=lbfgs; total time=  38.9s\n"
     ]
    },
    {
     "name": "stderr",
     "output_type": "stream",
     "text": [
      "C:\\Users\\salda\\Anaconda3\\lib\\site-packages\\sklearn\\neural_network\\_multilayer_perceptron.py:500: ConvergenceWarning: lbfgs failed to converge (status=1):\n",
      "STOP: TOTAL NO. of ITERATIONS REACHED LIMIT.\n",
      "\n",
      "Increase the number of iterations (max_iter) or scale the data as shown in:\n",
      "    https://scikit-learn.org/stable/modules/preprocessing.html\n",
      "  self.n_iter_ = _check_optimize_result(\"lbfgs\", opt_res, self.max_iter)\n"
     ]
    },
    {
     "name": "stdout",
     "output_type": "stream",
     "text": [
      "[CV] END hidden_layer_sizes=21, learning_rate_init=1e-05, max_iter=2500, random_state=42, solver=lbfgs; total time=  41.5s\n"
     ]
    },
    {
     "name": "stderr",
     "output_type": "stream",
     "text": [
      "C:\\Users\\salda\\Anaconda3\\lib\\site-packages\\sklearn\\neural_network\\_multilayer_perceptron.py:500: ConvergenceWarning: lbfgs failed to converge (status=1):\n",
      "STOP: TOTAL NO. of ITERATIONS REACHED LIMIT.\n",
      "\n",
      "Increase the number of iterations (max_iter) or scale the data as shown in:\n",
      "    https://scikit-learn.org/stable/modules/preprocessing.html\n",
      "  self.n_iter_ = _check_optimize_result(\"lbfgs\", opt_res, self.max_iter)\n"
     ]
    },
    {
     "name": "stdout",
     "output_type": "stream",
     "text": [
      "[CV] END hidden_layer_sizes=21, learning_rate_init=1e-05, max_iter=2500, random_state=42, solver=lbfgs; total time=  41.9s\n"
     ]
    },
    {
     "name": "stderr",
     "output_type": "stream",
     "text": [
      "C:\\Users\\salda\\Anaconda3\\lib\\site-packages\\sklearn\\neural_network\\_multilayer_perceptron.py:500: ConvergenceWarning: lbfgs failed to converge (status=1):\n",
      "STOP: TOTAL NO. of ITERATIONS REACHED LIMIT.\n",
      "\n",
      "Increase the number of iterations (max_iter) or scale the data as shown in:\n",
      "    https://scikit-learn.org/stable/modules/preprocessing.html\n",
      "  self.n_iter_ = _check_optimize_result(\"lbfgs\", opt_res, self.max_iter)\n"
     ]
    },
    {
     "name": "stdout",
     "output_type": "stream",
     "text": [
      "[CV] END hidden_layer_sizes=21, learning_rate_init=1e-05, max_iter=2500, random_state=42, solver=lbfgs; total time=  40.3s\n"
     ]
    },
    {
     "name": "stderr",
     "output_type": "stream",
     "text": [
      "C:\\Users\\salda\\Anaconda3\\lib\\site-packages\\sklearn\\neural_network\\_multilayer_perceptron.py:500: ConvergenceWarning: lbfgs failed to converge (status=1):\n",
      "STOP: TOTAL NO. of ITERATIONS REACHED LIMIT.\n",
      "\n",
      "Increase the number of iterations (max_iter) or scale the data as shown in:\n",
      "    https://scikit-learn.org/stable/modules/preprocessing.html\n",
      "  self.n_iter_ = _check_optimize_result(\"lbfgs\", opt_res, self.max_iter)\n"
     ]
    },
    {
     "name": "stdout",
     "output_type": "stream",
     "text": [
      "[CV] END hidden_layer_sizes=21, learning_rate_init=1e-05, max_iter=2500, random_state=42, solver=lbfgs; total time=  39.5s\n",
      "[CV] END hidden_layer_sizes=21, learning_rate_init=1e-05, max_iter=2500, random_state=42, solver=adam; total time= 1.5min\n",
      "[CV] END hidden_layer_sizes=21, learning_rate_init=1e-05, max_iter=2500, random_state=42, solver=adam; total time= 1.4min\n",
      "[CV] END hidden_layer_sizes=21, learning_rate_init=1e-05, max_iter=2500, random_state=42, solver=adam; total time= 1.5min\n",
      "[CV] END hidden_layer_sizes=21, learning_rate_init=1e-05, max_iter=2500, random_state=42, solver=adam; total time= 1.5min\n",
      "[CV] END hidden_layer_sizes=21, learning_rate_init=1e-05, max_iter=2500, random_state=42, solver=adam; total time= 1.3min\n"
     ]
    },
    {
     "name": "stderr",
     "output_type": "stream",
     "text": [
      "C:\\Users\\salda\\Anaconda3\\lib\\site-packages\\sklearn\\neural_network\\_multilayer_perceptron.py:500: ConvergenceWarning: lbfgs failed to converge (status=1):\n",
      "STOP: TOTAL NO. of ITERATIONS REACHED LIMIT.\n",
      "\n",
      "Increase the number of iterations (max_iter) or scale the data as shown in:\n",
      "    https://scikit-learn.org/stable/modules/preprocessing.html\n",
      "  self.n_iter_ = _check_optimize_result(\"lbfgs\", opt_res, self.max_iter)\n"
     ]
    },
    {
     "name": "stdout",
     "output_type": "stream",
     "text": [
      "[CV] END hidden_layer_sizes=22, learning_rate_init=0.1, max_iter=2500, random_state=42, solver=lbfgs; total time=  44.7s\n"
     ]
    },
    {
     "name": "stderr",
     "output_type": "stream",
     "text": [
      "C:\\Users\\salda\\Anaconda3\\lib\\site-packages\\sklearn\\neural_network\\_multilayer_perceptron.py:500: ConvergenceWarning: lbfgs failed to converge (status=1):\n",
      "STOP: TOTAL NO. of ITERATIONS REACHED LIMIT.\n",
      "\n",
      "Increase the number of iterations (max_iter) or scale the data as shown in:\n",
      "    https://scikit-learn.org/stable/modules/preprocessing.html\n",
      "  self.n_iter_ = _check_optimize_result(\"lbfgs\", opt_res, self.max_iter)\n"
     ]
    },
    {
     "name": "stdout",
     "output_type": "stream",
     "text": [
      "[CV] END hidden_layer_sizes=22, learning_rate_init=0.1, max_iter=2500, random_state=42, solver=lbfgs; total time=  43.2s\n"
     ]
    },
    {
     "name": "stderr",
     "output_type": "stream",
     "text": [
      "C:\\Users\\salda\\Anaconda3\\lib\\site-packages\\sklearn\\neural_network\\_multilayer_perceptron.py:500: ConvergenceWarning: lbfgs failed to converge (status=1):\n",
      "STOP: TOTAL NO. of ITERATIONS REACHED LIMIT.\n",
      "\n",
      "Increase the number of iterations (max_iter) or scale the data as shown in:\n",
      "    https://scikit-learn.org/stable/modules/preprocessing.html\n",
      "  self.n_iter_ = _check_optimize_result(\"lbfgs\", opt_res, self.max_iter)\n"
     ]
    },
    {
     "name": "stdout",
     "output_type": "stream",
     "text": [
      "[CV] END hidden_layer_sizes=22, learning_rate_init=0.1, max_iter=2500, random_state=42, solver=lbfgs; total time=  43.6s\n"
     ]
    },
    {
     "name": "stderr",
     "output_type": "stream",
     "text": [
      "C:\\Users\\salda\\Anaconda3\\lib\\site-packages\\sklearn\\neural_network\\_multilayer_perceptron.py:500: ConvergenceWarning: lbfgs failed to converge (status=1):\n",
      "STOP: TOTAL NO. of ITERATIONS REACHED LIMIT.\n",
      "\n",
      "Increase the number of iterations (max_iter) or scale the data as shown in:\n",
      "    https://scikit-learn.org/stable/modules/preprocessing.html\n",
      "  self.n_iter_ = _check_optimize_result(\"lbfgs\", opt_res, self.max_iter)\n"
     ]
    },
    {
     "name": "stdout",
     "output_type": "stream",
     "text": [
      "[CV] END hidden_layer_sizes=22, learning_rate_init=0.1, max_iter=2500, random_state=42, solver=lbfgs; total time=  42.6s\n"
     ]
    },
    {
     "name": "stderr",
     "output_type": "stream",
     "text": [
      "C:\\Users\\salda\\Anaconda3\\lib\\site-packages\\sklearn\\neural_network\\_multilayer_perceptron.py:500: ConvergenceWarning: lbfgs failed to converge (status=1):\n",
      "STOP: TOTAL NO. of ITERATIONS REACHED LIMIT.\n",
      "\n",
      "Increase the number of iterations (max_iter) or scale the data as shown in:\n",
      "    https://scikit-learn.org/stable/modules/preprocessing.html\n",
      "  self.n_iter_ = _check_optimize_result(\"lbfgs\", opt_res, self.max_iter)\n"
     ]
    },
    {
     "name": "stdout",
     "output_type": "stream",
     "text": [
      "[CV] END hidden_layer_sizes=22, learning_rate_init=0.1, max_iter=2500, random_state=42, solver=lbfgs; total time=  44.1s\n",
      "[CV] END hidden_layer_sizes=22, learning_rate_init=0.1, max_iter=2500, random_state=42, solver=adam; total time=   4.3s\n",
      "[CV] END hidden_layer_sizes=22, learning_rate_init=0.1, max_iter=2500, random_state=42, solver=adam; total time=   4.3s\n",
      "[CV] END hidden_layer_sizes=22, learning_rate_init=0.1, max_iter=2500, random_state=42, solver=adam; total time=   0.8s\n",
      "[CV] END hidden_layer_sizes=22, learning_rate_init=0.1, max_iter=2500, random_state=42, solver=adam; total time=   1.0s\n",
      "[CV] END hidden_layer_sizes=22, learning_rate_init=0.1, max_iter=2500, random_state=42, solver=adam; total time=   4.3s\n"
     ]
    },
    {
     "name": "stderr",
     "output_type": "stream",
     "text": [
      "C:\\Users\\salda\\Anaconda3\\lib\\site-packages\\sklearn\\neural_network\\_multilayer_perceptron.py:500: ConvergenceWarning: lbfgs failed to converge (status=1):\n",
      "STOP: TOTAL NO. of ITERATIONS REACHED LIMIT.\n",
      "\n",
      "Increase the number of iterations (max_iter) or scale the data as shown in:\n",
      "    https://scikit-learn.org/stable/modules/preprocessing.html\n",
      "  self.n_iter_ = _check_optimize_result(\"lbfgs\", opt_res, self.max_iter)\n"
     ]
    },
    {
     "name": "stdout",
     "output_type": "stream",
     "text": [
      "[CV] END hidden_layer_sizes=22, learning_rate_init=0.001, max_iter=2500, random_state=42, solver=lbfgs; total time=  44.4s\n"
     ]
    },
    {
     "name": "stderr",
     "output_type": "stream",
     "text": [
      "C:\\Users\\salda\\Anaconda3\\lib\\site-packages\\sklearn\\neural_network\\_multilayer_perceptron.py:500: ConvergenceWarning: lbfgs failed to converge (status=1):\n",
      "STOP: TOTAL NO. of ITERATIONS REACHED LIMIT.\n",
      "\n",
      "Increase the number of iterations (max_iter) or scale the data as shown in:\n",
      "    https://scikit-learn.org/stable/modules/preprocessing.html\n",
      "  self.n_iter_ = _check_optimize_result(\"lbfgs\", opt_res, self.max_iter)\n"
     ]
    },
    {
     "name": "stdout",
     "output_type": "stream",
     "text": [
      "[CV] END hidden_layer_sizes=22, learning_rate_init=0.001, max_iter=2500, random_state=42, solver=lbfgs; total time=  43.3s\n"
     ]
    },
    {
     "name": "stderr",
     "output_type": "stream",
     "text": [
      "C:\\Users\\salda\\Anaconda3\\lib\\site-packages\\sklearn\\neural_network\\_multilayer_perceptron.py:500: ConvergenceWarning: lbfgs failed to converge (status=1):\n",
      "STOP: TOTAL NO. of ITERATIONS REACHED LIMIT.\n",
      "\n",
      "Increase the number of iterations (max_iter) or scale the data as shown in:\n",
      "    https://scikit-learn.org/stable/modules/preprocessing.html\n",
      "  self.n_iter_ = _check_optimize_result(\"lbfgs\", opt_res, self.max_iter)\n"
     ]
    },
    {
     "name": "stdout",
     "output_type": "stream",
     "text": [
      "[CV] END hidden_layer_sizes=22, learning_rate_init=0.001, max_iter=2500, random_state=42, solver=lbfgs; total time=  43.4s\n"
     ]
    },
    {
     "name": "stderr",
     "output_type": "stream",
     "text": [
      "C:\\Users\\salda\\Anaconda3\\lib\\site-packages\\sklearn\\neural_network\\_multilayer_perceptron.py:500: ConvergenceWarning: lbfgs failed to converge (status=1):\n",
      "STOP: TOTAL NO. of ITERATIONS REACHED LIMIT.\n",
      "\n",
      "Increase the number of iterations (max_iter) or scale the data as shown in:\n",
      "    https://scikit-learn.org/stable/modules/preprocessing.html\n",
      "  self.n_iter_ = _check_optimize_result(\"lbfgs\", opt_res, self.max_iter)\n"
     ]
    },
    {
     "name": "stdout",
     "output_type": "stream",
     "text": [
      "[CV] END hidden_layer_sizes=22, learning_rate_init=0.001, max_iter=2500, random_state=42, solver=lbfgs; total time=  43.0s\n"
     ]
    },
    {
     "name": "stderr",
     "output_type": "stream",
     "text": [
      "C:\\Users\\salda\\Anaconda3\\lib\\site-packages\\sklearn\\neural_network\\_multilayer_perceptron.py:500: ConvergenceWarning: lbfgs failed to converge (status=1):\n",
      "STOP: TOTAL NO. of ITERATIONS REACHED LIMIT.\n",
      "\n",
      "Increase the number of iterations (max_iter) or scale the data as shown in:\n",
      "    https://scikit-learn.org/stable/modules/preprocessing.html\n",
      "  self.n_iter_ = _check_optimize_result(\"lbfgs\", opt_res, self.max_iter)\n"
     ]
    },
    {
     "name": "stdout",
     "output_type": "stream",
     "text": [
      "[CV] END hidden_layer_sizes=22, learning_rate_init=0.001, max_iter=2500, random_state=42, solver=lbfgs; total time=  43.8s\n",
      "[CV] END hidden_layer_sizes=22, learning_rate_init=0.001, max_iter=2500, random_state=42, solver=adam; total time=  12.1s\n",
      "[CV] END hidden_layer_sizes=22, learning_rate_init=0.001, max_iter=2500, random_state=42, solver=adam; total time=  15.6s\n",
      "[CV] END hidden_layer_sizes=22, learning_rate_init=0.001, max_iter=2500, random_state=42, solver=adam; total time=  14.1s\n",
      "[CV] END hidden_layer_sizes=22, learning_rate_init=0.001, max_iter=2500, random_state=42, solver=adam; total time=  14.1s\n",
      "[CV] END hidden_layer_sizes=22, learning_rate_init=0.001, max_iter=2500, random_state=42, solver=adam; total time=  15.8s\n"
     ]
    },
    {
     "name": "stderr",
     "output_type": "stream",
     "text": [
      "C:\\Users\\salda\\Anaconda3\\lib\\site-packages\\sklearn\\neural_network\\_multilayer_perceptron.py:500: ConvergenceWarning: lbfgs failed to converge (status=1):\n",
      "STOP: TOTAL NO. of ITERATIONS REACHED LIMIT.\n",
      "\n",
      "Increase the number of iterations (max_iter) or scale the data as shown in:\n",
      "    https://scikit-learn.org/stable/modules/preprocessing.html\n",
      "  self.n_iter_ = _check_optimize_result(\"lbfgs\", opt_res, self.max_iter)\n"
     ]
    },
    {
     "name": "stdout",
     "output_type": "stream",
     "text": [
      "[CV] END hidden_layer_sizes=22, learning_rate_init=1e-05, max_iter=2500, random_state=42, solver=lbfgs; total time=  45.4s\n"
     ]
    },
    {
     "name": "stderr",
     "output_type": "stream",
     "text": [
      "C:\\Users\\salda\\Anaconda3\\lib\\site-packages\\sklearn\\neural_network\\_multilayer_perceptron.py:500: ConvergenceWarning: lbfgs failed to converge (status=1):\n",
      "STOP: TOTAL NO. of ITERATIONS REACHED LIMIT.\n",
      "\n",
      "Increase the number of iterations (max_iter) or scale the data as shown in:\n",
      "    https://scikit-learn.org/stable/modules/preprocessing.html\n",
      "  self.n_iter_ = _check_optimize_result(\"lbfgs\", opt_res, self.max_iter)\n"
     ]
    },
    {
     "name": "stdout",
     "output_type": "stream",
     "text": [
      "[CV] END hidden_layer_sizes=22, learning_rate_init=1e-05, max_iter=2500, random_state=42, solver=lbfgs; total time=  41.6s\n"
     ]
    },
    {
     "name": "stderr",
     "output_type": "stream",
     "text": [
      "C:\\Users\\salda\\Anaconda3\\lib\\site-packages\\sklearn\\neural_network\\_multilayer_perceptron.py:500: ConvergenceWarning: lbfgs failed to converge (status=1):\n",
      "STOP: TOTAL NO. of ITERATIONS REACHED LIMIT.\n",
      "\n",
      "Increase the number of iterations (max_iter) or scale the data as shown in:\n",
      "    https://scikit-learn.org/stable/modules/preprocessing.html\n",
      "  self.n_iter_ = _check_optimize_result(\"lbfgs\", opt_res, self.max_iter)\n"
     ]
    },
    {
     "name": "stdout",
     "output_type": "stream",
     "text": [
      "[CV] END hidden_layer_sizes=22, learning_rate_init=1e-05, max_iter=2500, random_state=42, solver=lbfgs; total time=  43.3s\n"
     ]
    },
    {
     "name": "stderr",
     "output_type": "stream",
     "text": [
      "C:\\Users\\salda\\Anaconda3\\lib\\site-packages\\sklearn\\neural_network\\_multilayer_perceptron.py:500: ConvergenceWarning: lbfgs failed to converge (status=1):\n",
      "STOP: TOTAL NO. of ITERATIONS REACHED LIMIT.\n",
      "\n",
      "Increase the number of iterations (max_iter) or scale the data as shown in:\n",
      "    https://scikit-learn.org/stable/modules/preprocessing.html\n",
      "  self.n_iter_ = _check_optimize_result(\"lbfgs\", opt_res, self.max_iter)\n"
     ]
    },
    {
     "name": "stdout",
     "output_type": "stream",
     "text": [
      "[CV] END hidden_layer_sizes=22, learning_rate_init=1e-05, max_iter=2500, random_state=42, solver=lbfgs; total time=  44.3s\n"
     ]
    },
    {
     "name": "stderr",
     "output_type": "stream",
     "text": [
      "C:\\Users\\salda\\Anaconda3\\lib\\site-packages\\sklearn\\neural_network\\_multilayer_perceptron.py:500: ConvergenceWarning: lbfgs failed to converge (status=1):\n",
      "STOP: TOTAL NO. of ITERATIONS REACHED LIMIT.\n",
      "\n",
      "Increase the number of iterations (max_iter) or scale the data as shown in:\n",
      "    https://scikit-learn.org/stable/modules/preprocessing.html\n",
      "  self.n_iter_ = _check_optimize_result(\"lbfgs\", opt_res, self.max_iter)\n"
     ]
    },
    {
     "name": "stdout",
     "output_type": "stream",
     "text": [
      "[CV] END hidden_layer_sizes=22, learning_rate_init=1e-05, max_iter=2500, random_state=42, solver=lbfgs; total time=  43.4s\n",
      "[CV] END hidden_layer_sizes=22, learning_rate_init=1e-05, max_iter=2500, random_state=42, solver=adam; total time= 1.6min\n",
      "[CV] END hidden_layer_sizes=22, learning_rate_init=1e-05, max_iter=2500, random_state=42, solver=adam; total time= 1.7min\n",
      "[CV] END hidden_layer_sizes=22, learning_rate_init=1e-05, max_iter=2500, random_state=42, solver=adam; total time= 1.7min\n",
      "[CV] END hidden_layer_sizes=22, learning_rate_init=1e-05, max_iter=2500, random_state=42, solver=adam; total time= 1.6min\n",
      "[CV] END hidden_layer_sizes=22, learning_rate_init=1e-05, max_iter=2500, random_state=42, solver=adam; total time= 1.5min\n"
     ]
    },
    {
     "name": "stderr",
     "output_type": "stream",
     "text": [
      "C:\\Users\\salda\\Anaconda3\\lib\\site-packages\\sklearn\\neural_network\\_multilayer_perceptron.py:500: ConvergenceWarning: lbfgs failed to converge (status=1):\n",
      "STOP: TOTAL NO. of ITERATIONS REACHED LIMIT.\n",
      "\n",
      "Increase the number of iterations (max_iter) or scale the data as shown in:\n",
      "    https://scikit-learn.org/stable/modules/preprocessing.html\n",
      "  self.n_iter_ = _check_optimize_result(\"lbfgs\", opt_res, self.max_iter)\n"
     ]
    },
    {
     "name": "stdout",
     "output_type": "stream",
     "text": [
      "[CV] END hidden_layer_sizes=23, learning_rate_init=0.1, max_iter=2500, random_state=42, solver=lbfgs; total time=  44.9s\n"
     ]
    },
    {
     "name": "stderr",
     "output_type": "stream",
     "text": [
      "C:\\Users\\salda\\Anaconda3\\lib\\site-packages\\sklearn\\neural_network\\_multilayer_perceptron.py:500: ConvergenceWarning: lbfgs failed to converge (status=1):\n",
      "STOP: TOTAL NO. of ITERATIONS REACHED LIMIT.\n",
      "\n",
      "Increase the number of iterations (max_iter) or scale the data as shown in:\n",
      "    https://scikit-learn.org/stable/modules/preprocessing.html\n",
      "  self.n_iter_ = _check_optimize_result(\"lbfgs\", opt_res, self.max_iter)\n"
     ]
    },
    {
     "name": "stdout",
     "output_type": "stream",
     "text": [
      "[CV] END hidden_layer_sizes=23, learning_rate_init=0.1, max_iter=2500, random_state=42, solver=lbfgs; total time=  44.0s\n"
     ]
    },
    {
     "name": "stderr",
     "output_type": "stream",
     "text": [
      "C:\\Users\\salda\\Anaconda3\\lib\\site-packages\\sklearn\\neural_network\\_multilayer_perceptron.py:500: ConvergenceWarning: lbfgs failed to converge (status=1):\n",
      "STOP: TOTAL NO. of ITERATIONS REACHED LIMIT.\n",
      "\n",
      "Increase the number of iterations (max_iter) or scale the data as shown in:\n",
      "    https://scikit-learn.org/stable/modules/preprocessing.html\n",
      "  self.n_iter_ = _check_optimize_result(\"lbfgs\", opt_res, self.max_iter)\n"
     ]
    },
    {
     "name": "stdout",
     "output_type": "stream",
     "text": [
      "[CV] END hidden_layer_sizes=23, learning_rate_init=0.1, max_iter=2500, random_state=42, solver=lbfgs; total time=  43.4s\n"
     ]
    },
    {
     "name": "stderr",
     "output_type": "stream",
     "text": [
      "C:\\Users\\salda\\Anaconda3\\lib\\site-packages\\sklearn\\neural_network\\_multilayer_perceptron.py:500: ConvergenceWarning: lbfgs failed to converge (status=1):\n",
      "STOP: TOTAL NO. of ITERATIONS REACHED LIMIT.\n",
      "\n",
      "Increase the number of iterations (max_iter) or scale the data as shown in:\n",
      "    https://scikit-learn.org/stable/modules/preprocessing.html\n",
      "  self.n_iter_ = _check_optimize_result(\"lbfgs\", opt_res, self.max_iter)\n"
     ]
    },
    {
     "name": "stdout",
     "output_type": "stream",
     "text": [
      "[CV] END hidden_layer_sizes=23, learning_rate_init=0.1, max_iter=2500, random_state=42, solver=lbfgs; total time=  45.7s\n"
     ]
    },
    {
     "name": "stderr",
     "output_type": "stream",
     "text": [
      "C:\\Users\\salda\\Anaconda3\\lib\\site-packages\\sklearn\\neural_network\\_multilayer_perceptron.py:500: ConvergenceWarning: lbfgs failed to converge (status=1):\n",
      "STOP: TOTAL NO. of ITERATIONS REACHED LIMIT.\n",
      "\n",
      "Increase the number of iterations (max_iter) or scale the data as shown in:\n",
      "    https://scikit-learn.org/stable/modules/preprocessing.html\n",
      "  self.n_iter_ = _check_optimize_result(\"lbfgs\", opt_res, self.max_iter)\n"
     ]
    },
    {
     "name": "stdout",
     "output_type": "stream",
     "text": [
      "[CV] END hidden_layer_sizes=23, learning_rate_init=0.1, max_iter=2500, random_state=42, solver=lbfgs; total time=  45.5s\n",
      "[CV] END hidden_layer_sizes=23, learning_rate_init=0.1, max_iter=2500, random_state=42, solver=adam; total time=   3.0s\n",
      "[CV] END hidden_layer_sizes=23, learning_rate_init=0.1, max_iter=2500, random_state=42, solver=adam; total time=   1.2s\n",
      "[CV] END hidden_layer_sizes=23, learning_rate_init=0.1, max_iter=2500, random_state=42, solver=adam; total time=   4.6s\n",
      "[CV] END hidden_layer_sizes=23, learning_rate_init=0.1, max_iter=2500, random_state=42, solver=adam; total time=   3.9s\n",
      "[CV] END hidden_layer_sizes=23, learning_rate_init=0.1, max_iter=2500, random_state=42, solver=adam; total time=   3.2s\n"
     ]
    },
    {
     "name": "stderr",
     "output_type": "stream",
     "text": [
      "C:\\Users\\salda\\Anaconda3\\lib\\site-packages\\sklearn\\neural_network\\_multilayer_perceptron.py:500: ConvergenceWarning: lbfgs failed to converge (status=1):\n",
      "STOP: TOTAL NO. of ITERATIONS REACHED LIMIT.\n",
      "\n",
      "Increase the number of iterations (max_iter) or scale the data as shown in:\n",
      "    https://scikit-learn.org/stable/modules/preprocessing.html\n",
      "  self.n_iter_ = _check_optimize_result(\"lbfgs\", opt_res, self.max_iter)\n"
     ]
    },
    {
     "name": "stdout",
     "output_type": "stream",
     "text": [
      "[CV] END hidden_layer_sizes=23, learning_rate_init=0.001, max_iter=2500, random_state=42, solver=lbfgs; total time=  45.6s\n"
     ]
    },
    {
     "name": "stderr",
     "output_type": "stream",
     "text": [
      "C:\\Users\\salda\\Anaconda3\\lib\\site-packages\\sklearn\\neural_network\\_multilayer_perceptron.py:500: ConvergenceWarning: lbfgs failed to converge (status=1):\n",
      "STOP: TOTAL NO. of ITERATIONS REACHED LIMIT.\n",
      "\n",
      "Increase the number of iterations (max_iter) or scale the data as shown in:\n",
      "    https://scikit-learn.org/stable/modules/preprocessing.html\n",
      "  self.n_iter_ = _check_optimize_result(\"lbfgs\", opt_res, self.max_iter)\n"
     ]
    },
    {
     "name": "stdout",
     "output_type": "stream",
     "text": [
      "[CV] END hidden_layer_sizes=23, learning_rate_init=0.001, max_iter=2500, random_state=42, solver=lbfgs; total time=  43.2s\n"
     ]
    },
    {
     "name": "stderr",
     "output_type": "stream",
     "text": [
      "C:\\Users\\salda\\Anaconda3\\lib\\site-packages\\sklearn\\neural_network\\_multilayer_perceptron.py:500: ConvergenceWarning: lbfgs failed to converge (status=1):\n",
      "STOP: TOTAL NO. of ITERATIONS REACHED LIMIT.\n",
      "\n",
      "Increase the number of iterations (max_iter) or scale the data as shown in:\n",
      "    https://scikit-learn.org/stable/modules/preprocessing.html\n",
      "  self.n_iter_ = _check_optimize_result(\"lbfgs\", opt_res, self.max_iter)\n"
     ]
    },
    {
     "name": "stdout",
     "output_type": "stream",
     "text": [
      "[CV] END hidden_layer_sizes=23, learning_rate_init=0.001, max_iter=2500, random_state=42, solver=lbfgs; total time=  44.9s\n"
     ]
    },
    {
     "name": "stderr",
     "output_type": "stream",
     "text": [
      "C:\\Users\\salda\\Anaconda3\\lib\\site-packages\\sklearn\\neural_network\\_multilayer_perceptron.py:500: ConvergenceWarning: lbfgs failed to converge (status=1):\n",
      "STOP: TOTAL NO. of ITERATIONS REACHED LIMIT.\n",
      "\n",
      "Increase the number of iterations (max_iter) or scale the data as shown in:\n",
      "    https://scikit-learn.org/stable/modules/preprocessing.html\n",
      "  self.n_iter_ = _check_optimize_result(\"lbfgs\", opt_res, self.max_iter)\n"
     ]
    },
    {
     "name": "stdout",
     "output_type": "stream",
     "text": [
      "[CV] END hidden_layer_sizes=23, learning_rate_init=0.001, max_iter=2500, random_state=42, solver=lbfgs; total time=  46.2s\n"
     ]
    },
    {
     "name": "stderr",
     "output_type": "stream",
     "text": [
      "C:\\Users\\salda\\Anaconda3\\lib\\site-packages\\sklearn\\neural_network\\_multilayer_perceptron.py:500: ConvergenceWarning: lbfgs failed to converge (status=1):\n",
      "STOP: TOTAL NO. of ITERATIONS REACHED LIMIT.\n",
      "\n",
      "Increase the number of iterations (max_iter) or scale the data as shown in:\n",
      "    https://scikit-learn.org/stable/modules/preprocessing.html\n",
      "  self.n_iter_ = _check_optimize_result(\"lbfgs\", opt_res, self.max_iter)\n"
     ]
    },
    {
     "name": "stdout",
     "output_type": "stream",
     "text": [
      "[CV] END hidden_layer_sizes=23, learning_rate_init=0.001, max_iter=2500, random_state=42, solver=lbfgs; total time=  43.6s\n",
      "[CV] END hidden_layer_sizes=23, learning_rate_init=0.001, max_iter=2500, random_state=42, solver=adam; total time=  13.7s\n",
      "[CV] END hidden_layer_sizes=23, learning_rate_init=0.001, max_iter=2500, random_state=42, solver=adam; total time=  14.1s\n",
      "[CV] END hidden_layer_sizes=23, learning_rate_init=0.001, max_iter=2500, random_state=42, solver=adam; total time=  17.4s\n",
      "[CV] END hidden_layer_sizes=23, learning_rate_init=0.001, max_iter=2500, random_state=42, solver=adam; total time=  22.4s\n",
      "[CV] END hidden_layer_sizes=23, learning_rate_init=0.001, max_iter=2500, random_state=42, solver=adam; total time=  17.0s\n"
     ]
    },
    {
     "name": "stderr",
     "output_type": "stream",
     "text": [
      "C:\\Users\\salda\\Anaconda3\\lib\\site-packages\\sklearn\\neural_network\\_multilayer_perceptron.py:500: ConvergenceWarning: lbfgs failed to converge (status=1):\n",
      "STOP: TOTAL NO. of ITERATIONS REACHED LIMIT.\n",
      "\n",
      "Increase the number of iterations (max_iter) or scale the data as shown in:\n",
      "    https://scikit-learn.org/stable/modules/preprocessing.html\n",
      "  self.n_iter_ = _check_optimize_result(\"lbfgs\", opt_res, self.max_iter)\n"
     ]
    },
    {
     "name": "stdout",
     "output_type": "stream",
     "text": [
      "[CV] END hidden_layer_sizes=23, learning_rate_init=1e-05, max_iter=2500, random_state=42, solver=lbfgs; total time=  44.4s\n"
     ]
    },
    {
     "name": "stderr",
     "output_type": "stream",
     "text": [
      "C:\\Users\\salda\\Anaconda3\\lib\\site-packages\\sklearn\\neural_network\\_multilayer_perceptron.py:500: ConvergenceWarning: lbfgs failed to converge (status=1):\n",
      "STOP: TOTAL NO. of ITERATIONS REACHED LIMIT.\n",
      "\n",
      "Increase the number of iterations (max_iter) or scale the data as shown in:\n",
      "    https://scikit-learn.org/stable/modules/preprocessing.html\n",
      "  self.n_iter_ = _check_optimize_result(\"lbfgs\", opt_res, self.max_iter)\n"
     ]
    },
    {
     "name": "stdout",
     "output_type": "stream",
     "text": [
      "[CV] END hidden_layer_sizes=23, learning_rate_init=1e-05, max_iter=2500, random_state=42, solver=lbfgs; total time=  44.1s\n"
     ]
    },
    {
     "name": "stderr",
     "output_type": "stream",
     "text": [
      "C:\\Users\\salda\\Anaconda3\\lib\\site-packages\\sklearn\\neural_network\\_multilayer_perceptron.py:500: ConvergenceWarning: lbfgs failed to converge (status=1):\n",
      "STOP: TOTAL NO. of ITERATIONS REACHED LIMIT.\n",
      "\n",
      "Increase the number of iterations (max_iter) or scale the data as shown in:\n",
      "    https://scikit-learn.org/stable/modules/preprocessing.html\n",
      "  self.n_iter_ = _check_optimize_result(\"lbfgs\", opt_res, self.max_iter)\n"
     ]
    },
    {
     "name": "stdout",
     "output_type": "stream",
     "text": [
      "[CV] END hidden_layer_sizes=23, learning_rate_init=1e-05, max_iter=2500, random_state=42, solver=lbfgs; total time=  44.8s\n"
     ]
    },
    {
     "name": "stderr",
     "output_type": "stream",
     "text": [
      "C:\\Users\\salda\\Anaconda3\\lib\\site-packages\\sklearn\\neural_network\\_multilayer_perceptron.py:500: ConvergenceWarning: lbfgs failed to converge (status=1):\n",
      "STOP: TOTAL NO. of ITERATIONS REACHED LIMIT.\n",
      "\n",
      "Increase the number of iterations (max_iter) or scale the data as shown in:\n",
      "    https://scikit-learn.org/stable/modules/preprocessing.html\n",
      "  self.n_iter_ = _check_optimize_result(\"lbfgs\", opt_res, self.max_iter)\n"
     ]
    },
    {
     "name": "stdout",
     "output_type": "stream",
     "text": [
      "[CV] END hidden_layer_sizes=23, learning_rate_init=1e-05, max_iter=2500, random_state=42, solver=lbfgs; total time=  45.4s\n"
     ]
    },
    {
     "name": "stderr",
     "output_type": "stream",
     "text": [
      "C:\\Users\\salda\\Anaconda3\\lib\\site-packages\\sklearn\\neural_network\\_multilayer_perceptron.py:500: ConvergenceWarning: lbfgs failed to converge (status=1):\n",
      "STOP: TOTAL NO. of ITERATIONS REACHED LIMIT.\n",
      "\n",
      "Increase the number of iterations (max_iter) or scale the data as shown in:\n",
      "    https://scikit-learn.org/stable/modules/preprocessing.html\n",
      "  self.n_iter_ = _check_optimize_result(\"lbfgs\", opt_res, self.max_iter)\n"
     ]
    },
    {
     "name": "stdout",
     "output_type": "stream",
     "text": [
      "[CV] END hidden_layer_sizes=23, learning_rate_init=1e-05, max_iter=2500, random_state=42, solver=lbfgs; total time=  44.3s\n",
      "[CV] END hidden_layer_sizes=23, learning_rate_init=1e-05, max_iter=2500, random_state=42, solver=adam; total time= 1.5min\n",
      "[CV] END hidden_layer_sizes=23, learning_rate_init=1e-05, max_iter=2500, random_state=42, solver=adam; total time= 1.6min\n",
      "[CV] END hidden_layer_sizes=23, learning_rate_init=1e-05, max_iter=2500, random_state=42, solver=adam; total time= 1.8min\n",
      "[CV] END hidden_layer_sizes=23, learning_rate_init=1e-05, max_iter=2500, random_state=42, solver=adam; total time= 1.7min\n",
      "[CV] END hidden_layer_sizes=23, learning_rate_init=1e-05, max_iter=2500, random_state=42, solver=adam; total time= 1.6min\n",
      "[CV] END hidden_layer_sizes=24, learning_rate_init=0.1, max_iter=2500, random_state=42, solver=lbfgs; total time=  32.6s\n"
     ]
    },
    {
     "name": "stderr",
     "output_type": "stream",
     "text": [
      "C:\\Users\\salda\\Anaconda3\\lib\\site-packages\\sklearn\\neural_network\\_multilayer_perceptron.py:500: ConvergenceWarning: lbfgs failed to converge (status=1):\n",
      "STOP: TOTAL NO. of ITERATIONS REACHED LIMIT.\n",
      "\n",
      "Increase the number of iterations (max_iter) or scale the data as shown in:\n",
      "    https://scikit-learn.org/stable/modules/preprocessing.html\n",
      "  self.n_iter_ = _check_optimize_result(\"lbfgs\", opt_res, self.max_iter)\n"
     ]
    },
    {
     "name": "stdout",
     "output_type": "stream",
     "text": [
      "[CV] END hidden_layer_sizes=24, learning_rate_init=0.1, max_iter=2500, random_state=42, solver=lbfgs; total time=  45.8s\n"
     ]
    },
    {
     "name": "stderr",
     "output_type": "stream",
     "text": [
      "C:\\Users\\salda\\Anaconda3\\lib\\site-packages\\sklearn\\neural_network\\_multilayer_perceptron.py:500: ConvergenceWarning: lbfgs failed to converge (status=1):\n",
      "STOP: TOTAL NO. of ITERATIONS REACHED LIMIT.\n",
      "\n",
      "Increase the number of iterations (max_iter) or scale the data as shown in:\n",
      "    https://scikit-learn.org/stable/modules/preprocessing.html\n",
      "  self.n_iter_ = _check_optimize_result(\"lbfgs\", opt_res, self.max_iter)\n"
     ]
    },
    {
     "name": "stdout",
     "output_type": "stream",
     "text": [
      "[CV] END hidden_layer_sizes=24, learning_rate_init=0.1, max_iter=2500, random_state=42, solver=lbfgs; total time=  48.6s\n"
     ]
    },
    {
     "name": "stderr",
     "output_type": "stream",
     "text": [
      "C:\\Users\\salda\\Anaconda3\\lib\\site-packages\\sklearn\\neural_network\\_multilayer_perceptron.py:500: ConvergenceWarning: lbfgs failed to converge (status=1):\n",
      "STOP: TOTAL NO. of ITERATIONS REACHED LIMIT.\n",
      "\n",
      "Increase the number of iterations (max_iter) or scale the data as shown in:\n",
      "    https://scikit-learn.org/stable/modules/preprocessing.html\n",
      "  self.n_iter_ = _check_optimize_result(\"lbfgs\", opt_res, self.max_iter)\n"
     ]
    },
    {
     "name": "stdout",
     "output_type": "stream",
     "text": [
      "[CV] END hidden_layer_sizes=24, learning_rate_init=0.1, max_iter=2500, random_state=42, solver=lbfgs; total time=  44.6s\n"
     ]
    },
    {
     "name": "stderr",
     "output_type": "stream",
     "text": [
      "C:\\Users\\salda\\Anaconda3\\lib\\site-packages\\sklearn\\neural_network\\_multilayer_perceptron.py:500: ConvergenceWarning: lbfgs failed to converge (status=1):\n",
      "STOP: TOTAL NO. of ITERATIONS REACHED LIMIT.\n",
      "\n",
      "Increase the number of iterations (max_iter) or scale the data as shown in:\n",
      "    https://scikit-learn.org/stable/modules/preprocessing.html\n",
      "  self.n_iter_ = _check_optimize_result(\"lbfgs\", opt_res, self.max_iter)\n"
     ]
    },
    {
     "name": "stdout",
     "output_type": "stream",
     "text": [
      "[CV] END hidden_layer_sizes=24, learning_rate_init=0.1, max_iter=2500, random_state=42, solver=lbfgs; total time=  47.1s\n",
      "[CV] END hidden_layer_sizes=24, learning_rate_init=0.1, max_iter=2500, random_state=42, solver=adam; total time=   2.6s\n",
      "[CV] END hidden_layer_sizes=24, learning_rate_init=0.1, max_iter=2500, random_state=42, solver=adam; total time=   2.6s\n",
      "[CV] END hidden_layer_sizes=24, learning_rate_init=0.1, max_iter=2500, random_state=42, solver=adam; total time=   4.5s\n",
      "[CV] END hidden_layer_sizes=24, learning_rate_init=0.1, max_iter=2500, random_state=42, solver=adam; total time=   2.9s\n",
      "[CV] END hidden_layer_sizes=24, learning_rate_init=0.1, max_iter=2500, random_state=42, solver=adam; total time=   3.6s\n",
      "[CV] END hidden_layer_sizes=24, learning_rate_init=0.001, max_iter=2500, random_state=42, solver=lbfgs; total time=  32.4s\n"
     ]
    },
    {
     "name": "stderr",
     "output_type": "stream",
     "text": [
      "C:\\Users\\salda\\Anaconda3\\lib\\site-packages\\sklearn\\neural_network\\_multilayer_perceptron.py:500: ConvergenceWarning: lbfgs failed to converge (status=1):\n",
      "STOP: TOTAL NO. of ITERATIONS REACHED LIMIT.\n",
      "\n",
      "Increase the number of iterations (max_iter) or scale the data as shown in:\n",
      "    https://scikit-learn.org/stable/modules/preprocessing.html\n",
      "  self.n_iter_ = _check_optimize_result(\"lbfgs\", opt_res, self.max_iter)\n"
     ]
    },
    {
     "name": "stdout",
     "output_type": "stream",
     "text": [
      "[CV] END hidden_layer_sizes=24, learning_rate_init=0.001, max_iter=2500, random_state=42, solver=lbfgs; total time=  47.3s\n"
     ]
    },
    {
     "name": "stderr",
     "output_type": "stream",
     "text": [
      "C:\\Users\\salda\\Anaconda3\\lib\\site-packages\\sklearn\\neural_network\\_multilayer_perceptron.py:500: ConvergenceWarning: lbfgs failed to converge (status=1):\n",
      "STOP: TOTAL NO. of ITERATIONS REACHED LIMIT.\n",
      "\n",
      "Increase the number of iterations (max_iter) or scale the data as shown in:\n",
      "    https://scikit-learn.org/stable/modules/preprocessing.html\n",
      "  self.n_iter_ = _check_optimize_result(\"lbfgs\", opt_res, self.max_iter)\n"
     ]
    },
    {
     "name": "stdout",
     "output_type": "stream",
     "text": [
      "[CV] END hidden_layer_sizes=24, learning_rate_init=0.001, max_iter=2500, random_state=42, solver=lbfgs; total time=  50.5s\n"
     ]
    },
    {
     "name": "stderr",
     "output_type": "stream",
     "text": [
      "C:\\Users\\salda\\Anaconda3\\lib\\site-packages\\sklearn\\neural_network\\_multilayer_perceptron.py:500: ConvergenceWarning: lbfgs failed to converge (status=1):\n",
      "STOP: TOTAL NO. of ITERATIONS REACHED LIMIT.\n",
      "\n",
      "Increase the number of iterations (max_iter) or scale the data as shown in:\n",
      "    https://scikit-learn.org/stable/modules/preprocessing.html\n",
      "  self.n_iter_ = _check_optimize_result(\"lbfgs\", opt_res, self.max_iter)\n"
     ]
    },
    {
     "name": "stdout",
     "output_type": "stream",
     "text": [
      "[CV] END hidden_layer_sizes=24, learning_rate_init=0.001, max_iter=2500, random_state=42, solver=lbfgs; total time=  45.7s\n"
     ]
    },
    {
     "name": "stderr",
     "output_type": "stream",
     "text": [
      "C:\\Users\\salda\\Anaconda3\\lib\\site-packages\\sklearn\\neural_network\\_multilayer_perceptron.py:500: ConvergenceWarning: lbfgs failed to converge (status=1):\n",
      "STOP: TOTAL NO. of ITERATIONS REACHED LIMIT.\n",
      "\n",
      "Increase the number of iterations (max_iter) or scale the data as shown in:\n",
      "    https://scikit-learn.org/stable/modules/preprocessing.html\n",
      "  self.n_iter_ = _check_optimize_result(\"lbfgs\", opt_res, self.max_iter)\n"
     ]
    },
    {
     "name": "stdout",
     "output_type": "stream",
     "text": [
      "[CV] END hidden_layer_sizes=24, learning_rate_init=0.001, max_iter=2500, random_state=42, solver=lbfgs; total time=  50.0s\n",
      "[CV] END hidden_layer_sizes=24, learning_rate_init=0.001, max_iter=2500, random_state=42, solver=adam; total time=   8.6s\n",
      "[CV] END hidden_layer_sizes=24, learning_rate_init=0.001, max_iter=2500, random_state=42, solver=adam; total time=  17.9s\n",
      "[CV] END hidden_layer_sizes=24, learning_rate_init=0.001, max_iter=2500, random_state=42, solver=adam; total time=  19.0s\n",
      "[CV] END hidden_layer_sizes=24, learning_rate_init=0.001, max_iter=2500, random_state=42, solver=adam; total time=  18.8s\n",
      "[CV] END hidden_layer_sizes=24, learning_rate_init=0.001, max_iter=2500, random_state=42, solver=adam; total time=  23.4s\n",
      "[CV] END hidden_layer_sizes=24, learning_rate_init=1e-05, max_iter=2500, random_state=42, solver=lbfgs; total time=  34.7s\n"
     ]
    },
    {
     "name": "stderr",
     "output_type": "stream",
     "text": [
      "C:\\Users\\salda\\Anaconda3\\lib\\site-packages\\sklearn\\neural_network\\_multilayer_perceptron.py:500: ConvergenceWarning: lbfgs failed to converge (status=1):\n",
      "STOP: TOTAL NO. of ITERATIONS REACHED LIMIT.\n",
      "\n",
      "Increase the number of iterations (max_iter) or scale the data as shown in:\n",
      "    https://scikit-learn.org/stable/modules/preprocessing.html\n",
      "  self.n_iter_ = _check_optimize_result(\"lbfgs\", opt_res, self.max_iter)\n"
     ]
    },
    {
     "name": "stdout",
     "output_type": "stream",
     "text": [
      "[CV] END hidden_layer_sizes=24, learning_rate_init=1e-05, max_iter=2500, random_state=42, solver=lbfgs; total time=  47.4s\n"
     ]
    },
    {
     "name": "stderr",
     "output_type": "stream",
     "text": [
      "C:\\Users\\salda\\Anaconda3\\lib\\site-packages\\sklearn\\neural_network\\_multilayer_perceptron.py:500: ConvergenceWarning: lbfgs failed to converge (status=1):\n",
      "STOP: TOTAL NO. of ITERATIONS REACHED LIMIT.\n",
      "\n",
      "Increase the number of iterations (max_iter) or scale the data as shown in:\n",
      "    https://scikit-learn.org/stable/modules/preprocessing.html\n",
      "  self.n_iter_ = _check_optimize_result(\"lbfgs\", opt_res, self.max_iter)\n"
     ]
    },
    {
     "name": "stdout",
     "output_type": "stream",
     "text": [
      "[CV] END hidden_layer_sizes=24, learning_rate_init=1e-05, max_iter=2500, random_state=42, solver=lbfgs; total time=  47.4s\n"
     ]
    },
    {
     "name": "stderr",
     "output_type": "stream",
     "text": [
      "C:\\Users\\salda\\Anaconda3\\lib\\site-packages\\sklearn\\neural_network\\_multilayer_perceptron.py:500: ConvergenceWarning: lbfgs failed to converge (status=1):\n",
      "STOP: TOTAL NO. of ITERATIONS REACHED LIMIT.\n",
      "\n",
      "Increase the number of iterations (max_iter) or scale the data as shown in:\n",
      "    https://scikit-learn.org/stable/modules/preprocessing.html\n",
      "  self.n_iter_ = _check_optimize_result(\"lbfgs\", opt_res, self.max_iter)\n"
     ]
    },
    {
     "name": "stdout",
     "output_type": "stream",
     "text": [
      "[CV] END hidden_layer_sizes=24, learning_rate_init=1e-05, max_iter=2500, random_state=42, solver=lbfgs; total time=  46.2s\n"
     ]
    },
    {
     "name": "stderr",
     "output_type": "stream",
     "text": [
      "C:\\Users\\salda\\Anaconda3\\lib\\site-packages\\sklearn\\neural_network\\_multilayer_perceptron.py:500: ConvergenceWarning: lbfgs failed to converge (status=1):\n",
      "STOP: TOTAL NO. of ITERATIONS REACHED LIMIT.\n",
      "\n",
      "Increase the number of iterations (max_iter) or scale the data as shown in:\n",
      "    https://scikit-learn.org/stable/modules/preprocessing.html\n",
      "  self.n_iter_ = _check_optimize_result(\"lbfgs\", opt_res, self.max_iter)\n"
     ]
    },
    {
     "name": "stdout",
     "output_type": "stream",
     "text": [
      "[CV] END hidden_layer_sizes=24, learning_rate_init=1e-05, max_iter=2500, random_state=42, solver=lbfgs; total time=  48.1s\n",
      "[CV] END hidden_layer_sizes=24, learning_rate_init=1e-05, max_iter=2500, random_state=42, solver=adam; total time= 1.6min\n",
      "[CV] END hidden_layer_sizes=24, learning_rate_init=1e-05, max_iter=2500, random_state=42, solver=adam; total time= 1.8min\n",
      "[CV] END hidden_layer_sizes=24, learning_rate_init=1e-05, max_iter=2500, random_state=42, solver=adam; total time= 1.6min\n",
      "[CV] END hidden_layer_sizes=24, learning_rate_init=1e-05, max_iter=2500, random_state=42, solver=adam; total time= 1.7min\n",
      "[CV] END hidden_layer_sizes=24, learning_rate_init=1e-05, max_iter=2500, random_state=42, solver=adam; total time= 1.6min\n"
     ]
    },
    {
     "name": "stderr",
     "output_type": "stream",
     "text": [
      "C:\\Users\\salda\\Anaconda3\\lib\\site-packages\\sklearn\\neural_network\\_multilayer_perceptron.py:500: ConvergenceWarning: lbfgs failed to converge (status=1):\n",
      "STOP: TOTAL NO. of ITERATIONS REACHED LIMIT.\n",
      "\n",
      "Increase the number of iterations (max_iter) or scale the data as shown in:\n",
      "    https://scikit-learn.org/stable/modules/preprocessing.html\n",
      "  self.n_iter_ = _check_optimize_result(\"lbfgs\", opt_res, self.max_iter)\n"
     ]
    },
    {
     "name": "stdout",
     "output_type": "stream",
     "text": [
      "[CV] END hidden_layer_sizes=25, learning_rate_init=0.1, max_iter=2500, random_state=42, solver=lbfgs; total time=  47.8s\n"
     ]
    },
    {
     "name": "stderr",
     "output_type": "stream",
     "text": [
      "C:\\Users\\salda\\Anaconda3\\lib\\site-packages\\sklearn\\neural_network\\_multilayer_perceptron.py:500: ConvergenceWarning: lbfgs failed to converge (status=1):\n",
      "STOP: TOTAL NO. of ITERATIONS REACHED LIMIT.\n",
      "\n",
      "Increase the number of iterations (max_iter) or scale the data as shown in:\n",
      "    https://scikit-learn.org/stable/modules/preprocessing.html\n",
      "  self.n_iter_ = _check_optimize_result(\"lbfgs\", opt_res, self.max_iter)\n"
     ]
    },
    {
     "name": "stdout",
     "output_type": "stream",
     "text": [
      "[CV] END hidden_layer_sizes=25, learning_rate_init=0.1, max_iter=2500, random_state=42, solver=lbfgs; total time=  44.9s\n"
     ]
    },
    {
     "name": "stderr",
     "output_type": "stream",
     "text": [
      "C:\\Users\\salda\\Anaconda3\\lib\\site-packages\\sklearn\\neural_network\\_multilayer_perceptron.py:500: ConvergenceWarning: lbfgs failed to converge (status=1):\n",
      "STOP: TOTAL NO. of ITERATIONS REACHED LIMIT.\n",
      "\n",
      "Increase the number of iterations (max_iter) or scale the data as shown in:\n",
      "    https://scikit-learn.org/stable/modules/preprocessing.html\n",
      "  self.n_iter_ = _check_optimize_result(\"lbfgs\", opt_res, self.max_iter)\n"
     ]
    },
    {
     "name": "stdout",
     "output_type": "stream",
     "text": [
      "[CV] END hidden_layer_sizes=25, learning_rate_init=0.1, max_iter=2500, random_state=42, solver=lbfgs; total time=  46.1s\n"
     ]
    },
    {
     "name": "stderr",
     "output_type": "stream",
     "text": [
      "C:\\Users\\salda\\Anaconda3\\lib\\site-packages\\sklearn\\neural_network\\_multilayer_perceptron.py:500: ConvergenceWarning: lbfgs failed to converge (status=1):\n",
      "STOP: TOTAL NO. of ITERATIONS REACHED LIMIT.\n",
      "\n",
      "Increase the number of iterations (max_iter) or scale the data as shown in:\n",
      "    https://scikit-learn.org/stable/modules/preprocessing.html\n",
      "  self.n_iter_ = _check_optimize_result(\"lbfgs\", opt_res, self.max_iter)\n"
     ]
    },
    {
     "name": "stdout",
     "output_type": "stream",
     "text": [
      "[CV] END hidden_layer_sizes=25, learning_rate_init=0.1, max_iter=2500, random_state=42, solver=lbfgs; total time=  46.3s\n",
      "[CV] END hidden_layer_sizes=25, learning_rate_init=0.1, max_iter=2500, random_state=42, solver=lbfgs; total time=  44.3s\n"
     ]
    },
    {
     "name": "stderr",
     "output_type": "stream",
     "text": [
      "C:\\Users\\salda\\Anaconda3\\lib\\site-packages\\sklearn\\neural_network\\_multilayer_perceptron.py:500: ConvergenceWarning: lbfgs failed to converge (status=1):\n",
      "STOP: TOTAL NO. of ITERATIONS REACHED LIMIT.\n",
      "\n",
      "Increase the number of iterations (max_iter) or scale the data as shown in:\n",
      "    https://scikit-learn.org/stable/modules/preprocessing.html\n",
      "  self.n_iter_ = _check_optimize_result(\"lbfgs\", opt_res, self.max_iter)\n"
     ]
    },
    {
     "name": "stdout",
     "output_type": "stream",
     "text": [
      "[CV] END hidden_layer_sizes=25, learning_rate_init=0.1, max_iter=2500, random_state=42, solver=adam; total time=   1.5s\n",
      "[CV] END hidden_layer_sizes=25, learning_rate_init=0.1, max_iter=2500, random_state=42, solver=adam; total time=   2.0s\n",
      "[CV] END hidden_layer_sizes=25, learning_rate_init=0.1, max_iter=2500, random_state=42, solver=adam; total time=   4.1s\n",
      "[CV] END hidden_layer_sizes=25, learning_rate_init=0.1, max_iter=2500, random_state=42, solver=adam; total time=   3.2s\n",
      "[CV] END hidden_layer_sizes=25, learning_rate_init=0.1, max_iter=2500, random_state=42, solver=adam; total time=   3.5s\n"
     ]
    },
    {
     "name": "stderr",
     "output_type": "stream",
     "text": [
      "C:\\Users\\salda\\Anaconda3\\lib\\site-packages\\sklearn\\neural_network\\_multilayer_perceptron.py:500: ConvergenceWarning: lbfgs failed to converge (status=1):\n",
      "STOP: TOTAL NO. of ITERATIONS REACHED LIMIT.\n",
      "\n",
      "Increase the number of iterations (max_iter) or scale the data as shown in:\n",
      "    https://scikit-learn.org/stable/modules/preprocessing.html\n",
      "  self.n_iter_ = _check_optimize_result(\"lbfgs\", opt_res, self.max_iter)\n"
     ]
    },
    {
     "name": "stdout",
     "output_type": "stream",
     "text": [
      "[CV] END hidden_layer_sizes=25, learning_rate_init=0.001, max_iter=2500, random_state=42, solver=lbfgs; total time=  46.7s\n"
     ]
    },
    {
     "name": "stderr",
     "output_type": "stream",
     "text": [
      "C:\\Users\\salda\\Anaconda3\\lib\\site-packages\\sklearn\\neural_network\\_multilayer_perceptron.py:500: ConvergenceWarning: lbfgs failed to converge (status=1):\n",
      "STOP: TOTAL NO. of ITERATIONS REACHED LIMIT.\n",
      "\n",
      "Increase the number of iterations (max_iter) or scale the data as shown in:\n",
      "    https://scikit-learn.org/stable/modules/preprocessing.html\n",
      "  self.n_iter_ = _check_optimize_result(\"lbfgs\", opt_res, self.max_iter)\n"
     ]
    },
    {
     "name": "stdout",
     "output_type": "stream",
     "text": [
      "[CV] END hidden_layer_sizes=25, learning_rate_init=0.001, max_iter=2500, random_state=42, solver=lbfgs; total time=  45.2s\n"
     ]
    },
    {
     "name": "stderr",
     "output_type": "stream",
     "text": [
      "C:\\Users\\salda\\Anaconda3\\lib\\site-packages\\sklearn\\neural_network\\_multilayer_perceptron.py:500: ConvergenceWarning: lbfgs failed to converge (status=1):\n",
      "STOP: TOTAL NO. of ITERATIONS REACHED LIMIT.\n",
      "\n",
      "Increase the number of iterations (max_iter) or scale the data as shown in:\n",
      "    https://scikit-learn.org/stable/modules/preprocessing.html\n",
      "  self.n_iter_ = _check_optimize_result(\"lbfgs\", opt_res, self.max_iter)\n"
     ]
    },
    {
     "name": "stdout",
     "output_type": "stream",
     "text": [
      "[CV] END hidden_layer_sizes=25, learning_rate_init=0.001, max_iter=2500, random_state=42, solver=lbfgs; total time=  47.1s\n"
     ]
    },
    {
     "name": "stderr",
     "output_type": "stream",
     "text": [
      "C:\\Users\\salda\\Anaconda3\\lib\\site-packages\\sklearn\\neural_network\\_multilayer_perceptron.py:500: ConvergenceWarning: lbfgs failed to converge (status=1):\n",
      "STOP: TOTAL NO. of ITERATIONS REACHED LIMIT.\n",
      "\n",
      "Increase the number of iterations (max_iter) or scale the data as shown in:\n",
      "    https://scikit-learn.org/stable/modules/preprocessing.html\n",
      "  self.n_iter_ = _check_optimize_result(\"lbfgs\", opt_res, self.max_iter)\n"
     ]
    },
    {
     "name": "stdout",
     "output_type": "stream",
     "text": [
      "[CV] END hidden_layer_sizes=25, learning_rate_init=0.001, max_iter=2500, random_state=42, solver=lbfgs; total time=  45.3s\n"
     ]
    },
    {
     "name": "stderr",
     "output_type": "stream",
     "text": [
      "C:\\Users\\salda\\Anaconda3\\lib\\site-packages\\sklearn\\neural_network\\_multilayer_perceptron.py:500: ConvergenceWarning: lbfgs failed to converge (status=1):\n",
      "STOP: TOTAL NO. of ITERATIONS REACHED LIMIT.\n",
      "\n",
      "Increase the number of iterations (max_iter) or scale the data as shown in:\n",
      "    https://scikit-learn.org/stable/modules/preprocessing.html\n",
      "  self.n_iter_ = _check_optimize_result(\"lbfgs\", opt_res, self.max_iter)\n"
     ]
    },
    {
     "name": "stdout",
     "output_type": "stream",
     "text": [
      "[CV] END hidden_layer_sizes=25, learning_rate_init=0.001, max_iter=2500, random_state=42, solver=lbfgs; total time=  44.6s\n",
      "[CV] END hidden_layer_sizes=25, learning_rate_init=0.001, max_iter=2500, random_state=42, solver=adam; total time=   8.1s\n",
      "[CV] END hidden_layer_sizes=25, learning_rate_init=0.001, max_iter=2500, random_state=42, solver=adam; total time=  12.1s\n",
      "[CV] END hidden_layer_sizes=25, learning_rate_init=0.001, max_iter=2500, random_state=42, solver=adam; total time=  19.4s\n",
      "[CV] END hidden_layer_sizes=25, learning_rate_init=0.001, max_iter=2500, random_state=42, solver=adam; total time=  10.4s\n",
      "[CV] END hidden_layer_sizes=25, learning_rate_init=0.001, max_iter=2500, random_state=42, solver=adam; total time=  19.3s\n"
     ]
    },
    {
     "name": "stderr",
     "output_type": "stream",
     "text": [
      "C:\\Users\\salda\\Anaconda3\\lib\\site-packages\\sklearn\\neural_network\\_multilayer_perceptron.py:500: ConvergenceWarning: lbfgs failed to converge (status=1):\n",
      "STOP: TOTAL NO. of ITERATIONS REACHED LIMIT.\n",
      "\n",
      "Increase the number of iterations (max_iter) or scale the data as shown in:\n",
      "    https://scikit-learn.org/stable/modules/preprocessing.html\n",
      "  self.n_iter_ = _check_optimize_result(\"lbfgs\", opt_res, self.max_iter)\n"
     ]
    },
    {
     "name": "stdout",
     "output_type": "stream",
     "text": [
      "[CV] END hidden_layer_sizes=25, learning_rate_init=1e-05, max_iter=2500, random_state=42, solver=lbfgs; total time=  46.1s\n"
     ]
    },
    {
     "name": "stderr",
     "output_type": "stream",
     "text": [
      "C:\\Users\\salda\\Anaconda3\\lib\\site-packages\\sklearn\\neural_network\\_multilayer_perceptron.py:500: ConvergenceWarning: lbfgs failed to converge (status=1):\n",
      "STOP: TOTAL NO. of ITERATIONS REACHED LIMIT.\n",
      "\n",
      "Increase the number of iterations (max_iter) or scale the data as shown in:\n",
      "    https://scikit-learn.org/stable/modules/preprocessing.html\n",
      "  self.n_iter_ = _check_optimize_result(\"lbfgs\", opt_res, self.max_iter)\n"
     ]
    },
    {
     "name": "stdout",
     "output_type": "stream",
     "text": [
      "[CV] END hidden_layer_sizes=25, learning_rate_init=1e-05, max_iter=2500, random_state=42, solver=lbfgs; total time=  48.2s\n"
     ]
    },
    {
     "name": "stderr",
     "output_type": "stream",
     "text": [
      "C:\\Users\\salda\\Anaconda3\\lib\\site-packages\\sklearn\\neural_network\\_multilayer_perceptron.py:500: ConvergenceWarning: lbfgs failed to converge (status=1):\n",
      "STOP: TOTAL NO. of ITERATIONS REACHED LIMIT.\n",
      "\n",
      "Increase the number of iterations (max_iter) or scale the data as shown in:\n",
      "    https://scikit-learn.org/stable/modules/preprocessing.html\n",
      "  self.n_iter_ = _check_optimize_result(\"lbfgs\", opt_res, self.max_iter)\n"
     ]
    },
    {
     "name": "stdout",
     "output_type": "stream",
     "text": [
      "[CV] END hidden_layer_sizes=25, learning_rate_init=1e-05, max_iter=2500, random_state=42, solver=lbfgs; total time=  46.7s\n"
     ]
    },
    {
     "name": "stderr",
     "output_type": "stream",
     "text": [
      "C:\\Users\\salda\\Anaconda3\\lib\\site-packages\\sklearn\\neural_network\\_multilayer_perceptron.py:500: ConvergenceWarning: lbfgs failed to converge (status=1):\n",
      "STOP: TOTAL NO. of ITERATIONS REACHED LIMIT.\n",
      "\n",
      "Increase the number of iterations (max_iter) or scale the data as shown in:\n",
      "    https://scikit-learn.org/stable/modules/preprocessing.html\n",
      "  self.n_iter_ = _check_optimize_result(\"lbfgs\", opt_res, self.max_iter)\n"
     ]
    },
    {
     "name": "stdout",
     "output_type": "stream",
     "text": [
      "[CV] END hidden_layer_sizes=25, learning_rate_init=1e-05, max_iter=2500, random_state=42, solver=lbfgs; total time=  45.6s\n"
     ]
    },
    {
     "name": "stderr",
     "output_type": "stream",
     "text": [
      "C:\\Users\\salda\\Anaconda3\\lib\\site-packages\\sklearn\\neural_network\\_multilayer_perceptron.py:500: ConvergenceWarning: lbfgs failed to converge (status=1):\n",
      "STOP: TOTAL NO. of ITERATIONS REACHED LIMIT.\n",
      "\n",
      "Increase the number of iterations (max_iter) or scale the data as shown in:\n",
      "    https://scikit-learn.org/stable/modules/preprocessing.html\n",
      "  self.n_iter_ = _check_optimize_result(\"lbfgs\", opt_res, self.max_iter)\n"
     ]
    },
    {
     "name": "stdout",
     "output_type": "stream",
     "text": [
      "[CV] END hidden_layer_sizes=25, learning_rate_init=1e-05, max_iter=2500, random_state=42, solver=lbfgs; total time=  46.3s\n",
      "[CV] END hidden_layer_sizes=25, learning_rate_init=1e-05, max_iter=2500, random_state=42, solver=adam; total time= 1.6min\n",
      "[CV] END hidden_layer_sizes=25, learning_rate_init=1e-05, max_iter=2500, random_state=42, solver=adam; total time= 1.6min\n",
      "[CV] END hidden_layer_sizes=25, learning_rate_init=1e-05, max_iter=2500, random_state=42, solver=adam; total time= 1.6min\n",
      "[CV] END hidden_layer_sizes=25, learning_rate_init=1e-05, max_iter=2500, random_state=42, solver=adam; total time= 1.6min\n",
      "[CV] END hidden_layer_sizes=25, learning_rate_init=1e-05, max_iter=2500, random_state=42, solver=adam; total time= 1.5min\n"
     ]
    },
    {
     "name": "stderr",
     "output_type": "stream",
     "text": [
      "C:\\Users\\salda\\Anaconda3\\lib\\site-packages\\sklearn\\neural_network\\_multilayer_perceptron.py:500: ConvergenceWarning: lbfgs failed to converge (status=1):\n",
      "STOP: TOTAL NO. of ITERATIONS REACHED LIMIT.\n",
      "\n",
      "Increase the number of iterations (max_iter) or scale the data as shown in:\n",
      "    https://scikit-learn.org/stable/modules/preprocessing.html\n",
      "  self.n_iter_ = _check_optimize_result(\"lbfgs\", opt_res, self.max_iter)\n"
     ]
    },
    {
     "name": "stdout",
     "output_type": "stream",
     "text": [
      "[CV] END hidden_layer_sizes=26, learning_rate_init=0.1, max_iter=2500, random_state=42, solver=lbfgs; total time=  47.9s\n"
     ]
    },
    {
     "name": "stderr",
     "output_type": "stream",
     "text": [
      "C:\\Users\\salda\\Anaconda3\\lib\\site-packages\\sklearn\\neural_network\\_multilayer_perceptron.py:500: ConvergenceWarning: lbfgs failed to converge (status=1):\n",
      "STOP: TOTAL NO. of ITERATIONS REACHED LIMIT.\n",
      "\n",
      "Increase the number of iterations (max_iter) or scale the data as shown in:\n",
      "    https://scikit-learn.org/stable/modules/preprocessing.html\n",
      "  self.n_iter_ = _check_optimize_result(\"lbfgs\", opt_res, self.max_iter)\n"
     ]
    },
    {
     "name": "stdout",
     "output_type": "stream",
     "text": [
      "[CV] END hidden_layer_sizes=26, learning_rate_init=0.1, max_iter=2500, random_state=42, solver=lbfgs; total time=  53.5s\n"
     ]
    },
    {
     "name": "stderr",
     "output_type": "stream",
     "text": [
      "C:\\Users\\salda\\Anaconda3\\lib\\site-packages\\sklearn\\neural_network\\_multilayer_perceptron.py:500: ConvergenceWarning: lbfgs failed to converge (status=1):\n",
      "STOP: TOTAL NO. of ITERATIONS REACHED LIMIT.\n",
      "\n",
      "Increase the number of iterations (max_iter) or scale the data as shown in:\n",
      "    https://scikit-learn.org/stable/modules/preprocessing.html\n",
      "  self.n_iter_ = _check_optimize_result(\"lbfgs\", opt_res, self.max_iter)\n"
     ]
    },
    {
     "name": "stdout",
     "output_type": "stream",
     "text": [
      "[CV] END hidden_layer_sizes=26, learning_rate_init=0.1, max_iter=2500, random_state=42, solver=lbfgs; total time=  47.7s\n"
     ]
    },
    {
     "name": "stderr",
     "output_type": "stream",
     "text": [
      "C:\\Users\\salda\\Anaconda3\\lib\\site-packages\\sklearn\\neural_network\\_multilayer_perceptron.py:500: ConvergenceWarning: lbfgs failed to converge (status=1):\n",
      "STOP: TOTAL NO. of ITERATIONS REACHED LIMIT.\n",
      "\n",
      "Increase the number of iterations (max_iter) or scale the data as shown in:\n",
      "    https://scikit-learn.org/stable/modules/preprocessing.html\n",
      "  self.n_iter_ = _check_optimize_result(\"lbfgs\", opt_res, self.max_iter)\n"
     ]
    },
    {
     "name": "stdout",
     "output_type": "stream",
     "text": [
      "[CV] END hidden_layer_sizes=26, learning_rate_init=0.1, max_iter=2500, random_state=42, solver=lbfgs; total time=  48.2s\n"
     ]
    },
    {
     "name": "stderr",
     "output_type": "stream",
     "text": [
      "C:\\Users\\salda\\Anaconda3\\lib\\site-packages\\sklearn\\neural_network\\_multilayer_perceptron.py:500: ConvergenceWarning: lbfgs failed to converge (status=1):\n",
      "STOP: TOTAL NO. of ITERATIONS REACHED LIMIT.\n",
      "\n",
      "Increase the number of iterations (max_iter) or scale the data as shown in:\n",
      "    https://scikit-learn.org/stable/modules/preprocessing.html\n",
      "  self.n_iter_ = _check_optimize_result(\"lbfgs\", opt_res, self.max_iter)\n"
     ]
    },
    {
     "name": "stdout",
     "output_type": "stream",
     "text": [
      "[CV] END hidden_layer_sizes=26, learning_rate_init=0.1, max_iter=2500, random_state=42, solver=lbfgs; total time=  48.1s\n",
      "[CV] END hidden_layer_sizes=26, learning_rate_init=0.1, max_iter=2500, random_state=42, solver=adam; total time=   4.0s\n",
      "[CV] END hidden_layer_sizes=26, learning_rate_init=0.1, max_iter=2500, random_state=42, solver=adam; total time=   1.5s\n",
      "[CV] END hidden_layer_sizes=26, learning_rate_init=0.1, max_iter=2500, random_state=42, solver=adam; total time=   2.5s\n",
      "[CV] END hidden_layer_sizes=26, learning_rate_init=0.1, max_iter=2500, random_state=42, solver=adam; total time=   3.3s\n",
      "[CV] END hidden_layer_sizes=26, learning_rate_init=0.1, max_iter=2500, random_state=42, solver=adam; total time=   3.9s\n"
     ]
    },
    {
     "name": "stderr",
     "output_type": "stream",
     "text": [
      "C:\\Users\\salda\\Anaconda3\\lib\\site-packages\\sklearn\\neural_network\\_multilayer_perceptron.py:500: ConvergenceWarning: lbfgs failed to converge (status=1):\n",
      "STOP: TOTAL NO. of ITERATIONS REACHED LIMIT.\n",
      "\n",
      "Increase the number of iterations (max_iter) or scale the data as shown in:\n",
      "    https://scikit-learn.org/stable/modules/preprocessing.html\n",
      "  self.n_iter_ = _check_optimize_result(\"lbfgs\", opt_res, self.max_iter)\n"
     ]
    },
    {
     "name": "stdout",
     "output_type": "stream",
     "text": [
      "[CV] END hidden_layer_sizes=26, learning_rate_init=0.001, max_iter=2500, random_state=42, solver=lbfgs; total time=  48.0s\n"
     ]
    },
    {
     "name": "stderr",
     "output_type": "stream",
     "text": [
      "C:\\Users\\salda\\Anaconda3\\lib\\site-packages\\sklearn\\neural_network\\_multilayer_perceptron.py:500: ConvergenceWarning: lbfgs failed to converge (status=1):\n",
      "STOP: TOTAL NO. of ITERATIONS REACHED LIMIT.\n",
      "\n",
      "Increase the number of iterations (max_iter) or scale the data as shown in:\n",
      "    https://scikit-learn.org/stable/modules/preprocessing.html\n",
      "  self.n_iter_ = _check_optimize_result(\"lbfgs\", opt_res, self.max_iter)\n"
     ]
    },
    {
     "name": "stdout",
     "output_type": "stream",
     "text": [
      "[CV] END hidden_layer_sizes=26, learning_rate_init=0.001, max_iter=2500, random_state=42, solver=lbfgs; total time=  50.4s\n"
     ]
    },
    {
     "name": "stderr",
     "output_type": "stream",
     "text": [
      "C:\\Users\\salda\\Anaconda3\\lib\\site-packages\\sklearn\\neural_network\\_multilayer_perceptron.py:500: ConvergenceWarning: lbfgs failed to converge (status=1):\n",
      "STOP: TOTAL NO. of ITERATIONS REACHED LIMIT.\n",
      "\n",
      "Increase the number of iterations (max_iter) or scale the data as shown in:\n",
      "    https://scikit-learn.org/stable/modules/preprocessing.html\n",
      "  self.n_iter_ = _check_optimize_result(\"lbfgs\", opt_res, self.max_iter)\n"
     ]
    },
    {
     "name": "stdout",
     "output_type": "stream",
     "text": [
      "[CV] END hidden_layer_sizes=26, learning_rate_init=0.001, max_iter=2500, random_state=42, solver=lbfgs; total time=  48.2s\n"
     ]
    },
    {
     "name": "stderr",
     "output_type": "stream",
     "text": [
      "C:\\Users\\salda\\Anaconda3\\lib\\site-packages\\sklearn\\neural_network\\_multilayer_perceptron.py:500: ConvergenceWarning: lbfgs failed to converge (status=1):\n",
      "STOP: TOTAL NO. of ITERATIONS REACHED LIMIT.\n",
      "\n",
      "Increase the number of iterations (max_iter) or scale the data as shown in:\n",
      "    https://scikit-learn.org/stable/modules/preprocessing.html\n",
      "  self.n_iter_ = _check_optimize_result(\"lbfgs\", opt_res, self.max_iter)\n"
     ]
    },
    {
     "name": "stdout",
     "output_type": "stream",
     "text": [
      "[CV] END hidden_layer_sizes=26, learning_rate_init=0.001, max_iter=2500, random_state=42, solver=lbfgs; total time=  49.8s\n"
     ]
    },
    {
     "name": "stderr",
     "output_type": "stream",
     "text": [
      "C:\\Users\\salda\\Anaconda3\\lib\\site-packages\\sklearn\\neural_network\\_multilayer_perceptron.py:500: ConvergenceWarning: lbfgs failed to converge (status=1):\n",
      "STOP: TOTAL NO. of ITERATIONS REACHED LIMIT.\n",
      "\n",
      "Increase the number of iterations (max_iter) or scale the data as shown in:\n",
      "    https://scikit-learn.org/stable/modules/preprocessing.html\n",
      "  self.n_iter_ = _check_optimize_result(\"lbfgs\", opt_res, self.max_iter)\n"
     ]
    },
    {
     "name": "stdout",
     "output_type": "stream",
     "text": [
      "[CV] END hidden_layer_sizes=26, learning_rate_init=0.001, max_iter=2500, random_state=42, solver=lbfgs; total time=  46.5s\n",
      "[CV] END hidden_layer_sizes=26, learning_rate_init=0.001, max_iter=2500, random_state=42, solver=adam; total time=  20.5s\n",
      "[CV] END hidden_layer_sizes=26, learning_rate_init=0.001, max_iter=2500, random_state=42, solver=adam; total time=  18.0s\n",
      "[CV] END hidden_layer_sizes=26, learning_rate_init=0.001, max_iter=2500, random_state=42, solver=adam; total time=  19.3s\n",
      "[CV] END hidden_layer_sizes=26, learning_rate_init=0.001, max_iter=2500, random_state=42, solver=adam; total time=  22.5s\n",
      "[CV] END hidden_layer_sizes=26, learning_rate_init=0.001, max_iter=2500, random_state=42, solver=adam; total time=  30.2s\n"
     ]
    },
    {
     "name": "stderr",
     "output_type": "stream",
     "text": [
      "C:\\Users\\salda\\Anaconda3\\lib\\site-packages\\sklearn\\neural_network\\_multilayer_perceptron.py:500: ConvergenceWarning: lbfgs failed to converge (status=1):\n",
      "STOP: TOTAL NO. of ITERATIONS REACHED LIMIT.\n",
      "\n",
      "Increase the number of iterations (max_iter) or scale the data as shown in:\n",
      "    https://scikit-learn.org/stable/modules/preprocessing.html\n",
      "  self.n_iter_ = _check_optimize_result(\"lbfgs\", opt_res, self.max_iter)\n"
     ]
    },
    {
     "name": "stdout",
     "output_type": "stream",
     "text": [
      "[CV] END hidden_layer_sizes=26, learning_rate_init=1e-05, max_iter=2500, random_state=42, solver=lbfgs; total time=  48.0s\n"
     ]
    },
    {
     "name": "stderr",
     "output_type": "stream",
     "text": [
      "C:\\Users\\salda\\Anaconda3\\lib\\site-packages\\sklearn\\neural_network\\_multilayer_perceptron.py:500: ConvergenceWarning: lbfgs failed to converge (status=1):\n",
      "STOP: TOTAL NO. of ITERATIONS REACHED LIMIT.\n",
      "\n",
      "Increase the number of iterations (max_iter) or scale the data as shown in:\n",
      "    https://scikit-learn.org/stable/modules/preprocessing.html\n",
      "  self.n_iter_ = _check_optimize_result(\"lbfgs\", opt_res, self.max_iter)\n"
     ]
    },
    {
     "name": "stdout",
     "output_type": "stream",
     "text": [
      "[CV] END hidden_layer_sizes=26, learning_rate_init=1e-05, max_iter=2500, random_state=42, solver=lbfgs; total time=  50.1s\n"
     ]
    },
    {
     "name": "stderr",
     "output_type": "stream",
     "text": [
      "C:\\Users\\salda\\Anaconda3\\lib\\site-packages\\sklearn\\neural_network\\_multilayer_perceptron.py:500: ConvergenceWarning: lbfgs failed to converge (status=1):\n",
      "STOP: TOTAL NO. of ITERATIONS REACHED LIMIT.\n",
      "\n",
      "Increase the number of iterations (max_iter) or scale the data as shown in:\n",
      "    https://scikit-learn.org/stable/modules/preprocessing.html\n",
      "  self.n_iter_ = _check_optimize_result(\"lbfgs\", opt_res, self.max_iter)\n"
     ]
    },
    {
     "name": "stdout",
     "output_type": "stream",
     "text": [
      "[CV] END hidden_layer_sizes=26, learning_rate_init=1e-05, max_iter=2500, random_state=42, solver=lbfgs; total time=  47.7s\n"
     ]
    },
    {
     "name": "stderr",
     "output_type": "stream",
     "text": [
      "C:\\Users\\salda\\Anaconda3\\lib\\site-packages\\sklearn\\neural_network\\_multilayer_perceptron.py:500: ConvergenceWarning: lbfgs failed to converge (status=1):\n",
      "STOP: TOTAL NO. of ITERATIONS REACHED LIMIT.\n",
      "\n",
      "Increase the number of iterations (max_iter) or scale the data as shown in:\n",
      "    https://scikit-learn.org/stable/modules/preprocessing.html\n",
      "  self.n_iter_ = _check_optimize_result(\"lbfgs\", opt_res, self.max_iter)\n"
     ]
    },
    {
     "name": "stdout",
     "output_type": "stream",
     "text": [
      "[CV] END hidden_layer_sizes=26, learning_rate_init=1e-05, max_iter=2500, random_state=42, solver=lbfgs; total time=  48.5s\n"
     ]
    },
    {
     "name": "stderr",
     "output_type": "stream",
     "text": [
      "C:\\Users\\salda\\Anaconda3\\lib\\site-packages\\sklearn\\neural_network\\_multilayer_perceptron.py:500: ConvergenceWarning: lbfgs failed to converge (status=1):\n",
      "STOP: TOTAL NO. of ITERATIONS REACHED LIMIT.\n",
      "\n",
      "Increase the number of iterations (max_iter) or scale the data as shown in:\n",
      "    https://scikit-learn.org/stable/modules/preprocessing.html\n",
      "  self.n_iter_ = _check_optimize_result(\"lbfgs\", opt_res, self.max_iter)\n"
     ]
    },
    {
     "name": "stdout",
     "output_type": "stream",
     "text": [
      "[CV] END hidden_layer_sizes=26, learning_rate_init=1e-05, max_iter=2500, random_state=42, solver=lbfgs; total time=  46.9s\n",
      "[CV] END hidden_layer_sizes=26, learning_rate_init=1e-05, max_iter=2500, random_state=42, solver=adam; total time= 1.6min\n",
      "[CV] END hidden_layer_sizes=26, learning_rate_init=1e-05, max_iter=2500, random_state=42, solver=adam; total time= 1.5min\n",
      "[CV] END hidden_layer_sizes=26, learning_rate_init=1e-05, max_iter=2500, random_state=42, solver=adam; total time= 1.5min\n",
      "[CV] END hidden_layer_sizes=26, learning_rate_init=1e-05, max_iter=2500, random_state=42, solver=adam; total time= 1.6min\n",
      "[CV] END hidden_layer_sizes=26, learning_rate_init=1e-05, max_iter=2500, random_state=42, solver=adam; total time= 1.6min\n"
     ]
    },
    {
     "name": "stderr",
     "output_type": "stream",
     "text": [
      "C:\\Users\\salda\\Anaconda3\\lib\\site-packages\\sklearn\\neural_network\\_multilayer_perceptron.py:500: ConvergenceWarning: lbfgs failed to converge (status=1):\n",
      "STOP: TOTAL NO. of ITERATIONS REACHED LIMIT.\n",
      "\n",
      "Increase the number of iterations (max_iter) or scale the data as shown in:\n",
      "    https://scikit-learn.org/stable/modules/preprocessing.html\n",
      "  self.n_iter_ = _check_optimize_result(\"lbfgs\", opt_res, self.max_iter)\n"
     ]
    },
    {
     "name": "stdout",
     "output_type": "stream",
     "text": [
      "[CV] END hidden_layer_sizes=27, learning_rate_init=0.1, max_iter=2500, random_state=42, solver=lbfgs; total time=  50.9s\n"
     ]
    },
    {
     "name": "stderr",
     "output_type": "stream",
     "text": [
      "C:\\Users\\salda\\Anaconda3\\lib\\site-packages\\sklearn\\neural_network\\_multilayer_perceptron.py:500: ConvergenceWarning: lbfgs failed to converge (status=1):\n",
      "STOP: TOTAL NO. of ITERATIONS REACHED LIMIT.\n",
      "\n",
      "Increase the number of iterations (max_iter) or scale the data as shown in:\n",
      "    https://scikit-learn.org/stable/modules/preprocessing.html\n",
      "  self.n_iter_ = _check_optimize_result(\"lbfgs\", opt_res, self.max_iter)\n"
     ]
    },
    {
     "name": "stdout",
     "output_type": "stream",
     "text": [
      "[CV] END hidden_layer_sizes=27, learning_rate_init=0.1, max_iter=2500, random_state=42, solver=lbfgs; total time=  53.3s\n"
     ]
    },
    {
     "name": "stderr",
     "output_type": "stream",
     "text": [
      "C:\\Users\\salda\\Anaconda3\\lib\\site-packages\\sklearn\\neural_network\\_multilayer_perceptron.py:500: ConvergenceWarning: lbfgs failed to converge (status=1):\n",
      "STOP: TOTAL NO. of ITERATIONS REACHED LIMIT.\n",
      "\n",
      "Increase the number of iterations (max_iter) or scale the data as shown in:\n",
      "    https://scikit-learn.org/stable/modules/preprocessing.html\n",
      "  self.n_iter_ = _check_optimize_result(\"lbfgs\", opt_res, self.max_iter)\n"
     ]
    },
    {
     "name": "stdout",
     "output_type": "stream",
     "text": [
      "[CV] END hidden_layer_sizes=27, learning_rate_init=0.1, max_iter=2500, random_state=42, solver=lbfgs; total time=  50.7s\n"
     ]
    },
    {
     "name": "stderr",
     "output_type": "stream",
     "text": [
      "C:\\Users\\salda\\Anaconda3\\lib\\site-packages\\sklearn\\neural_network\\_multilayer_perceptron.py:500: ConvergenceWarning: lbfgs failed to converge (status=1):\n",
      "STOP: TOTAL NO. of ITERATIONS REACHED LIMIT.\n",
      "\n",
      "Increase the number of iterations (max_iter) or scale the data as shown in:\n",
      "    https://scikit-learn.org/stable/modules/preprocessing.html\n",
      "  self.n_iter_ = _check_optimize_result(\"lbfgs\", opt_res, self.max_iter)\n"
     ]
    },
    {
     "name": "stdout",
     "output_type": "stream",
     "text": [
      "[CV] END hidden_layer_sizes=27, learning_rate_init=0.1, max_iter=2500, random_state=42, solver=lbfgs; total time=  51.3s\n"
     ]
    },
    {
     "name": "stderr",
     "output_type": "stream",
     "text": [
      "C:\\Users\\salda\\Anaconda3\\lib\\site-packages\\sklearn\\neural_network\\_multilayer_perceptron.py:500: ConvergenceWarning: lbfgs failed to converge (status=1):\n",
      "STOP: TOTAL NO. of ITERATIONS REACHED LIMIT.\n",
      "\n",
      "Increase the number of iterations (max_iter) or scale the data as shown in:\n",
      "    https://scikit-learn.org/stable/modules/preprocessing.html\n",
      "  self.n_iter_ = _check_optimize_result(\"lbfgs\", opt_res, self.max_iter)\n"
     ]
    },
    {
     "name": "stdout",
     "output_type": "stream",
     "text": [
      "[CV] END hidden_layer_sizes=27, learning_rate_init=0.1, max_iter=2500, random_state=42, solver=lbfgs; total time=  51.3s\n",
      "[CV] END hidden_layer_sizes=27, learning_rate_init=0.1, max_iter=2500, random_state=42, solver=adam; total time=   0.8s\n",
      "[CV] END hidden_layer_sizes=27, learning_rate_init=0.1, max_iter=2500, random_state=42, solver=adam; total time=   3.2s\n",
      "[CV] END hidden_layer_sizes=27, learning_rate_init=0.1, max_iter=2500, random_state=42, solver=adam; total time=   3.3s\n",
      "[CV] END hidden_layer_sizes=27, learning_rate_init=0.1, max_iter=2500, random_state=42, solver=adam; total time=   2.7s\n",
      "[CV] END hidden_layer_sizes=27, learning_rate_init=0.1, max_iter=2500, random_state=42, solver=adam; total time=   3.5s\n"
     ]
    },
    {
     "name": "stderr",
     "output_type": "stream",
     "text": [
      "C:\\Users\\salda\\Anaconda3\\lib\\site-packages\\sklearn\\neural_network\\_multilayer_perceptron.py:500: ConvergenceWarning: lbfgs failed to converge (status=1):\n",
      "STOP: TOTAL NO. of ITERATIONS REACHED LIMIT.\n",
      "\n",
      "Increase the number of iterations (max_iter) or scale the data as shown in:\n",
      "    https://scikit-learn.org/stable/modules/preprocessing.html\n",
      "  self.n_iter_ = _check_optimize_result(\"lbfgs\", opt_res, self.max_iter)\n"
     ]
    },
    {
     "name": "stdout",
     "output_type": "stream",
     "text": [
      "[CV] END hidden_layer_sizes=27, learning_rate_init=0.001, max_iter=2500, random_state=42, solver=lbfgs; total time=  51.2s\n"
     ]
    },
    {
     "name": "stderr",
     "output_type": "stream",
     "text": [
      "C:\\Users\\salda\\Anaconda3\\lib\\site-packages\\sklearn\\neural_network\\_multilayer_perceptron.py:500: ConvergenceWarning: lbfgs failed to converge (status=1):\n",
      "STOP: TOTAL NO. of ITERATIONS REACHED LIMIT.\n",
      "\n",
      "Increase the number of iterations (max_iter) or scale the data as shown in:\n",
      "    https://scikit-learn.org/stable/modules/preprocessing.html\n",
      "  self.n_iter_ = _check_optimize_result(\"lbfgs\", opt_res, self.max_iter)\n"
     ]
    },
    {
     "name": "stdout",
     "output_type": "stream",
     "text": [
      "[CV] END hidden_layer_sizes=27, learning_rate_init=0.001, max_iter=2500, random_state=42, solver=lbfgs; total time=  53.0s\n"
     ]
    },
    {
     "name": "stderr",
     "output_type": "stream",
     "text": [
      "C:\\Users\\salda\\Anaconda3\\lib\\site-packages\\sklearn\\neural_network\\_multilayer_perceptron.py:500: ConvergenceWarning: lbfgs failed to converge (status=1):\n",
      "STOP: TOTAL NO. of ITERATIONS REACHED LIMIT.\n",
      "\n",
      "Increase the number of iterations (max_iter) or scale the data as shown in:\n",
      "    https://scikit-learn.org/stable/modules/preprocessing.html\n",
      "  self.n_iter_ = _check_optimize_result(\"lbfgs\", opt_res, self.max_iter)\n"
     ]
    },
    {
     "name": "stdout",
     "output_type": "stream",
     "text": [
      "[CV] END hidden_layer_sizes=27, learning_rate_init=0.001, max_iter=2500, random_state=42, solver=lbfgs; total time=  50.2s\n"
     ]
    },
    {
     "name": "stderr",
     "output_type": "stream",
     "text": [
      "C:\\Users\\salda\\Anaconda3\\lib\\site-packages\\sklearn\\neural_network\\_multilayer_perceptron.py:500: ConvergenceWarning: lbfgs failed to converge (status=1):\n",
      "STOP: TOTAL NO. of ITERATIONS REACHED LIMIT.\n",
      "\n",
      "Increase the number of iterations (max_iter) or scale the data as shown in:\n",
      "    https://scikit-learn.org/stable/modules/preprocessing.html\n",
      "  self.n_iter_ = _check_optimize_result(\"lbfgs\", opt_res, self.max_iter)\n"
     ]
    },
    {
     "name": "stdout",
     "output_type": "stream",
     "text": [
      "[CV] END hidden_layer_sizes=27, learning_rate_init=0.001, max_iter=2500, random_state=42, solver=lbfgs; total time=  51.7s\n"
     ]
    },
    {
     "name": "stderr",
     "output_type": "stream",
     "text": [
      "C:\\Users\\salda\\Anaconda3\\lib\\site-packages\\sklearn\\neural_network\\_multilayer_perceptron.py:500: ConvergenceWarning: lbfgs failed to converge (status=1):\n",
      "STOP: TOTAL NO. of ITERATIONS REACHED LIMIT.\n",
      "\n",
      "Increase the number of iterations (max_iter) or scale the data as shown in:\n",
      "    https://scikit-learn.org/stable/modules/preprocessing.html\n",
      "  self.n_iter_ = _check_optimize_result(\"lbfgs\", opt_res, self.max_iter)\n"
     ]
    },
    {
     "name": "stdout",
     "output_type": "stream",
     "text": [
      "[CV] END hidden_layer_sizes=27, learning_rate_init=0.001, max_iter=2500, random_state=42, solver=lbfgs; total time=  51.0s\n",
      "[CV] END hidden_layer_sizes=27, learning_rate_init=0.001, max_iter=2500, random_state=42, solver=adam; total time=  20.9s\n",
      "[CV] END hidden_layer_sizes=27, learning_rate_init=0.001, max_iter=2500, random_state=42, solver=adam; total time=  23.6s\n",
      "[CV] END hidden_layer_sizes=27, learning_rate_init=0.001, max_iter=2500, random_state=42, solver=adam; total time=  21.6s\n",
      "[CV] END hidden_layer_sizes=27, learning_rate_init=0.001, max_iter=2500, random_state=42, solver=adam; total time=  17.8s\n",
      "[CV] END hidden_layer_sizes=27, learning_rate_init=0.001, max_iter=2500, random_state=42, solver=adam; total time=  16.1s\n"
     ]
    },
    {
     "name": "stderr",
     "output_type": "stream",
     "text": [
      "C:\\Users\\salda\\Anaconda3\\lib\\site-packages\\sklearn\\neural_network\\_multilayer_perceptron.py:500: ConvergenceWarning: lbfgs failed to converge (status=1):\n",
      "STOP: TOTAL NO. of ITERATIONS REACHED LIMIT.\n",
      "\n",
      "Increase the number of iterations (max_iter) or scale the data as shown in:\n",
      "    https://scikit-learn.org/stable/modules/preprocessing.html\n",
      "  self.n_iter_ = _check_optimize_result(\"lbfgs\", opt_res, self.max_iter)\n"
     ]
    },
    {
     "name": "stdout",
     "output_type": "stream",
     "text": [
      "[CV] END hidden_layer_sizes=27, learning_rate_init=1e-05, max_iter=2500, random_state=42, solver=lbfgs; total time=  50.9s\n"
     ]
    },
    {
     "name": "stderr",
     "output_type": "stream",
     "text": [
      "C:\\Users\\salda\\Anaconda3\\lib\\site-packages\\sklearn\\neural_network\\_multilayer_perceptron.py:500: ConvergenceWarning: lbfgs failed to converge (status=1):\n",
      "STOP: TOTAL NO. of ITERATIONS REACHED LIMIT.\n",
      "\n",
      "Increase the number of iterations (max_iter) or scale the data as shown in:\n",
      "    https://scikit-learn.org/stable/modules/preprocessing.html\n",
      "  self.n_iter_ = _check_optimize_result(\"lbfgs\", opt_res, self.max_iter)\n"
     ]
    },
    {
     "name": "stdout",
     "output_type": "stream",
     "text": [
      "[CV] END hidden_layer_sizes=27, learning_rate_init=1e-05, max_iter=2500, random_state=42, solver=lbfgs; total time=  53.4s\n"
     ]
    },
    {
     "name": "stderr",
     "output_type": "stream",
     "text": [
      "C:\\Users\\salda\\Anaconda3\\lib\\site-packages\\sklearn\\neural_network\\_multilayer_perceptron.py:500: ConvergenceWarning: lbfgs failed to converge (status=1):\n",
      "STOP: TOTAL NO. of ITERATIONS REACHED LIMIT.\n",
      "\n",
      "Increase the number of iterations (max_iter) or scale the data as shown in:\n",
      "    https://scikit-learn.org/stable/modules/preprocessing.html\n",
      "  self.n_iter_ = _check_optimize_result(\"lbfgs\", opt_res, self.max_iter)\n"
     ]
    },
    {
     "name": "stdout",
     "output_type": "stream",
     "text": [
      "[CV] END hidden_layer_sizes=27, learning_rate_init=1e-05, max_iter=2500, random_state=42, solver=lbfgs; total time=  50.6s\n"
     ]
    },
    {
     "name": "stderr",
     "output_type": "stream",
     "text": [
      "C:\\Users\\salda\\Anaconda3\\lib\\site-packages\\sklearn\\neural_network\\_multilayer_perceptron.py:500: ConvergenceWarning: lbfgs failed to converge (status=1):\n",
      "STOP: TOTAL NO. of ITERATIONS REACHED LIMIT.\n",
      "\n",
      "Increase the number of iterations (max_iter) or scale the data as shown in:\n",
      "    https://scikit-learn.org/stable/modules/preprocessing.html\n",
      "  self.n_iter_ = _check_optimize_result(\"lbfgs\", opt_res, self.max_iter)\n"
     ]
    },
    {
     "name": "stdout",
     "output_type": "stream",
     "text": [
      "[CV] END hidden_layer_sizes=27, learning_rate_init=1e-05, max_iter=2500, random_state=42, solver=lbfgs; total time=  51.7s\n"
     ]
    },
    {
     "name": "stderr",
     "output_type": "stream",
     "text": [
      "C:\\Users\\salda\\Anaconda3\\lib\\site-packages\\sklearn\\neural_network\\_multilayer_perceptron.py:500: ConvergenceWarning: lbfgs failed to converge (status=1):\n",
      "STOP: TOTAL NO. of ITERATIONS REACHED LIMIT.\n",
      "\n",
      "Increase the number of iterations (max_iter) or scale the data as shown in:\n",
      "    https://scikit-learn.org/stable/modules/preprocessing.html\n",
      "  self.n_iter_ = _check_optimize_result(\"lbfgs\", opt_res, self.max_iter)\n"
     ]
    },
    {
     "name": "stdout",
     "output_type": "stream",
     "text": [
      "[CV] END hidden_layer_sizes=27, learning_rate_init=1e-05, max_iter=2500, random_state=42, solver=lbfgs; total time=  51.8s\n",
      "[CV] END hidden_layer_sizes=27, learning_rate_init=1e-05, max_iter=2500, random_state=42, solver=adam; total time= 1.6min\n",
      "[CV] END hidden_layer_sizes=27, learning_rate_init=1e-05, max_iter=2500, random_state=42, solver=adam; total time= 1.7min\n",
      "[CV] END hidden_layer_sizes=27, learning_rate_init=1e-05, max_iter=2500, random_state=42, solver=adam; total time= 1.7min\n",
      "[CV] END hidden_layer_sizes=27, learning_rate_init=1e-05, max_iter=2500, random_state=42, solver=adam; total time= 1.5min\n",
      "[CV] END hidden_layer_sizes=27, learning_rate_init=1e-05, max_iter=2500, random_state=42, solver=adam; total time= 1.5min\n"
     ]
    },
    {
     "name": "stderr",
     "output_type": "stream",
     "text": [
      "C:\\Users\\salda\\Anaconda3\\lib\\site-packages\\sklearn\\neural_network\\_multilayer_perceptron.py:500: ConvergenceWarning: lbfgs failed to converge (status=1):\n",
      "STOP: TOTAL NO. of ITERATIONS REACHED LIMIT.\n",
      "\n",
      "Increase the number of iterations (max_iter) or scale the data as shown in:\n",
      "    https://scikit-learn.org/stable/modules/preprocessing.html\n",
      "  self.n_iter_ = _check_optimize_result(\"lbfgs\", opt_res, self.max_iter)\n"
     ]
    },
    {
     "name": "stdout",
     "output_type": "stream",
     "text": [
      "[CV] END hidden_layer_sizes=28, learning_rate_init=0.1, max_iter=2500, random_state=42, solver=lbfgs; total time=  51.8s\n"
     ]
    },
    {
     "name": "stderr",
     "output_type": "stream",
     "text": [
      "C:\\Users\\salda\\Anaconda3\\lib\\site-packages\\sklearn\\neural_network\\_multilayer_perceptron.py:500: ConvergenceWarning: lbfgs failed to converge (status=1):\n",
      "STOP: TOTAL NO. of ITERATIONS REACHED LIMIT.\n",
      "\n",
      "Increase the number of iterations (max_iter) or scale the data as shown in:\n",
      "    https://scikit-learn.org/stable/modules/preprocessing.html\n",
      "  self.n_iter_ = _check_optimize_result(\"lbfgs\", opt_res, self.max_iter)\n"
     ]
    },
    {
     "name": "stdout",
     "output_type": "stream",
     "text": [
      "[CV] END hidden_layer_sizes=28, learning_rate_init=0.1, max_iter=2500, random_state=42, solver=lbfgs; total time=  50.1s\n"
     ]
    },
    {
     "name": "stderr",
     "output_type": "stream",
     "text": [
      "C:\\Users\\salda\\Anaconda3\\lib\\site-packages\\sklearn\\neural_network\\_multilayer_perceptron.py:500: ConvergenceWarning: lbfgs failed to converge (status=1):\n",
      "STOP: TOTAL NO. of ITERATIONS REACHED LIMIT.\n",
      "\n",
      "Increase the number of iterations (max_iter) or scale the data as shown in:\n",
      "    https://scikit-learn.org/stable/modules/preprocessing.html\n",
      "  self.n_iter_ = _check_optimize_result(\"lbfgs\", opt_res, self.max_iter)\n"
     ]
    },
    {
     "name": "stdout",
     "output_type": "stream",
     "text": [
      "[CV] END hidden_layer_sizes=28, learning_rate_init=0.1, max_iter=2500, random_state=42, solver=lbfgs; total time=  49.9s\n"
     ]
    },
    {
     "name": "stderr",
     "output_type": "stream",
     "text": [
      "C:\\Users\\salda\\Anaconda3\\lib\\site-packages\\sklearn\\neural_network\\_multilayer_perceptron.py:500: ConvergenceWarning: lbfgs failed to converge (status=1):\n",
      "STOP: TOTAL NO. of ITERATIONS REACHED LIMIT.\n",
      "\n",
      "Increase the number of iterations (max_iter) or scale the data as shown in:\n",
      "    https://scikit-learn.org/stable/modules/preprocessing.html\n",
      "  self.n_iter_ = _check_optimize_result(\"lbfgs\", opt_res, self.max_iter)\n"
     ]
    },
    {
     "name": "stdout",
     "output_type": "stream",
     "text": [
      "[CV] END hidden_layer_sizes=28, learning_rate_init=0.1, max_iter=2500, random_state=42, solver=lbfgs; total time=  51.0s\n"
     ]
    },
    {
     "name": "stderr",
     "output_type": "stream",
     "text": [
      "C:\\Users\\salda\\Anaconda3\\lib\\site-packages\\sklearn\\neural_network\\_multilayer_perceptron.py:500: ConvergenceWarning: lbfgs failed to converge (status=1):\n",
      "STOP: TOTAL NO. of ITERATIONS REACHED LIMIT.\n",
      "\n",
      "Increase the number of iterations (max_iter) or scale the data as shown in:\n",
      "    https://scikit-learn.org/stable/modules/preprocessing.html\n",
      "  self.n_iter_ = _check_optimize_result(\"lbfgs\", opt_res, self.max_iter)\n"
     ]
    },
    {
     "name": "stdout",
     "output_type": "stream",
     "text": [
      "[CV] END hidden_layer_sizes=28, learning_rate_init=0.1, max_iter=2500, random_state=42, solver=lbfgs; total time=  51.1s\n",
      "[CV] END hidden_layer_sizes=28, learning_rate_init=0.1, max_iter=2500, random_state=42, solver=adam; total time=   2.5s\n",
      "[CV] END hidden_layer_sizes=28, learning_rate_init=0.1, max_iter=2500, random_state=42, solver=adam; total time=   2.9s\n",
      "[CV] END hidden_layer_sizes=28, learning_rate_init=0.1, max_iter=2500, random_state=42, solver=adam; total time=   1.3s\n",
      "[CV] END hidden_layer_sizes=28, learning_rate_init=0.1, max_iter=2500, random_state=42, solver=adam; total time=   3.1s\n",
      "[CV] END hidden_layer_sizes=28, learning_rate_init=0.1, max_iter=2500, random_state=42, solver=adam; total time=   4.7s\n"
     ]
    },
    {
     "name": "stderr",
     "output_type": "stream",
     "text": [
      "C:\\Users\\salda\\Anaconda3\\lib\\site-packages\\sklearn\\neural_network\\_multilayer_perceptron.py:500: ConvergenceWarning: lbfgs failed to converge (status=1):\n",
      "STOP: TOTAL NO. of ITERATIONS REACHED LIMIT.\n",
      "\n",
      "Increase the number of iterations (max_iter) or scale the data as shown in:\n",
      "    https://scikit-learn.org/stable/modules/preprocessing.html\n",
      "  self.n_iter_ = _check_optimize_result(\"lbfgs\", opt_res, self.max_iter)\n"
     ]
    },
    {
     "name": "stdout",
     "output_type": "stream",
     "text": [
      "[CV] END hidden_layer_sizes=28, learning_rate_init=0.001, max_iter=2500, random_state=42, solver=lbfgs; total time=  51.5s\n"
     ]
    },
    {
     "name": "stderr",
     "output_type": "stream",
     "text": [
      "C:\\Users\\salda\\Anaconda3\\lib\\site-packages\\sklearn\\neural_network\\_multilayer_perceptron.py:500: ConvergenceWarning: lbfgs failed to converge (status=1):\n",
      "STOP: TOTAL NO. of ITERATIONS REACHED LIMIT.\n",
      "\n",
      "Increase the number of iterations (max_iter) or scale the data as shown in:\n",
      "    https://scikit-learn.org/stable/modules/preprocessing.html\n",
      "  self.n_iter_ = _check_optimize_result(\"lbfgs\", opt_res, self.max_iter)\n"
     ]
    },
    {
     "name": "stdout",
     "output_type": "stream",
     "text": [
      "[CV] END hidden_layer_sizes=28, learning_rate_init=0.001, max_iter=2500, random_state=42, solver=lbfgs; total time=  50.0s\n"
     ]
    },
    {
     "name": "stderr",
     "output_type": "stream",
     "text": [
      "C:\\Users\\salda\\Anaconda3\\lib\\site-packages\\sklearn\\neural_network\\_multilayer_perceptron.py:500: ConvergenceWarning: lbfgs failed to converge (status=1):\n",
      "STOP: TOTAL NO. of ITERATIONS REACHED LIMIT.\n",
      "\n",
      "Increase the number of iterations (max_iter) or scale the data as shown in:\n",
      "    https://scikit-learn.org/stable/modules/preprocessing.html\n",
      "  self.n_iter_ = _check_optimize_result(\"lbfgs\", opt_res, self.max_iter)\n"
     ]
    },
    {
     "name": "stdout",
     "output_type": "stream",
     "text": [
      "[CV] END hidden_layer_sizes=28, learning_rate_init=0.001, max_iter=2500, random_state=42, solver=lbfgs; total time=  51.8s\n"
     ]
    },
    {
     "name": "stderr",
     "output_type": "stream",
     "text": [
      "C:\\Users\\salda\\Anaconda3\\lib\\site-packages\\sklearn\\neural_network\\_multilayer_perceptron.py:500: ConvergenceWarning: lbfgs failed to converge (status=1):\n",
      "STOP: TOTAL NO. of ITERATIONS REACHED LIMIT.\n",
      "\n",
      "Increase the number of iterations (max_iter) or scale the data as shown in:\n",
      "    https://scikit-learn.org/stable/modules/preprocessing.html\n",
      "  self.n_iter_ = _check_optimize_result(\"lbfgs\", opt_res, self.max_iter)\n"
     ]
    },
    {
     "name": "stdout",
     "output_type": "stream",
     "text": [
      "[CV] END hidden_layer_sizes=28, learning_rate_init=0.001, max_iter=2500, random_state=42, solver=lbfgs; total time=  49.6s\n"
     ]
    },
    {
     "name": "stderr",
     "output_type": "stream",
     "text": [
      "C:\\Users\\salda\\Anaconda3\\lib\\site-packages\\sklearn\\neural_network\\_multilayer_perceptron.py:500: ConvergenceWarning: lbfgs failed to converge (status=1):\n",
      "STOP: TOTAL NO. of ITERATIONS REACHED LIMIT.\n",
      "\n",
      "Increase the number of iterations (max_iter) or scale the data as shown in:\n",
      "    https://scikit-learn.org/stable/modules/preprocessing.html\n",
      "  self.n_iter_ = _check_optimize_result(\"lbfgs\", opt_res, self.max_iter)\n"
     ]
    },
    {
     "name": "stdout",
     "output_type": "stream",
     "text": [
      "[CV] END hidden_layer_sizes=28, learning_rate_init=0.001, max_iter=2500, random_state=42, solver=lbfgs; total time=  52.5s\n",
      "[CV] END hidden_layer_sizes=28, learning_rate_init=0.001, max_iter=2500, random_state=42, solver=adam; total time=  15.8s\n",
      "[CV] END hidden_layer_sizes=28, learning_rate_init=0.001, max_iter=2500, random_state=42, solver=adam; total time=  13.7s\n",
      "[CV] END hidden_layer_sizes=28, learning_rate_init=0.001, max_iter=2500, random_state=42, solver=adam; total time=   9.5s\n",
      "[CV] END hidden_layer_sizes=28, learning_rate_init=0.001, max_iter=2500, random_state=42, solver=adam; total time=  14.7s\n",
      "[CV] END hidden_layer_sizes=28, learning_rate_init=0.001, max_iter=2500, random_state=42, solver=adam; total time=  14.7s\n"
     ]
    },
    {
     "name": "stderr",
     "output_type": "stream",
     "text": [
      "C:\\Users\\salda\\Anaconda3\\lib\\site-packages\\sklearn\\neural_network\\_multilayer_perceptron.py:500: ConvergenceWarning: lbfgs failed to converge (status=1):\n",
      "STOP: TOTAL NO. of ITERATIONS REACHED LIMIT.\n",
      "\n",
      "Increase the number of iterations (max_iter) or scale the data as shown in:\n",
      "    https://scikit-learn.org/stable/modules/preprocessing.html\n",
      "  self.n_iter_ = _check_optimize_result(\"lbfgs\", opt_res, self.max_iter)\n"
     ]
    },
    {
     "name": "stdout",
     "output_type": "stream",
     "text": [
      "[CV] END hidden_layer_sizes=28, learning_rate_init=1e-05, max_iter=2500, random_state=42, solver=lbfgs; total time=  51.5s\n"
     ]
    },
    {
     "name": "stderr",
     "output_type": "stream",
     "text": [
      "C:\\Users\\salda\\Anaconda3\\lib\\site-packages\\sklearn\\neural_network\\_multilayer_perceptron.py:500: ConvergenceWarning: lbfgs failed to converge (status=1):\n",
      "STOP: TOTAL NO. of ITERATIONS REACHED LIMIT.\n",
      "\n",
      "Increase the number of iterations (max_iter) or scale the data as shown in:\n",
      "    https://scikit-learn.org/stable/modules/preprocessing.html\n",
      "  self.n_iter_ = _check_optimize_result(\"lbfgs\", opt_res, self.max_iter)\n"
     ]
    },
    {
     "name": "stdout",
     "output_type": "stream",
     "text": [
      "[CV] END hidden_layer_sizes=28, learning_rate_init=1e-05, max_iter=2500, random_state=42, solver=lbfgs; total time=  50.1s\n"
     ]
    },
    {
     "name": "stderr",
     "output_type": "stream",
     "text": [
      "C:\\Users\\salda\\Anaconda3\\lib\\site-packages\\sklearn\\neural_network\\_multilayer_perceptron.py:500: ConvergenceWarning: lbfgs failed to converge (status=1):\n",
      "STOP: TOTAL NO. of ITERATIONS REACHED LIMIT.\n",
      "\n",
      "Increase the number of iterations (max_iter) or scale the data as shown in:\n",
      "    https://scikit-learn.org/stable/modules/preprocessing.html\n",
      "  self.n_iter_ = _check_optimize_result(\"lbfgs\", opt_res, self.max_iter)\n"
     ]
    },
    {
     "name": "stdout",
     "output_type": "stream",
     "text": [
      "[CV] END hidden_layer_sizes=28, learning_rate_init=1e-05, max_iter=2500, random_state=42, solver=lbfgs; total time=  53.5s\n"
     ]
    },
    {
     "name": "stderr",
     "output_type": "stream",
     "text": [
      "C:\\Users\\salda\\Anaconda3\\lib\\site-packages\\sklearn\\neural_network\\_multilayer_perceptron.py:500: ConvergenceWarning: lbfgs failed to converge (status=1):\n",
      "STOP: TOTAL NO. of ITERATIONS REACHED LIMIT.\n",
      "\n",
      "Increase the number of iterations (max_iter) or scale the data as shown in:\n",
      "    https://scikit-learn.org/stable/modules/preprocessing.html\n",
      "  self.n_iter_ = _check_optimize_result(\"lbfgs\", opt_res, self.max_iter)\n"
     ]
    },
    {
     "name": "stdout",
     "output_type": "stream",
     "text": [
      "[CV] END hidden_layer_sizes=28, learning_rate_init=1e-05, max_iter=2500, random_state=42, solver=lbfgs; total time=  52.5s\n"
     ]
    },
    {
     "name": "stderr",
     "output_type": "stream",
     "text": [
      "C:\\Users\\salda\\Anaconda3\\lib\\site-packages\\sklearn\\neural_network\\_multilayer_perceptron.py:500: ConvergenceWarning: lbfgs failed to converge (status=1):\n",
      "STOP: TOTAL NO. of ITERATIONS REACHED LIMIT.\n",
      "\n",
      "Increase the number of iterations (max_iter) or scale the data as shown in:\n",
      "    https://scikit-learn.org/stable/modules/preprocessing.html\n",
      "  self.n_iter_ = _check_optimize_result(\"lbfgs\", opt_res, self.max_iter)\n"
     ]
    },
    {
     "name": "stdout",
     "output_type": "stream",
     "text": [
      "[CV] END hidden_layer_sizes=28, learning_rate_init=1e-05, max_iter=2500, random_state=42, solver=lbfgs; total time=  52.2s\n",
      "[CV] END hidden_layer_sizes=28, learning_rate_init=1e-05, max_iter=2500, random_state=42, solver=adam; total time= 1.6min\n",
      "[CV] END hidden_layer_sizes=28, learning_rate_init=1e-05, max_iter=2500, random_state=42, solver=adam; total time= 1.6min\n",
      "[CV] END hidden_layer_sizes=28, learning_rate_init=1e-05, max_iter=2500, random_state=42, solver=adam; total time= 1.5min\n",
      "[CV] END hidden_layer_sizes=28, learning_rate_init=1e-05, max_iter=2500, random_state=42, solver=adam; total time= 1.7min\n",
      "[CV] END hidden_layer_sizes=28, learning_rate_init=1e-05, max_iter=2500, random_state=42, solver=adam; total time= 1.5min\n"
     ]
    },
    {
     "name": "stderr",
     "output_type": "stream",
     "text": [
      "C:\\Users\\salda\\Anaconda3\\lib\\site-packages\\sklearn\\neural_network\\_multilayer_perceptron.py:500: ConvergenceWarning: lbfgs failed to converge (status=1):\n",
      "STOP: TOTAL NO. of ITERATIONS REACHED LIMIT.\n",
      "\n",
      "Increase the number of iterations (max_iter) or scale the data as shown in:\n",
      "    https://scikit-learn.org/stable/modules/preprocessing.html\n",
      "  self.n_iter_ = _check_optimize_result(\"lbfgs\", opt_res, self.max_iter)\n"
     ]
    },
    {
     "name": "stdout",
     "output_type": "stream",
     "text": [
      "[CV] END hidden_layer_sizes=29, learning_rate_init=0.1, max_iter=2500, random_state=42, solver=lbfgs; total time=  56.2s\n"
     ]
    },
    {
     "name": "stderr",
     "output_type": "stream",
     "text": [
      "C:\\Users\\salda\\Anaconda3\\lib\\site-packages\\sklearn\\neural_network\\_multilayer_perceptron.py:500: ConvergenceWarning: lbfgs failed to converge (status=1):\n",
      "STOP: TOTAL NO. of ITERATIONS REACHED LIMIT.\n",
      "\n",
      "Increase the number of iterations (max_iter) or scale the data as shown in:\n",
      "    https://scikit-learn.org/stable/modules/preprocessing.html\n",
      "  self.n_iter_ = _check_optimize_result(\"lbfgs\", opt_res, self.max_iter)\n"
     ]
    },
    {
     "name": "stdout",
     "output_type": "stream",
     "text": [
      "[CV] END hidden_layer_sizes=29, learning_rate_init=0.1, max_iter=2500, random_state=42, solver=lbfgs; total time=  54.3s\n"
     ]
    },
    {
     "name": "stderr",
     "output_type": "stream",
     "text": [
      "C:\\Users\\salda\\Anaconda3\\lib\\site-packages\\sklearn\\neural_network\\_multilayer_perceptron.py:500: ConvergenceWarning: lbfgs failed to converge (status=1):\n",
      "STOP: TOTAL NO. of ITERATIONS REACHED LIMIT.\n",
      "\n",
      "Increase the number of iterations (max_iter) or scale the data as shown in:\n",
      "    https://scikit-learn.org/stable/modules/preprocessing.html\n",
      "  self.n_iter_ = _check_optimize_result(\"lbfgs\", opt_res, self.max_iter)\n"
     ]
    },
    {
     "name": "stdout",
     "output_type": "stream",
     "text": [
      "[CV] END hidden_layer_sizes=29, learning_rate_init=0.1, max_iter=2500, random_state=42, solver=lbfgs; total time=  54.6s\n"
     ]
    },
    {
     "name": "stderr",
     "output_type": "stream",
     "text": [
      "C:\\Users\\salda\\Anaconda3\\lib\\site-packages\\sklearn\\neural_network\\_multilayer_perceptron.py:500: ConvergenceWarning: lbfgs failed to converge (status=1):\n",
      "STOP: TOTAL NO. of ITERATIONS REACHED LIMIT.\n",
      "\n",
      "Increase the number of iterations (max_iter) or scale the data as shown in:\n",
      "    https://scikit-learn.org/stable/modules/preprocessing.html\n",
      "  self.n_iter_ = _check_optimize_result(\"lbfgs\", opt_res, self.max_iter)\n"
     ]
    },
    {
     "name": "stdout",
     "output_type": "stream",
     "text": [
      "[CV] END hidden_layer_sizes=29, learning_rate_init=0.1, max_iter=2500, random_state=42, solver=lbfgs; total time=  53.8s\n"
     ]
    },
    {
     "name": "stderr",
     "output_type": "stream",
     "text": [
      "C:\\Users\\salda\\Anaconda3\\lib\\site-packages\\sklearn\\neural_network\\_multilayer_perceptron.py:500: ConvergenceWarning: lbfgs failed to converge (status=1):\n",
      "STOP: TOTAL NO. of ITERATIONS REACHED LIMIT.\n",
      "\n",
      "Increase the number of iterations (max_iter) or scale the data as shown in:\n",
      "    https://scikit-learn.org/stable/modules/preprocessing.html\n",
      "  self.n_iter_ = _check_optimize_result(\"lbfgs\", opt_res, self.max_iter)\n"
     ]
    },
    {
     "name": "stdout",
     "output_type": "stream",
     "text": [
      "[CV] END hidden_layer_sizes=29, learning_rate_init=0.1, max_iter=2500, random_state=42, solver=lbfgs; total time=  56.4s\n",
      "[CV] END hidden_layer_sizes=29, learning_rate_init=0.1, max_iter=2500, random_state=42, solver=adam; total time=   2.4s\n",
      "[CV] END hidden_layer_sizes=29, learning_rate_init=0.1, max_iter=2500, random_state=42, solver=adam; total time=   4.0s\n",
      "[CV] END hidden_layer_sizes=29, learning_rate_init=0.1, max_iter=2500, random_state=42, solver=adam; total time=   2.3s\n",
      "[CV] END hidden_layer_sizes=29, learning_rate_init=0.1, max_iter=2500, random_state=42, solver=adam; total time=   2.8s\n",
      "[CV] END hidden_layer_sizes=29, learning_rate_init=0.1, max_iter=2500, random_state=42, solver=adam; total time=   3.4s\n"
     ]
    },
    {
     "name": "stderr",
     "output_type": "stream",
     "text": [
      "C:\\Users\\salda\\Anaconda3\\lib\\site-packages\\sklearn\\neural_network\\_multilayer_perceptron.py:500: ConvergenceWarning: lbfgs failed to converge (status=1):\n",
      "STOP: TOTAL NO. of ITERATIONS REACHED LIMIT.\n",
      "\n",
      "Increase the number of iterations (max_iter) or scale the data as shown in:\n",
      "    https://scikit-learn.org/stable/modules/preprocessing.html\n",
      "  self.n_iter_ = _check_optimize_result(\"lbfgs\", opt_res, self.max_iter)\n"
     ]
    },
    {
     "name": "stdout",
     "output_type": "stream",
     "text": [
      "[CV] END hidden_layer_sizes=29, learning_rate_init=0.001, max_iter=2500, random_state=42, solver=lbfgs; total time=  54.2s\n"
     ]
    },
    {
     "name": "stderr",
     "output_type": "stream",
     "text": [
      "C:\\Users\\salda\\Anaconda3\\lib\\site-packages\\sklearn\\neural_network\\_multilayer_perceptron.py:500: ConvergenceWarning: lbfgs failed to converge (status=1):\n",
      "STOP: TOTAL NO. of ITERATIONS REACHED LIMIT.\n",
      "\n",
      "Increase the number of iterations (max_iter) or scale the data as shown in:\n",
      "    https://scikit-learn.org/stable/modules/preprocessing.html\n",
      "  self.n_iter_ = _check_optimize_result(\"lbfgs\", opt_res, self.max_iter)\n"
     ]
    },
    {
     "name": "stdout",
     "output_type": "stream",
     "text": [
      "[CV] END hidden_layer_sizes=29, learning_rate_init=0.001, max_iter=2500, random_state=42, solver=lbfgs; total time=  56.2s\n"
     ]
    },
    {
     "name": "stderr",
     "output_type": "stream",
     "text": [
      "C:\\Users\\salda\\Anaconda3\\lib\\site-packages\\sklearn\\neural_network\\_multilayer_perceptron.py:500: ConvergenceWarning: lbfgs failed to converge (status=1):\n",
      "STOP: TOTAL NO. of ITERATIONS REACHED LIMIT.\n",
      "\n",
      "Increase the number of iterations (max_iter) or scale the data as shown in:\n",
      "    https://scikit-learn.org/stable/modules/preprocessing.html\n",
      "  self.n_iter_ = _check_optimize_result(\"lbfgs\", opt_res, self.max_iter)\n"
     ]
    },
    {
     "name": "stdout",
     "output_type": "stream",
     "text": [
      "[CV] END hidden_layer_sizes=29, learning_rate_init=0.001, max_iter=2500, random_state=42, solver=lbfgs; total time=  52.7s\n"
     ]
    },
    {
     "name": "stderr",
     "output_type": "stream",
     "text": [
      "C:\\Users\\salda\\Anaconda3\\lib\\site-packages\\sklearn\\neural_network\\_multilayer_perceptron.py:500: ConvergenceWarning: lbfgs failed to converge (status=1):\n",
      "STOP: TOTAL NO. of ITERATIONS REACHED LIMIT.\n",
      "\n",
      "Increase the number of iterations (max_iter) or scale the data as shown in:\n",
      "    https://scikit-learn.org/stable/modules/preprocessing.html\n",
      "  self.n_iter_ = _check_optimize_result(\"lbfgs\", opt_res, self.max_iter)\n"
     ]
    },
    {
     "name": "stdout",
     "output_type": "stream",
     "text": [
      "[CV] END hidden_layer_sizes=29, learning_rate_init=0.001, max_iter=2500, random_state=42, solver=lbfgs; total time=  55.8s\n"
     ]
    },
    {
     "name": "stderr",
     "output_type": "stream",
     "text": [
      "C:\\Users\\salda\\Anaconda3\\lib\\site-packages\\sklearn\\neural_network\\_multilayer_perceptron.py:500: ConvergenceWarning: lbfgs failed to converge (status=1):\n",
      "STOP: TOTAL NO. of ITERATIONS REACHED LIMIT.\n",
      "\n",
      "Increase the number of iterations (max_iter) or scale the data as shown in:\n",
      "    https://scikit-learn.org/stable/modules/preprocessing.html\n",
      "  self.n_iter_ = _check_optimize_result(\"lbfgs\", opt_res, self.max_iter)\n"
     ]
    },
    {
     "name": "stdout",
     "output_type": "stream",
     "text": [
      "[CV] END hidden_layer_sizes=29, learning_rate_init=0.001, max_iter=2500, random_state=42, solver=lbfgs; total time=  55.4s\n",
      "[CV] END hidden_layer_sizes=29, learning_rate_init=0.001, max_iter=2500, random_state=42, solver=adam; total time=  17.9s\n",
      "[CV] END hidden_layer_sizes=29, learning_rate_init=0.001, max_iter=2500, random_state=42, solver=adam; total time=  18.0s\n",
      "[CV] END hidden_layer_sizes=29, learning_rate_init=0.001, max_iter=2500, random_state=42, solver=adam; total time=  13.3s\n",
      "[CV] END hidden_layer_sizes=29, learning_rate_init=0.001, max_iter=2500, random_state=42, solver=adam; total time=  16.0s\n",
      "[CV] END hidden_layer_sizes=29, learning_rate_init=0.001, max_iter=2500, random_state=42, solver=adam; total time=  20.7s\n"
     ]
    },
    {
     "name": "stderr",
     "output_type": "stream",
     "text": [
      "C:\\Users\\salda\\Anaconda3\\lib\\site-packages\\sklearn\\neural_network\\_multilayer_perceptron.py:500: ConvergenceWarning: lbfgs failed to converge (status=1):\n",
      "STOP: TOTAL NO. of ITERATIONS REACHED LIMIT.\n",
      "\n",
      "Increase the number of iterations (max_iter) or scale the data as shown in:\n",
      "    https://scikit-learn.org/stable/modules/preprocessing.html\n",
      "  self.n_iter_ = _check_optimize_result(\"lbfgs\", opt_res, self.max_iter)\n"
     ]
    },
    {
     "name": "stdout",
     "output_type": "stream",
     "text": [
      "[CV] END hidden_layer_sizes=29, learning_rate_init=1e-05, max_iter=2500, random_state=42, solver=lbfgs; total time=  54.0s\n"
     ]
    },
    {
     "name": "stderr",
     "output_type": "stream",
     "text": [
      "C:\\Users\\salda\\Anaconda3\\lib\\site-packages\\sklearn\\neural_network\\_multilayer_perceptron.py:500: ConvergenceWarning: lbfgs failed to converge (status=1):\n",
      "STOP: TOTAL NO. of ITERATIONS REACHED LIMIT.\n",
      "\n",
      "Increase the number of iterations (max_iter) or scale the data as shown in:\n",
      "    https://scikit-learn.org/stable/modules/preprocessing.html\n",
      "  self.n_iter_ = _check_optimize_result(\"lbfgs\", opt_res, self.max_iter)\n"
     ]
    },
    {
     "name": "stdout",
     "output_type": "stream",
     "text": [
      "[CV] END hidden_layer_sizes=29, learning_rate_init=1e-05, max_iter=2500, random_state=42, solver=lbfgs; total time=  56.3s\n"
     ]
    },
    {
     "name": "stderr",
     "output_type": "stream",
     "text": [
      "C:\\Users\\salda\\Anaconda3\\lib\\site-packages\\sklearn\\neural_network\\_multilayer_perceptron.py:500: ConvergenceWarning: lbfgs failed to converge (status=1):\n",
      "STOP: TOTAL NO. of ITERATIONS REACHED LIMIT.\n",
      "\n",
      "Increase the number of iterations (max_iter) or scale the data as shown in:\n",
      "    https://scikit-learn.org/stable/modules/preprocessing.html\n",
      "  self.n_iter_ = _check_optimize_result(\"lbfgs\", opt_res, self.max_iter)\n"
     ]
    },
    {
     "name": "stdout",
     "output_type": "stream",
     "text": [
      "[CV] END hidden_layer_sizes=29, learning_rate_init=1e-05, max_iter=2500, random_state=42, solver=lbfgs; total time=  53.6s\n"
     ]
    },
    {
     "name": "stderr",
     "output_type": "stream",
     "text": [
      "C:\\Users\\salda\\Anaconda3\\lib\\site-packages\\sklearn\\neural_network\\_multilayer_perceptron.py:500: ConvergenceWarning: lbfgs failed to converge (status=1):\n",
      "STOP: TOTAL NO. of ITERATIONS REACHED LIMIT.\n",
      "\n",
      "Increase the number of iterations (max_iter) or scale the data as shown in:\n",
      "    https://scikit-learn.org/stable/modules/preprocessing.html\n",
      "  self.n_iter_ = _check_optimize_result(\"lbfgs\", opt_res, self.max_iter)\n"
     ]
    },
    {
     "name": "stdout",
     "output_type": "stream",
     "text": [
      "[CV] END hidden_layer_sizes=29, learning_rate_init=1e-05, max_iter=2500, random_state=42, solver=lbfgs; total time=  56.0s\n"
     ]
    },
    {
     "name": "stderr",
     "output_type": "stream",
     "text": [
      "C:\\Users\\salda\\Anaconda3\\lib\\site-packages\\sklearn\\neural_network\\_multilayer_perceptron.py:500: ConvergenceWarning: lbfgs failed to converge (status=1):\n",
      "STOP: TOTAL NO. of ITERATIONS REACHED LIMIT.\n",
      "\n",
      "Increase the number of iterations (max_iter) or scale the data as shown in:\n",
      "    https://scikit-learn.org/stable/modules/preprocessing.html\n",
      "  self.n_iter_ = _check_optimize_result(\"lbfgs\", opt_res, self.max_iter)\n"
     ]
    },
    {
     "name": "stdout",
     "output_type": "stream",
     "text": [
      "[CV] END hidden_layer_sizes=29, learning_rate_init=1e-05, max_iter=2500, random_state=42, solver=lbfgs; total time=  54.7s\n",
      "[CV] END hidden_layer_sizes=29, learning_rate_init=1e-05, max_iter=2500, random_state=42, solver=adam; total time= 1.4min\n",
      "[CV] END hidden_layer_sizes=29, learning_rate_init=1e-05, max_iter=2500, random_state=42, solver=adam; total time= 1.3min\n",
      "[CV] END hidden_layer_sizes=29, learning_rate_init=1e-05, max_iter=2500, random_state=42, solver=adam; total time= 1.4min\n",
      "[CV] END hidden_layer_sizes=29, learning_rate_init=1e-05, max_iter=2500, random_state=42, solver=adam; total time= 1.4min\n",
      "[CV] END hidden_layer_sizes=29, learning_rate_init=1e-05, max_iter=2500, random_state=42, solver=adam; total time= 1.2min\n"
     ]
    },
    {
     "name": "stderr",
     "output_type": "stream",
     "text": [
      "C:\\Users\\salda\\Anaconda3\\lib\\site-packages\\sklearn\\neural_network\\_multilayer_perceptron.py:500: ConvergenceWarning: lbfgs failed to converge (status=1):\n",
      "STOP: TOTAL NO. of ITERATIONS REACHED LIMIT.\n",
      "\n",
      "Increase the number of iterations (max_iter) or scale the data as shown in:\n",
      "    https://scikit-learn.org/stable/modules/preprocessing.html\n",
      "  self.n_iter_ = _check_optimize_result(\"lbfgs\", opt_res, self.max_iter)\n"
     ]
    },
    {
     "name": "stdout",
     "output_type": "stream",
     "text": [
      "[CV] END hidden_layer_sizes=30, learning_rate_init=0.1, max_iter=2500, random_state=42, solver=lbfgs; total time=  54.4s\n"
     ]
    },
    {
     "name": "stderr",
     "output_type": "stream",
     "text": [
      "C:\\Users\\salda\\Anaconda3\\lib\\site-packages\\sklearn\\neural_network\\_multilayer_perceptron.py:500: ConvergenceWarning: lbfgs failed to converge (status=1):\n",
      "STOP: TOTAL NO. of ITERATIONS REACHED LIMIT.\n",
      "\n",
      "Increase the number of iterations (max_iter) or scale the data as shown in:\n",
      "    https://scikit-learn.org/stable/modules/preprocessing.html\n",
      "  self.n_iter_ = _check_optimize_result(\"lbfgs\", opt_res, self.max_iter)\n"
     ]
    },
    {
     "name": "stdout",
     "output_type": "stream",
     "text": [
      "[CV] END hidden_layer_sizes=30, learning_rate_init=0.1, max_iter=2500, random_state=42, solver=lbfgs; total time=  53.3s\n"
     ]
    },
    {
     "name": "stderr",
     "output_type": "stream",
     "text": [
      "C:\\Users\\salda\\Anaconda3\\lib\\site-packages\\sklearn\\neural_network\\_multilayer_perceptron.py:500: ConvergenceWarning: lbfgs failed to converge (status=1):\n",
      "STOP: TOTAL NO. of ITERATIONS REACHED LIMIT.\n",
      "\n",
      "Increase the number of iterations (max_iter) or scale the data as shown in:\n",
      "    https://scikit-learn.org/stable/modules/preprocessing.html\n",
      "  self.n_iter_ = _check_optimize_result(\"lbfgs\", opt_res, self.max_iter)\n"
     ]
    },
    {
     "name": "stdout",
     "output_type": "stream",
     "text": [
      "[CV] END hidden_layer_sizes=30, learning_rate_init=0.1, max_iter=2500, random_state=42, solver=lbfgs; total time=  54.5s\n"
     ]
    },
    {
     "name": "stderr",
     "output_type": "stream",
     "text": [
      "C:\\Users\\salda\\Anaconda3\\lib\\site-packages\\sklearn\\neural_network\\_multilayer_perceptron.py:500: ConvergenceWarning: lbfgs failed to converge (status=1):\n",
      "STOP: TOTAL NO. of ITERATIONS REACHED LIMIT.\n",
      "\n",
      "Increase the number of iterations (max_iter) or scale the data as shown in:\n",
      "    https://scikit-learn.org/stable/modules/preprocessing.html\n",
      "  self.n_iter_ = _check_optimize_result(\"lbfgs\", opt_res, self.max_iter)\n"
     ]
    },
    {
     "name": "stdout",
     "output_type": "stream",
     "text": [
      "[CV] END hidden_layer_sizes=30, learning_rate_init=0.1, max_iter=2500, random_state=42, solver=lbfgs; total time=  51.5s\n"
     ]
    },
    {
     "name": "stderr",
     "output_type": "stream",
     "text": [
      "C:\\Users\\salda\\Anaconda3\\lib\\site-packages\\sklearn\\neural_network\\_multilayer_perceptron.py:500: ConvergenceWarning: lbfgs failed to converge (status=1):\n",
      "STOP: TOTAL NO. of ITERATIONS REACHED LIMIT.\n",
      "\n",
      "Increase the number of iterations (max_iter) or scale the data as shown in:\n",
      "    https://scikit-learn.org/stable/modules/preprocessing.html\n",
      "  self.n_iter_ = _check_optimize_result(\"lbfgs\", opt_res, self.max_iter)\n"
     ]
    },
    {
     "name": "stdout",
     "output_type": "stream",
     "text": [
      "[CV] END hidden_layer_sizes=30, learning_rate_init=0.1, max_iter=2500, random_state=42, solver=lbfgs; total time=  54.6s\n",
      "[CV] END hidden_layer_sizes=30, learning_rate_init=0.1, max_iter=2500, random_state=42, solver=adam; total time=   1.7s\n",
      "[CV] END hidden_layer_sizes=30, learning_rate_init=0.1, max_iter=2500, random_state=42, solver=adam; total time=   3.5s\n",
      "[CV] END hidden_layer_sizes=30, learning_rate_init=0.1, max_iter=2500, random_state=42, solver=adam; total time=   2.0s\n",
      "[CV] END hidden_layer_sizes=30, learning_rate_init=0.1, max_iter=2500, random_state=42, solver=adam; total time=   2.0s\n",
      "[CV] END hidden_layer_sizes=30, learning_rate_init=0.1, max_iter=2500, random_state=42, solver=adam; total time=   3.1s\n"
     ]
    },
    {
     "name": "stderr",
     "output_type": "stream",
     "text": [
      "C:\\Users\\salda\\Anaconda3\\lib\\site-packages\\sklearn\\neural_network\\_multilayer_perceptron.py:500: ConvergenceWarning: lbfgs failed to converge (status=1):\n",
      "STOP: TOTAL NO. of ITERATIONS REACHED LIMIT.\n",
      "\n",
      "Increase the number of iterations (max_iter) or scale the data as shown in:\n",
      "    https://scikit-learn.org/stable/modules/preprocessing.html\n",
      "  self.n_iter_ = _check_optimize_result(\"lbfgs\", opt_res, self.max_iter)\n"
     ]
    },
    {
     "name": "stdout",
     "output_type": "stream",
     "text": [
      "[CV] END hidden_layer_sizes=30, learning_rate_init=0.001, max_iter=2500, random_state=42, solver=lbfgs; total time=  52.9s\n"
     ]
    },
    {
     "name": "stderr",
     "output_type": "stream",
     "text": [
      "C:\\Users\\salda\\Anaconda3\\lib\\site-packages\\sklearn\\neural_network\\_multilayer_perceptron.py:500: ConvergenceWarning: lbfgs failed to converge (status=1):\n",
      "STOP: TOTAL NO. of ITERATIONS REACHED LIMIT.\n",
      "\n",
      "Increase the number of iterations (max_iter) or scale the data as shown in:\n",
      "    https://scikit-learn.org/stable/modules/preprocessing.html\n",
      "  self.n_iter_ = _check_optimize_result(\"lbfgs\", opt_res, self.max_iter)\n"
     ]
    },
    {
     "name": "stdout",
     "output_type": "stream",
     "text": [
      "[CV] END hidden_layer_sizes=30, learning_rate_init=0.001, max_iter=2500, random_state=42, solver=lbfgs; total time=  54.7s\n"
     ]
    },
    {
     "name": "stderr",
     "output_type": "stream",
     "text": [
      "C:\\Users\\salda\\Anaconda3\\lib\\site-packages\\sklearn\\neural_network\\_multilayer_perceptron.py:500: ConvergenceWarning: lbfgs failed to converge (status=1):\n",
      "STOP: TOTAL NO. of ITERATIONS REACHED LIMIT.\n",
      "\n",
      "Increase the number of iterations (max_iter) or scale the data as shown in:\n",
      "    https://scikit-learn.org/stable/modules/preprocessing.html\n",
      "  self.n_iter_ = _check_optimize_result(\"lbfgs\", opt_res, self.max_iter)\n"
     ]
    },
    {
     "name": "stdout",
     "output_type": "stream",
     "text": [
      "[CV] END hidden_layer_sizes=30, learning_rate_init=0.001, max_iter=2500, random_state=42, solver=lbfgs; total time=  52.7s\n"
     ]
    },
    {
     "name": "stderr",
     "output_type": "stream",
     "text": [
      "C:\\Users\\salda\\Anaconda3\\lib\\site-packages\\sklearn\\neural_network\\_multilayer_perceptron.py:500: ConvergenceWarning: lbfgs failed to converge (status=1):\n",
      "STOP: TOTAL NO. of ITERATIONS REACHED LIMIT.\n",
      "\n",
      "Increase the number of iterations (max_iter) or scale the data as shown in:\n",
      "    https://scikit-learn.org/stable/modules/preprocessing.html\n",
      "  self.n_iter_ = _check_optimize_result(\"lbfgs\", opt_res, self.max_iter)\n"
     ]
    },
    {
     "name": "stdout",
     "output_type": "stream",
     "text": [
      "[CV] END hidden_layer_sizes=30, learning_rate_init=0.001, max_iter=2500, random_state=42, solver=lbfgs; total time=  51.4s\n"
     ]
    },
    {
     "name": "stderr",
     "output_type": "stream",
     "text": [
      "C:\\Users\\salda\\Anaconda3\\lib\\site-packages\\sklearn\\neural_network\\_multilayer_perceptron.py:500: ConvergenceWarning: lbfgs failed to converge (status=1):\n",
      "STOP: TOTAL NO. of ITERATIONS REACHED LIMIT.\n",
      "\n",
      "Increase the number of iterations (max_iter) or scale the data as shown in:\n",
      "    https://scikit-learn.org/stable/modules/preprocessing.html\n",
      "  self.n_iter_ = _check_optimize_result(\"lbfgs\", opt_res, self.max_iter)\n"
     ]
    },
    {
     "name": "stdout",
     "output_type": "stream",
     "text": [
      "[CV] END hidden_layer_sizes=30, learning_rate_init=0.001, max_iter=2500, random_state=42, solver=lbfgs; total time=  54.4s\n",
      "[CV] END hidden_layer_sizes=30, learning_rate_init=0.001, max_iter=2500, random_state=42, solver=adam; total time=  24.6s\n",
      "[CV] END hidden_layer_sizes=30, learning_rate_init=0.001, max_iter=2500, random_state=42, solver=adam; total time=  22.6s\n",
      "[CV] END hidden_layer_sizes=30, learning_rate_init=0.001, max_iter=2500, random_state=42, solver=adam; total time=  19.8s\n",
      "[CV] END hidden_layer_sizes=30, learning_rate_init=0.001, max_iter=2500, random_state=42, solver=adam; total time=  25.5s\n",
      "[CV] END hidden_layer_sizes=30, learning_rate_init=0.001, max_iter=2500, random_state=42, solver=adam; total time=  16.4s\n"
     ]
    },
    {
     "name": "stderr",
     "output_type": "stream",
     "text": [
      "C:\\Users\\salda\\Anaconda3\\lib\\site-packages\\sklearn\\neural_network\\_multilayer_perceptron.py:500: ConvergenceWarning: lbfgs failed to converge (status=1):\n",
      "STOP: TOTAL NO. of ITERATIONS REACHED LIMIT.\n",
      "\n",
      "Increase the number of iterations (max_iter) or scale the data as shown in:\n",
      "    https://scikit-learn.org/stable/modules/preprocessing.html\n",
      "  self.n_iter_ = _check_optimize_result(\"lbfgs\", opt_res, self.max_iter)\n"
     ]
    },
    {
     "name": "stdout",
     "output_type": "stream",
     "text": [
      "[CV] END hidden_layer_sizes=30, learning_rate_init=1e-05, max_iter=2500, random_state=42, solver=lbfgs; total time=  52.6s\n"
     ]
    },
    {
     "name": "stderr",
     "output_type": "stream",
     "text": [
      "C:\\Users\\salda\\Anaconda3\\lib\\site-packages\\sklearn\\neural_network\\_multilayer_perceptron.py:500: ConvergenceWarning: lbfgs failed to converge (status=1):\n",
      "STOP: TOTAL NO. of ITERATIONS REACHED LIMIT.\n",
      "\n",
      "Increase the number of iterations (max_iter) or scale the data as shown in:\n",
      "    https://scikit-learn.org/stable/modules/preprocessing.html\n",
      "  self.n_iter_ = _check_optimize_result(\"lbfgs\", opt_res, self.max_iter)\n"
     ]
    },
    {
     "name": "stdout",
     "output_type": "stream",
     "text": [
      "[CV] END hidden_layer_sizes=30, learning_rate_init=1e-05, max_iter=2500, random_state=42, solver=lbfgs; total time=  55.6s\n"
     ]
    },
    {
     "name": "stderr",
     "output_type": "stream",
     "text": [
      "C:\\Users\\salda\\Anaconda3\\lib\\site-packages\\sklearn\\neural_network\\_multilayer_perceptron.py:500: ConvergenceWarning: lbfgs failed to converge (status=1):\n",
      "STOP: TOTAL NO. of ITERATIONS REACHED LIMIT.\n",
      "\n",
      "Increase the number of iterations (max_iter) or scale the data as shown in:\n",
      "    https://scikit-learn.org/stable/modules/preprocessing.html\n",
      "  self.n_iter_ = _check_optimize_result(\"lbfgs\", opt_res, self.max_iter)\n"
     ]
    },
    {
     "name": "stdout",
     "output_type": "stream",
     "text": [
      "[CV] END hidden_layer_sizes=30, learning_rate_init=1e-05, max_iter=2500, random_state=42, solver=lbfgs; total time=  52.5s\n"
     ]
    },
    {
     "name": "stderr",
     "output_type": "stream",
     "text": [
      "C:\\Users\\salda\\Anaconda3\\lib\\site-packages\\sklearn\\neural_network\\_multilayer_perceptron.py:500: ConvergenceWarning: lbfgs failed to converge (status=1):\n",
      "STOP: TOTAL NO. of ITERATIONS REACHED LIMIT.\n",
      "\n",
      "Increase the number of iterations (max_iter) or scale the data as shown in:\n",
      "    https://scikit-learn.org/stable/modules/preprocessing.html\n",
      "  self.n_iter_ = _check_optimize_result(\"lbfgs\", opt_res, self.max_iter)\n"
     ]
    },
    {
     "name": "stdout",
     "output_type": "stream",
     "text": [
      "[CV] END hidden_layer_sizes=30, learning_rate_init=1e-05, max_iter=2500, random_state=42, solver=lbfgs; total time=  54.0s\n"
     ]
    },
    {
     "name": "stderr",
     "output_type": "stream",
     "text": [
      "C:\\Users\\salda\\Anaconda3\\lib\\site-packages\\sklearn\\neural_network\\_multilayer_perceptron.py:500: ConvergenceWarning: lbfgs failed to converge (status=1):\n",
      "STOP: TOTAL NO. of ITERATIONS REACHED LIMIT.\n",
      "\n",
      "Increase the number of iterations (max_iter) or scale the data as shown in:\n",
      "    https://scikit-learn.org/stable/modules/preprocessing.html\n",
      "  self.n_iter_ = _check_optimize_result(\"lbfgs\", opt_res, self.max_iter)\n"
     ]
    },
    {
     "name": "stdout",
     "output_type": "stream",
     "text": [
      "[CV] END hidden_layer_sizes=30, learning_rate_init=1e-05, max_iter=2500, random_state=42, solver=lbfgs; total time=  52.5s\n",
      "[CV] END hidden_layer_sizes=30, learning_rate_init=1e-05, max_iter=2500, random_state=42, solver=adam; total time= 1.3min\n",
      "[CV] END hidden_layer_sizes=30, learning_rate_init=1e-05, max_iter=2500, random_state=42, solver=adam; total time= 1.3min\n",
      "[CV] END hidden_layer_sizes=30, learning_rate_init=1e-05, max_iter=2500, random_state=42, solver=adam; total time= 1.4min\n",
      "[CV] END hidden_layer_sizes=30, learning_rate_init=1e-05, max_iter=2500, random_state=42, solver=adam; total time= 1.4min\n",
      "[CV] END hidden_layer_sizes=30, learning_rate_init=1e-05, max_iter=2500, random_state=42, solver=adam; total time= 1.3min\n"
     ]
    },
    {
     "name": "stderr",
     "output_type": "stream",
     "text": [
      "C:\\Users\\salda\\Anaconda3\\lib\\site-packages\\sklearn\\neural_network\\_multilayer_perceptron.py:500: ConvergenceWarning: lbfgs failed to converge (status=1):\n",
      "STOP: TOTAL NO. of ITERATIONS REACHED LIMIT.\n",
      "\n",
      "Increase the number of iterations (max_iter) or scale the data as shown in:\n",
      "    https://scikit-learn.org/stable/modules/preprocessing.html\n",
      "  self.n_iter_ = _check_optimize_result(\"lbfgs\", opt_res, self.max_iter)\n"
     ]
    },
    {
     "name": "stdout",
     "output_type": "stream",
     "text": [
      "[CV] END hidden_layer_sizes=31, learning_rate_init=0.1, max_iter=2500, random_state=42, solver=lbfgs; total time=  57.9s\n"
     ]
    },
    {
     "name": "stderr",
     "output_type": "stream",
     "text": [
      "C:\\Users\\salda\\Anaconda3\\lib\\site-packages\\sklearn\\neural_network\\_multilayer_perceptron.py:500: ConvergenceWarning: lbfgs failed to converge (status=1):\n",
      "STOP: TOTAL NO. of ITERATIONS REACHED LIMIT.\n",
      "\n",
      "Increase the number of iterations (max_iter) or scale the data as shown in:\n",
      "    https://scikit-learn.org/stable/modules/preprocessing.html\n",
      "  self.n_iter_ = _check_optimize_result(\"lbfgs\", opt_res, self.max_iter)\n"
     ]
    },
    {
     "name": "stdout",
     "output_type": "stream",
     "text": [
      "[CV] END hidden_layer_sizes=31, learning_rate_init=0.1, max_iter=2500, random_state=42, solver=lbfgs; total time=  54.8s\n"
     ]
    },
    {
     "name": "stderr",
     "output_type": "stream",
     "text": [
      "C:\\Users\\salda\\Anaconda3\\lib\\site-packages\\sklearn\\neural_network\\_multilayer_perceptron.py:500: ConvergenceWarning: lbfgs failed to converge (status=1):\n",
      "STOP: TOTAL NO. of ITERATIONS REACHED LIMIT.\n",
      "\n",
      "Increase the number of iterations (max_iter) or scale the data as shown in:\n",
      "    https://scikit-learn.org/stable/modules/preprocessing.html\n",
      "  self.n_iter_ = _check_optimize_result(\"lbfgs\", opt_res, self.max_iter)\n"
     ]
    },
    {
     "name": "stdout",
     "output_type": "stream",
     "text": [
      "[CV] END hidden_layer_sizes=31, learning_rate_init=0.1, max_iter=2500, random_state=42, solver=lbfgs; total time=  57.4s\n"
     ]
    },
    {
     "name": "stderr",
     "output_type": "stream",
     "text": [
      "C:\\Users\\salda\\Anaconda3\\lib\\site-packages\\sklearn\\neural_network\\_multilayer_perceptron.py:500: ConvergenceWarning: lbfgs failed to converge (status=1):\n",
      "STOP: TOTAL NO. of ITERATIONS REACHED LIMIT.\n",
      "\n",
      "Increase the number of iterations (max_iter) or scale the data as shown in:\n",
      "    https://scikit-learn.org/stable/modules/preprocessing.html\n",
      "  self.n_iter_ = _check_optimize_result(\"lbfgs\", opt_res, self.max_iter)\n"
     ]
    },
    {
     "name": "stdout",
     "output_type": "stream",
     "text": [
      "[CV] END hidden_layer_sizes=31, learning_rate_init=0.1, max_iter=2500, random_state=42, solver=lbfgs; total time=  55.8s\n"
     ]
    },
    {
     "name": "stderr",
     "output_type": "stream",
     "text": [
      "C:\\Users\\salda\\Anaconda3\\lib\\site-packages\\sklearn\\neural_network\\_multilayer_perceptron.py:500: ConvergenceWarning: lbfgs failed to converge (status=1):\n",
      "STOP: TOTAL NO. of ITERATIONS REACHED LIMIT.\n",
      "\n",
      "Increase the number of iterations (max_iter) or scale the data as shown in:\n",
      "    https://scikit-learn.org/stable/modules/preprocessing.html\n",
      "  self.n_iter_ = _check_optimize_result(\"lbfgs\", opt_res, self.max_iter)\n"
     ]
    },
    {
     "name": "stdout",
     "output_type": "stream",
     "text": [
      "[CV] END hidden_layer_sizes=31, learning_rate_init=0.1, max_iter=2500, random_state=42, solver=lbfgs; total time=  56.1s\n",
      "[CV] END hidden_layer_sizes=31, learning_rate_init=0.1, max_iter=2500, random_state=42, solver=adam; total time=   3.5s\n",
      "[CV] END hidden_layer_sizes=31, learning_rate_init=0.1, max_iter=2500, random_state=42, solver=adam; total time=   4.8s\n",
      "[CV] END hidden_layer_sizes=31, learning_rate_init=0.1, max_iter=2500, random_state=42, solver=adam; total time=   2.6s\n",
      "[CV] END hidden_layer_sizes=31, learning_rate_init=0.1, max_iter=2500, random_state=42, solver=adam; total time=   3.1s\n",
      "[CV] END hidden_layer_sizes=31, learning_rate_init=0.1, max_iter=2500, random_state=42, solver=adam; total time=   3.2s\n"
     ]
    },
    {
     "name": "stderr",
     "output_type": "stream",
     "text": [
      "C:\\Users\\salda\\Anaconda3\\lib\\site-packages\\sklearn\\neural_network\\_multilayer_perceptron.py:500: ConvergenceWarning: lbfgs failed to converge (status=1):\n",
      "STOP: TOTAL NO. of ITERATIONS REACHED LIMIT.\n",
      "\n",
      "Increase the number of iterations (max_iter) or scale the data as shown in:\n",
      "    https://scikit-learn.org/stable/modules/preprocessing.html\n",
      "  self.n_iter_ = _check_optimize_result(\"lbfgs\", opt_res, self.max_iter)\n"
     ]
    },
    {
     "name": "stdout",
     "output_type": "stream",
     "text": [
      "[CV] END hidden_layer_sizes=31, learning_rate_init=0.001, max_iter=2500, random_state=42, solver=lbfgs; total time=  55.5s\n"
     ]
    },
    {
     "name": "stderr",
     "output_type": "stream",
     "text": [
      "C:\\Users\\salda\\Anaconda3\\lib\\site-packages\\sklearn\\neural_network\\_multilayer_perceptron.py:500: ConvergenceWarning: lbfgs failed to converge (status=1):\n",
      "STOP: TOTAL NO. of ITERATIONS REACHED LIMIT.\n",
      "\n",
      "Increase the number of iterations (max_iter) or scale the data as shown in:\n",
      "    https://scikit-learn.org/stable/modules/preprocessing.html\n",
      "  self.n_iter_ = _check_optimize_result(\"lbfgs\", opt_res, self.max_iter)\n"
     ]
    },
    {
     "name": "stdout",
     "output_type": "stream",
     "text": [
      "[CV] END hidden_layer_sizes=31, learning_rate_init=0.001, max_iter=2500, random_state=42, solver=lbfgs; total time=  56.6s\n"
     ]
    },
    {
     "name": "stderr",
     "output_type": "stream",
     "text": [
      "C:\\Users\\salda\\Anaconda3\\lib\\site-packages\\sklearn\\neural_network\\_multilayer_perceptron.py:500: ConvergenceWarning: lbfgs failed to converge (status=1):\n",
      "STOP: TOTAL NO. of ITERATIONS REACHED LIMIT.\n",
      "\n",
      "Increase the number of iterations (max_iter) or scale the data as shown in:\n",
      "    https://scikit-learn.org/stable/modules/preprocessing.html\n",
      "  self.n_iter_ = _check_optimize_result(\"lbfgs\", opt_res, self.max_iter)\n"
     ]
    },
    {
     "name": "stdout",
     "output_type": "stream",
     "text": [
      "[CV] END hidden_layer_sizes=31, learning_rate_init=0.001, max_iter=2500, random_state=42, solver=lbfgs; total time=  55.5s\n"
     ]
    },
    {
     "name": "stderr",
     "output_type": "stream",
     "text": [
      "C:\\Users\\salda\\Anaconda3\\lib\\site-packages\\sklearn\\neural_network\\_multilayer_perceptron.py:500: ConvergenceWarning: lbfgs failed to converge (status=1):\n",
      "STOP: TOTAL NO. of ITERATIONS REACHED LIMIT.\n",
      "\n",
      "Increase the number of iterations (max_iter) or scale the data as shown in:\n",
      "    https://scikit-learn.org/stable/modules/preprocessing.html\n",
      "  self.n_iter_ = _check_optimize_result(\"lbfgs\", opt_res, self.max_iter)\n"
     ]
    },
    {
     "name": "stdout",
     "output_type": "stream",
     "text": [
      "[CV] END hidden_layer_sizes=31, learning_rate_init=0.001, max_iter=2500, random_state=42, solver=lbfgs; total time=  58.1s\n"
     ]
    },
    {
     "name": "stderr",
     "output_type": "stream",
     "text": [
      "C:\\Users\\salda\\Anaconda3\\lib\\site-packages\\sklearn\\neural_network\\_multilayer_perceptron.py:500: ConvergenceWarning: lbfgs failed to converge (status=1):\n",
      "STOP: TOTAL NO. of ITERATIONS REACHED LIMIT.\n",
      "\n",
      "Increase the number of iterations (max_iter) or scale the data as shown in:\n",
      "    https://scikit-learn.org/stable/modules/preprocessing.html\n",
      "  self.n_iter_ = _check_optimize_result(\"lbfgs\", opt_res, self.max_iter)\n"
     ]
    },
    {
     "name": "stdout",
     "output_type": "stream",
     "text": [
      "[CV] END hidden_layer_sizes=31, learning_rate_init=0.001, max_iter=2500, random_state=42, solver=lbfgs; total time=  54.0s\n",
      "[CV] END hidden_layer_sizes=31, learning_rate_init=0.001, max_iter=2500, random_state=42, solver=adam; total time=  12.5s\n",
      "[CV] END hidden_layer_sizes=31, learning_rate_init=0.001, max_iter=2500, random_state=42, solver=adam; total time=  21.6s\n",
      "[CV] END hidden_layer_sizes=31, learning_rate_init=0.001, max_iter=2500, random_state=42, solver=adam; total time=  14.1s\n",
      "[CV] END hidden_layer_sizes=31, learning_rate_init=0.001, max_iter=2500, random_state=42, solver=adam; total time=  15.2s\n",
      "[CV] END hidden_layer_sizes=31, learning_rate_init=0.001, max_iter=2500, random_state=42, solver=adam; total time=  13.2s\n"
     ]
    },
    {
     "name": "stderr",
     "output_type": "stream",
     "text": [
      "C:\\Users\\salda\\Anaconda3\\lib\\site-packages\\sklearn\\neural_network\\_multilayer_perceptron.py:500: ConvergenceWarning: lbfgs failed to converge (status=1):\n",
      "STOP: TOTAL NO. of ITERATIONS REACHED LIMIT.\n",
      "\n",
      "Increase the number of iterations (max_iter) or scale the data as shown in:\n",
      "    https://scikit-learn.org/stable/modules/preprocessing.html\n",
      "  self.n_iter_ = _check_optimize_result(\"lbfgs\", opt_res, self.max_iter)\n"
     ]
    },
    {
     "name": "stdout",
     "output_type": "stream",
     "text": [
      "[CV] END hidden_layer_sizes=31, learning_rate_init=1e-05, max_iter=2500, random_state=42, solver=lbfgs; total time=  55.7s\n"
     ]
    },
    {
     "name": "stderr",
     "output_type": "stream",
     "text": [
      "C:\\Users\\salda\\Anaconda3\\lib\\site-packages\\sklearn\\neural_network\\_multilayer_perceptron.py:500: ConvergenceWarning: lbfgs failed to converge (status=1):\n",
      "STOP: TOTAL NO. of ITERATIONS REACHED LIMIT.\n",
      "\n",
      "Increase the number of iterations (max_iter) or scale the data as shown in:\n",
      "    https://scikit-learn.org/stable/modules/preprocessing.html\n",
      "  self.n_iter_ = _check_optimize_result(\"lbfgs\", opt_res, self.max_iter)\n"
     ]
    },
    {
     "name": "stdout",
     "output_type": "stream",
     "text": [
      "[CV] END hidden_layer_sizes=31, learning_rate_init=1e-05, max_iter=2500, random_state=42, solver=lbfgs; total time=  58.2s\n"
     ]
    },
    {
     "name": "stderr",
     "output_type": "stream",
     "text": [
      "C:\\Users\\salda\\Anaconda3\\lib\\site-packages\\sklearn\\neural_network\\_multilayer_perceptron.py:500: ConvergenceWarning: lbfgs failed to converge (status=1):\n",
      "STOP: TOTAL NO. of ITERATIONS REACHED LIMIT.\n",
      "\n",
      "Increase the number of iterations (max_iter) or scale the data as shown in:\n",
      "    https://scikit-learn.org/stable/modules/preprocessing.html\n",
      "  self.n_iter_ = _check_optimize_result(\"lbfgs\", opt_res, self.max_iter)\n"
     ]
    },
    {
     "name": "stdout",
     "output_type": "stream",
     "text": [
      "[CV] END hidden_layer_sizes=31, learning_rate_init=1e-05, max_iter=2500, random_state=42, solver=lbfgs; total time=  55.8s\n"
     ]
    },
    {
     "name": "stderr",
     "output_type": "stream",
     "text": [
      "C:\\Users\\salda\\Anaconda3\\lib\\site-packages\\sklearn\\neural_network\\_multilayer_perceptron.py:500: ConvergenceWarning: lbfgs failed to converge (status=1):\n",
      "STOP: TOTAL NO. of ITERATIONS REACHED LIMIT.\n",
      "\n",
      "Increase the number of iterations (max_iter) or scale the data as shown in:\n",
      "    https://scikit-learn.org/stable/modules/preprocessing.html\n",
      "  self.n_iter_ = _check_optimize_result(\"lbfgs\", opt_res, self.max_iter)\n"
     ]
    },
    {
     "name": "stdout",
     "output_type": "stream",
     "text": [
      "[CV] END hidden_layer_sizes=31, learning_rate_init=1e-05, max_iter=2500, random_state=42, solver=lbfgs; total time=  57.8s\n"
     ]
    },
    {
     "name": "stderr",
     "output_type": "stream",
     "text": [
      "C:\\Users\\salda\\Anaconda3\\lib\\site-packages\\sklearn\\neural_network\\_multilayer_perceptron.py:500: ConvergenceWarning: lbfgs failed to converge (status=1):\n",
      "STOP: TOTAL NO. of ITERATIONS REACHED LIMIT.\n",
      "\n",
      "Increase the number of iterations (max_iter) or scale the data as shown in:\n",
      "    https://scikit-learn.org/stable/modules/preprocessing.html\n",
      "  self.n_iter_ = _check_optimize_result(\"lbfgs\", opt_res, self.max_iter)\n"
     ]
    },
    {
     "name": "stdout",
     "output_type": "stream",
     "text": [
      "[CV] END hidden_layer_sizes=31, learning_rate_init=1e-05, max_iter=2500, random_state=42, solver=lbfgs; total time=  54.6s\n",
      "[CV] END hidden_layer_sizes=31, learning_rate_init=1e-05, max_iter=2500, random_state=42, solver=adam; total time= 1.4min\n",
      "[CV] END hidden_layer_sizes=31, learning_rate_init=1e-05, max_iter=2500, random_state=42, solver=adam; total time= 1.5min\n",
      "[CV] END hidden_layer_sizes=31, learning_rate_init=1e-05, max_iter=2500, random_state=42, solver=adam; total time= 1.4min\n",
      "[CV] END hidden_layer_sizes=31, learning_rate_init=1e-05, max_iter=2500, random_state=42, solver=adam; total time= 1.5min\n",
      "[CV] END hidden_layer_sizes=31, learning_rate_init=1e-05, max_iter=2500, random_state=42, solver=adam; total time= 1.4min\n"
     ]
    },
    {
     "name": "stderr",
     "output_type": "stream",
     "text": [
      "C:\\Users\\salda\\Anaconda3\\lib\\site-packages\\sklearn\\neural_network\\_multilayer_perceptron.py:500: ConvergenceWarning: lbfgs failed to converge (status=1):\n",
      "STOP: TOTAL NO. of ITERATIONS REACHED LIMIT.\n",
      "\n",
      "Increase the number of iterations (max_iter) or scale the data as shown in:\n",
      "    https://scikit-learn.org/stable/modules/preprocessing.html\n",
      "  self.n_iter_ = _check_optimize_result(\"lbfgs\", opt_res, self.max_iter)\n"
     ]
    },
    {
     "name": "stdout",
     "output_type": "stream",
     "text": [
      "[CV] END hidden_layer_sizes=32, learning_rate_init=0.1, max_iter=2500, random_state=42, solver=lbfgs; total time=  57.9s\n"
     ]
    },
    {
     "name": "stderr",
     "output_type": "stream",
     "text": [
      "C:\\Users\\salda\\Anaconda3\\lib\\site-packages\\sklearn\\neural_network\\_multilayer_perceptron.py:500: ConvergenceWarning: lbfgs failed to converge (status=1):\n",
      "STOP: TOTAL NO. of ITERATIONS REACHED LIMIT.\n",
      "\n",
      "Increase the number of iterations (max_iter) or scale the data as shown in:\n",
      "    https://scikit-learn.org/stable/modules/preprocessing.html\n",
      "  self.n_iter_ = _check_optimize_result(\"lbfgs\", opt_res, self.max_iter)\n"
     ]
    },
    {
     "name": "stdout",
     "output_type": "stream",
     "text": [
      "[CV] END hidden_layer_sizes=32, learning_rate_init=0.1, max_iter=2500, random_state=42, solver=lbfgs; total time=  56.8s\n"
     ]
    },
    {
     "name": "stderr",
     "output_type": "stream",
     "text": [
      "C:\\Users\\salda\\Anaconda3\\lib\\site-packages\\sklearn\\neural_network\\_multilayer_perceptron.py:500: ConvergenceWarning: lbfgs failed to converge (status=1):\n",
      "STOP: TOTAL NO. of ITERATIONS REACHED LIMIT.\n",
      "\n",
      "Increase the number of iterations (max_iter) or scale the data as shown in:\n",
      "    https://scikit-learn.org/stable/modules/preprocessing.html\n",
      "  self.n_iter_ = _check_optimize_result(\"lbfgs\", opt_res, self.max_iter)\n"
     ]
    },
    {
     "name": "stdout",
     "output_type": "stream",
     "text": [
      "[CV] END hidden_layer_sizes=32, learning_rate_init=0.1, max_iter=2500, random_state=42, solver=lbfgs; total time=  57.0s\n"
     ]
    },
    {
     "name": "stderr",
     "output_type": "stream",
     "text": [
      "C:\\Users\\salda\\Anaconda3\\lib\\site-packages\\sklearn\\neural_network\\_multilayer_perceptron.py:500: ConvergenceWarning: lbfgs failed to converge (status=1):\n",
      "STOP: TOTAL NO. of ITERATIONS REACHED LIMIT.\n",
      "\n",
      "Increase the number of iterations (max_iter) or scale the data as shown in:\n",
      "    https://scikit-learn.org/stable/modules/preprocessing.html\n",
      "  self.n_iter_ = _check_optimize_result(\"lbfgs\", opt_res, self.max_iter)\n"
     ]
    },
    {
     "name": "stdout",
     "output_type": "stream",
     "text": [
      "[CV] END hidden_layer_sizes=32, learning_rate_init=0.1, max_iter=2500, random_state=42, solver=lbfgs; total time= 1.0min\n"
     ]
    },
    {
     "name": "stderr",
     "output_type": "stream",
     "text": [
      "C:\\Users\\salda\\Anaconda3\\lib\\site-packages\\sklearn\\neural_network\\_multilayer_perceptron.py:500: ConvergenceWarning: lbfgs failed to converge (status=1):\n",
      "STOP: TOTAL NO. of ITERATIONS REACHED LIMIT.\n",
      "\n",
      "Increase the number of iterations (max_iter) or scale the data as shown in:\n",
      "    https://scikit-learn.org/stable/modules/preprocessing.html\n",
      "  self.n_iter_ = _check_optimize_result(\"lbfgs\", opt_res, self.max_iter)\n"
     ]
    },
    {
     "name": "stdout",
     "output_type": "stream",
     "text": [
      "[CV] END hidden_layer_sizes=32, learning_rate_init=0.1, max_iter=2500, random_state=42, solver=lbfgs; total time=  55.3s\n",
      "[CV] END hidden_layer_sizes=32, learning_rate_init=0.1, max_iter=2500, random_state=42, solver=adam; total time=   3.3s\n",
      "[CV] END hidden_layer_sizes=32, learning_rate_init=0.1, max_iter=2500, random_state=42, solver=adam; total time=   3.0s\n",
      "[CV] END hidden_layer_sizes=32, learning_rate_init=0.1, max_iter=2500, random_state=42, solver=adam; total time=   3.4s\n",
      "[CV] END hidden_layer_sizes=32, learning_rate_init=0.1, max_iter=2500, random_state=42, solver=adam; total time=   2.8s\n",
      "[CV] END hidden_layer_sizes=32, learning_rate_init=0.1, max_iter=2500, random_state=42, solver=adam; total time=   2.2s\n"
     ]
    },
    {
     "name": "stderr",
     "output_type": "stream",
     "text": [
      "C:\\Users\\salda\\Anaconda3\\lib\\site-packages\\sklearn\\neural_network\\_multilayer_perceptron.py:500: ConvergenceWarning: lbfgs failed to converge (status=1):\n",
      "STOP: TOTAL NO. of ITERATIONS REACHED LIMIT.\n",
      "\n",
      "Increase the number of iterations (max_iter) or scale the data as shown in:\n",
      "    https://scikit-learn.org/stable/modules/preprocessing.html\n",
      "  self.n_iter_ = _check_optimize_result(\"lbfgs\", opt_res, self.max_iter)\n"
     ]
    },
    {
     "name": "stdout",
     "output_type": "stream",
     "text": [
      "[CV] END hidden_layer_sizes=32, learning_rate_init=0.001, max_iter=2500, random_state=42, solver=lbfgs; total time=  59.0s\n"
     ]
    },
    {
     "name": "stderr",
     "output_type": "stream",
     "text": [
      "C:\\Users\\salda\\Anaconda3\\lib\\site-packages\\sklearn\\neural_network\\_multilayer_perceptron.py:500: ConvergenceWarning: lbfgs failed to converge (status=1):\n",
      "STOP: TOTAL NO. of ITERATIONS REACHED LIMIT.\n",
      "\n",
      "Increase the number of iterations (max_iter) or scale the data as shown in:\n",
      "    https://scikit-learn.org/stable/modules/preprocessing.html\n",
      "  self.n_iter_ = _check_optimize_result(\"lbfgs\", opt_res, self.max_iter)\n"
     ]
    },
    {
     "name": "stdout",
     "output_type": "stream",
     "text": [
      "[CV] END hidden_layer_sizes=32, learning_rate_init=0.001, max_iter=2500, random_state=42, solver=lbfgs; total time=  55.0s\n"
     ]
    },
    {
     "name": "stderr",
     "output_type": "stream",
     "text": [
      "C:\\Users\\salda\\Anaconda3\\lib\\site-packages\\sklearn\\neural_network\\_multilayer_perceptron.py:500: ConvergenceWarning: lbfgs failed to converge (status=1):\n",
      "STOP: TOTAL NO. of ITERATIONS REACHED LIMIT.\n",
      "\n",
      "Increase the number of iterations (max_iter) or scale the data as shown in:\n",
      "    https://scikit-learn.org/stable/modules/preprocessing.html\n",
      "  self.n_iter_ = _check_optimize_result(\"lbfgs\", opt_res, self.max_iter)\n"
     ]
    },
    {
     "name": "stdout",
     "output_type": "stream",
     "text": [
      "[CV] END hidden_layer_sizes=32, learning_rate_init=0.001, max_iter=2500, random_state=42, solver=lbfgs; total time=  59.1s\n"
     ]
    },
    {
     "name": "stderr",
     "output_type": "stream",
     "text": [
      "C:\\Users\\salda\\Anaconda3\\lib\\site-packages\\sklearn\\neural_network\\_multilayer_perceptron.py:500: ConvergenceWarning: lbfgs failed to converge (status=1):\n",
      "STOP: TOTAL NO. of ITERATIONS REACHED LIMIT.\n",
      "\n",
      "Increase the number of iterations (max_iter) or scale the data as shown in:\n",
      "    https://scikit-learn.org/stable/modules/preprocessing.html\n",
      "  self.n_iter_ = _check_optimize_result(\"lbfgs\", opt_res, self.max_iter)\n"
     ]
    },
    {
     "name": "stdout",
     "output_type": "stream",
     "text": [
      "[CV] END hidden_layer_sizes=32, learning_rate_init=0.001, max_iter=2500, random_state=42, solver=lbfgs; total time=  58.0s\n"
     ]
    },
    {
     "name": "stderr",
     "output_type": "stream",
     "text": [
      "C:\\Users\\salda\\Anaconda3\\lib\\site-packages\\sklearn\\neural_network\\_multilayer_perceptron.py:500: ConvergenceWarning: lbfgs failed to converge (status=1):\n",
      "STOP: TOTAL NO. of ITERATIONS REACHED LIMIT.\n",
      "\n",
      "Increase the number of iterations (max_iter) or scale the data as shown in:\n",
      "    https://scikit-learn.org/stable/modules/preprocessing.html\n",
      "  self.n_iter_ = _check_optimize_result(\"lbfgs\", opt_res, self.max_iter)\n"
     ]
    },
    {
     "name": "stdout",
     "output_type": "stream",
     "text": [
      "[CV] END hidden_layer_sizes=32, learning_rate_init=0.001, max_iter=2500, random_state=42, solver=lbfgs; total time=  57.1s\n",
      "[CV] END hidden_layer_sizes=32, learning_rate_init=0.001, max_iter=2500, random_state=42, solver=adam; total time=  15.7s\n",
      "[CV] END hidden_layer_sizes=32, learning_rate_init=0.001, max_iter=2500, random_state=42, solver=adam; total time=  19.1s\n",
      "[CV] END hidden_layer_sizes=32, learning_rate_init=0.001, max_iter=2500, random_state=42, solver=adam; total time=  14.8s\n",
      "[CV] END hidden_layer_sizes=32, learning_rate_init=0.001, max_iter=2500, random_state=42, solver=adam; total time=  17.1s\n",
      "[CV] END hidden_layer_sizes=32, learning_rate_init=0.001, max_iter=2500, random_state=42, solver=adam; total time=  20.6s\n"
     ]
    },
    {
     "name": "stderr",
     "output_type": "stream",
     "text": [
      "C:\\Users\\salda\\Anaconda3\\lib\\site-packages\\sklearn\\neural_network\\_multilayer_perceptron.py:500: ConvergenceWarning: lbfgs failed to converge (status=1):\n",
      "STOP: TOTAL NO. of ITERATIONS REACHED LIMIT.\n",
      "\n",
      "Increase the number of iterations (max_iter) or scale the data as shown in:\n",
      "    https://scikit-learn.org/stable/modules/preprocessing.html\n",
      "  self.n_iter_ = _check_optimize_result(\"lbfgs\", opt_res, self.max_iter)\n"
     ]
    },
    {
     "name": "stdout",
     "output_type": "stream",
     "text": [
      "[CV] END hidden_layer_sizes=32, learning_rate_init=1e-05, max_iter=2500, random_state=42, solver=lbfgs; total time=  56.5s\n"
     ]
    },
    {
     "name": "stderr",
     "output_type": "stream",
     "text": [
      "C:\\Users\\salda\\Anaconda3\\lib\\site-packages\\sklearn\\neural_network\\_multilayer_perceptron.py:500: ConvergenceWarning: lbfgs failed to converge (status=1):\n",
      "STOP: TOTAL NO. of ITERATIONS REACHED LIMIT.\n",
      "\n",
      "Increase the number of iterations (max_iter) or scale the data as shown in:\n",
      "    https://scikit-learn.org/stable/modules/preprocessing.html\n",
      "  self.n_iter_ = _check_optimize_result(\"lbfgs\", opt_res, self.max_iter)\n"
     ]
    },
    {
     "name": "stdout",
     "output_type": "stream",
     "text": [
      "[CV] END hidden_layer_sizes=32, learning_rate_init=1e-05, max_iter=2500, random_state=42, solver=lbfgs; total time=  59.1s\n"
     ]
    },
    {
     "name": "stderr",
     "output_type": "stream",
     "text": [
      "C:\\Users\\salda\\Anaconda3\\lib\\site-packages\\sklearn\\neural_network\\_multilayer_perceptron.py:500: ConvergenceWarning: lbfgs failed to converge (status=1):\n",
      "STOP: TOTAL NO. of ITERATIONS REACHED LIMIT.\n",
      "\n",
      "Increase the number of iterations (max_iter) or scale the data as shown in:\n",
      "    https://scikit-learn.org/stable/modules/preprocessing.html\n",
      "  self.n_iter_ = _check_optimize_result(\"lbfgs\", opt_res, self.max_iter)\n"
     ]
    },
    {
     "name": "stdout",
     "output_type": "stream",
     "text": [
      "[CV] END hidden_layer_sizes=32, learning_rate_init=1e-05, max_iter=2500, random_state=42, solver=lbfgs; total time= 1.0min\n"
     ]
    },
    {
     "name": "stderr",
     "output_type": "stream",
     "text": [
      "C:\\Users\\salda\\Anaconda3\\lib\\site-packages\\sklearn\\neural_network\\_multilayer_perceptron.py:500: ConvergenceWarning: lbfgs failed to converge (status=1):\n",
      "STOP: TOTAL NO. of ITERATIONS REACHED LIMIT.\n",
      "\n",
      "Increase the number of iterations (max_iter) or scale the data as shown in:\n",
      "    https://scikit-learn.org/stable/modules/preprocessing.html\n",
      "  self.n_iter_ = _check_optimize_result(\"lbfgs\", opt_res, self.max_iter)\n"
     ]
    },
    {
     "name": "stdout",
     "output_type": "stream",
     "text": [
      "[CV] END hidden_layer_sizes=32, learning_rate_init=1e-05, max_iter=2500, random_state=42, solver=lbfgs; total time= 1.0min\n"
     ]
    },
    {
     "name": "stderr",
     "output_type": "stream",
     "text": [
      "C:\\Users\\salda\\Anaconda3\\lib\\site-packages\\sklearn\\neural_network\\_multilayer_perceptron.py:500: ConvergenceWarning: lbfgs failed to converge (status=1):\n",
      "STOP: TOTAL NO. of ITERATIONS REACHED LIMIT.\n",
      "\n",
      "Increase the number of iterations (max_iter) or scale the data as shown in:\n",
      "    https://scikit-learn.org/stable/modules/preprocessing.html\n",
      "  self.n_iter_ = _check_optimize_result(\"lbfgs\", opt_res, self.max_iter)\n"
     ]
    },
    {
     "name": "stdout",
     "output_type": "stream",
     "text": [
      "[CV] END hidden_layer_sizes=32, learning_rate_init=1e-05, max_iter=2500, random_state=42, solver=lbfgs; total time=  56.4s\n",
      "[CV] END hidden_layer_sizes=32, learning_rate_init=1e-05, max_iter=2500, random_state=42, solver=adam; total time= 1.5min\n",
      "[CV] END hidden_layer_sizes=32, learning_rate_init=1e-05, max_iter=2500, random_state=42, solver=adam; total time= 1.4min\n",
      "[CV] END hidden_layer_sizes=32, learning_rate_init=1e-05, max_iter=2500, random_state=42, solver=adam; total time= 1.5min\n",
      "[CV] END hidden_layer_sizes=32, learning_rate_init=1e-05, max_iter=2500, random_state=42, solver=adam; total time= 1.6min\n",
      "[CV] END hidden_layer_sizes=32, learning_rate_init=1e-05, max_iter=2500, random_state=42, solver=adam; total time= 1.4min\n"
     ]
    },
    {
     "name": "stderr",
     "output_type": "stream",
     "text": [
      "C:\\Users\\salda\\Anaconda3\\lib\\site-packages\\sklearn\\neural_network\\_multilayer_perceptron.py:500: ConvergenceWarning: lbfgs failed to converge (status=1):\n",
      "STOP: TOTAL NO. of ITERATIONS REACHED LIMIT.\n",
      "\n",
      "Increase the number of iterations (max_iter) or scale the data as shown in:\n",
      "    https://scikit-learn.org/stable/modules/preprocessing.html\n",
      "  self.n_iter_ = _check_optimize_result(\"lbfgs\", opt_res, self.max_iter)\n"
     ]
    },
    {
     "name": "stdout",
     "output_type": "stream",
     "text": [
      "[CV] END hidden_layer_sizes=33, learning_rate_init=0.1, max_iter=2500, random_state=42, solver=lbfgs; total time= 1.0min\n"
     ]
    },
    {
     "name": "stderr",
     "output_type": "stream",
     "text": [
      "C:\\Users\\salda\\Anaconda3\\lib\\site-packages\\sklearn\\neural_network\\_multilayer_perceptron.py:500: ConvergenceWarning: lbfgs failed to converge (status=1):\n",
      "STOP: TOTAL NO. of ITERATIONS REACHED LIMIT.\n",
      "\n",
      "Increase the number of iterations (max_iter) or scale the data as shown in:\n",
      "    https://scikit-learn.org/stable/modules/preprocessing.html\n",
      "  self.n_iter_ = _check_optimize_result(\"lbfgs\", opt_res, self.max_iter)\n"
     ]
    },
    {
     "name": "stdout",
     "output_type": "stream",
     "text": [
      "[CV] END hidden_layer_sizes=33, learning_rate_init=0.1, max_iter=2500, random_state=42, solver=lbfgs; total time= 1.0min\n"
     ]
    },
    {
     "name": "stderr",
     "output_type": "stream",
     "text": [
      "C:\\Users\\salda\\Anaconda3\\lib\\site-packages\\sklearn\\neural_network\\_multilayer_perceptron.py:500: ConvergenceWarning: lbfgs failed to converge (status=1):\n",
      "STOP: TOTAL NO. of ITERATIONS REACHED LIMIT.\n",
      "\n",
      "Increase the number of iterations (max_iter) or scale the data as shown in:\n",
      "    https://scikit-learn.org/stable/modules/preprocessing.html\n",
      "  self.n_iter_ = _check_optimize_result(\"lbfgs\", opt_res, self.max_iter)\n"
     ]
    },
    {
     "name": "stdout",
     "output_type": "stream",
     "text": [
      "[CV] END hidden_layer_sizes=33, learning_rate_init=0.1, max_iter=2500, random_state=42, solver=lbfgs; total time= 1.0min\n"
     ]
    },
    {
     "name": "stderr",
     "output_type": "stream",
     "text": [
      "C:\\Users\\salda\\Anaconda3\\lib\\site-packages\\sklearn\\neural_network\\_multilayer_perceptron.py:500: ConvergenceWarning: lbfgs failed to converge (status=1):\n",
      "STOP: TOTAL NO. of ITERATIONS REACHED LIMIT.\n",
      "\n",
      "Increase the number of iterations (max_iter) or scale the data as shown in:\n",
      "    https://scikit-learn.org/stable/modules/preprocessing.html\n",
      "  self.n_iter_ = _check_optimize_result(\"lbfgs\", opt_res, self.max_iter)\n"
     ]
    },
    {
     "name": "stdout",
     "output_type": "stream",
     "text": [
      "[CV] END hidden_layer_sizes=33, learning_rate_init=0.1, max_iter=2500, random_state=42, solver=lbfgs; total time= 1.0min\n"
     ]
    },
    {
     "name": "stderr",
     "output_type": "stream",
     "text": [
      "C:\\Users\\salda\\Anaconda3\\lib\\site-packages\\sklearn\\neural_network\\_multilayer_perceptron.py:500: ConvergenceWarning: lbfgs failed to converge (status=1):\n",
      "STOP: TOTAL NO. of ITERATIONS REACHED LIMIT.\n",
      "\n",
      "Increase the number of iterations (max_iter) or scale the data as shown in:\n",
      "    https://scikit-learn.org/stable/modules/preprocessing.html\n",
      "  self.n_iter_ = _check_optimize_result(\"lbfgs\", opt_res, self.max_iter)\n"
     ]
    },
    {
     "name": "stdout",
     "output_type": "stream",
     "text": [
      "[CV] END hidden_layer_sizes=33, learning_rate_init=0.1, max_iter=2500, random_state=42, solver=lbfgs; total time=  58.9s\n",
      "[CV] END hidden_layer_sizes=33, learning_rate_init=0.1, max_iter=2500, random_state=42, solver=adam; total time=   1.2s\n",
      "[CV] END hidden_layer_sizes=33, learning_rate_init=0.1, max_iter=2500, random_state=42, solver=adam; total time=   2.3s\n",
      "[CV] END hidden_layer_sizes=33, learning_rate_init=0.1, max_iter=2500, random_state=42, solver=adam; total time=   2.6s\n",
      "[CV] END hidden_layer_sizes=33, learning_rate_init=0.1, max_iter=2500, random_state=42, solver=adam; total time=   0.8s\n",
      "[CV] END hidden_layer_sizes=33, learning_rate_init=0.1, max_iter=2500, random_state=42, solver=adam; total time=   3.5s\n"
     ]
    },
    {
     "name": "stderr",
     "output_type": "stream",
     "text": [
      "C:\\Users\\salda\\Anaconda3\\lib\\site-packages\\sklearn\\neural_network\\_multilayer_perceptron.py:500: ConvergenceWarning: lbfgs failed to converge (status=1):\n",
      "STOP: TOTAL NO. of ITERATIONS REACHED LIMIT.\n",
      "\n",
      "Increase the number of iterations (max_iter) or scale the data as shown in:\n",
      "    https://scikit-learn.org/stable/modules/preprocessing.html\n",
      "  self.n_iter_ = _check_optimize_result(\"lbfgs\", opt_res, self.max_iter)\n"
     ]
    },
    {
     "name": "stdout",
     "output_type": "stream",
     "text": [
      "[CV] END hidden_layer_sizes=33, learning_rate_init=0.001, max_iter=2500, random_state=42, solver=lbfgs; total time= 1.0min\n"
     ]
    },
    {
     "name": "stderr",
     "output_type": "stream",
     "text": [
      "C:\\Users\\salda\\Anaconda3\\lib\\site-packages\\sklearn\\neural_network\\_multilayer_perceptron.py:500: ConvergenceWarning: lbfgs failed to converge (status=1):\n",
      "STOP: TOTAL NO. of ITERATIONS REACHED LIMIT.\n",
      "\n",
      "Increase the number of iterations (max_iter) or scale the data as shown in:\n",
      "    https://scikit-learn.org/stable/modules/preprocessing.html\n",
      "  self.n_iter_ = _check_optimize_result(\"lbfgs\", opt_res, self.max_iter)\n"
     ]
    },
    {
     "name": "stdout",
     "output_type": "stream",
     "text": [
      "[CV] END hidden_layer_sizes=33, learning_rate_init=0.001, max_iter=2500, random_state=42, solver=lbfgs; total time=  59.9s\n"
     ]
    },
    {
     "name": "stderr",
     "output_type": "stream",
     "text": [
      "C:\\Users\\salda\\Anaconda3\\lib\\site-packages\\sklearn\\neural_network\\_multilayer_perceptron.py:500: ConvergenceWarning: lbfgs failed to converge (status=1):\n",
      "STOP: TOTAL NO. of ITERATIONS REACHED LIMIT.\n",
      "\n",
      "Increase the number of iterations (max_iter) or scale the data as shown in:\n",
      "    https://scikit-learn.org/stable/modules/preprocessing.html\n",
      "  self.n_iter_ = _check_optimize_result(\"lbfgs\", opt_res, self.max_iter)\n"
     ]
    },
    {
     "name": "stdout",
     "output_type": "stream",
     "text": [
      "[CV] END hidden_layer_sizes=33, learning_rate_init=0.001, max_iter=2500, random_state=42, solver=lbfgs; total time= 1.0min\n"
     ]
    },
    {
     "name": "stderr",
     "output_type": "stream",
     "text": [
      "C:\\Users\\salda\\Anaconda3\\lib\\site-packages\\sklearn\\neural_network\\_multilayer_perceptron.py:500: ConvergenceWarning: lbfgs failed to converge (status=1):\n",
      "STOP: TOTAL NO. of ITERATIONS REACHED LIMIT.\n",
      "\n",
      "Increase the number of iterations (max_iter) or scale the data as shown in:\n",
      "    https://scikit-learn.org/stable/modules/preprocessing.html\n",
      "  self.n_iter_ = _check_optimize_result(\"lbfgs\", opt_res, self.max_iter)\n"
     ]
    },
    {
     "name": "stdout",
     "output_type": "stream",
     "text": [
      "[CV] END hidden_layer_sizes=33, learning_rate_init=0.001, max_iter=2500, random_state=42, solver=lbfgs; total time=  59.8s\n"
     ]
    },
    {
     "name": "stderr",
     "output_type": "stream",
     "text": [
      "C:\\Users\\salda\\Anaconda3\\lib\\site-packages\\sklearn\\neural_network\\_multilayer_perceptron.py:500: ConvergenceWarning: lbfgs failed to converge (status=1):\n",
      "STOP: TOTAL NO. of ITERATIONS REACHED LIMIT.\n",
      "\n",
      "Increase the number of iterations (max_iter) or scale the data as shown in:\n",
      "    https://scikit-learn.org/stable/modules/preprocessing.html\n",
      "  self.n_iter_ = _check_optimize_result(\"lbfgs\", opt_res, self.max_iter)\n"
     ]
    },
    {
     "name": "stdout",
     "output_type": "stream",
     "text": [
      "[CV] END hidden_layer_sizes=33, learning_rate_init=0.001, max_iter=2500, random_state=42, solver=lbfgs; total time= 1.0min\n",
      "[CV] END hidden_layer_sizes=33, learning_rate_init=0.001, max_iter=2500, random_state=42, solver=adam; total time=  17.4s\n",
      "[CV] END hidden_layer_sizes=33, learning_rate_init=0.001, max_iter=2500, random_state=42, solver=adam; total time=  14.1s\n",
      "[CV] END hidden_layer_sizes=33, learning_rate_init=0.001, max_iter=2500, random_state=42, solver=adam; total time=  17.5s\n",
      "[CV] END hidden_layer_sizes=33, learning_rate_init=0.001, max_iter=2500, random_state=42, solver=adam; total time=  20.6s\n",
      "[CV] END hidden_layer_sizes=33, learning_rate_init=0.001, max_iter=2500, random_state=42, solver=adam; total time=  17.9s\n"
     ]
    },
    {
     "name": "stderr",
     "output_type": "stream",
     "text": [
      "C:\\Users\\salda\\Anaconda3\\lib\\site-packages\\sklearn\\neural_network\\_multilayer_perceptron.py:500: ConvergenceWarning: lbfgs failed to converge (status=1):\n",
      "STOP: TOTAL NO. of ITERATIONS REACHED LIMIT.\n",
      "\n",
      "Increase the number of iterations (max_iter) or scale the data as shown in:\n",
      "    https://scikit-learn.org/stable/modules/preprocessing.html\n",
      "  self.n_iter_ = _check_optimize_result(\"lbfgs\", opt_res, self.max_iter)\n"
     ]
    },
    {
     "name": "stdout",
     "output_type": "stream",
     "text": [
      "[CV] END hidden_layer_sizes=33, learning_rate_init=1e-05, max_iter=2500, random_state=42, solver=lbfgs; total time= 1.0min\n"
     ]
    },
    {
     "name": "stderr",
     "output_type": "stream",
     "text": [
      "C:\\Users\\salda\\Anaconda3\\lib\\site-packages\\sklearn\\neural_network\\_multilayer_perceptron.py:500: ConvergenceWarning: lbfgs failed to converge (status=1):\n",
      "STOP: TOTAL NO. of ITERATIONS REACHED LIMIT.\n",
      "\n",
      "Increase the number of iterations (max_iter) or scale the data as shown in:\n",
      "    https://scikit-learn.org/stable/modules/preprocessing.html\n",
      "  self.n_iter_ = _check_optimize_result(\"lbfgs\", opt_res, self.max_iter)\n"
     ]
    },
    {
     "name": "stdout",
     "output_type": "stream",
     "text": [
      "[CV] END hidden_layer_sizes=33, learning_rate_init=1e-05, max_iter=2500, random_state=42, solver=lbfgs; total time= 1.0min\n"
     ]
    },
    {
     "name": "stderr",
     "output_type": "stream",
     "text": [
      "C:\\Users\\salda\\Anaconda3\\lib\\site-packages\\sklearn\\neural_network\\_multilayer_perceptron.py:500: ConvergenceWarning: lbfgs failed to converge (status=1):\n",
      "STOP: TOTAL NO. of ITERATIONS REACHED LIMIT.\n",
      "\n",
      "Increase the number of iterations (max_iter) or scale the data as shown in:\n",
      "    https://scikit-learn.org/stable/modules/preprocessing.html\n",
      "  self.n_iter_ = _check_optimize_result(\"lbfgs\", opt_res, self.max_iter)\n"
     ]
    },
    {
     "name": "stdout",
     "output_type": "stream",
     "text": [
      "[CV] END hidden_layer_sizes=33, learning_rate_init=1e-05, max_iter=2500, random_state=42, solver=lbfgs; total time=  59.8s\n"
     ]
    },
    {
     "name": "stderr",
     "output_type": "stream",
     "text": [
      "C:\\Users\\salda\\Anaconda3\\lib\\site-packages\\sklearn\\neural_network\\_multilayer_perceptron.py:500: ConvergenceWarning: lbfgs failed to converge (status=1):\n",
      "STOP: TOTAL NO. of ITERATIONS REACHED LIMIT.\n",
      "\n",
      "Increase the number of iterations (max_iter) or scale the data as shown in:\n",
      "    https://scikit-learn.org/stable/modules/preprocessing.html\n",
      "  self.n_iter_ = _check_optimize_result(\"lbfgs\", opt_res, self.max_iter)\n"
     ]
    },
    {
     "name": "stdout",
     "output_type": "stream",
     "text": [
      "[CV] END hidden_layer_sizes=33, learning_rate_init=1e-05, max_iter=2500, random_state=42, solver=lbfgs; total time= 1.0min\n"
     ]
    },
    {
     "name": "stderr",
     "output_type": "stream",
     "text": [
      "C:\\Users\\salda\\Anaconda3\\lib\\site-packages\\sklearn\\neural_network\\_multilayer_perceptron.py:500: ConvergenceWarning: lbfgs failed to converge (status=1):\n",
      "STOP: TOTAL NO. of ITERATIONS REACHED LIMIT.\n",
      "\n",
      "Increase the number of iterations (max_iter) or scale the data as shown in:\n",
      "    https://scikit-learn.org/stable/modules/preprocessing.html\n",
      "  self.n_iter_ = _check_optimize_result(\"lbfgs\", opt_res, self.max_iter)\n"
     ]
    },
    {
     "name": "stdout",
     "output_type": "stream",
     "text": [
      "[CV] END hidden_layer_sizes=33, learning_rate_init=1e-05, max_iter=2500, random_state=42, solver=lbfgs; total time=  58.8s\n",
      "[CV] END hidden_layer_sizes=33, learning_rate_init=1e-05, max_iter=2500, random_state=42, solver=adam; total time= 2.7min\n",
      "[CV] END hidden_layer_sizes=33, learning_rate_init=1e-05, max_iter=2500, random_state=42, solver=adam; total time= 3.2min\n",
      "[CV] END hidden_layer_sizes=33, learning_rate_init=1e-05, max_iter=2500, random_state=42, solver=adam; total time= 3.2min\n",
      "[CV] END hidden_layer_sizes=33, learning_rate_init=1e-05, max_iter=2500, random_state=42, solver=adam; total time= 3.1min\n",
      "[CV] END hidden_layer_sizes=33, learning_rate_init=1e-05, max_iter=2500, random_state=42, solver=adam; total time= 3.0min\n"
     ]
    },
    {
     "name": "stderr",
     "output_type": "stream",
     "text": [
      "C:\\Users\\salda\\Anaconda3\\lib\\site-packages\\sklearn\\neural_network\\_multilayer_perceptron.py:500: ConvergenceWarning: lbfgs failed to converge (status=1):\n",
      "STOP: TOTAL NO. of ITERATIONS REACHED LIMIT.\n",
      "\n",
      "Increase the number of iterations (max_iter) or scale the data as shown in:\n",
      "    https://scikit-learn.org/stable/modules/preprocessing.html\n",
      "  self.n_iter_ = _check_optimize_result(\"lbfgs\", opt_res, self.max_iter)\n"
     ]
    },
    {
     "name": "stdout",
     "output_type": "stream",
     "text": [
      "[CV] END hidden_layer_sizes=34, learning_rate_init=0.1, max_iter=2500, random_state=42, solver=lbfgs; total time= 1.9min\n"
     ]
    },
    {
     "name": "stderr",
     "output_type": "stream",
     "text": [
      "C:\\Users\\salda\\Anaconda3\\lib\\site-packages\\sklearn\\neural_network\\_multilayer_perceptron.py:500: ConvergenceWarning: lbfgs failed to converge (status=1):\n",
      "STOP: TOTAL NO. of ITERATIONS REACHED LIMIT.\n",
      "\n",
      "Increase the number of iterations (max_iter) or scale the data as shown in:\n",
      "    https://scikit-learn.org/stable/modules/preprocessing.html\n",
      "  self.n_iter_ = _check_optimize_result(\"lbfgs\", opt_res, self.max_iter)\n"
     ]
    },
    {
     "name": "stdout",
     "output_type": "stream",
     "text": [
      "[CV] END hidden_layer_sizes=34, learning_rate_init=0.1, max_iter=2500, random_state=42, solver=lbfgs; total time= 1.9min\n"
     ]
    },
    {
     "name": "stderr",
     "output_type": "stream",
     "text": [
      "C:\\Users\\salda\\Anaconda3\\lib\\site-packages\\sklearn\\neural_network\\_multilayer_perceptron.py:500: ConvergenceWarning: lbfgs failed to converge (status=1):\n",
      "STOP: TOTAL NO. of ITERATIONS REACHED LIMIT.\n",
      "\n",
      "Increase the number of iterations (max_iter) or scale the data as shown in:\n",
      "    https://scikit-learn.org/stable/modules/preprocessing.html\n",
      "  self.n_iter_ = _check_optimize_result(\"lbfgs\", opt_res, self.max_iter)\n"
     ]
    },
    {
     "name": "stdout",
     "output_type": "stream",
     "text": [
      "[CV] END hidden_layer_sizes=34, learning_rate_init=0.1, max_iter=2500, random_state=42, solver=lbfgs; total time= 1.9min\n"
     ]
    },
    {
     "name": "stderr",
     "output_type": "stream",
     "text": [
      "C:\\Users\\salda\\Anaconda3\\lib\\site-packages\\sklearn\\neural_network\\_multilayer_perceptron.py:500: ConvergenceWarning: lbfgs failed to converge (status=1):\n",
      "STOP: TOTAL NO. of ITERATIONS REACHED LIMIT.\n",
      "\n",
      "Increase the number of iterations (max_iter) or scale the data as shown in:\n",
      "    https://scikit-learn.org/stable/modules/preprocessing.html\n",
      "  self.n_iter_ = _check_optimize_result(\"lbfgs\", opt_res, self.max_iter)\n"
     ]
    },
    {
     "name": "stdout",
     "output_type": "stream",
     "text": [
      "[CV] END hidden_layer_sizes=34, learning_rate_init=0.1, max_iter=2500, random_state=42, solver=lbfgs; total time= 1.9min\n"
     ]
    },
    {
     "name": "stderr",
     "output_type": "stream",
     "text": [
      "C:\\Users\\salda\\Anaconda3\\lib\\site-packages\\sklearn\\neural_network\\_multilayer_perceptron.py:500: ConvergenceWarning: lbfgs failed to converge (status=1):\n",
      "STOP: TOTAL NO. of ITERATIONS REACHED LIMIT.\n",
      "\n",
      "Increase the number of iterations (max_iter) or scale the data as shown in:\n",
      "    https://scikit-learn.org/stable/modules/preprocessing.html\n",
      "  self.n_iter_ = _check_optimize_result(\"lbfgs\", opt_res, self.max_iter)\n"
     ]
    },
    {
     "name": "stdout",
     "output_type": "stream",
     "text": [
      "[CV] END hidden_layer_sizes=34, learning_rate_init=0.1, max_iter=2500, random_state=42, solver=lbfgs; total time= 1.9min\n",
      "[CV] END hidden_layer_sizes=34, learning_rate_init=0.1, max_iter=2500, random_state=42, solver=adam; total time=   6.9s\n",
      "[CV] END hidden_layer_sizes=34, learning_rate_init=0.1, max_iter=2500, random_state=42, solver=adam; total time=   3.7s\n",
      "[CV] END hidden_layer_sizes=34, learning_rate_init=0.1, max_iter=2500, random_state=42, solver=adam; total time=   6.8s\n",
      "[CV] END hidden_layer_sizes=34, learning_rate_init=0.1, max_iter=2500, random_state=42, solver=adam; total time=   9.9s\n",
      "[CV] END hidden_layer_sizes=34, learning_rate_init=0.1, max_iter=2500, random_state=42, solver=adam; total time=   4.1s\n"
     ]
    },
    {
     "name": "stderr",
     "output_type": "stream",
     "text": [
      "C:\\Users\\salda\\Anaconda3\\lib\\site-packages\\sklearn\\neural_network\\_multilayer_perceptron.py:500: ConvergenceWarning: lbfgs failed to converge (status=1):\n",
      "STOP: TOTAL NO. of ITERATIONS REACHED LIMIT.\n",
      "\n",
      "Increase the number of iterations (max_iter) or scale the data as shown in:\n",
      "    https://scikit-learn.org/stable/modules/preprocessing.html\n",
      "  self.n_iter_ = _check_optimize_result(\"lbfgs\", opt_res, self.max_iter)\n"
     ]
    },
    {
     "name": "stdout",
     "output_type": "stream",
     "text": [
      "[CV] END hidden_layer_sizes=34, learning_rate_init=0.001, max_iter=2500, random_state=42, solver=lbfgs; total time=45.7min\n",
      "[CV] END hidden_layer_sizes=34, learning_rate_init=0.001, max_iter=2500, random_state=42, solver=lbfgs; total time= 1.2min\n"
     ]
    },
    {
     "name": "stderr",
     "output_type": "stream",
     "text": [
      "C:\\Users\\salda\\Anaconda3\\lib\\site-packages\\sklearn\\neural_network\\_multilayer_perceptron.py:500: ConvergenceWarning: lbfgs failed to converge (status=1):\n",
      "STOP: TOTAL NO. of ITERATIONS REACHED LIMIT.\n",
      "\n",
      "Increase the number of iterations (max_iter) or scale the data as shown in:\n",
      "    https://scikit-learn.org/stable/modules/preprocessing.html\n",
      "  self.n_iter_ = _check_optimize_result(\"lbfgs\", opt_res, self.max_iter)\n",
      "C:\\Users\\salda\\Anaconda3\\lib\\site-packages\\sklearn\\neural_network\\_multilayer_perceptron.py:500: ConvergenceWarning: lbfgs failed to converge (status=1):\n",
      "STOP: TOTAL NO. of ITERATIONS REACHED LIMIT.\n",
      "\n",
      "Increase the number of iterations (max_iter) or scale the data as shown in:\n",
      "    https://scikit-learn.org/stable/modules/preprocessing.html\n",
      "  self.n_iter_ = _check_optimize_result(\"lbfgs\", opt_res, self.max_iter)\n"
     ]
    },
    {
     "name": "stdout",
     "output_type": "stream",
     "text": [
      "[CV] END hidden_layer_sizes=34, learning_rate_init=0.001, max_iter=2500, random_state=42, solver=lbfgs; total time= 1.5min\n"
     ]
    },
    {
     "name": "stderr",
     "output_type": "stream",
     "text": [
      "C:\\Users\\salda\\Anaconda3\\lib\\site-packages\\sklearn\\neural_network\\_multilayer_perceptron.py:500: ConvergenceWarning: lbfgs failed to converge (status=1):\n",
      "STOP: TOTAL NO. of ITERATIONS REACHED LIMIT.\n",
      "\n",
      "Increase the number of iterations (max_iter) or scale the data as shown in:\n",
      "    https://scikit-learn.org/stable/modules/preprocessing.html\n",
      "  self.n_iter_ = _check_optimize_result(\"lbfgs\", opt_res, self.max_iter)\n"
     ]
    },
    {
     "name": "stdout",
     "output_type": "stream",
     "text": [
      "[CV] END hidden_layer_sizes=34, learning_rate_init=0.001, max_iter=2500, random_state=42, solver=lbfgs; total time= 1.3min\n"
     ]
    },
    {
     "name": "stderr",
     "output_type": "stream",
     "text": [
      "C:\\Users\\salda\\Anaconda3\\lib\\site-packages\\sklearn\\neural_network\\_multilayer_perceptron.py:500: ConvergenceWarning: lbfgs failed to converge (status=1):\n",
      "STOP: TOTAL NO. of ITERATIONS REACHED LIMIT.\n",
      "\n",
      "Increase the number of iterations (max_iter) or scale the data as shown in:\n",
      "    https://scikit-learn.org/stable/modules/preprocessing.html\n",
      "  self.n_iter_ = _check_optimize_result(\"lbfgs\", opt_res, self.max_iter)\n"
     ]
    },
    {
     "name": "stdout",
     "output_type": "stream",
     "text": [
      "[CV] END hidden_layer_sizes=34, learning_rate_init=0.001, max_iter=2500, random_state=42, solver=lbfgs; total time= 1.1min\n",
      "[CV] END hidden_layer_sizes=34, learning_rate_init=0.001, max_iter=2500, random_state=42, solver=adam; total time=  25.0s\n",
      "[CV] END hidden_layer_sizes=34, learning_rate_init=0.001, max_iter=2500, random_state=42, solver=adam; total time=  17.2s\n",
      "[CV] END hidden_layer_sizes=34, learning_rate_init=0.001, max_iter=2500, random_state=42, solver=adam; total time=  17.4s\n",
      "[CV] END hidden_layer_sizes=34, learning_rate_init=0.001, max_iter=2500, random_state=42, solver=adam; total time=  13.8s\n",
      "[CV] END hidden_layer_sizes=34, learning_rate_init=0.001, max_iter=2500, random_state=42, solver=adam; total time=  14.2s\n"
     ]
    },
    {
     "name": "stderr",
     "output_type": "stream",
     "text": [
      "C:\\Users\\salda\\Anaconda3\\lib\\site-packages\\sklearn\\neural_network\\_multilayer_perceptron.py:500: ConvergenceWarning: lbfgs failed to converge (status=1):\n",
      "STOP: TOTAL NO. of ITERATIONS REACHED LIMIT.\n",
      "\n",
      "Increase the number of iterations (max_iter) or scale the data as shown in:\n",
      "    https://scikit-learn.org/stable/modules/preprocessing.html\n",
      "  self.n_iter_ = _check_optimize_result(\"lbfgs\", opt_res, self.max_iter)\n"
     ]
    },
    {
     "name": "stdout",
     "output_type": "stream",
     "text": [
      "[CV] END hidden_layer_sizes=34, learning_rate_init=1e-05, max_iter=2500, random_state=42, solver=lbfgs; total time= 1.0min\n"
     ]
    },
    {
     "name": "stderr",
     "output_type": "stream",
     "text": [
      "C:\\Users\\salda\\Anaconda3\\lib\\site-packages\\sklearn\\neural_network\\_multilayer_perceptron.py:500: ConvergenceWarning: lbfgs failed to converge (status=1):\n",
      "STOP: TOTAL NO. of ITERATIONS REACHED LIMIT.\n",
      "\n",
      "Increase the number of iterations (max_iter) or scale the data as shown in:\n",
      "    https://scikit-learn.org/stable/modules/preprocessing.html\n",
      "  self.n_iter_ = _check_optimize_result(\"lbfgs\", opt_res, self.max_iter)\n"
     ]
    },
    {
     "name": "stdout",
     "output_type": "stream",
     "text": [
      "[CV] END hidden_layer_sizes=34, learning_rate_init=1e-05, max_iter=2500, random_state=42, solver=lbfgs; total time= 1.1min\n"
     ]
    },
    {
     "name": "stderr",
     "output_type": "stream",
     "text": [
      "C:\\Users\\salda\\Anaconda3\\lib\\site-packages\\sklearn\\neural_network\\_multilayer_perceptron.py:500: ConvergenceWarning: lbfgs failed to converge (status=1):\n",
      "STOP: TOTAL NO. of ITERATIONS REACHED LIMIT.\n",
      "\n",
      "Increase the number of iterations (max_iter) or scale the data as shown in:\n",
      "    https://scikit-learn.org/stable/modules/preprocessing.html\n",
      "  self.n_iter_ = _check_optimize_result(\"lbfgs\", opt_res, self.max_iter)\n"
     ]
    },
    {
     "name": "stdout",
     "output_type": "stream",
     "text": [
      "[CV] END hidden_layer_sizes=34, learning_rate_init=1e-05, max_iter=2500, random_state=42, solver=lbfgs; total time= 1.1min\n"
     ]
    },
    {
     "name": "stderr",
     "output_type": "stream",
     "text": [
      "C:\\Users\\salda\\Anaconda3\\lib\\site-packages\\sklearn\\neural_network\\_multilayer_perceptron.py:500: ConvergenceWarning: lbfgs failed to converge (status=1):\n",
      "STOP: TOTAL NO. of ITERATIONS REACHED LIMIT.\n",
      "\n",
      "Increase the number of iterations (max_iter) or scale the data as shown in:\n",
      "    https://scikit-learn.org/stable/modules/preprocessing.html\n",
      "  self.n_iter_ = _check_optimize_result(\"lbfgs\", opt_res, self.max_iter)\n"
     ]
    },
    {
     "name": "stdout",
     "output_type": "stream",
     "text": [
      "[CV] END hidden_layer_sizes=34, learning_rate_init=1e-05, max_iter=2500, random_state=42, solver=lbfgs; total time= 1.0min\n"
     ]
    },
    {
     "name": "stderr",
     "output_type": "stream",
     "text": [
      "C:\\Users\\salda\\Anaconda3\\lib\\site-packages\\sklearn\\neural_network\\_multilayer_perceptron.py:500: ConvergenceWarning: lbfgs failed to converge (status=1):\n",
      "STOP: TOTAL NO. of ITERATIONS REACHED LIMIT.\n",
      "\n",
      "Increase the number of iterations (max_iter) or scale the data as shown in:\n",
      "    https://scikit-learn.org/stable/modules/preprocessing.html\n",
      "  self.n_iter_ = _check_optimize_result(\"lbfgs\", opt_res, self.max_iter)\n"
     ]
    },
    {
     "name": "stdout",
     "output_type": "stream",
     "text": [
      "[CV] END hidden_layer_sizes=34, learning_rate_init=1e-05, max_iter=2500, random_state=42, solver=lbfgs; total time= 1.1min\n",
      "[CV] END hidden_layer_sizes=34, learning_rate_init=1e-05, max_iter=2500, random_state=42, solver=adam; total time= 1.3min\n",
      "[CV] END hidden_layer_sizes=34, learning_rate_init=1e-05, max_iter=2500, random_state=42, solver=adam; total time= 1.4min\n",
      "[CV] END hidden_layer_sizes=34, learning_rate_init=1e-05, max_iter=2500, random_state=42, solver=adam; total time= 1.5min\n",
      "[CV] END hidden_layer_sizes=34, learning_rate_init=1e-05, max_iter=2500, random_state=42, solver=adam; total time= 1.4min\n",
      "[CV] END hidden_layer_sizes=34, learning_rate_init=1e-05, max_iter=2500, random_state=42, solver=adam; total time= 1.4min\n"
     ]
    },
    {
     "name": "stderr",
     "output_type": "stream",
     "text": [
      "C:\\Users\\salda\\Anaconda3\\lib\\site-packages\\sklearn\\neural_network\\_multilayer_perceptron.py:500: ConvergenceWarning: lbfgs failed to converge (status=1):\n",
      "STOP: TOTAL NO. of ITERATIONS REACHED LIMIT.\n",
      "\n",
      "Increase the number of iterations (max_iter) or scale the data as shown in:\n",
      "    https://scikit-learn.org/stable/modules/preprocessing.html\n",
      "  self.n_iter_ = _check_optimize_result(\"lbfgs\", opt_res, self.max_iter)\n"
     ]
    },
    {
     "name": "stdout",
     "output_type": "stream",
     "text": [
      "[CV] END hidden_layer_sizes=35, learning_rate_init=0.1, max_iter=2500, random_state=42, solver=lbfgs; total time= 1.1min\n"
     ]
    },
    {
     "name": "stderr",
     "output_type": "stream",
     "text": [
      "C:\\Users\\salda\\Anaconda3\\lib\\site-packages\\sklearn\\neural_network\\_multilayer_perceptron.py:500: ConvergenceWarning: lbfgs failed to converge (status=1):\n",
      "STOP: TOTAL NO. of ITERATIONS REACHED LIMIT.\n",
      "\n",
      "Increase the number of iterations (max_iter) or scale the data as shown in:\n",
      "    https://scikit-learn.org/stable/modules/preprocessing.html\n",
      "  self.n_iter_ = _check_optimize_result(\"lbfgs\", opt_res, self.max_iter)\n"
     ]
    },
    {
     "name": "stdout",
     "output_type": "stream",
     "text": [
      "[CV] END hidden_layer_sizes=35, learning_rate_init=0.1, max_iter=2500, random_state=42, solver=lbfgs; total time= 1.1min\n"
     ]
    },
    {
     "name": "stderr",
     "output_type": "stream",
     "text": [
      "C:\\Users\\salda\\Anaconda3\\lib\\site-packages\\sklearn\\neural_network\\_multilayer_perceptron.py:500: ConvergenceWarning: lbfgs failed to converge (status=1):\n",
      "STOP: TOTAL NO. of ITERATIONS REACHED LIMIT.\n",
      "\n",
      "Increase the number of iterations (max_iter) or scale the data as shown in:\n",
      "    https://scikit-learn.org/stable/modules/preprocessing.html\n",
      "  self.n_iter_ = _check_optimize_result(\"lbfgs\", opt_res, self.max_iter)\n"
     ]
    },
    {
     "name": "stdout",
     "output_type": "stream",
     "text": [
      "[CV] END hidden_layer_sizes=35, learning_rate_init=0.1, max_iter=2500, random_state=42, solver=lbfgs; total time= 1.1min\n"
     ]
    },
    {
     "name": "stderr",
     "output_type": "stream",
     "text": [
      "C:\\Users\\salda\\Anaconda3\\lib\\site-packages\\sklearn\\neural_network\\_multilayer_perceptron.py:500: ConvergenceWarning: lbfgs failed to converge (status=1):\n",
      "STOP: TOTAL NO. of ITERATIONS REACHED LIMIT.\n",
      "\n",
      "Increase the number of iterations (max_iter) or scale the data as shown in:\n",
      "    https://scikit-learn.org/stable/modules/preprocessing.html\n",
      "  self.n_iter_ = _check_optimize_result(\"lbfgs\", opt_res, self.max_iter)\n"
     ]
    },
    {
     "name": "stdout",
     "output_type": "stream",
     "text": [
      "[CV] END hidden_layer_sizes=35, learning_rate_init=0.1, max_iter=2500, random_state=42, solver=lbfgs; total time= 1.1min\n"
     ]
    },
    {
     "name": "stderr",
     "output_type": "stream",
     "text": [
      "C:\\Users\\salda\\Anaconda3\\lib\\site-packages\\sklearn\\neural_network\\_multilayer_perceptron.py:500: ConvergenceWarning: lbfgs failed to converge (status=1):\n",
      "STOP: TOTAL NO. of ITERATIONS REACHED LIMIT.\n",
      "\n",
      "Increase the number of iterations (max_iter) or scale the data as shown in:\n",
      "    https://scikit-learn.org/stable/modules/preprocessing.html\n",
      "  self.n_iter_ = _check_optimize_result(\"lbfgs\", opt_res, self.max_iter)\n"
     ]
    },
    {
     "name": "stdout",
     "output_type": "stream",
     "text": [
      "[CV] END hidden_layer_sizes=35, learning_rate_init=0.1, max_iter=2500, random_state=42, solver=lbfgs; total time= 1.1min\n",
      "[CV] END hidden_layer_sizes=35, learning_rate_init=0.1, max_iter=2500, random_state=42, solver=adam; total time=   4.4s\n",
      "[CV] END hidden_layer_sizes=35, learning_rate_init=0.1, max_iter=2500, random_state=42, solver=adam; total time=   4.0s\n",
      "[CV] END hidden_layer_sizes=35, learning_rate_init=0.1, max_iter=2500, random_state=42, solver=adam; total time=   2.2s\n",
      "[CV] END hidden_layer_sizes=35, learning_rate_init=0.1, max_iter=2500, random_state=42, solver=adam; total time=   3.7s\n",
      "[CV] END hidden_layer_sizes=35, learning_rate_init=0.1, max_iter=2500, random_state=42, solver=adam; total time=   2.7s\n"
     ]
    },
    {
     "name": "stderr",
     "output_type": "stream",
     "text": [
      "C:\\Users\\salda\\Anaconda3\\lib\\site-packages\\sklearn\\neural_network\\_multilayer_perceptron.py:500: ConvergenceWarning: lbfgs failed to converge (status=1):\n",
      "STOP: TOTAL NO. of ITERATIONS REACHED LIMIT.\n",
      "\n",
      "Increase the number of iterations (max_iter) or scale the data as shown in:\n",
      "    https://scikit-learn.org/stable/modules/preprocessing.html\n",
      "  self.n_iter_ = _check_optimize_result(\"lbfgs\", opt_res, self.max_iter)\n"
     ]
    },
    {
     "name": "stdout",
     "output_type": "stream",
     "text": [
      "[CV] END hidden_layer_sizes=35, learning_rate_init=0.001, max_iter=2500, random_state=42, solver=lbfgs; total time= 1.1min\n"
     ]
    },
    {
     "name": "stderr",
     "output_type": "stream",
     "text": [
      "C:\\Users\\salda\\Anaconda3\\lib\\site-packages\\sklearn\\neural_network\\_multilayer_perceptron.py:500: ConvergenceWarning: lbfgs failed to converge (status=1):\n",
      "STOP: TOTAL NO. of ITERATIONS REACHED LIMIT.\n",
      "\n",
      "Increase the number of iterations (max_iter) or scale the data as shown in:\n",
      "    https://scikit-learn.org/stable/modules/preprocessing.html\n",
      "  self.n_iter_ = _check_optimize_result(\"lbfgs\", opt_res, self.max_iter)\n"
     ]
    },
    {
     "name": "stdout",
     "output_type": "stream",
     "text": [
      "[CV] END hidden_layer_sizes=35, learning_rate_init=0.001, max_iter=2500, random_state=42, solver=lbfgs; total time= 1.1min\n"
     ]
    },
    {
     "name": "stderr",
     "output_type": "stream",
     "text": [
      "C:\\Users\\salda\\Anaconda3\\lib\\site-packages\\sklearn\\neural_network\\_multilayer_perceptron.py:500: ConvergenceWarning: lbfgs failed to converge (status=1):\n",
      "STOP: TOTAL NO. of ITERATIONS REACHED LIMIT.\n",
      "\n",
      "Increase the number of iterations (max_iter) or scale the data as shown in:\n",
      "    https://scikit-learn.org/stable/modules/preprocessing.html\n",
      "  self.n_iter_ = _check_optimize_result(\"lbfgs\", opt_res, self.max_iter)\n"
     ]
    },
    {
     "name": "stdout",
     "output_type": "stream",
     "text": [
      "[CV] END hidden_layer_sizes=35, learning_rate_init=0.001, max_iter=2500, random_state=42, solver=lbfgs; total time= 1.1min\n"
     ]
    },
    {
     "name": "stderr",
     "output_type": "stream",
     "text": [
      "C:\\Users\\salda\\Anaconda3\\lib\\site-packages\\sklearn\\neural_network\\_multilayer_perceptron.py:500: ConvergenceWarning: lbfgs failed to converge (status=1):\n",
      "STOP: TOTAL NO. of ITERATIONS REACHED LIMIT.\n",
      "\n",
      "Increase the number of iterations (max_iter) or scale the data as shown in:\n",
      "    https://scikit-learn.org/stable/modules/preprocessing.html\n",
      "  self.n_iter_ = _check_optimize_result(\"lbfgs\", opt_res, self.max_iter)\n"
     ]
    },
    {
     "name": "stdout",
     "output_type": "stream",
     "text": [
      "[CV] END hidden_layer_sizes=35, learning_rate_init=0.001, max_iter=2500, random_state=42, solver=lbfgs; total time= 1.1min\n"
     ]
    },
    {
     "name": "stderr",
     "output_type": "stream",
     "text": [
      "C:\\Users\\salda\\Anaconda3\\lib\\site-packages\\sklearn\\neural_network\\_multilayer_perceptron.py:500: ConvergenceWarning: lbfgs failed to converge (status=1):\n",
      "STOP: TOTAL NO. of ITERATIONS REACHED LIMIT.\n",
      "\n",
      "Increase the number of iterations (max_iter) or scale the data as shown in:\n",
      "    https://scikit-learn.org/stable/modules/preprocessing.html\n",
      "  self.n_iter_ = _check_optimize_result(\"lbfgs\", opt_res, self.max_iter)\n"
     ]
    },
    {
     "name": "stdout",
     "output_type": "stream",
     "text": [
      "[CV] END hidden_layer_sizes=35, learning_rate_init=0.001, max_iter=2500, random_state=42, solver=lbfgs; total time= 1.1min\n",
      "[CV] END hidden_layer_sizes=35, learning_rate_init=0.001, max_iter=2500, random_state=42, solver=adam; total time=  19.1s\n",
      "[CV] END hidden_layer_sizes=35, learning_rate_init=0.001, max_iter=2500, random_state=42, solver=adam; total time=  15.3s\n",
      "[CV] END hidden_layer_sizes=35, learning_rate_init=0.001, max_iter=2500, random_state=42, solver=adam; total time=  13.6s\n",
      "[CV] END hidden_layer_sizes=35, learning_rate_init=0.001, max_iter=2500, random_state=42, solver=adam; total time=  16.6s\n",
      "[CV] END hidden_layer_sizes=35, learning_rate_init=0.001, max_iter=2500, random_state=42, solver=adam; total time=  18.3s\n"
     ]
    },
    {
     "name": "stderr",
     "output_type": "stream",
     "text": [
      "C:\\Users\\salda\\Anaconda3\\lib\\site-packages\\sklearn\\neural_network\\_multilayer_perceptron.py:500: ConvergenceWarning: lbfgs failed to converge (status=1):\n",
      "STOP: TOTAL NO. of ITERATIONS REACHED LIMIT.\n",
      "\n",
      "Increase the number of iterations (max_iter) or scale the data as shown in:\n",
      "    https://scikit-learn.org/stable/modules/preprocessing.html\n",
      "  self.n_iter_ = _check_optimize_result(\"lbfgs\", opt_res, self.max_iter)\n"
     ]
    },
    {
     "name": "stdout",
     "output_type": "stream",
     "text": [
      "[CV] END hidden_layer_sizes=35, learning_rate_init=1e-05, max_iter=2500, random_state=42, solver=lbfgs; total time= 1.1min\n"
     ]
    },
    {
     "name": "stderr",
     "output_type": "stream",
     "text": [
      "C:\\Users\\salda\\Anaconda3\\lib\\site-packages\\sklearn\\neural_network\\_multilayer_perceptron.py:500: ConvergenceWarning: lbfgs failed to converge (status=1):\n",
      "STOP: TOTAL NO. of ITERATIONS REACHED LIMIT.\n",
      "\n",
      "Increase the number of iterations (max_iter) or scale the data as shown in:\n",
      "    https://scikit-learn.org/stable/modules/preprocessing.html\n",
      "  self.n_iter_ = _check_optimize_result(\"lbfgs\", opt_res, self.max_iter)\n"
     ]
    },
    {
     "name": "stdout",
     "output_type": "stream",
     "text": [
      "[CV] END hidden_layer_sizes=35, learning_rate_init=1e-05, max_iter=2500, random_state=42, solver=lbfgs; total time= 1.1min\n"
     ]
    },
    {
     "name": "stderr",
     "output_type": "stream",
     "text": [
      "C:\\Users\\salda\\Anaconda3\\lib\\site-packages\\sklearn\\neural_network\\_multilayer_perceptron.py:500: ConvergenceWarning: lbfgs failed to converge (status=1):\n",
      "STOP: TOTAL NO. of ITERATIONS REACHED LIMIT.\n",
      "\n",
      "Increase the number of iterations (max_iter) or scale the data as shown in:\n",
      "    https://scikit-learn.org/stable/modules/preprocessing.html\n",
      "  self.n_iter_ = _check_optimize_result(\"lbfgs\", opt_res, self.max_iter)\n"
     ]
    },
    {
     "name": "stdout",
     "output_type": "stream",
     "text": [
      "[CV] END hidden_layer_sizes=35, learning_rate_init=1e-05, max_iter=2500, random_state=42, solver=lbfgs; total time= 1.1min\n"
     ]
    },
    {
     "name": "stderr",
     "output_type": "stream",
     "text": [
      "C:\\Users\\salda\\Anaconda3\\lib\\site-packages\\sklearn\\neural_network\\_multilayer_perceptron.py:500: ConvergenceWarning: lbfgs failed to converge (status=1):\n",
      "STOP: TOTAL NO. of ITERATIONS REACHED LIMIT.\n",
      "\n",
      "Increase the number of iterations (max_iter) or scale the data as shown in:\n",
      "    https://scikit-learn.org/stable/modules/preprocessing.html\n",
      "  self.n_iter_ = _check_optimize_result(\"lbfgs\", opt_res, self.max_iter)\n"
     ]
    },
    {
     "name": "stdout",
     "output_type": "stream",
     "text": [
      "[CV] END hidden_layer_sizes=35, learning_rate_init=1e-05, max_iter=2500, random_state=42, solver=lbfgs; total time= 1.1min\n"
     ]
    },
    {
     "name": "stderr",
     "output_type": "stream",
     "text": [
      "C:\\Users\\salda\\Anaconda3\\lib\\site-packages\\sklearn\\neural_network\\_multilayer_perceptron.py:500: ConvergenceWarning: lbfgs failed to converge (status=1):\n",
      "STOP: TOTAL NO. of ITERATIONS REACHED LIMIT.\n",
      "\n",
      "Increase the number of iterations (max_iter) or scale the data as shown in:\n",
      "    https://scikit-learn.org/stable/modules/preprocessing.html\n",
      "  self.n_iter_ = _check_optimize_result(\"lbfgs\", opt_res, self.max_iter)\n"
     ]
    },
    {
     "name": "stdout",
     "output_type": "stream",
     "text": [
      "[CV] END hidden_layer_sizes=35, learning_rate_init=1e-05, max_iter=2500, random_state=42, solver=lbfgs; total time= 1.1min\n",
      "[CV] END hidden_layer_sizes=35, learning_rate_init=1e-05, max_iter=2500, random_state=42, solver=adam; total time= 1.5min\n",
      "[CV] END hidden_layer_sizes=35, learning_rate_init=1e-05, max_iter=2500, random_state=42, solver=adam; total time= 1.5min\n",
      "[CV] END hidden_layer_sizes=35, learning_rate_init=1e-05, max_iter=2500, random_state=42, solver=adam; total time= 1.4min\n",
      "[CV] END hidden_layer_sizes=35, learning_rate_init=1e-05, max_iter=2500, random_state=42, solver=adam; total time= 1.5min\n",
      "[CV] END hidden_layer_sizes=35, learning_rate_init=1e-05, max_iter=2500, random_state=42, solver=adam; total time= 1.4min\n"
     ]
    },
    {
     "name": "stderr",
     "output_type": "stream",
     "text": [
      "C:\\Users\\salda\\Anaconda3\\lib\\site-packages\\sklearn\\neural_network\\_multilayer_perceptron.py:500: ConvergenceWarning: lbfgs failed to converge (status=1):\n",
      "STOP: TOTAL NO. of ITERATIONS REACHED LIMIT.\n",
      "\n",
      "Increase the number of iterations (max_iter) or scale the data as shown in:\n",
      "    https://scikit-learn.org/stable/modules/preprocessing.html\n",
      "  self.n_iter_ = _check_optimize_result(\"lbfgs\", opt_res, self.max_iter)\n"
     ]
    },
    {
     "name": "stdout",
     "output_type": "stream",
     "text": [
      "[CV] END hidden_layer_sizes=36, learning_rate_init=0.1, max_iter=2500, random_state=42, solver=lbfgs; total time= 1.1min\n"
     ]
    },
    {
     "name": "stderr",
     "output_type": "stream",
     "text": [
      "C:\\Users\\salda\\Anaconda3\\lib\\site-packages\\sklearn\\neural_network\\_multilayer_perceptron.py:500: ConvergenceWarning: lbfgs failed to converge (status=1):\n",
      "STOP: TOTAL NO. of ITERATIONS REACHED LIMIT.\n",
      "\n",
      "Increase the number of iterations (max_iter) or scale the data as shown in:\n",
      "    https://scikit-learn.org/stable/modules/preprocessing.html\n",
      "  self.n_iter_ = _check_optimize_result(\"lbfgs\", opt_res, self.max_iter)\n"
     ]
    },
    {
     "name": "stdout",
     "output_type": "stream",
     "text": [
      "[CV] END hidden_layer_sizes=36, learning_rate_init=0.1, max_iter=2500, random_state=42, solver=lbfgs; total time= 1.1min\n"
     ]
    },
    {
     "name": "stderr",
     "output_type": "stream",
     "text": [
      "C:\\Users\\salda\\Anaconda3\\lib\\site-packages\\sklearn\\neural_network\\_multilayer_perceptron.py:500: ConvergenceWarning: lbfgs failed to converge (status=1):\n",
      "STOP: TOTAL NO. of ITERATIONS REACHED LIMIT.\n",
      "\n",
      "Increase the number of iterations (max_iter) or scale the data as shown in:\n",
      "    https://scikit-learn.org/stable/modules/preprocessing.html\n",
      "  self.n_iter_ = _check_optimize_result(\"lbfgs\", opt_res, self.max_iter)\n"
     ]
    },
    {
     "name": "stdout",
     "output_type": "stream",
     "text": [
      "[CV] END hidden_layer_sizes=36, learning_rate_init=0.1, max_iter=2500, random_state=42, solver=lbfgs; total time= 1.1min\n"
     ]
    },
    {
     "name": "stderr",
     "output_type": "stream",
     "text": [
      "C:\\Users\\salda\\Anaconda3\\lib\\site-packages\\sklearn\\neural_network\\_multilayer_perceptron.py:500: ConvergenceWarning: lbfgs failed to converge (status=1):\n",
      "STOP: TOTAL NO. of ITERATIONS REACHED LIMIT.\n",
      "\n",
      "Increase the number of iterations (max_iter) or scale the data as shown in:\n",
      "    https://scikit-learn.org/stable/modules/preprocessing.html\n",
      "  self.n_iter_ = _check_optimize_result(\"lbfgs\", opt_res, self.max_iter)\n"
     ]
    },
    {
     "name": "stdout",
     "output_type": "stream",
     "text": [
      "[CV] END hidden_layer_sizes=36, learning_rate_init=0.1, max_iter=2500, random_state=42, solver=lbfgs; total time= 1.1min\n"
     ]
    },
    {
     "name": "stderr",
     "output_type": "stream",
     "text": [
      "C:\\Users\\salda\\Anaconda3\\lib\\site-packages\\sklearn\\neural_network\\_multilayer_perceptron.py:500: ConvergenceWarning: lbfgs failed to converge (status=1):\n",
      "STOP: TOTAL NO. of ITERATIONS REACHED LIMIT.\n",
      "\n",
      "Increase the number of iterations (max_iter) or scale the data as shown in:\n",
      "    https://scikit-learn.org/stable/modules/preprocessing.html\n",
      "  self.n_iter_ = _check_optimize_result(\"lbfgs\", opt_res, self.max_iter)\n"
     ]
    },
    {
     "name": "stdout",
     "output_type": "stream",
     "text": [
      "[CV] END hidden_layer_sizes=36, learning_rate_init=0.1, max_iter=2500, random_state=42, solver=lbfgs; total time= 1.1min\n",
      "[CV] END hidden_layer_sizes=36, learning_rate_init=0.1, max_iter=2500, random_state=42, solver=adam; total time=   3.4s\n",
      "[CV] END hidden_layer_sizes=36, learning_rate_init=0.1, max_iter=2500, random_state=42, solver=adam; total time=   4.8s\n",
      "[CV] END hidden_layer_sizes=36, learning_rate_init=0.1, max_iter=2500, random_state=42, solver=adam; total time=   3.9s\n",
      "[CV] END hidden_layer_sizes=36, learning_rate_init=0.1, max_iter=2500, random_state=42, solver=adam; total time=   6.4s\n",
      "[CV] END hidden_layer_sizes=36, learning_rate_init=0.1, max_iter=2500, random_state=42, solver=adam; total time=   4.3s\n"
     ]
    },
    {
     "name": "stderr",
     "output_type": "stream",
     "text": [
      "C:\\Users\\salda\\Anaconda3\\lib\\site-packages\\sklearn\\neural_network\\_multilayer_perceptron.py:500: ConvergenceWarning: lbfgs failed to converge (status=1):\n",
      "STOP: TOTAL NO. of ITERATIONS REACHED LIMIT.\n",
      "\n",
      "Increase the number of iterations (max_iter) or scale the data as shown in:\n",
      "    https://scikit-learn.org/stable/modules/preprocessing.html\n",
      "  self.n_iter_ = _check_optimize_result(\"lbfgs\", opt_res, self.max_iter)\n"
     ]
    },
    {
     "name": "stdout",
     "output_type": "stream",
     "text": [
      "[CV] END hidden_layer_sizes=36, learning_rate_init=0.001, max_iter=2500, random_state=42, solver=lbfgs; total time= 1.1min\n"
     ]
    },
    {
     "name": "stderr",
     "output_type": "stream",
     "text": [
      "C:\\Users\\salda\\Anaconda3\\lib\\site-packages\\sklearn\\neural_network\\_multilayer_perceptron.py:500: ConvergenceWarning: lbfgs failed to converge (status=1):\n",
      "STOP: TOTAL NO. of ITERATIONS REACHED LIMIT.\n",
      "\n",
      "Increase the number of iterations (max_iter) or scale the data as shown in:\n",
      "    https://scikit-learn.org/stable/modules/preprocessing.html\n",
      "  self.n_iter_ = _check_optimize_result(\"lbfgs\", opt_res, self.max_iter)\n"
     ]
    },
    {
     "name": "stdout",
     "output_type": "stream",
     "text": [
      "[CV] END hidden_layer_sizes=36, learning_rate_init=0.001, max_iter=2500, random_state=42, solver=lbfgs; total time= 1.1min\n"
     ]
    },
    {
     "name": "stderr",
     "output_type": "stream",
     "text": [
      "C:\\Users\\salda\\Anaconda3\\lib\\site-packages\\sklearn\\neural_network\\_multilayer_perceptron.py:500: ConvergenceWarning: lbfgs failed to converge (status=1):\n",
      "STOP: TOTAL NO. of ITERATIONS REACHED LIMIT.\n",
      "\n",
      "Increase the number of iterations (max_iter) or scale the data as shown in:\n",
      "    https://scikit-learn.org/stable/modules/preprocessing.html\n",
      "  self.n_iter_ = _check_optimize_result(\"lbfgs\", opt_res, self.max_iter)\n"
     ]
    },
    {
     "name": "stdout",
     "output_type": "stream",
     "text": [
      "[CV] END hidden_layer_sizes=36, learning_rate_init=0.001, max_iter=2500, random_state=42, solver=lbfgs; total time= 1.1min\n"
     ]
    },
    {
     "name": "stderr",
     "output_type": "stream",
     "text": [
      "C:\\Users\\salda\\Anaconda3\\lib\\site-packages\\sklearn\\neural_network\\_multilayer_perceptron.py:500: ConvergenceWarning: lbfgs failed to converge (status=1):\n",
      "STOP: TOTAL NO. of ITERATIONS REACHED LIMIT.\n",
      "\n",
      "Increase the number of iterations (max_iter) or scale the data as shown in:\n",
      "    https://scikit-learn.org/stable/modules/preprocessing.html\n",
      "  self.n_iter_ = _check_optimize_result(\"lbfgs\", opt_res, self.max_iter)\n"
     ]
    },
    {
     "name": "stdout",
     "output_type": "stream",
     "text": [
      "[CV] END hidden_layer_sizes=36, learning_rate_init=0.001, max_iter=2500, random_state=42, solver=lbfgs; total time= 1.1min\n"
     ]
    },
    {
     "name": "stderr",
     "output_type": "stream",
     "text": [
      "C:\\Users\\salda\\Anaconda3\\lib\\site-packages\\sklearn\\neural_network\\_multilayer_perceptron.py:500: ConvergenceWarning: lbfgs failed to converge (status=1):\n",
      "STOP: TOTAL NO. of ITERATIONS REACHED LIMIT.\n",
      "\n",
      "Increase the number of iterations (max_iter) or scale the data as shown in:\n",
      "    https://scikit-learn.org/stable/modules/preprocessing.html\n",
      "  self.n_iter_ = _check_optimize_result(\"lbfgs\", opt_res, self.max_iter)\n"
     ]
    },
    {
     "name": "stdout",
     "output_type": "stream",
     "text": [
      "[CV] END hidden_layer_sizes=36, learning_rate_init=0.001, max_iter=2500, random_state=42, solver=lbfgs; total time= 1.0min\n",
      "[CV] END hidden_layer_sizes=36, learning_rate_init=0.001, max_iter=2500, random_state=42, solver=adam; total time=  13.6s\n",
      "[CV] END hidden_layer_sizes=36, learning_rate_init=0.001, max_iter=2500, random_state=42, solver=adam; total time=  22.4s\n",
      "[CV] END hidden_layer_sizes=36, learning_rate_init=0.001, max_iter=2500, random_state=42, solver=adam; total time=  15.2s\n",
      "[CV] END hidden_layer_sizes=36, learning_rate_init=0.001, max_iter=2500, random_state=42, solver=adam; total time=  15.2s\n",
      "[CV] END hidden_layer_sizes=36, learning_rate_init=0.001, max_iter=2500, random_state=42, solver=adam; total time=  14.2s\n"
     ]
    },
    {
     "name": "stderr",
     "output_type": "stream",
     "text": [
      "C:\\Users\\salda\\Anaconda3\\lib\\site-packages\\sklearn\\neural_network\\_multilayer_perceptron.py:500: ConvergenceWarning: lbfgs failed to converge (status=1):\n",
      "STOP: TOTAL NO. of ITERATIONS REACHED LIMIT.\n",
      "\n",
      "Increase the number of iterations (max_iter) or scale the data as shown in:\n",
      "    https://scikit-learn.org/stable/modules/preprocessing.html\n",
      "  self.n_iter_ = _check_optimize_result(\"lbfgs\", opt_res, self.max_iter)\n"
     ]
    },
    {
     "name": "stdout",
     "output_type": "stream",
     "text": [
      "[CV] END hidden_layer_sizes=36, learning_rate_init=1e-05, max_iter=2500, random_state=42, solver=lbfgs; total time= 1.1min\n"
     ]
    },
    {
     "name": "stderr",
     "output_type": "stream",
     "text": [
      "C:\\Users\\salda\\Anaconda3\\lib\\site-packages\\sklearn\\neural_network\\_multilayer_perceptron.py:500: ConvergenceWarning: lbfgs failed to converge (status=1):\n",
      "STOP: TOTAL NO. of ITERATIONS REACHED LIMIT.\n",
      "\n",
      "Increase the number of iterations (max_iter) or scale the data as shown in:\n",
      "    https://scikit-learn.org/stable/modules/preprocessing.html\n",
      "  self.n_iter_ = _check_optimize_result(\"lbfgs\", opt_res, self.max_iter)\n"
     ]
    },
    {
     "name": "stdout",
     "output_type": "stream",
     "text": [
      "[CV] END hidden_layer_sizes=36, learning_rate_init=1e-05, max_iter=2500, random_state=42, solver=lbfgs; total time= 1.1min\n"
     ]
    },
    {
     "name": "stderr",
     "output_type": "stream",
     "text": [
      "C:\\Users\\salda\\Anaconda3\\lib\\site-packages\\sklearn\\neural_network\\_multilayer_perceptron.py:500: ConvergenceWarning: lbfgs failed to converge (status=1):\n",
      "STOP: TOTAL NO. of ITERATIONS REACHED LIMIT.\n",
      "\n",
      "Increase the number of iterations (max_iter) or scale the data as shown in:\n",
      "    https://scikit-learn.org/stable/modules/preprocessing.html\n",
      "  self.n_iter_ = _check_optimize_result(\"lbfgs\", opt_res, self.max_iter)\n"
     ]
    },
    {
     "name": "stdout",
     "output_type": "stream",
     "text": [
      "[CV] END hidden_layer_sizes=36, learning_rate_init=1e-05, max_iter=2500, random_state=42, solver=lbfgs; total time= 1.1min\n"
     ]
    },
    {
     "name": "stderr",
     "output_type": "stream",
     "text": [
      "C:\\Users\\salda\\Anaconda3\\lib\\site-packages\\sklearn\\neural_network\\_multilayer_perceptron.py:500: ConvergenceWarning: lbfgs failed to converge (status=1):\n",
      "STOP: TOTAL NO. of ITERATIONS REACHED LIMIT.\n",
      "\n",
      "Increase the number of iterations (max_iter) or scale the data as shown in:\n",
      "    https://scikit-learn.org/stable/modules/preprocessing.html\n",
      "  self.n_iter_ = _check_optimize_result(\"lbfgs\", opt_res, self.max_iter)\n"
     ]
    },
    {
     "name": "stdout",
     "output_type": "stream",
     "text": [
      "[CV] END hidden_layer_sizes=36, learning_rate_init=1e-05, max_iter=2500, random_state=42, solver=lbfgs; total time= 1.1min\n"
     ]
    },
    {
     "name": "stderr",
     "output_type": "stream",
     "text": [
      "C:\\Users\\salda\\Anaconda3\\lib\\site-packages\\sklearn\\neural_network\\_multilayer_perceptron.py:500: ConvergenceWarning: lbfgs failed to converge (status=1):\n",
      "STOP: TOTAL NO. of ITERATIONS REACHED LIMIT.\n",
      "\n",
      "Increase the number of iterations (max_iter) or scale the data as shown in:\n",
      "    https://scikit-learn.org/stable/modules/preprocessing.html\n",
      "  self.n_iter_ = _check_optimize_result(\"lbfgs\", opt_res, self.max_iter)\n"
     ]
    },
    {
     "name": "stdout",
     "output_type": "stream",
     "text": [
      "[CV] END hidden_layer_sizes=36, learning_rate_init=1e-05, max_iter=2500, random_state=42, solver=lbfgs; total time= 1.1min\n",
      "[CV] END hidden_layer_sizes=36, learning_rate_init=1e-05, max_iter=2500, random_state=42, solver=adam; total time= 1.3min\n",
      "[CV] END hidden_layer_sizes=36, learning_rate_init=1e-05, max_iter=2500, random_state=42, solver=adam; total time= 1.4min\n",
      "[CV] END hidden_layer_sizes=36, learning_rate_init=1e-05, max_iter=2500, random_state=42, solver=adam; total time= 1.4min\n",
      "[CV] END hidden_layer_sizes=36, learning_rate_init=1e-05, max_iter=2500, random_state=42, solver=adam; total time= 1.4min\n",
      "[CV] END hidden_layer_sizes=36, learning_rate_init=1e-05, max_iter=2500, random_state=42, solver=adam; total time= 1.4min\n"
     ]
    },
    {
     "name": "stderr",
     "output_type": "stream",
     "text": [
      "C:\\Users\\salda\\Anaconda3\\lib\\site-packages\\sklearn\\neural_network\\_multilayer_perceptron.py:500: ConvergenceWarning: lbfgs failed to converge (status=1):\n",
      "STOP: TOTAL NO. of ITERATIONS REACHED LIMIT.\n",
      "\n",
      "Increase the number of iterations (max_iter) or scale the data as shown in:\n",
      "    https://scikit-learn.org/stable/modules/preprocessing.html\n",
      "  self.n_iter_ = _check_optimize_result(\"lbfgs\", opt_res, self.max_iter)\n"
     ]
    },
    {
     "name": "stdout",
     "output_type": "stream",
     "text": [
      "[CV] END hidden_layer_sizes=37, learning_rate_init=0.1, max_iter=2500, random_state=42, solver=lbfgs; total time= 1.1min\n"
     ]
    },
    {
     "name": "stderr",
     "output_type": "stream",
     "text": [
      "C:\\Users\\salda\\Anaconda3\\lib\\site-packages\\sklearn\\neural_network\\_multilayer_perceptron.py:500: ConvergenceWarning: lbfgs failed to converge (status=1):\n",
      "STOP: TOTAL NO. of ITERATIONS REACHED LIMIT.\n",
      "\n",
      "Increase the number of iterations (max_iter) or scale the data as shown in:\n",
      "    https://scikit-learn.org/stable/modules/preprocessing.html\n",
      "  self.n_iter_ = _check_optimize_result(\"lbfgs\", opt_res, self.max_iter)\n"
     ]
    },
    {
     "name": "stdout",
     "output_type": "stream",
     "text": [
      "[CV] END hidden_layer_sizes=37, learning_rate_init=0.1, max_iter=2500, random_state=42, solver=lbfgs; total time= 1.1min\n"
     ]
    },
    {
     "name": "stderr",
     "output_type": "stream",
     "text": [
      "C:\\Users\\salda\\Anaconda3\\lib\\site-packages\\sklearn\\neural_network\\_multilayer_perceptron.py:500: ConvergenceWarning: lbfgs failed to converge (status=1):\n",
      "STOP: TOTAL NO. of ITERATIONS REACHED LIMIT.\n",
      "\n",
      "Increase the number of iterations (max_iter) or scale the data as shown in:\n",
      "    https://scikit-learn.org/stable/modules/preprocessing.html\n",
      "  self.n_iter_ = _check_optimize_result(\"lbfgs\", opt_res, self.max_iter)\n"
     ]
    },
    {
     "name": "stdout",
     "output_type": "stream",
     "text": [
      "[CV] END hidden_layer_sizes=37, learning_rate_init=0.1, max_iter=2500, random_state=42, solver=lbfgs; total time= 1.1min\n"
     ]
    },
    {
     "name": "stderr",
     "output_type": "stream",
     "text": [
      "C:\\Users\\salda\\Anaconda3\\lib\\site-packages\\sklearn\\neural_network\\_multilayer_perceptron.py:500: ConvergenceWarning: lbfgs failed to converge (status=1):\n",
      "STOP: TOTAL NO. of ITERATIONS REACHED LIMIT.\n",
      "\n",
      "Increase the number of iterations (max_iter) or scale the data as shown in:\n",
      "    https://scikit-learn.org/stable/modules/preprocessing.html\n",
      "  self.n_iter_ = _check_optimize_result(\"lbfgs\", opt_res, self.max_iter)\n"
     ]
    },
    {
     "name": "stdout",
     "output_type": "stream",
     "text": [
      "[CV] END hidden_layer_sizes=37, learning_rate_init=0.1, max_iter=2500, random_state=42, solver=lbfgs; total time= 1.1min\n"
     ]
    },
    {
     "name": "stderr",
     "output_type": "stream",
     "text": [
      "C:\\Users\\salda\\Anaconda3\\lib\\site-packages\\sklearn\\neural_network\\_multilayer_perceptron.py:500: ConvergenceWarning: lbfgs failed to converge (status=1):\n",
      "STOP: TOTAL NO. of ITERATIONS REACHED LIMIT.\n",
      "\n",
      "Increase the number of iterations (max_iter) or scale the data as shown in:\n",
      "    https://scikit-learn.org/stable/modules/preprocessing.html\n",
      "  self.n_iter_ = _check_optimize_result(\"lbfgs\", opt_res, self.max_iter)\n"
     ]
    },
    {
     "name": "stdout",
     "output_type": "stream",
     "text": [
      "[CV] END hidden_layer_sizes=37, learning_rate_init=0.1, max_iter=2500, random_state=42, solver=lbfgs; total time= 1.1min\n",
      "[CV] END hidden_layer_sizes=37, learning_rate_init=0.1, max_iter=2500, random_state=42, solver=adam; total time=   4.5s\n",
      "[CV] END hidden_layer_sizes=37, learning_rate_init=0.1, max_iter=2500, random_state=42, solver=adam; total time=   3.4s\n",
      "[CV] END hidden_layer_sizes=37, learning_rate_init=0.1, max_iter=2500, random_state=42, solver=adam; total time=   2.7s\n",
      "[CV] END hidden_layer_sizes=37, learning_rate_init=0.1, max_iter=2500, random_state=42, solver=adam; total time=   2.2s\n",
      "[CV] END hidden_layer_sizes=37, learning_rate_init=0.1, max_iter=2500, random_state=42, solver=adam; total time=   3.6s\n"
     ]
    },
    {
     "name": "stderr",
     "output_type": "stream",
     "text": [
      "C:\\Users\\salda\\Anaconda3\\lib\\site-packages\\sklearn\\neural_network\\_multilayer_perceptron.py:500: ConvergenceWarning: lbfgs failed to converge (status=1):\n",
      "STOP: TOTAL NO. of ITERATIONS REACHED LIMIT.\n",
      "\n",
      "Increase the number of iterations (max_iter) or scale the data as shown in:\n",
      "    https://scikit-learn.org/stable/modules/preprocessing.html\n",
      "  self.n_iter_ = _check_optimize_result(\"lbfgs\", opt_res, self.max_iter)\n"
     ]
    },
    {
     "name": "stdout",
     "output_type": "stream",
     "text": [
      "[CV] END hidden_layer_sizes=37, learning_rate_init=0.001, max_iter=2500, random_state=42, solver=lbfgs; total time= 1.1min\n"
     ]
    },
    {
     "name": "stderr",
     "output_type": "stream",
     "text": [
      "C:\\Users\\salda\\Anaconda3\\lib\\site-packages\\sklearn\\neural_network\\_multilayer_perceptron.py:500: ConvergenceWarning: lbfgs failed to converge (status=1):\n",
      "STOP: TOTAL NO. of ITERATIONS REACHED LIMIT.\n",
      "\n",
      "Increase the number of iterations (max_iter) or scale the data as shown in:\n",
      "    https://scikit-learn.org/stable/modules/preprocessing.html\n",
      "  self.n_iter_ = _check_optimize_result(\"lbfgs\", opt_res, self.max_iter)\n"
     ]
    },
    {
     "name": "stdout",
     "output_type": "stream",
     "text": [
      "[CV] END hidden_layer_sizes=37, learning_rate_init=0.001, max_iter=2500, random_state=42, solver=lbfgs; total time= 1.1min\n"
     ]
    },
    {
     "name": "stderr",
     "output_type": "stream",
     "text": [
      "C:\\Users\\salda\\Anaconda3\\lib\\site-packages\\sklearn\\neural_network\\_multilayer_perceptron.py:500: ConvergenceWarning: lbfgs failed to converge (status=1):\n",
      "STOP: TOTAL NO. of ITERATIONS REACHED LIMIT.\n",
      "\n",
      "Increase the number of iterations (max_iter) or scale the data as shown in:\n",
      "    https://scikit-learn.org/stable/modules/preprocessing.html\n",
      "  self.n_iter_ = _check_optimize_result(\"lbfgs\", opt_res, self.max_iter)\n"
     ]
    },
    {
     "name": "stdout",
     "output_type": "stream",
     "text": [
      "[CV] END hidden_layer_sizes=37, learning_rate_init=0.001, max_iter=2500, random_state=42, solver=lbfgs; total time= 1.2min\n"
     ]
    },
    {
     "name": "stderr",
     "output_type": "stream",
     "text": [
      "C:\\Users\\salda\\Anaconda3\\lib\\site-packages\\sklearn\\neural_network\\_multilayer_perceptron.py:500: ConvergenceWarning: lbfgs failed to converge (status=1):\n",
      "STOP: TOTAL NO. of ITERATIONS REACHED LIMIT.\n",
      "\n",
      "Increase the number of iterations (max_iter) or scale the data as shown in:\n",
      "    https://scikit-learn.org/stable/modules/preprocessing.html\n",
      "  self.n_iter_ = _check_optimize_result(\"lbfgs\", opt_res, self.max_iter)\n"
     ]
    },
    {
     "name": "stdout",
     "output_type": "stream",
     "text": [
      "[CV] END hidden_layer_sizes=37, learning_rate_init=0.001, max_iter=2500, random_state=42, solver=lbfgs; total time= 1.1min\n"
     ]
    },
    {
     "name": "stderr",
     "output_type": "stream",
     "text": [
      "C:\\Users\\salda\\Anaconda3\\lib\\site-packages\\sklearn\\neural_network\\_multilayer_perceptron.py:500: ConvergenceWarning: lbfgs failed to converge (status=1):\n",
      "STOP: TOTAL NO. of ITERATIONS REACHED LIMIT.\n",
      "\n",
      "Increase the number of iterations (max_iter) or scale the data as shown in:\n",
      "    https://scikit-learn.org/stable/modules/preprocessing.html\n",
      "  self.n_iter_ = _check_optimize_result(\"lbfgs\", opt_res, self.max_iter)\n"
     ]
    },
    {
     "name": "stdout",
     "output_type": "stream",
     "text": [
      "[CV] END hidden_layer_sizes=37, learning_rate_init=0.001, max_iter=2500, random_state=42, solver=lbfgs; total time= 1.1min\n",
      "[CV] END hidden_layer_sizes=37, learning_rate_init=0.001, max_iter=2500, random_state=42, solver=adam; total time=  13.5s\n",
      "[CV] END hidden_layer_sizes=37, learning_rate_init=0.001, max_iter=2500, random_state=42, solver=adam; total time=  13.5s\n",
      "[CV] END hidden_layer_sizes=37, learning_rate_init=0.001, max_iter=2500, random_state=42, solver=adam; total time=  13.9s\n",
      "[CV] END hidden_layer_sizes=37, learning_rate_init=0.001, max_iter=2500, random_state=42, solver=adam; total time=  12.8s\n",
      "[CV] END hidden_layer_sizes=37, learning_rate_init=0.001, max_iter=2500, random_state=42, solver=adam; total time=  16.9s\n"
     ]
    },
    {
     "name": "stderr",
     "output_type": "stream",
     "text": [
      "C:\\Users\\salda\\Anaconda3\\lib\\site-packages\\sklearn\\neural_network\\_multilayer_perceptron.py:500: ConvergenceWarning: lbfgs failed to converge (status=1):\n",
      "STOP: TOTAL NO. of ITERATIONS REACHED LIMIT.\n",
      "\n",
      "Increase the number of iterations (max_iter) or scale the data as shown in:\n",
      "    https://scikit-learn.org/stable/modules/preprocessing.html\n",
      "  self.n_iter_ = _check_optimize_result(\"lbfgs\", opt_res, self.max_iter)\n"
     ]
    },
    {
     "name": "stdout",
     "output_type": "stream",
     "text": [
      "[CV] END hidden_layer_sizes=37, learning_rate_init=1e-05, max_iter=2500, random_state=42, solver=lbfgs; total time= 1.1min\n"
     ]
    },
    {
     "name": "stderr",
     "output_type": "stream",
     "text": [
      "C:\\Users\\salda\\Anaconda3\\lib\\site-packages\\sklearn\\neural_network\\_multilayer_perceptron.py:500: ConvergenceWarning: lbfgs failed to converge (status=1):\n",
      "STOP: TOTAL NO. of ITERATIONS REACHED LIMIT.\n",
      "\n",
      "Increase the number of iterations (max_iter) or scale the data as shown in:\n",
      "    https://scikit-learn.org/stable/modules/preprocessing.html\n",
      "  self.n_iter_ = _check_optimize_result(\"lbfgs\", opt_res, self.max_iter)\n"
     ]
    },
    {
     "name": "stdout",
     "output_type": "stream",
     "text": [
      "[CV] END hidden_layer_sizes=37, learning_rate_init=1e-05, max_iter=2500, random_state=42, solver=lbfgs; total time= 1.1min\n"
     ]
    },
    {
     "name": "stderr",
     "output_type": "stream",
     "text": [
      "C:\\Users\\salda\\Anaconda3\\lib\\site-packages\\sklearn\\neural_network\\_multilayer_perceptron.py:500: ConvergenceWarning: lbfgs failed to converge (status=1):\n",
      "STOP: TOTAL NO. of ITERATIONS REACHED LIMIT.\n",
      "\n",
      "Increase the number of iterations (max_iter) or scale the data as shown in:\n",
      "    https://scikit-learn.org/stable/modules/preprocessing.html\n",
      "  self.n_iter_ = _check_optimize_result(\"lbfgs\", opt_res, self.max_iter)\n"
     ]
    },
    {
     "name": "stdout",
     "output_type": "stream",
     "text": [
      "[CV] END hidden_layer_sizes=37, learning_rate_init=1e-05, max_iter=2500, random_state=42, solver=lbfgs; total time= 1.1min\n"
     ]
    },
    {
     "name": "stderr",
     "output_type": "stream",
     "text": [
      "C:\\Users\\salda\\Anaconda3\\lib\\site-packages\\sklearn\\neural_network\\_multilayer_perceptron.py:500: ConvergenceWarning: lbfgs failed to converge (status=1):\n",
      "STOP: TOTAL NO. of ITERATIONS REACHED LIMIT.\n",
      "\n",
      "Increase the number of iterations (max_iter) or scale the data as shown in:\n",
      "    https://scikit-learn.org/stable/modules/preprocessing.html\n",
      "  self.n_iter_ = _check_optimize_result(\"lbfgs\", opt_res, self.max_iter)\n"
     ]
    },
    {
     "name": "stdout",
     "output_type": "stream",
     "text": [
      "[CV] END hidden_layer_sizes=37, learning_rate_init=1e-05, max_iter=2500, random_state=42, solver=lbfgs; total time= 1.1min\n"
     ]
    },
    {
     "name": "stderr",
     "output_type": "stream",
     "text": [
      "C:\\Users\\salda\\Anaconda3\\lib\\site-packages\\sklearn\\neural_network\\_multilayer_perceptron.py:500: ConvergenceWarning: lbfgs failed to converge (status=1):\n",
      "STOP: TOTAL NO. of ITERATIONS REACHED LIMIT.\n",
      "\n",
      "Increase the number of iterations (max_iter) or scale the data as shown in:\n",
      "    https://scikit-learn.org/stable/modules/preprocessing.html\n",
      "  self.n_iter_ = _check_optimize_result(\"lbfgs\", opt_res, self.max_iter)\n"
     ]
    },
    {
     "name": "stdout",
     "output_type": "stream",
     "text": [
      "[CV] END hidden_layer_sizes=37, learning_rate_init=1e-05, max_iter=2500, random_state=42, solver=lbfgs; total time= 1.1min\n",
      "[CV] END hidden_layer_sizes=37, learning_rate_init=1e-05, max_iter=2500, random_state=42, solver=adam; total time= 1.3min\n",
      "[CV] END hidden_layer_sizes=37, learning_rate_init=1e-05, max_iter=2500, random_state=42, solver=adam; total time= 1.3min\n",
      "[CV] END hidden_layer_sizes=37, learning_rate_init=1e-05, max_iter=2500, random_state=42, solver=adam; total time= 1.3min\n",
      "[CV] END hidden_layer_sizes=37, learning_rate_init=1e-05, max_iter=2500, random_state=42, solver=adam; total time= 1.4min\n",
      "[CV] END hidden_layer_sizes=37, learning_rate_init=1e-05, max_iter=2500, random_state=42, solver=adam; total time= 1.2min\n"
     ]
    },
    {
     "name": "stderr",
     "output_type": "stream",
     "text": [
      "C:\\Users\\salda\\Anaconda3\\lib\\site-packages\\sklearn\\neural_network\\_multilayer_perceptron.py:500: ConvergenceWarning: lbfgs failed to converge (status=1):\n",
      "STOP: TOTAL NO. of ITERATIONS REACHED LIMIT.\n",
      "\n",
      "Increase the number of iterations (max_iter) or scale the data as shown in:\n",
      "    https://scikit-learn.org/stable/modules/preprocessing.html\n",
      "  self.n_iter_ = _check_optimize_result(\"lbfgs\", opt_res, self.max_iter)\n"
     ]
    },
    {
     "name": "stdout",
     "output_type": "stream",
     "text": [
      "[CV] END hidden_layer_sizes=38, learning_rate_init=0.1, max_iter=2500, random_state=42, solver=lbfgs; total time= 1.2min\n"
     ]
    },
    {
     "name": "stderr",
     "output_type": "stream",
     "text": [
      "C:\\Users\\salda\\Anaconda3\\lib\\site-packages\\sklearn\\neural_network\\_multilayer_perceptron.py:500: ConvergenceWarning: lbfgs failed to converge (status=1):\n",
      "STOP: TOTAL NO. of ITERATIONS REACHED LIMIT.\n",
      "\n",
      "Increase the number of iterations (max_iter) or scale the data as shown in:\n",
      "    https://scikit-learn.org/stable/modules/preprocessing.html\n",
      "  self.n_iter_ = _check_optimize_result(\"lbfgs\", opt_res, self.max_iter)\n"
     ]
    },
    {
     "name": "stdout",
     "output_type": "stream",
     "text": [
      "[CV] END hidden_layer_sizes=38, learning_rate_init=0.1, max_iter=2500, random_state=42, solver=lbfgs; total time= 1.2min\n"
     ]
    },
    {
     "name": "stderr",
     "output_type": "stream",
     "text": [
      "C:\\Users\\salda\\Anaconda3\\lib\\site-packages\\sklearn\\neural_network\\_multilayer_perceptron.py:500: ConvergenceWarning: lbfgs failed to converge (status=1):\n",
      "STOP: TOTAL NO. of ITERATIONS REACHED LIMIT.\n",
      "\n",
      "Increase the number of iterations (max_iter) or scale the data as shown in:\n",
      "    https://scikit-learn.org/stable/modules/preprocessing.html\n",
      "  self.n_iter_ = _check_optimize_result(\"lbfgs\", opt_res, self.max_iter)\n"
     ]
    },
    {
     "name": "stdout",
     "output_type": "stream",
     "text": [
      "[CV] END hidden_layer_sizes=38, learning_rate_init=0.1, max_iter=2500, random_state=42, solver=lbfgs; total time= 1.2min\n"
     ]
    },
    {
     "name": "stderr",
     "output_type": "stream",
     "text": [
      "C:\\Users\\salda\\Anaconda3\\lib\\site-packages\\sklearn\\neural_network\\_multilayer_perceptron.py:500: ConvergenceWarning: lbfgs failed to converge (status=1):\n",
      "STOP: TOTAL NO. of ITERATIONS REACHED LIMIT.\n",
      "\n",
      "Increase the number of iterations (max_iter) or scale the data as shown in:\n",
      "    https://scikit-learn.org/stable/modules/preprocessing.html\n",
      "  self.n_iter_ = _check_optimize_result(\"lbfgs\", opt_res, self.max_iter)\n"
     ]
    },
    {
     "name": "stdout",
     "output_type": "stream",
     "text": [
      "[CV] END hidden_layer_sizes=38, learning_rate_init=0.1, max_iter=2500, random_state=42, solver=lbfgs; total time= 1.2min\n"
     ]
    },
    {
     "name": "stderr",
     "output_type": "stream",
     "text": [
      "C:\\Users\\salda\\Anaconda3\\lib\\site-packages\\sklearn\\neural_network\\_multilayer_perceptron.py:500: ConvergenceWarning: lbfgs failed to converge (status=1):\n",
      "STOP: TOTAL NO. of ITERATIONS REACHED LIMIT.\n",
      "\n",
      "Increase the number of iterations (max_iter) or scale the data as shown in:\n",
      "    https://scikit-learn.org/stable/modules/preprocessing.html\n",
      "  self.n_iter_ = _check_optimize_result(\"lbfgs\", opt_res, self.max_iter)\n"
     ]
    },
    {
     "name": "stdout",
     "output_type": "stream",
     "text": [
      "[CV] END hidden_layer_sizes=38, learning_rate_init=0.1, max_iter=2500, random_state=42, solver=lbfgs; total time= 1.2min\n",
      "[CV] END hidden_layer_sizes=38, learning_rate_init=0.1, max_iter=2500, random_state=42, solver=adam; total time=   2.8s\n",
      "[CV] END hidden_layer_sizes=38, learning_rate_init=0.1, max_iter=2500, random_state=42, solver=adam; total time=   2.4s\n",
      "[CV] END hidden_layer_sizes=38, learning_rate_init=0.1, max_iter=2500, random_state=42, solver=adam; total time=   2.2s\n",
      "[CV] END hidden_layer_sizes=38, learning_rate_init=0.1, max_iter=2500, random_state=42, solver=adam; total time=   6.0s\n",
      "[CV] END hidden_layer_sizes=38, learning_rate_init=0.1, max_iter=2500, random_state=42, solver=adam; total time=   4.7s\n"
     ]
    },
    {
     "name": "stderr",
     "output_type": "stream",
     "text": [
      "C:\\Users\\salda\\Anaconda3\\lib\\site-packages\\sklearn\\neural_network\\_multilayer_perceptron.py:500: ConvergenceWarning: lbfgs failed to converge (status=1):\n",
      "STOP: TOTAL NO. of ITERATIONS REACHED LIMIT.\n",
      "\n",
      "Increase the number of iterations (max_iter) or scale the data as shown in:\n",
      "    https://scikit-learn.org/stable/modules/preprocessing.html\n",
      "  self.n_iter_ = _check_optimize_result(\"lbfgs\", opt_res, self.max_iter)\n"
     ]
    },
    {
     "name": "stdout",
     "output_type": "stream",
     "text": [
      "[CV] END hidden_layer_sizes=38, learning_rate_init=0.001, max_iter=2500, random_state=42, solver=lbfgs; total time= 1.1min\n"
     ]
    },
    {
     "name": "stderr",
     "output_type": "stream",
     "text": [
      "C:\\Users\\salda\\Anaconda3\\lib\\site-packages\\sklearn\\neural_network\\_multilayer_perceptron.py:500: ConvergenceWarning: lbfgs failed to converge (status=1):\n",
      "STOP: TOTAL NO. of ITERATIONS REACHED LIMIT.\n",
      "\n",
      "Increase the number of iterations (max_iter) or scale the data as shown in:\n",
      "    https://scikit-learn.org/stable/modules/preprocessing.html\n",
      "  self.n_iter_ = _check_optimize_result(\"lbfgs\", opt_res, self.max_iter)\n"
     ]
    },
    {
     "name": "stdout",
     "output_type": "stream",
     "text": [
      "[CV] END hidden_layer_sizes=38, learning_rate_init=0.001, max_iter=2500, random_state=42, solver=lbfgs; total time= 1.2min\n"
     ]
    },
    {
     "name": "stderr",
     "output_type": "stream",
     "text": [
      "C:\\Users\\salda\\Anaconda3\\lib\\site-packages\\sklearn\\neural_network\\_multilayer_perceptron.py:500: ConvergenceWarning: lbfgs failed to converge (status=1):\n",
      "STOP: TOTAL NO. of ITERATIONS REACHED LIMIT.\n",
      "\n",
      "Increase the number of iterations (max_iter) or scale the data as shown in:\n",
      "    https://scikit-learn.org/stable/modules/preprocessing.html\n",
      "  self.n_iter_ = _check_optimize_result(\"lbfgs\", opt_res, self.max_iter)\n"
     ]
    },
    {
     "name": "stdout",
     "output_type": "stream",
     "text": [
      "[CV] END hidden_layer_sizes=38, learning_rate_init=0.001, max_iter=2500, random_state=42, solver=lbfgs; total time= 1.2min\n"
     ]
    },
    {
     "name": "stderr",
     "output_type": "stream",
     "text": [
      "C:\\Users\\salda\\Anaconda3\\lib\\site-packages\\sklearn\\neural_network\\_multilayer_perceptron.py:500: ConvergenceWarning: lbfgs failed to converge (status=1):\n",
      "STOP: TOTAL NO. of ITERATIONS REACHED LIMIT.\n",
      "\n",
      "Increase the number of iterations (max_iter) or scale the data as shown in:\n",
      "    https://scikit-learn.org/stable/modules/preprocessing.html\n",
      "  self.n_iter_ = _check_optimize_result(\"lbfgs\", opt_res, self.max_iter)\n"
     ]
    },
    {
     "name": "stdout",
     "output_type": "stream",
     "text": [
      "[CV] END hidden_layer_sizes=38, learning_rate_init=0.001, max_iter=2500, random_state=42, solver=lbfgs; total time= 1.2min\n"
     ]
    },
    {
     "name": "stderr",
     "output_type": "stream",
     "text": [
      "C:\\Users\\salda\\Anaconda3\\lib\\site-packages\\sklearn\\neural_network\\_multilayer_perceptron.py:500: ConvergenceWarning: lbfgs failed to converge (status=1):\n",
      "STOP: TOTAL NO. of ITERATIONS REACHED LIMIT.\n",
      "\n",
      "Increase the number of iterations (max_iter) or scale the data as shown in:\n",
      "    https://scikit-learn.org/stable/modules/preprocessing.html\n",
      "  self.n_iter_ = _check_optimize_result(\"lbfgs\", opt_res, self.max_iter)\n"
     ]
    },
    {
     "name": "stdout",
     "output_type": "stream",
     "text": [
      "[CV] END hidden_layer_sizes=38, learning_rate_init=0.001, max_iter=2500, random_state=42, solver=lbfgs; total time= 1.3min\n",
      "[CV] END hidden_layer_sizes=38, learning_rate_init=0.001, max_iter=2500, random_state=42, solver=adam; total time=  22.7s\n",
      "[CV] END hidden_layer_sizes=38, learning_rate_init=0.001, max_iter=2500, random_state=42, solver=adam; total time=  13.5s\n",
      "[CV] END hidden_layer_sizes=38, learning_rate_init=0.001, max_iter=2500, random_state=42, solver=adam; total time=  17.9s\n",
      "[CV] END hidden_layer_sizes=38, learning_rate_init=0.001, max_iter=2500, random_state=42, solver=adam; total time=  15.9s\n",
      "[CV] END hidden_layer_sizes=38, learning_rate_init=0.001, max_iter=2500, random_state=42, solver=adam; total time=  12.7s\n"
     ]
    },
    {
     "name": "stderr",
     "output_type": "stream",
     "text": [
      "C:\\Users\\salda\\Anaconda3\\lib\\site-packages\\sklearn\\neural_network\\_multilayer_perceptron.py:500: ConvergenceWarning: lbfgs failed to converge (status=1):\n",
      "STOP: TOTAL NO. of ITERATIONS REACHED LIMIT.\n",
      "\n",
      "Increase the number of iterations (max_iter) or scale the data as shown in:\n",
      "    https://scikit-learn.org/stable/modules/preprocessing.html\n",
      "  self.n_iter_ = _check_optimize_result(\"lbfgs\", opt_res, self.max_iter)\n"
     ]
    },
    {
     "name": "stdout",
     "output_type": "stream",
     "text": [
      "[CV] END hidden_layer_sizes=38, learning_rate_init=1e-05, max_iter=2500, random_state=42, solver=lbfgs; total time= 1.2min\n"
     ]
    },
    {
     "name": "stderr",
     "output_type": "stream",
     "text": [
      "C:\\Users\\salda\\Anaconda3\\lib\\site-packages\\sklearn\\neural_network\\_multilayer_perceptron.py:500: ConvergenceWarning: lbfgs failed to converge (status=1):\n",
      "STOP: TOTAL NO. of ITERATIONS REACHED LIMIT.\n",
      "\n",
      "Increase the number of iterations (max_iter) or scale the data as shown in:\n",
      "    https://scikit-learn.org/stable/modules/preprocessing.html\n",
      "  self.n_iter_ = _check_optimize_result(\"lbfgs\", opt_res, self.max_iter)\n"
     ]
    },
    {
     "name": "stdout",
     "output_type": "stream",
     "text": [
      "[CV] END hidden_layer_sizes=38, learning_rate_init=1e-05, max_iter=2500, random_state=42, solver=lbfgs; total time= 1.2min\n"
     ]
    },
    {
     "name": "stderr",
     "output_type": "stream",
     "text": [
      "C:\\Users\\salda\\Anaconda3\\lib\\site-packages\\sklearn\\neural_network\\_multilayer_perceptron.py:500: ConvergenceWarning: lbfgs failed to converge (status=1):\n",
      "STOP: TOTAL NO. of ITERATIONS REACHED LIMIT.\n",
      "\n",
      "Increase the number of iterations (max_iter) or scale the data as shown in:\n",
      "    https://scikit-learn.org/stable/modules/preprocessing.html\n",
      "  self.n_iter_ = _check_optimize_result(\"lbfgs\", opt_res, self.max_iter)\n"
     ]
    },
    {
     "name": "stdout",
     "output_type": "stream",
     "text": [
      "[CV] END hidden_layer_sizes=38, learning_rate_init=1e-05, max_iter=2500, random_state=42, solver=lbfgs; total time= 1.2min\n"
     ]
    },
    {
     "name": "stderr",
     "output_type": "stream",
     "text": [
      "C:\\Users\\salda\\Anaconda3\\lib\\site-packages\\sklearn\\neural_network\\_multilayer_perceptron.py:500: ConvergenceWarning: lbfgs failed to converge (status=1):\n",
      "STOP: TOTAL NO. of ITERATIONS REACHED LIMIT.\n",
      "\n",
      "Increase the number of iterations (max_iter) or scale the data as shown in:\n",
      "    https://scikit-learn.org/stable/modules/preprocessing.html\n",
      "  self.n_iter_ = _check_optimize_result(\"lbfgs\", opt_res, self.max_iter)\n"
     ]
    },
    {
     "name": "stdout",
     "output_type": "stream",
     "text": [
      "[CV] END hidden_layer_sizes=38, learning_rate_init=1e-05, max_iter=2500, random_state=42, solver=lbfgs; total time= 1.2min\n"
     ]
    },
    {
     "name": "stderr",
     "output_type": "stream",
     "text": [
      "C:\\Users\\salda\\Anaconda3\\lib\\site-packages\\sklearn\\neural_network\\_multilayer_perceptron.py:500: ConvergenceWarning: lbfgs failed to converge (status=1):\n",
      "STOP: TOTAL NO. of ITERATIONS REACHED LIMIT.\n",
      "\n",
      "Increase the number of iterations (max_iter) or scale the data as shown in:\n",
      "    https://scikit-learn.org/stable/modules/preprocessing.html\n",
      "  self.n_iter_ = _check_optimize_result(\"lbfgs\", opt_res, self.max_iter)\n"
     ]
    },
    {
     "name": "stdout",
     "output_type": "stream",
     "text": [
      "[CV] END hidden_layer_sizes=38, learning_rate_init=1e-05, max_iter=2500, random_state=42, solver=lbfgs; total time= 1.2min\n",
      "[CV] END hidden_layer_sizes=38, learning_rate_init=1e-05, max_iter=2500, random_state=42, solver=adam; total time= 1.4min\n",
      "[CV] END hidden_layer_sizes=38, learning_rate_init=1e-05, max_iter=2500, random_state=42, solver=adam; total time= 1.4min\n",
      "[CV] END hidden_layer_sizes=38, learning_rate_init=1e-05, max_iter=2500, random_state=42, solver=adam; total time= 1.4min\n",
      "[CV] END hidden_layer_sizes=38, learning_rate_init=1e-05, max_iter=2500, random_state=42, solver=adam; total time= 1.5min\n",
      "[CV] END hidden_layer_sizes=38, learning_rate_init=1e-05, max_iter=2500, random_state=42, solver=adam; total time= 1.4min\n"
     ]
    },
    {
     "name": "stderr",
     "output_type": "stream",
     "text": [
      "C:\\Users\\salda\\Anaconda3\\lib\\site-packages\\sklearn\\neural_network\\_multilayer_perceptron.py:500: ConvergenceWarning: lbfgs failed to converge (status=1):\n",
      "STOP: TOTAL NO. of ITERATIONS REACHED LIMIT.\n",
      "\n",
      "Increase the number of iterations (max_iter) or scale the data as shown in:\n",
      "    https://scikit-learn.org/stable/modules/preprocessing.html\n",
      "  self.n_iter_ = _check_optimize_result(\"lbfgs\", opt_res, self.max_iter)\n"
     ]
    },
    {
     "name": "stdout",
     "output_type": "stream",
     "text": [
      "[CV] END hidden_layer_sizes=39, learning_rate_init=0.1, max_iter=2500, random_state=42, solver=lbfgs; total time= 1.1min\n"
     ]
    },
    {
     "name": "stderr",
     "output_type": "stream",
     "text": [
      "C:\\Users\\salda\\Anaconda3\\lib\\site-packages\\sklearn\\neural_network\\_multilayer_perceptron.py:500: ConvergenceWarning: lbfgs failed to converge (status=1):\n",
      "STOP: TOTAL NO. of ITERATIONS REACHED LIMIT.\n",
      "\n",
      "Increase the number of iterations (max_iter) or scale the data as shown in:\n",
      "    https://scikit-learn.org/stable/modules/preprocessing.html\n",
      "  self.n_iter_ = _check_optimize_result(\"lbfgs\", opt_res, self.max_iter)\n"
     ]
    },
    {
     "name": "stdout",
     "output_type": "stream",
     "text": [
      "[CV] END hidden_layer_sizes=39, learning_rate_init=0.1, max_iter=2500, random_state=42, solver=lbfgs; total time= 1.2min\n"
     ]
    },
    {
     "name": "stderr",
     "output_type": "stream",
     "text": [
      "C:\\Users\\salda\\Anaconda3\\lib\\site-packages\\sklearn\\neural_network\\_multilayer_perceptron.py:500: ConvergenceWarning: lbfgs failed to converge (status=1):\n",
      "STOP: TOTAL NO. of ITERATIONS REACHED LIMIT.\n",
      "\n",
      "Increase the number of iterations (max_iter) or scale the data as shown in:\n",
      "    https://scikit-learn.org/stable/modules/preprocessing.html\n",
      "  self.n_iter_ = _check_optimize_result(\"lbfgs\", opt_res, self.max_iter)\n"
     ]
    },
    {
     "name": "stdout",
     "output_type": "stream",
     "text": [
      "[CV] END hidden_layer_sizes=39, learning_rate_init=0.1, max_iter=2500, random_state=42, solver=lbfgs; total time= 1.2min\n"
     ]
    },
    {
     "name": "stderr",
     "output_type": "stream",
     "text": [
      "C:\\Users\\salda\\Anaconda3\\lib\\site-packages\\sklearn\\neural_network\\_multilayer_perceptron.py:500: ConvergenceWarning: lbfgs failed to converge (status=1):\n",
      "STOP: TOTAL NO. of ITERATIONS REACHED LIMIT.\n",
      "\n",
      "Increase the number of iterations (max_iter) or scale the data as shown in:\n",
      "    https://scikit-learn.org/stable/modules/preprocessing.html\n",
      "  self.n_iter_ = _check_optimize_result(\"lbfgs\", opt_res, self.max_iter)\n"
     ]
    },
    {
     "name": "stdout",
     "output_type": "stream",
     "text": [
      "[CV] END hidden_layer_sizes=39, learning_rate_init=0.1, max_iter=2500, random_state=42, solver=lbfgs; total time= 1.2min\n"
     ]
    },
    {
     "name": "stderr",
     "output_type": "stream",
     "text": [
      "C:\\Users\\salda\\Anaconda3\\lib\\site-packages\\sklearn\\neural_network\\_multilayer_perceptron.py:500: ConvergenceWarning: lbfgs failed to converge (status=1):\n",
      "STOP: TOTAL NO. of ITERATIONS REACHED LIMIT.\n",
      "\n",
      "Increase the number of iterations (max_iter) or scale the data as shown in:\n",
      "    https://scikit-learn.org/stable/modules/preprocessing.html\n",
      "  self.n_iter_ = _check_optimize_result(\"lbfgs\", opt_res, self.max_iter)\n"
     ]
    },
    {
     "name": "stdout",
     "output_type": "stream",
     "text": [
      "[CV] END hidden_layer_sizes=39, learning_rate_init=0.1, max_iter=2500, random_state=42, solver=lbfgs; total time= 1.2min\n",
      "[CV] END hidden_layer_sizes=39, learning_rate_init=0.1, max_iter=2500, random_state=42, solver=adam; total time=   3.0s\n",
      "[CV] END hidden_layer_sizes=39, learning_rate_init=0.1, max_iter=2500, random_state=42, solver=adam; total time=   2.6s\n",
      "[CV] END hidden_layer_sizes=39, learning_rate_init=0.1, max_iter=2500, random_state=42, solver=adam; total time=   2.8s\n",
      "[CV] END hidden_layer_sizes=39, learning_rate_init=0.1, max_iter=2500, random_state=42, solver=adam; total time=   2.7s\n",
      "[CV] END hidden_layer_sizes=39, learning_rate_init=0.1, max_iter=2500, random_state=42, solver=adam; total time=   3.6s\n"
     ]
    },
    {
     "name": "stderr",
     "output_type": "stream",
     "text": [
      "C:\\Users\\salda\\Anaconda3\\lib\\site-packages\\sklearn\\neural_network\\_multilayer_perceptron.py:500: ConvergenceWarning: lbfgs failed to converge (status=1):\n",
      "STOP: TOTAL NO. of ITERATIONS REACHED LIMIT.\n",
      "\n",
      "Increase the number of iterations (max_iter) or scale the data as shown in:\n",
      "    https://scikit-learn.org/stable/modules/preprocessing.html\n",
      "  self.n_iter_ = _check_optimize_result(\"lbfgs\", opt_res, self.max_iter)\n"
     ]
    },
    {
     "name": "stdout",
     "output_type": "stream",
     "text": [
      "[CV] END hidden_layer_sizes=39, learning_rate_init=0.001, max_iter=2500, random_state=42, solver=lbfgs; total time= 1.1min\n"
     ]
    },
    {
     "name": "stderr",
     "output_type": "stream",
     "text": [
      "C:\\Users\\salda\\Anaconda3\\lib\\site-packages\\sklearn\\neural_network\\_multilayer_perceptron.py:500: ConvergenceWarning: lbfgs failed to converge (status=1):\n",
      "STOP: TOTAL NO. of ITERATIONS REACHED LIMIT.\n",
      "\n",
      "Increase the number of iterations (max_iter) or scale the data as shown in:\n",
      "    https://scikit-learn.org/stable/modules/preprocessing.html\n",
      "  self.n_iter_ = _check_optimize_result(\"lbfgs\", opt_res, self.max_iter)\n"
     ]
    },
    {
     "name": "stdout",
     "output_type": "stream",
     "text": [
      "[CV] END hidden_layer_sizes=39, learning_rate_init=0.001, max_iter=2500, random_state=42, solver=lbfgs; total time= 1.2min\n"
     ]
    },
    {
     "name": "stderr",
     "output_type": "stream",
     "text": [
      "C:\\Users\\salda\\Anaconda3\\lib\\site-packages\\sklearn\\neural_network\\_multilayer_perceptron.py:500: ConvergenceWarning: lbfgs failed to converge (status=1):\n",
      "STOP: TOTAL NO. of ITERATIONS REACHED LIMIT.\n",
      "\n",
      "Increase the number of iterations (max_iter) or scale the data as shown in:\n",
      "    https://scikit-learn.org/stable/modules/preprocessing.html\n",
      "  self.n_iter_ = _check_optimize_result(\"lbfgs\", opt_res, self.max_iter)\n"
     ]
    },
    {
     "name": "stdout",
     "output_type": "stream",
     "text": [
      "[CV] END hidden_layer_sizes=39, learning_rate_init=0.001, max_iter=2500, random_state=42, solver=lbfgs; total time= 1.2min\n"
     ]
    },
    {
     "name": "stderr",
     "output_type": "stream",
     "text": [
      "C:\\Users\\salda\\Anaconda3\\lib\\site-packages\\sklearn\\neural_network\\_multilayer_perceptron.py:500: ConvergenceWarning: lbfgs failed to converge (status=1):\n",
      "STOP: TOTAL NO. of ITERATIONS REACHED LIMIT.\n",
      "\n",
      "Increase the number of iterations (max_iter) or scale the data as shown in:\n",
      "    https://scikit-learn.org/stable/modules/preprocessing.html\n",
      "  self.n_iter_ = _check_optimize_result(\"lbfgs\", opt_res, self.max_iter)\n"
     ]
    },
    {
     "name": "stdout",
     "output_type": "stream",
     "text": [
      "[CV] END hidden_layer_sizes=39, learning_rate_init=0.001, max_iter=2500, random_state=42, solver=lbfgs; total time= 1.2min\n"
     ]
    },
    {
     "name": "stderr",
     "output_type": "stream",
     "text": [
      "C:\\Users\\salda\\Anaconda3\\lib\\site-packages\\sklearn\\neural_network\\_multilayer_perceptron.py:500: ConvergenceWarning: lbfgs failed to converge (status=1):\n",
      "STOP: TOTAL NO. of ITERATIONS REACHED LIMIT.\n",
      "\n",
      "Increase the number of iterations (max_iter) or scale the data as shown in:\n",
      "    https://scikit-learn.org/stable/modules/preprocessing.html\n",
      "  self.n_iter_ = _check_optimize_result(\"lbfgs\", opt_res, self.max_iter)\n"
     ]
    },
    {
     "name": "stdout",
     "output_type": "stream",
     "text": [
      "[CV] END hidden_layer_sizes=39, learning_rate_init=0.001, max_iter=2500, random_state=42, solver=lbfgs; total time= 1.2min\n",
      "[CV] END hidden_layer_sizes=39, learning_rate_init=0.001, max_iter=2500, random_state=42, solver=adam; total time=  20.0s\n",
      "[CV] END hidden_layer_sizes=39, learning_rate_init=0.001, max_iter=2500, random_state=42, solver=adam; total time=  16.0s\n",
      "[CV] END hidden_layer_sizes=39, learning_rate_init=0.001, max_iter=2500, random_state=42, solver=adam; total time=  22.2s\n",
      "[CV] END hidden_layer_sizes=39, learning_rate_init=0.001, max_iter=2500, random_state=42, solver=adam; total time=  13.8s\n",
      "[CV] END hidden_layer_sizes=39, learning_rate_init=0.001, max_iter=2500, random_state=42, solver=adam; total time=  15.8s\n"
     ]
    },
    {
     "name": "stderr",
     "output_type": "stream",
     "text": [
      "C:\\Users\\salda\\Anaconda3\\lib\\site-packages\\sklearn\\neural_network\\_multilayer_perceptron.py:500: ConvergenceWarning: lbfgs failed to converge (status=1):\n",
      "STOP: TOTAL NO. of ITERATIONS REACHED LIMIT.\n",
      "\n",
      "Increase the number of iterations (max_iter) or scale the data as shown in:\n",
      "    https://scikit-learn.org/stable/modules/preprocessing.html\n",
      "  self.n_iter_ = _check_optimize_result(\"lbfgs\", opt_res, self.max_iter)\n"
     ]
    },
    {
     "name": "stdout",
     "output_type": "stream",
     "text": [
      "[CV] END hidden_layer_sizes=39, learning_rate_init=1e-05, max_iter=2500, random_state=42, solver=lbfgs; total time= 1.1min\n"
     ]
    },
    {
     "name": "stderr",
     "output_type": "stream",
     "text": [
      "C:\\Users\\salda\\Anaconda3\\lib\\site-packages\\sklearn\\neural_network\\_multilayer_perceptron.py:500: ConvergenceWarning: lbfgs failed to converge (status=1):\n",
      "STOP: TOTAL NO. of ITERATIONS REACHED LIMIT.\n",
      "\n",
      "Increase the number of iterations (max_iter) or scale the data as shown in:\n",
      "    https://scikit-learn.org/stable/modules/preprocessing.html\n",
      "  self.n_iter_ = _check_optimize_result(\"lbfgs\", opt_res, self.max_iter)\n"
     ]
    },
    {
     "name": "stdout",
     "output_type": "stream",
     "text": [
      "[CV] END hidden_layer_sizes=39, learning_rate_init=1e-05, max_iter=2500, random_state=42, solver=lbfgs; total time= 1.2min\n"
     ]
    },
    {
     "name": "stderr",
     "output_type": "stream",
     "text": [
      "C:\\Users\\salda\\Anaconda3\\lib\\site-packages\\sklearn\\neural_network\\_multilayer_perceptron.py:500: ConvergenceWarning: lbfgs failed to converge (status=1):\n",
      "STOP: TOTAL NO. of ITERATIONS REACHED LIMIT.\n",
      "\n",
      "Increase the number of iterations (max_iter) or scale the data as shown in:\n",
      "    https://scikit-learn.org/stable/modules/preprocessing.html\n",
      "  self.n_iter_ = _check_optimize_result(\"lbfgs\", opt_res, self.max_iter)\n"
     ]
    },
    {
     "name": "stdout",
     "output_type": "stream",
     "text": [
      "[CV] END hidden_layer_sizes=39, learning_rate_init=1e-05, max_iter=2500, random_state=42, solver=lbfgs; total time= 1.2min\n"
     ]
    },
    {
     "name": "stderr",
     "output_type": "stream",
     "text": [
      "C:\\Users\\salda\\Anaconda3\\lib\\site-packages\\sklearn\\neural_network\\_multilayer_perceptron.py:500: ConvergenceWarning: lbfgs failed to converge (status=1):\n",
      "STOP: TOTAL NO. of ITERATIONS REACHED LIMIT.\n",
      "\n",
      "Increase the number of iterations (max_iter) or scale the data as shown in:\n",
      "    https://scikit-learn.org/stable/modules/preprocessing.html\n",
      "  self.n_iter_ = _check_optimize_result(\"lbfgs\", opt_res, self.max_iter)\n"
     ]
    },
    {
     "name": "stdout",
     "output_type": "stream",
     "text": [
      "[CV] END hidden_layer_sizes=39, learning_rate_init=1e-05, max_iter=2500, random_state=42, solver=lbfgs; total time= 1.2min\n"
     ]
    },
    {
     "name": "stderr",
     "output_type": "stream",
     "text": [
      "C:\\Users\\salda\\Anaconda3\\lib\\site-packages\\sklearn\\neural_network\\_multilayer_perceptron.py:500: ConvergenceWarning: lbfgs failed to converge (status=1):\n",
      "STOP: TOTAL NO. of ITERATIONS REACHED LIMIT.\n",
      "\n",
      "Increase the number of iterations (max_iter) or scale the data as shown in:\n",
      "    https://scikit-learn.org/stable/modules/preprocessing.html\n",
      "  self.n_iter_ = _check_optimize_result(\"lbfgs\", opt_res, self.max_iter)\n"
     ]
    },
    {
     "name": "stdout",
     "output_type": "stream",
     "text": [
      "[CV] END hidden_layer_sizes=39, learning_rate_init=1e-05, max_iter=2500, random_state=42, solver=lbfgs; total time= 1.2min\n",
      "[CV] END hidden_layer_sizes=39, learning_rate_init=1e-05, max_iter=2500, random_state=42, solver=adam; total time= 1.2min\n",
      "[CV] END hidden_layer_sizes=39, learning_rate_init=1e-05, max_iter=2500, random_state=42, solver=adam; total time= 1.3min\n",
      "[CV] END hidden_layer_sizes=39, learning_rate_init=1e-05, max_iter=2500, random_state=42, solver=adam; total time= 1.2min\n",
      "[CV] END hidden_layer_sizes=39, learning_rate_init=1e-05, max_iter=2500, random_state=42, solver=adam; total time= 1.3min\n",
      "[CV] END hidden_layer_sizes=39, learning_rate_init=1e-05, max_iter=2500, random_state=42, solver=adam; total time= 1.3min\n"
     ]
    },
    {
     "name": "stderr",
     "output_type": "stream",
     "text": [
      "C:\\Users\\salda\\Anaconda3\\lib\\site-packages\\sklearn\\neural_network\\_multilayer_perceptron.py:500: ConvergenceWarning: lbfgs failed to converge (status=1):\n",
      "STOP: TOTAL NO. of ITERATIONS REACHED LIMIT.\n",
      "\n",
      "Increase the number of iterations (max_iter) or scale the data as shown in:\n",
      "    https://scikit-learn.org/stable/modules/preprocessing.html\n",
      "  self.n_iter_ = _check_optimize_result(\"lbfgs\", opt_res, self.max_iter)\n"
     ]
    },
    {
     "data": {
      "text/html": [
       "<div>\n",
       "<style scoped>\n",
       "    .dataframe tbody tr th:only-of-type {\n",
       "        vertical-align: middle;\n",
       "    }\n",
       "\n",
       "    .dataframe tbody tr th {\n",
       "        vertical-align: top;\n",
       "    }\n",
       "\n",
       "    .dataframe thead th {\n",
       "        text-align: right;\n",
       "    }\n",
       "</style>\n",
       "<table border=\"1\" class=\"dataframe\">\n",
       "  <thead>\n",
       "    <tr style=\"text-align: right;\">\n",
       "      <th></th>\n",
       "      <th>mean_fit_time</th>\n",
       "      <th>std_fit_time</th>\n",
       "      <th>mean_score_time</th>\n",
       "      <th>std_score_time</th>\n",
       "      <th>param_hidden_layer_sizes</th>\n",
       "      <th>param_learning_rate_init</th>\n",
       "      <th>param_max_iter</th>\n",
       "      <th>param_random_state</th>\n",
       "      <th>param_solver</th>\n",
       "      <th>params</th>\n",
       "      <th>split0_test_score</th>\n",
       "      <th>split1_test_score</th>\n",
       "      <th>split2_test_score</th>\n",
       "      <th>split3_test_score</th>\n",
       "      <th>split4_test_score</th>\n",
       "      <th>mean_test_score</th>\n",
       "      <th>std_test_score</th>\n",
       "      <th>rank_test_score</th>\n",
       "    </tr>\n",
       "  </thead>\n",
       "  <tbody>\n",
       "    <tr>\n",
       "      <th>0</th>\n",
       "      <td>0.303301</td>\n",
       "      <td>0.088646</td>\n",
       "      <td>0.000994</td>\n",
       "      <td>6.299335e-04</td>\n",
       "      <td>1</td>\n",
       "      <td>0.1</td>\n",
       "      <td>2500</td>\n",
       "      <td>42</td>\n",
       "      <td>lbfgs</td>\n",
       "      <td>{'hidden_layer_sizes': 1, 'learning_rate_init'...</td>\n",
       "      <td>-0.061793</td>\n",
       "      <td>0.714511</td>\n",
       "      <td>0.807358</td>\n",
       "      <td>0.600239</td>\n",
       "      <td>0.830446</td>\n",
       "      <td>0.578152</td>\n",
       "      <td>0.330090</td>\n",
       "      <td>231</td>\n",
       "    </tr>\n",
       "    <tr>\n",
       "      <th>1</th>\n",
       "      <td>1.228849</td>\n",
       "      <td>0.252195</td>\n",
       "      <td>0.000804</td>\n",
       "      <td>4.023509e-04</td>\n",
       "      <td>1</td>\n",
       "      <td>0.1</td>\n",
       "      <td>2500</td>\n",
       "      <td>42</td>\n",
       "      <td>adam</td>\n",
       "      <td>{'hidden_layer_sizes': 1, 'learning_rate_init'...</td>\n",
       "      <td>0.952201</td>\n",
       "      <td>0.947482</td>\n",
       "      <td>0.969254</td>\n",
       "      <td>0.954601</td>\n",
       "      <td>0.933903</td>\n",
       "      <td>0.951488</td>\n",
       "      <td>0.011411</td>\n",
       "      <td>226</td>\n",
       "    </tr>\n",
       "    <tr>\n",
       "      <th>2</th>\n",
       "      <td>0.292257</td>\n",
       "      <td>0.145970</td>\n",
       "      <td>0.000997</td>\n",
       "      <td>3.234067e-07</td>\n",
       "      <td>1</td>\n",
       "      <td>0.001</td>\n",
       "      <td>2500</td>\n",
       "      <td>42</td>\n",
       "      <td>lbfgs</td>\n",
       "      <td>{'hidden_layer_sizes': 1, 'learning_rate_init'...</td>\n",
       "      <td>-0.061793</td>\n",
       "      <td>0.714511</td>\n",
       "      <td>0.807358</td>\n",
       "      <td>0.600239</td>\n",
       "      <td>0.830446</td>\n",
       "      <td>0.578152</td>\n",
       "      <td>0.330090</td>\n",
       "      <td>231</td>\n",
       "    </tr>\n",
       "    <tr>\n",
       "      <th>3</th>\n",
       "      <td>20.520064</td>\n",
       "      <td>5.031715</td>\n",
       "      <td>0.001397</td>\n",
       "      <td>7.987261e-04</td>\n",
       "      <td>1</td>\n",
       "      <td>0.001</td>\n",
       "      <td>2500</td>\n",
       "      <td>42</td>\n",
       "      <td>adam</td>\n",
       "      <td>{'hidden_layer_sizes': 1, 'learning_rate_init'...</td>\n",
       "      <td>0.962700</td>\n",
       "      <td>0.956945</td>\n",
       "      <td>-0.010873</td>\n",
       "      <td>0.962540</td>\n",
       "      <td>0.959639</td>\n",
       "      <td>0.766190</td>\n",
       "      <td>0.388538</td>\n",
       "      <td>229</td>\n",
       "    </tr>\n",
       "    <tr>\n",
       "      <th>4</th>\n",
       "      <td>0.310127</td>\n",
       "      <td>0.140948</td>\n",
       "      <td>0.001201</td>\n",
       "      <td>9.852692e-04</td>\n",
       "      <td>1</td>\n",
       "      <td>0.00001</td>\n",
       "      <td>2500</td>\n",
       "      <td>42</td>\n",
       "      <td>lbfgs</td>\n",
       "      <td>{'hidden_layer_sizes': 1, 'learning_rate_init'...</td>\n",
       "      <td>-0.061793</td>\n",
       "      <td>0.714511</td>\n",
       "      <td>0.807358</td>\n",
       "      <td>0.600239</td>\n",
       "      <td>0.830446</td>\n",
       "      <td>0.578152</td>\n",
       "      <td>0.330090</td>\n",
       "      <td>231</td>\n",
       "    </tr>\n",
       "    <tr>\n",
       "      <th>...</th>\n",
       "      <td>...</td>\n",
       "      <td>...</td>\n",
       "      <td>...</td>\n",
       "      <td>...</td>\n",
       "      <td>...</td>\n",
       "      <td>...</td>\n",
       "      <td>...</td>\n",
       "      <td>...</td>\n",
       "      <td>...</td>\n",
       "      <td>...</td>\n",
       "      <td>...</td>\n",
       "      <td>...</td>\n",
       "      <td>...</td>\n",
       "      <td>...</td>\n",
       "      <td>...</td>\n",
       "      <td>...</td>\n",
       "      <td>...</td>\n",
       "      <td>...</td>\n",
       "    </tr>\n",
       "    <tr>\n",
       "      <th>229</th>\n",
       "      <td>3.024451</td>\n",
       "      <td>0.333932</td>\n",
       "      <td>0.003591</td>\n",
       "      <td>1.018028e-03</td>\n",
       "      <td>39</td>\n",
       "      <td>0.1</td>\n",
       "      <td>2500</td>\n",
       "      <td>42</td>\n",
       "      <td>adam</td>\n",
       "      <td>{'hidden_layer_sizes': 39, 'learning_rate_init...</td>\n",
       "      <td>0.959178</td>\n",
       "      <td>0.949639</td>\n",
       "      <td>0.969515</td>\n",
       "      <td>0.946909</td>\n",
       "      <td>0.955747</td>\n",
       "      <td>0.956198</td>\n",
       "      <td>0.007946</td>\n",
       "      <td>221</td>\n",
       "    </tr>\n",
       "    <tr>\n",
       "      <th>230</th>\n",
       "      <td>71.256170</td>\n",
       "      <td>1.840241</td>\n",
       "      <td>0.003584</td>\n",
       "      <td>4.847858e-04</td>\n",
       "      <td>39</td>\n",
       "      <td>0.001</td>\n",
       "      <td>2500</td>\n",
       "      <td>42</td>\n",
       "      <td>lbfgs</td>\n",
       "      <td>{'hidden_layer_sizes': 39, 'learning_rate_init...</td>\n",
       "      <td>0.965858</td>\n",
       "      <td>0.962757</td>\n",
       "      <td>0.972503</td>\n",
       "      <td>0.966245</td>\n",
       "      <td>0.960732</td>\n",
       "      <td>0.965619</td>\n",
       "      <td>0.003998</td>\n",
       "      <td>83</td>\n",
       "    </tr>\n",
       "    <tr>\n",
       "      <th>231</th>\n",
       "      <td>17.688545</td>\n",
       "      <td>3.075616</td>\n",
       "      <td>0.002793</td>\n",
       "      <td>3.995429e-04</td>\n",
       "      <td>39</td>\n",
       "      <td>0.001</td>\n",
       "      <td>2500</td>\n",
       "      <td>42</td>\n",
       "      <td>adam</td>\n",
       "      <td>{'hidden_layer_sizes': 39, 'learning_rate_init...</td>\n",
       "      <td>0.966535</td>\n",
       "      <td>0.962041</td>\n",
       "      <td>0.973212</td>\n",
       "      <td>0.965719</td>\n",
       "      <td>0.960131</td>\n",
       "      <td>0.965527</td>\n",
       "      <td>0.004503</td>\n",
       "      <td>90</td>\n",
       "    </tr>\n",
       "    <tr>\n",
       "      <th>232</th>\n",
       "      <td>71.220625</td>\n",
       "      <td>1.924763</td>\n",
       "      <td>0.003990</td>\n",
       "      <td>1.545480e-03</td>\n",
       "      <td>39</td>\n",
       "      <td>0.00001</td>\n",
       "      <td>2500</td>\n",
       "      <td>42</td>\n",
       "      <td>lbfgs</td>\n",
       "      <td>{'hidden_layer_sizes': 39, 'learning_rate_init...</td>\n",
       "      <td>0.965858</td>\n",
       "      <td>0.962757</td>\n",
       "      <td>0.972503</td>\n",
       "      <td>0.966245</td>\n",
       "      <td>0.960732</td>\n",
       "      <td>0.965619</td>\n",
       "      <td>0.003998</td>\n",
       "      <td>83</td>\n",
       "    </tr>\n",
       "    <tr>\n",
       "      <th>233</th>\n",
       "      <td>76.833060</td>\n",
       "      <td>2.556601</td>\n",
       "      <td>0.002793</td>\n",
       "      <td>7.462000e-04</td>\n",
       "      <td>39</td>\n",
       "      <td>0.00001</td>\n",
       "      <td>2500</td>\n",
       "      <td>42</td>\n",
       "      <td>adam</td>\n",
       "      <td>{'hidden_layer_sizes': 39, 'learning_rate_init...</td>\n",
       "      <td>0.959025</td>\n",
       "      <td>0.955374</td>\n",
       "      <td>0.968119</td>\n",
       "      <td>0.960381</td>\n",
       "      <td>0.950926</td>\n",
       "      <td>0.958765</td>\n",
       "      <td>0.005712</td>\n",
       "      <td>178</td>\n",
       "    </tr>\n",
       "  </tbody>\n",
       "</table>\n",
       "<p>234 rows × 18 columns</p>\n",
       "</div>"
      ],
      "text/plain": [
       "     mean_fit_time  std_fit_time  mean_score_time  std_score_time  \\\n",
       "0         0.303301      0.088646         0.000994    6.299335e-04   \n",
       "1         1.228849      0.252195         0.000804    4.023509e-04   \n",
       "2         0.292257      0.145970         0.000997    3.234067e-07   \n",
       "3        20.520064      5.031715         0.001397    7.987261e-04   \n",
       "4         0.310127      0.140948         0.001201    9.852692e-04   \n",
       "..             ...           ...              ...             ...   \n",
       "229       3.024451      0.333932         0.003591    1.018028e-03   \n",
       "230      71.256170      1.840241         0.003584    4.847858e-04   \n",
       "231      17.688545      3.075616         0.002793    3.995429e-04   \n",
       "232      71.220625      1.924763         0.003990    1.545480e-03   \n",
       "233      76.833060      2.556601         0.002793    7.462000e-04   \n",
       "\n",
       "    param_hidden_layer_sizes param_learning_rate_init param_max_iter  \\\n",
       "0                          1                      0.1           2500   \n",
       "1                          1                      0.1           2500   \n",
       "2                          1                    0.001           2500   \n",
       "3                          1                    0.001           2500   \n",
       "4                          1                  0.00001           2500   \n",
       "..                       ...                      ...            ...   \n",
       "229                       39                      0.1           2500   \n",
       "230                       39                    0.001           2500   \n",
       "231                       39                    0.001           2500   \n",
       "232                       39                  0.00001           2500   \n",
       "233                       39                  0.00001           2500   \n",
       "\n",
       "    param_random_state param_solver  \\\n",
       "0                   42        lbfgs   \n",
       "1                   42         adam   \n",
       "2                   42        lbfgs   \n",
       "3                   42         adam   \n",
       "4                   42        lbfgs   \n",
       "..                 ...          ...   \n",
       "229                 42         adam   \n",
       "230                 42        lbfgs   \n",
       "231                 42         adam   \n",
       "232                 42        lbfgs   \n",
       "233                 42         adam   \n",
       "\n",
       "                                                params  split0_test_score  \\\n",
       "0    {'hidden_layer_sizes': 1, 'learning_rate_init'...          -0.061793   \n",
       "1    {'hidden_layer_sizes': 1, 'learning_rate_init'...           0.952201   \n",
       "2    {'hidden_layer_sizes': 1, 'learning_rate_init'...          -0.061793   \n",
       "3    {'hidden_layer_sizes': 1, 'learning_rate_init'...           0.962700   \n",
       "4    {'hidden_layer_sizes': 1, 'learning_rate_init'...          -0.061793   \n",
       "..                                                 ...                ...   \n",
       "229  {'hidden_layer_sizes': 39, 'learning_rate_init...           0.959178   \n",
       "230  {'hidden_layer_sizes': 39, 'learning_rate_init...           0.965858   \n",
       "231  {'hidden_layer_sizes': 39, 'learning_rate_init...           0.966535   \n",
       "232  {'hidden_layer_sizes': 39, 'learning_rate_init...           0.965858   \n",
       "233  {'hidden_layer_sizes': 39, 'learning_rate_init...           0.959025   \n",
       "\n",
       "     split1_test_score  split2_test_score  split3_test_score  \\\n",
       "0             0.714511           0.807358           0.600239   \n",
       "1             0.947482           0.969254           0.954601   \n",
       "2             0.714511           0.807358           0.600239   \n",
       "3             0.956945          -0.010873           0.962540   \n",
       "4             0.714511           0.807358           0.600239   \n",
       "..                 ...                ...                ...   \n",
       "229           0.949639           0.969515           0.946909   \n",
       "230           0.962757           0.972503           0.966245   \n",
       "231           0.962041           0.973212           0.965719   \n",
       "232           0.962757           0.972503           0.966245   \n",
       "233           0.955374           0.968119           0.960381   \n",
       "\n",
       "     split4_test_score  mean_test_score  std_test_score  rank_test_score  \n",
       "0             0.830446         0.578152        0.330090              231  \n",
       "1             0.933903         0.951488        0.011411              226  \n",
       "2             0.830446         0.578152        0.330090              231  \n",
       "3             0.959639         0.766190        0.388538              229  \n",
       "4             0.830446         0.578152        0.330090              231  \n",
       "..                 ...              ...             ...              ...  \n",
       "229           0.955747         0.956198        0.007946              221  \n",
       "230           0.960732         0.965619        0.003998               83  \n",
       "231           0.960131         0.965527        0.004503               90  \n",
       "232           0.960732         0.965619        0.003998               83  \n",
       "233           0.950926         0.958765        0.005712              178  \n",
       "\n",
       "[234 rows x 18 columns]"
      ]
     },
     "execution_count": 4,
     "metadata": {},
     "output_type": "execute_result"
    }
   ],
   "source": [
    "from sklearn.neural_network import MLPRegressor\n",
    "\n",
    "layers = range(1,40)\n",
    "\n",
    "parameters = {'hidden_layer_sizes': layers, 'solver': ['lbfgs', 'adam'], 'max_iter': [2500], 'learning_rate_init': 10.0 ** -np.arange(1, 6, 2), 'random_state':[42]}\n",
    "MLPReg = GridSearchCV(MLPRegressor(), parameters, cv=5,  verbose=2, return_train_score=False)\n",
    "MLPReg.fit(X_scaled, y)\n",
    "\n",
    "MLPRegRes = pd.DataFrame(MLPReg.cv_results_)\n",
    "MLPRegRes"
   ]
  },
  {
   "cell_type": "code",
   "execution_count": 7,
   "metadata": {
    "colab": {
     "base_uri": "https://localhost:8080/",
     "height": 169
    },
    "id": "7ZtwWSrt7tSF",
    "outputId": "f7697665-efb1-43cd-ef41-189174b3d6d9",
    "scrolled": true
   },
   "outputs": [
    {
     "data": {
      "text/html": [
       "<div>\n",
       "<style scoped>\n",
       "    .dataframe tbody tr th:only-of-type {\n",
       "        vertical-align: middle;\n",
       "    }\n",
       "\n",
       "    .dataframe tbody tr th {\n",
       "        vertical-align: top;\n",
       "    }\n",
       "\n",
       "    .dataframe thead th {\n",
       "        text-align: right;\n",
       "    }\n",
       "</style>\n",
       "<table border=\"1\" class=\"dataframe\">\n",
       "  <thead>\n",
       "    <tr style=\"text-align: right;\">\n",
       "      <th></th>\n",
       "      <th>rank_test_score</th>\n",
       "      <th>mean_test_score</th>\n",
       "      <th>param_hidden_layer_sizes</th>\n",
       "      <th>param_solver</th>\n",
       "      <th>param_max_iter</th>\n",
       "      <th>param_learning_rate_init</th>\n",
       "    </tr>\n",
       "  </thead>\n",
       "  <tbody>\n",
       "    <tr>\n",
       "      <th>72</th>\n",
       "      <td>1</td>\n",
       "      <td>0.966446</td>\n",
       "      <td>13</td>\n",
       "      <td>lbfgs</td>\n",
       "      <td>2500</td>\n",
       "      <td>0.1</td>\n",
       "    </tr>\n",
       "    <tr>\n",
       "      <th>76</th>\n",
       "      <td>1</td>\n",
       "      <td>0.966446</td>\n",
       "      <td>13</td>\n",
       "      <td>lbfgs</td>\n",
       "      <td>2500</td>\n",
       "      <td>0.00001</td>\n",
       "    </tr>\n",
       "    <tr>\n",
       "      <th>74</th>\n",
       "      <td>1</td>\n",
       "      <td>0.966446</td>\n",
       "      <td>13</td>\n",
       "      <td>lbfgs</td>\n",
       "      <td>2500</td>\n",
       "      <td>0.001</td>\n",
       "    </tr>\n",
       "    <tr>\n",
       "      <th>108</th>\n",
       "      <td>4</td>\n",
       "      <td>0.966399</td>\n",
       "      <td>19</td>\n",
       "      <td>lbfgs</td>\n",
       "      <td>2500</td>\n",
       "      <td>0.1</td>\n",
       "    </tr>\n",
       "    <tr>\n",
       "      <th>110</th>\n",
       "      <td>4</td>\n",
       "      <td>0.966399</td>\n",
       "      <td>19</td>\n",
       "      <td>lbfgs</td>\n",
       "      <td>2500</td>\n",
       "      <td>0.001</td>\n",
       "    </tr>\n",
       "    <tr>\n",
       "      <th>...</th>\n",
       "      <td>...</td>\n",
       "      <td>...</td>\n",
       "      <td>...</td>\n",
       "      <td>...</td>\n",
       "      <td>...</td>\n",
       "      <td>...</td>\n",
       "    </tr>\n",
       "    <tr>\n",
       "      <th>11</th>\n",
       "      <td>230</td>\n",
       "      <td>0.668244</td>\n",
       "      <td>2</td>\n",
       "      <td>adam</td>\n",
       "      <td>2500</td>\n",
       "      <td>0.00001</td>\n",
       "    </tr>\n",
       "    <tr>\n",
       "      <th>4</th>\n",
       "      <td>231</td>\n",
       "      <td>0.578152</td>\n",
       "      <td>1</td>\n",
       "      <td>lbfgs</td>\n",
       "      <td>2500</td>\n",
       "      <td>0.00001</td>\n",
       "    </tr>\n",
       "    <tr>\n",
       "      <th>2</th>\n",
       "      <td>231</td>\n",
       "      <td>0.578152</td>\n",
       "      <td>1</td>\n",
       "      <td>lbfgs</td>\n",
       "      <td>2500</td>\n",
       "      <td>0.001</td>\n",
       "    </tr>\n",
       "    <tr>\n",
       "      <th>0</th>\n",
       "      <td>231</td>\n",
       "      <td>0.578152</td>\n",
       "      <td>1</td>\n",
       "      <td>lbfgs</td>\n",
       "      <td>2500</td>\n",
       "      <td>0.1</td>\n",
       "    </tr>\n",
       "    <tr>\n",
       "      <th>5</th>\n",
       "      <td>234</td>\n",
       "      <td>-7.163021</td>\n",
       "      <td>1</td>\n",
       "      <td>adam</td>\n",
       "      <td>2500</td>\n",
       "      <td>0.00001</td>\n",
       "    </tr>\n",
       "  </tbody>\n",
       "</table>\n",
       "<p>234 rows × 6 columns</p>\n",
       "</div>"
      ],
      "text/plain": [
       "     rank_test_score  mean_test_score param_hidden_layer_sizes param_solver  \\\n",
       "72                 1         0.966446                       13        lbfgs   \n",
       "76                 1         0.966446                       13        lbfgs   \n",
       "74                 1         0.966446                       13        lbfgs   \n",
       "108                4         0.966399                       19        lbfgs   \n",
       "110                4         0.966399                       19        lbfgs   \n",
       "..               ...              ...                      ...          ...   \n",
       "11               230         0.668244                        2         adam   \n",
       "4                231         0.578152                        1        lbfgs   \n",
       "2                231         0.578152                        1        lbfgs   \n",
       "0                231         0.578152                        1        lbfgs   \n",
       "5                234        -7.163021                        1         adam   \n",
       "\n",
       "    param_max_iter param_learning_rate_init  \n",
       "72            2500                      0.1  \n",
       "76            2500                  0.00001  \n",
       "74            2500                    0.001  \n",
       "108           2500                      0.1  \n",
       "110           2500                    0.001  \n",
       "..             ...                      ...  \n",
       "11            2500                  0.00001  \n",
       "4             2500                  0.00001  \n",
       "2             2500                    0.001  \n",
       "0             2500                      0.1  \n",
       "5             2500                  0.00001  \n",
       "\n",
       "[234 rows x 6 columns]"
      ]
     },
     "execution_count": 7,
     "metadata": {},
     "output_type": "execute_result"
    }
   ],
   "source": [
    "MLP_results = MLPRegRes[['rank_test_score', 'mean_test_score', 'param_hidden_layer_sizes', 'param_solver', 'param_max_iter', 'param_learning_rate_init']].sort_values(by=['rank_test_score'])\n",
    "MLP_results"
   ]
  },
  {
   "cell_type": "code",
   "execution_count": 18,
   "metadata": {},
   "outputs": [
    {
     "data": {
      "image/png": "[encoded data removed]",
      "text/plain": [
       "<Figure size 432x288 with 1 Axes>"
      ]
     },
     "metadata": {
      "needs_background": "light"
     },
     "output_type": "display_data"
    }
   ],
   "source": [
    "MLP_results1 = MLP_results[MLP_results['mean_test_score']>0.5]\n",
    "\n",
    "\n",
    "MLP_adam = MLP_results1[(MLP_results1['param_solver'] == 'adam' )].sort_values(by = ['param_hidden_layer_sizes'])\n",
    "MLP_lbfgs = MLP_results1[(MLP_results1['param_solver'] == 'lbfgs' )].sort_values(by = ['param_hidden_layer_sizes'])\n",
    "\n",
    "plt.plot(MLP_adam['param_hidden_layer_sizes'], MLP_adam['mean_test_score'], label = 'adam')\n",
    "plt.plot(MLP_lbfgs['param_hidden_layer_sizes'], MLP_lbfgs['mean_test_score'], label = 'lbfgs')\n",
    "\n",
    "plt.xlabel('Number of hidden layers')\n",
    "# Set the y axis label of the current axis.\n",
    "plt.ylabel('Mean test Score')\n",
    "# Set a title of the current axes.\n",
    "plt.title('Test scores of different number of hidden layers for Multi Layer Perceptron')\n",
    "# show a legend on the plot\n",
    "plt.legend()\n",
    "# Display a figure.\n",
    "plt.show()"
   ]
  }
 ],
 "metadata": {
  "colab": {
   "collapsed_sections": [],
   "name": "NeuralNets.ipynb",
   "provenance": []
  },
  "kernelspec": {
   "display_name": "Python 3",
   "language": "python",
   "name": "python3"
  },
  "language_info": {
   "codemirror_mode": {
    "name": "ipython",
    "version": 3
   },
   "file_extension": ".py",
   "mimetype": "text/x-python",
   "name": "python",
   "nbconvert_exporter": "python",
   "pygments_lexer": "ipython3",
   "version": "3.8.8"
  }
 },
 "nbformat": 4,
 "nbformat_minor": 1
}
