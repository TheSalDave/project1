{
 "cells": [
  {
   "cell_type": "code",
   "execution_count": 52,
   "id": "662395ce",
   "metadata": {},
   "outputs": [],
   "source": [
    "import pandas as pd\n",
    "import numpy as np\n",
    "import matplotlib.pyplot as plt\n",
    "import seaborn as sns\n",
    "from sklearn.ensemble import RandomForestRegressor\n",
    "from sklearn.model_selection import GridSearchCV\n",
    "from sklearn.preprocessing import StandardScaler\n",
    "from sklearn.metrics import mean_absolute_percentage_error\n",
    "import tensorflow as tf\n",
    "from tensorflow import keras\n",
    "from tensorflow.keras import layers"
   ]
  },
  {
   "cell_type": "code",
   "execution_count": 53,
   "id": "ebb12c68",
   "metadata": {
    "scrolled": true
   },
   "outputs": [
    {
     "data": {
      "text/html": [
       "<div>\n",
       "<style scoped>\n",
       "    .dataframe tbody tr th:only-of-type {\n",
       "        vertical-align: middle;\n",
       "    }\n",
       "\n",
       "    .dataframe tbody tr th {\n",
       "        vertical-align: top;\n",
       "    }\n",
       "\n",
       "    .dataframe thead th {\n",
       "        text-align: right;\n",
       "    }\n",
       "</style>\n",
       "<table border=\"1\" class=\"dataframe\">\n",
       "  <thead>\n",
       "    <tr style=\"text-align: right;\">\n",
       "      <th></th>\n",
       "      <th>From Timestamp</th>\n",
       "      <th>HH Electricity (kWh)</th>\n",
       "      <th>dayofweek</th>\n",
       "      <th>hour</th>\n",
       "      <th>holiday</th>\n",
       "      <th>month</th>\n",
       "      <th>Temperature (C)</th>\n",
       "      <th>Feels like (C)</th>\n",
       "      <th>Humidity (%)</th>\n",
       "    </tr>\n",
       "  </thead>\n",
       "  <tbody>\n",
       "    <tr>\n",
       "      <th>0</th>\n",
       "      <td>2018-01-01 00:00:00</td>\n",
       "      <td>12.80</td>\n",
       "      <td>0</td>\n",
       "      <td>0.0</td>\n",
       "      <td>1</td>\n",
       "      <td>1</td>\n",
       "      <td>6.4</td>\n",
       "      <td>1.9</td>\n",
       "      <td>82.76</td>\n",
       "    </tr>\n",
       "    <tr>\n",
       "      <th>1</th>\n",
       "      <td>2018-01-01 00:30:00</td>\n",
       "      <td>12.30</td>\n",
       "      <td>0</td>\n",
       "      <td>0.5</td>\n",
       "      <td>1</td>\n",
       "      <td>1</td>\n",
       "      <td>6.4</td>\n",
       "      <td>1.9</td>\n",
       "      <td>82.76</td>\n",
       "    </tr>\n",
       "    <tr>\n",
       "      <th>2</th>\n",
       "      <td>2018-01-01 01:00:00</td>\n",
       "      <td>13.50</td>\n",
       "      <td>0</td>\n",
       "      <td>1.0</td>\n",
       "      <td>1</td>\n",
       "      <td>1</td>\n",
       "      <td>6.6</td>\n",
       "      <td>2.4</td>\n",
       "      <td>80.14</td>\n",
       "    </tr>\n",
       "    <tr>\n",
       "      <th>3</th>\n",
       "      <td>2018-01-01 01:30:00</td>\n",
       "      <td>11.90</td>\n",
       "      <td>0</td>\n",
       "      <td>1.5</td>\n",
       "      <td>1</td>\n",
       "      <td>1</td>\n",
       "      <td>6.6</td>\n",
       "      <td>2.4</td>\n",
       "      <td>80.14</td>\n",
       "    </tr>\n",
       "    <tr>\n",
       "      <th>4</th>\n",
       "      <td>2018-01-01 02:00:00</td>\n",
       "      <td>12.80</td>\n",
       "      <td>0</td>\n",
       "      <td>2.0</td>\n",
       "      <td>1</td>\n",
       "      <td>1</td>\n",
       "      <td>6.1</td>\n",
       "      <td>2.0</td>\n",
       "      <td>84.33</td>\n",
       "    </tr>\n",
       "    <tr>\n",
       "      <th>...</th>\n",
       "      <td>...</td>\n",
       "      <td>...</td>\n",
       "      <td>...</td>\n",
       "      <td>...</td>\n",
       "      <td>...</td>\n",
       "      <td>...</td>\n",
       "      <td>...</td>\n",
       "      <td>...</td>\n",
       "      <td>...</td>\n",
       "    </tr>\n",
       "    <tr>\n",
       "      <th>35035</th>\n",
       "      <td>2019-12-31 21:30:00</td>\n",
       "      <td>13.56</td>\n",
       "      <td>1</td>\n",
       "      <td>21.5</td>\n",
       "      <td>0</td>\n",
       "      <td>12</td>\n",
       "      <td>6.5</td>\n",
       "      <td>3.3</td>\n",
       "      <td>88.23</td>\n",
       "    </tr>\n",
       "    <tr>\n",
       "      <th>35036</th>\n",
       "      <td>2019-12-31 22:00:00</td>\n",
       "      <td>13.81</td>\n",
       "      <td>1</td>\n",
       "      <td>22.0</td>\n",
       "      <td>0</td>\n",
       "      <td>12</td>\n",
       "      <td>6.6</td>\n",
       "      <td>4.4</td>\n",
       "      <td>87.69</td>\n",
       "    </tr>\n",
       "    <tr>\n",
       "      <th>35037</th>\n",
       "      <td>2019-12-31 22:30:00</td>\n",
       "      <td>14.12</td>\n",
       "      <td>1</td>\n",
       "      <td>22.5</td>\n",
       "      <td>0</td>\n",
       "      <td>12</td>\n",
       "      <td>6.6</td>\n",
       "      <td>4.4</td>\n",
       "      <td>87.69</td>\n",
       "    </tr>\n",
       "    <tr>\n",
       "      <th>35038</th>\n",
       "      <td>2019-12-31 23:00:00</td>\n",
       "      <td>14.50</td>\n",
       "      <td>1</td>\n",
       "      <td>23.0</td>\n",
       "      <td>0</td>\n",
       "      <td>12</td>\n",
       "      <td>6.7</td>\n",
       "      <td>4.1</td>\n",
       "      <td>88.13</td>\n",
       "    </tr>\n",
       "    <tr>\n",
       "      <th>35039</th>\n",
       "      <td>2019-12-31 23:30:00</td>\n",
       "      <td>13.88</td>\n",
       "      <td>1</td>\n",
       "      <td>23.5</td>\n",
       "      <td>0</td>\n",
       "      <td>12</td>\n",
       "      <td>6.7</td>\n",
       "      <td>4.1</td>\n",
       "      <td>88.13</td>\n",
       "    </tr>\n",
       "  </tbody>\n",
       "</table>\n",
       "<p>35040 rows × 9 columns</p>\n",
       "</div>"
      ],
      "text/plain": [
       "           From Timestamp  HH Electricity (kWh)  dayofweek  hour  holiday  \\\n",
       "0     2018-01-01 00:00:00                 12.80          0   0.0        1   \n",
       "1     2018-01-01 00:30:00                 12.30          0   0.5        1   \n",
       "2     2018-01-01 01:00:00                 13.50          0   1.0        1   \n",
       "3     2018-01-01 01:30:00                 11.90          0   1.5        1   \n",
       "4     2018-01-01 02:00:00                 12.80          0   2.0        1   \n",
       "...                   ...                   ...        ...   ...      ...   \n",
       "35035 2019-12-31 21:30:00                 13.56          1  21.5        0   \n",
       "35036 2019-12-31 22:00:00                 13.81          1  22.0        0   \n",
       "35037 2019-12-31 22:30:00                 14.12          1  22.5        0   \n",
       "35038 2019-12-31 23:00:00                 14.50          1  23.0        0   \n",
       "35039 2019-12-31 23:30:00                 13.88          1  23.5        0   \n",
       "\n",
       "       month  Temperature (C)  Feels like (C)  Humidity (%)  \n",
       "0          1              6.4             1.9         82.76  \n",
       "1          1              6.4             1.9         82.76  \n",
       "2          1              6.6             2.4         80.14  \n",
       "3          1              6.6             2.4         80.14  \n",
       "4          1              6.1             2.0         84.33  \n",
       "...      ...              ...             ...           ...  \n",
       "35035     12              6.5             3.3         88.23  \n",
       "35036     12              6.6             4.4         87.69  \n",
       "35037     12              6.6             4.4         87.69  \n",
       "35038     12              6.7             4.1         88.13  \n",
       "35039     12              6.7             4.1         88.13  \n",
       "\n",
       "[35040 rows x 9 columns]"
      ]
     },
     "execution_count": 53,
     "metadata": {},
     "output_type": "execute_result"
    }
   ],
   "source": [
    "df = pd.read_excel(\"BaseFeaturesHH.xlsx\")\n",
    "df = df.drop('Unnamed: 0', axis = 1)\n",
    "df"
   ]
  },
  {
   "cell_type": "code",
   "execution_count": 54,
   "id": "1bc137a6",
   "metadata": {},
   "outputs": [],
   "source": [
    "lagNumberStart = 1\n",
    "lagNumberEnd = 8\n",
    "\n",
    "for i in range(lagNumberStart, lagNumberEnd):\n",
    "    name = \"n-{}.\".format(48*i)\n",
    "    df[name] = df['HH Electricity (kWh)'].shift(48*i)\n",
    "\n",
    "i = list(range(lagNumberEnd*48))\n",
    "df = df.drop(i)\n",
    "\n",
    "\n",
    "feature_cols = ['dayofweek', 'hour', 'month', 'holiday', 'Temperature (C)', 'Feels like (C)', 'Humidity (%)']   \n",
    "\n",
    "for i in range(lagNumberStart, lagNumberEnd):\n",
    "    name = \"n-{}.\".format(48*i)\n",
    "    feature_cols.append(name)\n",
    "    \n",
    "X = df[feature_cols].copy() #input features for fitting\n",
    "Y = df['HH Electricity (kWh)']\n",
    "\n",
    "size = -int(len(df)*0.2)\n",
    "\n",
    "Xinput = df.iloc[:size]\n",
    "Xtest = df.iloc[size:] # 20%\n",
    "\n",
    "size2 = -int(len(Xinput)*0.25)\n",
    "\n",
    "Xtrain = Xinput.iloc[:size2].copy() #60%\n",
    "Xvalidate = Xinput.iloc[size2:].copy() #20%\n",
    "\n",
    "trainX = Xtrain[feature_cols] # Features\n",
    "trainy = Xtrain['HH Electricity (kWh)'] # Target variable\n",
    "\n",
    "validateX = Xvalidate[feature_cols] # Features\n",
    "validatey = Xvalidate['HH Electricity (kWh)'] # Target variable\n",
    "\n",
    "testX = Xtest[feature_cols] # Features\n",
    "testy = Xtest['HH Electricity (kWh)'] # Target variable\n",
    "\n",
    "inputX = Xinput[feature_cols] # Features\n",
    "inputy = Xinput['HH Electricity (kWh)'] # Target variable\n",
    "\n",
    "scaler = StandardScaler() #scaling\n",
    "scaler.fit(X)\n",
    "trainXscaled = scaler.transform(trainX)\n",
    "validateXscaled = scaler.transform(validateX)\n",
    "testXscaled = scaler.transform(testX)\n",
    "inputXscaled = scaler.transform(inputX)\n",
    "\n"
   ]
  },
  {
   "cell_type": "code",
   "execution_count": 55,
   "id": "74f0c81f",
   "metadata": {},
   "outputs": [
    {
     "data": {
      "text/html": [
       "<div>\n",
       "<style scoped>\n",
       "    .dataframe tbody tr th:only-of-type {\n",
       "        vertical-align: middle;\n",
       "    }\n",
       "\n",
       "    .dataframe tbody tr th {\n",
       "        vertical-align: top;\n",
       "    }\n",
       "\n",
       "    .dataframe thead th {\n",
       "        text-align: right;\n",
       "    }\n",
       "</style>\n",
       "<table border=\"1\" class=\"dataframe\">\n",
       "  <thead>\n",
       "    <tr style=\"text-align: right;\">\n",
       "      <th></th>\n",
       "      <th>count</th>\n",
       "      <th>mean</th>\n",
       "      <th>std</th>\n",
       "      <th>min</th>\n",
       "      <th>25%</th>\n",
       "      <th>50%</th>\n",
       "      <th>75%</th>\n",
       "      <th>max</th>\n",
       "    </tr>\n",
       "  </thead>\n",
       "  <tbody>\n",
       "    <tr>\n",
       "      <th>HH Electricity (kWh)</th>\n",
       "      <td>27725.0</td>\n",
       "      <td>16.803685</td>\n",
       "      <td>5.644138</td>\n",
       "      <td>9.00</td>\n",
       "      <td>12.50</td>\n",
       "      <td>14.72</td>\n",
       "      <td>20.41</td>\n",
       "      <td>41.59</td>\n",
       "    </tr>\n",
       "    <tr>\n",
       "      <th>dayofweek</th>\n",
       "      <td>27725.0</td>\n",
       "      <td>2.995852</td>\n",
       "      <td>1.996214</td>\n",
       "      <td>0.00</td>\n",
       "      <td>1.00</td>\n",
       "      <td>3.00</td>\n",
       "      <td>5.00</td>\n",
       "      <td>6.00</td>\n",
       "    </tr>\n",
       "    <tr>\n",
       "      <th>hour</th>\n",
       "      <td>27725.0</td>\n",
       "      <td>11.745032</td>\n",
       "      <td>6.926225</td>\n",
       "      <td>0.00</td>\n",
       "      <td>5.50</td>\n",
       "      <td>11.50</td>\n",
       "      <td>17.50</td>\n",
       "      <td>23.50</td>\n",
       "    </tr>\n",
       "    <tr>\n",
       "      <th>holiday</th>\n",
       "      <td>27725.0</td>\n",
       "      <td>0.020775</td>\n",
       "      <td>0.142634</td>\n",
       "      <td>0.00</td>\n",
       "      <td>0.00</td>\n",
       "      <td>0.00</td>\n",
       "      <td>0.00</td>\n",
       "      <td>1.00</td>\n",
       "    </tr>\n",
       "    <tr>\n",
       "      <th>month</th>\n",
       "      <td>27725.0</td>\n",
       "      <td>5.704310</td>\n",
       "      <td>3.198231</td>\n",
       "      <td>1.00</td>\n",
       "      <td>3.00</td>\n",
       "      <td>5.00</td>\n",
       "      <td>8.00</td>\n",
       "      <td>12.00</td>\n",
       "    </tr>\n",
       "    <tr>\n",
       "      <th>Temperature (C)</th>\n",
       "      <td>27725.0</td>\n",
       "      <td>11.271877</td>\n",
       "      <td>6.030412</td>\n",
       "      <td>-5.50</td>\n",
       "      <td>7.10</td>\n",
       "      <td>10.70</td>\n",
       "      <td>15.70</td>\n",
       "      <td>30.50</td>\n",
       "    </tr>\n",
       "    <tr>\n",
       "      <th>Feels like (C)</th>\n",
       "      <td>27725.0</td>\n",
       "      <td>10.022593</td>\n",
       "      <td>7.330152</td>\n",
       "      <td>-12.50</td>\n",
       "      <td>4.40</td>\n",
       "      <td>10.70</td>\n",
       "      <td>15.70</td>\n",
       "      <td>30.90</td>\n",
       "    </tr>\n",
       "    <tr>\n",
       "      <th>Humidity (%)</th>\n",
       "      <td>27725.0</td>\n",
       "      <td>79.592207</td>\n",
       "      <td>14.143224</td>\n",
       "      <td>29.22</td>\n",
       "      <td>70.92</td>\n",
       "      <td>83.23</td>\n",
       "      <td>90.80</td>\n",
       "      <td>100.00</td>\n",
       "    </tr>\n",
       "    <tr>\n",
       "      <th>n-48.</th>\n",
       "      <td>27725.0</td>\n",
       "      <td>16.812494</td>\n",
       "      <td>5.651675</td>\n",
       "      <td>9.00</td>\n",
       "      <td>12.50</td>\n",
       "      <td>14.75</td>\n",
       "      <td>20.41</td>\n",
       "      <td>41.59</td>\n",
       "    </tr>\n",
       "    <tr>\n",
       "      <th>n-96.</th>\n",
       "      <td>27725.0</td>\n",
       "      <td>16.809818</td>\n",
       "      <td>5.652244</td>\n",
       "      <td>9.00</td>\n",
       "      <td>12.50</td>\n",
       "      <td>14.72</td>\n",
       "      <td>20.41</td>\n",
       "      <td>41.59</td>\n",
       "    </tr>\n",
       "    <tr>\n",
       "      <th>n-144.</th>\n",
       "      <td>27725.0</td>\n",
       "      <td>16.805663</td>\n",
       "      <td>5.653452</td>\n",
       "      <td>9.00</td>\n",
       "      <td>12.50</td>\n",
       "      <td>14.72</td>\n",
       "      <td>20.41</td>\n",
       "      <td>41.59</td>\n",
       "    </tr>\n",
       "    <tr>\n",
       "      <th>n-192.</th>\n",
       "      <td>27725.0</td>\n",
       "      <td>16.811681</td>\n",
       "      <td>5.657742</td>\n",
       "      <td>9.00</td>\n",
       "      <td>12.50</td>\n",
       "      <td>14.72</td>\n",
       "      <td>20.41</td>\n",
       "      <td>41.59</td>\n",
       "    </tr>\n",
       "    <tr>\n",
       "      <th>n-240.</th>\n",
       "      <td>27725.0</td>\n",
       "      <td>16.821896</td>\n",
       "      <td>5.661016</td>\n",
       "      <td>9.00</td>\n",
       "      <td>12.50</td>\n",
       "      <td>14.72</td>\n",
       "      <td>20.50</td>\n",
       "      <td>41.59</td>\n",
       "    </tr>\n",
       "    <tr>\n",
       "      <th>n-288.</th>\n",
       "      <td>27725.0</td>\n",
       "      <td>16.836288</td>\n",
       "      <td>5.660861</td>\n",
       "      <td>9.00</td>\n",
       "      <td>12.59</td>\n",
       "      <td>14.78</td>\n",
       "      <td>20.50</td>\n",
       "      <td>41.59</td>\n",
       "    </tr>\n",
       "    <tr>\n",
       "      <th>n-336.</th>\n",
       "      <td>27725.0</td>\n",
       "      <td>16.846975</td>\n",
       "      <td>5.661507</td>\n",
       "      <td>9.00</td>\n",
       "      <td>12.59</td>\n",
       "      <td>14.78</td>\n",
       "      <td>20.50</td>\n",
       "      <td>41.59</td>\n",
       "    </tr>\n",
       "  </tbody>\n",
       "</table>\n",
       "</div>"
      ],
      "text/plain": [
       "                        count       mean        std    min    25%    50%  \\\n",
       "HH Electricity (kWh)  27725.0  16.803685   5.644138   9.00  12.50  14.72   \n",
       "dayofweek             27725.0   2.995852   1.996214   0.00   1.00   3.00   \n",
       "hour                  27725.0  11.745032   6.926225   0.00   5.50  11.50   \n",
       "holiday               27725.0   0.020775   0.142634   0.00   0.00   0.00   \n",
       "month                 27725.0   5.704310   3.198231   1.00   3.00   5.00   \n",
       "Temperature (C)       27725.0  11.271877   6.030412  -5.50   7.10  10.70   \n",
       "Feels like (C)        27725.0  10.022593   7.330152 -12.50   4.40  10.70   \n",
       "Humidity (%)          27725.0  79.592207  14.143224  29.22  70.92  83.23   \n",
       "n-48.                 27725.0  16.812494   5.651675   9.00  12.50  14.75   \n",
       "n-96.                 27725.0  16.809818   5.652244   9.00  12.50  14.72   \n",
       "n-144.                27725.0  16.805663   5.653452   9.00  12.50  14.72   \n",
       "n-192.                27725.0  16.811681   5.657742   9.00  12.50  14.72   \n",
       "n-240.                27725.0  16.821896   5.661016   9.00  12.50  14.72   \n",
       "n-288.                27725.0  16.836288   5.660861   9.00  12.59  14.78   \n",
       "n-336.                27725.0  16.846975   5.661507   9.00  12.59  14.78   \n",
       "\n",
       "                        75%     max  \n",
       "HH Electricity (kWh)  20.41   41.59  \n",
       "dayofweek              5.00    6.00  \n",
       "hour                  17.50   23.50  \n",
       "holiday                0.00    1.00  \n",
       "month                  8.00   12.00  \n",
       "Temperature (C)       15.70   30.50  \n",
       "Feels like (C)        15.70   30.90  \n",
       "Humidity (%)          90.80  100.00  \n",
       "n-48.                 20.41   41.59  \n",
       "n-96.                 20.41   41.59  \n",
       "n-144.                20.41   41.59  \n",
       "n-192.                20.41   41.59  \n",
       "n-240.                20.50   41.59  \n",
       "n-288.                20.50   41.59  \n",
       "n-336.                20.50   41.59  "
      ]
     },
     "execution_count": 55,
     "metadata": {},
     "output_type": "execute_result"
    }
   ],
   "source": [
    "Xinput.describe().transpose()"
   ]
  },
  {
   "cell_type": "markdown",
   "id": "3a461860",
   "metadata": {},
   "source": [
    "### Adding normalization layer to the model"
   ]
  },
  {
   "cell_type": "code",
   "execution_count": 56,
   "id": "0459cc18",
   "metadata": {},
   "outputs": [],
   "source": [
    "normalizer = tf.keras.layers.Normalization(axis=-1)\n",
    "normalizer.adapt(np.array(inputX))"
   ]
  },
  {
   "cell_type": "markdown",
   "id": "52e13660",
   "metadata": {},
   "source": [
    "# Creating the model"
   ]
  },
  {
   "cell_type": "code",
   "execution_count": 57,
   "id": "874a59e9",
   "metadata": {},
   "outputs": [],
   "source": [
    "linear_model = tf.keras.Sequential([\n",
    "    normalizer,\n",
    "    layers.Dense(units=1)\n",
    "])\n"
   ]
  },
  {
   "cell_type": "code",
   "execution_count": 58,
   "id": "fb0ffe39",
   "metadata": {},
   "outputs": [],
   "source": [
    "linear_model.compile(\n",
    "    optimizer=tf.optimizers.Adam(learning_rate=0.1),\n",
    "    loss='mean_absolute_percentage_error')\n",
    "\n"
   ]
  },
  {
   "cell_type": "code",
   "execution_count": 59,
   "id": "99d84bbb",
   "metadata": {},
   "outputs": [],
   "source": [
    "history = linear_model.fit(\n",
    "    inputX,\n",
    "    inputy,\n",
    "    epochs=100,\n",
    "    # Suppress logging.\n",
    "    verbose=0,\n",
    "    # Calculate validation results on 20% of the training data.\n",
    "    validation_split = 0.25)"
   ]
  },
  {
   "cell_type": "code",
   "execution_count": 60,
   "id": "2aa2d18c",
   "metadata": {
    "scrolled": true
   },
   "outputs": [
    {
     "data": {
      "image/png": "[encoded data removed]",
      "text/plain": [
       "<Figure size 432x288 with 1 Axes>"
      ]
     },
     "metadata": {
      "needs_background": "light"
     },
     "output_type": "display_data"
    }
   ],
   "source": [
    "def plot_loss(history):\n",
    "  plt.plot(history.history['loss'], label='loss')\n",
    "  plt.plot(history.history['val_loss'], label='val_loss')\n",
    "  plt.xlabel('Epoch')\n",
    "  plt.ylabel('Absolute error in %')\n",
    "  plt.legend()\n",
    "  plt.grid(True)\n",
    "\n",
    "plot_loss(history)\n"
   ]
  },
  {
   "cell_type": "markdown",
   "id": "de21f2e6",
   "metadata": {},
   "source": [
    "Why is there no learning curve?"
   ]
  },
  {
   "cell_type": "code",
   "execution_count": 61,
   "id": "4992e5c8",
   "metadata": {},
   "outputs": [],
   "source": [
    "test_results={}\n",
    "test_results['linear_model'] = linear_model.evaluate(testX, testy, verbose=0)"
   ]
  },
  {
   "cell_type": "code",
   "execution_count": 62,
   "id": "660fe326",
   "metadata": {},
   "outputs": [],
   "source": [
    "def build_and_compile_model(norm):\n",
    "  model = keras.Sequential([\n",
    "      norm,\n",
    "      layers.Dense(64, activation='relu'),\n",
    "      layers.Dense(64, activation='relu'),\n",
    "      layers.Dense(1)\n",
    "  ])\n",
    "\n",
    "  model.compile(loss='mean_absolute_percentage_error',\n",
    "                optimizer=tf.keras.optimizers.Adam(0.001))\n",
    "  return model\n",
    "\n"
   ]
  },
  {
   "cell_type": "code",
   "execution_count": 63,
   "id": "0aa0c473",
   "metadata": {},
   "outputs": [
    {
     "name": "stdout",
     "output_type": "stream",
     "text": [
      "Model: \"sequential_5\"\n",
      "_________________________________________________________________\n",
      " Layer (type)                Output Shape              Param #   \n",
      "=================================================================\n",
      " normalization_2 (Normalizat  (None, 14)               29        \n",
      " ion)                                                            \n",
      "                                                                 \n",
      " dense_11 (Dense)            (None, 64)                960       \n",
      "                                                                 \n",
      " dense_12 (Dense)            (None, 64)                4160      \n",
      "                                                                 \n",
      " dense_13 (Dense)            (None, 1)                 65        \n",
      "                                                                 \n",
      "=================================================================\n",
      "Total params: 5,214\n",
      "Trainable params: 5,185\n",
      "Non-trainable params: 29\n",
      "_________________________________________________________________\n"
     ]
    }
   ],
   "source": [
    "dnn_model = build_and_compile_model(normalizer)\n",
    "dnn_model.summary()"
   ]
  },
  {
   "cell_type": "code",
   "execution_count": 64,
   "id": "e3321306",
   "metadata": {},
   "outputs": [
    {
     "name": "stdout",
     "output_type": "stream",
     "text": [
      "Wall time: 1min 26s\n"
     ]
    }
   ],
   "source": [
    "%%time\n",
    "history = dnn_model.fit(\n",
    "    inputX,\n",
    "    inputy,\n",
    "    validation_split=0.25,\n",
    "    verbose=0, epochs=100)\n"
   ]
  },
  {
   "cell_type": "code",
   "execution_count": 65,
   "id": "2814b708",
   "metadata": {},
   "outputs": [
    {
     "data": {
      "image/png": "[encoded data removed]",
      "text/plain": [
       "<Figure size 432x288 with 1 Axes>"
      ]
     },
     "metadata": {
      "needs_background": "light"
     },
     "output_type": "display_data"
    }
   ],
   "source": [
    "plot_loss(history)"
   ]
  },
  {
   "cell_type": "code",
   "execution_count": 66,
   "id": "c6692029",
   "metadata": {},
   "outputs": [],
   "source": [
    "test_results['dnn_model'] = dnn_model.evaluate(testX, testy, verbose=0)"
   ]
  },
  {
   "cell_type": "code",
   "execution_count": 67,
   "id": "4d2bb676",
   "metadata": {
    "scrolled": true
   },
   "outputs": [
    {
     "data": {
      "text/html": [
       "<div>\n",
       "<style scoped>\n",
       "    .dataframe tbody tr th:only-of-type {\n",
       "        vertical-align: middle;\n",
       "    }\n",
       "\n",
       "    .dataframe tbody tr th {\n",
       "        vertical-align: top;\n",
       "    }\n",
       "\n",
       "    .dataframe thead th {\n",
       "        text-align: right;\n",
       "    }\n",
       "</style>\n",
       "<table border=\"1\" class=\"dataframe\">\n",
       "  <thead>\n",
       "    <tr style=\"text-align: right;\">\n",
       "      <th></th>\n",
       "      <th>Mean absolute error [MPG]</th>\n",
       "    </tr>\n",
       "  </thead>\n",
       "  <tbody>\n",
       "    <tr>\n",
       "      <th>linear_model</th>\n",
       "      <td>10.305903</td>\n",
       "    </tr>\n",
       "    <tr>\n",
       "      <th>dnn_model</th>\n",
       "      <td>10.974210</td>\n",
       "    </tr>\n",
       "  </tbody>\n",
       "</table>\n",
       "</div>"
      ],
      "text/plain": [
       "              Mean absolute error [MPG]\n",
       "linear_model                  10.305903\n",
       "dnn_model                     10.974210"
      ]
     },
     "execution_count": 67,
     "metadata": {},
     "output_type": "execute_result"
    }
   ],
   "source": [
    "pd.DataFrame(test_results, index=['Mean absolute error [MPG]']).T\n"
   ]
  },
  {
   "cell_type": "code",
   "execution_count": 70,
   "id": "1a9e6234",
   "metadata": {},
   "outputs": [
    {
     "data": {
      "image/png": "[encoded data removed]",
      "text/plain": [
       "<Figure size 432x288 with 1 Axes>"
      ]
     },
     "metadata": {
      "needs_background": "light"
     },
     "output_type": "display_data"
    }
   ],
   "source": [
    "error = 100*(test_predictions - testy)/testy\n",
    "plt.hist(error, bins=25)\n",
    "plt.xlabel('Prediction Error in %')\n",
    "_ = plt.ylabel('Count')\n"
   ]
  },
  {
   "cell_type": "markdown",
   "id": "989fd04a",
   "metadata": {},
   "source": [
    "# Results are disappointing\n"
   ]
  },
  {
   "cell_type": "code",
   "execution_count": 71,
   "id": "8169d955",
   "metadata": {},
   "outputs": [
    {
     "name": "stdout",
     "output_type": "stream",
     "text": [
      "Note: you may need to restart the kernel to use updated packages.\n"
     ]
    }
   ],
   "source": [
    "pip install -q -U keras-tuner"
   ]
  }
 ],
 "metadata": {
  "kernelspec": {
   "display_name": "Python 3",
   "language": "python",
   "name": "python3"
  },
  "language_info": {
   "codemirror_mode": {
    "name": "ipython",
    "version": 3
   },
   "file_extension": ".py",
   "mimetype": "text/x-python",
   "name": "python",
   "nbconvert_exporter": "python",
   "pygments_lexer": "ipython3",
   "version": "3.8.8"
  }
 },
 "nbformat": 4,
 "nbformat_minor": 5
}
