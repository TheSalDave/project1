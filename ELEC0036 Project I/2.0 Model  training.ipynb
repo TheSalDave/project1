{
 "cells": [
  {
   "cell_type": "code",
   "execution_count": 2,
   "id": "662395ce",
   "metadata": {},
   "outputs": [],
   "source": [
    "import pandas as pd\n",
    "import numpy as np\n",
    "import matplotlib.pyplot as plt\n",
    "import seaborn as sns\n",
    "from sklearn import svm\n",
    "from sklearn.ensemble import RandomForestRegressor\n",
    "from sklearn.linear_model import LogisticRegression\n",
    "from sklearn.naive_bayes import GaussianNB\n",
    "from sklearn.naive_bayes import MultinomialNB\n",
    "from sklearn.neighbors import KNeighborsRegressor\n",
    "from sklearn.model_selection import GridSearchCV\n",
    "from sklearn.preprocessing import StandardScaler\n",
    "from sklearn.metrics import mean_absolute_percentage_error"
   ]
  },
  {
   "cell_type": "code",
   "execution_count": 3,
   "id": "ebb12c68",
   "metadata": {
    "scrolled": true
   },
   "outputs": [
    {
     "data": {
      "text/html": [
       "<div>\n",
       "<style scoped>\n",
       "    .dataframe tbody tr th:only-of-type {\n",
       "        vertical-align: middle;\n",
       "    }\n",
       "\n",
       "    .dataframe tbody tr th {\n",
       "        vertical-align: top;\n",
       "    }\n",
       "\n",
       "    .dataframe thead th {\n",
       "        text-align: right;\n",
       "    }\n",
       "</style>\n",
       "<table border=\"1\" class=\"dataframe\">\n",
       "  <thead>\n",
       "    <tr style=\"text-align: right;\">\n",
       "      <th></th>\n",
       "      <th>Unnamed: 0</th>\n",
       "      <th>From Timestamp</th>\n",
       "      <th>HH Electricity (kWh)</th>\n",
       "      <th>dayofweek</th>\n",
       "      <th>hour</th>\n",
       "      <th>holiday</th>\n",
       "      <th>month</th>\n",
       "      <th>Temperature (C)</th>\n",
       "      <th>Feels like (C)</th>\n",
       "      <th>Humidity (%)</th>\n",
       "    </tr>\n",
       "  </thead>\n",
       "  <tbody>\n",
       "    <tr>\n",
       "      <th>0</th>\n",
       "      <td>0</td>\n",
       "      <td>2018-01-01 00:00:00</td>\n",
       "      <td>12.80</td>\n",
       "      <td>0</td>\n",
       "      <td>0.0</td>\n",
       "      <td>1</td>\n",
       "      <td>1</td>\n",
       "      <td>6.4</td>\n",
       "      <td>1.9</td>\n",
       "      <td>82.76</td>\n",
       "    </tr>\n",
       "    <tr>\n",
       "      <th>1</th>\n",
       "      <td>1</td>\n",
       "      <td>2018-01-01 00:30:00</td>\n",
       "      <td>12.30</td>\n",
       "      <td>0</td>\n",
       "      <td>0.5</td>\n",
       "      <td>1</td>\n",
       "      <td>1</td>\n",
       "      <td>6.4</td>\n",
       "      <td>1.9</td>\n",
       "      <td>82.76</td>\n",
       "    </tr>\n",
       "    <tr>\n",
       "      <th>2</th>\n",
       "      <td>2</td>\n",
       "      <td>2018-01-01 01:00:00</td>\n",
       "      <td>13.50</td>\n",
       "      <td>0</td>\n",
       "      <td>1.0</td>\n",
       "      <td>1</td>\n",
       "      <td>1</td>\n",
       "      <td>6.6</td>\n",
       "      <td>2.4</td>\n",
       "      <td>80.14</td>\n",
       "    </tr>\n",
       "    <tr>\n",
       "      <th>3</th>\n",
       "      <td>3</td>\n",
       "      <td>2018-01-01 01:30:00</td>\n",
       "      <td>11.90</td>\n",
       "      <td>0</td>\n",
       "      <td>1.5</td>\n",
       "      <td>1</td>\n",
       "      <td>1</td>\n",
       "      <td>6.6</td>\n",
       "      <td>2.4</td>\n",
       "      <td>80.14</td>\n",
       "    </tr>\n",
       "    <tr>\n",
       "      <th>4</th>\n",
       "      <td>4</td>\n",
       "      <td>2018-01-01 02:00:00</td>\n",
       "      <td>12.80</td>\n",
       "      <td>0</td>\n",
       "      <td>2.0</td>\n",
       "      <td>1</td>\n",
       "      <td>1</td>\n",
       "      <td>6.1</td>\n",
       "      <td>2.0</td>\n",
       "      <td>84.33</td>\n",
       "    </tr>\n",
       "    <tr>\n",
       "      <th>...</th>\n",
       "      <td>...</td>\n",
       "      <td>...</td>\n",
       "      <td>...</td>\n",
       "      <td>...</td>\n",
       "      <td>...</td>\n",
       "      <td>...</td>\n",
       "      <td>...</td>\n",
       "      <td>...</td>\n",
       "      <td>...</td>\n",
       "      <td>...</td>\n",
       "    </tr>\n",
       "    <tr>\n",
       "      <th>35035</th>\n",
       "      <td>35035</td>\n",
       "      <td>2019-12-31 21:30:00</td>\n",
       "      <td>13.56</td>\n",
       "      <td>1</td>\n",
       "      <td>21.5</td>\n",
       "      <td>0</td>\n",
       "      <td>12</td>\n",
       "      <td>6.5</td>\n",
       "      <td>3.3</td>\n",
       "      <td>88.23</td>\n",
       "    </tr>\n",
       "    <tr>\n",
       "      <th>35036</th>\n",
       "      <td>35036</td>\n",
       "      <td>2019-12-31 22:00:00</td>\n",
       "      <td>13.81</td>\n",
       "      <td>1</td>\n",
       "      <td>22.0</td>\n",
       "      <td>0</td>\n",
       "      <td>12</td>\n",
       "      <td>6.6</td>\n",
       "      <td>4.4</td>\n",
       "      <td>87.69</td>\n",
       "    </tr>\n",
       "    <tr>\n",
       "      <th>35037</th>\n",
       "      <td>35037</td>\n",
       "      <td>2019-12-31 22:30:00</td>\n",
       "      <td>14.12</td>\n",
       "      <td>1</td>\n",
       "      <td>22.5</td>\n",
       "      <td>0</td>\n",
       "      <td>12</td>\n",
       "      <td>6.6</td>\n",
       "      <td>4.4</td>\n",
       "      <td>87.69</td>\n",
       "    </tr>\n",
       "    <tr>\n",
       "      <th>35038</th>\n",
       "      <td>35038</td>\n",
       "      <td>2019-12-31 23:00:00</td>\n",
       "      <td>14.50</td>\n",
       "      <td>1</td>\n",
       "      <td>23.0</td>\n",
       "      <td>0</td>\n",
       "      <td>12</td>\n",
       "      <td>6.7</td>\n",
       "      <td>4.1</td>\n",
       "      <td>88.13</td>\n",
       "    </tr>\n",
       "    <tr>\n",
       "      <th>35039</th>\n",
       "      <td>35039</td>\n",
       "      <td>2019-12-31 23:30:00</td>\n",
       "      <td>13.88</td>\n",
       "      <td>1</td>\n",
       "      <td>23.5</td>\n",
       "      <td>0</td>\n",
       "      <td>12</td>\n",
       "      <td>6.7</td>\n",
       "      <td>4.1</td>\n",
       "      <td>88.13</td>\n",
       "    </tr>\n",
       "  </tbody>\n",
       "</table>\n",
       "<p>35040 rows × 10 columns</p>\n",
       "</div>"
      ],
      "text/plain": [
       "       Unnamed: 0      From Timestamp  HH Electricity (kWh)  dayofweek  hour  \\\n",
       "0               0 2018-01-01 00:00:00                 12.80          0   0.0   \n",
       "1               1 2018-01-01 00:30:00                 12.30          0   0.5   \n",
       "2               2 2018-01-01 01:00:00                 13.50          0   1.0   \n",
       "3               3 2018-01-01 01:30:00                 11.90          0   1.5   \n",
       "4               4 2018-01-01 02:00:00                 12.80          0   2.0   \n",
       "...           ...                 ...                   ...        ...   ...   \n",
       "35035       35035 2019-12-31 21:30:00                 13.56          1  21.5   \n",
       "35036       35036 2019-12-31 22:00:00                 13.81          1  22.0   \n",
       "35037       35037 2019-12-31 22:30:00                 14.12          1  22.5   \n",
       "35038       35038 2019-12-31 23:00:00                 14.50          1  23.0   \n",
       "35039       35039 2019-12-31 23:30:00                 13.88          1  23.5   \n",
       "\n",
       "       holiday  month  Temperature (C)  Feels like (C)  Humidity (%)  \n",
       "0            1      1              6.4             1.9         82.76  \n",
       "1            1      1              6.4             1.9         82.76  \n",
       "2            1      1              6.6             2.4         80.14  \n",
       "3            1      1              6.6             2.4         80.14  \n",
       "4            1      1              6.1             2.0         84.33  \n",
       "...        ...    ...              ...             ...           ...  \n",
       "35035        0     12              6.5             3.3         88.23  \n",
       "35036        0     12              6.6             4.4         87.69  \n",
       "35037        0     12              6.6             4.4         87.69  \n",
       "35038        0     12              6.7             4.1         88.13  \n",
       "35039        0     12              6.7             4.1         88.13  \n",
       "\n",
       "[35040 rows x 10 columns]"
      ]
     },
     "execution_count": 3,
     "metadata": {},
     "output_type": "execute_result"
    }
   ],
   "source": [
    "df = pd.read_excel(\"BaseFeaturesHH.xlsx\")\n",
    "\n",
    "df"
   ]
  },
  {
   "cell_type": "code",
   "execution_count": 4,
   "id": "7b0460b9",
   "metadata": {},
   "outputs": [
    {
     "data": {
      "text/html": [
       "<div>\n",
       "<style scoped>\n",
       "    .dataframe tbody tr th:only-of-type {\n",
       "        vertical-align: middle;\n",
       "    }\n",
       "\n",
       "    .dataframe tbody tr th {\n",
       "        vertical-align: top;\n",
       "    }\n",
       "\n",
       "    .dataframe thead th {\n",
       "        text-align: right;\n",
       "    }\n",
       "</style>\n",
       "<table border=\"1\" class=\"dataframe\">\n",
       "  <thead>\n",
       "    <tr style=\"text-align: right;\">\n",
       "      <th></th>\n",
       "      <th>From Timestamp</th>\n",
       "      <th>HH Electricity (kWh)</th>\n",
       "      <th>dayofweek</th>\n",
       "      <th>hour</th>\n",
       "      <th>holiday</th>\n",
       "      <th>month</th>\n",
       "      <th>Temperature (C)</th>\n",
       "      <th>Feels like (C)</th>\n",
       "      <th>Humidity (%)</th>\n",
       "    </tr>\n",
       "  </thead>\n",
       "  <tbody>\n",
       "    <tr>\n",
       "      <th>0</th>\n",
       "      <td>2018-01-01 00:00:00</td>\n",
       "      <td>12.80</td>\n",
       "      <td>0</td>\n",
       "      <td>0.0</td>\n",
       "      <td>1</td>\n",
       "      <td>1</td>\n",
       "      <td>6.4</td>\n",
       "      <td>1.9</td>\n",
       "      <td>82.76</td>\n",
       "    </tr>\n",
       "    <tr>\n",
       "      <th>1</th>\n",
       "      <td>2018-01-01 00:30:00</td>\n",
       "      <td>12.30</td>\n",
       "      <td>0</td>\n",
       "      <td>0.5</td>\n",
       "      <td>1</td>\n",
       "      <td>1</td>\n",
       "      <td>6.4</td>\n",
       "      <td>1.9</td>\n",
       "      <td>82.76</td>\n",
       "    </tr>\n",
       "    <tr>\n",
       "      <th>2</th>\n",
       "      <td>2018-01-01 01:00:00</td>\n",
       "      <td>13.50</td>\n",
       "      <td>0</td>\n",
       "      <td>1.0</td>\n",
       "      <td>1</td>\n",
       "      <td>1</td>\n",
       "      <td>6.6</td>\n",
       "      <td>2.4</td>\n",
       "      <td>80.14</td>\n",
       "    </tr>\n",
       "    <tr>\n",
       "      <th>3</th>\n",
       "      <td>2018-01-01 01:30:00</td>\n",
       "      <td>11.90</td>\n",
       "      <td>0</td>\n",
       "      <td>1.5</td>\n",
       "      <td>1</td>\n",
       "      <td>1</td>\n",
       "      <td>6.6</td>\n",
       "      <td>2.4</td>\n",
       "      <td>80.14</td>\n",
       "    </tr>\n",
       "    <tr>\n",
       "      <th>4</th>\n",
       "      <td>2018-01-01 02:00:00</td>\n",
       "      <td>12.80</td>\n",
       "      <td>0</td>\n",
       "      <td>2.0</td>\n",
       "      <td>1</td>\n",
       "      <td>1</td>\n",
       "      <td>6.1</td>\n",
       "      <td>2.0</td>\n",
       "      <td>84.33</td>\n",
       "    </tr>\n",
       "    <tr>\n",
       "      <th>...</th>\n",
       "      <td>...</td>\n",
       "      <td>...</td>\n",
       "      <td>...</td>\n",
       "      <td>...</td>\n",
       "      <td>...</td>\n",
       "      <td>...</td>\n",
       "      <td>...</td>\n",
       "      <td>...</td>\n",
       "      <td>...</td>\n",
       "    </tr>\n",
       "    <tr>\n",
       "      <th>35035</th>\n",
       "      <td>2019-12-31 21:30:00</td>\n",
       "      <td>13.56</td>\n",
       "      <td>1</td>\n",
       "      <td>21.5</td>\n",
       "      <td>0</td>\n",
       "      <td>12</td>\n",
       "      <td>6.5</td>\n",
       "      <td>3.3</td>\n",
       "      <td>88.23</td>\n",
       "    </tr>\n",
       "    <tr>\n",
       "      <th>35036</th>\n",
       "      <td>2019-12-31 22:00:00</td>\n",
       "      <td>13.81</td>\n",
       "      <td>1</td>\n",
       "      <td>22.0</td>\n",
       "      <td>0</td>\n",
       "      <td>12</td>\n",
       "      <td>6.6</td>\n",
       "      <td>4.4</td>\n",
       "      <td>87.69</td>\n",
       "    </tr>\n",
       "    <tr>\n",
       "      <th>35037</th>\n",
       "      <td>2019-12-31 22:30:00</td>\n",
       "      <td>14.12</td>\n",
       "      <td>1</td>\n",
       "      <td>22.5</td>\n",
       "      <td>0</td>\n",
       "      <td>12</td>\n",
       "      <td>6.6</td>\n",
       "      <td>4.4</td>\n",
       "      <td>87.69</td>\n",
       "    </tr>\n",
       "    <tr>\n",
       "      <th>35038</th>\n",
       "      <td>2019-12-31 23:00:00</td>\n",
       "      <td>14.50</td>\n",
       "      <td>1</td>\n",
       "      <td>23.0</td>\n",
       "      <td>0</td>\n",
       "      <td>12</td>\n",
       "      <td>6.7</td>\n",
       "      <td>4.1</td>\n",
       "      <td>88.13</td>\n",
       "    </tr>\n",
       "    <tr>\n",
       "      <th>35039</th>\n",
       "      <td>2019-12-31 23:30:00</td>\n",
       "      <td>13.88</td>\n",
       "      <td>1</td>\n",
       "      <td>23.5</td>\n",
       "      <td>0</td>\n",
       "      <td>12</td>\n",
       "      <td>6.7</td>\n",
       "      <td>4.1</td>\n",
       "      <td>88.13</td>\n",
       "    </tr>\n",
       "  </tbody>\n",
       "</table>\n",
       "<p>35040 rows × 9 columns</p>\n",
       "</div>"
      ],
      "text/plain": [
       "           From Timestamp  HH Electricity (kWh)  dayofweek  hour  holiday  \\\n",
       "0     2018-01-01 00:00:00                 12.80          0   0.0        1   \n",
       "1     2018-01-01 00:30:00                 12.30          0   0.5        1   \n",
       "2     2018-01-01 01:00:00                 13.50          0   1.0        1   \n",
       "3     2018-01-01 01:30:00                 11.90          0   1.5        1   \n",
       "4     2018-01-01 02:00:00                 12.80          0   2.0        1   \n",
       "...                   ...                   ...        ...   ...      ...   \n",
       "35035 2019-12-31 21:30:00                 13.56          1  21.5        0   \n",
       "35036 2019-12-31 22:00:00                 13.81          1  22.0        0   \n",
       "35037 2019-12-31 22:30:00                 14.12          1  22.5        0   \n",
       "35038 2019-12-31 23:00:00                 14.50          1  23.0        0   \n",
       "35039 2019-12-31 23:30:00                 13.88          1  23.5        0   \n",
       "\n",
       "       month  Temperature (C)  Feels like (C)  Humidity (%)  \n",
       "0          1              6.4             1.9         82.76  \n",
       "1          1              6.4             1.9         82.76  \n",
       "2          1              6.6             2.4         80.14  \n",
       "3          1              6.6             2.4         80.14  \n",
       "4          1              6.1             2.0         84.33  \n",
       "...      ...              ...             ...           ...  \n",
       "35035     12              6.5             3.3         88.23  \n",
       "35036     12              6.6             4.4         87.69  \n",
       "35037     12              6.6             4.4         87.69  \n",
       "35038     12              6.7             4.1         88.13  \n",
       "35039     12              6.7             4.1         88.13  \n",
       "\n",
       "[35040 rows x 9 columns]"
      ]
     },
     "execution_count": 4,
     "metadata": {},
     "output_type": "execute_result"
    }
   ],
   "source": [
    "df = df.drop('Unnamed: 0', axis = 1)\n",
    "df"
   ]
  },
  {
   "cell_type": "code",
   "execution_count": 5,
   "id": "1bc137a6",
   "metadata": {},
   "outputs": [],
   "source": [
    "lagNumberStart = 1\n",
    "lagNumberEnd = 8\n",
    "\n",
    "for i in range(lagNumberStart, lagNumberEnd):\n",
    "    name = \"n-{}.\".format(48*i)\n",
    "    df[name] = df['HH Electricity (kWh)'].shift(48*i)\n",
    "\n",
    "i = list(range(lagNumberEnd*48))\n",
    "df = df.drop(i)\n",
    "\n",
    "\n",
    "feature_cols = ['dayofweek', 'hour', 'month', 'holiday', 'Temperature (C)', 'Feels like (C)', 'Humidity (%)']   \n",
    "\n",
    "for i in range(lagNumberStart, lagNumberEnd):\n",
    "    name = \"n-{}.\".format(48*i)\n",
    "    feature_cols.append(name)\n",
    "    \n",
    "X = df[feature_cols].copy() #input features for fitting\n",
    "\n",
    "Xtrain = df.iloc[:-(3*48)]\n",
    "Xvalidate = df.iloc[-(3*48):]\n",
    "\n",
    "X1 = Xtrain[feature_cols] # Features\n",
    "y1 = Xtrain['HH Electricity (kWh)'] # Target variable\n",
    "\n",
    "X2 = Xvalidate[feature_cols] # Features\n",
    "y2 = Xvalidate['HH Electricity (kWh)'] # Target variable\n",
    "\n",
    "scaler = StandardScaler() #scaling\n",
    "scaler.fit(X)\n",
    "X1scaled = scaler.transform(X1)\n",
    "X2scaled = scaler.transform(X2)\n"
   ]
  },
  {
   "cell_type": "markdown",
   "id": "1e7916aa",
   "metadata": {},
   "source": [
    "# Random Forest Regressor"
   ]
  },
  {
   "cell_type": "code",
   "execution_count": 9,
   "id": "550889a8",
   "metadata": {
    "scrolled": true
   },
   "outputs": [
    {
     "data": {
      "text/html": [
       "<div>\n",
       "<style scoped>\n",
       "    .dataframe tbody tr th:only-of-type {\n",
       "        vertical-align: middle;\n",
       "    }\n",
       "\n",
       "    .dataframe tbody tr th {\n",
       "        vertical-align: top;\n",
       "    }\n",
       "\n",
       "    .dataframe thead th {\n",
       "        text-align: right;\n",
       "    }\n",
       "</style>\n",
       "<table border=\"1\" class=\"dataframe\">\n",
       "  <thead>\n",
       "    <tr style=\"text-align: right;\">\n",
       "      <th></th>\n",
       "      <th>param_n_estimators</th>\n",
       "      <th>mean_test_score</th>\n",
       "      <th>rank_test_score</th>\n",
       "    </tr>\n",
       "  </thead>\n",
       "  <tbody>\n",
       "    <tr>\n",
       "      <th>8</th>\n",
       "      <td>810</td>\n",
       "      <td>0.831909</td>\n",
       "      <td>1</td>\n",
       "    </tr>\n",
       "    <tr>\n",
       "      <th>9</th>\n",
       "      <td>910</td>\n",
       "      <td>0.831898</td>\n",
       "      <td>2</td>\n",
       "    </tr>\n",
       "    <tr>\n",
       "      <th>10</th>\n",
       "      <td>1010</td>\n",
       "      <td>0.831886</td>\n",
       "      <td>3</td>\n",
       "    </tr>\n",
       "    <tr>\n",
       "      <th>7</th>\n",
       "      <td>710</td>\n",
       "      <td>0.831744</td>\n",
       "      <td>4</td>\n",
       "    </tr>\n",
       "    <tr>\n",
       "      <th>6</th>\n",
       "      <td>610</td>\n",
       "      <td>0.831690</td>\n",
       "      <td>5</td>\n",
       "    </tr>\n",
       "    <tr>\n",
       "      <th>5</th>\n",
       "      <td>510</td>\n",
       "      <td>0.831659</td>\n",
       "      <td>6</td>\n",
       "    </tr>\n",
       "    <tr>\n",
       "      <th>4</th>\n",
       "      <td>410</td>\n",
       "      <td>0.831289</td>\n",
       "      <td>7</td>\n",
       "    </tr>\n",
       "    <tr>\n",
       "      <th>3</th>\n",
       "      <td>310</td>\n",
       "      <td>0.831191</td>\n",
       "      <td>8</td>\n",
       "    </tr>\n",
       "    <tr>\n",
       "      <th>1</th>\n",
       "      <td>110</td>\n",
       "      <td>0.831172</td>\n",
       "      <td>9</td>\n",
       "    </tr>\n",
       "    <tr>\n",
       "      <th>2</th>\n",
       "      <td>210</td>\n",
       "      <td>0.830953</td>\n",
       "      <td>10</td>\n",
       "    </tr>\n",
       "    <tr>\n",
       "      <th>0</th>\n",
       "      <td>10</td>\n",
       "      <td>0.819301</td>\n",
       "      <td>11</td>\n",
       "    </tr>\n",
       "  </tbody>\n",
       "</table>\n",
       "</div>"
      ],
      "text/plain": [
       "   param_n_estimators  mean_test_score  rank_test_score\n",
       "8                 810         0.831909                1\n",
       "9                 910         0.831898                2\n",
       "10               1010         0.831886                3\n",
       "7                 710         0.831744                4\n",
       "6                 610         0.831690                5\n",
       "5                 510         0.831659                6\n",
       "4                 410         0.831289                7\n",
       "3                 310         0.831191                8\n",
       "1                 110         0.831172                9\n",
       "2                 210         0.830953               10\n",
       "0                  10         0.819301               11"
      ]
     },
     "execution_count": 9,
     "metadata": {},
     "output_type": "execute_result"
    }
   ],
   "source": [
    "N = range(10,1011,100)\n",
    "\n",
    "RFR = GridSearchCV(RandomForestRegressor(random_state=42), {\n",
    "    'n_estimators': N\n",
    "}, cv=5, return_train_score=False)\n",
    "RFR.fit(X1scaled, y1)\n",
    "\n",
    "RFR_results = pd.DataFrame(RFR.cv_results_)\n",
    "RFR_results = RFR_results[['param_n_estimators', 'mean_test_score', 'rank_test_score']].sort_values(by=['rank_test_score'])\n",
    "RFR_results"
   ]
  },
  {
   "cell_type": "code",
   "execution_count": 10,
   "id": "ecd87cd2",
   "metadata": {},
   "outputs": [
    {
     "data": {
      "text/html": [
       "<div>\n",
       "<style scoped>\n",
       "    .dataframe tbody tr th:only-of-type {\n",
       "        vertical-align: middle;\n",
       "    }\n",
       "\n",
       "    .dataframe tbody tr th {\n",
       "        vertical-align: top;\n",
       "    }\n",
       "\n",
       "    .dataframe thead th {\n",
       "        text-align: right;\n",
       "    }\n",
       "</style>\n",
       "<table border=\"1\" class=\"dataframe\">\n",
       "  <thead>\n",
       "    <tr style=\"text-align: right;\">\n",
       "      <th></th>\n",
       "      <th>param_n_estimators</th>\n",
       "      <th>mean_test_score</th>\n",
       "      <th>rank_test_score</th>\n",
       "    </tr>\n",
       "  </thead>\n",
       "  <tbody>\n",
       "    <tr>\n",
       "      <th>8</th>\n",
       "      <td>85</td>\n",
       "      <td>0.830835</td>\n",
       "      <td>1</td>\n",
       "    </tr>\n",
       "    <tr>\n",
       "      <th>9</th>\n",
       "      <td>95</td>\n",
       "      <td>0.830818</td>\n",
       "      <td>2</td>\n",
       "    </tr>\n",
       "    <tr>\n",
       "      <th>7</th>\n",
       "      <td>75</td>\n",
       "      <td>0.830646</td>\n",
       "      <td>3</td>\n",
       "    </tr>\n",
       "    <tr>\n",
       "      <th>6</th>\n",
       "      <td>65</td>\n",
       "      <td>0.830068</td>\n",
       "      <td>4</td>\n",
       "    </tr>\n",
       "    <tr>\n",
       "      <th>5</th>\n",
       "      <td>55</td>\n",
       "      <td>0.829297</td>\n",
       "      <td>5</td>\n",
       "    </tr>\n",
       "    <tr>\n",
       "      <th>4</th>\n",
       "      <td>45</td>\n",
       "      <td>0.829036</td>\n",
       "      <td>6</td>\n",
       "    </tr>\n",
       "    <tr>\n",
       "      <th>3</th>\n",
       "      <td>35</td>\n",
       "      <td>0.828236</td>\n",
       "      <td>7</td>\n",
       "    </tr>\n",
       "    <tr>\n",
       "      <th>2</th>\n",
       "      <td>25</td>\n",
       "      <td>0.825865</td>\n",
       "      <td>8</td>\n",
       "    </tr>\n",
       "    <tr>\n",
       "      <th>1</th>\n",
       "      <td>15</td>\n",
       "      <td>0.823647</td>\n",
       "      <td>9</td>\n",
       "    </tr>\n",
       "    <tr>\n",
       "      <th>0</th>\n",
       "      <td>5</td>\n",
       "      <td>0.809256</td>\n",
       "      <td>10</td>\n",
       "    </tr>\n",
       "  </tbody>\n",
       "</table>\n",
       "</div>"
      ],
      "text/plain": [
       "  param_n_estimators  mean_test_score  rank_test_score\n",
       "8                 85         0.830835                1\n",
       "9                 95         0.830818                2\n",
       "7                 75         0.830646                3\n",
       "6                 65         0.830068                4\n",
       "5                 55         0.829297                5\n",
       "4                 45         0.829036                6\n",
       "3                 35         0.828236                7\n",
       "2                 25         0.825865                8\n",
       "1                 15         0.823647                9\n",
       "0                  5         0.809256               10"
      ]
     },
     "execution_count": 10,
     "metadata": {},
     "output_type": "execute_result"
    }
   ],
   "source": [
    "N = range(5,96,10)\n",
    "\n",
    "RFR1 = GridSearchCV(RandomForestRegressor(random_state=42), {\n",
    "    'n_estimators': N\n",
    "}, cv=5, return_train_score=False)\n",
    "RFR1.fit(X1scaled, y1)\n",
    "\n",
    "RFRresults1 = pd.DataFrame(RFR1.cv_results_)\n",
    "RFRresults1 = RFRresults1[['param_n_estimators', 'mean_test_score', 'rank_test_score']].sort_values(by=['rank_test_score'])\n",
    "RFRresults1\n",
    "\n"
   ]
  },
  {
   "cell_type": "code",
   "execution_count": 11,
   "id": "e4c049c2",
   "metadata": {},
   "outputs": [
    {
     "data": {
      "text/html": [
       "<div>\n",
       "<style scoped>\n",
       "    .dataframe tbody tr th:only-of-type {\n",
       "        vertical-align: middle;\n",
       "    }\n",
       "\n",
       "    .dataframe tbody tr th {\n",
       "        vertical-align: top;\n",
       "    }\n",
       "\n",
       "    .dataframe thead th {\n",
       "        text-align: right;\n",
       "    }\n",
       "</style>\n",
       "<table border=\"1\" class=\"dataframe\">\n",
       "  <thead>\n",
       "    <tr style=\"text-align: right;\">\n",
       "      <th></th>\n",
       "      <th>param_n_estimators</th>\n",
       "      <th>mean_test_score</th>\n",
       "      <th>rank_test_score</th>\n",
       "    </tr>\n",
       "  </thead>\n",
       "  <tbody>\n",
       "    <tr>\n",
       "      <th>8</th>\n",
       "      <td>810</td>\n",
       "      <td>0.831909</td>\n",
       "      <td>1</td>\n",
       "    </tr>\n",
       "    <tr>\n",
       "      <th>9</th>\n",
       "      <td>910</td>\n",
       "      <td>0.831898</td>\n",
       "      <td>2</td>\n",
       "    </tr>\n",
       "    <tr>\n",
       "      <th>10</th>\n",
       "      <td>1010</td>\n",
       "      <td>0.831886</td>\n",
       "      <td>3</td>\n",
       "    </tr>\n",
       "    <tr>\n",
       "      <th>7</th>\n",
       "      <td>710</td>\n",
       "      <td>0.831744</td>\n",
       "      <td>4</td>\n",
       "    </tr>\n",
       "    <tr>\n",
       "      <th>6</th>\n",
       "      <td>610</td>\n",
       "      <td>0.831690</td>\n",
       "      <td>5</td>\n",
       "    </tr>\n",
       "    <tr>\n",
       "      <th>5</th>\n",
       "      <td>510</td>\n",
       "      <td>0.831659</td>\n",
       "      <td>6</td>\n",
       "    </tr>\n",
       "    <tr>\n",
       "      <th>4</th>\n",
       "      <td>410</td>\n",
       "      <td>0.831289</td>\n",
       "      <td>7</td>\n",
       "    </tr>\n",
       "    <tr>\n",
       "      <th>3</th>\n",
       "      <td>310</td>\n",
       "      <td>0.831191</td>\n",
       "      <td>8</td>\n",
       "    </tr>\n",
       "    <tr>\n",
       "      <th>1</th>\n",
       "      <td>110</td>\n",
       "      <td>0.831172</td>\n",
       "      <td>9</td>\n",
       "    </tr>\n",
       "    <tr>\n",
       "      <th>2</th>\n",
       "      <td>210</td>\n",
       "      <td>0.830953</td>\n",
       "      <td>10</td>\n",
       "    </tr>\n",
       "    <tr>\n",
       "      <th>0</th>\n",
       "      <td>10</td>\n",
       "      <td>0.819301</td>\n",
       "      <td>11</td>\n",
       "    </tr>\n",
       "    <tr>\n",
       "      <th>8</th>\n",
       "      <td>85</td>\n",
       "      <td>0.830835</td>\n",
       "      <td>1</td>\n",
       "    </tr>\n",
       "    <tr>\n",
       "      <th>9</th>\n",
       "      <td>95</td>\n",
       "      <td>0.830818</td>\n",
       "      <td>2</td>\n",
       "    </tr>\n",
       "    <tr>\n",
       "      <th>7</th>\n",
       "      <td>75</td>\n",
       "      <td>0.830646</td>\n",
       "      <td>3</td>\n",
       "    </tr>\n",
       "    <tr>\n",
       "      <th>6</th>\n",
       "      <td>65</td>\n",
       "      <td>0.830068</td>\n",
       "      <td>4</td>\n",
       "    </tr>\n",
       "    <tr>\n",
       "      <th>5</th>\n",
       "      <td>55</td>\n",
       "      <td>0.829297</td>\n",
       "      <td>5</td>\n",
       "    </tr>\n",
       "    <tr>\n",
       "      <th>4</th>\n",
       "      <td>45</td>\n",
       "      <td>0.829036</td>\n",
       "      <td>6</td>\n",
       "    </tr>\n",
       "    <tr>\n",
       "      <th>3</th>\n",
       "      <td>35</td>\n",
       "      <td>0.828236</td>\n",
       "      <td>7</td>\n",
       "    </tr>\n",
       "    <tr>\n",
       "      <th>2</th>\n",
       "      <td>25</td>\n",
       "      <td>0.825865</td>\n",
       "      <td>8</td>\n",
       "    </tr>\n",
       "    <tr>\n",
       "      <th>1</th>\n",
       "      <td>15</td>\n",
       "      <td>0.823647</td>\n",
       "      <td>9</td>\n",
       "    </tr>\n",
       "    <tr>\n",
       "      <th>0</th>\n",
       "      <td>5</td>\n",
       "      <td>0.809256</td>\n",
       "      <td>10</td>\n",
       "    </tr>\n",
       "  </tbody>\n",
       "</table>\n",
       "</div>"
      ],
      "text/plain": [
       "   param_n_estimators  mean_test_score  rank_test_score\n",
       "8                 810         0.831909                1\n",
       "9                 910         0.831898                2\n",
       "10               1010         0.831886                3\n",
       "7                 710         0.831744                4\n",
       "6                 610         0.831690                5\n",
       "5                 510         0.831659                6\n",
       "4                 410         0.831289                7\n",
       "3                 310         0.831191                8\n",
       "1                 110         0.831172                9\n",
       "2                 210         0.830953               10\n",
       "0                  10         0.819301               11\n",
       "8                  85         0.830835                1\n",
       "9                  95         0.830818                2\n",
       "7                  75         0.830646                3\n",
       "6                  65         0.830068                4\n",
       "5                  55         0.829297                5\n",
       "4                  45         0.829036                6\n",
       "3                  35         0.828236                7\n",
       "2                  25         0.825865                8\n",
       "1                  15         0.823647                9\n",
       "0                   5         0.809256               10"
      ]
     },
     "execution_count": 11,
     "metadata": {},
     "output_type": "execute_result"
    }
   ],
   "source": [
    "RFRresults2 = RFR_results.copy()\n",
    "RFRresults = RFRresults2.append(RFRresults1)\n",
    "RFRresults"
   ]
  },
  {
   "cell_type": "code",
   "execution_count": 12,
   "id": "666b3343",
   "metadata": {
    "scrolled": true
   },
   "outputs": [
    {
     "data": {
      "image/png": "[encoded data removed]",
      "text/plain": [
       "<Figure size 432x288 with 1 Axes>"
      ]
     },
     "metadata": {
      "needs_background": "light"
     },
     "output_type": "display_data"
    }
   ],
   "source": [
    "RFRresults = RFRresults.sort_values(by=['param_n_estimators'])\n",
    "plt.plot(RFRresults['param_n_estimators'], RFRresults['mean_test_score'])\n",
    "\n",
    "\n",
    "plt.xlabel('Number of Trees')\n",
    "# Set the y axis label of the current axis.\n",
    "plt.ylabel('Mean test Score')\n",
    "# Set a title of the current axes.\n",
    "plt.title('Test scores of different number of trees for Random Forest')\n",
    "# Display a figure.\n",
    "plt.show()"
   ]
  },
  {
   "cell_type": "code",
   "execution_count": 14,
   "id": "b2fbde3d",
   "metadata": {
    "scrolled": false
   },
   "outputs": [
    {
     "name": "stdout",
     "output_type": "stream",
     "text": [
      "5.510781655821406\n"
     ]
    },
    {
     "data": {
      "image/png": "[encoded data removed]",
      "text/plain": [
       "<Figure size 640x480 with 1 Axes>"
      ]
     },
     "metadata": {
      "needs_background": "light"
     },
     "output_type": "display_data"
    }
   ],
   "source": [
    "estimator = RandomForestRegressor(n_estimators = 700,  random_state=42).fit(X_train, y_train)\n",
    "y_pred = estimator.predict(X_test)\n",
    "\n",
    "RandomForestMAPE = mean_absolute_percentage_error(y_test, y_pred) * 100\n",
    "print(RandomForestMAPE)\n",
    "\n",
    "\n",
    "figure(figsize=(8, 6), dpi=80)\n",
    "plt.scatter(y_test,y_pred, s = 2.5)\n",
    "plt.xlabel('Real Value')\n",
    "# Set the y axis label of the current axis.\n",
    "plt.ylabel('Predicted value')\n",
    "# Set a title of the current axes.\n",
    "plt.title('Random Forest Regressor predictions')\n",
    "# Display a figure.\n",
    "plt.show()"
   ]
  },
  {
   "cell_type": "code",
   "execution_count": 15,
   "id": "fb5e5b6f",
   "metadata": {},
   "outputs": [
    {
     "name": "stdout",
     "output_type": "stream",
     "text": [
      "6.939974601366513\n"
     ]
    },
    {
     "data": {
      "text/plain": [
       "[<matplotlib.lines.Line2D at 0x22eb57a2940>]"
      ]
     },
     "execution_count": 15,
     "metadata": {},
     "output_type": "execute_result"
    },
    {
     "data": {
      "image/png": "[encoded data removed]",
      "text/plain": [
       "<Figure size 432x288 with 1 Axes>"
      ]
     },
     "metadata": {
      "needs_background": "light"
     },
     "output_type": "display_data"
    }
   ],
   "source": [
    "pred = estimator.predict(X2scaled)\n",
    "\n",
    "RandomForestMAPE = mean_absolute_percentage_error(y2, pred) * 100\n",
    "print(RandomForestMAPE)\n",
    "\n",
    "plt.plot(df['From Timestamp'].iloc[-(3*48):],y2, label = True)\n",
    "plt.plot(df['From Timestamp'].iloc[-(3*48):],pred, label = True)\n"
   ]
  },
  {
   "cell_type": "markdown",
   "id": "e2afb5c6",
   "metadata": {},
   "source": [
    "# KNN\n"
   ]
  },
  {
   "cell_type": "code",
   "execution_count": 13,
   "id": "a5bc188b",
   "metadata": {},
   "outputs": [
    {
     "name": "stdout",
     "output_type": "stream",
     "text": [
      "Fitting 5 folds for each of 98 candidates, totalling 490 fits\n",
      "[CV 1/5] END .................n_neighbors=1, weights=uniform; total time=   1.9s\n",
      "[CV 2/5] END .................n_neighbors=1, weights=uniform; total time=   2.1s\n",
      "[CV 3/5] END .................n_neighbors=1, weights=uniform; total time=   1.7s\n",
      "[CV 4/5] END .................n_neighbors=1, weights=uniform; total time=   1.7s\n",
      "[CV 5/5] END .................n_neighbors=1, weights=uniform; total time=   1.9s\n",
      "[CV 1/5] END ................n_neighbors=1, weights=distance; total time=   1.7s\n",
      "[CV 2/5] END ................n_neighbors=1, weights=distance; total time=   1.8s\n",
      "[CV 3/5] END ................n_neighbors=1, weights=distance; total time=   1.7s\n",
      "[CV 4/5] END ................n_neighbors=1, weights=distance; total time=   1.7s\n",
      "[CV 5/5] END ................n_neighbors=1, weights=distance; total time=   1.9s\n",
      "[CV 1/5] END .................n_neighbors=2, weights=uniform; total time=   1.7s\n",
      "[CV 2/5] END .................n_neighbors=2, weights=uniform; total time=   1.8s\n",
      "[CV 3/5] END .................n_neighbors=2, weights=uniform; total time=   1.8s\n",
      "[CV 4/5] END .................n_neighbors=2, weights=uniform; total time=   1.8s\n",
      "[CV 5/5] END .................n_neighbors=2, weights=uniform; total time=   1.9s\n",
      "[CV 1/5] END ................n_neighbors=2, weights=distance; total time=   1.7s\n",
      "[CV 2/5] END ................n_neighbors=2, weights=distance; total time=   1.9s\n",
      "[CV 3/5] END ................n_neighbors=2, weights=distance; total time=   1.9s\n",
      "[CV 4/5] END ................n_neighbors=2, weights=distance; total time=   1.7s\n",
      "[CV 5/5] END ................n_neighbors=2, weights=distance; total time=   2.0s\n",
      "[CV 1/5] END .................n_neighbors=3, weights=uniform; total time=   1.7s\n",
      "[CV 2/5] END .................n_neighbors=3, weights=uniform; total time=   1.9s\n",
      "[CV 3/5] END .................n_neighbors=3, weights=uniform; total time=   1.8s\n",
      "[CV 4/5] END .................n_neighbors=3, weights=uniform; total time=   1.8s\n",
      "[CV 5/5] END .................n_neighbors=3, weights=uniform; total time=   2.0s\n",
      "[CV 1/5] END ................n_neighbors=3, weights=distance; total time=   1.7s\n",
      "[CV 2/5] END ................n_neighbors=3, weights=distance; total time=   2.3s\n",
      "[CV 3/5] END ................n_neighbors=3, weights=distance; total time=   1.8s\n",
      "[CV 4/5] END ................n_neighbors=3, weights=distance; total time=   1.8s\n",
      "[CV 5/5] END ................n_neighbors=3, weights=distance; total time=   2.0s\n",
      "[CV 1/5] END .................n_neighbors=4, weights=uniform; total time=   1.7s\n",
      "[CV 2/5] END .................n_neighbors=4, weights=uniform; total time=   2.0s\n",
      "[CV 3/5] END .................n_neighbors=4, weights=uniform; total time=   2.0s\n",
      "[CV 4/5] END .................n_neighbors=4, weights=uniform; total time=   1.8s\n",
      "[CV 5/5] END .................n_neighbors=4, weights=uniform; total time=   2.4s\n",
      "[CV 1/5] END ................n_neighbors=4, weights=distance; total time=   1.7s\n",
      "[CV 2/5] END ................n_neighbors=4, weights=distance; total time=   2.0s\n",
      "[CV 3/5] END ................n_neighbors=4, weights=distance; total time=   1.9s\n",
      "[CV 4/5] END ................n_neighbors=4, weights=distance; total time=   1.9s\n",
      "[CV 5/5] END ................n_neighbors=4, weights=distance; total time=   2.1s\n",
      "[CV 1/5] END .................n_neighbors=5, weights=uniform; total time=   1.8s\n",
      "[CV 2/5] END .................n_neighbors=5, weights=uniform; total time=   2.0s\n",
      "[CV 3/5] END .................n_neighbors=5, weights=uniform; total time=   2.0s\n",
      "[CV 4/5] END .................n_neighbors=5, weights=uniform; total time=   1.9s\n",
      "[CV 5/5] END .................n_neighbors=5, weights=uniform; total time=   2.2s\n",
      "[CV 1/5] END ................n_neighbors=5, weights=distance; total time=   1.8s\n",
      "[CV 2/5] END ................n_neighbors=5, weights=distance; total time=   2.1s\n",
      "[CV 3/5] END ................n_neighbors=5, weights=distance; total time=   2.0s\n",
      "[CV 4/5] END ................n_neighbors=5, weights=distance; total time=   1.9s\n",
      "[CV 5/5] END ................n_neighbors=5, weights=distance; total time=   2.1s\n",
      "[CV 1/5] END .................n_neighbors=6, weights=uniform; total time=   1.8s\n",
      "[CV 2/5] END .................n_neighbors=6, weights=uniform; total time=   2.1s\n",
      "[CV 3/5] END .................n_neighbors=6, weights=uniform; total time=   2.0s\n",
      "[CV 4/5] END .................n_neighbors=6, weights=uniform; total time=   1.9s\n",
      "[CV 5/5] END .................n_neighbors=6, weights=uniform; total time=   2.2s\n",
      "[CV 1/5] END ................n_neighbors=6, weights=distance; total time=   2.3s\n",
      "[CV 2/5] END ................n_neighbors=6, weights=distance; total time=   2.0s\n",
      "[CV 3/5] END ................n_neighbors=6, weights=distance; total time=   2.0s\n",
      "[CV 4/5] END ................n_neighbors=6, weights=distance; total time=   2.0s\n",
      "[CV 5/5] END ................n_neighbors=6, weights=distance; total time=   2.2s\n",
      "[CV 1/5] END .................n_neighbors=7, weights=uniform; total time=   1.8s\n",
      "[CV 2/5] END .................n_neighbors=7, weights=uniform; total time=   2.2s\n",
      "[CV 3/5] END .................n_neighbors=7, weights=uniform; total time=   2.1s\n",
      "[CV 4/5] END .................n_neighbors=7, weights=uniform; total time=   1.9s\n",
      "[CV 5/5] END .................n_neighbors=7, weights=uniform; total time=   2.2s\n",
      "[CV 1/5] END ................n_neighbors=7, weights=distance; total time=   1.8s\n",
      "[CV 2/5] END ................n_neighbors=7, weights=distance; total time=   2.1s\n",
      "[CV 3/5] END ................n_neighbors=7, weights=distance; total time=   2.1s\n",
      "[CV 4/5] END ................n_neighbors=7, weights=distance; total time=   2.1s\n",
      "[CV 5/5] END ................n_neighbors=7, weights=distance; total time=   2.2s\n",
      "[CV 1/5] END .................n_neighbors=8, weights=uniform; total time=   2.0s\n",
      "[CV 2/5] END .................n_neighbors=8, weights=uniform; total time=   2.1s\n",
      "[CV 3/5] END .................n_neighbors=8, weights=uniform; total time=   2.0s\n",
      "[CV 4/5] END .................n_neighbors=8, weights=uniform; total time=   2.0s\n",
      "[CV 5/5] END .................n_neighbors=8, weights=uniform; total time=   2.3s\n",
      "[CV 1/5] END ................n_neighbors=8, weights=distance; total time=   1.9s\n",
      "[CV 2/5] END ................n_neighbors=8, weights=distance; total time=   2.2s\n",
      "[CV 3/5] END ................n_neighbors=8, weights=distance; total time=   2.0s\n",
      "[CV 4/5] END ................n_neighbors=8, weights=distance; total time=   2.0s\n",
      "[CV 5/5] END ................n_neighbors=8, weights=distance; total time=   2.2s\n",
      "[CV 1/5] END .................n_neighbors=9, weights=uniform; total time=   1.9s\n",
      "[CV 2/5] END .................n_neighbors=9, weights=uniform; total time=   2.2s\n",
      "[CV 3/5] END .................n_neighbors=9, weights=uniform; total time=   2.3s\n",
      "[CV 4/5] END .................n_neighbors=9, weights=uniform; total time=   2.2s\n",
      "[CV 5/5] END .................n_neighbors=9, weights=uniform; total time=   2.3s\n",
      "[CV 1/5] END ................n_neighbors=9, weights=distance; total time=   1.9s\n",
      "[CV 2/5] END ................n_neighbors=9, weights=distance; total time=   2.2s\n",
      "[CV 3/5] END ................n_neighbors=9, weights=distance; total time=   2.1s\n",
      "[CV 4/5] END ................n_neighbors=9, weights=distance; total time=   2.0s\n",
      "[CV 5/5] END ................n_neighbors=9, weights=distance; total time=   2.3s\n",
      "[CV 1/5] END ................n_neighbors=10, weights=uniform; total time=   2.0s\n",
      "[CV 2/5] END ................n_neighbors=10, weights=uniform; total time=   2.2s\n",
      "[CV 3/5] END ................n_neighbors=10, weights=uniform; total time=   2.2s\n",
      "[CV 4/5] END ................n_neighbors=10, weights=uniform; total time=   2.0s\n",
      "[CV 5/5] END ................n_neighbors=10, weights=uniform; total time=   2.3s\n",
      "[CV 1/5] END ...............n_neighbors=10, weights=distance; total time=   2.0s\n",
      "[CV 2/5] END ...............n_neighbors=10, weights=distance; total time=   2.2s\n",
      "[CV 3/5] END ...............n_neighbors=10, weights=distance; total time=   2.1s\n",
      "[CV 4/5] END ...............n_neighbors=10, weights=distance; total time=   2.1s\n",
      "[CV 5/5] END ...............n_neighbors=10, weights=distance; total time=   2.4s\n",
      "[CV 1/5] END ................n_neighbors=11, weights=uniform; total time=   1.9s\n"
     ]
    },
    {
     "name": "stdout",
     "output_type": "stream",
     "text": [
      "[CV 2/5] END ................n_neighbors=11, weights=uniform; total time=   2.2s\n",
      "[CV 3/5] END ................n_neighbors=11, weights=uniform; total time=   2.1s\n",
      "[CV 4/5] END ................n_neighbors=11, weights=uniform; total time=   2.1s\n",
      "[CV 5/5] END ................n_neighbors=11, weights=uniform; total time=   2.4s\n",
      "[CV 1/5] END ...............n_neighbors=11, weights=distance; total time=   2.0s\n",
      "[CV 2/5] END ...............n_neighbors=11, weights=distance; total time=   2.3s\n",
      "[CV 3/5] END ...............n_neighbors=11, weights=distance; total time=   2.2s\n",
      "[CV 4/5] END ...............n_neighbors=11, weights=distance; total time=   2.1s\n",
      "[CV 5/5] END ...............n_neighbors=11, weights=distance; total time=   2.6s\n",
      "[CV 1/5] END ................n_neighbors=12, weights=uniform; total time=   1.9s\n",
      "[CV 2/5] END ................n_neighbors=12, weights=uniform; total time=   2.3s\n",
      "[CV 3/5] END ................n_neighbors=12, weights=uniform; total time=   2.2s\n",
      "[CV 4/5] END ................n_neighbors=12, weights=uniform; total time=   2.1s\n",
      "[CV 5/5] END ................n_neighbors=12, weights=uniform; total time=   2.6s\n",
      "[CV 1/5] END ...............n_neighbors=12, weights=distance; total time=   1.9s\n",
      "[CV 2/5] END ...............n_neighbors=12, weights=distance; total time=   2.3s\n",
      "[CV 3/5] END ...............n_neighbors=12, weights=distance; total time=   2.1s\n",
      "[CV 4/5] END ...............n_neighbors=12, weights=distance; total time=   2.1s\n",
      "[CV 5/5] END ...............n_neighbors=12, weights=distance; total time=   2.4s\n",
      "[CV 1/5] END ................n_neighbors=13, weights=uniform; total time=   2.0s\n",
      "[CV 2/5] END ................n_neighbors=13, weights=uniform; total time=   2.3s\n",
      "[CV 3/5] END ................n_neighbors=13, weights=uniform; total time=   2.2s\n",
      "[CV 4/5] END ................n_neighbors=13, weights=uniform; total time=   2.1s\n",
      "[CV 5/5] END ................n_neighbors=13, weights=uniform; total time=   2.5s\n",
      "[CV 1/5] END ...............n_neighbors=13, weights=distance; total time=   2.0s\n",
      "[CV 2/5] END ...............n_neighbors=13, weights=distance; total time=   2.5s\n",
      "[CV 3/5] END ...............n_neighbors=13, weights=distance; total time=   2.2s\n",
      "[CV 4/5] END ...............n_neighbors=13, weights=distance; total time=   2.1s\n",
      "[CV 5/5] END ...............n_neighbors=13, weights=distance; total time=   2.5s\n",
      "[CV 1/5] END ................n_neighbors=14, weights=uniform; total time=   2.0s\n",
      "[CV 2/5] END ................n_neighbors=14, weights=uniform; total time=   2.4s\n",
      "[CV 3/5] END ................n_neighbors=14, weights=uniform; total time=   2.2s\n",
      "[CV 4/5] END ................n_neighbors=14, weights=uniform; total time=   2.4s\n",
      "[CV 5/5] END ................n_neighbors=14, weights=uniform; total time=   2.5s\n",
      "[CV 1/5] END ...............n_neighbors=14, weights=distance; total time=   2.3s\n",
      "[CV 2/5] END ...............n_neighbors=14, weights=distance; total time=   2.4s\n",
      "[CV 3/5] END ...............n_neighbors=14, weights=distance; total time=   2.2s\n",
      "[CV 4/5] END ...............n_neighbors=14, weights=distance; total time=   2.2s\n",
      "[CV 5/5] END ...............n_neighbors=14, weights=distance; total time=   2.5s\n",
      "[CV 1/5] END ................n_neighbors=15, weights=uniform; total time=   2.0s\n",
      "[CV 2/5] END ................n_neighbors=15, weights=uniform; total time=   2.4s\n",
      "[CV 3/5] END ................n_neighbors=15, weights=uniform; total time=   2.3s\n",
      "[CV 4/5] END ................n_neighbors=15, weights=uniform; total time=   2.1s\n",
      "[CV 5/5] END ................n_neighbors=15, weights=uniform; total time=   2.6s\n",
      "[CV 1/5] END ...............n_neighbors=15, weights=distance; total time=   2.0s\n",
      "[CV 2/5] END ...............n_neighbors=15, weights=distance; total time=   2.4s\n",
      "[CV 3/5] END ...............n_neighbors=15, weights=distance; total time=   2.2s\n",
      "[CV 4/5] END ...............n_neighbors=15, weights=distance; total time=   2.1s\n",
      "[CV 5/5] END ...............n_neighbors=15, weights=distance; total time=   2.4s\n",
      "[CV 1/5] END ................n_neighbors=16, weights=uniform; total time=   2.0s\n",
      "[CV 2/5] END ................n_neighbors=16, weights=uniform; total time=   2.4s\n",
      "[CV 3/5] END ................n_neighbors=16, weights=uniform; total time=   2.3s\n",
      "[CV 4/5] END ................n_neighbors=16, weights=uniform; total time=   2.2s\n",
      "[CV 5/5] END ................n_neighbors=16, weights=uniform; total time=   2.5s\n",
      "[CV 1/5] END ...............n_neighbors=16, weights=distance; total time=   2.0s\n",
      "[CV 2/5] END ...............n_neighbors=16, weights=distance; total time=   2.3s\n",
      "[CV 3/5] END ...............n_neighbors=16, weights=distance; total time=   2.3s\n",
      "[CV 4/5] END ...............n_neighbors=16, weights=distance; total time=   2.2s\n",
      "[CV 5/5] END ...............n_neighbors=16, weights=distance; total time=   2.5s\n",
      "[CV 1/5] END ................n_neighbors=17, weights=uniform; total time=   2.4s\n",
      "[CV 2/5] END ................n_neighbors=17, weights=uniform; total time=   2.5s\n",
      "[CV 3/5] END ................n_neighbors=17, weights=uniform; total time=   2.3s\n",
      "[CV 4/5] END ................n_neighbors=17, weights=uniform; total time=   2.3s\n",
      "[CV 5/5] END ................n_neighbors=17, weights=uniform; total time=   2.6s\n",
      "[CV 1/5] END ...............n_neighbors=17, weights=distance; total time=   2.2s\n",
      "[CV 2/5] END ...............n_neighbors=17, weights=distance; total time=   2.9s\n",
      "[CV 3/5] END ...............n_neighbors=17, weights=distance; total time=   2.4s\n",
      "[CV 4/5] END ...............n_neighbors=17, weights=distance; total time=   2.2s\n",
      "[CV 5/5] END ...............n_neighbors=17, weights=distance; total time=   2.6s\n",
      "[CV 1/5] END ................n_neighbors=18, weights=uniform; total time=   2.1s\n",
      "[CV 2/5] END ................n_neighbors=18, weights=uniform; total time=   2.4s\n",
      "[CV 3/5] END ................n_neighbors=18, weights=uniform; total time=   2.3s\n",
      "[CV 4/5] END ................n_neighbors=18, weights=uniform; total time=   2.2s\n",
      "[CV 5/5] END ................n_neighbors=18, weights=uniform; total time=   2.6s\n",
      "[CV 1/5] END ...............n_neighbors=18, weights=distance; total time=   2.1s\n",
      "[CV 2/5] END ...............n_neighbors=18, weights=distance; total time=   2.5s\n",
      "[CV 3/5] END ...............n_neighbors=18, weights=distance; total time=   2.3s\n",
      "[CV 4/5] END ...............n_neighbors=18, weights=distance; total time=   2.2s\n",
      "[CV 5/5] END ...............n_neighbors=18, weights=distance; total time=   2.6s\n",
      "[CV 1/5] END ................n_neighbors=19, weights=uniform; total time=   2.1s\n",
      "[CV 2/5] END ................n_neighbors=19, weights=uniform; total time=   2.5s\n",
      "[CV 3/5] END ................n_neighbors=19, weights=uniform; total time=   2.3s\n",
      "[CV 4/5] END ................n_neighbors=19, weights=uniform; total time=   2.2s\n",
      "[CV 5/5] END ................n_neighbors=19, weights=uniform; total time=   2.8s\n",
      "[CV 1/5] END ...............n_neighbors=19, weights=distance; total time=   2.3s\n",
      "[CV 2/5] END ...............n_neighbors=19, weights=distance; total time=   2.4s\n",
      "[CV 3/5] END ...............n_neighbors=19, weights=distance; total time=   2.4s\n",
      "[CV 4/5] END ...............n_neighbors=19, weights=distance; total time=   2.2s\n",
      "[CV 5/5] END ...............n_neighbors=19, weights=distance; total time=   2.6s\n",
      "[CV 1/5] END ................n_neighbors=20, weights=uniform; total time=   2.1s\n",
      "[CV 2/5] END ................n_neighbors=20, weights=uniform; total time=   2.4s\n",
      "[CV 3/5] END ................n_neighbors=20, weights=uniform; total time=   2.4s\n",
      "[CV 4/5] END ................n_neighbors=20, weights=uniform; total time=   2.2s\n",
      "[CV 5/5] END ................n_neighbors=20, weights=uniform; total time=   2.6s\n",
      "[CV 1/5] END ...............n_neighbors=20, weights=distance; total time=   2.1s\n",
      "[CV 2/5] END ...............n_neighbors=20, weights=distance; total time=   2.5s\n",
      "[CV 3/5] END ...............n_neighbors=20, weights=distance; total time=   2.3s\n",
      "[CV 4/5] END ...............n_neighbors=20, weights=distance; total time=   2.2s\n",
      "[CV 5/5] END ...............n_neighbors=20, weights=distance; total time=   2.6s\n",
      "[CV 1/5] END ................n_neighbors=21, weights=uniform; total time=   2.1s\n",
      "[CV 2/5] END ................n_neighbors=21, weights=uniform; total time=   2.5s\n",
      "[CV 3/5] END ................n_neighbors=21, weights=uniform; total time=   2.3s\n"
     ]
    },
    {
     "name": "stdout",
     "output_type": "stream",
     "text": [
      "[CV 4/5] END ................n_neighbors=21, weights=uniform; total time=   2.3s\n",
      "[CV 5/5] END ................n_neighbors=21, weights=uniform; total time=   2.6s\n",
      "[CV 1/5] END ...............n_neighbors=21, weights=distance; total time=   2.1s\n",
      "[CV 2/5] END ...............n_neighbors=21, weights=distance; total time=   2.5s\n",
      "[CV 3/5] END ...............n_neighbors=21, weights=distance; total time=   2.5s\n",
      "[CV 4/5] END ...............n_neighbors=21, weights=distance; total time=   2.4s\n",
      "[CV 5/5] END ...............n_neighbors=21, weights=distance; total time=   2.8s\n",
      "[CV 1/5] END ................n_neighbors=22, weights=uniform; total time=   2.1s\n",
      "[CV 2/5] END ................n_neighbors=22, weights=uniform; total time=   2.5s\n",
      "[CV 3/5] END ................n_neighbors=22, weights=uniform; total time=   2.4s\n",
      "[CV 4/5] END ................n_neighbors=22, weights=uniform; total time=   2.3s\n",
      "[CV 5/5] END ................n_neighbors=22, weights=uniform; total time=   2.6s\n",
      "[CV 1/5] END ...............n_neighbors=22, weights=distance; total time=   2.2s\n",
      "[CV 2/5] END ...............n_neighbors=22, weights=distance; total time=   2.5s\n",
      "[CV 3/5] END ...............n_neighbors=22, weights=distance; total time=   2.4s\n",
      "[CV 4/5] END ...............n_neighbors=22, weights=distance; total time=   2.2s\n",
      "[CV 5/5] END ...............n_neighbors=22, weights=distance; total time=   2.7s\n",
      "[CV 1/5] END ................n_neighbors=23, weights=uniform; total time=   2.2s\n",
      "[CV 2/5] END ................n_neighbors=23, weights=uniform; total time=   2.5s\n",
      "[CV 3/5] END ................n_neighbors=23, weights=uniform; total time=   2.4s\n",
      "[CV 4/5] END ................n_neighbors=23, weights=uniform; total time=   2.4s\n",
      "[CV 5/5] END ................n_neighbors=23, weights=uniform; total time=   2.6s\n",
      "[CV 1/5] END ...............n_neighbors=23, weights=distance; total time=   2.2s\n",
      "[CV 2/5] END ...............n_neighbors=23, weights=distance; total time=   2.4s\n",
      "[CV 3/5] END ...............n_neighbors=23, weights=distance; total time=   2.5s\n",
      "[CV 4/5] END ...............n_neighbors=23, weights=distance; total time=   2.3s\n",
      "[CV 5/5] END ...............n_neighbors=23, weights=distance; total time=   2.6s\n",
      "[CV 1/5] END ................n_neighbors=24, weights=uniform; total time=   2.1s\n",
      "[CV 2/5] END ................n_neighbors=24, weights=uniform; total time=   2.6s\n",
      "[CV 3/5] END ................n_neighbors=24, weights=uniform; total time=   2.7s\n",
      "[CV 4/5] END ................n_neighbors=24, weights=uniform; total time=   2.5s\n",
      "[CV 5/5] END ................n_neighbors=24, weights=uniform; total time=   2.8s\n",
      "[CV 1/5] END ...............n_neighbors=24, weights=distance; total time=   2.2s\n",
      "[CV 2/5] END ...............n_neighbors=24, weights=distance; total time=   2.6s\n",
      "[CV 3/5] END ...............n_neighbors=24, weights=distance; total time=   2.6s\n",
      "[CV 4/5] END ...............n_neighbors=24, weights=distance; total time=   2.3s\n",
      "[CV 5/5] END ...............n_neighbors=24, weights=distance; total time=   2.7s\n",
      "[CV 1/5] END ................n_neighbors=25, weights=uniform; total time=   2.2s\n",
      "[CV 2/5] END ................n_neighbors=25, weights=uniform; total time=   2.5s\n",
      "[CV 3/5] END ................n_neighbors=25, weights=uniform; total time=   2.4s\n",
      "[CV 4/5] END ................n_neighbors=25, weights=uniform; total time=   2.3s\n",
      "[CV 5/5] END ................n_neighbors=25, weights=uniform; total time=   2.7s\n",
      "[CV 1/5] END ...............n_neighbors=25, weights=distance; total time=   2.2s\n",
      "[CV 2/5] END ...............n_neighbors=25, weights=distance; total time=   2.5s\n",
      "[CV 3/5] END ...............n_neighbors=25, weights=distance; total time=   2.4s\n",
      "[CV 4/5] END ...............n_neighbors=25, weights=distance; total time=   2.3s\n",
      "[CV 5/5] END ...............n_neighbors=25, weights=distance; total time=   2.7s\n",
      "[CV 1/5] END ................n_neighbors=26, weights=uniform; total time=   2.2s\n",
      "[CV 2/5] END ................n_neighbors=26, weights=uniform; total time=   2.5s\n",
      "[CV 3/5] END ................n_neighbors=26, weights=uniform; total time=   2.6s\n",
      "[CV 4/5] END ................n_neighbors=26, weights=uniform; total time=   2.3s\n",
      "[CV 5/5] END ................n_neighbors=26, weights=uniform; total time=   2.8s\n",
      "[CV 1/5] END ...............n_neighbors=26, weights=distance; total time=   2.2s\n",
      "[CV 2/5] END ...............n_neighbors=26, weights=distance; total time=   2.9s\n",
      "[CV 3/5] END ...............n_neighbors=26, weights=distance; total time=   2.4s\n",
      "[CV 4/5] END ...............n_neighbors=26, weights=distance; total time=   2.3s\n",
      "[CV 5/5] END ...............n_neighbors=26, weights=distance; total time=   2.7s\n",
      "[CV 1/5] END ................n_neighbors=27, weights=uniform; total time=   2.1s\n",
      "[CV 2/5] END ................n_neighbors=27, weights=uniform; total time=   2.6s\n",
      "[CV 3/5] END ................n_neighbors=27, weights=uniform; total time=   2.6s\n",
      "[CV 4/5] END ................n_neighbors=27, weights=uniform; total time=   2.4s\n",
      "[CV 5/5] END ................n_neighbors=27, weights=uniform; total time=   2.8s\n",
      "[CV 1/5] END ...............n_neighbors=27, weights=distance; total time=   2.1s\n",
      "[CV 2/5] END ...............n_neighbors=27, weights=distance; total time=   2.5s\n",
      "[CV 3/5] END ...............n_neighbors=27, weights=distance; total time=   2.4s\n",
      "[CV 4/5] END ...............n_neighbors=27, weights=distance; total time=   2.4s\n",
      "[CV 5/5] END ...............n_neighbors=27, weights=distance; total time=   2.8s\n",
      "[CV 1/5] END ................n_neighbors=28, weights=uniform; total time=   2.3s\n",
      "[CV 2/5] END ................n_neighbors=28, weights=uniform; total time=   2.6s\n",
      "[CV 3/5] END ................n_neighbors=28, weights=uniform; total time=   2.4s\n",
      "[CV 4/5] END ................n_neighbors=28, weights=uniform; total time=   2.4s\n",
      "[CV 5/5] END ................n_neighbors=28, weights=uniform; total time=   2.8s\n",
      "[CV 1/5] END ...............n_neighbors=28, weights=distance; total time=   2.3s\n",
      "[CV 2/5] END ...............n_neighbors=28, weights=distance; total time=   2.6s\n",
      "[CV 3/5] END ...............n_neighbors=28, weights=distance; total time=   2.4s\n",
      "[CV 4/5] END ...............n_neighbors=28, weights=distance; total time=   2.4s\n",
      "[CV 5/5] END ...............n_neighbors=28, weights=distance; total time=   3.1s\n",
      "[CV 1/5] END ................n_neighbors=29, weights=uniform; total time=   2.3s\n",
      "[CV 2/5] END ................n_neighbors=29, weights=uniform; total time=   2.6s\n",
      "[CV 3/5] END ................n_neighbors=29, weights=uniform; total time=   2.5s\n",
      "[CV 4/5] END ................n_neighbors=29, weights=uniform; total time=   2.4s\n",
      "[CV 5/5] END ................n_neighbors=29, weights=uniform; total time=   2.7s\n",
      "[CV 1/5] END ...............n_neighbors=29, weights=distance; total time=   2.9s\n",
      "[CV 2/5] END ...............n_neighbors=29, weights=distance; total time=   2.8s\n",
      "[CV 3/5] END ...............n_neighbors=29, weights=distance; total time=   2.5s\n",
      "[CV 4/5] END ...............n_neighbors=29, weights=distance; total time=   2.3s\n",
      "[CV 5/5] END ...............n_neighbors=29, weights=distance; total time=   2.8s\n",
      "[CV 1/5] END ................n_neighbors=30, weights=uniform; total time=   2.2s\n",
      "[CV 2/5] END ................n_neighbors=30, weights=uniform; total time=   2.7s\n",
      "[CV 3/5] END ................n_neighbors=30, weights=uniform; total time=   2.6s\n",
      "[CV 4/5] END ................n_neighbors=30, weights=uniform; total time=   2.3s\n",
      "[CV 5/5] END ................n_neighbors=30, weights=uniform; total time=   2.8s\n",
      "[CV 1/5] END ...............n_neighbors=30, weights=distance; total time=   2.2s\n",
      "[CV 2/5] END ...............n_neighbors=30, weights=distance; total time=   2.7s\n",
      "[CV 3/5] END ...............n_neighbors=30, weights=distance; total time=   2.6s\n",
      "[CV 4/5] END ...............n_neighbors=30, weights=distance; total time=   2.4s\n",
      "[CV 5/5] END ...............n_neighbors=30, weights=distance; total time=   3.0s\n",
      "[CV 1/5] END ................n_neighbors=31, weights=uniform; total time=   2.3s\n",
      "[CV 2/5] END ................n_neighbors=31, weights=uniform; total time=   2.9s\n",
      "[CV 3/5] END ................n_neighbors=31, weights=uniform; total time=   2.5s\n",
      "[CV 4/5] END ................n_neighbors=31, weights=uniform; total time=   2.5s\n",
      "[CV 5/5] END ................n_neighbors=31, weights=uniform; total time=   2.8s\n"
     ]
    },
    {
     "name": "stdout",
     "output_type": "stream",
     "text": [
      "[CV 1/5] END ...............n_neighbors=31, weights=distance; total time=   2.3s\n",
      "[CV 2/5] END ...............n_neighbors=31, weights=distance; total time=   2.6s\n",
      "[CV 3/5] END ...............n_neighbors=31, weights=distance; total time=   2.5s\n",
      "[CV 4/5] END ...............n_neighbors=31, weights=distance; total time=   2.4s\n",
      "[CV 5/5] END ...............n_neighbors=31, weights=distance; total time=   2.8s\n",
      "[CV 1/5] END ................n_neighbors=32, weights=uniform; total time=   2.2s\n",
      "[CV 2/5] END ................n_neighbors=32, weights=uniform; total time=   2.7s\n",
      "[CV 3/5] END ................n_neighbors=32, weights=uniform; total time=   2.6s\n",
      "[CV 4/5] END ................n_neighbors=32, weights=uniform; total time=   2.3s\n",
      "[CV 5/5] END ................n_neighbors=32, weights=uniform; total time=   2.9s\n",
      "[CV 1/5] END ...............n_neighbors=32, weights=distance; total time=   2.3s\n",
      "[CV 2/5] END ...............n_neighbors=32, weights=distance; total time=   2.7s\n",
      "[CV 3/5] END ...............n_neighbors=32, weights=distance; total time=   2.5s\n",
      "[CV 4/5] END ...............n_neighbors=32, weights=distance; total time=   2.5s\n",
      "[CV 5/5] END ...............n_neighbors=32, weights=distance; total time=   2.9s\n",
      "[CV 1/5] END ................n_neighbors=33, weights=uniform; total time=   2.4s\n",
      "[CV 2/5] END ................n_neighbors=33, weights=uniform; total time=   2.8s\n",
      "[CV 3/5] END ................n_neighbors=33, weights=uniform; total time=   2.5s\n",
      "[CV 4/5] END ................n_neighbors=33, weights=uniform; total time=   2.5s\n",
      "[CV 5/5] END ................n_neighbors=33, weights=uniform; total time=   3.3s\n",
      "[CV 1/5] END ...............n_neighbors=33, weights=distance; total time=   2.3s\n",
      "[CV 2/5] END ...............n_neighbors=33, weights=distance; total time=   2.6s\n",
      "[CV 3/5] END ...............n_neighbors=33, weights=distance; total time=   2.5s\n",
      "[CV 4/5] END ...............n_neighbors=33, weights=distance; total time=   2.5s\n",
      "[CV 5/5] END ...............n_neighbors=33, weights=distance; total time=   2.8s\n",
      "[CV 1/5] END ................n_neighbors=34, weights=uniform; total time=   2.3s\n",
      "[CV 2/5] END ................n_neighbors=34, weights=uniform; total time=   2.7s\n",
      "[CV 3/5] END ................n_neighbors=34, weights=uniform; total time=   2.6s\n",
      "[CV 4/5] END ................n_neighbors=34, weights=uniform; total time=   2.4s\n",
      "[CV 5/5] END ................n_neighbors=34, weights=uniform; total time=   3.0s\n",
      "[CV 1/5] END ...............n_neighbors=34, weights=distance; total time=   2.3s\n",
      "[CV 2/5] END ...............n_neighbors=34, weights=distance; total time=   2.7s\n",
      "[CV 3/5] END ...............n_neighbors=34, weights=distance; total time=   2.6s\n",
      "[CV 4/5] END ...............n_neighbors=34, weights=distance; total time=   2.5s\n",
      "[CV 5/5] END ...............n_neighbors=34, weights=distance; total time=   2.9s\n",
      "[CV 1/5] END ................n_neighbors=35, weights=uniform; total time=   2.3s\n",
      "[CV 2/5] END ................n_neighbors=35, weights=uniform; total time=   2.7s\n",
      "[CV 3/5] END ................n_neighbors=35, weights=uniform; total time=   2.5s\n",
      "[CV 4/5] END ................n_neighbors=35, weights=uniform; total time=   2.5s\n",
      "[CV 5/5] END ................n_neighbors=35, weights=uniform; total time=   3.0s\n",
      "[CV 1/5] END ...............n_neighbors=35, weights=distance; total time=   2.3s\n",
      "[CV 2/5] END ...............n_neighbors=35, weights=distance; total time=   3.1s\n",
      "[CV 3/5] END ...............n_neighbors=35, weights=distance; total time=   2.5s\n",
      "[CV 4/5] END ...............n_neighbors=35, weights=distance; total time=   3.2s\n",
      "[CV 5/5] END ...............n_neighbors=35, weights=distance; total time=   2.9s\n",
      "[CV 1/5] END ................n_neighbors=36, weights=uniform; total time=   2.5s\n",
      "[CV 2/5] END ................n_neighbors=36, weights=uniform; total time=   2.7s\n",
      "[CV 3/5] END ................n_neighbors=36, weights=uniform; total time=   2.6s\n",
      "[CV 4/5] END ................n_neighbors=36, weights=uniform; total time=   2.5s\n",
      "[CV 5/5] END ................n_neighbors=36, weights=uniform; total time=   2.9s\n",
      "[CV 1/5] END ...............n_neighbors=36, weights=distance; total time=   2.4s\n",
      "[CV 2/5] END ...............n_neighbors=36, weights=distance; total time=   2.7s\n",
      "[CV 3/5] END ...............n_neighbors=36, weights=distance; total time=   2.6s\n",
      "[CV 4/5] END ...............n_neighbors=36, weights=distance; total time=   2.5s\n",
      "[CV 5/5] END ...............n_neighbors=36, weights=distance; total time=   2.9s\n",
      "[CV 1/5] END ................n_neighbors=37, weights=uniform; total time=   2.4s\n",
      "[CV 2/5] END ................n_neighbors=37, weights=uniform; total time=   2.8s\n",
      "[CV 3/5] END ................n_neighbors=37, weights=uniform; total time=   2.6s\n",
      "[CV 4/5] END ................n_neighbors=37, weights=uniform; total time=   2.5s\n",
      "[CV 5/5] END ................n_neighbors=37, weights=uniform; total time=   3.0s\n",
      "[CV 1/5] END ...............n_neighbors=37, weights=distance; total time=   2.3s\n",
      "[CV 2/5] END ...............n_neighbors=37, weights=distance; total time=   2.8s\n",
      "[CV 3/5] END ...............n_neighbors=37, weights=distance; total time=   2.8s\n",
      "[CV 4/5] END ...............n_neighbors=37, weights=distance; total time=   2.7s\n",
      "[CV 5/5] END ...............n_neighbors=37, weights=distance; total time=   2.9s\n",
      "[CV 1/5] END ................n_neighbors=38, weights=uniform; total time=   2.3s\n",
      "[CV 2/5] END ................n_neighbors=38, weights=uniform; total time=   2.7s\n",
      "[CV 3/5] END ................n_neighbors=38, weights=uniform; total time=   2.6s\n",
      "[CV 4/5] END ................n_neighbors=38, weights=uniform; total time=   2.6s\n",
      "[CV 5/5] END ................n_neighbors=38, weights=uniform; total time=   2.9s\n",
      "[CV 1/5] END ...............n_neighbors=38, weights=distance; total time=   2.4s\n",
      "[CV 2/5] END ...............n_neighbors=38, weights=distance; total time=   2.8s\n",
      "[CV 3/5] END ...............n_neighbors=38, weights=distance; total time=   2.6s\n",
      "[CV 4/5] END ...............n_neighbors=38, weights=distance; total time=   2.6s\n",
      "[CV 5/5] END ...............n_neighbors=38, weights=distance; total time=   2.9s\n",
      "[CV 1/5] END ................n_neighbors=39, weights=uniform; total time=   2.3s\n",
      "[CV 2/5] END ................n_neighbors=39, weights=uniform; total time=   2.7s\n",
      "[CV 3/5] END ................n_neighbors=39, weights=uniform; total time=   2.6s\n",
      "[CV 4/5] END ................n_neighbors=39, weights=uniform; total time=   2.5s\n",
      "[CV 5/5] END ................n_neighbors=39, weights=uniform; total time=   3.0s\n",
      "[CV 1/5] END ...............n_neighbors=39, weights=distance; total time=   2.3s\n",
      "[CV 2/5] END ...............n_neighbors=39, weights=distance; total time=   2.8s\n",
      "[CV 3/5] END ...............n_neighbors=39, weights=distance; total time=   2.7s\n",
      "[CV 4/5] END ...............n_neighbors=39, weights=distance; total time=   2.7s\n",
      "[CV 5/5] END ...............n_neighbors=39, weights=distance; total time=   3.2s\n",
      "[CV 1/5] END ................n_neighbors=40, weights=uniform; total time=   2.4s\n",
      "[CV 2/5] END ................n_neighbors=40, weights=uniform; total time=   2.8s\n",
      "[CV 3/5] END ................n_neighbors=40, weights=uniform; total time=   2.6s\n",
      "[CV 4/5] END ................n_neighbors=40, weights=uniform; total time=   2.6s\n",
      "[CV 5/5] END ................n_neighbors=40, weights=uniform; total time=   3.0s\n",
      "[CV 1/5] END ...............n_neighbors=40, weights=distance; total time=   2.6s\n",
      "[CV 2/5] END ...............n_neighbors=40, weights=distance; total time=   2.8s\n",
      "[CV 3/5] END ...............n_neighbors=40, weights=distance; total time=   2.6s\n",
      "[CV 4/5] END ...............n_neighbors=40, weights=distance; total time=   2.5s\n",
      "[CV 5/5] END ...............n_neighbors=40, weights=distance; total time=   3.0s\n",
      "[CV 1/5] END ................n_neighbors=41, weights=uniform; total time=   2.5s\n",
      "[CV 2/5] END ................n_neighbors=41, weights=uniform; total time=   2.7s\n",
      "[CV 3/5] END ................n_neighbors=41, weights=uniform; total time=   2.7s\n",
      "[CV 4/5] END ................n_neighbors=41, weights=uniform; total time=   2.5s\n",
      "[CV 5/5] END ................n_neighbors=41, weights=uniform; total time=   3.0s\n",
      "[CV 1/5] END ...............n_neighbors=41, weights=distance; total time=   2.3s\n",
      "[CV 2/5] END ...............n_neighbors=41, weights=distance; total time=   2.9s\n"
     ]
    },
    {
     "name": "stdout",
     "output_type": "stream",
     "text": [
      "[CV 3/5] END ...............n_neighbors=41, weights=distance; total time=   2.7s\n",
      "[CV 4/5] END ...............n_neighbors=41, weights=distance; total time=   2.5s\n",
      "[CV 5/5] END ...............n_neighbors=41, weights=distance; total time=   3.0s\n",
      "[CV 1/5] END ................n_neighbors=42, weights=uniform; total time=   2.4s\n",
      "[CV 2/5] END ................n_neighbors=42, weights=uniform; total time=   3.3s\n",
      "[CV 3/5] END ................n_neighbors=42, weights=uniform; total time=   2.7s\n",
      "[CV 4/5] END ................n_neighbors=42, weights=uniform; total time=   2.5s\n",
      "[CV 5/5] END ................n_neighbors=42, weights=uniform; total time=   3.0s\n",
      "[CV 1/5] END ...............n_neighbors=42, weights=distance; total time=   2.4s\n",
      "[CV 2/5] END ...............n_neighbors=42, weights=distance; total time=   2.8s\n",
      "[CV 3/5] END ...............n_neighbors=42, weights=distance; total time=   2.7s\n",
      "[CV 4/5] END ...............n_neighbors=42, weights=distance; total time=   2.5s\n",
      "[CV 5/5] END ...............n_neighbors=42, weights=distance; total time=   2.9s\n",
      "[CV 1/5] END ................n_neighbors=43, weights=uniform; total time=   2.4s\n",
      "[CV 2/5] END ................n_neighbors=43, weights=uniform; total time=   2.9s\n",
      "[CV 3/5] END ................n_neighbors=43, weights=uniform; total time=   2.6s\n",
      "[CV 4/5] END ................n_neighbors=43, weights=uniform; total time=   2.6s\n",
      "[CV 5/5] END ................n_neighbors=43, weights=uniform; total time=   3.0s\n",
      "[CV 1/5] END ...............n_neighbors=43, weights=distance; total time=   2.4s\n",
      "[CV 2/5] END ...............n_neighbors=43, weights=distance; total time=   2.8s\n",
      "[CV 3/5] END ...............n_neighbors=43, weights=distance; total time=   2.7s\n",
      "[CV 4/5] END ...............n_neighbors=43, weights=distance; total time=   2.6s\n",
      "[CV 5/5] END ...............n_neighbors=43, weights=distance; total time=   3.0s\n",
      "[CV 1/5] END ................n_neighbors=44, weights=uniform; total time=   2.5s\n",
      "[CV 2/5] END ................n_neighbors=44, weights=uniform; total time=   3.0s\n",
      "[CV 3/5] END ................n_neighbors=44, weights=uniform; total time=   3.1s\n",
      "[CV 4/5] END ................n_neighbors=44, weights=uniform; total time=   2.5s\n",
      "[CV 5/5] END ................n_neighbors=44, weights=uniform; total time=   3.1s\n",
      "[CV 1/5] END ...............n_neighbors=44, weights=distance; total time=   2.4s\n",
      "[CV 2/5] END ...............n_neighbors=44, weights=distance; total time=   2.8s\n",
      "[CV 3/5] END ...............n_neighbors=44, weights=distance; total time=   2.7s\n",
      "[CV 4/5] END ...............n_neighbors=44, weights=distance; total time=   2.7s\n",
      "[CV 5/5] END ...............n_neighbors=44, weights=distance; total time=   3.0s\n",
      "[CV 1/5] END ................n_neighbors=45, weights=uniform; total time=   2.3s\n",
      "[CV 2/5] END ................n_neighbors=45, weights=uniform; total time=   2.8s\n",
      "[CV 3/5] END ................n_neighbors=45, weights=uniform; total time=   2.7s\n",
      "[CV 4/5] END ................n_neighbors=45, weights=uniform; total time=   2.7s\n",
      "[CV 5/5] END ................n_neighbors=45, weights=uniform; total time=   2.9s\n",
      "[CV 1/5] END ...............n_neighbors=45, weights=distance; total time=   2.4s\n",
      "[CV 2/5] END ...............n_neighbors=45, weights=distance; total time=   2.8s\n",
      "[CV 3/5] END ...............n_neighbors=45, weights=distance; total time=   2.7s\n",
      "[CV 4/5] END ...............n_neighbors=45, weights=distance; total time=   2.6s\n",
      "[CV 5/5] END ...............n_neighbors=45, weights=distance; total time=   3.0s\n",
      "[CV 1/5] END ................n_neighbors=46, weights=uniform; total time=   2.4s\n",
      "[CV 2/5] END ................n_neighbors=46, weights=uniform; total time=   2.9s\n",
      "[CV 3/5] END ................n_neighbors=46, weights=uniform; total time=   2.8s\n",
      "[CV 4/5] END ................n_neighbors=46, weights=uniform; total time=   2.8s\n",
      "[CV 5/5] END ................n_neighbors=46, weights=uniform; total time=   3.1s\n",
      "[CV 1/5] END ...............n_neighbors=46, weights=distance; total time=   2.4s\n",
      "[CV 2/5] END ...............n_neighbors=46, weights=distance; total time=   2.9s\n",
      "[CV 3/5] END ...............n_neighbors=46, weights=distance; total time=   2.9s\n",
      "[CV 4/5] END ...............n_neighbors=46, weights=distance; total time=   2.6s\n",
      "[CV 5/5] END ...............n_neighbors=46, weights=distance; total time=   3.1s\n",
      "[CV 1/5] END ................n_neighbors=47, weights=uniform; total time=   2.4s\n",
      "[CV 2/5] END ................n_neighbors=47, weights=uniform; total time=   2.8s\n",
      "[CV 3/5] END ................n_neighbors=47, weights=uniform; total time=   2.7s\n",
      "[CV 4/5] END ................n_neighbors=47, weights=uniform; total time=   2.5s\n",
      "[CV 5/5] END ................n_neighbors=47, weights=uniform; total time=   3.1s\n",
      "[CV 1/5] END ...............n_neighbors=47, weights=distance; total time=   2.4s\n",
      "[CV 2/5] END ...............n_neighbors=47, weights=distance; total time=   2.8s\n",
      "[CV 3/5] END ...............n_neighbors=47, weights=distance; total time=   2.8s\n",
      "[CV 4/5] END ...............n_neighbors=47, weights=distance; total time=   2.6s\n",
      "[CV 5/5] END ...............n_neighbors=47, weights=distance; total time=   3.1s\n",
      "[CV 1/5] END ................n_neighbors=48, weights=uniform; total time=   2.5s\n",
      "[CV 2/5] END ................n_neighbors=48, weights=uniform; total time=   4.7s\n",
      "[CV 3/5] END ................n_neighbors=48, weights=uniform; total time=   3.8s\n",
      "[CV 4/5] END ................n_neighbors=48, weights=uniform; total time=   3.9s\n",
      "[CV 5/5] END ................n_neighbors=48, weights=uniform; total time=   3.4s\n",
      "[CV 1/5] END ...............n_neighbors=48, weights=distance; total time=   2.5s\n",
      "[CV 2/5] END ...............n_neighbors=48, weights=distance; total time=   2.9s\n",
      "[CV 3/5] END ...............n_neighbors=48, weights=distance; total time=   2.7s\n",
      "[CV 4/5] END ...............n_neighbors=48, weights=distance; total time=   2.6s\n",
      "[CV 5/5] END ...............n_neighbors=48, weights=distance; total time=   3.0s\n",
      "[CV 1/5] END ................n_neighbors=49, weights=uniform; total time=   2.4s\n",
      "[CV 2/5] END ................n_neighbors=49, weights=uniform; total time=   2.9s\n",
      "[CV 3/5] END ................n_neighbors=49, weights=uniform; total time=   2.7s\n",
      "[CV 4/5] END ................n_neighbors=49, weights=uniform; total time=   2.6s\n",
      "[CV 5/5] END ................n_neighbors=49, weights=uniform; total time=   3.1s\n",
      "[CV 1/5] END ...............n_neighbors=49, weights=distance; total time=   2.4s\n",
      "[CV 2/5] END ...............n_neighbors=49, weights=distance; total time=   2.9s\n",
      "[CV 3/5] END ...............n_neighbors=49, weights=distance; total time=   2.8s\n",
      "[CV 4/5] END ...............n_neighbors=49, weights=distance; total time=   2.6s\n",
      "[CV 5/5] END ...............n_neighbors=49, weights=distance; total time=   3.1s\n"
     ]
    },
    {
     "data": {
      "text/html": [
       "<div>\n",
       "<style scoped>\n",
       "    .dataframe tbody tr th:only-of-type {\n",
       "        vertical-align: middle;\n",
       "    }\n",
       "\n",
       "    .dataframe tbody tr th {\n",
       "        vertical-align: top;\n",
       "    }\n",
       "\n",
       "    .dataframe thead th {\n",
       "        text-align: right;\n",
       "    }\n",
       "</style>\n",
       "<table border=\"1\" class=\"dataframe\">\n",
       "  <thead>\n",
       "    <tr style=\"text-align: right;\">\n",
       "      <th></th>\n",
       "      <th>param_n_neighbors</th>\n",
       "      <th>param_weights</th>\n",
       "      <th>mean_test_score</th>\n",
       "      <th>rank_test_score</th>\n",
       "    </tr>\n",
       "  </thead>\n",
       "  <tbody>\n",
       "    <tr>\n",
       "      <th>97</th>\n",
       "      <td>49</td>\n",
       "      <td>distance</td>\n",
       "      <td>0.821331</td>\n",
       "      <td>1</td>\n",
       "    </tr>\n",
       "    <tr>\n",
       "      <th>95</th>\n",
       "      <td>48</td>\n",
       "      <td>distance</td>\n",
       "      <td>0.821186</td>\n",
       "      <td>2</td>\n",
       "    </tr>\n",
       "    <tr>\n",
       "      <th>96</th>\n",
       "      <td>49</td>\n",
       "      <td>uniform</td>\n",
       "      <td>0.821150</td>\n",
       "      <td>3</td>\n",
       "    </tr>\n",
       "    <tr>\n",
       "      <th>93</th>\n",
       "      <td>47</td>\n",
       "      <td>distance</td>\n",
       "      <td>0.821063</td>\n",
       "      <td>4</td>\n",
       "    </tr>\n",
       "    <tr>\n",
       "      <th>94</th>\n",
       "      <td>48</td>\n",
       "      <td>uniform</td>\n",
       "      <td>0.821021</td>\n",
       "      <td>5</td>\n",
       "    </tr>\n",
       "    <tr>\n",
       "      <th>...</th>\n",
       "      <td>...</td>\n",
       "      <td>...</td>\n",
       "      <td>...</td>\n",
       "      <td>...</td>\n",
       "    </tr>\n",
       "    <tr>\n",
       "      <th>5</th>\n",
       "      <td>3</td>\n",
       "      <td>distance</td>\n",
       "      <td>0.760554</td>\n",
       "      <td>94</td>\n",
       "    </tr>\n",
       "    <tr>\n",
       "      <th>3</th>\n",
       "      <td>2</td>\n",
       "      <td>distance</td>\n",
       "      <td>0.745621</td>\n",
       "      <td>95</td>\n",
       "    </tr>\n",
       "    <tr>\n",
       "      <th>2</th>\n",
       "      <td>2</td>\n",
       "      <td>uniform</td>\n",
       "      <td>0.745543</td>\n",
       "      <td>96</td>\n",
       "    </tr>\n",
       "    <tr>\n",
       "      <th>1</th>\n",
       "      <td>1</td>\n",
       "      <td>distance</td>\n",
       "      <td>0.714558</td>\n",
       "      <td>97</td>\n",
       "    </tr>\n",
       "    <tr>\n",
       "      <th>0</th>\n",
       "      <td>1</td>\n",
       "      <td>uniform</td>\n",
       "      <td>0.714558</td>\n",
       "      <td>97</td>\n",
       "    </tr>\n",
       "  </tbody>\n",
       "</table>\n",
       "<p>98 rows × 4 columns</p>\n",
       "</div>"
      ],
      "text/plain": [
       "   param_n_neighbors param_weights  mean_test_score  rank_test_score\n",
       "97                49      distance         0.821331                1\n",
       "95                48      distance         0.821186                2\n",
       "96                49       uniform         0.821150                3\n",
       "93                47      distance         0.821063                4\n",
       "94                48       uniform         0.821021                5\n",
       "..               ...           ...              ...              ...\n",
       "5                  3      distance         0.760554               94\n",
       "3                  2      distance         0.745621               95\n",
       "2                  2       uniform         0.745543               96\n",
       "1                  1      distance         0.714558               97\n",
       "0                  1       uniform         0.714558               97\n",
       "\n",
       "[98 rows x 4 columns]"
      ]
     },
     "execution_count": 13,
     "metadata": {},
     "output_type": "execute_result"
    }
   ],
   "source": [
    "N = range(1,50,1)\n",
    "\n",
    "KNN = GridSearchCV(KNeighborsRegressor(), {\n",
    "    'n_neighbors': N,\n",
    "    'weights': ['uniform', 'distance']\n",
    "}, cv=5, return_train_score=False, verbose = 3)\n",
    "KNN.fit(X1scaled, y1)\n",
    "KNN_results = pd.DataFrame(KNN.cv_results_)\n",
    "KNN_results = KNN_results[['param_n_neighbors', 'param_weights', 'mean_test_score', 'rank_test_score']].sort_values(by=['rank_test_score'])\n",
    "KNN_results"
   ]
  },
  {
   "cell_type": "code",
   "execution_count": 14,
   "id": "cbe5ccb1",
   "metadata": {},
   "outputs": [
    {
     "data": {
      "image/png": "[encoded data removed]",
      "text/plain": [
       "<Figure size 432x288 with 1 Axes>"
      ]
     },
     "metadata": {
      "needs_background": "light"
     },
     "output_type": "display_data"
    }
   ],
   "source": [
    "KNNuniform = KNN_results[(KNN_results['param_weights'] == 'uniform' )].sort_values(by = ['param_n_neighbors'])\n",
    "KNNdistance = KNN_results[(KNN_results['param_weights'] == 'distance' )].sort_values(by = ['param_n_neighbors'])\n",
    "\n",
    "plt.plot(KNNuniform['param_n_neighbors'], KNNuniform['mean_test_score'], label = 'uniform')\n",
    "plt.plot(KNNdistance['param_n_neighbors'], KNNdistance['mean_test_score'], label = 'distance')\n",
    "\n",
    "plt.xlabel('Param N Neighbors')\n",
    "# Set the y axis label of the current axis.\n",
    "plt.ylabel('Mean test Score')\n",
    "# Set a title of the current axes.\n",
    "plt.title('Test scores for different parameter combinations of kNN')\n",
    "# show a legend on the plot\n",
    "plt.legend()\n",
    "# Display a figure.\n",
    "plt.show()"
   ]
  },
  {
   "cell_type": "code",
   "execution_count": 19,
   "id": "4b11b5e3",
   "metadata": {
    "scrolled": true
   },
   "outputs": [
    {
     "name": "stdout",
     "output_type": "stream",
     "text": [
      "Fitting 5 folds for each of 100 candidates, totalling 500 fits\n",
      "[CV 1/5] END ................n_neighbors=50, weights=uniform; total time=   2.5s\n",
      "[CV 2/5] END ................n_neighbors=50, weights=uniform; total time=   2.9s\n",
      "[CV 3/5] END ................n_neighbors=50, weights=uniform; total time=   2.6s\n",
      "[CV 4/5] END ................n_neighbors=50, weights=uniform; total time=   2.6s\n",
      "[CV 5/5] END ................n_neighbors=50, weights=uniform; total time=   3.2s\n",
      "[CV 1/5] END ...............n_neighbors=50, weights=distance; total time=   2.4s\n",
      "[CV 2/5] END ...............n_neighbors=50, weights=distance; total time=   2.9s\n",
      "[CV 3/5] END ...............n_neighbors=50, weights=distance; total time=   2.7s\n",
      "[CV 4/5] END ...............n_neighbors=50, weights=distance; total time=   2.6s\n",
      "[CV 5/5] END ...............n_neighbors=50, weights=distance; total time=   3.1s\n",
      "[CV 1/5] END ................n_neighbors=51, weights=uniform; total time=   2.4s\n",
      "[CV 2/5] END ................n_neighbors=51, weights=uniform; total time=   2.8s\n",
      "[CV 3/5] END ................n_neighbors=51, weights=uniform; total time=   2.7s\n",
      "[CV 4/5] END ................n_neighbors=51, weights=uniform; total time=   2.6s\n",
      "[CV 5/5] END ................n_neighbors=51, weights=uniform; total time=   3.1s\n",
      "[CV 1/5] END ...............n_neighbors=51, weights=distance; total time=   2.5s\n",
      "[CV 2/5] END ...............n_neighbors=51, weights=distance; total time=   2.9s\n",
      "[CV 3/5] END ...............n_neighbors=51, weights=distance; total time=   2.7s\n",
      "[CV 4/5] END ...............n_neighbors=51, weights=distance; total time=   2.5s\n",
      "[CV 5/5] END ...............n_neighbors=51, weights=distance; total time=   3.1s\n",
      "[CV 1/5] END ................n_neighbors=52, weights=uniform; total time=   2.8s\n",
      "[CV 2/5] END ................n_neighbors=52, weights=uniform; total time=   3.1s\n",
      "[CV 3/5] END ................n_neighbors=52, weights=uniform; total time=   2.8s\n",
      "[CV 4/5] END ................n_neighbors=52, weights=uniform; total time=   2.6s\n",
      "[CV 5/5] END ................n_neighbors=52, weights=uniform; total time=   3.2s\n",
      "[CV 1/5] END ...............n_neighbors=52, weights=distance; total time=   2.5s\n",
      "[CV 2/5] END ...............n_neighbors=52, weights=distance; total time=   2.9s\n",
      "[CV 3/5] END ...............n_neighbors=52, weights=distance; total time=   2.7s\n",
      "[CV 4/5] END ...............n_neighbors=52, weights=distance; total time=   2.6s\n",
      "[CV 5/5] END ...............n_neighbors=52, weights=distance; total time=   3.1s\n",
      "[CV 1/5] END ................n_neighbors=53, weights=uniform; total time=   2.4s\n",
      "[CV 2/5] END ................n_neighbors=53, weights=uniform; total time=   2.9s\n",
      "[CV 3/5] END ................n_neighbors=53, weights=uniform; total time=   2.8s\n",
      "[CV 4/5] END ................n_neighbors=53, weights=uniform; total time=   2.6s\n",
      "[CV 5/5] END ................n_neighbors=53, weights=uniform; total time=   3.1s\n",
      "[CV 1/5] END ...............n_neighbors=53, weights=distance; total time=   2.5s\n",
      "[CV 2/5] END ...............n_neighbors=53, weights=distance; total time=   2.9s\n",
      "[CV 3/5] END ...............n_neighbors=53, weights=distance; total time=   2.8s\n",
      "[CV 4/5] END ...............n_neighbors=53, weights=distance; total time=   2.7s\n",
      "[CV 5/5] END ...............n_neighbors=53, weights=distance; total time=   3.1s\n",
      "[CV 1/5] END ................n_neighbors=54, weights=uniform; total time=   2.5s\n",
      "[CV 2/5] END ................n_neighbors=54, weights=uniform; total time=   3.3s\n",
      "[CV 3/5] END ................n_neighbors=54, weights=uniform; total time=   2.7s\n",
      "[CV 4/5] END ................n_neighbors=54, weights=uniform; total time=   2.6s\n",
      "[CV 5/5] END ................n_neighbors=54, weights=uniform; total time=   3.1s\n",
      "[CV 1/5] END ...............n_neighbors=54, weights=distance; total time=   2.4s\n",
      "[CV 2/5] END ...............n_neighbors=54, weights=distance; total time=   3.0s\n",
      "[CV 3/5] END ...............n_neighbors=54, weights=distance; total time=   2.7s\n",
      "[CV 4/5] END ...............n_neighbors=54, weights=distance; total time=   2.6s\n",
      "[CV 5/5] END ...............n_neighbors=54, weights=distance; total time=   3.5s\n",
      "[CV 1/5] END ................n_neighbors=55, weights=uniform; total time=   2.9s\n",
      "[CV 2/5] END ................n_neighbors=55, weights=uniform; total time=   2.9s\n",
      "[CV 3/5] END ................n_neighbors=55, weights=uniform; total time=   2.8s\n",
      "[CV 4/5] END ................n_neighbors=55, weights=uniform; total time=   2.6s\n",
      "[CV 5/5] END ................n_neighbors=55, weights=uniform; total time=   3.1s\n",
      "[CV 1/5] END ...............n_neighbors=55, weights=distance; total time=   2.4s\n",
      "[CV 2/5] END ...............n_neighbors=55, weights=distance; total time=   3.0s\n",
      "[CV 3/5] END ...............n_neighbors=55, weights=distance; total time=   2.8s\n",
      "[CV 4/5] END ...............n_neighbors=55, weights=distance; total time=   2.6s\n",
      "[CV 5/5] END ...............n_neighbors=55, weights=distance; total time=   3.2s\n",
      "[CV 1/5] END ................n_neighbors=56, weights=uniform; total time=   2.4s\n",
      "[CV 2/5] END ................n_neighbors=56, weights=uniform; total time=   3.2s\n",
      "[CV 3/5] END ................n_neighbors=56, weights=uniform; total time=   2.8s\n",
      "[CV 4/5] END ................n_neighbors=56, weights=uniform; total time=   2.6s\n",
      "[CV 5/5] END ................n_neighbors=56, weights=uniform; total time=   3.1s\n",
      "[CV 1/5] END ...............n_neighbors=56, weights=distance; total time=   2.4s\n",
      "[CV 2/5] END ...............n_neighbors=56, weights=distance; total time=   3.0s\n",
      "[CV 3/5] END ...............n_neighbors=56, weights=distance; total time=   2.9s\n",
      "[CV 4/5] END ...............n_neighbors=56, weights=distance; total time=   2.7s\n",
      "[CV 5/5] END ...............n_neighbors=56, weights=distance; total time=   3.1s\n",
      "[CV 1/5] END ................n_neighbors=57, weights=uniform; total time=   2.4s\n",
      "[CV 2/5] END ................n_neighbors=57, weights=uniform; total time=   2.9s\n",
      "[CV 3/5] END ................n_neighbors=57, weights=uniform; total time=   2.8s\n",
      "[CV 4/5] END ................n_neighbors=57, weights=uniform; total time=   2.6s\n",
      "[CV 5/5] END ................n_neighbors=57, weights=uniform; total time=   3.0s\n",
      "[CV 1/5] END ...............n_neighbors=57, weights=distance; total time=   2.5s\n",
      "[CV 2/5] END ...............n_neighbors=57, weights=distance; total time=   3.0s\n",
      "[CV 3/5] END ...............n_neighbors=57, weights=distance; total time=   2.8s\n",
      "[CV 4/5] END ...............n_neighbors=57, weights=distance; total time=   2.7s\n",
      "[CV 5/5] END ...............n_neighbors=57, weights=distance; total time=   3.1s\n",
      "[CV 1/5] END ................n_neighbors=58, weights=uniform; total time=   2.5s\n",
      "[CV 2/5] END ................n_neighbors=58, weights=uniform; total time=   3.0s\n",
      "[CV 3/5] END ................n_neighbors=58, weights=uniform; total time=   3.1s\n",
      "[CV 4/5] END ................n_neighbors=58, weights=uniform; total time=   2.6s\n",
      "[CV 5/5] END ................n_neighbors=58, weights=uniform; total time=   3.1s\n",
      "[CV 1/5] END ...............n_neighbors=58, weights=distance; total time=   2.5s\n",
      "[CV 2/5] END ...............n_neighbors=58, weights=distance; total time=   2.9s\n",
      "[CV 3/5] END ...............n_neighbors=58, weights=distance; total time=   2.8s\n",
      "[CV 4/5] END ...............n_neighbors=58, weights=distance; total time=   2.7s\n",
      "[CV 5/5] END ...............n_neighbors=58, weights=distance; total time=   3.2s\n",
      "[CV 1/5] END ................n_neighbors=59, weights=uniform; total time=   2.5s\n",
      "[CV 2/5] END ................n_neighbors=59, weights=uniform; total time=   2.9s\n",
      "[CV 3/5] END ................n_neighbors=59, weights=uniform; total time=   2.8s\n",
      "[CV 4/5] END ................n_neighbors=59, weights=uniform; total time=   2.7s\n",
      "[CV 5/5] END ................n_neighbors=59, weights=uniform; total time=   3.2s\n",
      "[CV 1/5] END ...............n_neighbors=59, weights=distance; total time=   2.5s\n",
      "[CV 2/5] END ...............n_neighbors=59, weights=distance; total time=   2.9s\n",
      "[CV 3/5] END ...............n_neighbors=59, weights=distance; total time=   2.8s\n",
      "[CV 4/5] END ...............n_neighbors=59, weights=distance; total time=   2.6s\n",
      "[CV 5/5] END ...............n_neighbors=59, weights=distance; total time=   3.2s\n",
      "[CV 1/5] END ................n_neighbors=60, weights=uniform; total time=   2.5s\n"
     ]
    },
    {
     "name": "stdout",
     "output_type": "stream",
     "text": [
      "[CV 2/5] END ................n_neighbors=60, weights=uniform; total time=   3.0s\n",
      "[CV 3/5] END ................n_neighbors=60, weights=uniform; total time=   3.1s\n",
      "[CV 4/5] END ................n_neighbors=60, weights=uniform; total time=   2.7s\n",
      "[CV 5/5] END ................n_neighbors=60, weights=uniform; total time=   3.2s\n",
      "[CV 1/5] END ...............n_neighbors=60, weights=distance; total time=   2.5s\n",
      "[CV 2/5] END ...............n_neighbors=60, weights=distance; total time=   3.0s\n",
      "[CV 3/5] END ...............n_neighbors=60, weights=distance; total time=   3.0s\n",
      "[CV 4/5] END ...............n_neighbors=60, weights=distance; total time=   2.7s\n",
      "[CV 5/5] END ...............n_neighbors=60, weights=distance; total time=   3.2s\n",
      "[CV 1/5] END ................n_neighbors=61, weights=uniform; total time=   2.5s\n",
      "[CV 2/5] END ................n_neighbors=61, weights=uniform; total time=   3.0s\n",
      "[CV 3/5] END ................n_neighbors=61, weights=uniform; total time=   2.8s\n",
      "[CV 4/5] END ................n_neighbors=61, weights=uniform; total time=   2.7s\n",
      "[CV 5/5] END ................n_neighbors=61, weights=uniform; total time=   3.2s\n",
      "[CV 1/5] END ...............n_neighbors=61, weights=distance; total time=   2.5s\n",
      "[CV 2/5] END ...............n_neighbors=61, weights=distance; total time=   3.0s\n",
      "[CV 3/5] END ...............n_neighbors=61, weights=distance; total time=   2.8s\n",
      "[CV 4/5] END ...............n_neighbors=61, weights=distance; total time=   2.6s\n",
      "[CV 5/5] END ...............n_neighbors=61, weights=distance; total time=   3.2s\n",
      "[CV 1/5] END ................n_neighbors=62, weights=uniform; total time=   2.5s\n",
      "[CV 2/5] END ................n_neighbors=62, weights=uniform; total time=   3.0s\n",
      "[CV 3/5] END ................n_neighbors=62, weights=uniform; total time=   3.0s\n",
      "[CV 4/5] END ................n_neighbors=62, weights=uniform; total time=   2.9s\n",
      "[CV 5/5] END ................n_neighbors=62, weights=uniform; total time=   3.3s\n",
      "[CV 1/5] END ...............n_neighbors=62, weights=distance; total time=   2.5s\n",
      "[CV 2/5] END ...............n_neighbors=62, weights=distance; total time=   3.0s\n",
      "[CV 3/5] END ...............n_neighbors=62, weights=distance; total time=   2.8s\n",
      "[CV 4/5] END ...............n_neighbors=62, weights=distance; total time=   2.7s\n",
      "[CV 5/5] END ...............n_neighbors=62, weights=distance; total time=   3.1s\n",
      "[CV 1/5] END ................n_neighbors=63, weights=uniform; total time=   2.5s\n",
      "[CV 2/5] END ................n_neighbors=63, weights=uniform; total time=   3.1s\n",
      "[CV 3/5] END ................n_neighbors=63, weights=uniform; total time=   2.8s\n",
      "[CV 4/5] END ................n_neighbors=63, weights=uniform; total time=   2.6s\n",
      "[CV 5/5] END ................n_neighbors=63, weights=uniform; total time=   3.3s\n",
      "[CV 1/5] END ...............n_neighbors=63, weights=distance; total time=   2.5s\n",
      "[CV 2/5] END ...............n_neighbors=63, weights=distance; total time=   3.0s\n",
      "[CV 3/5] END ...............n_neighbors=63, weights=distance; total time=   3.0s\n",
      "[CV 4/5] END ...............n_neighbors=63, weights=distance; total time=   2.7s\n",
      "[CV 5/5] END ...............n_neighbors=63, weights=distance; total time=   3.2s\n",
      "[CV 1/5] END ................n_neighbors=64, weights=uniform; total time=   2.6s\n",
      "[CV 2/5] END ................n_neighbors=64, weights=uniform; total time=   3.0s\n",
      "[CV 3/5] END ................n_neighbors=64, weights=uniform; total time=   3.0s\n",
      "[CV 4/5] END ................n_neighbors=64, weights=uniform; total time=   3.0s\n",
      "[CV 5/5] END ................n_neighbors=64, weights=uniform; total time=   3.4s\n",
      "[CV 1/5] END ...............n_neighbors=64, weights=distance; total time=   2.5s\n",
      "[CV 2/5] END ...............n_neighbors=64, weights=distance; total time=   3.1s\n",
      "[CV 3/5] END ...............n_neighbors=64, weights=distance; total time=   2.8s\n",
      "[CV 4/5] END ...............n_neighbors=64, weights=distance; total time=   2.7s\n",
      "[CV 5/5] END ...............n_neighbors=64, weights=distance; total time=   3.2s\n",
      "[CV 1/5] END ................n_neighbors=65, weights=uniform; total time=   2.7s\n",
      "[CV 2/5] END ................n_neighbors=65, weights=uniform; total time=   3.3s\n",
      "[CV 3/5] END ................n_neighbors=65, weights=uniform; total time=   2.8s\n",
      "[CV 4/5] END ................n_neighbors=65, weights=uniform; total time=   2.7s\n",
      "[CV 5/5] END ................n_neighbors=65, weights=uniform; total time=   3.2s\n",
      "[CV 1/5] END ...............n_neighbors=65, weights=distance; total time=   2.6s\n",
      "[CV 2/5] END ...............n_neighbors=65, weights=distance; total time=   3.0s\n",
      "[CV 3/5] END ...............n_neighbors=65, weights=distance; total time=   2.8s\n",
      "[CV 4/5] END ...............n_neighbors=65, weights=distance; total time=   2.7s\n",
      "[CV 5/5] END ...............n_neighbors=65, weights=distance; total time=   3.4s\n",
      "[CV 1/5] END ................n_neighbors=66, weights=uniform; total time=   3.0s\n",
      "[CV 2/5] END ................n_neighbors=66, weights=uniform; total time=   3.2s\n",
      "[CV 3/5] END ................n_neighbors=66, weights=uniform; total time=   3.1s\n",
      "[CV 4/5] END ................n_neighbors=66, weights=uniform; total time=   2.8s\n",
      "[CV 5/5] END ................n_neighbors=66, weights=uniform; total time=   3.4s\n",
      "[CV 1/5] END ...............n_neighbors=66, weights=distance; total time=   2.6s\n",
      "[CV 2/5] END ...............n_neighbors=66, weights=distance; total time=   3.0s\n",
      "[CV 3/5] END ...............n_neighbors=66, weights=distance; total time=   2.9s\n",
      "[CV 4/5] END ...............n_neighbors=66, weights=distance; total time=   2.7s\n",
      "[CV 5/5] END ...............n_neighbors=66, weights=distance; total time=   3.2s\n",
      "[CV 1/5] END ................n_neighbors=67, weights=uniform; total time=   2.6s\n",
      "[CV 2/5] END ................n_neighbors=67, weights=uniform; total time=   3.0s\n",
      "[CV 3/5] END ................n_neighbors=67, weights=uniform; total time=   2.8s\n",
      "[CV 4/5] END ................n_neighbors=67, weights=uniform; total time=   2.8s\n",
      "[CV 5/5] END ................n_neighbors=67, weights=uniform; total time=   3.3s\n",
      "[CV 1/5] END ...............n_neighbors=67, weights=distance; total time=   2.6s\n",
      "[CV 2/5] END ...............n_neighbors=67, weights=distance; total time=   3.2s\n",
      "[CV 3/5] END ...............n_neighbors=67, weights=distance; total time=   2.9s\n",
      "[CV 4/5] END ...............n_neighbors=67, weights=distance; total time=   2.7s\n",
      "[CV 5/5] END ...............n_neighbors=67, weights=distance; total time=   3.4s\n",
      "[CV 1/5] END ................n_neighbors=68, weights=uniform; total time=   2.5s\n",
      "[CV 2/5] END ................n_neighbors=68, weights=uniform; total time=   3.1s\n",
      "[CV 3/5] END ................n_neighbors=68, weights=uniform; total time=   3.4s\n",
      "[CV 4/5] END ................n_neighbors=68, weights=uniform; total time=   2.8s\n",
      "[CV 5/5] END ................n_neighbors=68, weights=uniform; total time=   3.3s\n",
      "[CV 1/5] END ...............n_neighbors=68, weights=distance; total time=   2.6s\n",
      "[CV 2/5] END ...............n_neighbors=68, weights=distance; total time=   3.1s\n",
      "[CV 3/5] END ...............n_neighbors=68, weights=distance; total time=   2.9s\n",
      "[CV 4/5] END ...............n_neighbors=68, weights=distance; total time=   2.8s\n",
      "[CV 5/5] END ...............n_neighbors=68, weights=distance; total time=   3.2s\n",
      "[CV 1/5] END ................n_neighbors=69, weights=uniform; total time=   2.6s\n",
      "[CV 2/5] END ................n_neighbors=69, weights=uniform; total time=   3.1s\n",
      "[CV 3/5] END ................n_neighbors=69, weights=uniform; total time=   3.0s\n",
      "[CV 4/5] END ................n_neighbors=69, weights=uniform; total time=   2.8s\n",
      "[CV 5/5] END ................n_neighbors=69, weights=uniform; total time=   3.4s\n",
      "[CV 1/5] END ...............n_neighbors=69, weights=distance; total time=   2.5s\n",
      "[CV 2/5] END ...............n_neighbors=69, weights=distance; total time=   3.1s\n",
      "[CV 3/5] END ...............n_neighbors=69, weights=distance; total time=   2.9s\n",
      "[CV 4/5] END ...............n_neighbors=69, weights=distance; total time=   2.7s\n",
      "[CV 5/5] END ...............n_neighbors=69, weights=distance; total time=   3.2s\n",
      "[CV 1/5] END ................n_neighbors=70, weights=uniform; total time=   2.6s\n",
      "[CV 2/5] END ................n_neighbors=70, weights=uniform; total time=   3.3s\n",
      "[CV 3/5] END ................n_neighbors=70, weights=uniform; total time=   3.0s\n"
     ]
    },
    {
     "name": "stdout",
     "output_type": "stream",
     "text": [
      "[CV 4/5] END ................n_neighbors=70, weights=uniform; total time=   2.8s\n",
      "[CV 5/5] END ................n_neighbors=70, weights=uniform; total time=   3.2s\n",
      "[CV 1/5] END ...............n_neighbors=70, weights=distance; total time=   2.6s\n",
      "[CV 2/5] END ...............n_neighbors=70, weights=distance; total time=   3.3s\n",
      "[CV 3/5] END ...............n_neighbors=70, weights=distance; total time=   2.9s\n",
      "[CV 4/5] END ...............n_neighbors=70, weights=distance; total time=   2.7s\n",
      "[CV 5/5] END ...............n_neighbors=70, weights=distance; total time=   3.3s\n",
      "[CV 1/5] END ................n_neighbors=71, weights=uniform; total time=   2.6s\n",
      "[CV 2/5] END ................n_neighbors=71, weights=uniform; total time=   3.1s\n",
      "[CV 3/5] END ................n_neighbors=71, weights=uniform; total time=   2.9s\n",
      "[CV 4/5] END ................n_neighbors=71, weights=uniform; total time=   2.7s\n",
      "[CV 5/5] END ................n_neighbors=71, weights=uniform; total time=   3.2s\n",
      "[CV 1/5] END ...............n_neighbors=71, weights=distance; total time=   2.6s\n",
      "[CV 2/5] END ...............n_neighbors=71, weights=distance; total time=   3.1s\n",
      "[CV 3/5] END ...............n_neighbors=71, weights=distance; total time=   2.9s\n",
      "[CV 4/5] END ...............n_neighbors=71, weights=distance; total time=   2.8s\n",
      "[CV 5/5] END ...............n_neighbors=71, weights=distance; total time=   3.3s\n",
      "[CV 1/5] END ................n_neighbors=72, weights=uniform; total time=   2.6s\n",
      "[CV 2/5] END ................n_neighbors=72, weights=uniform; total time=   3.4s\n",
      "[CV 3/5] END ................n_neighbors=72, weights=uniform; total time=   3.1s\n",
      "[CV 4/5] END ................n_neighbors=72, weights=uniform; total time=   2.8s\n",
      "[CV 5/5] END ................n_neighbors=72, weights=uniform; total time=   3.3s\n",
      "[CV 1/5] END ...............n_neighbors=72, weights=distance; total time=   2.6s\n",
      "[CV 2/5] END ...............n_neighbors=72, weights=distance; total time=   3.8s\n",
      "[CV 3/5] END ...............n_neighbors=72, weights=distance; total time=   3.4s\n",
      "[CV 4/5] END ...............n_neighbors=72, weights=distance; total time=   2.8s\n",
      "[CV 5/5] END ...............n_neighbors=72, weights=distance; total time=   3.3s\n",
      "[CV 1/5] END ................n_neighbors=73, weights=uniform; total time=   2.6s\n",
      "[CV 2/5] END ................n_neighbors=73, weights=uniform; total time=   3.3s\n",
      "[CV 3/5] END ................n_neighbors=73, weights=uniform; total time=   2.9s\n",
      "[CV 4/5] END ................n_neighbors=73, weights=uniform; total time=   2.8s\n",
      "[CV 5/5] END ................n_neighbors=73, weights=uniform; total time=   4.7s\n",
      "[CV 1/5] END ...............n_neighbors=73, weights=distance; total time=   2.8s\n",
      "[CV 2/5] END ...............n_neighbors=73, weights=distance; total time=   3.1s\n",
      "[CV 3/5] END ...............n_neighbors=73, weights=distance; total time=   3.0s\n",
      "[CV 4/5] END ...............n_neighbors=73, weights=distance; total time=   2.7s\n",
      "[CV 5/5] END ...............n_neighbors=73, weights=distance; total time=   3.5s\n",
      "[CV 1/5] END ................n_neighbors=74, weights=uniform; total time=   2.9s\n",
      "[CV 2/5] END ................n_neighbors=74, weights=uniform; total time=   3.2s\n",
      "[CV 3/5] END ................n_neighbors=74, weights=uniform; total time=   2.9s\n",
      "[CV 4/5] END ................n_neighbors=74, weights=uniform; total time=   2.9s\n",
      "[CV 5/5] END ................n_neighbors=74, weights=uniform; total time=   3.4s\n",
      "[CV 1/5] END ...............n_neighbors=74, weights=distance; total time=   3.0s\n",
      "[CV 2/5] END ...............n_neighbors=74, weights=distance; total time=   3.2s\n",
      "[CV 3/5] END ...............n_neighbors=74, weights=distance; total time=   3.1s\n",
      "[CV 4/5] END ...............n_neighbors=74, weights=distance; total time=   2.8s\n",
      "[CV 5/5] END ...............n_neighbors=74, weights=distance; total time=   3.3s\n",
      "[CV 1/5] END ................n_neighbors=75, weights=uniform; total time=   2.7s\n",
      "[CV 2/5] END ................n_neighbors=75, weights=uniform; total time=   3.2s\n",
      "[CV 3/5] END ................n_neighbors=75, weights=uniform; total time=   2.9s\n",
      "[CV 4/5] END ................n_neighbors=75, weights=uniform; total time=   2.9s\n",
      "[CV 5/5] END ................n_neighbors=75, weights=uniform; total time=   3.3s\n",
      "[CV 1/5] END ...............n_neighbors=75, weights=distance; total time=   2.6s\n",
      "[CV 2/5] END ...............n_neighbors=75, weights=distance; total time=   3.2s\n",
      "[CV 3/5] END ...............n_neighbors=75, weights=distance; total time=   3.0s\n",
      "[CV 4/5] END ...............n_neighbors=75, weights=distance; total time=   2.8s\n",
      "[CV 5/5] END ...............n_neighbors=75, weights=distance; total time=   3.8s\n",
      "[CV 1/5] END ................n_neighbors=76, weights=uniform; total time=   2.6s\n",
      "[CV 2/5] END ................n_neighbors=76, weights=uniform; total time=   3.2s\n",
      "[CV 3/5] END ................n_neighbors=76, weights=uniform; total time=   3.0s\n",
      "[CV 4/5] END ................n_neighbors=76, weights=uniform; total time=   2.9s\n",
      "[CV 5/5] END ................n_neighbors=76, weights=uniform; total time=   3.4s\n",
      "[CV 1/5] END ...............n_neighbors=76, weights=distance; total time=   2.6s\n",
      "[CV 2/5] END ...............n_neighbors=76, weights=distance; total time=   3.2s\n",
      "[CV 3/5] END ...............n_neighbors=76, weights=distance; total time=   3.0s\n",
      "[CV 4/5] END ...............n_neighbors=76, weights=distance; total time=   2.8s\n",
      "[CV 5/5] END ...............n_neighbors=76, weights=distance; total time=   3.4s\n",
      "[CV 1/5] END ................n_neighbors=77, weights=uniform; total time=   2.7s\n",
      "[CV 2/5] END ................n_neighbors=77, weights=uniform; total time=   3.2s\n",
      "[CV 3/5] END ................n_neighbors=77, weights=uniform; total time=   2.9s\n",
      "[CV 4/5] END ................n_neighbors=77, weights=uniform; total time=   2.8s\n",
      "[CV 5/5] END ................n_neighbors=77, weights=uniform; total time=   3.3s\n",
      "[CV 1/5] END ...............n_neighbors=77, weights=distance; total time=   2.6s\n",
      "[CV 2/5] END ...............n_neighbors=77, weights=distance; total time=   3.2s\n",
      "[CV 3/5] END ...............n_neighbors=77, weights=distance; total time=   3.0s\n",
      "[CV 4/5] END ...............n_neighbors=77, weights=distance; total time=   3.2s\n",
      "[CV 5/5] END ...............n_neighbors=77, weights=distance; total time=   3.4s\n",
      "[CV 1/5] END ................n_neighbors=78, weights=uniform; total time=   2.7s\n",
      "[CV 2/5] END ................n_neighbors=78, weights=uniform; total time=   3.2s\n",
      "[CV 3/5] END ................n_neighbors=78, weights=uniform; total time=   3.0s\n",
      "[CV 4/5] END ................n_neighbors=78, weights=uniform; total time=   2.8s\n",
      "[CV 5/5] END ................n_neighbors=78, weights=uniform; total time=   3.4s\n",
      "[CV 1/5] END ...............n_neighbors=78, weights=distance; total time=   2.6s\n",
      "[CV 2/5] END ...............n_neighbors=78, weights=distance; total time=   3.2s\n",
      "[CV 3/5] END ...............n_neighbors=78, weights=distance; total time=   2.9s\n",
      "[CV 4/5] END ...............n_neighbors=78, weights=distance; total time=   2.8s\n",
      "[CV 5/5] END ...............n_neighbors=78, weights=distance; total time=   3.4s\n",
      "[CV 1/5] END ................n_neighbors=79, weights=uniform; total time=   2.8s\n",
      "[CV 2/5] END ................n_neighbors=79, weights=uniform; total time=   3.2s\n",
      "[CV 3/5] END ................n_neighbors=79, weights=uniform; total time=   3.0s\n",
      "[CV 4/5] END ................n_neighbors=79, weights=uniform; total time=   2.9s\n",
      "[CV 5/5] END ................n_neighbors=79, weights=uniform; total time=   3.4s\n",
      "[CV 1/5] END ...............n_neighbors=79, weights=distance; total time=   2.7s\n",
      "[CV 2/5] END ...............n_neighbors=79, weights=distance; total time=   3.1s\n",
      "[CV 3/5] END ...............n_neighbors=79, weights=distance; total time=   3.2s\n",
      "[CV 4/5] END ...............n_neighbors=79, weights=distance; total time=   2.9s\n",
      "[CV 5/5] END ...............n_neighbors=79, weights=distance; total time=   3.4s\n",
      "[CV 1/5] END ................n_neighbors=80, weights=uniform; total time=   2.6s\n",
      "[CV 2/5] END ................n_neighbors=80, weights=uniform; total time=   3.1s\n",
      "[CV 3/5] END ................n_neighbors=80, weights=uniform; total time=   3.4s\n",
      "[CV 4/5] END ................n_neighbors=80, weights=uniform; total time=   2.9s\n",
      "[CV 5/5] END ................n_neighbors=80, weights=uniform; total time=   3.4s\n"
     ]
    },
    {
     "name": "stdout",
     "output_type": "stream",
     "text": [
      "[CV 1/5] END ...............n_neighbors=80, weights=distance; total time=   3.5s\n",
      "[CV 2/5] END ...............n_neighbors=80, weights=distance; total time=   4.0s\n",
      "[CV 3/5] END ...............n_neighbors=80, weights=distance; total time=   4.0s\n",
      "[CV 4/5] END ...............n_neighbors=80, weights=distance; total time=   3.8s\n",
      "[CV 5/5] END ...............n_neighbors=80, weights=distance; total time=   4.4s\n",
      "[CV 1/5] END ................n_neighbors=81, weights=uniform; total time=   4.0s\n",
      "[CV 2/5] END ................n_neighbors=81, weights=uniform; total time=   4.3s\n",
      "[CV 3/5] END ................n_neighbors=81, weights=uniform; total time=   4.1s\n",
      "[CV 4/5] END ................n_neighbors=81, weights=uniform; total time=   3.9s\n",
      "[CV 5/5] END ................n_neighbors=81, weights=uniform; total time=   4.2s\n",
      "[CV 1/5] END ...............n_neighbors=81, weights=distance; total time=   3.5s\n",
      "[CV 2/5] END ...............n_neighbors=81, weights=distance; total time=   4.0s\n",
      "[CV 3/5] END ...............n_neighbors=81, weights=distance; total time=   3.9s\n",
      "[CV 4/5] END ...............n_neighbors=81, weights=distance; total time=   3.2s\n",
      "[CV 5/5] END ...............n_neighbors=81, weights=distance; total time=   3.8s\n",
      "[CV 1/5] END ................n_neighbors=82, weights=uniform; total time=   2.7s\n",
      "[CV 2/5] END ................n_neighbors=82, weights=uniform; total time=   3.2s\n",
      "[CV 3/5] END ................n_neighbors=82, weights=uniform; total time=   2.9s\n",
      "[CV 4/5] END ................n_neighbors=82, weights=uniform; total time=   2.9s\n",
      "[CV 5/5] END ................n_neighbors=82, weights=uniform; total time=   3.4s\n",
      "[CV 1/5] END ...............n_neighbors=82, weights=distance; total time=   2.7s\n",
      "[CV 2/5] END ...............n_neighbors=82, weights=distance; total time=   3.4s\n",
      "[CV 3/5] END ...............n_neighbors=82, weights=distance; total time=   3.1s\n",
      "[CV 4/5] END ...............n_neighbors=82, weights=distance; total time=   2.8s\n",
      "[CV 5/5] END ...............n_neighbors=82, weights=distance; total time=   3.4s\n",
      "[CV 1/5] END ................n_neighbors=83, weights=uniform; total time=   2.7s\n",
      "[CV 2/5] END ................n_neighbors=83, weights=uniform; total time=   3.4s\n",
      "[CV 3/5] END ................n_neighbors=83, weights=uniform; total time=   3.2s\n",
      "[CV 4/5] END ................n_neighbors=83, weights=uniform; total time=   2.9s\n",
      "[CV 5/5] END ................n_neighbors=83, weights=uniform; total time=   3.4s\n",
      "[CV 1/5] END ...............n_neighbors=83, weights=distance; total time=   2.7s\n",
      "[CV 2/5] END ...............n_neighbors=83, weights=distance; total time=   3.2s\n",
      "[CV 3/5] END ...............n_neighbors=83, weights=distance; total time=   3.0s\n",
      "[CV 4/5] END ...............n_neighbors=83, weights=distance; total time=   2.9s\n",
      "[CV 5/5] END ...............n_neighbors=83, weights=distance; total time=   3.8s\n",
      "[CV 1/5] END ................n_neighbors=84, weights=uniform; total time=   2.7s\n",
      "[CV 2/5] END ................n_neighbors=84, weights=uniform; total time=   3.5s\n",
      "[CV 3/5] END ................n_neighbors=84, weights=uniform; total time=   3.1s\n",
      "[CV 4/5] END ................n_neighbors=84, weights=uniform; total time=   2.9s\n",
      "[CV 5/5] END ................n_neighbors=84, weights=uniform; total time=   3.4s\n",
      "[CV 1/5] END ...............n_neighbors=84, weights=distance; total time=   2.8s\n",
      "[CV 2/5] END ...............n_neighbors=84, weights=distance; total time=   3.2s\n",
      "[CV 3/5] END ...............n_neighbors=84, weights=distance; total time=   3.0s\n",
      "[CV 4/5] END ...............n_neighbors=84, weights=distance; total time=   2.9s\n",
      "[CV 5/5] END ...............n_neighbors=84, weights=distance; total time=   3.6s\n",
      "[CV 1/5] END ................n_neighbors=85, weights=uniform; total time=   2.9s\n",
      "[CV 2/5] END ................n_neighbors=85, weights=uniform; total time=   3.2s\n",
      "[CV 3/5] END ................n_neighbors=85, weights=uniform; total time=   3.0s\n",
      "[CV 4/5] END ................n_neighbors=85, weights=uniform; total time=   2.9s\n",
      "[CV 5/5] END ................n_neighbors=85, weights=uniform; total time=   3.5s\n",
      "[CV 1/5] END ...............n_neighbors=85, weights=distance; total time=   2.8s\n",
      "[CV 2/5] END ...............n_neighbors=85, weights=distance; total time=   3.2s\n",
      "[CV 3/5] END ...............n_neighbors=85, weights=distance; total time=   3.1s\n",
      "[CV 4/5] END ...............n_neighbors=85, weights=distance; total time=   2.9s\n",
      "[CV 5/5] END ...............n_neighbors=85, weights=distance; total time=   3.4s\n",
      "[CV 1/5] END ................n_neighbors=86, weights=uniform; total time=   2.7s\n",
      "[CV 2/5] END ................n_neighbors=86, weights=uniform; total time=   3.3s\n",
      "[CV 3/5] END ................n_neighbors=86, weights=uniform; total time=   3.0s\n",
      "[CV 4/5] END ................n_neighbors=86, weights=uniform; total time=   2.9s\n",
      "[CV 5/5] END ................n_neighbors=86, weights=uniform; total time=   3.6s\n",
      "[CV 1/5] END ...............n_neighbors=86, weights=distance; total time=   2.8s\n",
      "[CV 2/5] END ...............n_neighbors=86, weights=distance; total time=   3.3s\n",
      "[CV 3/5] END ...............n_neighbors=86, weights=distance; total time=   3.0s\n",
      "[CV 4/5] END ...............n_neighbors=86, weights=distance; total time=   3.1s\n",
      "[CV 5/5] END ...............n_neighbors=86, weights=distance; total time=   3.7s\n",
      "[CV 1/5] END ................n_neighbors=87, weights=uniform; total time=   2.8s\n",
      "[CV 2/5] END ................n_neighbors=87, weights=uniform; total time=   3.2s\n",
      "[CV 3/5] END ................n_neighbors=87, weights=uniform; total time=   3.1s\n",
      "[CV 4/5] END ................n_neighbors=87, weights=uniform; total time=   3.0s\n",
      "[CV 5/5] END ................n_neighbors=87, weights=uniform; total time=   3.5s\n",
      "[CV 1/5] END ...............n_neighbors=87, weights=distance; total time=   2.8s\n",
      "[CV 2/5] END ...............n_neighbors=87, weights=distance; total time=   3.3s\n",
      "[CV 3/5] END ...............n_neighbors=87, weights=distance; total time=   3.0s\n",
      "[CV 4/5] END ...............n_neighbors=87, weights=distance; total time=   2.9s\n",
      "[CV 5/5] END ...............n_neighbors=87, weights=distance; total time=   3.5s\n",
      "[CV 1/5] END ................n_neighbors=88, weights=uniform; total time=   2.9s\n",
      "[CV 2/5] END ................n_neighbors=88, weights=uniform; total time=   3.6s\n",
      "[CV 3/5] END ................n_neighbors=88, weights=uniform; total time=   3.1s\n",
      "[CV 4/5] END ................n_neighbors=88, weights=uniform; total time=   3.1s\n",
      "[CV 5/5] END ................n_neighbors=88, weights=uniform; total time=   3.5s\n",
      "[CV 1/5] END ...............n_neighbors=88, weights=distance; total time=   2.7s\n",
      "[CV 2/5] END ...............n_neighbors=88, weights=distance; total time=   3.4s\n",
      "[CV 3/5] END ...............n_neighbors=88, weights=distance; total time=   3.6s\n",
      "[CV 4/5] END ...............n_neighbors=88, weights=distance; total time=   3.0s\n",
      "[CV 5/5] END ...............n_neighbors=88, weights=distance; total time=   3.5s\n",
      "[CV 1/5] END ................n_neighbors=89, weights=uniform; total time=   2.9s\n",
      "[CV 2/5] END ................n_neighbors=89, weights=uniform; total time=   3.6s\n",
      "[CV 3/5] END ................n_neighbors=89, weights=uniform; total time=   3.1s\n",
      "[CV 4/5] END ................n_neighbors=89, weights=uniform; total time=   2.9s\n",
      "[CV 5/5] END ................n_neighbors=89, weights=uniform; total time=   3.4s\n",
      "[CV 1/5] END ...............n_neighbors=89, weights=distance; total time=   2.8s\n",
      "[CV 2/5] END ...............n_neighbors=89, weights=distance; total time=   3.2s\n",
      "[CV 3/5] END ...............n_neighbors=89, weights=distance; total time=   3.1s\n",
      "[CV 4/5] END ...............n_neighbors=89, weights=distance; total time=   2.9s\n",
      "[CV 5/5] END ...............n_neighbors=89, weights=distance; total time=   4.0s\n",
      "[CV 1/5] END ................n_neighbors=90, weights=uniform; total time=   2.8s\n",
      "[CV 2/5] END ................n_neighbors=90, weights=uniform; total time=   3.3s\n",
      "[CV 3/5] END ................n_neighbors=90, weights=uniform; total time=   3.2s\n",
      "[CV 4/5] END ................n_neighbors=90, weights=uniform; total time=   3.1s\n",
      "[CV 5/5] END ................n_neighbors=90, weights=uniform; total time=   3.5s\n",
      "[CV 1/5] END ...............n_neighbors=90, weights=distance; total time=   3.2s\n",
      "[CV 2/5] END ...............n_neighbors=90, weights=distance; total time=   3.4s\n"
     ]
    },
    {
     "name": "stdout",
     "output_type": "stream",
     "text": [
      "[CV 3/5] END ...............n_neighbors=90, weights=distance; total time=   3.3s\n",
      "[CV 4/5] END ...............n_neighbors=90, weights=distance; total time=   2.9s\n",
      "[CV 5/5] END ...............n_neighbors=90, weights=distance; total time=   3.5s\n",
      "[CV 1/5] END ................n_neighbors=91, weights=uniform; total time=   3.0s\n",
      "[CV 2/5] END ................n_neighbors=91, weights=uniform; total time=   3.3s\n",
      "[CV 3/5] END ................n_neighbors=91, weights=uniform; total time=   3.1s\n",
      "[CV 4/5] END ................n_neighbors=91, weights=uniform; total time=   3.0s\n",
      "[CV 5/5] END ................n_neighbors=91, weights=uniform; total time=   3.5s\n",
      "[CV 1/5] END ...............n_neighbors=91, weights=distance; total time=   2.8s\n",
      "[CV 2/5] END ...............n_neighbors=91, weights=distance; total time=   3.3s\n",
      "[CV 3/5] END ...............n_neighbors=91, weights=distance; total time=   3.0s\n",
      "[CV 4/5] END ...............n_neighbors=91, weights=distance; total time=   2.9s\n",
      "[CV 5/5] END ...............n_neighbors=91, weights=distance; total time=   3.5s\n",
      "[CV 1/5] END ................n_neighbors=92, weights=uniform; total time=   2.8s\n",
      "[CV 2/5] END ................n_neighbors=92, weights=uniform; total time=   3.4s\n",
      "[CV 3/5] END ................n_neighbors=92, weights=uniform; total time=   3.1s\n",
      "[CV 4/5] END ................n_neighbors=92, weights=uniform; total time=   3.2s\n",
      "[CV 5/5] END ................n_neighbors=92, weights=uniform; total time=   3.6s\n",
      "[CV 1/5] END ...............n_neighbors=92, weights=distance; total time=   2.9s\n",
      "[CV 2/5] END ...............n_neighbors=92, weights=distance; total time=   3.3s\n",
      "[CV 3/5] END ...............n_neighbors=92, weights=distance; total time=   3.1s\n",
      "[CV 4/5] END ...............n_neighbors=92, weights=distance; total time=   3.0s\n",
      "[CV 5/5] END ...............n_neighbors=92, weights=distance; total time=   3.5s\n",
      "[CV 1/5] END ................n_neighbors=93, weights=uniform; total time=   2.8s\n",
      "[CV 2/5] END ................n_neighbors=93, weights=uniform; total time=   3.8s\n",
      "[CV 3/5] END ................n_neighbors=93, weights=uniform; total time=   3.5s\n",
      "[CV 4/5] END ................n_neighbors=93, weights=uniform; total time=   3.1s\n",
      "[CV 5/5] END ................n_neighbors=93, weights=uniform; total time=   3.5s\n",
      "[CV 1/5] END ...............n_neighbors=93, weights=distance; total time=   2.8s\n",
      "[CV 2/5] END ...............n_neighbors=93, weights=distance; total time=   3.3s\n",
      "[CV 3/5] END ...............n_neighbors=93, weights=distance; total time=   3.2s\n",
      "[CV 4/5] END ...............n_neighbors=93, weights=distance; total time=   3.0s\n",
      "[CV 5/5] END ...............n_neighbors=93, weights=distance; total time=   4.3s\n",
      "[CV 1/5] END ................n_neighbors=94, weights=uniform; total time=   3.4s\n",
      "[CV 2/5] END ................n_neighbors=94, weights=uniform; total time=   3.9s\n",
      "[CV 3/5] END ................n_neighbors=94, weights=uniform; total time=   3.1s\n",
      "[CV 4/5] END ................n_neighbors=94, weights=uniform; total time=   2.9s\n",
      "[CV 5/5] END ................n_neighbors=94, weights=uniform; total time=   3.5s\n",
      "[CV 1/5] END ...............n_neighbors=94, weights=distance; total time=   2.9s\n",
      "[CV 2/5] END ...............n_neighbors=94, weights=distance; total time=   3.5s\n",
      "[CV 3/5] END ...............n_neighbors=94, weights=distance; total time=   3.2s\n",
      "[CV 4/5] END ...............n_neighbors=94, weights=distance; total time=   2.9s\n",
      "[CV 5/5] END ...............n_neighbors=94, weights=distance; total time=   3.6s\n",
      "[CV 1/5] END ................n_neighbors=95, weights=uniform; total time=   2.8s\n",
      "[CV 2/5] END ................n_neighbors=95, weights=uniform; total time=   3.3s\n",
      "[CV 3/5] END ................n_neighbors=95, weights=uniform; total time=   3.1s\n",
      "[CV 4/5] END ................n_neighbors=95, weights=uniform; total time=   2.9s\n",
      "[CV 5/5] END ................n_neighbors=95, weights=uniform; total time=   3.6s\n",
      "[CV 1/5] END ...............n_neighbors=95, weights=distance; total time=   2.8s\n",
      "[CV 2/5] END ...............n_neighbors=95, weights=distance; total time=   3.3s\n",
      "[CV 3/5] END ...............n_neighbors=95, weights=distance; total time=   3.1s\n",
      "[CV 4/5] END ...............n_neighbors=95, weights=distance; total time=   3.0s\n",
      "[CV 5/5] END ...............n_neighbors=95, weights=distance; total time=   3.8s\n",
      "[CV 1/5] END ................n_neighbors=96, weights=uniform; total time=   3.0s\n",
      "[CV 2/5] END ................n_neighbors=96, weights=uniform; total time=   3.4s\n",
      "[CV 3/5] END ................n_neighbors=96, weights=uniform; total time=   3.1s\n",
      "[CV 4/5] END ................n_neighbors=96, weights=uniform; total time=   2.9s\n",
      "[CV 5/5] END ................n_neighbors=96, weights=uniform; total time=   3.5s\n",
      "[CV 1/5] END ...............n_neighbors=96, weights=distance; total time=   2.8s\n",
      "[CV 2/5] END ...............n_neighbors=96, weights=distance; total time=   3.4s\n",
      "[CV 3/5] END ...............n_neighbors=96, weights=distance; total time=   3.1s\n",
      "[CV 4/5] END ...............n_neighbors=96, weights=distance; total time=   3.0s\n",
      "[CV 5/5] END ...............n_neighbors=96, weights=distance; total time=   3.6s\n",
      "[CV 1/5] END ................n_neighbors=97, weights=uniform; total time=   2.8s\n",
      "[CV 2/5] END ................n_neighbors=97, weights=uniform; total time=   3.4s\n",
      "[CV 3/5] END ................n_neighbors=97, weights=uniform; total time=   3.2s\n",
      "[CV 4/5] END ................n_neighbors=97, weights=uniform; total time=   3.0s\n",
      "[CV 5/5] END ................n_neighbors=97, weights=uniform; total time=   3.6s\n",
      "[CV 1/5] END ...............n_neighbors=97, weights=distance; total time=   3.0s\n",
      "[CV 2/5] END ...............n_neighbors=97, weights=distance; total time=   3.4s\n",
      "[CV 3/5] END ...............n_neighbors=97, weights=distance; total time=   3.5s\n",
      "[CV 4/5] END ...............n_neighbors=97, weights=distance; total time=   3.1s\n",
      "[CV 5/5] END ...............n_neighbors=97, weights=distance; total time=   3.6s\n",
      "[CV 1/5] END ................n_neighbors=98, weights=uniform; total time=   2.8s\n",
      "[CV 2/5] END ................n_neighbors=98, weights=uniform; total time=   3.4s\n",
      "[CV 3/5] END ................n_neighbors=98, weights=uniform; total time=   3.5s\n",
      "[CV 4/5] END ................n_neighbors=98, weights=uniform; total time=   3.0s\n",
      "[CV 5/5] END ................n_neighbors=98, weights=uniform; total time=   3.5s\n",
      "[CV 1/5] END ...............n_neighbors=98, weights=distance; total time=   2.9s\n",
      "[CV 2/5] END ...............n_neighbors=98, weights=distance; total time=   3.4s\n",
      "[CV 3/5] END ...............n_neighbors=98, weights=distance; total time=   3.2s\n",
      "[CV 4/5] END ...............n_neighbors=98, weights=distance; total time=   3.0s\n",
      "[CV 5/5] END ...............n_neighbors=98, weights=distance; total time=   3.5s\n",
      "[CV 1/5] END ................n_neighbors=99, weights=uniform; total time=   2.9s\n",
      "[CV 2/5] END ................n_neighbors=99, weights=uniform; total time=   3.4s\n",
      "[CV 3/5] END ................n_neighbors=99, weights=uniform; total time=   3.1s\n",
      "[CV 4/5] END ................n_neighbors=99, weights=uniform; total time=   3.2s\n",
      "[CV 5/5] END ................n_neighbors=99, weights=uniform; total time=   3.6s\n",
      "[CV 1/5] END ...............n_neighbors=99, weights=distance; total time=   3.3s\n",
      "[CV 2/5] END ...............n_neighbors=99, weights=distance; total time=   3.5s\n",
      "[CV 3/5] END ...............n_neighbors=99, weights=distance; total time=   3.2s\n",
      "[CV 4/5] END ...............n_neighbors=99, weights=distance; total time=   3.0s\n",
      "[CV 5/5] END ...............n_neighbors=99, weights=distance; total time=   3.6s\n"
     ]
    },
    {
     "data": {
      "text/html": [
       "<div>\n",
       "<style scoped>\n",
       "    .dataframe tbody tr th:only-of-type {\n",
       "        vertical-align: middle;\n",
       "    }\n",
       "\n",
       "    .dataframe tbody tr th {\n",
       "        vertical-align: top;\n",
       "    }\n",
       "\n",
       "    .dataframe thead th {\n",
       "        text-align: right;\n",
       "    }\n",
       "</style>\n",
       "<table border=\"1\" class=\"dataframe\">\n",
       "  <thead>\n",
       "    <tr style=\"text-align: right;\">\n",
       "      <th></th>\n",
       "      <th>param_n_neighbors</th>\n",
       "      <th>param_weights</th>\n",
       "      <th>mean_test_score</th>\n",
       "      <th>rank_test_score</th>\n",
       "    </tr>\n",
       "  </thead>\n",
       "  <tbody>\n",
       "    <tr>\n",
       "      <th>97</th>\n",
       "      <td>98</td>\n",
       "      <td>distance</td>\n",
       "      <td>0.824194</td>\n",
       "      <td>1</td>\n",
       "    </tr>\n",
       "    <tr>\n",
       "      <th>95</th>\n",
       "      <td>97</td>\n",
       "      <td>distance</td>\n",
       "      <td>0.824193</td>\n",
       "      <td>2</td>\n",
       "    </tr>\n",
       "    <tr>\n",
       "      <th>99</th>\n",
       "      <td>99</td>\n",
       "      <td>distance</td>\n",
       "      <td>0.824184</td>\n",
       "      <td>3</td>\n",
       "    </tr>\n",
       "    <tr>\n",
       "      <th>93</th>\n",
       "      <td>96</td>\n",
       "      <td>distance</td>\n",
       "      <td>0.824166</td>\n",
       "      <td>4</td>\n",
       "    </tr>\n",
       "    <tr>\n",
       "      <th>91</th>\n",
       "      <td>95</td>\n",
       "      <td>distance</td>\n",
       "      <td>0.824159</td>\n",
       "      <td>5</td>\n",
       "    </tr>\n",
       "    <tr>\n",
       "      <th>...</th>\n",
       "      <td>...</td>\n",
       "      <td>...</td>\n",
       "      <td>...</td>\n",
       "      <td>...</td>\n",
       "    </tr>\n",
       "    <tr>\n",
       "      <th>3</th>\n",
       "      <td>51</td>\n",
       "      <td>distance</td>\n",
       "      <td>0.821579</td>\n",
       "      <td>96</td>\n",
       "    </tr>\n",
       "    <tr>\n",
       "      <th>4</th>\n",
       "      <td>52</td>\n",
       "      <td>uniform</td>\n",
       "      <td>0.821443</td>\n",
       "      <td>97</td>\n",
       "    </tr>\n",
       "    <tr>\n",
       "      <th>1</th>\n",
       "      <td>50</td>\n",
       "      <td>distance</td>\n",
       "      <td>0.821400</td>\n",
       "      <td>98</td>\n",
       "    </tr>\n",
       "    <tr>\n",
       "      <th>2</th>\n",
       "      <td>51</td>\n",
       "      <td>uniform</td>\n",
       "      <td>0.821364</td>\n",
       "      <td>99</td>\n",
       "    </tr>\n",
       "    <tr>\n",
       "      <th>0</th>\n",
       "      <td>50</td>\n",
       "      <td>uniform</td>\n",
       "      <td>0.821196</td>\n",
       "      <td>100</td>\n",
       "    </tr>\n",
       "  </tbody>\n",
       "</table>\n",
       "<p>100 rows × 4 columns</p>\n",
       "</div>"
      ],
      "text/plain": [
       "   param_n_neighbors param_weights  mean_test_score  rank_test_score\n",
       "97                98      distance         0.824194                1\n",
       "95                97      distance         0.824193                2\n",
       "99                99      distance         0.824184                3\n",
       "93                96      distance         0.824166                4\n",
       "91                95      distance         0.824159                5\n",
       "..               ...           ...              ...              ...\n",
       "3                 51      distance         0.821579               96\n",
       "4                 52       uniform         0.821443               97\n",
       "1                 50      distance         0.821400               98\n",
       "2                 51       uniform         0.821364               99\n",
       "0                 50       uniform         0.821196              100\n",
       "\n",
       "[100 rows x 4 columns]"
      ]
     },
     "execution_count": 19,
     "metadata": {},
     "output_type": "execute_result"
    }
   ],
   "source": [
    "N = range(50,100,1)\n",
    "\n",
    "KNN2 = GridSearchCV(KNeighborsRegressor(), {\n",
    "    'n_neighbors': N,\n",
    "    'weights': ['uniform', 'distance']\n",
    "}, cv=5, return_train_score=False, verbose = 3)\n",
    "KNN2.fit(X1scaled, y1)\n",
    "KNN_results2 = pd.DataFrame(KNN2.cv_results_)\n",
    "KNN_results2 = KNN_results2[['param_n_neighbors', 'param_weights', 'mean_test_score', 'rank_test_score']].sort_values(by=['rank_test_score'])\n",
    "KNN_results2"
   ]
  },
  {
   "cell_type": "code",
   "execution_count": 20,
   "id": "f51e4d19",
   "metadata": {
    "scrolled": true
   },
   "outputs": [
    {
     "data": {
      "image/png": "[encoded data removed]",
      "text/plain": [
       "<Figure size 432x288 with 1 Axes>"
      ]
     },
     "metadata": {
      "needs_background": "light"
     },
     "output_type": "display_data"
    }
   ],
   "source": [
    "KNNresults = KNN_results.copy()\n",
    "KNNresults = KNNresults.append(KNN_results2)\n",
    "\n",
    "KNNuniform2 = KNNresults[(KNNresults['param_weights'] == 'uniform' )].sort_values(by = ['param_n_neighbors'])\n",
    "KNNdistance2 = KNNresults[(KNNresults['param_weights'] == 'distance' )].sort_values(by = ['param_n_neighbors'])\n",
    "\n",
    "plt.plot(KNNuniform2['param_n_neighbors'], KNNuniform2['mean_test_score'], label = 'uniform')\n",
    "plt.plot(KNNdistance2['param_n_neighbors'], KNNdistance2['mean_test_score'], label = 'distance')\n",
    "\n",
    "plt.xlabel('Param N Neighbors')\n",
    "# Set the y axis label of the current axis.\n",
    "plt.ylabel('Mean test Score')\n",
    "# Set a title of the current axes.\n",
    "plt.title('Test scores for different parameter combinations of kNN')\n",
    "# show a legend on the plot\n",
    "plt.legend()\n",
    "# Display a figure.\n",
    "plt.show()"
   ]
  },
  {
   "cell_type": "code",
   "execution_count": 18,
   "id": "14330335",
   "metadata": {},
   "outputs": [
    {
     "name": "stdout",
     "output_type": "stream",
     "text": [
      "7.709425881562944\n"
     ]
    },
    {
     "data": {
      "image/png": "[encoded data removed]",
      "text/plain": [
       "<Figure size 640x480 with 1 Axes>"
      ]
     },
     "metadata": {
      "needs_background": "light"
     },
     "output_type": "display_data"
    }
   ],
   "source": [
    "from sklearn.model_selection import train_test_split\n",
    "\n",
    "X_train,X_test,y_train,y_test = train_test_split(X1scaled,y1,test_size=0.25,random_state=42) #split training:testing 75:25\n",
    "\n",
    "\n",
    "estimator = KNeighborsRegressor(n_neighbors = 100, weights = 'distance').fit(X_train, y_train)\n",
    "y_pred = estimator.predict(X_test)\n",
    "\n",
    "KNNMAPE = mean_absolute_percentage_error(y_test, y_pred) * 100\n",
    "print(KNNMAPE)\n",
    "\n",
    "from matplotlib.pyplot import figure\n",
    "figure(figsize=(8, 6), dpi=80)\n",
    "plt.scatter(y_test,y_pred, s = 2.5)\n",
    "plt.xlabel('Real Value')\n",
    "# Set the y axis label of the current axis.\n",
    "plt.ylabel('Predicted value')\n",
    "# Set a title of the current axes.\n",
    "plt.title('SVM predictions')\n",
    "# Display a figure.\n",
    "plt.show()"
   ]
  },
  {
   "cell_type": "code",
   "execution_count": 19,
   "id": "adf4e29e",
   "metadata": {},
   "outputs": [
    {
     "name": "stdout",
     "output_type": "stream",
     "text": [
      "4.1924897627488935\n"
     ]
    },
    {
     "data": {
      "text/plain": [
       "[<matplotlib.lines.Line2D at 0x22eb52ebcd0>]"
      ]
     },
     "execution_count": 19,
     "metadata": {},
     "output_type": "execute_result"
    },
    {
     "data": {
      "image/png": "[encoded data removed]",
      "text/plain": [
       "<Figure size 432x288 with 1 Axes>"
      ]
     },
     "metadata": {
      "needs_background": "light"
     },
     "output_type": "display_data"
    }
   ],
   "source": [
    "pred = estimator.predict(X2scaled)\n",
    "\n",
    "RandomForestMAPE = mean_absolute_percentage_error(y2, pred) * 100\n",
    "print(RandomForestMAPE)\n",
    "\n",
    "plt.plot(df['From Timestamp'].iloc[-(3*48):],y2, label = True)\n",
    "plt.plot(df['From Timestamp'].iloc[-(3*48):],pred, label = True)\n"
   ]
  },
  {
   "cell_type": "markdown",
   "id": "799b4dc2",
   "metadata": {},
   "source": [
    "# SVM Regression"
   ]
  },
  {
   "cell_type": "code",
   "execution_count": 18,
   "id": "f3201f9a",
   "metadata": {
    "scrolled": true
   },
   "outputs": [
    {
     "name": "stdout",
     "output_type": "stream",
     "text": [
      "Fitting 5 folds for each of 32 candidates, totalling 160 fits\n",
      "[CV 1/5] END ...............C=0.01, epsilon=0.01, kernel=rbf; total time= 1.2min\n",
      "[CV 2/5] END ...............C=0.01, epsilon=0.01, kernel=rbf; total time= 1.2min\n",
      "[CV 3/5] END ...............C=0.01, epsilon=0.01, kernel=rbf; total time= 1.2min\n",
      "[CV 4/5] END ...............C=0.01, epsilon=0.01, kernel=rbf; total time= 1.2min\n",
      "[CV 5/5] END ...............C=0.01, epsilon=0.01, kernel=rbf; total time= 1.2min\n",
      "[CV 1/5] END ............C=0.01, epsilon=0.01, kernel=linear; total time=  38.6s\n",
      "[CV 2/5] END ............C=0.01, epsilon=0.01, kernel=linear; total time=  39.2s\n",
      "[CV 3/5] END ............C=0.01, epsilon=0.01, kernel=linear; total time=  38.3s\n",
      "[CV 4/5] END ............C=0.01, epsilon=0.01, kernel=linear; total time=  39.0s\n",
      "[CV 5/5] END ............C=0.01, epsilon=0.01, kernel=linear; total time=  39.0s\n",
      "[CV 1/5] END ................C=0.01, epsilon=0.1, kernel=rbf; total time= 1.1min\n",
      "[CV 2/5] END ................C=0.01, epsilon=0.1, kernel=rbf; total time= 1.2min\n",
      "[CV 3/5] END ................C=0.01, epsilon=0.1, kernel=rbf; total time= 1.2min\n",
      "[CV 4/5] END ................C=0.01, epsilon=0.1, kernel=rbf; total time= 1.2min\n",
      "[CV 5/5] END ................C=0.01, epsilon=0.1, kernel=rbf; total time= 1.2min\n",
      "[CV 1/5] END .............C=0.01, epsilon=0.1, kernel=linear; total time=  37.5s\n",
      "[CV 2/5] END .............C=0.01, epsilon=0.1, kernel=linear; total time=  37.8s\n",
      "[CV 3/5] END .............C=0.01, epsilon=0.1, kernel=linear; total time=  37.0s\n",
      "[CV 4/5] END .............C=0.01, epsilon=0.1, kernel=linear; total time=  37.6s\n",
      "[CV 5/5] END .............C=0.01, epsilon=0.1, kernel=linear; total time=  37.4s\n",
      "[CV 1/5] END ..................C=0.01, epsilon=1, kernel=rbf; total time=  44.2s\n",
      "[CV 2/5] END ..................C=0.01, epsilon=1, kernel=rbf; total time=  44.5s\n",
      "[CV 3/5] END ..................C=0.01, epsilon=1, kernel=rbf; total time=  43.6s\n",
      "[CV 4/5] END ..................C=0.01, epsilon=1, kernel=rbf; total time=  45.1s\n",
      "[CV 5/5] END ..................C=0.01, epsilon=1, kernel=rbf; total time=  44.2s\n",
      "[CV 1/5] END ...............C=0.01, epsilon=1, kernel=linear; total time=  22.7s\n",
      "[CV 2/5] END ...............C=0.01, epsilon=1, kernel=linear; total time=  22.6s\n",
      "[CV 3/5] END ...............C=0.01, epsilon=1, kernel=linear; total time=  22.4s\n",
      "[CV 4/5] END ...............C=0.01, epsilon=1, kernel=linear; total time=  22.9s\n",
      "[CV 5/5] END ...............C=0.01, epsilon=1, kernel=linear; total time=  22.5s\n",
      "[CV 1/5] END .................C=0.01, epsilon=10, kernel=rbf; total time=   1.8s\n",
      "[CV 2/5] END .................C=0.01, epsilon=10, kernel=rbf; total time=   1.6s\n",
      "[CV 3/5] END .................C=0.01, epsilon=10, kernel=rbf; total time=   1.4s\n",
      "[CV 4/5] END .................C=0.01, epsilon=10, kernel=rbf; total time=   1.9s\n",
      "[CV 5/5] END .................C=0.01, epsilon=10, kernel=rbf; total time=   1.7s\n",
      "[CV 1/5] END ..............C=0.01, epsilon=10, kernel=linear; total time=   0.1s\n",
      "[CV 2/5] END ..............C=0.01, epsilon=10, kernel=linear; total time=   0.1s\n",
      "[CV 3/5] END ..............C=0.01, epsilon=10, kernel=linear; total time=   0.1s\n",
      "[CV 4/5] END ..............C=0.01, epsilon=10, kernel=linear; total time=   0.1s\n",
      "[CV 5/5] END ..............C=0.01, epsilon=10, kernel=linear; total time=   0.1s\n",
      "[CV 1/5] END ................C=0.1, epsilon=0.01, kernel=rbf; total time= 1.2min\n",
      "[CV 2/5] END ................C=0.1, epsilon=0.01, kernel=rbf; total time= 1.2min\n",
      "[CV 3/5] END ................C=0.1, epsilon=0.01, kernel=rbf; total time= 1.2min\n",
      "[CV 4/5] END ................C=0.1, epsilon=0.01, kernel=rbf; total time= 1.2min\n",
      "[CV 5/5] END ................C=0.1, epsilon=0.01, kernel=rbf; total time= 1.2min\n",
      "[CV 1/5] END .............C=0.1, epsilon=0.01, kernel=linear; total time=  40.8s\n",
      "[CV 2/5] END .............C=0.1, epsilon=0.01, kernel=linear; total time=  40.9s\n",
      "[CV 3/5] END .............C=0.1, epsilon=0.01, kernel=linear; total time=  40.4s\n",
      "[CV 4/5] END .............C=0.1, epsilon=0.01, kernel=linear; total time=  40.5s\n",
      "[CV 5/5] END .............C=0.1, epsilon=0.01, kernel=linear; total time=  40.6s\n",
      "[CV 1/5] END .................C=0.1, epsilon=0.1, kernel=rbf; total time= 1.1min\n",
      "[CV 2/5] END .................C=0.1, epsilon=0.1, kernel=rbf; total time= 1.2min\n",
      "[CV 3/5] END .................C=0.1, epsilon=0.1, kernel=rbf; total time= 1.1min\n",
      "[CV 4/5] END .................C=0.1, epsilon=0.1, kernel=rbf; total time= 1.1min\n",
      "[CV 5/5] END .................C=0.1, epsilon=0.1, kernel=rbf; total time= 1.1min\n",
      "[CV 1/5] END ..............C=0.1, epsilon=0.1, kernel=linear; total time=  40.2s\n",
      "[CV 2/5] END ..............C=0.1, epsilon=0.1, kernel=linear; total time=  39.9s\n",
      "[CV 3/5] END ..............C=0.1, epsilon=0.1, kernel=linear; total time=  40.8s\n",
      "[CV 4/5] END ..............C=0.1, epsilon=0.1, kernel=linear; total time=  40.0s\n",
      "[CV 5/5] END ..............C=0.1, epsilon=0.1, kernel=linear; total time=  39.3s\n",
      "[CV 1/5] END ...................C=0.1, epsilon=1, kernel=rbf; total time=  37.5s\n",
      "[CV 2/5] END ...................C=0.1, epsilon=1, kernel=rbf; total time=  38.4s\n",
      "[CV 3/5] END ...................C=0.1, epsilon=1, kernel=rbf; total time=  37.1s\n",
      "[CV 4/5] END ...................C=0.1, epsilon=1, kernel=rbf; total time=  38.2s\n",
      "[CV 5/5] END ...................C=0.1, epsilon=1, kernel=rbf; total time=  38.1s\n",
      "[CV 1/5] END ................C=0.1, epsilon=1, kernel=linear; total time=  23.6s\n",
      "[CV 2/5] END ................C=0.1, epsilon=1, kernel=linear; total time=  24.7s\n",
      "[CV 3/5] END ................C=0.1, epsilon=1, kernel=linear; total time=  23.6s\n",
      "[CV 4/5] END ................C=0.1, epsilon=1, kernel=linear; total time=  23.9s\n",
      "[CV 5/5] END ................C=0.1, epsilon=1, kernel=linear; total time=  24.1s\n",
      "[CV 1/5] END ..................C=0.1, epsilon=10, kernel=rbf; total time=   0.7s\n",
      "[CV 2/5] END ..................C=0.1, epsilon=10, kernel=rbf; total time=   0.5s\n",
      "[CV 3/5] END ..................C=0.1, epsilon=10, kernel=rbf; total time=   0.5s\n",
      "[CV 4/5] END ..................C=0.1, epsilon=10, kernel=rbf; total time=   0.6s\n",
      "[CV 5/5] END ..................C=0.1, epsilon=10, kernel=rbf; total time=   0.6s\n",
      "[CV 1/5] END ...............C=0.1, epsilon=10, kernel=linear; total time=   0.0s\n",
      "[CV 2/5] END ...............C=0.1, epsilon=10, kernel=linear; total time=   0.1s\n",
      "[CV 3/5] END ...............C=0.1, epsilon=10, kernel=linear; total time=   0.0s\n",
      "[CV 4/5] END ...............C=0.1, epsilon=10, kernel=linear; total time=   0.0s\n",
      "[CV 5/5] END ...............C=0.1, epsilon=10, kernel=linear; total time=   0.1s\n",
      "[CV 1/5] END ..................C=1, epsilon=0.01, kernel=rbf; total time= 1.2min\n",
      "[CV 2/5] END ..................C=1, epsilon=0.01, kernel=rbf; total time= 1.2min\n",
      "[CV 3/5] END ..................C=1, epsilon=0.01, kernel=rbf; total time= 1.2min\n",
      "[CV 4/5] END ..................C=1, epsilon=0.01, kernel=rbf; total time= 1.2min\n",
      "[CV 5/5] END ..................C=1, epsilon=0.01, kernel=rbf; total time= 1.2min\n",
      "[CV 1/5] END ...............C=1, epsilon=0.01, kernel=linear; total time=  56.1s\n",
      "[CV 2/5] END ...............C=1, epsilon=0.01, kernel=linear; total time=  56.3s\n",
      "[CV 3/5] END ...............C=1, epsilon=0.01, kernel=linear; total time=  55.1s\n",
      "[CV 4/5] END ...............C=1, epsilon=0.01, kernel=linear; total time=  56.0s\n",
      "[CV 5/5] END ...............C=1, epsilon=0.01, kernel=linear; total time=  57.6s\n",
      "[CV 1/5] END ...................C=1, epsilon=0.1, kernel=rbf; total time= 1.2min\n",
      "[CV 2/5] END ...................C=1, epsilon=0.1, kernel=rbf; total time= 1.2min\n",
      "[CV 3/5] END ...................C=1, epsilon=0.1, kernel=rbf; total time= 1.2min\n",
      "[CV 4/5] END ...................C=1, epsilon=0.1, kernel=rbf; total time= 1.2min\n",
      "[CV 5/5] END ...................C=1, epsilon=0.1, kernel=rbf; total time= 1.2min\n",
      "[CV 1/5] END ................C=1, epsilon=0.1, kernel=linear; total time=  58.4s\n",
      "[CV 2/5] END ................C=1, epsilon=0.1, kernel=linear; total time=  55.3s\n",
      "[CV 3/5] END ................C=1, epsilon=0.1, kernel=linear; total time=  53.6s\n",
      "[CV 4/5] END ................C=1, epsilon=0.1, kernel=linear; total time=  55.6s\n",
      "[CV 5/5] END ................C=1, epsilon=0.1, kernel=linear; total time=  55.5s\n",
      "[CV 1/5] END .....................C=1, epsilon=1, kernel=rbf; total time=  34.2s\n"
     ]
    },
    {
     "name": "stdout",
     "output_type": "stream",
     "text": [
      "[CV 2/5] END .....................C=1, epsilon=1, kernel=rbf; total time=  34.9s\n",
      "[CV 3/5] END .....................C=1, epsilon=1, kernel=rbf; total time=  36.9s\n",
      "[CV 4/5] END .....................C=1, epsilon=1, kernel=rbf; total time=  35.3s\n",
      "[CV 5/5] END .....................C=1, epsilon=1, kernel=rbf; total time=  34.5s\n",
      "[CV 1/5] END ..................C=1, epsilon=1, kernel=linear; total time=  35.5s\n",
      "[CV 2/5] END ..................C=1, epsilon=1, kernel=linear; total time=  35.2s\n",
      "[CV 3/5] END ..................C=1, epsilon=1, kernel=linear; total time=  34.8s\n",
      "[CV 4/5] END ..................C=1, epsilon=1, kernel=linear; total time=  36.1s\n",
      "[CV 5/5] END ..................C=1, epsilon=1, kernel=linear; total time=  35.2s\n",
      "[CV 1/5] END ....................C=1, epsilon=10, kernel=rbf; total time=   0.2s\n",
      "[CV 2/5] END ....................C=1, epsilon=10, kernel=rbf; total time=   0.1s\n",
      "[CV 3/5] END ....................C=1, epsilon=10, kernel=rbf; total time=   0.1s\n",
      "[CV 4/5] END ....................C=1, epsilon=10, kernel=rbf; total time=   0.2s\n",
      "[CV 5/5] END ....................C=1, epsilon=10, kernel=rbf; total time=   0.2s\n",
      "[CV 1/5] END .................C=1, epsilon=10, kernel=linear; total time=   0.3s\n",
      "[CV 2/5] END .................C=1, epsilon=10, kernel=linear; total time=   0.3s\n",
      "[CV 3/5] END .................C=1, epsilon=10, kernel=linear; total time=   0.2s\n",
      "[CV 4/5] END .................C=1, epsilon=10, kernel=linear; total time=   0.3s\n",
      "[CV 5/5] END .................C=1, epsilon=10, kernel=linear; total time=   0.3s\n",
      "[CV 1/5] END ................C=100, epsilon=0.01, kernel=rbf; total time=12.9min\n",
      "[CV 2/5] END ................C=100, epsilon=0.01, kernel=rbf; total time=12.5min\n",
      "[CV 3/5] END ................C=100, epsilon=0.01, kernel=rbf; total time=13.0min\n",
      "[CV 4/5] END ................C=100, epsilon=0.01, kernel=rbf; total time=12.2min\n",
      "[CV 5/5] END ................C=100, epsilon=0.01, kernel=rbf; total time=12.9min\n",
      "[CV 1/5] END .............C=100, epsilon=0.01, kernel=linear; total time=23.0min\n",
      "[CV 2/5] END .............C=100, epsilon=0.01, kernel=linear; total time=22.7min\n",
      "[CV 3/5] END .............C=100, epsilon=0.01, kernel=linear; total time=21.4min\n",
      "[CV 4/5] END .............C=100, epsilon=0.01, kernel=linear; total time=23.1min\n",
      "[CV 5/5] END .............C=100, epsilon=0.01, kernel=linear; total time=22.8min\n",
      "[CV 1/5] END .................C=100, epsilon=0.1, kernel=rbf; total time=11.9min\n",
      "[CV 2/5] END .................C=100, epsilon=0.1, kernel=rbf; total time=11.9min\n",
      "[CV 3/5] END .................C=100, epsilon=0.1, kernel=rbf; total time=11.9min\n",
      "[CV 4/5] END .................C=100, epsilon=0.1, kernel=rbf; total time=11.9min\n",
      "[CV 5/5] END .................C=100, epsilon=0.1, kernel=rbf; total time=11.3min\n",
      "[CV 1/5] END ..............C=100, epsilon=0.1, kernel=linear; total time=22.5min\n",
      "[CV 2/5] END ..............C=100, epsilon=0.1, kernel=linear; total time=22.4min\n",
      "[CV 3/5] END ..............C=100, epsilon=0.1, kernel=linear; total time=21.9min\n",
      "[CV 4/5] END ..............C=100, epsilon=0.1, kernel=linear; total time=25.2min\n",
      "[CV 5/5] END ..............C=100, epsilon=0.1, kernel=linear; total time=24.8min\n",
      "[CV 1/5] END ...................C=100, epsilon=1, kernel=rbf; total time= 3.7min\n",
      "[CV 2/5] END ...................C=100, epsilon=1, kernel=rbf; total time= 3.6min\n",
      "[CV 3/5] END ...................C=100, epsilon=1, kernel=rbf; total time= 3.5min\n",
      "[CV 4/5] END ...................C=100, epsilon=1, kernel=rbf; total time= 3.4min\n",
      "[CV 5/5] END ...................C=100, epsilon=1, kernel=rbf; total time= 3.3min\n",
      "[CV 1/5] END ................C=100, epsilon=1, kernel=linear; total time=14.8min\n",
      "[CV 2/5] END ................C=100, epsilon=1, kernel=linear; total time=15.1min\n",
      "[CV 3/5] END ................C=100, epsilon=1, kernel=linear; total time=13.8min\n",
      "[CV 4/5] END ................C=100, epsilon=1, kernel=linear; total time=14.7min\n",
      "[CV 5/5] END ................C=100, epsilon=1, kernel=linear; total time=14.4min\n",
      "[CV 1/5] END ..................C=100, epsilon=10, kernel=rbf; total time=   0.1s\n",
      "[CV 2/5] END ..................C=100, epsilon=10, kernel=rbf; total time=   0.1s\n",
      "[CV 3/5] END ..................C=100, epsilon=10, kernel=rbf; total time=   0.1s\n",
      "[CV 4/5] END ..................C=100, epsilon=10, kernel=rbf; total time=   0.1s\n",
      "[CV 5/5] END ..................C=100, epsilon=10, kernel=rbf; total time=   0.1s\n",
      "[CV 1/5] END ...............C=100, epsilon=10, kernel=linear; total time=   0.4s\n",
      "[CV 2/5] END ...............C=100, epsilon=10, kernel=linear; total time=   0.3s\n",
      "[CV 3/5] END ...............C=100, epsilon=10, kernel=linear; total time=   0.4s\n",
      "[CV 4/5] END ...............C=100, epsilon=10, kernel=linear; total time=   0.5s\n",
      "[CV 5/5] END ...............C=100, epsilon=10, kernel=linear; total time=   0.4s\n"
     ]
    },
    {
     "data": {
      "text/html": [
       "<div>\n",
       "<style scoped>\n",
       "    .dataframe tbody tr th:only-of-type {\n",
       "        vertical-align: middle;\n",
       "    }\n",
       "\n",
       "    .dataframe tbody tr th {\n",
       "        vertical-align: top;\n",
       "    }\n",
       "\n",
       "    .dataframe thead th {\n",
       "        text-align: right;\n",
       "    }\n",
       "</style>\n",
       "<table border=\"1\" class=\"dataframe\">\n",
       "  <thead>\n",
       "    <tr style=\"text-align: right;\">\n",
       "      <th></th>\n",
       "      <th>param_kernel</th>\n",
       "      <th>param_C</th>\n",
       "      <th>param_epsilon</th>\n",
       "      <th>mean_test_score</th>\n",
       "      <th>rank_test_score</th>\n",
       "    </tr>\n",
       "  </thead>\n",
       "  <tbody>\n",
       "    <tr>\n",
       "      <th>20</th>\n",
       "      <td>rbf</td>\n",
       "      <td>1</td>\n",
       "      <td>1</td>\n",
       "      <td>0.838641</td>\n",
       "      <td>1</td>\n",
       "    </tr>\n",
       "    <tr>\n",
       "      <th>16</th>\n",
       "      <td>rbf</td>\n",
       "      <td>1</td>\n",
       "      <td>0.01</td>\n",
       "      <td>0.837867</td>\n",
       "      <td>2</td>\n",
       "    </tr>\n",
       "    <tr>\n",
       "      <th>18</th>\n",
       "      <td>rbf</td>\n",
       "      <td>1</td>\n",
       "      <td>0.1</td>\n",
       "      <td>0.837847</td>\n",
       "      <td>3</td>\n",
       "    </tr>\n",
       "    <tr>\n",
       "      <th>12</th>\n",
       "      <td>rbf</td>\n",
       "      <td>0.1</td>\n",
       "      <td>1</td>\n",
       "      <td>0.826354</td>\n",
       "      <td>4</td>\n",
       "    </tr>\n",
       "    <tr>\n",
       "      <th>8</th>\n",
       "      <td>rbf</td>\n",
       "      <td>0.1</td>\n",
       "      <td>0.01</td>\n",
       "      <td>0.826353</td>\n",
       "      <td>5</td>\n",
       "    </tr>\n",
       "    <tr>\n",
       "      <th>10</th>\n",
       "      <td>rbf</td>\n",
       "      <td>0.1</td>\n",
       "      <td>0.1</td>\n",
       "      <td>0.826350</td>\n",
       "      <td>6</td>\n",
       "    </tr>\n",
       "    <tr>\n",
       "      <th>28</th>\n",
       "      <td>rbf</td>\n",
       "      <td>100</td>\n",
       "      <td>1</td>\n",
       "      <td>0.795236</td>\n",
       "      <td>7</td>\n",
       "    </tr>\n",
       "    <tr>\n",
       "      <th>24</th>\n",
       "      <td>rbf</td>\n",
       "      <td>100</td>\n",
       "      <td>0.01</td>\n",
       "      <td>0.790468</td>\n",
       "      <td>8</td>\n",
       "    </tr>\n",
       "    <tr>\n",
       "      <th>26</th>\n",
       "      <td>rbf</td>\n",
       "      <td>100</td>\n",
       "      <td>0.1</td>\n",
       "      <td>0.789431</td>\n",
       "      <td>9</td>\n",
       "    </tr>\n",
       "    <tr>\n",
       "      <th>5</th>\n",
       "      <td>linear</td>\n",
       "      <td>0.01</td>\n",
       "      <td>1</td>\n",
       "      <td>0.787508</td>\n",
       "      <td>10</td>\n",
       "    </tr>\n",
       "    <tr>\n",
       "      <th>13</th>\n",
       "      <td>linear</td>\n",
       "      <td>0.1</td>\n",
       "      <td>1</td>\n",
       "      <td>0.787187</td>\n",
       "      <td>11</td>\n",
       "    </tr>\n",
       "    <tr>\n",
       "      <th>21</th>\n",
       "      <td>linear</td>\n",
       "      <td>1</td>\n",
       "      <td>1</td>\n",
       "      <td>0.787040</td>\n",
       "      <td>12</td>\n",
       "    </tr>\n",
       "    <tr>\n",
       "      <th>29</th>\n",
       "      <td>linear</td>\n",
       "      <td>100</td>\n",
       "      <td>1</td>\n",
       "      <td>0.787039</td>\n",
       "      <td>13</td>\n",
       "    </tr>\n",
       "    <tr>\n",
       "      <th>3</th>\n",
       "      <td>linear</td>\n",
       "      <td>0.01</td>\n",
       "      <td>0.1</td>\n",
       "      <td>0.785090</td>\n",
       "      <td>14</td>\n",
       "    </tr>\n",
       "    <tr>\n",
       "      <th>1</th>\n",
       "      <td>linear</td>\n",
       "      <td>0.01</td>\n",
       "      <td>0.01</td>\n",
       "      <td>0.785010</td>\n",
       "      <td>15</td>\n",
       "    </tr>\n",
       "    <tr>\n",
       "      <th>11</th>\n",
       "      <td>linear</td>\n",
       "      <td>0.1</td>\n",
       "      <td>0.1</td>\n",
       "      <td>0.784570</td>\n",
       "      <td>16</td>\n",
       "    </tr>\n",
       "    <tr>\n",
       "      <th>9</th>\n",
       "      <td>linear</td>\n",
       "      <td>0.1</td>\n",
       "      <td>0.01</td>\n",
       "      <td>0.784550</td>\n",
       "      <td>17</td>\n",
       "    </tr>\n",
       "    <tr>\n",
       "      <th>25</th>\n",
       "      <td>linear</td>\n",
       "      <td>100</td>\n",
       "      <td>0.01</td>\n",
       "      <td>0.784447</td>\n",
       "      <td>18</td>\n",
       "    </tr>\n",
       "    <tr>\n",
       "      <th>17</th>\n",
       "      <td>linear</td>\n",
       "      <td>1</td>\n",
       "      <td>0.01</td>\n",
       "      <td>0.784439</td>\n",
       "      <td>19</td>\n",
       "    </tr>\n",
       "    <tr>\n",
       "      <th>27</th>\n",
       "      <td>linear</td>\n",
       "      <td>100</td>\n",
       "      <td>0.1</td>\n",
       "      <td>0.784434</td>\n",
       "      <td>20</td>\n",
       "    </tr>\n",
       "    <tr>\n",
       "      <th>19</th>\n",
       "      <td>linear</td>\n",
       "      <td>1</td>\n",
       "      <td>0.1</td>\n",
       "      <td>0.784419</td>\n",
       "      <td>21</td>\n",
       "    </tr>\n",
       "    <tr>\n",
       "      <th>2</th>\n",
       "      <td>rbf</td>\n",
       "      <td>0.01</td>\n",
       "      <td>0.1</td>\n",
       "      <td>0.716743</td>\n",
       "      <td>22</td>\n",
       "    </tr>\n",
       "    <tr>\n",
       "      <th>0</th>\n",
       "      <td>rbf</td>\n",
       "      <td>0.01</td>\n",
       "      <td>0.01</td>\n",
       "      <td>0.716631</td>\n",
       "      <td>23</td>\n",
       "    </tr>\n",
       "    <tr>\n",
       "      <th>4</th>\n",
       "      <td>rbf</td>\n",
       "      <td>0.01</td>\n",
       "      <td>1</td>\n",
       "      <td>0.710640</td>\n",
       "      <td>24</td>\n",
       "    </tr>\n",
       "    <tr>\n",
       "      <th>31</th>\n",
       "      <td>linear</td>\n",
       "      <td>100</td>\n",
       "      <td>10</td>\n",
       "      <td>0.585586</td>\n",
       "      <td>25</td>\n",
       "    </tr>\n",
       "    <tr>\n",
       "      <th>23</th>\n",
       "      <td>linear</td>\n",
       "      <td>1</td>\n",
       "      <td>10</td>\n",
       "      <td>0.554989</td>\n",
       "      <td>26</td>\n",
       "    </tr>\n",
       "    <tr>\n",
       "      <th>15</th>\n",
       "      <td>linear</td>\n",
       "      <td>0.1</td>\n",
       "      <td>10</td>\n",
       "      <td>0.244518</td>\n",
       "      <td>27</td>\n",
       "    </tr>\n",
       "    <tr>\n",
       "      <th>7</th>\n",
       "      <td>linear</td>\n",
       "      <td>0.01</td>\n",
       "      <td>10</td>\n",
       "      <td>-0.107955</td>\n",
       "      <td>28</td>\n",
       "    </tr>\n",
       "    <tr>\n",
       "      <th>30</th>\n",
       "      <td>rbf</td>\n",
       "      <td>100</td>\n",
       "      <td>10</td>\n",
       "      <td>-0.198953</td>\n",
       "      <td>29</td>\n",
       "    </tr>\n",
       "    <tr>\n",
       "      <th>22</th>\n",
       "      <td>rbf</td>\n",
       "      <td>1</td>\n",
       "      <td>10</td>\n",
       "      <td>-0.211240</td>\n",
       "      <td>30</td>\n",
       "    </tr>\n",
       "    <tr>\n",
       "      <th>14</th>\n",
       "      <td>rbf</td>\n",
       "      <td>0.1</td>\n",
       "      <td>10</td>\n",
       "      <td>-0.287515</td>\n",
       "      <td>31</td>\n",
       "    </tr>\n",
       "    <tr>\n",
       "      <th>6</th>\n",
       "      <td>rbf</td>\n",
       "      <td>0.01</td>\n",
       "      <td>10</td>\n",
       "      <td>-0.398126</td>\n",
       "      <td>32</td>\n",
       "    </tr>\n",
       "  </tbody>\n",
       "</table>\n",
       "</div>"
      ],
      "text/plain": [
       "   param_kernel param_C param_epsilon  mean_test_score  rank_test_score\n",
       "20          rbf       1             1         0.838641                1\n",
       "16          rbf       1          0.01         0.837867                2\n",
       "18          rbf       1           0.1         0.837847                3\n",
       "12          rbf     0.1             1         0.826354                4\n",
       "8           rbf     0.1          0.01         0.826353                5\n",
       "10          rbf     0.1           0.1         0.826350                6\n",
       "28          rbf     100             1         0.795236                7\n",
       "24          rbf     100          0.01         0.790468                8\n",
       "26          rbf     100           0.1         0.789431                9\n",
       "5        linear    0.01             1         0.787508               10\n",
       "13       linear     0.1             1         0.787187               11\n",
       "21       linear       1             1         0.787040               12\n",
       "29       linear     100             1         0.787039               13\n",
       "3        linear    0.01           0.1         0.785090               14\n",
       "1        linear    0.01          0.01         0.785010               15\n",
       "11       linear     0.1           0.1         0.784570               16\n",
       "9        linear     0.1          0.01         0.784550               17\n",
       "25       linear     100          0.01         0.784447               18\n",
       "17       linear       1          0.01         0.784439               19\n",
       "27       linear     100           0.1         0.784434               20\n",
       "19       linear       1           0.1         0.784419               21\n",
       "2           rbf    0.01           0.1         0.716743               22\n",
       "0           rbf    0.01          0.01         0.716631               23\n",
       "4           rbf    0.01             1         0.710640               24\n",
       "31       linear     100            10         0.585586               25\n",
       "23       linear       1            10         0.554989               26\n",
       "15       linear     0.1            10         0.244518               27\n",
       "7        linear    0.01            10        -0.107955               28\n",
       "30          rbf     100            10        -0.198953               29\n",
       "22          rbf       1            10        -0.211240               30\n",
       "14          rbf     0.1            10        -0.287515               31\n",
       "6           rbf    0.01            10        -0.398126               32"
      ]
     },
     "execution_count": 18,
     "metadata": {},
     "output_type": "execute_result"
    }
   ],
   "source": [
    "SVM = GridSearchCV(svm.SVR(gamma='scale'), {\n",
    "    'C': [0.01, 0.1, 1, 100], \n",
    "    'kernel': ['rbf','linear'],\n",
    "    'epsilon': [0.01,0.1,1,10]\n",
    "}, cv=5, return_train_score=False, verbose = 4)\n",
    "SVM.fit(X1scaled, y1)\n",
    "\n",
    "svm_results = pd.DataFrame(SVM.cv_results_)\n",
    "svmresults = svm_results[['param_kernel','param_C','param_epsilon', 'mean_test_score', 'rank_test_score']].sort_values(by=['rank_test_score'])\n",
    "svmresults"
   ]
  },
  {
   "cell_type": "code",
   "execution_count": 16,
   "id": "1f85a808",
   "metadata": {},
   "outputs": [
    {
     "name": "stdout",
     "output_type": "stream",
     "text": [
      "7.5860173640779545\n"
     ]
    },
    {
     "data": {
      "image/png": "[encoded data removed]",
      "text/plain": [
       "<Figure size 640x480 with 1 Axes>"
      ]
     },
     "metadata": {
      "needs_background": "light"
     },
     "output_type": "display_data"
    }
   ],
   "source": [
    "from sklearn.model_selection import train_test_split\n",
    "\n",
    "X_train,X_test,y_train,y_test = train_test_split(X1scaled,y1,test_size=0.25,random_state=42) #split training:testing 75:25\n",
    "\n",
    "\n",
    "estimator = svm.SVR(C = 1,  kernel = 'rbf', epsilon = 1).fit(X_train, y_train)\n",
    "y_pred = estimator.predict(X_test)\n",
    "\n",
    "SVMMAPE = mean_absolute_percentage_error(y_test, y_pred) * 100\n",
    "print(SVMMAPE)\n",
    "\n",
    "from matplotlib.pyplot import figure\n",
    "figure(figsize=(8, 6), dpi=80)\n",
    "plt.scatter(y_test,y_pred, s = 2.5)\n",
    "plt.xlabel('Real Value')\n",
    "# Set the y axis label of the current axis.\n",
    "plt.ylabel('Predicted value')\n",
    "# Set a title of the current axes.\n",
    "plt.title('SVM predictions')\n",
    "# Display a figure.\n",
    "plt.show()"
   ]
  },
  {
   "cell_type": "code",
   "execution_count": 17,
   "id": "3108f388",
   "metadata": {
    "scrolled": false
   },
   "outputs": [
    {
     "name": "stdout",
     "output_type": "stream",
     "text": [
      "5.069288815454728\n"
     ]
    },
    {
     "data": {
      "text/plain": [
       "[<matplotlib.lines.Line2D at 0x22eb6008220>]"
      ]
     },
     "execution_count": 17,
     "metadata": {},
     "output_type": "execute_result"
    },
    {
     "data": {
      "image/png": "[encoded data removed]",
      "text/plain": [
       "<Figure size 432x288 with 1 Axes>"
      ]
     },
     "metadata": {
      "needs_background": "light"
     },
     "output_type": "display_data"
    }
   ],
   "source": [
    "pred = estimator.predict(X2scaled)\n",
    "\n",
    "SVMMAPE = mean_absolute_percentage_error(y2, pred) * 100\n",
    "print(SVMMAPE)\n",
    "\n",
    "plt.plot(df['From Timestamp'].iloc[-(3*48):],y2, label = True)\n",
    "plt.plot(df['From Timestamp'].iloc[-(3*48):],pred, label = True)\n"
   ]
  },
  {
   "cell_type": "markdown",
   "id": "35a5a535",
   "metadata": {},
   "source": [
    "# Multilayer perceptron"
   ]
  },
  {
   "cell_type": "code",
   "execution_count": null,
   "id": "13685298",
   "metadata": {
    "scrolled": true
   },
   "outputs": [
    {
     "name": "stdout",
     "output_type": "stream",
     "text": [
      "Fitting 5 folds for each of 294 candidates, totalling 1470 fits\n",
      "[CV] END hidden_layer_sizes=1, learning_rate_init=0.1, max_iter=2500, random_state=42, solver=lbfgs; total time=   1.5s\n",
      "[CV] END hidden_layer_sizes=1, learning_rate_init=0.1, max_iter=2500, random_state=42, solver=lbfgs; total time=   1.2s\n",
      "[CV] END hidden_layer_sizes=1, learning_rate_init=0.1, max_iter=2500, random_state=42, solver=lbfgs; total time=   1.3s\n",
      "[CV] END hidden_layer_sizes=1, learning_rate_init=0.1, max_iter=2500, random_state=42, solver=lbfgs; total time=   1.1s\n",
      "[CV] END hidden_layer_sizes=1, learning_rate_init=0.1, max_iter=2500, random_state=42, solver=lbfgs; total time=   1.3s\n",
      "[CV] END hidden_layer_sizes=1, learning_rate_init=0.1, max_iter=2500, random_state=42, solver=adam; total time=   1.6s\n",
      "[CV] END hidden_layer_sizes=1, learning_rate_init=0.1, max_iter=2500, random_state=42, solver=adam; total time=   0.9s\n",
      "[CV] END hidden_layer_sizes=1, learning_rate_init=0.1, max_iter=2500, random_state=42, solver=adam; total time=   1.1s\n",
      "[CV] END hidden_layer_sizes=1, learning_rate_init=0.1, max_iter=2500, random_state=42, solver=adam; total time=   1.0s\n",
      "[CV] END hidden_layer_sizes=1, learning_rate_init=0.1, max_iter=2500, random_state=42, solver=adam; total time=   1.2s\n",
      "[CV] END hidden_layer_sizes=1, learning_rate_init=0.001, max_iter=2500, random_state=42, solver=lbfgs; total time=   0.6s\n",
      "[CV] END hidden_layer_sizes=1, learning_rate_init=0.001, max_iter=2500, random_state=42, solver=lbfgs; total time=   0.9s\n",
      "[CV] END hidden_layer_sizes=1, learning_rate_init=0.001, max_iter=2500, random_state=42, solver=lbfgs; total time=   1.1s\n",
      "[CV] END hidden_layer_sizes=1, learning_rate_init=0.001, max_iter=2500, random_state=42, solver=lbfgs; total time=   1.2s\n",
      "[CV] END hidden_layer_sizes=1, learning_rate_init=0.001, max_iter=2500, random_state=42, solver=lbfgs; total time=   0.9s\n",
      "[CV] END hidden_layer_sizes=1, learning_rate_init=0.001, max_iter=2500, random_state=42, solver=adam; total time=   7.6s\n",
      "[CV] END hidden_layer_sizes=1, learning_rate_init=0.001, max_iter=2500, random_state=42, solver=adam; total time=   8.6s\n",
      "[CV] END hidden_layer_sizes=1, learning_rate_init=0.001, max_iter=2500, random_state=42, solver=adam; total time=   7.8s\n",
      "[CV] END hidden_layer_sizes=1, learning_rate_init=0.001, max_iter=2500, random_state=42, solver=adam; total time=   7.7s\n",
      "[CV] END hidden_layer_sizes=1, learning_rate_init=0.001, max_iter=2500, random_state=42, solver=adam; total time=   7.2s\n",
      "[CV] END hidden_layer_sizes=1, learning_rate_init=1e-05, max_iter=2500, random_state=42, solver=lbfgs; total time=   0.5s\n",
      "[CV] END hidden_layer_sizes=1, learning_rate_init=1e-05, max_iter=2500, random_state=42, solver=lbfgs; total time=   0.8s\n",
      "[CV] END hidden_layer_sizes=1, learning_rate_init=1e-05, max_iter=2500, random_state=42, solver=lbfgs; total time=   0.9s\n",
      "[CV] END hidden_layer_sizes=1, learning_rate_init=1e-05, max_iter=2500, random_state=42, solver=lbfgs; total time=   0.7s\n",
      "[CV] END hidden_layer_sizes=1, learning_rate_init=1e-05, max_iter=2500, random_state=42, solver=lbfgs; total time=   0.9s\n"
     ]
    },
    {
     "name": "stderr",
     "output_type": "stream",
     "text": [
      "C:\\Users\\salda\\Anaconda3\\lib\\site-packages\\sklearn\\neural_network\\_multilayer_perceptron.py:614: ConvergenceWarning: Stochastic Optimizer: Maximum iterations (2500) reached and the optimization hasn't converged yet.\n",
      "  warnings.warn(\n"
     ]
    },
    {
     "name": "stdout",
     "output_type": "stream",
     "text": [
      "[CV] END hidden_layer_sizes=1, learning_rate_init=1e-05, max_iter=2500, random_state=42, solver=adam; total time= 1.7min\n"
     ]
    },
    {
     "name": "stderr",
     "output_type": "stream",
     "text": [
      "C:\\Users\\salda\\Anaconda3\\lib\\site-packages\\sklearn\\neural_network\\_multilayer_perceptron.py:614: ConvergenceWarning: Stochastic Optimizer: Maximum iterations (2500) reached and the optimization hasn't converged yet.\n",
      "  warnings.warn(\n"
     ]
    },
    {
     "name": "stdout",
     "output_type": "stream",
     "text": [
      "[CV] END hidden_layer_sizes=1, learning_rate_init=1e-05, max_iter=2500, random_state=42, solver=adam; total time= 1.7min\n"
     ]
    },
    {
     "name": "stderr",
     "output_type": "stream",
     "text": [
      "C:\\Users\\salda\\Anaconda3\\lib\\site-packages\\sklearn\\neural_network\\_multilayer_perceptron.py:614: ConvergenceWarning: Stochastic Optimizer: Maximum iterations (2500) reached and the optimization hasn't converged yet.\n",
      "  warnings.warn(\n"
     ]
    },
    {
     "name": "stdout",
     "output_type": "stream",
     "text": [
      "[CV] END hidden_layer_sizes=1, learning_rate_init=1e-05, max_iter=2500, random_state=42, solver=adam; total time= 1.7min\n"
     ]
    },
    {
     "name": "stderr",
     "output_type": "stream",
     "text": [
      "C:\\Users\\salda\\Anaconda3\\lib\\site-packages\\sklearn\\neural_network\\_multilayer_perceptron.py:614: ConvergenceWarning: Stochastic Optimizer: Maximum iterations (2500) reached and the optimization hasn't converged yet.\n",
      "  warnings.warn(\n"
     ]
    },
    {
     "name": "stdout",
     "output_type": "stream",
     "text": [
      "[CV] END hidden_layer_sizes=1, learning_rate_init=1e-05, max_iter=2500, random_state=42, solver=adam; total time= 1.7min\n"
     ]
    },
    {
     "name": "stderr",
     "output_type": "stream",
     "text": [
      "C:\\Users\\salda\\Anaconda3\\lib\\site-packages\\sklearn\\neural_network\\_multilayer_perceptron.py:614: ConvergenceWarning: Stochastic Optimizer: Maximum iterations (2500) reached and the optimization hasn't converged yet.\n",
      "  warnings.warn(\n"
     ]
    },
    {
     "name": "stdout",
     "output_type": "stream",
     "text": [
      "[CV] END hidden_layer_sizes=1, learning_rate_init=1e-05, max_iter=2500, random_state=42, solver=adam; total time= 1.7min\n",
      "[CV] END hidden_layer_sizes=2, learning_rate_init=0.1, max_iter=2500, random_state=42, solver=lbfgs; total time=   5.2s\n",
      "[CV] END hidden_layer_sizes=2, learning_rate_init=0.1, max_iter=2500, random_state=42, solver=lbfgs; total time=   7.5s\n",
      "[CV] END hidden_layer_sizes=2, learning_rate_init=0.1, max_iter=2500, random_state=42, solver=lbfgs; total time=   9.1s\n",
      "[CV] END hidden_layer_sizes=2, learning_rate_init=0.1, max_iter=2500, random_state=42, solver=lbfgs; total time=   8.6s\n"
     ]
    },
    {
     "name": "stderr",
     "output_type": "stream",
     "text": [
      "C:\\Users\\salda\\Anaconda3\\lib\\site-packages\\sklearn\\neural_network\\_multilayer_perceptron.py:500: ConvergenceWarning: lbfgs failed to converge (status=1):\n",
      "STOP: TOTAL NO. of ITERATIONS REACHED LIMIT.\n",
      "\n",
      "Increase the number of iterations (max_iter) or scale the data as shown in:\n",
      "    https://scikit-learn.org/stable/modules/preprocessing.html\n",
      "  self.n_iter_ = _check_optimize_result(\"lbfgs\", opt_res, self.max_iter)\n"
     ]
    },
    {
     "name": "stdout",
     "output_type": "stream",
     "text": [
      "[CV] END hidden_layer_sizes=2, learning_rate_init=0.1, max_iter=2500, random_state=42, solver=lbfgs; total time=   2.1s\n",
      "[CV] END hidden_layer_sizes=2, learning_rate_init=0.1, max_iter=2500, random_state=42, solver=adam; total time=   1.3s\n",
      "[CV] END hidden_layer_sizes=2, learning_rate_init=0.1, max_iter=2500, random_state=42, solver=adam; total time=   1.0s\n",
      "[CV] END hidden_layer_sizes=2, learning_rate_init=0.1, max_iter=2500, random_state=42, solver=adam; total time=   1.2s\n",
      "[CV] END hidden_layer_sizes=2, learning_rate_init=0.1, max_iter=2500, random_state=42, solver=adam; total time=   1.2s\n",
      "[CV] END hidden_layer_sizes=2, learning_rate_init=0.1, max_iter=2500, random_state=42, solver=adam; total time=   1.1s\n",
      "[CV] END hidden_layer_sizes=2, learning_rate_init=0.001, max_iter=2500, random_state=42, solver=lbfgs; total time=   5.2s\n",
      "[CV] END hidden_layer_sizes=2, learning_rate_init=0.001, max_iter=2500, random_state=42, solver=lbfgs; total time=   6.6s\n",
      "[CV] END hidden_layer_sizes=2, learning_rate_init=0.001, max_iter=2500, random_state=42, solver=lbfgs; total time=   9.2s\n"
     ]
    },
    {
     "name": "stderr",
     "output_type": "stream",
     "text": [
      "C:\\Users\\salda\\Anaconda3\\lib\\site-packages\\sklearn\\neural_network\\_multilayer_perceptron.py:500: ConvergenceWarning: lbfgs failed to converge (status=1):\n",
      "STOP: TOTAL NO. of ITERATIONS REACHED LIMIT.\n",
      "\n",
      "Increase the number of iterations (max_iter) or scale the data as shown in:\n",
      "    https://scikit-learn.org/stable/modules/preprocessing.html\n",
      "  self.n_iter_ = _check_optimize_result(\"lbfgs\", opt_res, self.max_iter)\n"
     ]
    },
    {
     "name": "stdout",
     "output_type": "stream",
     "text": [
      "[CV] END hidden_layer_sizes=2, learning_rate_init=0.001, max_iter=2500, random_state=42, solver=lbfgs; total time=   8.8s\n",
      "[CV] END hidden_layer_sizes=2, learning_rate_init=0.001, max_iter=2500, random_state=42, solver=lbfgs; total time=   1.8s\n",
      "[CV] END hidden_layer_sizes=2, learning_rate_init=0.001, max_iter=2500, random_state=42, solver=adam; total time=  11.9s\n",
      "[CV] END hidden_layer_sizes=2, learning_rate_init=0.001, max_iter=2500, random_state=42, solver=adam; total time=  10.6s\n",
      "[CV] END hidden_layer_sizes=2, learning_rate_init=0.001, max_iter=2500, random_state=42, solver=adam; total time=  11.0s\n",
      "[CV] END hidden_layer_sizes=2, learning_rate_init=0.001, max_iter=2500, random_state=42, solver=adam; total time=  11.6s\n",
      "[CV] END hidden_layer_sizes=2, learning_rate_init=0.001, max_iter=2500, random_state=42, solver=adam; total time=  12.4s\n",
      "[CV] END hidden_layer_sizes=2, learning_rate_init=1e-05, max_iter=2500, random_state=42, solver=lbfgs; total time=   5.2s\n",
      "[CV] END hidden_layer_sizes=2, learning_rate_init=1e-05, max_iter=2500, random_state=42, solver=lbfgs; total time=   6.5s\n",
      "[CV] END hidden_layer_sizes=2, learning_rate_init=1e-05, max_iter=2500, random_state=42, solver=lbfgs; total time=   8.7s\n"
     ]
    },
    {
     "name": "stderr",
     "output_type": "stream",
     "text": [
      "C:\\Users\\salda\\Anaconda3\\lib\\site-packages\\sklearn\\neural_network\\_multilayer_perceptron.py:500: ConvergenceWarning: lbfgs failed to converge (status=1):\n",
      "STOP: TOTAL NO. of ITERATIONS REACHED LIMIT.\n",
      "\n",
      "Increase the number of iterations (max_iter) or scale the data as shown in:\n",
      "    https://scikit-learn.org/stable/modules/preprocessing.html\n",
      "  self.n_iter_ = _check_optimize_result(\"lbfgs\", opt_res, self.max_iter)\n"
     ]
    },
    {
     "name": "stdout",
     "output_type": "stream",
     "text": [
      "[CV] END hidden_layer_sizes=2, learning_rate_init=1e-05, max_iter=2500, random_state=42, solver=lbfgs; total time=   8.6s\n",
      "[CV] END hidden_layer_sizes=2, learning_rate_init=1e-05, max_iter=2500, random_state=42, solver=lbfgs; total time=   1.7s\n"
     ]
    },
    {
     "name": "stderr",
     "output_type": "stream",
     "text": [
      "C:\\Users\\salda\\Anaconda3\\lib\\site-packages\\sklearn\\neural_network\\_multilayer_perceptron.py:614: ConvergenceWarning: Stochastic Optimizer: Maximum iterations (2500) reached and the optimization hasn't converged yet.\n",
      "  warnings.warn(\n"
     ]
    },
    {
     "name": "stdout",
     "output_type": "stream",
     "text": [
      "[CV] END hidden_layer_sizes=2, learning_rate_init=1e-05, max_iter=2500, random_state=42, solver=adam; total time= 1.8min\n"
     ]
    },
    {
     "name": "stderr",
     "output_type": "stream",
     "text": [
      "C:\\Users\\salda\\Anaconda3\\lib\\site-packages\\sklearn\\neural_network\\_multilayer_perceptron.py:614: ConvergenceWarning: Stochastic Optimizer: Maximum iterations (2500) reached and the optimization hasn't converged yet.\n",
      "  warnings.warn(\n"
     ]
    },
    {
     "name": "stdout",
     "output_type": "stream",
     "text": [
      "[CV] END hidden_layer_sizes=2, learning_rate_init=1e-05, max_iter=2500, random_state=42, solver=adam; total time= 1.8min\n"
     ]
    },
    {
     "name": "stderr",
     "output_type": "stream",
     "text": [
      "C:\\Users\\salda\\Anaconda3\\lib\\site-packages\\sklearn\\neural_network\\_multilayer_perceptron.py:614: ConvergenceWarning: Stochastic Optimizer: Maximum iterations (2500) reached and the optimization hasn't converged yet.\n",
      "  warnings.warn(\n"
     ]
    },
    {
     "name": "stdout",
     "output_type": "stream",
     "text": [
      "[CV] END hidden_layer_sizes=2, learning_rate_init=1e-05, max_iter=2500, random_state=42, solver=adam; total time= 1.8min\n"
     ]
    },
    {
     "name": "stderr",
     "output_type": "stream",
     "text": [
      "C:\\Users\\salda\\Anaconda3\\lib\\site-packages\\sklearn\\neural_network\\_multilayer_perceptron.py:614: ConvergenceWarning: Stochastic Optimizer: Maximum iterations (2500) reached and the optimization hasn't converged yet.\n",
      "  warnings.warn(\n"
     ]
    },
    {
     "name": "stdout",
     "output_type": "stream",
     "text": [
      "[CV] END hidden_layer_sizes=2, learning_rate_init=1e-05, max_iter=2500, random_state=42, solver=adam; total time= 1.8min\n"
     ]
    },
    {
     "name": "stderr",
     "output_type": "stream",
     "text": [
      "C:\\Users\\salda\\Anaconda3\\lib\\site-packages\\sklearn\\neural_network\\_multilayer_perceptron.py:614: ConvergenceWarning: Stochastic Optimizer: Maximum iterations (2500) reached and the optimization hasn't converged yet.\n",
      "  warnings.warn(\n"
     ]
    },
    {
     "name": "stdout",
     "output_type": "stream",
     "text": [
      "[CV] END hidden_layer_sizes=2, learning_rate_init=1e-05, max_iter=2500, random_state=42, solver=adam; total time= 1.8min\n",
      "[CV] END hidden_layer_sizes=3, learning_rate_init=0.1, max_iter=2500, random_state=42, solver=lbfgs; total time=   1.4s\n",
      "[CV] END hidden_layer_sizes=3, learning_rate_init=0.1, max_iter=2500, random_state=42, solver=lbfgs; total time=   6.2s\n",
      "[CV] END hidden_layer_sizes=3, learning_rate_init=0.1, max_iter=2500, random_state=42, solver=lbfgs; total time=   1.8s\n",
      "[CV] END hidden_layer_sizes=3, learning_rate_init=0.1, max_iter=2500, random_state=42, solver=lbfgs; total time=   3.8s\n",
      "[CV] END hidden_layer_sizes=3, learning_rate_init=0.1, max_iter=2500, random_state=42, solver=lbfgs; total time=   2.0s\n",
      "[CV] END hidden_layer_sizes=3, learning_rate_init=0.1, max_iter=2500, random_state=42, solver=adam; total time=   1.6s\n",
      "[CV] END hidden_layer_sizes=3, learning_rate_init=0.1, max_iter=2500, random_state=42, solver=adam; total time=   1.6s\n",
      "[CV] END hidden_layer_sizes=3, learning_rate_init=0.1, max_iter=2500, random_state=42, solver=adam; total time=   1.4s\n",
      "[CV] END hidden_layer_sizes=3, learning_rate_init=0.1, max_iter=2500, random_state=42, solver=adam; total time=   2.4s\n",
      "[CV] END hidden_layer_sizes=3, learning_rate_init=0.1, max_iter=2500, random_state=42, solver=adam; total time=   1.2s\n",
      "[CV] END hidden_layer_sizes=3, learning_rate_init=0.001, max_iter=2500, random_state=42, solver=lbfgs; total time=   1.4s\n",
      "[CV] END hidden_layer_sizes=3, learning_rate_init=0.001, max_iter=2500, random_state=42, solver=lbfgs; total time=   6.5s\n",
      "[CV] END hidden_layer_sizes=3, learning_rate_init=0.001, max_iter=2500, random_state=42, solver=lbfgs; total time=   1.6s\n",
      "[CV] END hidden_layer_sizes=3, learning_rate_init=0.001, max_iter=2500, random_state=42, solver=lbfgs; total time=   3.7s\n",
      "[CV] END hidden_layer_sizes=3, learning_rate_init=0.001, max_iter=2500, random_state=42, solver=lbfgs; total time=   2.0s\n",
      "[CV] END hidden_layer_sizes=3, learning_rate_init=0.001, max_iter=2500, random_state=42, solver=adam; total time=   8.2s\n",
      "[CV] END hidden_layer_sizes=3, learning_rate_init=0.001, max_iter=2500, random_state=42, solver=adam; total time=  11.1s\n",
      "[CV] END hidden_layer_sizes=3, learning_rate_init=0.001, max_iter=2500, random_state=42, solver=adam; total time=  15.8s\n",
      "[CV] END hidden_layer_sizes=3, learning_rate_init=0.001, max_iter=2500, random_state=42, solver=adam; total time=  11.7s\n",
      "[CV] END hidden_layer_sizes=3, learning_rate_init=0.001, max_iter=2500, random_state=42, solver=adam; total time=  19.8s\n",
      "[CV] END hidden_layer_sizes=3, learning_rate_init=1e-05, max_iter=2500, random_state=42, solver=lbfgs; total time=   1.4s\n",
      "[CV] END hidden_layer_sizes=3, learning_rate_init=1e-05, max_iter=2500, random_state=42, solver=lbfgs; total time=   6.1s\n",
      "[CV] END hidden_layer_sizes=3, learning_rate_init=1e-05, max_iter=2500, random_state=42, solver=lbfgs; total time=   1.6s\n",
      "[CV] END hidden_layer_sizes=3, learning_rate_init=1e-05, max_iter=2500, random_state=42, solver=lbfgs; total time=   3.7s\n",
      "[CV] END hidden_layer_sizes=3, learning_rate_init=1e-05, max_iter=2500, random_state=42, solver=lbfgs; total time=   2.0s\n"
     ]
    },
    {
     "name": "stderr",
     "output_type": "stream",
     "text": [
      "C:\\Users\\salda\\Anaconda3\\lib\\site-packages\\sklearn\\neural_network\\_multilayer_perceptron.py:614: ConvergenceWarning: Stochastic Optimizer: Maximum iterations (2500) reached and the optimization hasn't converged yet.\n",
      "  warnings.warn(\n"
     ]
    },
    {
     "name": "stdout",
     "output_type": "stream",
     "text": [
      "[CV] END hidden_layer_sizes=3, learning_rate_init=1e-05, max_iter=2500, random_state=42, solver=adam; total time= 1.9min\n"
     ]
    },
    {
     "name": "stderr",
     "output_type": "stream",
     "text": [
      "C:\\Users\\salda\\Anaconda3\\lib\\site-packages\\sklearn\\neural_network\\_multilayer_perceptron.py:614: ConvergenceWarning: Stochastic Optimizer: Maximum iterations (2500) reached and the optimization hasn't converged yet.\n",
      "  warnings.warn(\n"
     ]
    },
    {
     "name": "stdout",
     "output_type": "stream",
     "text": [
      "[CV] END hidden_layer_sizes=3, learning_rate_init=1e-05, max_iter=2500, random_state=42, solver=adam; total time= 1.9min\n"
     ]
    },
    {
     "name": "stderr",
     "output_type": "stream",
     "text": [
      "C:\\Users\\salda\\Anaconda3\\lib\\site-packages\\sklearn\\neural_network\\_multilayer_perceptron.py:614: ConvergenceWarning: Stochastic Optimizer: Maximum iterations (2500) reached and the optimization hasn't converged yet.\n",
      "  warnings.warn(\n"
     ]
    },
    {
     "name": "stdout",
     "output_type": "stream",
     "text": [
      "[CV] END hidden_layer_sizes=3, learning_rate_init=1e-05, max_iter=2500, random_state=42, solver=adam; total time= 2.0min\n"
     ]
    },
    {
     "name": "stderr",
     "output_type": "stream",
     "text": [
      "C:\\Users\\salda\\Anaconda3\\lib\\site-packages\\sklearn\\neural_network\\_multilayer_perceptron.py:614: ConvergenceWarning: Stochastic Optimizer: Maximum iterations (2500) reached and the optimization hasn't converged yet.\n",
      "  warnings.warn(\n"
     ]
    },
    {
     "name": "stdout",
     "output_type": "stream",
     "text": [
      "[CV] END hidden_layer_sizes=3, learning_rate_init=1e-05, max_iter=2500, random_state=42, solver=adam; total time= 1.9min\n"
     ]
    },
    {
     "name": "stderr",
     "output_type": "stream",
     "text": [
      "C:\\Users\\salda\\Anaconda3\\lib\\site-packages\\sklearn\\neural_network\\_multilayer_perceptron.py:614: ConvergenceWarning: Stochastic Optimizer: Maximum iterations (2500) reached and the optimization hasn't converged yet.\n",
      "  warnings.warn(\n"
     ]
    },
    {
     "name": "stdout",
     "output_type": "stream",
     "text": [
      "[CV] END hidden_layer_sizes=3, learning_rate_init=1e-05, max_iter=2500, random_state=42, solver=adam; total time= 1.8min\n",
      "[CV] END hidden_layer_sizes=4, learning_rate_init=0.1, max_iter=2500, random_state=42, solver=lbfgs; total time=   2.9s\n",
      "[CV] END hidden_layer_sizes=4, learning_rate_init=0.1, max_iter=2500, random_state=42, solver=lbfgs; total time=   9.1s\n",
      "[CV] END hidden_layer_sizes=4, learning_rate_init=0.1, max_iter=2500, random_state=42, solver=lbfgs; total time=   1.8s\n",
      "[CV] END hidden_layer_sizes=4, learning_rate_init=0.1, max_iter=2500, random_state=42, solver=lbfgs; total time=   2.8s\n",
      "[CV] END hidden_layer_sizes=4, learning_rate_init=0.1, max_iter=2500, random_state=42, solver=lbfgs; total time=   1.9s\n",
      "[CV] END hidden_layer_sizes=4, learning_rate_init=0.1, max_iter=2500, random_state=42, solver=adam; total time=   1.8s\n",
      "[CV] END hidden_layer_sizes=4, learning_rate_init=0.1, max_iter=2500, random_state=42, solver=adam; total time=   2.3s\n",
      "[CV] END hidden_layer_sizes=4, learning_rate_init=0.1, max_iter=2500, random_state=42, solver=adam; total time=   1.4s\n",
      "[CV] END hidden_layer_sizes=4, learning_rate_init=0.1, max_iter=2500, random_state=42, solver=adam; total time=   1.5s\n",
      "[CV] END hidden_layer_sizes=4, learning_rate_init=0.1, max_iter=2500, random_state=42, solver=adam; total time=   1.3s\n",
      "[CV] END hidden_layer_sizes=4, learning_rate_init=0.001, max_iter=2500, random_state=42, solver=lbfgs; total time=   2.7s\n",
      "[CV] END hidden_layer_sizes=4, learning_rate_init=0.001, max_iter=2500, random_state=42, solver=lbfgs; total time=   9.1s\n",
      "[CV] END hidden_layer_sizes=4, learning_rate_init=0.001, max_iter=2500, random_state=42, solver=lbfgs; total time=   1.8s\n",
      "[CV] END hidden_layer_sizes=4, learning_rate_init=0.001, max_iter=2500, random_state=42, solver=lbfgs; total time=   2.7s\n",
      "[CV] END hidden_layer_sizes=4, learning_rate_init=0.001, max_iter=2500, random_state=42, solver=lbfgs; total time=   1.9s\n",
      "[CV] END hidden_layer_sizes=4, learning_rate_init=0.001, max_iter=2500, random_state=42, solver=adam; total time=  10.1s\n",
      "[CV] END hidden_layer_sizes=4, learning_rate_init=0.001, max_iter=2500, random_state=42, solver=adam; total time=  17.6s\n",
      "[CV] END hidden_layer_sizes=4, learning_rate_init=0.001, max_iter=2500, random_state=42, solver=adam; total time=  12.2s\n",
      "[CV] END hidden_layer_sizes=4, learning_rate_init=0.001, max_iter=2500, random_state=42, solver=adam; total time=   9.6s\n",
      "[CV] END hidden_layer_sizes=4, learning_rate_init=0.001, max_iter=2500, random_state=42, solver=adam; total time=  13.2s\n",
      "[CV] END hidden_layer_sizes=4, learning_rate_init=1e-05, max_iter=2500, random_state=42, solver=lbfgs; total time=   2.8s\n",
      "[CV] END hidden_layer_sizes=4, learning_rate_init=1e-05, max_iter=2500, random_state=42, solver=lbfgs; total time=   9.3s\n",
      "[CV] END hidden_layer_sizes=4, learning_rate_init=1e-05, max_iter=2500, random_state=42, solver=lbfgs; total time=   1.9s\n",
      "[CV] END hidden_layer_sizes=4, learning_rate_init=1e-05, max_iter=2500, random_state=42, solver=lbfgs; total time=   3.1s\n",
      "[CV] END hidden_layer_sizes=4, learning_rate_init=1e-05, max_iter=2500, random_state=42, solver=lbfgs; total time=   1.9s\n"
     ]
    },
    {
     "name": "stderr",
     "output_type": "stream",
     "text": [
      "C:\\Users\\salda\\Anaconda3\\lib\\site-packages\\sklearn\\neural_network\\_multilayer_perceptron.py:614: ConvergenceWarning: Stochastic Optimizer: Maximum iterations (2500) reached and the optimization hasn't converged yet.\n",
      "  warnings.warn(\n"
     ]
    },
    {
     "name": "stdout",
     "output_type": "stream",
     "text": [
      "[CV] END hidden_layer_sizes=4, learning_rate_init=1e-05, max_iter=2500, random_state=42, solver=adam; total time= 1.9min\n"
     ]
    },
    {
     "name": "stderr",
     "output_type": "stream",
     "text": [
      "C:\\Users\\salda\\Anaconda3\\lib\\site-packages\\sklearn\\neural_network\\_multilayer_perceptron.py:614: ConvergenceWarning: Stochastic Optimizer: Maximum iterations (2500) reached and the optimization hasn't converged yet.\n",
      "  warnings.warn(\n"
     ]
    },
    {
     "name": "stdout",
     "output_type": "stream",
     "text": [
      "[CV] END hidden_layer_sizes=4, learning_rate_init=1e-05, max_iter=2500, random_state=42, solver=adam; total time= 1.9min\n"
     ]
    },
    {
     "name": "stderr",
     "output_type": "stream",
     "text": [
      "C:\\Users\\salda\\Anaconda3\\lib\\site-packages\\sklearn\\neural_network\\_multilayer_perceptron.py:614: ConvergenceWarning: Stochastic Optimizer: Maximum iterations (2500) reached and the optimization hasn't converged yet.\n",
      "  warnings.warn(\n"
     ]
    },
    {
     "name": "stdout",
     "output_type": "stream",
     "text": [
      "[CV] END hidden_layer_sizes=4, learning_rate_init=1e-05, max_iter=2500, random_state=42, solver=adam; total time= 1.9min\n"
     ]
    },
    {
     "name": "stderr",
     "output_type": "stream",
     "text": [
      "C:\\Users\\salda\\Anaconda3\\lib\\site-packages\\sklearn\\neural_network\\_multilayer_perceptron.py:614: ConvergenceWarning: Stochastic Optimizer: Maximum iterations (2500) reached and the optimization hasn't converged yet.\n",
      "  warnings.warn(\n"
     ]
    },
    {
     "name": "stdout",
     "output_type": "stream",
     "text": [
      "[CV] END hidden_layer_sizes=4, learning_rate_init=1e-05, max_iter=2500, random_state=42, solver=adam; total time= 1.9min\n"
     ]
    },
    {
     "name": "stderr",
     "output_type": "stream",
     "text": [
      "C:\\Users\\salda\\Anaconda3\\lib\\site-packages\\sklearn\\neural_network\\_multilayer_perceptron.py:614: ConvergenceWarning: Stochastic Optimizer: Maximum iterations (2500) reached and the optimization hasn't converged yet.\n",
      "  warnings.warn(\n"
     ]
    },
    {
     "name": "stdout",
     "output_type": "stream",
     "text": [
      "[CV] END hidden_layer_sizes=4, learning_rate_init=1e-05, max_iter=2500, random_state=42, solver=adam; total time= 1.8min\n",
      "[CV] END hidden_layer_sizes=5, learning_rate_init=0.1, max_iter=2500, random_state=42, solver=lbfgs; total time=   4.6s\n",
      "[CV] END hidden_layer_sizes=5, learning_rate_init=0.1, max_iter=2500, random_state=42, solver=lbfgs; total time=   4.4s\n",
      "[CV] END hidden_layer_sizes=5, learning_rate_init=0.1, max_iter=2500, random_state=42, solver=lbfgs; total time=   3.5s\n",
      "[CV] END hidden_layer_sizes=5, learning_rate_init=0.1, max_iter=2500, random_state=42, solver=lbfgs; total time=   4.2s\n",
      "[CV] END hidden_layer_sizes=5, learning_rate_init=0.1, max_iter=2500, random_state=42, solver=lbfgs; total time=   6.0s\n",
      "[CV] END hidden_layer_sizes=5, learning_rate_init=0.1, max_iter=2500, random_state=42, solver=adam; total time=   1.5s\n",
      "[CV] END hidden_layer_sizes=5, learning_rate_init=0.1, max_iter=2500, random_state=42, solver=adam; total time=   0.9s\n",
      "[CV] END hidden_layer_sizes=5, learning_rate_init=0.1, max_iter=2500, random_state=42, solver=adam; total time=   1.3s\n",
      "[CV] END hidden_layer_sizes=5, learning_rate_init=0.1, max_iter=2500, random_state=42, solver=adam; total time=   0.7s\n",
      "[CV] END hidden_layer_sizes=5, learning_rate_init=0.1, max_iter=2500, random_state=42, solver=adam; total time=   1.3s\n",
      "[CV] END hidden_layer_sizes=5, learning_rate_init=0.001, max_iter=2500, random_state=42, solver=lbfgs; total time=   4.7s\n",
      "[CV] END hidden_layer_sizes=5, learning_rate_init=0.001, max_iter=2500, random_state=42, solver=lbfgs; total time=   5.2s\n",
      "[CV] END hidden_layer_sizes=5, learning_rate_init=0.001, max_iter=2500, random_state=42, solver=lbfgs; total time=   3.4s\n",
      "[CV] END hidden_layer_sizes=5, learning_rate_init=0.001, max_iter=2500, random_state=42, solver=lbfgs; total time=   4.2s\n",
      "[CV] END hidden_layer_sizes=5, learning_rate_init=0.001, max_iter=2500, random_state=42, solver=lbfgs; total time=   7.3s\n",
      "[CV] END hidden_layer_sizes=5, learning_rate_init=0.001, max_iter=2500, random_state=42, solver=adam; total time=  20.1s\n",
      "[CV] END hidden_layer_sizes=5, learning_rate_init=0.001, max_iter=2500, random_state=42, solver=adam; total time=  14.5s\n",
      "[CV] END hidden_layer_sizes=5, learning_rate_init=0.001, max_iter=2500, random_state=42, solver=adam; total time=  12.2s\n",
      "[CV] END hidden_layer_sizes=5, learning_rate_init=0.001, max_iter=2500, random_state=42, solver=adam; total time=   9.6s\n",
      "[CV] END hidden_layer_sizes=5, learning_rate_init=0.001, max_iter=2500, random_state=42, solver=adam; total time=  19.0s\n",
      "[CV] END hidden_layer_sizes=5, learning_rate_init=1e-05, max_iter=2500, random_state=42, solver=lbfgs; total time=   4.6s\n",
      "[CV] END hidden_layer_sizes=5, learning_rate_init=1e-05, max_iter=2500, random_state=42, solver=lbfgs; total time=   4.6s\n",
      "[CV] END hidden_layer_sizes=5, learning_rate_init=1e-05, max_iter=2500, random_state=42, solver=lbfgs; total time=   3.5s\n",
      "[CV] END hidden_layer_sizes=5, learning_rate_init=1e-05, max_iter=2500, random_state=42, solver=lbfgs; total time=   4.3s\n",
      "[CV] END hidden_layer_sizes=5, learning_rate_init=1e-05, max_iter=2500, random_state=42, solver=lbfgs; total time=   6.1s\n"
     ]
    },
    {
     "name": "stderr",
     "output_type": "stream",
     "text": [
      "C:\\Users\\salda\\Anaconda3\\lib\\site-packages\\sklearn\\neural_network\\_multilayer_perceptron.py:614: ConvergenceWarning: Stochastic Optimizer: Maximum iterations (2500) reached and the optimization hasn't converged yet.\n",
      "  warnings.warn(\n"
     ]
    },
    {
     "name": "stdout",
     "output_type": "stream",
     "text": [
      "[CV] END hidden_layer_sizes=5, learning_rate_init=1e-05, max_iter=2500, random_state=42, solver=adam; total time= 1.9min\n"
     ]
    },
    {
     "name": "stderr",
     "output_type": "stream",
     "text": [
      "C:\\Users\\salda\\Anaconda3\\lib\\site-packages\\sklearn\\neural_network\\_multilayer_perceptron.py:614: ConvergenceWarning: Stochastic Optimizer: Maximum iterations (2500) reached and the optimization hasn't converged yet.\n",
      "  warnings.warn(\n"
     ]
    },
    {
     "name": "stdout",
     "output_type": "stream",
     "text": [
      "[CV] END hidden_layer_sizes=5, learning_rate_init=1e-05, max_iter=2500, random_state=42, solver=adam; total time= 1.9min\n"
     ]
    },
    {
     "name": "stderr",
     "output_type": "stream",
     "text": [
      "C:\\Users\\salda\\Anaconda3\\lib\\site-packages\\sklearn\\neural_network\\_multilayer_perceptron.py:614: ConvergenceWarning: Stochastic Optimizer: Maximum iterations (2500) reached and the optimization hasn't converged yet.\n",
      "  warnings.warn(\n"
     ]
    },
    {
     "name": "stdout",
     "output_type": "stream",
     "text": [
      "[CV] END hidden_layer_sizes=5, learning_rate_init=1e-05, max_iter=2500, random_state=42, solver=adam; total time= 2.0min\n"
     ]
    },
    {
     "name": "stderr",
     "output_type": "stream",
     "text": [
      "C:\\Users\\salda\\Anaconda3\\lib\\site-packages\\sklearn\\neural_network\\_multilayer_perceptron.py:614: ConvergenceWarning: Stochastic Optimizer: Maximum iterations (2500) reached and the optimization hasn't converged yet.\n",
      "  warnings.warn(\n"
     ]
    },
    {
     "name": "stdout",
     "output_type": "stream",
     "text": [
      "[CV] END hidden_layer_sizes=5, learning_rate_init=1e-05, max_iter=2500, random_state=42, solver=adam; total time= 1.9min\n"
     ]
    },
    {
     "name": "stderr",
     "output_type": "stream",
     "text": [
      "C:\\Users\\salda\\Anaconda3\\lib\\site-packages\\sklearn\\neural_network\\_multilayer_perceptron.py:614: ConvergenceWarning: Stochastic Optimizer: Maximum iterations (2500) reached and the optimization hasn't converged yet.\n",
      "  warnings.warn(\n"
     ]
    },
    {
     "name": "stdout",
     "output_type": "stream",
     "text": [
      "[CV] END hidden_layer_sizes=5, learning_rate_init=1e-05, max_iter=2500, random_state=42, solver=adam; total time= 2.0min\n",
      "[CV] END hidden_layer_sizes=6, learning_rate_init=0.1, max_iter=2500, random_state=42, solver=lbfgs; total time=   6.1s\n",
      "[CV] END hidden_layer_sizes=6, learning_rate_init=0.1, max_iter=2500, random_state=42, solver=lbfgs; total time=   6.3s\n",
      "[CV] END hidden_layer_sizes=6, learning_rate_init=0.1, max_iter=2500, random_state=42, solver=lbfgs; total time=   8.4s\n",
      "[CV] END hidden_layer_sizes=6, learning_rate_init=0.1, max_iter=2500, random_state=42, solver=lbfgs; total time=   5.2s\n",
      "[CV] END hidden_layer_sizes=6, learning_rate_init=0.1, max_iter=2500, random_state=42, solver=lbfgs; total time=  14.1s\n",
      "[CV] END hidden_layer_sizes=6, learning_rate_init=0.1, max_iter=2500, random_state=42, solver=adam; total time=   2.0s\n",
      "[CV] END hidden_layer_sizes=6, learning_rate_init=0.1, max_iter=2500, random_state=42, solver=adam; total time=   2.1s\n",
      "[CV] END hidden_layer_sizes=6, learning_rate_init=0.1, max_iter=2500, random_state=42, solver=adam; total time=   2.1s\n",
      "[CV] END hidden_layer_sizes=6, learning_rate_init=0.1, max_iter=2500, random_state=42, solver=adam; total time=   1.0s\n",
      "[CV] END hidden_layer_sizes=6, learning_rate_init=0.1, max_iter=2500, random_state=42, solver=adam; total time=   2.7s\n",
      "[CV] END hidden_layer_sizes=6, learning_rate_init=0.001, max_iter=2500, random_state=42, solver=lbfgs; total time=   6.4s\n",
      "[CV] END hidden_layer_sizes=6, learning_rate_init=0.001, max_iter=2500, random_state=42, solver=lbfgs; total time=   6.3s\n",
      "[CV] END hidden_layer_sizes=6, learning_rate_init=0.001, max_iter=2500, random_state=42, solver=lbfgs; total time=   8.1s\n",
      "[CV] END hidden_layer_sizes=6, learning_rate_init=0.001, max_iter=2500, random_state=42, solver=lbfgs; total time=   5.2s\n",
      "[CV] END hidden_layer_sizes=6, learning_rate_init=0.001, max_iter=2500, random_state=42, solver=lbfgs; total time=  14.6s\n",
      "[CV] END hidden_layer_sizes=6, learning_rate_init=0.001, max_iter=2500, random_state=42, solver=adam; total time=  13.8s\n",
      "[CV] END hidden_layer_sizes=6, learning_rate_init=0.001, max_iter=2500, random_state=42, solver=adam; total time=  13.7s\n",
      "[CV] END hidden_layer_sizes=6, learning_rate_init=0.001, max_iter=2500, random_state=42, solver=adam; total time=  16.2s\n",
      "[CV] END hidden_layer_sizes=6, learning_rate_init=0.001, max_iter=2500, random_state=42, solver=adam; total time=  16.7s\n",
      "[CV] END hidden_layer_sizes=6, learning_rate_init=0.001, max_iter=2500, random_state=42, solver=adam; total time=  17.0s\n",
      "[CV] END hidden_layer_sizes=6, learning_rate_init=1e-05, max_iter=2500, random_state=42, solver=lbfgs; total time=   6.0s\n",
      "[CV] END hidden_layer_sizes=6, learning_rate_init=1e-05, max_iter=2500, random_state=42, solver=lbfgs; total time=   6.7s\n",
      "[CV] END hidden_layer_sizes=6, learning_rate_init=1e-05, max_iter=2500, random_state=42, solver=lbfgs; total time=   8.3s\n",
      "[CV] END hidden_layer_sizes=6, learning_rate_init=1e-05, max_iter=2500, random_state=42, solver=lbfgs; total time=   5.2s\n",
      "[CV] END hidden_layer_sizes=6, learning_rate_init=1e-05, max_iter=2500, random_state=42, solver=lbfgs; total time=  15.1s\n"
     ]
    },
    {
     "name": "stderr",
     "output_type": "stream",
     "text": [
      "C:\\Users\\salda\\Anaconda3\\lib\\site-packages\\sklearn\\neural_network\\_multilayer_perceptron.py:614: ConvergenceWarning: Stochastic Optimizer: Maximum iterations (2500) reached and the optimization hasn't converged yet.\n",
      "  warnings.warn(\n"
     ]
    },
    {
     "name": "stdout",
     "output_type": "stream",
     "text": [
      "[CV] END hidden_layer_sizes=6, learning_rate_init=1e-05, max_iter=2500, random_state=42, solver=adam; total time= 2.0min\n"
     ]
    },
    {
     "name": "stderr",
     "output_type": "stream",
     "text": [
      "C:\\Users\\salda\\Anaconda3\\lib\\site-packages\\sklearn\\neural_network\\_multilayer_perceptron.py:614: ConvergenceWarning: Stochastic Optimizer: Maximum iterations (2500) reached and the optimization hasn't converged yet.\n",
      "  warnings.warn(\n"
     ]
    },
    {
     "name": "stdout",
     "output_type": "stream",
     "text": [
      "[CV] END hidden_layer_sizes=6, learning_rate_init=1e-05, max_iter=2500, random_state=42, solver=adam; total time= 1.9min\n"
     ]
    },
    {
     "name": "stderr",
     "output_type": "stream",
     "text": [
      "C:\\Users\\salda\\Anaconda3\\lib\\site-packages\\sklearn\\neural_network\\_multilayer_perceptron.py:614: ConvergenceWarning: Stochastic Optimizer: Maximum iterations (2500) reached and the optimization hasn't converged yet.\n",
      "  warnings.warn(\n"
     ]
    },
    {
     "name": "stdout",
     "output_type": "stream",
     "text": [
      "[CV] END hidden_layer_sizes=6, learning_rate_init=1e-05, max_iter=2500, random_state=42, solver=adam; total time= 1.9min\n"
     ]
    },
    {
     "name": "stderr",
     "output_type": "stream",
     "text": [
      "C:\\Users\\salda\\Anaconda3\\lib\\site-packages\\sklearn\\neural_network\\_multilayer_perceptron.py:614: ConvergenceWarning: Stochastic Optimizer: Maximum iterations (2500) reached and the optimization hasn't converged yet.\n",
      "  warnings.warn(\n"
     ]
    },
    {
     "name": "stdout",
     "output_type": "stream",
     "text": [
      "[CV] END hidden_layer_sizes=6, learning_rate_init=1e-05, max_iter=2500, random_state=42, solver=adam; total time= 1.9min\n"
     ]
    },
    {
     "name": "stderr",
     "output_type": "stream",
     "text": [
      "C:\\Users\\salda\\Anaconda3\\lib\\site-packages\\sklearn\\neural_network\\_multilayer_perceptron.py:614: ConvergenceWarning: Stochastic Optimizer: Maximum iterations (2500) reached and the optimization hasn't converged yet.\n",
      "  warnings.warn(\n"
     ]
    },
    {
     "name": "stdout",
     "output_type": "stream",
     "text": [
      "[CV] END hidden_layer_sizes=6, learning_rate_init=1e-05, max_iter=2500, random_state=42, solver=adam; total time= 2.0min\n",
      "[CV] END hidden_layer_sizes=7, learning_rate_init=0.1, max_iter=2500, random_state=42, solver=lbfgs; total time=   7.0s\n",
      "[CV] END hidden_layer_sizes=7, learning_rate_init=0.1, max_iter=2500, random_state=42, solver=lbfgs; total time=  11.9s\n",
      "[CV] END hidden_layer_sizes=7, learning_rate_init=0.1, max_iter=2500, random_state=42, solver=lbfgs; total time=  10.8s\n",
      "[CV] END hidden_layer_sizes=7, learning_rate_init=0.1, max_iter=2500, random_state=42, solver=lbfgs; total time=  11.0s\n",
      "[CV] END hidden_layer_sizes=7, learning_rate_init=0.1, max_iter=2500, random_state=42, solver=lbfgs; total time=  12.5s\n",
      "[CV] END hidden_layer_sizes=7, learning_rate_init=0.1, max_iter=2500, random_state=42, solver=adam; total time=   3.7s\n",
      "[CV] END hidden_layer_sizes=7, learning_rate_init=0.1, max_iter=2500, random_state=42, solver=adam; total time=   1.7s\n",
      "[CV] END hidden_layer_sizes=7, learning_rate_init=0.1, max_iter=2500, random_state=42, solver=adam; total time=   1.2s\n",
      "[CV] END hidden_layer_sizes=7, learning_rate_init=0.1, max_iter=2500, random_state=42, solver=adam; total time=   3.7s\n",
      "[CV] END hidden_layer_sizes=7, learning_rate_init=0.1, max_iter=2500, random_state=42, solver=adam; total time=   1.8s\n",
      "[CV] END hidden_layer_sizes=7, learning_rate_init=0.001, max_iter=2500, random_state=42, solver=lbfgs; total time=   6.9s\n",
      "[CV] END hidden_layer_sizes=7, learning_rate_init=0.001, max_iter=2500, random_state=42, solver=lbfgs; total time=  12.3s\n",
      "[CV] END hidden_layer_sizes=7, learning_rate_init=0.001, max_iter=2500, random_state=42, solver=lbfgs; total time=  10.5s\n",
      "[CV] END hidden_layer_sizes=7, learning_rate_init=0.001, max_iter=2500, random_state=42, solver=lbfgs; total time=  11.1s\n",
      "[CV] END hidden_layer_sizes=7, learning_rate_init=0.001, max_iter=2500, random_state=42, solver=lbfgs; total time=  12.2s\n",
      "[CV] END hidden_layer_sizes=7, learning_rate_init=0.001, max_iter=2500, random_state=42, solver=adam; total time=  23.8s\n",
      "[CV] END hidden_layer_sizes=7, learning_rate_init=0.001, max_iter=2500, random_state=42, solver=adam; total time=  19.1s\n",
      "[CV] END hidden_layer_sizes=7, learning_rate_init=0.001, max_iter=2500, random_state=42, solver=adam; total time=  17.6s\n",
      "[CV] END hidden_layer_sizes=7, learning_rate_init=0.001, max_iter=2500, random_state=42, solver=adam; total time=  14.9s\n",
      "[CV] END hidden_layer_sizes=7, learning_rate_init=0.001, max_iter=2500, random_state=42, solver=adam; total time=  10.8s\n",
      "[CV] END hidden_layer_sizes=7, learning_rate_init=1e-05, max_iter=2500, random_state=42, solver=lbfgs; total time=   6.3s\n",
      "[CV] END hidden_layer_sizes=7, learning_rate_init=1e-05, max_iter=2500, random_state=42, solver=lbfgs; total time=  11.9s\n",
      "[CV] END hidden_layer_sizes=7, learning_rate_init=1e-05, max_iter=2500, random_state=42, solver=lbfgs; total time=  10.6s\n",
      "[CV] END hidden_layer_sizes=7, learning_rate_init=1e-05, max_iter=2500, random_state=42, solver=lbfgs; total time=  11.4s\n",
      "[CV] END hidden_layer_sizes=7, learning_rate_init=1e-05, max_iter=2500, random_state=42, solver=lbfgs; total time=  11.8s\n"
     ]
    },
    {
     "name": "stderr",
     "output_type": "stream",
     "text": [
      "C:\\Users\\salda\\Anaconda3\\lib\\site-packages\\sklearn\\neural_network\\_multilayer_perceptron.py:614: ConvergenceWarning: Stochastic Optimizer: Maximum iterations (2500) reached and the optimization hasn't converged yet.\n",
      "  warnings.warn(\n"
     ]
    },
    {
     "name": "stdout",
     "output_type": "stream",
     "text": [
      "[CV] END hidden_layer_sizes=7, learning_rate_init=1e-05, max_iter=2500, random_state=42, solver=adam; total time= 2.0min\n"
     ]
    },
    {
     "name": "stderr",
     "output_type": "stream",
     "text": [
      "C:\\Users\\salda\\Anaconda3\\lib\\site-packages\\sklearn\\neural_network\\_multilayer_perceptron.py:614: ConvergenceWarning: Stochastic Optimizer: Maximum iterations (2500) reached and the optimization hasn't converged yet.\n",
      "  warnings.warn(\n"
     ]
    },
    {
     "name": "stdout",
     "output_type": "stream",
     "text": [
      "[CV] END hidden_layer_sizes=7, learning_rate_init=1e-05, max_iter=2500, random_state=42, solver=adam; total time= 1.9min\n"
     ]
    },
    {
     "name": "stderr",
     "output_type": "stream",
     "text": [
      "C:\\Users\\salda\\Anaconda3\\lib\\site-packages\\sklearn\\neural_network\\_multilayer_perceptron.py:614: ConvergenceWarning: Stochastic Optimizer: Maximum iterations (2500) reached and the optimization hasn't converged yet.\n",
      "  warnings.warn(\n"
     ]
    },
    {
     "name": "stdout",
     "output_type": "stream",
     "text": [
      "[CV] END hidden_layer_sizes=7, learning_rate_init=1e-05, max_iter=2500, random_state=42, solver=adam; total time= 2.0min\n"
     ]
    },
    {
     "name": "stderr",
     "output_type": "stream",
     "text": [
      "C:\\Users\\salda\\Anaconda3\\lib\\site-packages\\sklearn\\neural_network\\_multilayer_perceptron.py:614: ConvergenceWarning: Stochastic Optimizer: Maximum iterations (2500) reached and the optimization hasn't converged yet.\n",
      "  warnings.warn(\n"
     ]
    },
    {
     "name": "stdout",
     "output_type": "stream",
     "text": [
      "[CV] END hidden_layer_sizes=7, learning_rate_init=1e-05, max_iter=2500, random_state=42, solver=adam; total time= 1.9min\n"
     ]
    },
    {
     "name": "stderr",
     "output_type": "stream",
     "text": [
      "C:\\Users\\salda\\Anaconda3\\lib\\site-packages\\sklearn\\neural_network\\_multilayer_perceptron.py:614: ConvergenceWarning: Stochastic Optimizer: Maximum iterations (2500) reached and the optimization hasn't converged yet.\n",
      "  warnings.warn(\n"
     ]
    },
    {
     "name": "stdout",
     "output_type": "stream",
     "text": [
      "[CV] END hidden_layer_sizes=7, learning_rate_init=1e-05, max_iter=2500, random_state=42, solver=adam; total time= 1.9min\n",
      "[CV] END hidden_layer_sizes=8, learning_rate_init=0.1, max_iter=2500, random_state=42, solver=lbfgs; total time=   8.4s\n",
      "[CV] END hidden_layer_sizes=8, learning_rate_init=0.1, max_iter=2500, random_state=42, solver=lbfgs; total time=  14.6s\n",
      "[CV] END hidden_layer_sizes=8, learning_rate_init=0.1, max_iter=2500, random_state=42, solver=lbfgs; total time=  17.0s\n"
     ]
    },
    {
     "name": "stderr",
     "output_type": "stream",
     "text": [
      "C:\\Users\\salda\\Anaconda3\\lib\\site-packages\\sklearn\\neural_network\\_multilayer_perceptron.py:500: ConvergenceWarning: lbfgs failed to converge (status=1):\n",
      "STOP: TOTAL NO. of ITERATIONS REACHED LIMIT.\n",
      "\n",
      "Increase the number of iterations (max_iter) or scale the data as shown in:\n",
      "    https://scikit-learn.org/stable/modules/preprocessing.html\n",
      "  self.n_iter_ = _check_optimize_result(\"lbfgs\", opt_res, self.max_iter)\n"
     ]
    },
    {
     "name": "stdout",
     "output_type": "stream",
     "text": [
      "[CV] END hidden_layer_sizes=8, learning_rate_init=0.1, max_iter=2500, random_state=42, solver=lbfgs; total time=  18.6s\n",
      "[CV] END hidden_layer_sizes=8, learning_rate_init=0.1, max_iter=2500, random_state=42, solver=lbfgs; total time=  15.8s\n",
      "[CV] END hidden_layer_sizes=8, learning_rate_init=0.1, max_iter=2500, random_state=42, solver=adam; total time=   1.4s\n",
      "[CV] END hidden_layer_sizes=8, learning_rate_init=0.1, max_iter=2500, random_state=42, solver=adam; total time=   1.4s\n",
      "[CV] END hidden_layer_sizes=8, learning_rate_init=0.1, max_iter=2500, random_state=42, solver=adam; total time=   1.5s\n",
      "[CV] END hidden_layer_sizes=8, learning_rate_init=0.1, max_iter=2500, random_state=42, solver=adam; total time=   1.7s\n",
      "[CV] END hidden_layer_sizes=8, learning_rate_init=0.1, max_iter=2500, random_state=42, solver=adam; total time=   0.8s\n",
      "[CV] END hidden_layer_sizes=8, learning_rate_init=0.001, max_iter=2500, random_state=42, solver=lbfgs; total time=   8.6s\n",
      "[CV] END hidden_layer_sizes=8, learning_rate_init=0.001, max_iter=2500, random_state=42, solver=lbfgs; total time=  14.7s\n",
      "[CV] END hidden_layer_sizes=8, learning_rate_init=0.001, max_iter=2500, random_state=42, solver=lbfgs; total time=  17.3s\n"
     ]
    },
    {
     "name": "stderr",
     "output_type": "stream",
     "text": [
      "C:\\Users\\salda\\Anaconda3\\lib\\site-packages\\sklearn\\neural_network\\_multilayer_perceptron.py:500: ConvergenceWarning: lbfgs failed to converge (status=1):\n",
      "STOP: TOTAL NO. of ITERATIONS REACHED LIMIT.\n",
      "\n",
      "Increase the number of iterations (max_iter) or scale the data as shown in:\n",
      "    https://scikit-learn.org/stable/modules/preprocessing.html\n",
      "  self.n_iter_ = _check_optimize_result(\"lbfgs\", opt_res, self.max_iter)\n"
     ]
    },
    {
     "name": "stdout",
     "output_type": "stream",
     "text": [
      "[CV] END hidden_layer_sizes=8, learning_rate_init=0.001, max_iter=2500, random_state=42, solver=lbfgs; total time=  18.2s\n",
      "[CV] END hidden_layer_sizes=8, learning_rate_init=0.001, max_iter=2500, random_state=42, solver=lbfgs; total time=  14.5s\n",
      "[CV] END hidden_layer_sizes=8, learning_rate_init=0.001, max_iter=2500, random_state=42, solver=adam; total time=  21.8s\n",
      "[CV] END hidden_layer_sizes=8, learning_rate_init=0.001, max_iter=2500, random_state=42, solver=adam; total time=  13.4s\n",
      "[CV] END hidden_layer_sizes=8, learning_rate_init=0.001, max_iter=2500, random_state=42, solver=adam; total time=  18.5s\n",
      "[CV] END hidden_layer_sizes=8, learning_rate_init=0.001, max_iter=2500, random_state=42, solver=adam; total time=  12.2s\n",
      "[CV] END hidden_layer_sizes=8, learning_rate_init=0.001, max_iter=2500, random_state=42, solver=adam; total time=  24.5s\n",
      "[CV] END hidden_layer_sizes=8, learning_rate_init=1e-05, max_iter=2500, random_state=42, solver=lbfgs; total time=   8.3s\n",
      "[CV] END hidden_layer_sizes=8, learning_rate_init=1e-05, max_iter=2500, random_state=42, solver=lbfgs; total time=  14.5s\n",
      "[CV] END hidden_layer_sizes=8, learning_rate_init=1e-05, max_iter=2500, random_state=42, solver=lbfgs; total time=  17.1s\n"
     ]
    },
    {
     "name": "stderr",
     "output_type": "stream",
     "text": [
      "C:\\Users\\salda\\Anaconda3\\lib\\site-packages\\sklearn\\neural_network\\_multilayer_perceptron.py:500: ConvergenceWarning: lbfgs failed to converge (status=1):\n",
      "STOP: TOTAL NO. of ITERATIONS REACHED LIMIT.\n",
      "\n",
      "Increase the number of iterations (max_iter) or scale the data as shown in:\n",
      "    https://scikit-learn.org/stable/modules/preprocessing.html\n",
      "  self.n_iter_ = _check_optimize_result(\"lbfgs\", opt_res, self.max_iter)\n"
     ]
    },
    {
     "name": "stdout",
     "output_type": "stream",
     "text": [
      "[CV] END hidden_layer_sizes=8, learning_rate_init=1e-05, max_iter=2500, random_state=42, solver=lbfgs; total time=  18.2s\n",
      "[CV] END hidden_layer_sizes=8, learning_rate_init=1e-05, max_iter=2500, random_state=42, solver=lbfgs; total time=  14.5s\n"
     ]
    },
    {
     "name": "stderr",
     "output_type": "stream",
     "text": [
      "C:\\Users\\salda\\Anaconda3\\lib\\site-packages\\sklearn\\neural_network\\_multilayer_perceptron.py:614: ConvergenceWarning: Stochastic Optimizer: Maximum iterations (2500) reached and the optimization hasn't converged yet.\n",
      "  warnings.warn(\n"
     ]
    },
    {
     "name": "stdout",
     "output_type": "stream",
     "text": [
      "[CV] END hidden_layer_sizes=8, learning_rate_init=1e-05, max_iter=2500, random_state=42, solver=adam; total time= 2.0min\n"
     ]
    },
    {
     "name": "stderr",
     "output_type": "stream",
     "text": [
      "C:\\Users\\salda\\Anaconda3\\lib\\site-packages\\sklearn\\neural_network\\_multilayer_perceptron.py:614: ConvergenceWarning: Stochastic Optimizer: Maximum iterations (2500) reached and the optimization hasn't converged yet.\n",
      "  warnings.warn(\n"
     ]
    },
    {
     "name": "stdout",
     "output_type": "stream",
     "text": [
      "[CV] END hidden_layer_sizes=8, learning_rate_init=1e-05, max_iter=2500, random_state=42, solver=adam; total time= 2.0min\n"
     ]
    },
    {
     "name": "stderr",
     "output_type": "stream",
     "text": [
      "C:\\Users\\salda\\Anaconda3\\lib\\site-packages\\sklearn\\neural_network\\_multilayer_perceptron.py:614: ConvergenceWarning: Stochastic Optimizer: Maximum iterations (2500) reached and the optimization hasn't converged yet.\n",
      "  warnings.warn(\n"
     ]
    },
    {
     "name": "stdout",
     "output_type": "stream",
     "text": [
      "[CV] END hidden_layer_sizes=8, learning_rate_init=1e-05, max_iter=2500, random_state=42, solver=adam; total time= 2.0min\n"
     ]
    },
    {
     "name": "stderr",
     "output_type": "stream",
     "text": [
      "C:\\Users\\salda\\Anaconda3\\lib\\site-packages\\sklearn\\neural_network\\_multilayer_perceptron.py:614: ConvergenceWarning: Stochastic Optimizer: Maximum iterations (2500) reached and the optimization hasn't converged yet.\n",
      "  warnings.warn(\n"
     ]
    },
    {
     "name": "stdout",
     "output_type": "stream",
     "text": [
      "[CV] END hidden_layer_sizes=8, learning_rate_init=1e-05, max_iter=2500, random_state=42, solver=adam; total time= 2.0min\n"
     ]
    },
    {
     "name": "stderr",
     "output_type": "stream",
     "text": [
      "C:\\Users\\salda\\Anaconda3\\lib\\site-packages\\sklearn\\neural_network\\_multilayer_perceptron.py:614: ConvergenceWarning: Stochastic Optimizer: Maximum iterations (2500) reached and the optimization hasn't converged yet.\n",
      "  warnings.warn(\n"
     ]
    },
    {
     "name": "stdout",
     "output_type": "stream",
     "text": [
      "[CV] END hidden_layer_sizes=8, learning_rate_init=1e-05, max_iter=2500, random_state=42, solver=adam; total time= 2.0min\n",
      "[CV] END hidden_layer_sizes=9, learning_rate_init=0.1, max_iter=2500, random_state=42, solver=lbfgs; total time=   9.8s\n",
      "[CV] END hidden_layer_sizes=9, learning_rate_init=0.1, max_iter=2500, random_state=42, solver=lbfgs; total time=  20.5s\n",
      "[CV] END hidden_layer_sizes=9, learning_rate_init=0.1, max_iter=2500, random_state=42, solver=lbfgs; total time=  12.6s\n",
      "[CV] END hidden_layer_sizes=9, learning_rate_init=0.1, max_iter=2500, random_state=42, solver=lbfgs; total time=  14.7s\n",
      "[CV] END hidden_layer_sizes=9, learning_rate_init=0.1, max_iter=2500, random_state=42, solver=lbfgs; total time=  13.1s\n",
      "[CV] END hidden_layer_sizes=9, learning_rate_init=0.1, max_iter=2500, random_state=42, solver=adam; total time=   3.5s\n",
      "[CV] END hidden_layer_sizes=9, learning_rate_init=0.1, max_iter=2500, random_state=42, solver=adam; total time=   1.5s\n",
      "[CV] END hidden_layer_sizes=9, learning_rate_init=0.1, max_iter=2500, random_state=42, solver=adam; total time=   1.7s\n",
      "[CV] END hidden_layer_sizes=9, learning_rate_init=0.1, max_iter=2500, random_state=42, solver=adam; total time=   1.0s\n",
      "[CV] END hidden_layer_sizes=9, learning_rate_init=0.1, max_iter=2500, random_state=42, solver=adam; total time=   3.4s\n",
      "[CV] END hidden_layer_sizes=9, learning_rate_init=0.001, max_iter=2500, random_state=42, solver=lbfgs; total time=  10.3s\n",
      "[CV] END hidden_layer_sizes=9, learning_rate_init=0.001, max_iter=2500, random_state=42, solver=lbfgs; total time=  21.0s\n",
      "[CV] END hidden_layer_sizes=9, learning_rate_init=0.001, max_iter=2500, random_state=42, solver=lbfgs; total time=  11.7s\n",
      "[CV] END hidden_layer_sizes=9, learning_rate_init=0.001, max_iter=2500, random_state=42, solver=lbfgs; total time=  14.2s\n",
      "[CV] END hidden_layer_sizes=9, learning_rate_init=0.001, max_iter=2500, random_state=42, solver=lbfgs; total time=  13.1s\n",
      "[CV] END hidden_layer_sizes=9, learning_rate_init=0.001, max_iter=2500, random_state=42, solver=adam; total time=  22.4s\n",
      "[CV] END hidden_layer_sizes=9, learning_rate_init=0.001, max_iter=2500, random_state=42, solver=adam; total time=  11.4s\n",
      "[CV] END hidden_layer_sizes=9, learning_rate_init=0.001, max_iter=2500, random_state=42, solver=adam; total time=  18.0s\n",
      "[CV] END hidden_layer_sizes=9, learning_rate_init=0.001, max_iter=2500, random_state=42, solver=adam; total time=  22.2s\n",
      "[CV] END hidden_layer_sizes=9, learning_rate_init=0.001, max_iter=2500, random_state=42, solver=adam; total time=  14.8s\n",
      "[CV] END hidden_layer_sizes=9, learning_rate_init=1e-05, max_iter=2500, random_state=42, solver=lbfgs; total time=   9.9s\n",
      "[CV] END hidden_layer_sizes=9, learning_rate_init=1e-05, max_iter=2500, random_state=42, solver=lbfgs; total time=  20.7s\n",
      "[CV] END hidden_layer_sizes=9, learning_rate_init=1e-05, max_iter=2500, random_state=42, solver=lbfgs; total time=  12.1s\n",
      "[CV] END hidden_layer_sizes=9, learning_rate_init=1e-05, max_iter=2500, random_state=42, solver=lbfgs; total time=  14.2s\n",
      "[CV] END hidden_layer_sizes=9, learning_rate_init=1e-05, max_iter=2500, random_state=42, solver=lbfgs; total time=  13.1s\n"
     ]
    },
    {
     "name": "stderr",
     "output_type": "stream",
     "text": [
      "C:\\Users\\salda\\Anaconda3\\lib\\site-packages\\sklearn\\neural_network\\_multilayer_perceptron.py:614: ConvergenceWarning: Stochastic Optimizer: Maximum iterations (2500) reached and the optimization hasn't converged yet.\n",
      "  warnings.warn(\n"
     ]
    },
    {
     "name": "stdout",
     "output_type": "stream",
     "text": [
      "[CV] END hidden_layer_sizes=9, learning_rate_init=1e-05, max_iter=2500, random_state=42, solver=adam; total time= 2.2min\n"
     ]
    },
    {
     "name": "stderr",
     "output_type": "stream",
     "text": [
      "C:\\Users\\salda\\Anaconda3\\lib\\site-packages\\sklearn\\neural_network\\_multilayer_perceptron.py:614: ConvergenceWarning: Stochastic Optimizer: Maximum iterations (2500) reached and the optimization hasn't converged yet.\n",
      "  warnings.warn(\n"
     ]
    },
    {
     "name": "stdout",
     "output_type": "stream",
     "text": [
      "[CV] END hidden_layer_sizes=9, learning_rate_init=1e-05, max_iter=2500, random_state=42, solver=adam; total time= 2.0min\n"
     ]
    },
    {
     "name": "stderr",
     "output_type": "stream",
     "text": [
      "C:\\Users\\salda\\Anaconda3\\lib\\site-packages\\sklearn\\neural_network\\_multilayer_perceptron.py:614: ConvergenceWarning: Stochastic Optimizer: Maximum iterations (2500) reached and the optimization hasn't converged yet.\n",
      "  warnings.warn(\n"
     ]
    },
    {
     "name": "stdout",
     "output_type": "stream",
     "text": [
      "[CV] END hidden_layer_sizes=9, learning_rate_init=1e-05, max_iter=2500, random_state=42, solver=adam; total time= 2.1min\n"
     ]
    },
    {
     "name": "stderr",
     "output_type": "stream",
     "text": [
      "C:\\Users\\salda\\Anaconda3\\lib\\site-packages\\sklearn\\neural_network\\_multilayer_perceptron.py:614: ConvergenceWarning: Stochastic Optimizer: Maximum iterations (2500) reached and the optimization hasn't converged yet.\n",
      "  warnings.warn(\n"
     ]
    },
    {
     "name": "stdout",
     "output_type": "stream",
     "text": [
      "[CV] END hidden_layer_sizes=9, learning_rate_init=1e-05, max_iter=2500, random_state=42, solver=adam; total time= 2.1min\n"
     ]
    },
    {
     "name": "stderr",
     "output_type": "stream",
     "text": [
      "C:\\Users\\salda\\Anaconda3\\lib\\site-packages\\sklearn\\neural_network\\_multilayer_perceptron.py:614: ConvergenceWarning: Stochastic Optimizer: Maximum iterations (2500) reached and the optimization hasn't converged yet.\n",
      "  warnings.warn(\n"
     ]
    },
    {
     "name": "stdout",
     "output_type": "stream",
     "text": [
      "[CV] END hidden_layer_sizes=9, learning_rate_init=1e-05, max_iter=2500, random_state=42, solver=adam; total time= 2.0min\n",
      "[CV] END hidden_layer_sizes=10, learning_rate_init=0.1, max_iter=2500, random_state=42, solver=lbfgs; total time=  15.8s\n",
      "[CV] END hidden_layer_sizes=10, learning_rate_init=0.1, max_iter=2500, random_state=42, solver=lbfgs; total time=   9.7s\n"
     ]
    },
    {
     "name": "stderr",
     "output_type": "stream",
     "text": [
      "C:\\Users\\salda\\Anaconda3\\lib\\site-packages\\sklearn\\neural_network\\_multilayer_perceptron.py:500: ConvergenceWarning: lbfgs failed to converge (status=1):\n",
      "STOP: TOTAL NO. of ITERATIONS REACHED LIMIT.\n",
      "\n",
      "Increase the number of iterations (max_iter) or scale the data as shown in:\n",
      "    https://scikit-learn.org/stable/modules/preprocessing.html\n",
      "  self.n_iter_ = _check_optimize_result(\"lbfgs\", opt_res, self.max_iter)\n"
     ]
    },
    {
     "name": "stdout",
     "output_type": "stream",
     "text": [
      "[CV] END hidden_layer_sizes=10, learning_rate_init=0.1, max_iter=2500, random_state=42, solver=lbfgs; total time=  23.4s\n",
      "[CV] END hidden_layer_sizes=10, learning_rate_init=0.1, max_iter=2500, random_state=42, solver=lbfgs; total time=  20.3s\n",
      "[CV] END hidden_layer_sizes=10, learning_rate_init=0.1, max_iter=2500, random_state=42, solver=lbfgs; total time=  19.1s\n",
      "[CV] END hidden_layer_sizes=10, learning_rate_init=0.1, max_iter=2500, random_state=42, solver=adam; total time=   1.4s\n",
      "[CV] END hidden_layer_sizes=10, learning_rate_init=0.1, max_iter=2500, random_state=42, solver=adam; total time=   2.1s\n",
      "[CV] END hidden_layer_sizes=10, learning_rate_init=0.1, max_iter=2500, random_state=42, solver=adam; total time=   1.0s\n",
      "[CV] END hidden_layer_sizes=10, learning_rate_init=0.1, max_iter=2500, random_state=42, solver=adam; total time=   2.3s\n",
      "[CV] END hidden_layer_sizes=10, learning_rate_init=0.1, max_iter=2500, random_state=42, solver=adam; total time=   2.4s\n",
      "[CV] END hidden_layer_sizes=10, learning_rate_init=0.001, max_iter=2500, random_state=42, solver=lbfgs; total time=  15.0s\n",
      "[CV] END hidden_layer_sizes=10, learning_rate_init=0.001, max_iter=2500, random_state=42, solver=lbfgs; total time=  10.1s\n"
     ]
    },
    {
     "name": "stderr",
     "output_type": "stream",
     "text": [
      "C:\\Users\\salda\\Anaconda3\\lib\\site-packages\\sklearn\\neural_network\\_multilayer_perceptron.py:500: ConvergenceWarning: lbfgs failed to converge (status=1):\n",
      "STOP: TOTAL NO. of ITERATIONS REACHED LIMIT.\n",
      "\n",
      "Increase the number of iterations (max_iter) or scale the data as shown in:\n",
      "    https://scikit-learn.org/stable/modules/preprocessing.html\n",
      "  self.n_iter_ = _check_optimize_result(\"lbfgs\", opt_res, self.max_iter)\n"
     ]
    },
    {
     "name": "stdout",
     "output_type": "stream",
     "text": [
      "[CV] END hidden_layer_sizes=10, learning_rate_init=0.001, max_iter=2500, random_state=42, solver=lbfgs; total time=  23.2s\n",
      "[CV] END hidden_layer_sizes=10, learning_rate_init=0.001, max_iter=2500, random_state=42, solver=lbfgs; total time=  20.1s\n",
      "[CV] END hidden_layer_sizes=10, learning_rate_init=0.001, max_iter=2500, random_state=42, solver=lbfgs; total time=  19.5s\n",
      "[CV] END hidden_layer_sizes=10, learning_rate_init=0.001, max_iter=2500, random_state=42, solver=adam; total time=  16.7s\n",
      "[CV] END hidden_layer_sizes=10, learning_rate_init=0.001, max_iter=2500, random_state=42, solver=adam; total time=  11.4s\n",
      "[CV] END hidden_layer_sizes=10, learning_rate_init=0.001, max_iter=2500, random_state=42, solver=adam; total time=  23.3s\n",
      "[CV] END hidden_layer_sizes=10, learning_rate_init=0.001, max_iter=2500, random_state=42, solver=adam; total time=  10.8s\n",
      "[CV] END hidden_layer_sizes=10, learning_rate_init=0.001, max_iter=2500, random_state=42, solver=adam; total time=  14.6s\n",
      "[CV] END hidden_layer_sizes=10, learning_rate_init=1e-05, max_iter=2500, random_state=42, solver=lbfgs; total time=  14.8s\n",
      "[CV] END hidden_layer_sizes=10, learning_rate_init=1e-05, max_iter=2500, random_state=42, solver=lbfgs; total time=  10.0s\n"
     ]
    },
    {
     "name": "stderr",
     "output_type": "stream",
     "text": [
      "C:\\Users\\salda\\Anaconda3\\lib\\site-packages\\sklearn\\neural_network\\_multilayer_perceptron.py:500: ConvergenceWarning: lbfgs failed to converge (status=1):\n",
      "STOP: TOTAL NO. of ITERATIONS REACHED LIMIT.\n",
      "\n",
      "Increase the number of iterations (max_iter) or scale the data as shown in:\n",
      "    https://scikit-learn.org/stable/modules/preprocessing.html\n",
      "  self.n_iter_ = _check_optimize_result(\"lbfgs\", opt_res, self.max_iter)\n"
     ]
    },
    {
     "name": "stdout",
     "output_type": "stream",
     "text": [
      "[CV] END hidden_layer_sizes=10, learning_rate_init=1e-05, max_iter=2500, random_state=42, solver=lbfgs; total time=  23.9s\n",
      "[CV] END hidden_layer_sizes=10, learning_rate_init=1e-05, max_iter=2500, random_state=42, solver=lbfgs; total time=  19.4s\n",
      "[CV] END hidden_layer_sizes=10, learning_rate_init=1e-05, max_iter=2500, random_state=42, solver=lbfgs; total time=  19.2s\n"
     ]
    },
    {
     "name": "stderr",
     "output_type": "stream",
     "text": [
      "C:\\Users\\salda\\Anaconda3\\lib\\site-packages\\sklearn\\neural_network\\_multilayer_perceptron.py:614: ConvergenceWarning: Stochastic Optimizer: Maximum iterations (2500) reached and the optimization hasn't converged yet.\n",
      "  warnings.warn(\n"
     ]
    },
    {
     "name": "stdout",
     "output_type": "stream",
     "text": [
      "[CV] END hidden_layer_sizes=10, learning_rate_init=1e-05, max_iter=2500, random_state=42, solver=adam; total time= 2.1min\n"
     ]
    },
    {
     "name": "stderr",
     "output_type": "stream",
     "text": [
      "C:\\Users\\salda\\Anaconda3\\lib\\site-packages\\sklearn\\neural_network\\_multilayer_perceptron.py:614: ConvergenceWarning: Stochastic Optimizer: Maximum iterations (2500) reached and the optimization hasn't converged yet.\n",
      "  warnings.warn(\n"
     ]
    },
    {
     "name": "stdout",
     "output_type": "stream",
     "text": [
      "[CV] END hidden_layer_sizes=10, learning_rate_init=1e-05, max_iter=2500, random_state=42, solver=adam; total time= 2.1min\n"
     ]
    },
    {
     "name": "stderr",
     "output_type": "stream",
     "text": [
      "C:\\Users\\salda\\Anaconda3\\lib\\site-packages\\sklearn\\neural_network\\_multilayer_perceptron.py:614: ConvergenceWarning: Stochastic Optimizer: Maximum iterations (2500) reached and the optimization hasn't converged yet.\n",
      "  warnings.warn(\n"
     ]
    },
    {
     "name": "stdout",
     "output_type": "stream",
     "text": [
      "[CV] END hidden_layer_sizes=10, learning_rate_init=1e-05, max_iter=2500, random_state=42, solver=adam; total time= 2.2min\n"
     ]
    },
    {
     "name": "stderr",
     "output_type": "stream",
     "text": [
      "C:\\Users\\salda\\Anaconda3\\lib\\site-packages\\sklearn\\neural_network\\_multilayer_perceptron.py:614: ConvergenceWarning: Stochastic Optimizer: Maximum iterations (2500) reached and the optimization hasn't converged yet.\n",
      "  warnings.warn(\n"
     ]
    },
    {
     "name": "stdout",
     "output_type": "stream",
     "text": [
      "[CV] END hidden_layer_sizes=10, learning_rate_init=1e-05, max_iter=2500, random_state=42, solver=adam; total time= 2.1min\n"
     ]
    },
    {
     "name": "stderr",
     "output_type": "stream",
     "text": [
      "C:\\Users\\salda\\Anaconda3\\lib\\site-packages\\sklearn\\neural_network\\_multilayer_perceptron.py:614: ConvergenceWarning: Stochastic Optimizer: Maximum iterations (2500) reached and the optimization hasn't converged yet.\n",
      "  warnings.warn(\n"
     ]
    },
    {
     "name": "stdout",
     "output_type": "stream",
     "text": [
      "[CV] END hidden_layer_sizes=10, learning_rate_init=1e-05, max_iter=2500, random_state=42, solver=adam; total time= 2.1min\n",
      "[CV] END hidden_layer_sizes=11, learning_rate_init=0.1, max_iter=2500, random_state=42, solver=lbfgs; total time=  16.7s\n",
      "[CV] END hidden_layer_sizes=11, learning_rate_init=0.1, max_iter=2500, random_state=42, solver=lbfgs; total time=   7.9s\n"
     ]
    },
    {
     "name": "stderr",
     "output_type": "stream",
     "text": [
      "C:\\Users\\salda\\Anaconda3\\lib\\site-packages\\sklearn\\neural_network\\_multilayer_perceptron.py:500: ConvergenceWarning: lbfgs failed to converge (status=1):\n",
      "STOP: TOTAL NO. of ITERATIONS REACHED LIMIT.\n",
      "\n",
      "Increase the number of iterations (max_iter) or scale the data as shown in:\n",
      "    https://scikit-learn.org/stable/modules/preprocessing.html\n",
      "  self.n_iter_ = _check_optimize_result(\"lbfgs\", opt_res, self.max_iter)\n"
     ]
    },
    {
     "name": "stdout",
     "output_type": "stream",
     "text": [
      "[CV] END hidden_layer_sizes=11, learning_rate_init=0.1, max_iter=2500, random_state=42, solver=lbfgs; total time=  26.1s\n",
      "[CV] END hidden_layer_sizes=11, learning_rate_init=0.1, max_iter=2500, random_state=42, solver=lbfgs; total time=  10.3s\n"
     ]
    },
    {
     "name": "stderr",
     "output_type": "stream",
     "text": [
      "C:\\Users\\salda\\Anaconda3\\lib\\site-packages\\sklearn\\neural_network\\_multilayer_perceptron.py:500: ConvergenceWarning: lbfgs failed to converge (status=1):\n",
      "STOP: TOTAL NO. of ITERATIONS REACHED LIMIT.\n",
      "\n",
      "Increase the number of iterations (max_iter) or scale the data as shown in:\n",
      "    https://scikit-learn.org/stable/modules/preprocessing.html\n",
      "  self.n_iter_ = _check_optimize_result(\"lbfgs\", opt_res, self.max_iter)\n"
     ]
    },
    {
     "name": "stdout",
     "output_type": "stream",
     "text": [
      "[CV] END hidden_layer_sizes=11, learning_rate_init=0.1, max_iter=2500, random_state=42, solver=lbfgs; total time=  25.6s\n",
      "[CV] END hidden_layer_sizes=11, learning_rate_init=0.1, max_iter=2500, random_state=42, solver=adam; total time=   3.2s\n",
      "[CV] END hidden_layer_sizes=11, learning_rate_init=0.1, max_iter=2500, random_state=42, solver=adam; total time=   2.3s\n",
      "[CV] END hidden_layer_sizes=11, learning_rate_init=0.1, max_iter=2500, random_state=42, solver=adam; total time=   2.8s\n",
      "[CV] END hidden_layer_sizes=11, learning_rate_init=0.1, max_iter=2500, random_state=42, solver=adam; total time=   1.4s\n",
      "[CV] END hidden_layer_sizes=11, learning_rate_init=0.1, max_iter=2500, random_state=42, solver=adam; total time=   1.3s\n",
      "[CV] END hidden_layer_sizes=11, learning_rate_init=0.001, max_iter=2500, random_state=42, solver=lbfgs; total time=  18.2s\n",
      "[CV] END hidden_layer_sizes=11, learning_rate_init=0.001, max_iter=2500, random_state=42, solver=lbfgs; total time=   9.3s\n"
     ]
    },
    {
     "name": "stderr",
     "output_type": "stream",
     "text": [
      "C:\\Users\\salda\\Anaconda3\\lib\\site-packages\\sklearn\\neural_network\\_multilayer_perceptron.py:500: ConvergenceWarning: lbfgs failed to converge (status=1):\n",
      "STOP: TOTAL NO. of ITERATIONS REACHED LIMIT.\n",
      "\n",
      "Increase the number of iterations (max_iter) or scale the data as shown in:\n",
      "    https://scikit-learn.org/stable/modules/preprocessing.html\n",
      "  self.n_iter_ = _check_optimize_result(\"lbfgs\", opt_res, self.max_iter)\n"
     ]
    },
    {
     "name": "stdout",
     "output_type": "stream",
     "text": [
      "[CV] END hidden_layer_sizes=11, learning_rate_init=0.001, max_iter=2500, random_state=42, solver=lbfgs; total time=  27.2s\n",
      "[CV] END hidden_layer_sizes=11, learning_rate_init=0.001, max_iter=2500, random_state=42, solver=lbfgs; total time=  10.6s\n"
     ]
    },
    {
     "name": "stderr",
     "output_type": "stream",
     "text": [
      "C:\\Users\\salda\\Anaconda3\\lib\\site-packages\\sklearn\\neural_network\\_multilayer_perceptron.py:500: ConvergenceWarning: lbfgs failed to converge (status=1):\n",
      "STOP: TOTAL NO. of ITERATIONS REACHED LIMIT.\n",
      "\n",
      "Increase the number of iterations (max_iter) or scale the data as shown in:\n",
      "    https://scikit-learn.org/stable/modules/preprocessing.html\n",
      "  self.n_iter_ = _check_optimize_result(\"lbfgs\", opt_res, self.max_iter)\n"
     ]
    },
    {
     "name": "stdout",
     "output_type": "stream",
     "text": [
      "[CV] END hidden_layer_sizes=11, learning_rate_init=0.001, max_iter=2500, random_state=42, solver=lbfgs; total time=  25.3s\n",
      "[CV] END hidden_layer_sizes=11, learning_rate_init=0.001, max_iter=2500, random_state=42, solver=adam; total time=  23.9s\n",
      "[CV] END hidden_layer_sizes=11, learning_rate_init=0.001, max_iter=2500, random_state=42, solver=adam; total time=  14.6s\n",
      "[CV] END hidden_layer_sizes=11, learning_rate_init=0.001, max_iter=2500, random_state=42, solver=adam; total time=  23.5s\n",
      "[CV] END hidden_layer_sizes=11, learning_rate_init=0.001, max_iter=2500, random_state=42, solver=adam; total time=  35.4s\n",
      "[CV] END hidden_layer_sizes=11, learning_rate_init=0.001, max_iter=2500, random_state=42, solver=adam; total time=  19.6s\n",
      "[CV] END hidden_layer_sizes=11, learning_rate_init=1e-05, max_iter=2500, random_state=42, solver=lbfgs; total time=  16.7s\n",
      "[CV] END hidden_layer_sizes=11, learning_rate_init=1e-05, max_iter=2500, random_state=42, solver=lbfgs; total time=   8.1s\n"
     ]
    },
    {
     "name": "stderr",
     "output_type": "stream",
     "text": [
      "C:\\Users\\salda\\Anaconda3\\lib\\site-packages\\sklearn\\neural_network\\_multilayer_perceptron.py:500: ConvergenceWarning: lbfgs failed to converge (status=1):\n",
      "STOP: TOTAL NO. of ITERATIONS REACHED LIMIT.\n",
      "\n",
      "Increase the number of iterations (max_iter) or scale the data as shown in:\n",
      "    https://scikit-learn.org/stable/modules/preprocessing.html\n",
      "  self.n_iter_ = _check_optimize_result(\"lbfgs\", opt_res, self.max_iter)\n"
     ]
    },
    {
     "name": "stdout",
     "output_type": "stream",
     "text": [
      "[CV] END hidden_layer_sizes=11, learning_rate_init=1e-05, max_iter=2500, random_state=42, solver=lbfgs; total time=  25.7s\n",
      "[CV] END hidden_layer_sizes=11, learning_rate_init=1e-05, max_iter=2500, random_state=42, solver=lbfgs; total time=  10.6s\n"
     ]
    },
    {
     "name": "stderr",
     "output_type": "stream",
     "text": [
      "C:\\Users\\salda\\Anaconda3\\lib\\site-packages\\sklearn\\neural_network\\_multilayer_perceptron.py:500: ConvergenceWarning: lbfgs failed to converge (status=1):\n",
      "STOP: TOTAL NO. of ITERATIONS REACHED LIMIT.\n",
      "\n",
      "Increase the number of iterations (max_iter) or scale the data as shown in:\n",
      "    https://scikit-learn.org/stable/modules/preprocessing.html\n",
      "  self.n_iter_ = _check_optimize_result(\"lbfgs\", opt_res, self.max_iter)\n"
     ]
    },
    {
     "name": "stdout",
     "output_type": "stream",
     "text": [
      "[CV] END hidden_layer_sizes=11, learning_rate_init=1e-05, max_iter=2500, random_state=42, solver=lbfgs; total time=  25.4s\n"
     ]
    },
    {
     "name": "stderr",
     "output_type": "stream",
     "text": [
      "C:\\Users\\salda\\Anaconda3\\lib\\site-packages\\sklearn\\neural_network\\_multilayer_perceptron.py:614: ConvergenceWarning: Stochastic Optimizer: Maximum iterations (2500) reached and the optimization hasn't converged yet.\n",
      "  warnings.warn(\n"
     ]
    },
    {
     "name": "stdout",
     "output_type": "stream",
     "text": [
      "[CV] END hidden_layer_sizes=11, learning_rate_init=1e-05, max_iter=2500, random_state=42, solver=adam; total time= 2.1min\n"
     ]
    },
    {
     "name": "stderr",
     "output_type": "stream",
     "text": [
      "C:\\Users\\salda\\Anaconda3\\lib\\site-packages\\sklearn\\neural_network\\_multilayer_perceptron.py:614: ConvergenceWarning: Stochastic Optimizer: Maximum iterations (2500) reached and the optimization hasn't converged yet.\n",
      "  warnings.warn(\n"
     ]
    },
    {
     "name": "stdout",
     "output_type": "stream",
     "text": [
      "[CV] END hidden_layer_sizes=11, learning_rate_init=1e-05, max_iter=2500, random_state=42, solver=adam; total time= 2.2min\n"
     ]
    },
    {
     "name": "stderr",
     "output_type": "stream",
     "text": [
      "C:\\Users\\salda\\Anaconda3\\lib\\site-packages\\sklearn\\neural_network\\_multilayer_perceptron.py:614: ConvergenceWarning: Stochastic Optimizer: Maximum iterations (2500) reached and the optimization hasn't converged yet.\n",
      "  warnings.warn(\n"
     ]
    },
    {
     "name": "stdout",
     "output_type": "stream",
     "text": [
      "[CV] END hidden_layer_sizes=11, learning_rate_init=1e-05, max_iter=2500, random_state=42, solver=adam; total time= 2.2min\n"
     ]
    },
    {
     "name": "stderr",
     "output_type": "stream",
     "text": [
      "C:\\Users\\salda\\Anaconda3\\lib\\site-packages\\sklearn\\neural_network\\_multilayer_perceptron.py:614: ConvergenceWarning: Stochastic Optimizer: Maximum iterations (2500) reached and the optimization hasn't converged yet.\n",
      "  warnings.warn(\n"
     ]
    },
    {
     "name": "stdout",
     "output_type": "stream",
     "text": [
      "[CV] END hidden_layer_sizes=11, learning_rate_init=1e-05, max_iter=2500, random_state=42, solver=adam; total time= 2.1min\n"
     ]
    },
    {
     "name": "stderr",
     "output_type": "stream",
     "text": [
      "C:\\Users\\salda\\Anaconda3\\lib\\site-packages\\sklearn\\neural_network\\_multilayer_perceptron.py:614: ConvergenceWarning: Stochastic Optimizer: Maximum iterations (2500) reached and the optimization hasn't converged yet.\n",
      "  warnings.warn(\n"
     ]
    },
    {
     "name": "stdout",
     "output_type": "stream",
     "text": [
      "[CV] END hidden_layer_sizes=11, learning_rate_init=1e-05, max_iter=2500, random_state=42, solver=adam; total time= 2.2min\n",
      "[CV] END hidden_layer_sizes=12, learning_rate_init=0.1, max_iter=2500, random_state=42, solver=lbfgs; total time=  24.9s\n",
      "[CV] END hidden_layer_sizes=12, learning_rate_init=0.1, max_iter=2500, random_state=42, solver=lbfgs; total time=  17.4s\n",
      "[CV] END hidden_layer_sizes=12, learning_rate_init=0.1, max_iter=2500, random_state=42, solver=lbfgs; total time=  25.5s\n",
      "[CV] END hidden_layer_sizes=12, learning_rate_init=0.1, max_iter=2500, random_state=42, solver=lbfgs; total time=  18.2s\n",
      "[CV] END hidden_layer_sizes=12, learning_rate_init=0.1, max_iter=2500, random_state=42, solver=lbfgs; total time=  18.6s\n",
      "[CV] END hidden_layer_sizes=12, learning_rate_init=0.1, max_iter=2500, random_state=42, solver=adam; total time=   1.7s\n",
      "[CV] END hidden_layer_sizes=12, learning_rate_init=0.1, max_iter=2500, random_state=42, solver=adam; total time=   2.1s\n",
      "[CV] END hidden_layer_sizes=12, learning_rate_init=0.1, max_iter=2500, random_state=42, solver=adam; total time=   1.1s\n",
      "[CV] END hidden_layer_sizes=12, learning_rate_init=0.1, max_iter=2500, random_state=42, solver=adam; total time=   4.7s\n",
      "[CV] END hidden_layer_sizes=12, learning_rate_init=0.1, max_iter=2500, random_state=42, solver=adam; total time=   2.4s\n",
      "[CV] END hidden_layer_sizes=12, learning_rate_init=0.001, max_iter=2500, random_state=42, solver=lbfgs; total time=  27.3s\n",
      "[CV] END hidden_layer_sizes=12, learning_rate_init=0.001, max_iter=2500, random_state=42, solver=lbfgs; total time=  17.8s\n",
      "[CV] END hidden_layer_sizes=12, learning_rate_init=0.001, max_iter=2500, random_state=42, solver=lbfgs; total time=  25.6s\n",
      "[CV] END hidden_layer_sizes=12, learning_rate_init=0.001, max_iter=2500, random_state=42, solver=lbfgs; total time=  17.5s\n",
      "[CV] END hidden_layer_sizes=12, learning_rate_init=0.001, max_iter=2500, random_state=42, solver=lbfgs; total time=  18.3s\n",
      "[CV] END hidden_layer_sizes=12, learning_rate_init=0.001, max_iter=2500, random_state=42, solver=adam; total time=  19.5s\n",
      "[CV] END hidden_layer_sizes=12, learning_rate_init=0.001, max_iter=2500, random_state=42, solver=adam; total time=  21.5s\n",
      "[CV] END hidden_layer_sizes=12, learning_rate_init=0.001, max_iter=2500, random_state=42, solver=adam; total time=  16.8s\n",
      "[CV] END hidden_layer_sizes=12, learning_rate_init=0.001, max_iter=2500, random_state=42, solver=adam; total time=  18.0s\n",
      "[CV] END hidden_layer_sizes=12, learning_rate_init=0.001, max_iter=2500, random_state=42, solver=adam; total time=  20.9s\n",
      "[CV] END hidden_layer_sizes=12, learning_rate_init=1e-05, max_iter=2500, random_state=42, solver=lbfgs; total time=  24.6s\n",
      "[CV] END hidden_layer_sizes=12, learning_rate_init=1e-05, max_iter=2500, random_state=42, solver=lbfgs; total time=  17.6s\n",
      "[CV] END hidden_layer_sizes=12, learning_rate_init=1e-05, max_iter=2500, random_state=42, solver=lbfgs; total time=  25.8s\n",
      "[CV] END hidden_layer_sizes=12, learning_rate_init=1e-05, max_iter=2500, random_state=42, solver=lbfgs; total time=  17.0s\n",
      "[CV] END hidden_layer_sizes=12, learning_rate_init=1e-05, max_iter=2500, random_state=42, solver=lbfgs; total time=  18.4s\n"
     ]
    },
    {
     "name": "stderr",
     "output_type": "stream",
     "text": [
      "C:\\Users\\salda\\Anaconda3\\lib\\site-packages\\sklearn\\neural_network\\_multilayer_perceptron.py:614: ConvergenceWarning: Stochastic Optimizer: Maximum iterations (2500) reached and the optimization hasn't converged yet.\n",
      "  warnings.warn(\n"
     ]
    },
    {
     "name": "stdout",
     "output_type": "stream",
     "text": [
      "[CV] END hidden_layer_sizes=12, learning_rate_init=1e-05, max_iter=2500, random_state=42, solver=adam; total time= 2.1min\n"
     ]
    },
    {
     "name": "stderr",
     "output_type": "stream",
     "text": [
      "C:\\Users\\salda\\Anaconda3\\lib\\site-packages\\sklearn\\neural_network\\_multilayer_perceptron.py:614: ConvergenceWarning: Stochastic Optimizer: Maximum iterations (2500) reached and the optimization hasn't converged yet.\n",
      "  warnings.warn(\n"
     ]
    },
    {
     "name": "stdout",
     "output_type": "stream",
     "text": [
      "[CV] END hidden_layer_sizes=12, learning_rate_init=1e-05, max_iter=2500, random_state=42, solver=adam; total time= 2.2min\n"
     ]
    },
    {
     "name": "stderr",
     "output_type": "stream",
     "text": [
      "C:\\Users\\salda\\Anaconda3\\lib\\site-packages\\sklearn\\neural_network\\_multilayer_perceptron.py:614: ConvergenceWarning: Stochastic Optimizer: Maximum iterations (2500) reached and the optimization hasn't converged yet.\n",
      "  warnings.warn(\n"
     ]
    },
    {
     "name": "stdout",
     "output_type": "stream",
     "text": [
      "[CV] END hidden_layer_sizes=12, learning_rate_init=1e-05, max_iter=2500, random_state=42, solver=adam; total time= 2.2min\n"
     ]
    },
    {
     "name": "stderr",
     "output_type": "stream",
     "text": [
      "C:\\Users\\salda\\Anaconda3\\lib\\site-packages\\sklearn\\neural_network\\_multilayer_perceptron.py:614: ConvergenceWarning: Stochastic Optimizer: Maximum iterations (2500) reached and the optimization hasn't converged yet.\n",
      "  warnings.warn(\n"
     ]
    },
    {
     "name": "stdout",
     "output_type": "stream",
     "text": [
      "[CV] END hidden_layer_sizes=12, learning_rate_init=1e-05, max_iter=2500, random_state=42, solver=adam; total time= 2.1min\n"
     ]
    },
    {
     "name": "stderr",
     "output_type": "stream",
     "text": [
      "C:\\Users\\salda\\Anaconda3\\lib\\site-packages\\sklearn\\neural_network\\_multilayer_perceptron.py:614: ConvergenceWarning: Stochastic Optimizer: Maximum iterations (2500) reached and the optimization hasn't converged yet.\n",
      "  warnings.warn(\n"
     ]
    },
    {
     "name": "stdout",
     "output_type": "stream",
     "text": [
      "[CV] END hidden_layer_sizes=12, learning_rate_init=1e-05, max_iter=2500, random_state=42, solver=adam; total time= 2.2min\n"
     ]
    },
    {
     "name": "stderr",
     "output_type": "stream",
     "text": [
      "C:\\Users\\salda\\Anaconda3\\lib\\site-packages\\sklearn\\neural_network\\_multilayer_perceptron.py:500: ConvergenceWarning: lbfgs failed to converge (status=1):\n",
      "STOP: TOTAL NO. of ITERATIONS REACHED LIMIT.\n",
      "\n",
      "Increase the number of iterations (max_iter) or scale the data as shown in:\n",
      "    https://scikit-learn.org/stable/modules/preprocessing.html\n",
      "  self.n_iter_ = _check_optimize_result(\"lbfgs\", opt_res, self.max_iter)\n"
     ]
    },
    {
     "name": "stdout",
     "output_type": "stream",
     "text": [
      "[CV] END hidden_layer_sizes=13, learning_rate_init=0.1, max_iter=2500, random_state=42, solver=lbfgs; total time=  27.2s\n"
     ]
    },
    {
     "name": "stderr",
     "output_type": "stream",
     "text": [
      "C:\\Users\\salda\\Anaconda3\\lib\\site-packages\\sklearn\\neural_network\\_multilayer_perceptron.py:500: ConvergenceWarning: lbfgs failed to converge (status=1):\n",
      "STOP: TOTAL NO. of ITERATIONS REACHED LIMIT.\n",
      "\n",
      "Increase the number of iterations (max_iter) or scale the data as shown in:\n",
      "    https://scikit-learn.org/stable/modules/preprocessing.html\n",
      "  self.n_iter_ = _check_optimize_result(\"lbfgs\", opt_res, self.max_iter)\n"
     ]
    },
    {
     "name": "stdout",
     "output_type": "stream",
     "text": [
      "[CV] END hidden_layer_sizes=13, learning_rate_init=0.1, max_iter=2500, random_state=42, solver=lbfgs; total time=  29.1s\n"
     ]
    },
    {
     "name": "stderr",
     "output_type": "stream",
     "text": [
      "C:\\Users\\salda\\Anaconda3\\lib\\site-packages\\sklearn\\neural_network\\_multilayer_perceptron.py:500: ConvergenceWarning: lbfgs failed to converge (status=1):\n",
      "STOP: TOTAL NO. of ITERATIONS REACHED LIMIT.\n",
      "\n",
      "Increase the number of iterations (max_iter) or scale the data as shown in:\n",
      "    https://scikit-learn.org/stable/modules/preprocessing.html\n",
      "  self.n_iter_ = _check_optimize_result(\"lbfgs\", opt_res, self.max_iter)\n"
     ]
    },
    {
     "name": "stdout",
     "output_type": "stream",
     "text": [
      "[CV] END hidden_layer_sizes=13, learning_rate_init=0.1, max_iter=2500, random_state=42, solver=lbfgs; total time=  27.2s\n",
      "[CV] END hidden_layer_sizes=13, learning_rate_init=0.1, max_iter=2500, random_state=42, solver=lbfgs; total time=  17.4s\n",
      "[CV] END hidden_layer_sizes=13, learning_rate_init=0.1, max_iter=2500, random_state=42, solver=lbfgs; total time=  24.3s\n",
      "[CV] END hidden_layer_sizes=13, learning_rate_init=0.1, max_iter=2500, random_state=42, solver=adam; total time=   4.2s\n",
      "[CV] END hidden_layer_sizes=13, learning_rate_init=0.1, max_iter=2500, random_state=42, solver=adam; total time=   1.4s\n",
      "[CV] END hidden_layer_sizes=13, learning_rate_init=0.1, max_iter=2500, random_state=42, solver=adam; total time=   2.7s\n",
      "[CV] END hidden_layer_sizes=13, learning_rate_init=0.1, max_iter=2500, random_state=42, solver=adam; total time=   1.2s\n",
      "[CV] END hidden_layer_sizes=13, learning_rate_init=0.1, max_iter=2500, random_state=42, solver=adam; total time=   3.2s\n"
     ]
    },
    {
     "name": "stderr",
     "output_type": "stream",
     "text": [
      "C:\\Users\\salda\\Anaconda3\\lib\\site-packages\\sklearn\\neural_network\\_multilayer_perceptron.py:500: ConvergenceWarning: lbfgs failed to converge (status=1):\n",
      "STOP: TOTAL NO. of ITERATIONS REACHED LIMIT.\n",
      "\n",
      "Increase the number of iterations (max_iter) or scale the data as shown in:\n",
      "    https://scikit-learn.org/stable/modules/preprocessing.html\n",
      "  self.n_iter_ = _check_optimize_result(\"lbfgs\", opt_res, self.max_iter)\n"
     ]
    },
    {
     "name": "stdout",
     "output_type": "stream",
     "text": [
      "[CV] END hidden_layer_sizes=13, learning_rate_init=0.001, max_iter=2500, random_state=42, solver=lbfgs; total time=  27.0s\n"
     ]
    },
    {
     "name": "stderr",
     "output_type": "stream",
     "text": [
      "C:\\Users\\salda\\Anaconda3\\lib\\site-packages\\sklearn\\neural_network\\_multilayer_perceptron.py:500: ConvergenceWarning: lbfgs failed to converge (status=1):\n",
      "STOP: TOTAL NO. of ITERATIONS REACHED LIMIT.\n",
      "\n",
      "Increase the number of iterations (max_iter) or scale the data as shown in:\n",
      "    https://scikit-learn.org/stable/modules/preprocessing.html\n",
      "  self.n_iter_ = _check_optimize_result(\"lbfgs\", opt_res, self.max_iter)\n"
     ]
    },
    {
     "name": "stdout",
     "output_type": "stream",
     "text": [
      "[CV] END hidden_layer_sizes=13, learning_rate_init=0.001, max_iter=2500, random_state=42, solver=lbfgs; total time=  28.0s\n"
     ]
    },
    {
     "name": "stderr",
     "output_type": "stream",
     "text": [
      "C:\\Users\\salda\\Anaconda3\\lib\\site-packages\\sklearn\\neural_network\\_multilayer_perceptron.py:500: ConvergenceWarning: lbfgs failed to converge (status=1):\n",
      "STOP: TOTAL NO. of ITERATIONS REACHED LIMIT.\n",
      "\n",
      "Increase the number of iterations (max_iter) or scale the data as shown in:\n",
      "    https://scikit-learn.org/stable/modules/preprocessing.html\n",
      "  self.n_iter_ = _check_optimize_result(\"lbfgs\", opt_res, self.max_iter)\n"
     ]
    },
    {
     "name": "stdout",
     "output_type": "stream",
     "text": [
      "[CV] END hidden_layer_sizes=13, learning_rate_init=0.001, max_iter=2500, random_state=42, solver=lbfgs; total time=  29.3s\n",
      "[CV] END hidden_layer_sizes=13, learning_rate_init=0.001, max_iter=2500, random_state=42, solver=lbfgs; total time=  17.5s\n",
      "[CV] END hidden_layer_sizes=13, learning_rate_init=0.001, max_iter=2500, random_state=42, solver=lbfgs; total time=  25.4s\n",
      "[CV] END hidden_layer_sizes=13, learning_rate_init=0.001, max_iter=2500, random_state=42, solver=adam; total time=  25.9s\n",
      "[CV] END hidden_layer_sizes=13, learning_rate_init=0.001, max_iter=2500, random_state=42, solver=adam; total time=  14.8s\n",
      "[CV] END hidden_layer_sizes=13, learning_rate_init=0.001, max_iter=2500, random_state=42, solver=adam; total time=  20.5s\n",
      "[CV] END hidden_layer_sizes=13, learning_rate_init=0.001, max_iter=2500, random_state=42, solver=adam; total time=  13.0s\n",
      "[CV] END hidden_layer_sizes=13, learning_rate_init=0.001, max_iter=2500, random_state=42, solver=adam; total time=  18.3s\n"
     ]
    },
    {
     "name": "stderr",
     "output_type": "stream",
     "text": [
      "C:\\Users\\salda\\Anaconda3\\lib\\site-packages\\sklearn\\neural_network\\_multilayer_perceptron.py:500: ConvergenceWarning: lbfgs failed to converge (status=1):\n",
      "STOP: TOTAL NO. of ITERATIONS REACHED LIMIT.\n",
      "\n",
      "Increase the number of iterations (max_iter) or scale the data as shown in:\n",
      "    https://scikit-learn.org/stable/modules/preprocessing.html\n",
      "  self.n_iter_ = _check_optimize_result(\"lbfgs\", opt_res, self.max_iter)\n"
     ]
    },
    {
     "name": "stdout",
     "output_type": "stream",
     "text": [
      "[CV] END hidden_layer_sizes=13, learning_rate_init=1e-05, max_iter=2500, random_state=42, solver=lbfgs; total time=  27.1s\n"
     ]
    },
    {
     "name": "stderr",
     "output_type": "stream",
     "text": [
      "C:\\Users\\salda\\Anaconda3\\lib\\site-packages\\sklearn\\neural_network\\_multilayer_perceptron.py:500: ConvergenceWarning: lbfgs failed to converge (status=1):\n",
      "STOP: TOTAL NO. of ITERATIONS REACHED LIMIT.\n",
      "\n",
      "Increase the number of iterations (max_iter) or scale the data as shown in:\n",
      "    https://scikit-learn.org/stable/modules/preprocessing.html\n",
      "  self.n_iter_ = _check_optimize_result(\"lbfgs\", opt_res, self.max_iter)\n"
     ]
    },
    {
     "name": "stdout",
     "output_type": "stream",
     "text": [
      "[CV] END hidden_layer_sizes=13, learning_rate_init=1e-05, max_iter=2500, random_state=42, solver=lbfgs; total time=  27.6s\n"
     ]
    },
    {
     "name": "stderr",
     "output_type": "stream",
     "text": [
      "C:\\Users\\salda\\Anaconda3\\lib\\site-packages\\sklearn\\neural_network\\_multilayer_perceptron.py:500: ConvergenceWarning: lbfgs failed to converge (status=1):\n",
      "STOP: TOTAL NO. of ITERATIONS REACHED LIMIT.\n",
      "\n",
      "Increase the number of iterations (max_iter) or scale the data as shown in:\n",
      "    https://scikit-learn.org/stable/modules/preprocessing.html\n",
      "  self.n_iter_ = _check_optimize_result(\"lbfgs\", opt_res, self.max_iter)\n"
     ]
    },
    {
     "name": "stdout",
     "output_type": "stream",
     "text": [
      "[CV] END hidden_layer_sizes=13, learning_rate_init=1e-05, max_iter=2500, random_state=42, solver=lbfgs; total time=  27.2s\n",
      "[CV] END hidden_layer_sizes=13, learning_rate_init=1e-05, max_iter=2500, random_state=42, solver=lbfgs; total time=  17.6s\n",
      "[CV] END hidden_layer_sizes=13, learning_rate_init=1e-05, max_iter=2500, random_state=42, solver=lbfgs; total time=  24.2s\n"
     ]
    },
    {
     "name": "stderr",
     "output_type": "stream",
     "text": [
      "C:\\Users\\salda\\Anaconda3\\lib\\site-packages\\sklearn\\neural_network\\_multilayer_perceptron.py:614: ConvergenceWarning: Stochastic Optimizer: Maximum iterations (2500) reached and the optimization hasn't converged yet.\n",
      "  warnings.warn(\n"
     ]
    },
    {
     "name": "stdout",
     "output_type": "stream",
     "text": [
      "[CV] END hidden_layer_sizes=13, learning_rate_init=1e-05, max_iter=2500, random_state=42, solver=adam; total time= 2.2min\n"
     ]
    },
    {
     "name": "stderr",
     "output_type": "stream",
     "text": [
      "C:\\Users\\salda\\Anaconda3\\lib\\site-packages\\sklearn\\neural_network\\_multilayer_perceptron.py:614: ConvergenceWarning: Stochastic Optimizer: Maximum iterations (2500) reached and the optimization hasn't converged yet.\n",
      "  warnings.warn(\n"
     ]
    },
    {
     "name": "stdout",
     "output_type": "stream",
     "text": [
      "[CV] END hidden_layer_sizes=13, learning_rate_init=1e-05, max_iter=2500, random_state=42, solver=adam; total time= 2.3min\n"
     ]
    },
    {
     "name": "stderr",
     "output_type": "stream",
     "text": [
      "C:\\Users\\salda\\Anaconda3\\lib\\site-packages\\sklearn\\neural_network\\_multilayer_perceptron.py:614: ConvergenceWarning: Stochastic Optimizer: Maximum iterations (2500) reached and the optimization hasn't converged yet.\n",
      "  warnings.warn(\n"
     ]
    },
    {
     "name": "stdout",
     "output_type": "stream",
     "text": [
      "[CV] END hidden_layer_sizes=13, learning_rate_init=1e-05, max_iter=2500, random_state=42, solver=adam; total time= 2.2min\n"
     ]
    },
    {
     "name": "stderr",
     "output_type": "stream",
     "text": [
      "C:\\Users\\salda\\Anaconda3\\lib\\site-packages\\sklearn\\neural_network\\_multilayer_perceptron.py:614: ConvergenceWarning: Stochastic Optimizer: Maximum iterations (2500) reached and the optimization hasn't converged yet.\n",
      "  warnings.warn(\n"
     ]
    },
    {
     "name": "stdout",
     "output_type": "stream",
     "text": [
      "[CV] END hidden_layer_sizes=13, learning_rate_init=1e-05, max_iter=2500, random_state=42, solver=adam; total time= 2.2min\n"
     ]
    },
    {
     "name": "stderr",
     "output_type": "stream",
     "text": [
      "C:\\Users\\salda\\Anaconda3\\lib\\site-packages\\sklearn\\neural_network\\_multilayer_perceptron.py:614: ConvergenceWarning: Stochastic Optimizer: Maximum iterations (2500) reached and the optimization hasn't converged yet.\n",
      "  warnings.warn(\n"
     ]
    },
    {
     "name": "stdout",
     "output_type": "stream",
     "text": [
      "[CV] END hidden_layer_sizes=13, learning_rate_init=1e-05, max_iter=2500, random_state=42, solver=adam; total time= 2.2min\n"
     ]
    },
    {
     "name": "stderr",
     "output_type": "stream",
     "text": [
      "C:\\Users\\salda\\Anaconda3\\lib\\site-packages\\sklearn\\neural_network\\_multilayer_perceptron.py:500: ConvergenceWarning: lbfgs failed to converge (status=1):\n",
      "STOP: TOTAL NO. of ITERATIONS REACHED LIMIT.\n",
      "\n",
      "Increase the number of iterations (max_iter) or scale the data as shown in:\n",
      "    https://scikit-learn.org/stable/modules/preprocessing.html\n",
      "  self.n_iter_ = _check_optimize_result(\"lbfgs\", opt_res, self.max_iter)\n"
     ]
    },
    {
     "name": "stdout",
     "output_type": "stream",
     "text": [
      "[CV] END hidden_layer_sizes=14, learning_rate_init=0.1, max_iter=2500, random_state=42, solver=lbfgs; total time=  33.5s\n",
      "[CV] END hidden_layer_sizes=14, learning_rate_init=0.1, max_iter=2500, random_state=42, solver=lbfgs; total time=  18.3s\n",
      "[CV] END hidden_layer_sizes=14, learning_rate_init=0.1, max_iter=2500, random_state=42, solver=lbfgs; total time=  23.1s\n"
     ]
    },
    {
     "name": "stderr",
     "output_type": "stream",
     "text": [
      "C:\\Users\\salda\\Anaconda3\\lib\\site-packages\\sklearn\\neural_network\\_multilayer_perceptron.py:500: ConvergenceWarning: lbfgs failed to converge (status=1):\n",
      "STOP: TOTAL NO. of ITERATIONS REACHED LIMIT.\n",
      "\n",
      "Increase the number of iterations (max_iter) or scale the data as shown in:\n",
      "    https://scikit-learn.org/stable/modules/preprocessing.html\n",
      "  self.n_iter_ = _check_optimize_result(\"lbfgs\", opt_res, self.max_iter)\n"
     ]
    },
    {
     "name": "stdout",
     "output_type": "stream",
     "text": [
      "[CV] END hidden_layer_sizes=14, learning_rate_init=0.1, max_iter=2500, random_state=42, solver=lbfgs; total time=  29.3s\n"
     ]
    },
    {
     "name": "stderr",
     "output_type": "stream",
     "text": [
      "C:\\Users\\salda\\Anaconda3\\lib\\site-packages\\sklearn\\neural_network\\_multilayer_perceptron.py:500: ConvergenceWarning: lbfgs failed to converge (status=1):\n",
      "STOP: TOTAL NO. of ITERATIONS REACHED LIMIT.\n",
      "\n",
      "Increase the number of iterations (max_iter) or scale the data as shown in:\n",
      "    https://scikit-learn.org/stable/modules/preprocessing.html\n",
      "  self.n_iter_ = _check_optimize_result(\"lbfgs\", opt_res, self.max_iter)\n"
     ]
    },
    {
     "name": "stdout",
     "output_type": "stream",
     "text": [
      "[CV] END hidden_layer_sizes=14, learning_rate_init=0.1, max_iter=2500, random_state=42, solver=lbfgs; total time=  29.7s\n",
      "[CV] END hidden_layer_sizes=14, learning_rate_init=0.1, max_iter=2500, random_state=42, solver=adam; total time=   2.4s\n",
      "[CV] END hidden_layer_sizes=14, learning_rate_init=0.1, max_iter=2500, random_state=42, solver=adam; total time=   1.4s\n",
      "[CV] END hidden_layer_sizes=14, learning_rate_init=0.1, max_iter=2500, random_state=42, solver=adam; total time=   3.3s\n",
      "[CV] END hidden_layer_sizes=14, learning_rate_init=0.1, max_iter=2500, random_state=42, solver=adam; total time=   2.0s\n",
      "[CV] END hidden_layer_sizes=14, learning_rate_init=0.1, max_iter=2500, random_state=42, solver=adam; total time=   1.6s\n"
     ]
    },
    {
     "name": "stderr",
     "output_type": "stream",
     "text": [
      "C:\\Users\\salda\\Anaconda3\\lib\\site-packages\\sklearn\\neural_network\\_multilayer_perceptron.py:500: ConvergenceWarning: lbfgs failed to converge (status=1):\n",
      "STOP: TOTAL NO. of ITERATIONS REACHED LIMIT.\n",
      "\n",
      "Increase the number of iterations (max_iter) or scale the data as shown in:\n",
      "    https://scikit-learn.org/stable/modules/preprocessing.html\n",
      "  self.n_iter_ = _check_optimize_result(\"lbfgs\", opt_res, self.max_iter)\n"
     ]
    },
    {
     "name": "stdout",
     "output_type": "stream",
     "text": [
      "[CV] END hidden_layer_sizes=14, learning_rate_init=0.001, max_iter=2500, random_state=42, solver=lbfgs; total time=  29.4s\n",
      "[CV] END hidden_layer_sizes=14, learning_rate_init=0.001, max_iter=2500, random_state=42, solver=lbfgs; total time=  18.4s\n",
      "[CV] END hidden_layer_sizes=14, learning_rate_init=0.001, max_iter=2500, random_state=42, solver=lbfgs; total time=  27.8s\n"
     ]
    },
    {
     "name": "stderr",
     "output_type": "stream",
     "text": [
      "C:\\Users\\salda\\Anaconda3\\lib\\site-packages\\sklearn\\neural_network\\_multilayer_perceptron.py:500: ConvergenceWarning: lbfgs failed to converge (status=1):\n",
      "STOP: TOTAL NO. of ITERATIONS REACHED LIMIT.\n",
      "\n",
      "Increase the number of iterations (max_iter) or scale the data as shown in:\n",
      "    https://scikit-learn.org/stable/modules/preprocessing.html\n",
      "  self.n_iter_ = _check_optimize_result(\"lbfgs\", opt_res, self.max_iter)\n"
     ]
    },
    {
     "name": "stdout",
     "output_type": "stream",
     "text": [
      "[CV] END hidden_layer_sizes=14, learning_rate_init=0.001, max_iter=2500, random_state=42, solver=lbfgs; total time=  34.6s\n"
     ]
    },
    {
     "name": "stderr",
     "output_type": "stream",
     "text": [
      "C:\\Users\\salda\\Anaconda3\\lib\\site-packages\\sklearn\\neural_network\\_multilayer_perceptron.py:500: ConvergenceWarning: lbfgs failed to converge (status=1):\n",
      "STOP: TOTAL NO. of ITERATIONS REACHED LIMIT.\n",
      "\n",
      "Increase the number of iterations (max_iter) or scale the data as shown in:\n",
      "    https://scikit-learn.org/stable/modules/preprocessing.html\n",
      "  self.n_iter_ = _check_optimize_result(\"lbfgs\", opt_res, self.max_iter)\n"
     ]
    },
    {
     "name": "stdout",
     "output_type": "stream",
     "text": [
      "[CV] END hidden_layer_sizes=14, learning_rate_init=0.001, max_iter=2500, random_state=42, solver=lbfgs; total time=  30.7s\n",
      "[CV] END hidden_layer_sizes=14, learning_rate_init=0.001, max_iter=2500, random_state=42, solver=adam; total time=  20.3s\n",
      "[CV] END hidden_layer_sizes=14, learning_rate_init=0.001, max_iter=2500, random_state=42, solver=adam; total time=  23.8s\n",
      "[CV] END hidden_layer_sizes=14, learning_rate_init=0.001, max_iter=2500, random_state=42, solver=adam; total time=  30.1s\n",
      "[CV] END hidden_layer_sizes=14, learning_rate_init=0.001, max_iter=2500, random_state=42, solver=adam; total time=  18.3s\n",
      "[CV] END hidden_layer_sizes=14, learning_rate_init=0.001, max_iter=2500, random_state=42, solver=adam; total time=  18.1s\n"
     ]
    },
    {
     "name": "stderr",
     "output_type": "stream",
     "text": [
      "C:\\Users\\salda\\Anaconda3\\lib\\site-packages\\sklearn\\neural_network\\_multilayer_perceptron.py:500: ConvergenceWarning: lbfgs failed to converge (status=1):\n",
      "STOP: TOTAL NO. of ITERATIONS REACHED LIMIT.\n",
      "\n",
      "Increase the number of iterations (max_iter) or scale the data as shown in:\n",
      "    https://scikit-learn.org/stable/modules/preprocessing.html\n",
      "  self.n_iter_ = _check_optimize_result(\"lbfgs\", opt_res, self.max_iter)\n"
     ]
    },
    {
     "name": "stdout",
     "output_type": "stream",
     "text": [
      "[CV] END hidden_layer_sizes=14, learning_rate_init=1e-05, max_iter=2500, random_state=42, solver=lbfgs; total time=  29.6s\n",
      "[CV] END hidden_layer_sizes=14, learning_rate_init=1e-05, max_iter=2500, random_state=42, solver=lbfgs; total time=  19.2s\n",
      "[CV] END hidden_layer_sizes=14, learning_rate_init=1e-05, max_iter=2500, random_state=42, solver=lbfgs; total time=  22.8s\n"
     ]
    },
    {
     "name": "stderr",
     "output_type": "stream",
     "text": [
      "C:\\Users\\salda\\Anaconda3\\lib\\site-packages\\sklearn\\neural_network\\_multilayer_perceptron.py:500: ConvergenceWarning: lbfgs failed to converge (status=1):\n",
      "STOP: TOTAL NO. of ITERATIONS REACHED LIMIT.\n",
      "\n",
      "Increase the number of iterations (max_iter) or scale the data as shown in:\n",
      "    https://scikit-learn.org/stable/modules/preprocessing.html\n",
      "  self.n_iter_ = _check_optimize_result(\"lbfgs\", opt_res, self.max_iter)\n"
     ]
    },
    {
     "name": "stdout",
     "output_type": "stream",
     "text": [
      "[CV] END hidden_layer_sizes=14, learning_rate_init=1e-05, max_iter=2500, random_state=42, solver=lbfgs; total time=  29.6s\n"
     ]
    },
    {
     "name": "stderr",
     "output_type": "stream",
     "text": [
      "C:\\Users\\salda\\Anaconda3\\lib\\site-packages\\sklearn\\neural_network\\_multilayer_perceptron.py:500: ConvergenceWarning: lbfgs failed to converge (status=1):\n",
      "STOP: TOTAL NO. of ITERATIONS REACHED LIMIT.\n",
      "\n",
      "Increase the number of iterations (max_iter) or scale the data as shown in:\n",
      "    https://scikit-learn.org/stable/modules/preprocessing.html\n",
      "  self.n_iter_ = _check_optimize_result(\"lbfgs\", opt_res, self.max_iter)\n"
     ]
    },
    {
     "name": "stdout",
     "output_type": "stream",
     "text": [
      "[CV] END hidden_layer_sizes=14, learning_rate_init=1e-05, max_iter=2500, random_state=42, solver=lbfgs; total time=  29.9s\n"
     ]
    },
    {
     "name": "stderr",
     "output_type": "stream",
     "text": [
      "C:\\Users\\salda\\Anaconda3\\lib\\site-packages\\sklearn\\neural_network\\_multilayer_perceptron.py:614: ConvergenceWarning: Stochastic Optimizer: Maximum iterations (2500) reached and the optimization hasn't converged yet.\n",
      "  warnings.warn(\n"
     ]
    },
    {
     "name": "stdout",
     "output_type": "stream",
     "text": [
      "[CV] END hidden_layer_sizes=14, learning_rate_init=1e-05, max_iter=2500, random_state=42, solver=adam; total time= 2.3min\n"
     ]
    },
    {
     "name": "stderr",
     "output_type": "stream",
     "text": [
      "C:\\Users\\salda\\Anaconda3\\lib\\site-packages\\sklearn\\neural_network\\_multilayer_perceptron.py:614: ConvergenceWarning: Stochastic Optimizer: Maximum iterations (2500) reached and the optimization hasn't converged yet.\n",
      "  warnings.warn(\n"
     ]
    },
    {
     "name": "stdout",
     "output_type": "stream",
     "text": [
      "[CV] END hidden_layer_sizes=14, learning_rate_init=1e-05, max_iter=2500, random_state=42, solver=adam; total time= 2.2min\n"
     ]
    },
    {
     "name": "stderr",
     "output_type": "stream",
     "text": [
      "C:\\Users\\salda\\Anaconda3\\lib\\site-packages\\sklearn\\neural_network\\_multilayer_perceptron.py:614: ConvergenceWarning: Stochastic Optimizer: Maximum iterations (2500) reached and the optimization hasn't converged yet.\n",
      "  warnings.warn(\n"
     ]
    },
    {
     "name": "stdout",
     "output_type": "stream",
     "text": [
      "[CV] END hidden_layer_sizes=14, learning_rate_init=1e-05, max_iter=2500, random_state=42, solver=adam; total time= 2.2min\n"
     ]
    },
    {
     "name": "stderr",
     "output_type": "stream",
     "text": [
      "C:\\Users\\salda\\Anaconda3\\lib\\site-packages\\sklearn\\neural_network\\_multilayer_perceptron.py:614: ConvergenceWarning: Stochastic Optimizer: Maximum iterations (2500) reached and the optimization hasn't converged yet.\n",
      "  warnings.warn(\n"
     ]
    },
    {
     "name": "stdout",
     "output_type": "stream",
     "text": [
      "[CV] END hidden_layer_sizes=14, learning_rate_init=1e-05, max_iter=2500, random_state=42, solver=adam; total time= 2.2min\n"
     ]
    },
    {
     "name": "stderr",
     "output_type": "stream",
     "text": [
      "C:\\Users\\salda\\Anaconda3\\lib\\site-packages\\sklearn\\neural_network\\_multilayer_perceptron.py:614: ConvergenceWarning: Stochastic Optimizer: Maximum iterations (2500) reached and the optimization hasn't converged yet.\n",
      "  warnings.warn(\n"
     ]
    },
    {
     "name": "stdout",
     "output_type": "stream",
     "text": [
      "[CV] END hidden_layer_sizes=14, learning_rate_init=1e-05, max_iter=2500, random_state=42, solver=adam; total time= 2.3min\n",
      "[CV] END hidden_layer_sizes=15, learning_rate_init=0.1, max_iter=2500, random_state=42, solver=lbfgs; total time=  32.2s\n",
      "[CV] END hidden_layer_sizes=15, learning_rate_init=0.1, max_iter=2500, random_state=42, solver=lbfgs; total time=  25.9s\n"
     ]
    },
    {
     "name": "stderr",
     "output_type": "stream",
     "text": [
      "C:\\Users\\salda\\Anaconda3\\lib\\site-packages\\sklearn\\neural_network\\_multilayer_perceptron.py:500: ConvergenceWarning: lbfgs failed to converge (status=1):\n",
      "STOP: TOTAL NO. of ITERATIONS REACHED LIMIT.\n",
      "\n",
      "Increase the number of iterations (max_iter) or scale the data as shown in:\n",
      "    https://scikit-learn.org/stable/modules/preprocessing.html\n",
      "  self.n_iter_ = _check_optimize_result(\"lbfgs\", opt_res, self.max_iter)\n"
     ]
    },
    {
     "name": "stdout",
     "output_type": "stream",
     "text": [
      "[CV] END hidden_layer_sizes=15, learning_rate_init=0.1, max_iter=2500, random_state=42, solver=lbfgs; total time=  31.6s\n"
     ]
    },
    {
     "name": "stderr",
     "output_type": "stream",
     "text": [
      "C:\\Users\\salda\\Anaconda3\\lib\\site-packages\\sklearn\\neural_network\\_multilayer_perceptron.py:500: ConvergenceWarning: lbfgs failed to converge (status=1):\n",
      "STOP: TOTAL NO. of ITERATIONS REACHED LIMIT.\n",
      "\n",
      "Increase the number of iterations (max_iter) or scale the data as shown in:\n",
      "    https://scikit-learn.org/stable/modules/preprocessing.html\n",
      "  self.n_iter_ = _check_optimize_result(\"lbfgs\", opt_res, self.max_iter)\n"
     ]
    },
    {
     "name": "stdout",
     "output_type": "stream",
     "text": [
      "[CV] END hidden_layer_sizes=15, learning_rate_init=0.1, max_iter=2500, random_state=42, solver=lbfgs; total time=  32.3s\n"
     ]
    },
    {
     "name": "stderr",
     "output_type": "stream",
     "text": [
      "C:\\Users\\salda\\Anaconda3\\lib\\site-packages\\sklearn\\neural_network\\_multilayer_perceptron.py:500: ConvergenceWarning: lbfgs failed to converge (status=1):\n",
      "STOP: TOTAL NO. of ITERATIONS REACHED LIMIT.\n",
      "\n",
      "Increase the number of iterations (max_iter) or scale the data as shown in:\n",
      "    https://scikit-learn.org/stable/modules/preprocessing.html\n",
      "  self.n_iter_ = _check_optimize_result(\"lbfgs\", opt_res, self.max_iter)\n"
     ]
    },
    {
     "name": "stdout",
     "output_type": "stream",
     "text": [
      "[CV] END hidden_layer_sizes=15, learning_rate_init=0.1, max_iter=2500, random_state=42, solver=lbfgs; total time=  33.3s\n",
      "[CV] END hidden_layer_sizes=15, learning_rate_init=0.1, max_iter=2500, random_state=42, solver=adam; total time=   2.3s\n",
      "[CV] END hidden_layer_sizes=15, learning_rate_init=0.1, max_iter=2500, random_state=42, solver=adam; total time=   2.7s\n",
      "[CV] END hidden_layer_sizes=15, learning_rate_init=0.1, max_iter=2500, random_state=42, solver=adam; total time=   2.5s\n",
      "[CV] END hidden_layer_sizes=15, learning_rate_init=0.1, max_iter=2500, random_state=42, solver=adam; total time=   2.8s\n",
      "[CV] END hidden_layer_sizes=15, learning_rate_init=0.1, max_iter=2500, random_state=42, solver=adam; total time=   2.8s\n",
      "[CV] END hidden_layer_sizes=15, learning_rate_init=0.001, max_iter=2500, random_state=42, solver=lbfgs; total time=  32.8s\n",
      "[CV] END hidden_layer_sizes=15, learning_rate_init=0.001, max_iter=2500, random_state=42, solver=lbfgs; total time=  25.6s\n"
     ]
    },
    {
     "name": "stderr",
     "output_type": "stream",
     "text": [
      "C:\\Users\\salda\\Anaconda3\\lib\\site-packages\\sklearn\\neural_network\\_multilayer_perceptron.py:500: ConvergenceWarning: lbfgs failed to converge (status=1):\n",
      "STOP: TOTAL NO. of ITERATIONS REACHED LIMIT.\n",
      "\n",
      "Increase the number of iterations (max_iter) or scale the data as shown in:\n",
      "    https://scikit-learn.org/stable/modules/preprocessing.html\n",
      "  self.n_iter_ = _check_optimize_result(\"lbfgs\", opt_res, self.max_iter)\n"
     ]
    },
    {
     "name": "stdout",
     "output_type": "stream",
     "text": [
      "[CV] END hidden_layer_sizes=15, learning_rate_init=0.001, max_iter=2500, random_state=42, solver=lbfgs; total time=  31.7s\n"
     ]
    },
    {
     "name": "stderr",
     "output_type": "stream",
     "text": [
      "C:\\Users\\salda\\Anaconda3\\lib\\site-packages\\sklearn\\neural_network\\_multilayer_perceptron.py:500: ConvergenceWarning: lbfgs failed to converge (status=1):\n",
      "STOP: TOTAL NO. of ITERATIONS REACHED LIMIT.\n",
      "\n",
      "Increase the number of iterations (max_iter) or scale the data as shown in:\n",
      "    https://scikit-learn.org/stable/modules/preprocessing.html\n",
      "  self.n_iter_ = _check_optimize_result(\"lbfgs\", opt_res, self.max_iter)\n"
     ]
    },
    {
     "name": "stdout",
     "output_type": "stream",
     "text": [
      "[CV] END hidden_layer_sizes=15, learning_rate_init=0.001, max_iter=2500, random_state=42, solver=lbfgs; total time=  32.5s\n"
     ]
    },
    {
     "name": "stderr",
     "output_type": "stream",
     "text": [
      "C:\\Users\\salda\\Anaconda3\\lib\\site-packages\\sklearn\\neural_network\\_multilayer_perceptron.py:500: ConvergenceWarning: lbfgs failed to converge (status=1):\n",
      "STOP: TOTAL NO. of ITERATIONS REACHED LIMIT.\n",
      "\n",
      "Increase the number of iterations (max_iter) or scale the data as shown in:\n",
      "    https://scikit-learn.org/stable/modules/preprocessing.html\n",
      "  self.n_iter_ = _check_optimize_result(\"lbfgs\", opt_res, self.max_iter)\n"
     ]
    },
    {
     "name": "stdout",
     "output_type": "stream",
     "text": [
      "[CV] END hidden_layer_sizes=15, learning_rate_init=0.001, max_iter=2500, random_state=42, solver=lbfgs; total time=  33.5s\n",
      "[CV] END hidden_layer_sizes=15, learning_rate_init=0.001, max_iter=2500, random_state=42, solver=adam; total time=  16.0s\n",
      "[CV] END hidden_layer_sizes=15, learning_rate_init=0.001, max_iter=2500, random_state=42, solver=adam; total time=  32.0s\n",
      "[CV] END hidden_layer_sizes=15, learning_rate_init=0.001, max_iter=2500, random_state=42, solver=adam; total time=  19.5s\n",
      "[CV] END hidden_layer_sizes=15, learning_rate_init=0.001, max_iter=2500, random_state=42, solver=adam; total time=  19.0s\n",
      "[CV] END hidden_layer_sizes=15, learning_rate_init=0.001, max_iter=2500, random_state=42, solver=adam; total time=  20.4s\n",
      "[CV] END hidden_layer_sizes=15, learning_rate_init=1e-05, max_iter=2500, random_state=42, solver=lbfgs; total time=  31.6s\n",
      "[CV] END hidden_layer_sizes=15, learning_rate_init=1e-05, max_iter=2500, random_state=42, solver=lbfgs; total time=  25.8s\n"
     ]
    },
    {
     "name": "stderr",
     "output_type": "stream",
     "text": [
      "C:\\Users\\salda\\Anaconda3\\lib\\site-packages\\sklearn\\neural_network\\_multilayer_perceptron.py:500: ConvergenceWarning: lbfgs failed to converge (status=1):\n",
      "STOP: TOTAL NO. of ITERATIONS REACHED LIMIT.\n",
      "\n",
      "Increase the number of iterations (max_iter) or scale the data as shown in:\n",
      "    https://scikit-learn.org/stable/modules/preprocessing.html\n",
      "  self.n_iter_ = _check_optimize_result(\"lbfgs\", opt_res, self.max_iter)\n"
     ]
    },
    {
     "name": "stdout",
     "output_type": "stream",
     "text": [
      "[CV] END hidden_layer_sizes=15, learning_rate_init=1e-05, max_iter=2500, random_state=42, solver=lbfgs; total time=  31.9s\n"
     ]
    },
    {
     "name": "stderr",
     "output_type": "stream",
     "text": [
      "C:\\Users\\salda\\Anaconda3\\lib\\site-packages\\sklearn\\neural_network\\_multilayer_perceptron.py:500: ConvergenceWarning: lbfgs failed to converge (status=1):\n",
      "STOP: TOTAL NO. of ITERATIONS REACHED LIMIT.\n",
      "\n",
      "Increase the number of iterations (max_iter) or scale the data as shown in:\n",
      "    https://scikit-learn.org/stable/modules/preprocessing.html\n",
      "  self.n_iter_ = _check_optimize_result(\"lbfgs\", opt_res, self.max_iter)\n"
     ]
    },
    {
     "name": "stdout",
     "output_type": "stream",
     "text": [
      "[CV] END hidden_layer_sizes=15, learning_rate_init=1e-05, max_iter=2500, random_state=42, solver=lbfgs; total time=  32.7s\n"
     ]
    },
    {
     "name": "stderr",
     "output_type": "stream",
     "text": [
      "C:\\Users\\salda\\Anaconda3\\lib\\site-packages\\sklearn\\neural_network\\_multilayer_perceptron.py:500: ConvergenceWarning: lbfgs failed to converge (status=1):\n",
      "STOP: TOTAL NO. of ITERATIONS REACHED LIMIT.\n",
      "\n",
      "Increase the number of iterations (max_iter) or scale the data as shown in:\n",
      "    https://scikit-learn.org/stable/modules/preprocessing.html\n",
      "  self.n_iter_ = _check_optimize_result(\"lbfgs\", opt_res, self.max_iter)\n"
     ]
    },
    {
     "name": "stdout",
     "output_type": "stream",
     "text": [
      "[CV] END hidden_layer_sizes=15, learning_rate_init=1e-05, max_iter=2500, random_state=42, solver=lbfgs; total time=  33.2s\n"
     ]
    },
    {
     "name": "stderr",
     "output_type": "stream",
     "text": [
      "C:\\Users\\salda\\Anaconda3\\lib\\site-packages\\sklearn\\neural_network\\_multilayer_perceptron.py:614: ConvergenceWarning: Stochastic Optimizer: Maximum iterations (2500) reached and the optimization hasn't converged yet.\n",
      "  warnings.warn(\n"
     ]
    },
    {
     "name": "stdout",
     "output_type": "stream",
     "text": [
      "[CV] END hidden_layer_sizes=15, learning_rate_init=1e-05, max_iter=2500, random_state=42, solver=adam; total time= 2.3min\n"
     ]
    },
    {
     "name": "stderr",
     "output_type": "stream",
     "text": [
      "C:\\Users\\salda\\Anaconda3\\lib\\site-packages\\sklearn\\neural_network\\_multilayer_perceptron.py:614: ConvergenceWarning: Stochastic Optimizer: Maximum iterations (2500) reached and the optimization hasn't converged yet.\n",
      "  warnings.warn(\n"
     ]
    },
    {
     "name": "stdout",
     "output_type": "stream",
     "text": [
      "[CV] END hidden_layer_sizes=15, learning_rate_init=1e-05, max_iter=2500, random_state=42, solver=adam; total time= 2.3min\n"
     ]
    },
    {
     "name": "stderr",
     "output_type": "stream",
     "text": [
      "C:\\Users\\salda\\Anaconda3\\lib\\site-packages\\sklearn\\neural_network\\_multilayer_perceptron.py:614: ConvergenceWarning: Stochastic Optimizer: Maximum iterations (2500) reached and the optimization hasn't converged yet.\n",
      "  warnings.warn(\n"
     ]
    },
    {
     "name": "stdout",
     "output_type": "stream",
     "text": [
      "[CV] END hidden_layer_sizes=15, learning_rate_init=1e-05, max_iter=2500, random_state=42, solver=adam; total time= 2.2min\n"
     ]
    },
    {
     "name": "stderr",
     "output_type": "stream",
     "text": [
      "C:\\Users\\salda\\Anaconda3\\lib\\site-packages\\sklearn\\neural_network\\_multilayer_perceptron.py:614: ConvergenceWarning: Stochastic Optimizer: Maximum iterations (2500) reached and the optimization hasn't converged yet.\n",
      "  warnings.warn(\n"
     ]
    },
    {
     "name": "stdout",
     "output_type": "stream",
     "text": [
      "[CV] END hidden_layer_sizes=15, learning_rate_init=1e-05, max_iter=2500, random_state=42, solver=adam; total time= 2.2min\n"
     ]
    },
    {
     "name": "stderr",
     "output_type": "stream",
     "text": [
      "C:\\Users\\salda\\Anaconda3\\lib\\site-packages\\sklearn\\neural_network\\_multilayer_perceptron.py:614: ConvergenceWarning: Stochastic Optimizer: Maximum iterations (2500) reached and the optimization hasn't converged yet.\n",
      "  warnings.warn(\n"
     ]
    },
    {
     "name": "stdout",
     "output_type": "stream",
     "text": [
      "[CV] END hidden_layer_sizes=15, learning_rate_init=1e-05, max_iter=2500, random_state=42, solver=adam; total time= 2.4min\n"
     ]
    },
    {
     "name": "stderr",
     "output_type": "stream",
     "text": [
      "C:\\Users\\salda\\Anaconda3\\lib\\site-packages\\sklearn\\neural_network\\_multilayer_perceptron.py:500: ConvergenceWarning: lbfgs failed to converge (status=1):\n",
      "STOP: TOTAL NO. of ITERATIONS REACHED LIMIT.\n",
      "\n",
      "Increase the number of iterations (max_iter) or scale the data as shown in:\n",
      "    https://scikit-learn.org/stable/modules/preprocessing.html\n",
      "  self.n_iter_ = _check_optimize_result(\"lbfgs\", opt_res, self.max_iter)\n"
     ]
    },
    {
     "name": "stdout",
     "output_type": "stream",
     "text": [
      "[CV] END hidden_layer_sizes=16, learning_rate_init=0.1, max_iter=2500, random_state=42, solver=lbfgs; total time=  32.7s\n",
      "[CV] END hidden_layer_sizes=16, learning_rate_init=0.1, max_iter=2500, random_state=42, solver=lbfgs; total time=  16.6s\n"
     ]
    },
    {
     "name": "stderr",
     "output_type": "stream",
     "text": [
      "C:\\Users\\salda\\Anaconda3\\lib\\site-packages\\sklearn\\neural_network\\_multilayer_perceptron.py:500: ConvergenceWarning: lbfgs failed to converge (status=1):\n",
      "STOP: TOTAL NO. of ITERATIONS REACHED LIMIT.\n",
      "\n",
      "Increase the number of iterations (max_iter) or scale the data as shown in:\n",
      "    https://scikit-learn.org/stable/modules/preprocessing.html\n",
      "  self.n_iter_ = _check_optimize_result(\"lbfgs\", opt_res, self.max_iter)\n"
     ]
    },
    {
     "name": "stdout",
     "output_type": "stream",
     "text": [
      "[CV] END hidden_layer_sizes=16, learning_rate_init=0.1, max_iter=2500, random_state=42, solver=lbfgs; total time=  32.6s\n"
     ]
    },
    {
     "name": "stderr",
     "output_type": "stream",
     "text": [
      "C:\\Users\\salda\\Anaconda3\\lib\\site-packages\\sklearn\\neural_network\\_multilayer_perceptron.py:500: ConvergenceWarning: lbfgs failed to converge (status=1):\n",
      "STOP: TOTAL NO. of ITERATIONS REACHED LIMIT.\n",
      "\n",
      "Increase the number of iterations (max_iter) or scale the data as shown in:\n",
      "    https://scikit-learn.org/stable/modules/preprocessing.html\n",
      "  self.n_iter_ = _check_optimize_result(\"lbfgs\", opt_res, self.max_iter)\n"
     ]
    },
    {
     "name": "stdout",
     "output_type": "stream",
     "text": [
      "[CV] END hidden_layer_sizes=16, learning_rate_init=0.1, max_iter=2500, random_state=42, solver=lbfgs; total time=  32.1s\n",
      "[CV] END hidden_layer_sizes=16, learning_rate_init=0.1, max_iter=2500, random_state=42, solver=lbfgs; total time=  23.8s\n",
      "[CV] END hidden_layer_sizes=16, learning_rate_init=0.1, max_iter=2500, random_state=42, solver=adam; total time=   2.2s\n",
      "[CV] END hidden_layer_sizes=16, learning_rate_init=0.1, max_iter=2500, random_state=42, solver=adam; total time=   3.7s\n",
      "[CV] END hidden_layer_sizes=16, learning_rate_init=0.1, max_iter=2500, random_state=42, solver=adam; total time=   2.4s\n",
      "[CV] END hidden_layer_sizes=16, learning_rate_init=0.1, max_iter=2500, random_state=42, solver=adam; total time=   2.2s\n",
      "[CV] END hidden_layer_sizes=16, learning_rate_init=0.1, max_iter=2500, random_state=42, solver=adam; total time=   2.5s\n"
     ]
    },
    {
     "name": "stderr",
     "output_type": "stream",
     "text": [
      "C:\\Users\\salda\\Anaconda3\\lib\\site-packages\\sklearn\\neural_network\\_multilayer_perceptron.py:500: ConvergenceWarning: lbfgs failed to converge (status=1):\n",
      "STOP: TOTAL NO. of ITERATIONS REACHED LIMIT.\n",
      "\n",
      "Increase the number of iterations (max_iter) or scale the data as shown in:\n",
      "    https://scikit-learn.org/stable/modules/preprocessing.html\n",
      "  self.n_iter_ = _check_optimize_result(\"lbfgs\", opt_res, self.max_iter)\n"
     ]
    },
    {
     "name": "stdout",
     "output_type": "stream",
     "text": [
      "[CV] END hidden_layer_sizes=16, learning_rate_init=0.001, max_iter=2500, random_state=42, solver=lbfgs; total time=  32.8s\n",
      "[CV] END hidden_layer_sizes=16, learning_rate_init=0.001, max_iter=2500, random_state=42, solver=lbfgs; total time=  17.1s\n"
     ]
    },
    {
     "name": "stderr",
     "output_type": "stream",
     "text": [
      "C:\\Users\\salda\\Anaconda3\\lib\\site-packages\\sklearn\\neural_network\\_multilayer_perceptron.py:500: ConvergenceWarning: lbfgs failed to converge (status=1):\n",
      "STOP: TOTAL NO. of ITERATIONS REACHED LIMIT.\n",
      "\n",
      "Increase the number of iterations (max_iter) or scale the data as shown in:\n",
      "    https://scikit-learn.org/stable/modules/preprocessing.html\n",
      "  self.n_iter_ = _check_optimize_result(\"lbfgs\", opt_res, self.max_iter)\n"
     ]
    },
    {
     "name": "stdout",
     "output_type": "stream",
     "text": [
      "[CV] END hidden_layer_sizes=16, learning_rate_init=0.001, max_iter=2500, random_state=42, solver=lbfgs; total time=  32.7s\n"
     ]
    },
    {
     "name": "stderr",
     "output_type": "stream",
     "text": [
      "C:\\Users\\salda\\Anaconda3\\lib\\site-packages\\sklearn\\neural_network\\_multilayer_perceptron.py:500: ConvergenceWarning: lbfgs failed to converge (status=1):\n",
      "STOP: TOTAL NO. of ITERATIONS REACHED LIMIT.\n",
      "\n",
      "Increase the number of iterations (max_iter) or scale the data as shown in:\n",
      "    https://scikit-learn.org/stable/modules/preprocessing.html\n",
      "  self.n_iter_ = _check_optimize_result(\"lbfgs\", opt_res, self.max_iter)\n"
     ]
    },
    {
     "name": "stdout",
     "output_type": "stream",
     "text": [
      "[CV] END hidden_layer_sizes=16, learning_rate_init=0.001, max_iter=2500, random_state=42, solver=lbfgs; total time=  33.1s\n",
      "[CV] END hidden_layer_sizes=16, learning_rate_init=0.001, max_iter=2500, random_state=42, solver=lbfgs; total time=  23.3s\n",
      "[CV] END hidden_layer_sizes=16, learning_rate_init=0.001, max_iter=2500, random_state=42, solver=adam; total time=  19.8s\n",
      "[CV] END hidden_layer_sizes=16, learning_rate_init=0.001, max_iter=2500, random_state=42, solver=adam; total time=  18.5s\n",
      "[CV] END hidden_layer_sizes=16, learning_rate_init=0.001, max_iter=2500, random_state=42, solver=adam; total time=  25.1s\n",
      "[CV] END hidden_layer_sizes=16, learning_rate_init=0.001, max_iter=2500, random_state=42, solver=adam; total time=  14.9s\n",
      "[CV] END hidden_layer_sizes=16, learning_rate_init=0.001, max_iter=2500, random_state=42, solver=adam; total time=  27.7s\n"
     ]
    },
    {
     "name": "stderr",
     "output_type": "stream",
     "text": [
      "C:\\Users\\salda\\Anaconda3\\lib\\site-packages\\sklearn\\neural_network\\_multilayer_perceptron.py:500: ConvergenceWarning: lbfgs failed to converge (status=1):\n",
      "STOP: TOTAL NO. of ITERATIONS REACHED LIMIT.\n",
      "\n",
      "Increase the number of iterations (max_iter) or scale the data as shown in:\n",
      "    https://scikit-learn.org/stable/modules/preprocessing.html\n",
      "  self.n_iter_ = _check_optimize_result(\"lbfgs\", opt_res, self.max_iter)\n"
     ]
    },
    {
     "name": "stdout",
     "output_type": "stream",
     "text": [
      "[CV] END hidden_layer_sizes=16, learning_rate_init=1e-05, max_iter=2500, random_state=42, solver=lbfgs; total time=  34.0s\n",
      "[CV] END hidden_layer_sizes=16, learning_rate_init=1e-05, max_iter=2500, random_state=42, solver=lbfgs; total time=  18.6s\n"
     ]
    },
    {
     "name": "stderr",
     "output_type": "stream",
     "text": [
      "C:\\Users\\salda\\Anaconda3\\lib\\site-packages\\sklearn\\neural_network\\_multilayer_perceptron.py:500: ConvergenceWarning: lbfgs failed to converge (status=1):\n",
      "STOP: TOTAL NO. of ITERATIONS REACHED LIMIT.\n",
      "\n",
      "Increase the number of iterations (max_iter) or scale the data as shown in:\n",
      "    https://scikit-learn.org/stable/modules/preprocessing.html\n",
      "  self.n_iter_ = _check_optimize_result(\"lbfgs\", opt_res, self.max_iter)\n"
     ]
    },
    {
     "name": "stdout",
     "output_type": "stream",
     "text": [
      "[CV] END hidden_layer_sizes=16, learning_rate_init=1e-05, max_iter=2500, random_state=42, solver=lbfgs; total time=  36.0s\n"
     ]
    },
    {
     "name": "stderr",
     "output_type": "stream",
     "text": [
      "C:\\Users\\salda\\Anaconda3\\lib\\site-packages\\sklearn\\neural_network\\_multilayer_perceptron.py:500: ConvergenceWarning: lbfgs failed to converge (status=1):\n",
      "STOP: TOTAL NO. of ITERATIONS REACHED LIMIT.\n",
      "\n",
      "Increase the number of iterations (max_iter) or scale the data as shown in:\n",
      "    https://scikit-learn.org/stable/modules/preprocessing.html\n",
      "  self.n_iter_ = _check_optimize_result(\"lbfgs\", opt_res, self.max_iter)\n"
     ]
    },
    {
     "name": "stdout",
     "output_type": "stream",
     "text": [
      "[CV] END hidden_layer_sizes=16, learning_rate_init=1e-05, max_iter=2500, random_state=42, solver=lbfgs; total time=  33.2s\n",
      "[CV] END hidden_layer_sizes=16, learning_rate_init=1e-05, max_iter=2500, random_state=42, solver=lbfgs; total time=  24.4s\n"
     ]
    },
    {
     "name": "stderr",
     "output_type": "stream",
     "text": [
      "C:\\Users\\salda\\Anaconda3\\lib\\site-packages\\sklearn\\neural_network\\_multilayer_perceptron.py:614: ConvergenceWarning: Stochastic Optimizer: Maximum iterations (2500) reached and the optimization hasn't converged yet.\n",
      "  warnings.warn(\n"
     ]
    },
    {
     "name": "stdout",
     "output_type": "stream",
     "text": [
      "[CV] END hidden_layer_sizes=16, learning_rate_init=1e-05, max_iter=2500, random_state=42, solver=adam; total time= 2.3min\n"
     ]
    },
    {
     "name": "stderr",
     "output_type": "stream",
     "text": [
      "C:\\Users\\salda\\Anaconda3\\lib\\site-packages\\sklearn\\neural_network\\_multilayer_perceptron.py:614: ConvergenceWarning: Stochastic Optimizer: Maximum iterations (2500) reached and the optimization hasn't converged yet.\n",
      "  warnings.warn(\n"
     ]
    },
    {
     "name": "stdout",
     "output_type": "stream",
     "text": [
      "[CV] END hidden_layer_sizes=16, learning_rate_init=1e-05, max_iter=2500, random_state=42, solver=adam; total time= 2.5min\n"
     ]
    },
    {
     "name": "stderr",
     "output_type": "stream",
     "text": [
      "C:\\Users\\salda\\Anaconda3\\lib\\site-packages\\sklearn\\neural_network\\_multilayer_perceptron.py:614: ConvergenceWarning: Stochastic Optimizer: Maximum iterations (2500) reached and the optimization hasn't converged yet.\n",
      "  warnings.warn(\n"
     ]
    },
    {
     "name": "stdout",
     "output_type": "stream",
     "text": [
      "[CV] END hidden_layer_sizes=16, learning_rate_init=1e-05, max_iter=2500, random_state=42, solver=adam; total time= 2.3min\n"
     ]
    },
    {
     "name": "stderr",
     "output_type": "stream",
     "text": [
      "C:\\Users\\salda\\Anaconda3\\lib\\site-packages\\sklearn\\neural_network\\_multilayer_perceptron.py:614: ConvergenceWarning: Stochastic Optimizer: Maximum iterations (2500) reached and the optimization hasn't converged yet.\n",
      "  warnings.warn(\n"
     ]
    },
    {
     "name": "stdout",
     "output_type": "stream",
     "text": [
      "[CV] END hidden_layer_sizes=16, learning_rate_init=1e-05, max_iter=2500, random_state=42, solver=adam; total time= 2.2min\n"
     ]
    },
    {
     "name": "stderr",
     "output_type": "stream",
     "text": [
      "C:\\Users\\salda\\Anaconda3\\lib\\site-packages\\sklearn\\neural_network\\_multilayer_perceptron.py:614: ConvergenceWarning: Stochastic Optimizer: Maximum iterations (2500) reached and the optimization hasn't converged yet.\n",
      "  warnings.warn(\n"
     ]
    },
    {
     "name": "stdout",
     "output_type": "stream",
     "text": [
      "[CV] END hidden_layer_sizes=16, learning_rate_init=1e-05, max_iter=2500, random_state=42, solver=adam; total time= 2.3min\n"
     ]
    },
    {
     "name": "stderr",
     "output_type": "stream",
     "text": [
      "C:\\Users\\salda\\Anaconda3\\lib\\site-packages\\sklearn\\neural_network\\_multilayer_perceptron.py:500: ConvergenceWarning: lbfgs failed to converge (status=1):\n",
      "STOP: TOTAL NO. of ITERATIONS REACHED LIMIT.\n",
      "\n",
      "Increase the number of iterations (max_iter) or scale the data as shown in:\n",
      "    https://scikit-learn.org/stable/modules/preprocessing.html\n",
      "  self.n_iter_ = _check_optimize_result(\"lbfgs\", opt_res, self.max_iter)\n"
     ]
    },
    {
     "name": "stdout",
     "output_type": "stream",
     "text": [
      "[CV] END hidden_layer_sizes=17, learning_rate_init=0.1, max_iter=2500, random_state=42, solver=lbfgs; total time=  36.3s\n",
      "[CV] END hidden_layer_sizes=17, learning_rate_init=0.1, max_iter=2500, random_state=42, solver=lbfgs; total time=  34.1s\n",
      "[CV] END hidden_layer_sizes=17, learning_rate_init=0.1, max_iter=2500, random_state=42, solver=lbfgs; total time=  27.1s\n",
      "[CV] END hidden_layer_sizes=17, learning_rate_init=0.1, max_iter=2500, random_state=42, solver=lbfgs; total time=  33.4s\n"
     ]
    },
    {
     "name": "stderr",
     "output_type": "stream",
     "text": [
      "C:\\Users\\salda\\Anaconda3\\lib\\site-packages\\sklearn\\neural_network\\_multilayer_perceptron.py:500: ConvergenceWarning: lbfgs failed to converge (status=1):\n",
      "STOP: TOTAL NO. of ITERATIONS REACHED LIMIT.\n",
      "\n",
      "Increase the number of iterations (max_iter) or scale the data as shown in:\n",
      "    https://scikit-learn.org/stable/modules/preprocessing.html\n",
      "  self.n_iter_ = _check_optimize_result(\"lbfgs\", opt_res, self.max_iter)\n"
     ]
    },
    {
     "name": "stdout",
     "output_type": "stream",
     "text": [
      "[CV] END hidden_layer_sizes=17, learning_rate_init=0.1, max_iter=2500, random_state=42, solver=lbfgs; total time=  36.6s\n",
      "[CV] END hidden_layer_sizes=17, learning_rate_init=0.1, max_iter=2500, random_state=42, solver=adam; total time=   2.7s\n",
      "[CV] END hidden_layer_sizes=17, learning_rate_init=0.1, max_iter=2500, random_state=42, solver=adam; total time=   1.6s\n",
      "[CV] END hidden_layer_sizes=17, learning_rate_init=0.1, max_iter=2500, random_state=42, solver=adam; total time=   3.4s\n",
      "[CV] END hidden_layer_sizes=17, learning_rate_init=0.1, max_iter=2500, random_state=42, solver=adam; total time=   3.6s\n",
      "[CV] END hidden_layer_sizes=17, learning_rate_init=0.1, max_iter=2500, random_state=42, solver=adam; total time=   4.7s\n"
     ]
    },
    {
     "name": "stderr",
     "output_type": "stream",
     "text": [
      "C:\\Users\\salda\\Anaconda3\\lib\\site-packages\\sklearn\\neural_network\\_multilayer_perceptron.py:500: ConvergenceWarning: lbfgs failed to converge (status=1):\n",
      "STOP: TOTAL NO. of ITERATIONS REACHED LIMIT.\n",
      "\n",
      "Increase the number of iterations (max_iter) or scale the data as shown in:\n",
      "    https://scikit-learn.org/stable/modules/preprocessing.html\n",
      "  self.n_iter_ = _check_optimize_result(\"lbfgs\", opt_res, self.max_iter)\n"
     ]
    },
    {
     "name": "stdout",
     "output_type": "stream",
     "text": [
      "[CV] END hidden_layer_sizes=17, learning_rate_init=0.001, max_iter=2500, random_state=42, solver=lbfgs; total time=  36.4s\n",
      "[CV] END hidden_layer_sizes=17, learning_rate_init=0.001, max_iter=2500, random_state=42, solver=lbfgs; total time=  34.2s\n",
      "[CV] END hidden_layer_sizes=17, learning_rate_init=0.001, max_iter=2500, random_state=42, solver=lbfgs; total time=  27.2s\n",
      "[CV] END hidden_layer_sizes=17, learning_rate_init=0.001, max_iter=2500, random_state=42, solver=lbfgs; total time=  33.7s\n"
     ]
    },
    {
     "name": "stderr",
     "output_type": "stream",
     "text": [
      "C:\\Users\\salda\\Anaconda3\\lib\\site-packages\\sklearn\\neural_network\\_multilayer_perceptron.py:500: ConvergenceWarning: lbfgs failed to converge (status=1):\n",
      "STOP: TOTAL NO. of ITERATIONS REACHED LIMIT.\n",
      "\n",
      "Increase the number of iterations (max_iter) or scale the data as shown in:\n",
      "    https://scikit-learn.org/stable/modules/preprocessing.html\n",
      "  self.n_iter_ = _check_optimize_result(\"lbfgs\", opt_res, self.max_iter)\n"
     ]
    },
    {
     "name": "stdout",
     "output_type": "stream",
     "text": [
      "[CV] END hidden_layer_sizes=17, learning_rate_init=0.001, max_iter=2500, random_state=42, solver=lbfgs; total time=  36.5s\n",
      "[CV] END hidden_layer_sizes=17, learning_rate_init=0.001, max_iter=2500, random_state=42, solver=adam; total time=  13.5s\n",
      "[CV] END hidden_layer_sizes=17, learning_rate_init=0.001, max_iter=2500, random_state=42, solver=adam; total time=  17.5s\n",
      "[CV] END hidden_layer_sizes=17, learning_rate_init=0.001, max_iter=2500, random_state=42, solver=adam; total time=  13.8s\n",
      "[CV] END hidden_layer_sizes=17, learning_rate_init=0.001, max_iter=2500, random_state=42, solver=adam; total time=  19.3s\n",
      "[CV] END hidden_layer_sizes=17, learning_rate_init=0.001, max_iter=2500, random_state=42, solver=adam; total time=  12.3s\n"
     ]
    },
    {
     "name": "stderr",
     "output_type": "stream",
     "text": [
      "C:\\Users\\salda\\Anaconda3\\lib\\site-packages\\sklearn\\neural_network\\_multilayer_perceptron.py:500: ConvergenceWarning: lbfgs failed to converge (status=1):\n",
      "STOP: TOTAL NO. of ITERATIONS REACHED LIMIT.\n",
      "\n",
      "Increase the number of iterations (max_iter) or scale the data as shown in:\n",
      "    https://scikit-learn.org/stable/modules/preprocessing.html\n",
      "  self.n_iter_ = _check_optimize_result(\"lbfgs\", opt_res, self.max_iter)\n"
     ]
    },
    {
     "name": "stdout",
     "output_type": "stream",
     "text": [
      "[CV] END hidden_layer_sizes=17, learning_rate_init=1e-05, max_iter=2500, random_state=42, solver=lbfgs; total time=  36.2s\n",
      "[CV] END hidden_layer_sizes=17, learning_rate_init=1e-05, max_iter=2500, random_state=42, solver=lbfgs; total time=  35.1s\n",
      "[CV] END hidden_layer_sizes=17, learning_rate_init=1e-05, max_iter=2500, random_state=42, solver=lbfgs; total time=  27.3s\n",
      "[CV] END hidden_layer_sizes=17, learning_rate_init=1e-05, max_iter=2500, random_state=42, solver=lbfgs; total time=  34.0s\n"
     ]
    },
    {
     "name": "stderr",
     "output_type": "stream",
     "text": [
      "C:\\Users\\salda\\Anaconda3\\lib\\site-packages\\sklearn\\neural_network\\_multilayer_perceptron.py:500: ConvergenceWarning: lbfgs failed to converge (status=1):\n",
      "STOP: TOTAL NO. of ITERATIONS REACHED LIMIT.\n",
      "\n",
      "Increase the number of iterations (max_iter) or scale the data as shown in:\n",
      "    https://scikit-learn.org/stable/modules/preprocessing.html\n",
      "  self.n_iter_ = _check_optimize_result(\"lbfgs\", opt_res, self.max_iter)\n"
     ]
    },
    {
     "name": "stdout",
     "output_type": "stream",
     "text": [
      "[CV] END hidden_layer_sizes=17, learning_rate_init=1e-05, max_iter=2500, random_state=42, solver=lbfgs; total time=  35.4s\n"
     ]
    },
    {
     "name": "stderr",
     "output_type": "stream",
     "text": [
      "C:\\Users\\salda\\Anaconda3\\lib\\site-packages\\sklearn\\neural_network\\_multilayer_perceptron.py:614: ConvergenceWarning: Stochastic Optimizer: Maximum iterations (2500) reached and the optimization hasn't converged yet.\n",
      "  warnings.warn(\n"
     ]
    },
    {
     "name": "stdout",
     "output_type": "stream",
     "text": [
      "[CV] END hidden_layer_sizes=17, learning_rate_init=1e-05, max_iter=2500, random_state=42, solver=adam; total time= 2.3min\n"
     ]
    },
    {
     "name": "stderr",
     "output_type": "stream",
     "text": [
      "C:\\Users\\salda\\Anaconda3\\lib\\site-packages\\sklearn\\neural_network\\_multilayer_perceptron.py:614: ConvergenceWarning: Stochastic Optimizer: Maximum iterations (2500) reached and the optimization hasn't converged yet.\n",
      "  warnings.warn(\n"
     ]
    },
    {
     "name": "stdout",
     "output_type": "stream",
     "text": [
      "[CV] END hidden_layer_sizes=17, learning_rate_init=1e-05, max_iter=2500, random_state=42, solver=adam; total time= 2.3min\n"
     ]
    },
    {
     "name": "stderr",
     "output_type": "stream",
     "text": [
      "C:\\Users\\salda\\Anaconda3\\lib\\site-packages\\sklearn\\neural_network\\_multilayer_perceptron.py:614: ConvergenceWarning: Stochastic Optimizer: Maximum iterations (2500) reached and the optimization hasn't converged yet.\n",
      "  warnings.warn(\n"
     ]
    },
    {
     "name": "stdout",
     "output_type": "stream",
     "text": [
      "[CV] END hidden_layer_sizes=17, learning_rate_init=1e-05, max_iter=2500, random_state=42, solver=adam; total time= 2.3min\n"
     ]
    },
    {
     "name": "stderr",
     "output_type": "stream",
     "text": [
      "C:\\Users\\salda\\Anaconda3\\lib\\site-packages\\sklearn\\neural_network\\_multilayer_perceptron.py:614: ConvergenceWarning: Stochastic Optimizer: Maximum iterations (2500) reached and the optimization hasn't converged yet.\n",
      "  warnings.warn(\n"
     ]
    },
    {
     "name": "stdout",
     "output_type": "stream",
     "text": [
      "[CV] END hidden_layer_sizes=17, learning_rate_init=1e-05, max_iter=2500, random_state=42, solver=adam; total time= 2.3min\n"
     ]
    },
    {
     "name": "stderr",
     "output_type": "stream",
     "text": [
      "C:\\Users\\salda\\Anaconda3\\lib\\site-packages\\sklearn\\neural_network\\_multilayer_perceptron.py:614: ConvergenceWarning: Stochastic Optimizer: Maximum iterations (2500) reached and the optimization hasn't converged yet.\n",
      "  warnings.warn(\n"
     ]
    },
    {
     "name": "stdout",
     "output_type": "stream",
     "text": [
      "[CV] END hidden_layer_sizes=17, learning_rate_init=1e-05, max_iter=2500, random_state=42, solver=adam; total time= 2.3min\n",
      "[CV] END hidden_layer_sizes=18, learning_rate_init=0.1, max_iter=2500, random_state=42, solver=lbfgs; total time=  28.3s\n"
     ]
    },
    {
     "name": "stderr",
     "output_type": "stream",
     "text": [
      "C:\\Users\\salda\\Anaconda3\\lib\\site-packages\\sklearn\\neural_network\\_multilayer_perceptron.py:500: ConvergenceWarning: lbfgs failed to converge (status=1):\n",
      "STOP: TOTAL NO. of ITERATIONS REACHED LIMIT.\n",
      "\n",
      "Increase the number of iterations (max_iter) or scale the data as shown in:\n",
      "    https://scikit-learn.org/stable/modules/preprocessing.html\n",
      "  self.n_iter_ = _check_optimize_result(\"lbfgs\", opt_res, self.max_iter)\n"
     ]
    },
    {
     "name": "stdout",
     "output_type": "stream",
     "text": [
      "[CV] END hidden_layer_sizes=18, learning_rate_init=0.1, max_iter=2500, random_state=42, solver=lbfgs; total time=  38.6s\n"
     ]
    },
    {
     "name": "stderr",
     "output_type": "stream",
     "text": [
      "C:\\Users\\salda\\Anaconda3\\lib\\site-packages\\sklearn\\neural_network\\_multilayer_perceptron.py:500: ConvergenceWarning: lbfgs failed to converge (status=1):\n",
      "STOP: TOTAL NO. of ITERATIONS REACHED LIMIT.\n",
      "\n",
      "Increase the number of iterations (max_iter) or scale the data as shown in:\n",
      "    https://scikit-learn.org/stable/modules/preprocessing.html\n",
      "  self.n_iter_ = _check_optimize_result(\"lbfgs\", opt_res, self.max_iter)\n"
     ]
    },
    {
     "name": "stdout",
     "output_type": "stream",
     "text": [
      "[CV] END hidden_layer_sizes=18, learning_rate_init=0.1, max_iter=2500, random_state=42, solver=lbfgs; total time=  36.9s\n"
     ]
    },
    {
     "name": "stderr",
     "output_type": "stream",
     "text": [
      "C:\\Users\\salda\\Anaconda3\\lib\\site-packages\\sklearn\\neural_network\\_multilayer_perceptron.py:500: ConvergenceWarning: lbfgs failed to converge (status=1):\n",
      "STOP: TOTAL NO. of ITERATIONS REACHED LIMIT.\n",
      "\n",
      "Increase the number of iterations (max_iter) or scale the data as shown in:\n",
      "    https://scikit-learn.org/stable/modules/preprocessing.html\n",
      "  self.n_iter_ = _check_optimize_result(\"lbfgs\", opt_res, self.max_iter)\n"
     ]
    },
    {
     "name": "stdout",
     "output_type": "stream",
     "text": [
      "[CV] END hidden_layer_sizes=18, learning_rate_init=0.1, max_iter=2500, random_state=42, solver=lbfgs; total time=  36.8s\n"
     ]
    },
    {
     "name": "stderr",
     "output_type": "stream",
     "text": [
      "C:\\Users\\salda\\Anaconda3\\lib\\site-packages\\sklearn\\neural_network\\_multilayer_perceptron.py:500: ConvergenceWarning: lbfgs failed to converge (status=1):\n",
      "STOP: TOTAL NO. of ITERATIONS REACHED LIMIT.\n",
      "\n",
      "Increase the number of iterations (max_iter) or scale the data as shown in:\n",
      "    https://scikit-learn.org/stable/modules/preprocessing.html\n",
      "  self.n_iter_ = _check_optimize_result(\"lbfgs\", opt_res, self.max_iter)\n"
     ]
    },
    {
     "name": "stdout",
     "output_type": "stream",
     "text": [
      "[CV] END hidden_layer_sizes=18, learning_rate_init=0.1, max_iter=2500, random_state=42, solver=lbfgs; total time=  37.7s\n",
      "[CV] END hidden_layer_sizes=18, learning_rate_init=0.1, max_iter=2500, random_state=42, solver=adam; total time=   2.7s\n",
      "[CV] END hidden_layer_sizes=18, learning_rate_init=0.1, max_iter=2500, random_state=42, solver=adam; total time=   3.5s\n",
      "[CV] END hidden_layer_sizes=18, learning_rate_init=0.1, max_iter=2500, random_state=42, solver=adam; total time=   1.6s\n",
      "[CV] END hidden_layer_sizes=18, learning_rate_init=0.1, max_iter=2500, random_state=42, solver=adam; total time=   2.0s\n",
      "[CV] END hidden_layer_sizes=18, learning_rate_init=0.1, max_iter=2500, random_state=42, solver=adam; total time=   3.4s\n",
      "[CV] END hidden_layer_sizes=18, learning_rate_init=0.001, max_iter=2500, random_state=42, solver=lbfgs; total time=  28.2s\n"
     ]
    },
    {
     "name": "stderr",
     "output_type": "stream",
     "text": [
      "C:\\Users\\salda\\Anaconda3\\lib\\site-packages\\sklearn\\neural_network\\_multilayer_perceptron.py:500: ConvergenceWarning: lbfgs failed to converge (status=1):\n",
      "STOP: TOTAL NO. of ITERATIONS REACHED LIMIT.\n",
      "\n",
      "Increase the number of iterations (max_iter) or scale the data as shown in:\n",
      "    https://scikit-learn.org/stable/modules/preprocessing.html\n",
      "  self.n_iter_ = _check_optimize_result(\"lbfgs\", opt_res, self.max_iter)\n"
     ]
    },
    {
     "name": "stdout",
     "output_type": "stream",
     "text": [
      "[CV] END hidden_layer_sizes=18, learning_rate_init=0.001, max_iter=2500, random_state=42, solver=lbfgs; total time=  38.4s\n"
     ]
    },
    {
     "name": "stderr",
     "output_type": "stream",
     "text": [
      "C:\\Users\\salda\\Anaconda3\\lib\\site-packages\\sklearn\\neural_network\\_multilayer_perceptron.py:500: ConvergenceWarning: lbfgs failed to converge (status=1):\n",
      "STOP: TOTAL NO. of ITERATIONS REACHED LIMIT.\n",
      "\n",
      "Increase the number of iterations (max_iter) or scale the data as shown in:\n",
      "    https://scikit-learn.org/stable/modules/preprocessing.html\n",
      "  self.n_iter_ = _check_optimize_result(\"lbfgs\", opt_res, self.max_iter)\n"
     ]
    },
    {
     "name": "stdout",
     "output_type": "stream",
     "text": [
      "[CV] END hidden_layer_sizes=18, learning_rate_init=0.001, max_iter=2500, random_state=42, solver=lbfgs; total time=  36.6s\n"
     ]
    },
    {
     "name": "stderr",
     "output_type": "stream",
     "text": [
      "C:\\Users\\salda\\Anaconda3\\lib\\site-packages\\sklearn\\neural_network\\_multilayer_perceptron.py:500: ConvergenceWarning: lbfgs failed to converge (status=1):\n",
      "STOP: TOTAL NO. of ITERATIONS REACHED LIMIT.\n",
      "\n",
      "Increase the number of iterations (max_iter) or scale the data as shown in:\n",
      "    https://scikit-learn.org/stable/modules/preprocessing.html\n",
      "  self.n_iter_ = _check_optimize_result(\"lbfgs\", opt_res, self.max_iter)\n"
     ]
    },
    {
     "name": "stdout",
     "output_type": "stream",
     "text": [
      "[CV] END hidden_layer_sizes=18, learning_rate_init=0.001, max_iter=2500, random_state=42, solver=lbfgs; total time=  36.5s\n"
     ]
    },
    {
     "name": "stderr",
     "output_type": "stream",
     "text": [
      "C:\\Users\\salda\\Anaconda3\\lib\\site-packages\\sklearn\\neural_network\\_multilayer_perceptron.py:500: ConvergenceWarning: lbfgs failed to converge (status=1):\n",
      "STOP: TOTAL NO. of ITERATIONS REACHED LIMIT.\n",
      "\n",
      "Increase the number of iterations (max_iter) or scale the data as shown in:\n",
      "    https://scikit-learn.org/stable/modules/preprocessing.html\n",
      "  self.n_iter_ = _check_optimize_result(\"lbfgs\", opt_res, self.max_iter)\n"
     ]
    },
    {
     "name": "stdout",
     "output_type": "stream",
     "text": [
      "[CV] END hidden_layer_sizes=18, learning_rate_init=0.001, max_iter=2500, random_state=42, solver=lbfgs; total time=  38.1s\n",
      "[CV] END hidden_layer_sizes=18, learning_rate_init=0.001, max_iter=2500, random_state=42, solver=adam; total time=  26.5s\n",
      "[CV] END hidden_layer_sizes=18, learning_rate_init=0.001, max_iter=2500, random_state=42, solver=adam; total time=  28.0s\n",
      "[CV] END hidden_layer_sizes=18, learning_rate_init=0.001, max_iter=2500, random_state=42, solver=adam; total time=  17.8s\n",
      "[CV] END hidden_layer_sizes=18, learning_rate_init=0.001, max_iter=2500, random_state=42, solver=adam; total time=  19.6s\n",
      "[CV] END hidden_layer_sizes=18, learning_rate_init=0.001, max_iter=2500, random_state=42, solver=adam; total time=  18.4s\n",
      "[CV] END hidden_layer_sizes=18, learning_rate_init=1e-05, max_iter=2500, random_state=42, solver=lbfgs; total time=  28.2s\n"
     ]
    },
    {
     "name": "stderr",
     "output_type": "stream",
     "text": [
      "C:\\Users\\salda\\Anaconda3\\lib\\site-packages\\sklearn\\neural_network\\_multilayer_perceptron.py:500: ConvergenceWarning: lbfgs failed to converge (status=1):\n",
      "STOP: TOTAL NO. of ITERATIONS REACHED LIMIT.\n",
      "\n",
      "Increase the number of iterations (max_iter) or scale the data as shown in:\n",
      "    https://scikit-learn.org/stable/modules/preprocessing.html\n",
      "  self.n_iter_ = _check_optimize_result(\"lbfgs\", opt_res, self.max_iter)\n"
     ]
    },
    {
     "name": "stdout",
     "output_type": "stream",
     "text": [
      "[CV] END hidden_layer_sizes=18, learning_rate_init=1e-05, max_iter=2500, random_state=42, solver=lbfgs; total time=  37.9s\n"
     ]
    },
    {
     "name": "stderr",
     "output_type": "stream",
     "text": [
      "C:\\Users\\salda\\Anaconda3\\lib\\site-packages\\sklearn\\neural_network\\_multilayer_perceptron.py:500: ConvergenceWarning: lbfgs failed to converge (status=1):\n",
      "STOP: TOTAL NO. of ITERATIONS REACHED LIMIT.\n",
      "\n",
      "Increase the number of iterations (max_iter) or scale the data as shown in:\n",
      "    https://scikit-learn.org/stable/modules/preprocessing.html\n",
      "  self.n_iter_ = _check_optimize_result(\"lbfgs\", opt_res, self.max_iter)\n"
     ]
    },
    {
     "name": "stdout",
     "output_type": "stream",
     "text": [
      "[CV] END hidden_layer_sizes=18, learning_rate_init=1e-05, max_iter=2500, random_state=42, solver=lbfgs; total time=  36.7s\n"
     ]
    },
    {
     "name": "stderr",
     "output_type": "stream",
     "text": [
      "C:\\Users\\salda\\Anaconda3\\lib\\site-packages\\sklearn\\neural_network\\_multilayer_perceptron.py:500: ConvergenceWarning: lbfgs failed to converge (status=1):\n",
      "STOP: TOTAL NO. of ITERATIONS REACHED LIMIT.\n",
      "\n",
      "Increase the number of iterations (max_iter) or scale the data as shown in:\n",
      "    https://scikit-learn.org/stable/modules/preprocessing.html\n",
      "  self.n_iter_ = _check_optimize_result(\"lbfgs\", opt_res, self.max_iter)\n"
     ]
    },
    {
     "name": "stdout",
     "output_type": "stream",
     "text": [
      "[CV] END hidden_layer_sizes=18, learning_rate_init=1e-05, max_iter=2500, random_state=42, solver=lbfgs; total time=  36.6s\n"
     ]
    },
    {
     "name": "stderr",
     "output_type": "stream",
     "text": [
      "C:\\Users\\salda\\Anaconda3\\lib\\site-packages\\sklearn\\neural_network\\_multilayer_perceptron.py:500: ConvergenceWarning: lbfgs failed to converge (status=1):\n",
      "STOP: TOTAL NO. of ITERATIONS REACHED LIMIT.\n",
      "\n",
      "Increase the number of iterations (max_iter) or scale the data as shown in:\n",
      "    https://scikit-learn.org/stable/modules/preprocessing.html\n",
      "  self.n_iter_ = _check_optimize_result(\"lbfgs\", opt_res, self.max_iter)\n"
     ]
    },
    {
     "name": "stdout",
     "output_type": "stream",
     "text": [
      "[CV] END hidden_layer_sizes=18, learning_rate_init=1e-05, max_iter=2500, random_state=42, solver=lbfgs; total time=  38.3s\n"
     ]
    },
    {
     "name": "stderr",
     "output_type": "stream",
     "text": [
      "C:\\Users\\salda\\Anaconda3\\lib\\site-packages\\sklearn\\neural_network\\_multilayer_perceptron.py:614: ConvergenceWarning: Stochastic Optimizer: Maximum iterations (2500) reached and the optimization hasn't converged yet.\n",
      "  warnings.warn(\n"
     ]
    },
    {
     "name": "stdout",
     "output_type": "stream",
     "text": [
      "[CV] END hidden_layer_sizes=18, learning_rate_init=1e-05, max_iter=2500, random_state=42, solver=adam; total time= 2.8min\n"
     ]
    },
    {
     "name": "stderr",
     "output_type": "stream",
     "text": [
      "C:\\Users\\salda\\Anaconda3\\lib\\site-packages\\sklearn\\neural_network\\_multilayer_perceptron.py:614: ConvergenceWarning: Stochastic Optimizer: Maximum iterations (2500) reached and the optimization hasn't converged yet.\n",
      "  warnings.warn(\n"
     ]
    },
    {
     "name": "stdout",
     "output_type": "stream",
     "text": [
      "[CV] END hidden_layer_sizes=18, learning_rate_init=1e-05, max_iter=2500, random_state=42, solver=adam; total time= 2.9min\n"
     ]
    },
    {
     "name": "stderr",
     "output_type": "stream",
     "text": [
      "C:\\Users\\salda\\Anaconda3\\lib\\site-packages\\sklearn\\neural_network\\_multilayer_perceptron.py:614: ConvergenceWarning: Stochastic Optimizer: Maximum iterations (2500) reached and the optimization hasn't converged yet.\n",
      "  warnings.warn(\n"
     ]
    },
    {
     "name": "stdout",
     "output_type": "stream",
     "text": [
      "[CV] END hidden_layer_sizes=18, learning_rate_init=1e-05, max_iter=2500, random_state=42, solver=adam; total time= 2.9min\n"
     ]
    },
    {
     "name": "stderr",
     "output_type": "stream",
     "text": [
      "C:\\Users\\salda\\Anaconda3\\lib\\site-packages\\sklearn\\neural_network\\_multilayer_perceptron.py:614: ConvergenceWarning: Stochastic Optimizer: Maximum iterations (2500) reached and the optimization hasn't converged yet.\n",
      "  warnings.warn(\n"
     ]
    },
    {
     "name": "stdout",
     "output_type": "stream",
     "text": [
      "[CV] END hidden_layer_sizes=18, learning_rate_init=1e-05, max_iter=2500, random_state=42, solver=adam; total time= 2.8min\n"
     ]
    },
    {
     "name": "stderr",
     "output_type": "stream",
     "text": [
      "C:\\Users\\salda\\Anaconda3\\lib\\site-packages\\sklearn\\neural_network\\_multilayer_perceptron.py:614: ConvergenceWarning: Stochastic Optimizer: Maximum iterations (2500) reached and the optimization hasn't converged yet.\n",
      "  warnings.warn(\n"
     ]
    },
    {
     "name": "stdout",
     "output_type": "stream",
     "text": [
      "[CV] END hidden_layer_sizes=18, learning_rate_init=1e-05, max_iter=2500, random_state=42, solver=adam; total time= 3.0min\n"
     ]
    },
    {
     "name": "stderr",
     "output_type": "stream",
     "text": [
      "C:\\Users\\salda\\Anaconda3\\lib\\site-packages\\sklearn\\neural_network\\_multilayer_perceptron.py:500: ConvergenceWarning: lbfgs failed to converge (status=1):\n",
      "STOP: TOTAL NO. of ITERATIONS REACHED LIMIT.\n",
      "\n",
      "Increase the number of iterations (max_iter) or scale the data as shown in:\n",
      "    https://scikit-learn.org/stable/modules/preprocessing.html\n",
      "  self.n_iter_ = _check_optimize_result(\"lbfgs\", opt_res, self.max_iter)\n"
     ]
    },
    {
     "name": "stdout",
     "output_type": "stream",
     "text": [
      "[CV] END hidden_layer_sizes=19, learning_rate_init=0.1, max_iter=2500, random_state=42, solver=lbfgs; total time=  41.2s\n"
     ]
    },
    {
     "name": "stderr",
     "output_type": "stream",
     "text": [
      "C:\\Users\\salda\\Anaconda3\\lib\\site-packages\\sklearn\\neural_network\\_multilayer_perceptron.py:500: ConvergenceWarning: lbfgs failed to converge (status=1):\n",
      "STOP: TOTAL NO. of ITERATIONS REACHED LIMIT.\n",
      "\n",
      "Increase the number of iterations (max_iter) or scale the data as shown in:\n",
      "    https://scikit-learn.org/stable/modules/preprocessing.html\n",
      "  self.n_iter_ = _check_optimize_result(\"lbfgs\", opt_res, self.max_iter)\n"
     ]
    },
    {
     "name": "stdout",
     "output_type": "stream",
     "text": [
      "[CV] END hidden_layer_sizes=19, learning_rate_init=0.1, max_iter=2500, random_state=42, solver=lbfgs; total time=  41.1s\n"
     ]
    },
    {
     "name": "stderr",
     "output_type": "stream",
     "text": [
      "C:\\Users\\salda\\Anaconda3\\lib\\site-packages\\sklearn\\neural_network\\_multilayer_perceptron.py:500: ConvergenceWarning: lbfgs failed to converge (status=1):\n",
      "STOP: TOTAL NO. of ITERATIONS REACHED LIMIT.\n",
      "\n",
      "Increase the number of iterations (max_iter) or scale the data as shown in:\n",
      "    https://scikit-learn.org/stable/modules/preprocessing.html\n",
      "  self.n_iter_ = _check_optimize_result(\"lbfgs\", opt_res, self.max_iter)\n"
     ]
    },
    {
     "name": "stdout",
     "output_type": "stream",
     "text": [
      "[CV] END hidden_layer_sizes=19, learning_rate_init=0.1, max_iter=2500, random_state=42, solver=lbfgs; total time=  41.0s\n",
      "[CV] END hidden_layer_sizes=19, learning_rate_init=0.1, max_iter=2500, random_state=42, solver=lbfgs; total time=  33.4s\n"
     ]
    },
    {
     "name": "stderr",
     "output_type": "stream",
     "text": [
      "C:\\Users\\salda\\Anaconda3\\lib\\site-packages\\sklearn\\neural_network\\_multilayer_perceptron.py:500: ConvergenceWarning: lbfgs failed to converge (status=1):\n",
      "STOP: TOTAL NO. of ITERATIONS REACHED LIMIT.\n",
      "\n",
      "Increase the number of iterations (max_iter) or scale the data as shown in:\n",
      "    https://scikit-learn.org/stable/modules/preprocessing.html\n",
      "  self.n_iter_ = _check_optimize_result(\"lbfgs\", opt_res, self.max_iter)\n"
     ]
    },
    {
     "name": "stdout",
     "output_type": "stream",
     "text": [
      "[CV] END hidden_layer_sizes=19, learning_rate_init=0.1, max_iter=2500, random_state=42, solver=lbfgs; total time=  41.4s\n",
      "[CV] END hidden_layer_sizes=19, learning_rate_init=0.1, max_iter=2500, random_state=42, solver=adam; total time=   2.2s\n",
      "[CV] END hidden_layer_sizes=19, learning_rate_init=0.1, max_iter=2500, random_state=42, solver=adam; total time=   2.2s\n",
      "[CV] END hidden_layer_sizes=19, learning_rate_init=0.1, max_iter=2500, random_state=42, solver=adam; total time=   1.9s\n",
      "[CV] END hidden_layer_sizes=19, learning_rate_init=0.1, max_iter=2500, random_state=42, solver=adam; total time=   2.3s\n",
      "[CV] END hidden_layer_sizes=19, learning_rate_init=0.1, max_iter=2500, random_state=42, solver=adam; total time=   1.9s\n"
     ]
    },
    {
     "name": "stderr",
     "output_type": "stream",
     "text": [
      "C:\\Users\\salda\\Anaconda3\\lib\\site-packages\\sklearn\\neural_network\\_multilayer_perceptron.py:500: ConvergenceWarning: lbfgs failed to converge (status=1):\n",
      "STOP: TOTAL NO. of ITERATIONS REACHED LIMIT.\n",
      "\n",
      "Increase the number of iterations (max_iter) or scale the data as shown in:\n",
      "    https://scikit-learn.org/stable/modules/preprocessing.html\n",
      "  self.n_iter_ = _check_optimize_result(\"lbfgs\", opt_res, self.max_iter)\n"
     ]
    },
    {
     "name": "stdout",
     "output_type": "stream",
     "text": [
      "[CV] END hidden_layer_sizes=19, learning_rate_init=0.001, max_iter=2500, random_state=42, solver=lbfgs; total time=  40.5s\n"
     ]
    },
    {
     "name": "stderr",
     "output_type": "stream",
     "text": [
      "C:\\Users\\salda\\Anaconda3\\lib\\site-packages\\sklearn\\neural_network\\_multilayer_perceptron.py:500: ConvergenceWarning: lbfgs failed to converge (status=1):\n",
      "STOP: TOTAL NO. of ITERATIONS REACHED LIMIT.\n",
      "\n",
      "Increase the number of iterations (max_iter) or scale the data as shown in:\n",
      "    https://scikit-learn.org/stable/modules/preprocessing.html\n",
      "  self.n_iter_ = _check_optimize_result(\"lbfgs\", opt_res, self.max_iter)\n"
     ]
    },
    {
     "name": "stdout",
     "output_type": "stream",
     "text": [
      "[CV] END hidden_layer_sizes=19, learning_rate_init=0.001, max_iter=2500, random_state=42, solver=lbfgs; total time=  41.2s\n"
     ]
    },
    {
     "name": "stderr",
     "output_type": "stream",
     "text": [
      "C:\\Users\\salda\\Anaconda3\\lib\\site-packages\\sklearn\\neural_network\\_multilayer_perceptron.py:500: ConvergenceWarning: lbfgs failed to converge (status=1):\n",
      "STOP: TOTAL NO. of ITERATIONS REACHED LIMIT.\n",
      "\n",
      "Increase the number of iterations (max_iter) or scale the data as shown in:\n",
      "    https://scikit-learn.org/stable/modules/preprocessing.html\n",
      "  self.n_iter_ = _check_optimize_result(\"lbfgs\", opt_res, self.max_iter)\n"
     ]
    },
    {
     "name": "stdout",
     "output_type": "stream",
     "text": [
      "[CV] END hidden_layer_sizes=19, learning_rate_init=0.001, max_iter=2500, random_state=42, solver=lbfgs; total time=  40.6s\n",
      "[CV] END hidden_layer_sizes=19, learning_rate_init=0.001, max_iter=2500, random_state=42, solver=lbfgs; total time=  33.7s\n"
     ]
    },
    {
     "name": "stderr",
     "output_type": "stream",
     "text": [
      "C:\\Users\\salda\\Anaconda3\\lib\\site-packages\\sklearn\\neural_network\\_multilayer_perceptron.py:500: ConvergenceWarning: lbfgs failed to converge (status=1):\n",
      "STOP: TOTAL NO. of ITERATIONS REACHED LIMIT.\n",
      "\n",
      "Increase the number of iterations (max_iter) or scale the data as shown in:\n",
      "    https://scikit-learn.org/stable/modules/preprocessing.html\n",
      "  self.n_iter_ = _check_optimize_result(\"lbfgs\", opt_res, self.max_iter)\n"
     ]
    },
    {
     "name": "stdout",
     "output_type": "stream",
     "text": [
      "[CV] END hidden_layer_sizes=19, learning_rate_init=0.001, max_iter=2500, random_state=42, solver=lbfgs; total time=  41.5s\n",
      "[CV] END hidden_layer_sizes=19, learning_rate_init=0.001, max_iter=2500, random_state=42, solver=adam; total time=  21.1s\n",
      "[CV] END hidden_layer_sizes=19, learning_rate_init=0.001, max_iter=2500, random_state=42, solver=adam; total time=  18.9s\n",
      "[CV] END hidden_layer_sizes=19, learning_rate_init=0.001, max_iter=2500, random_state=42, solver=adam; total time=  32.7s\n",
      "[CV] END hidden_layer_sizes=19, learning_rate_init=0.001, max_iter=2500, random_state=42, solver=adam; total time=  18.0s\n",
      "[CV] END hidden_layer_sizes=19, learning_rate_init=0.001, max_iter=2500, random_state=42, solver=adam; total time=  27.1s\n"
     ]
    },
    {
     "name": "stderr",
     "output_type": "stream",
     "text": [
      "C:\\Users\\salda\\Anaconda3\\lib\\site-packages\\sklearn\\neural_network\\_multilayer_perceptron.py:500: ConvergenceWarning: lbfgs failed to converge (status=1):\n",
      "STOP: TOTAL NO. of ITERATIONS REACHED LIMIT.\n",
      "\n",
      "Increase the number of iterations (max_iter) or scale the data as shown in:\n",
      "    https://scikit-learn.org/stable/modules/preprocessing.html\n",
      "  self.n_iter_ = _check_optimize_result(\"lbfgs\", opt_res, self.max_iter)\n"
     ]
    },
    {
     "name": "stdout",
     "output_type": "stream",
     "text": [
      "[CV] END hidden_layer_sizes=19, learning_rate_init=1e-05, max_iter=2500, random_state=42, solver=lbfgs; total time=  39.9s\n"
     ]
    },
    {
     "name": "stderr",
     "output_type": "stream",
     "text": [
      "C:\\Users\\salda\\Anaconda3\\lib\\site-packages\\sklearn\\neural_network\\_multilayer_perceptron.py:500: ConvergenceWarning: lbfgs failed to converge (status=1):\n",
      "STOP: TOTAL NO. of ITERATIONS REACHED LIMIT.\n",
      "\n",
      "Increase the number of iterations (max_iter) or scale the data as shown in:\n",
      "    https://scikit-learn.org/stable/modules/preprocessing.html\n",
      "  self.n_iter_ = _check_optimize_result(\"lbfgs\", opt_res, self.max_iter)\n"
     ]
    },
    {
     "name": "stdout",
     "output_type": "stream",
     "text": [
      "[CV] END hidden_layer_sizes=19, learning_rate_init=1e-05, max_iter=2500, random_state=42, solver=lbfgs; total time=  41.1s\n"
     ]
    },
    {
     "name": "stderr",
     "output_type": "stream",
     "text": [
      "C:\\Users\\salda\\Anaconda3\\lib\\site-packages\\sklearn\\neural_network\\_multilayer_perceptron.py:500: ConvergenceWarning: lbfgs failed to converge (status=1):\n",
      "STOP: TOTAL NO. of ITERATIONS REACHED LIMIT.\n",
      "\n",
      "Increase the number of iterations (max_iter) or scale the data as shown in:\n",
      "    https://scikit-learn.org/stable/modules/preprocessing.html\n",
      "  self.n_iter_ = _check_optimize_result(\"lbfgs\", opt_res, self.max_iter)\n"
     ]
    },
    {
     "name": "stdout",
     "output_type": "stream",
     "text": [
      "[CV] END hidden_layer_sizes=19, learning_rate_init=1e-05, max_iter=2500, random_state=42, solver=lbfgs; total time=  40.6s\n",
      "[CV] END hidden_layer_sizes=19, learning_rate_init=1e-05, max_iter=2500, random_state=42, solver=lbfgs; total time=  33.8s\n"
     ]
    },
    {
     "name": "stderr",
     "output_type": "stream",
     "text": [
      "C:\\Users\\salda\\Anaconda3\\lib\\site-packages\\sklearn\\neural_network\\_multilayer_perceptron.py:500: ConvergenceWarning: lbfgs failed to converge (status=1):\n",
      "STOP: TOTAL NO. of ITERATIONS REACHED LIMIT.\n",
      "\n",
      "Increase the number of iterations (max_iter) or scale the data as shown in:\n",
      "    https://scikit-learn.org/stable/modules/preprocessing.html\n",
      "  self.n_iter_ = _check_optimize_result(\"lbfgs\", opt_res, self.max_iter)\n"
     ]
    },
    {
     "name": "stdout",
     "output_type": "stream",
     "text": [
      "[CV] END hidden_layer_sizes=19, learning_rate_init=1e-05, max_iter=2500, random_state=42, solver=lbfgs; total time=  44.2s\n"
     ]
    },
    {
     "name": "stderr",
     "output_type": "stream",
     "text": [
      "C:\\Users\\salda\\Anaconda3\\lib\\site-packages\\sklearn\\neural_network\\_multilayer_perceptron.py:614: ConvergenceWarning: Stochastic Optimizer: Maximum iterations (2500) reached and the optimization hasn't converged yet.\n",
      "  warnings.warn(\n"
     ]
    },
    {
     "name": "stdout",
     "output_type": "stream",
     "text": [
      "[CV] END hidden_layer_sizes=19, learning_rate_init=1e-05, max_iter=2500, random_state=42, solver=adam; total time= 2.9min\n"
     ]
    },
    {
     "name": "stderr",
     "output_type": "stream",
     "text": [
      "C:\\Users\\salda\\Anaconda3\\lib\\site-packages\\sklearn\\neural_network\\_multilayer_perceptron.py:614: ConvergenceWarning: Stochastic Optimizer: Maximum iterations (2500) reached and the optimization hasn't converged yet.\n",
      "  warnings.warn(\n"
     ]
    },
    {
     "name": "stdout",
     "output_type": "stream",
     "text": [
      "[CV] END hidden_layer_sizes=19, learning_rate_init=1e-05, max_iter=2500, random_state=42, solver=adam; total time= 2.8min\n"
     ]
    },
    {
     "name": "stderr",
     "output_type": "stream",
     "text": [
      "C:\\Users\\salda\\Anaconda3\\lib\\site-packages\\sklearn\\neural_network\\_multilayer_perceptron.py:614: ConvergenceWarning: Stochastic Optimizer: Maximum iterations (2500) reached and the optimization hasn't converged yet.\n",
      "  warnings.warn(\n"
     ]
    },
    {
     "name": "stdout",
     "output_type": "stream",
     "text": [
      "[CV] END hidden_layer_sizes=19, learning_rate_init=1e-05, max_iter=2500, random_state=42, solver=adam; total time= 2.9min\n"
     ]
    },
    {
     "name": "stderr",
     "output_type": "stream",
     "text": [
      "C:\\Users\\salda\\Anaconda3\\lib\\site-packages\\sklearn\\neural_network\\_multilayer_perceptron.py:614: ConvergenceWarning: Stochastic Optimizer: Maximum iterations (2500) reached and the optimization hasn't converged yet.\n",
      "  warnings.warn(\n"
     ]
    },
    {
     "name": "stdout",
     "output_type": "stream",
     "text": [
      "[CV] END hidden_layer_sizes=19, learning_rate_init=1e-05, max_iter=2500, random_state=42, solver=adam; total time= 2.9min\n"
     ]
    },
    {
     "name": "stderr",
     "output_type": "stream",
     "text": [
      "C:\\Users\\salda\\Anaconda3\\lib\\site-packages\\sklearn\\neural_network\\_multilayer_perceptron.py:614: ConvergenceWarning: Stochastic Optimizer: Maximum iterations (2500) reached and the optimization hasn't converged yet.\n",
      "  warnings.warn(\n"
     ]
    },
    {
     "name": "stdout",
     "output_type": "stream",
     "text": [
      "[CV] END hidden_layer_sizes=19, learning_rate_init=1e-05, max_iter=2500, random_state=42, solver=adam; total time= 2.9min\n",
      "[CV] END hidden_layer_sizes=20, learning_rate_init=0.1, max_iter=2500, random_state=42, solver=lbfgs; total time=  38.9s\n"
     ]
    },
    {
     "name": "stderr",
     "output_type": "stream",
     "text": [
      "C:\\Users\\salda\\Anaconda3\\lib\\site-packages\\sklearn\\neural_network\\_multilayer_perceptron.py:500: ConvergenceWarning: lbfgs failed to converge (status=1):\n",
      "STOP: TOTAL NO. of ITERATIONS REACHED LIMIT.\n",
      "\n",
      "Increase the number of iterations (max_iter) or scale the data as shown in:\n",
      "    https://scikit-learn.org/stable/modules/preprocessing.html\n",
      "  self.n_iter_ = _check_optimize_result(\"lbfgs\", opt_res, self.max_iter)\n"
     ]
    },
    {
     "name": "stdout",
     "output_type": "stream",
     "text": [
      "[CV] END hidden_layer_sizes=20, learning_rate_init=0.1, max_iter=2500, random_state=42, solver=lbfgs; total time=  40.7s\n"
     ]
    },
    {
     "name": "stderr",
     "output_type": "stream",
     "text": [
      "C:\\Users\\salda\\Anaconda3\\lib\\site-packages\\sklearn\\neural_network\\_multilayer_perceptron.py:500: ConvergenceWarning: lbfgs failed to converge (status=1):\n",
      "STOP: TOTAL NO. of ITERATIONS REACHED LIMIT.\n",
      "\n",
      "Increase the number of iterations (max_iter) or scale the data as shown in:\n",
      "    https://scikit-learn.org/stable/modules/preprocessing.html\n",
      "  self.n_iter_ = _check_optimize_result(\"lbfgs\", opt_res, self.max_iter)\n"
     ]
    },
    {
     "name": "stdout",
     "output_type": "stream",
     "text": [
      "[CV] END hidden_layer_sizes=20, learning_rate_init=0.1, max_iter=2500, random_state=42, solver=lbfgs; total time=  41.4s\n"
     ]
    },
    {
     "name": "stderr",
     "output_type": "stream",
     "text": [
      "C:\\Users\\salda\\Anaconda3\\lib\\site-packages\\sklearn\\neural_network\\_multilayer_perceptron.py:500: ConvergenceWarning: lbfgs failed to converge (status=1):\n",
      "STOP: TOTAL NO. of ITERATIONS REACHED LIMIT.\n",
      "\n",
      "Increase the number of iterations (max_iter) or scale the data as shown in:\n",
      "    https://scikit-learn.org/stable/modules/preprocessing.html\n",
      "  self.n_iter_ = _check_optimize_result(\"lbfgs\", opt_res, self.max_iter)\n"
     ]
    },
    {
     "name": "stdout",
     "output_type": "stream",
     "text": [
      "[CV] END hidden_layer_sizes=20, learning_rate_init=0.1, max_iter=2500, random_state=42, solver=lbfgs; total time=  40.8s\n"
     ]
    },
    {
     "name": "stderr",
     "output_type": "stream",
     "text": [
      "C:\\Users\\salda\\Anaconda3\\lib\\site-packages\\sklearn\\neural_network\\_multilayer_perceptron.py:500: ConvergenceWarning: lbfgs failed to converge (status=1):\n",
      "STOP: TOTAL NO. of ITERATIONS REACHED LIMIT.\n",
      "\n",
      "Increase the number of iterations (max_iter) or scale the data as shown in:\n",
      "    https://scikit-learn.org/stable/modules/preprocessing.html\n",
      "  self.n_iter_ = _check_optimize_result(\"lbfgs\", opt_res, self.max_iter)\n"
     ]
    },
    {
     "name": "stdout",
     "output_type": "stream",
     "text": [
      "[CV] END hidden_layer_sizes=20, learning_rate_init=0.1, max_iter=2500, random_state=42, solver=lbfgs; total time=  41.5s\n",
      "[CV] END hidden_layer_sizes=20, learning_rate_init=0.1, max_iter=2500, random_state=42, solver=adam; total time=   3.4s\n",
      "[CV] END hidden_layer_sizes=20, learning_rate_init=0.1, max_iter=2500, random_state=42, solver=adam; total time=   2.0s\n",
      "[CV] END hidden_layer_sizes=20, learning_rate_init=0.1, max_iter=2500, random_state=42, solver=adam; total time=   2.2s\n",
      "[CV] END hidden_layer_sizes=20, learning_rate_init=0.1, max_iter=2500, random_state=42, solver=adam; total time=   4.6s\n",
      "[CV] END hidden_layer_sizes=20, learning_rate_init=0.1, max_iter=2500, random_state=42, solver=adam; total time=   2.7s\n",
      "[CV] END hidden_layer_sizes=20, learning_rate_init=0.001, max_iter=2500, random_state=42, solver=lbfgs; total time=  39.5s\n"
     ]
    },
    {
     "name": "stderr",
     "output_type": "stream",
     "text": [
      "C:\\Users\\salda\\Anaconda3\\lib\\site-packages\\sklearn\\neural_network\\_multilayer_perceptron.py:500: ConvergenceWarning: lbfgs failed to converge (status=1):\n",
      "STOP: TOTAL NO. of ITERATIONS REACHED LIMIT.\n",
      "\n",
      "Increase the number of iterations (max_iter) or scale the data as shown in:\n",
      "    https://scikit-learn.org/stable/modules/preprocessing.html\n",
      "  self.n_iter_ = _check_optimize_result(\"lbfgs\", opt_res, self.max_iter)\n"
     ]
    },
    {
     "name": "stdout",
     "output_type": "stream",
     "text": [
      "[CV] END hidden_layer_sizes=20, learning_rate_init=0.001, max_iter=2500, random_state=42, solver=lbfgs; total time=  41.4s\n"
     ]
    },
    {
     "name": "stderr",
     "output_type": "stream",
     "text": [
      "C:\\Users\\salda\\Anaconda3\\lib\\site-packages\\sklearn\\neural_network\\_multilayer_perceptron.py:500: ConvergenceWarning: lbfgs failed to converge (status=1):\n",
      "STOP: TOTAL NO. of ITERATIONS REACHED LIMIT.\n",
      "\n",
      "Increase the number of iterations (max_iter) or scale the data as shown in:\n",
      "    https://scikit-learn.org/stable/modules/preprocessing.html\n",
      "  self.n_iter_ = _check_optimize_result(\"lbfgs\", opt_res, self.max_iter)\n"
     ]
    },
    {
     "name": "stdout",
     "output_type": "stream",
     "text": [
      "[CV] END hidden_layer_sizes=20, learning_rate_init=0.001, max_iter=2500, random_state=42, solver=lbfgs; total time=  41.0s\n"
     ]
    },
    {
     "name": "stderr",
     "output_type": "stream",
     "text": [
      "C:\\Users\\salda\\Anaconda3\\lib\\site-packages\\sklearn\\neural_network\\_multilayer_perceptron.py:500: ConvergenceWarning: lbfgs failed to converge (status=1):\n",
      "STOP: TOTAL NO. of ITERATIONS REACHED LIMIT.\n",
      "\n",
      "Increase the number of iterations (max_iter) or scale the data as shown in:\n",
      "    https://scikit-learn.org/stable/modules/preprocessing.html\n",
      "  self.n_iter_ = _check_optimize_result(\"lbfgs\", opt_res, self.max_iter)\n"
     ]
    },
    {
     "name": "stdout",
     "output_type": "stream",
     "text": [
      "[CV] END hidden_layer_sizes=20, learning_rate_init=0.001, max_iter=2500, random_state=42, solver=lbfgs; total time=  41.4s\n"
     ]
    },
    {
     "name": "stderr",
     "output_type": "stream",
     "text": [
      "C:\\Users\\salda\\Anaconda3\\lib\\site-packages\\sklearn\\neural_network\\_multilayer_perceptron.py:500: ConvergenceWarning: lbfgs failed to converge (status=1):\n",
      "STOP: TOTAL NO. of ITERATIONS REACHED LIMIT.\n",
      "\n",
      "Increase the number of iterations (max_iter) or scale the data as shown in:\n",
      "    https://scikit-learn.org/stable/modules/preprocessing.html\n",
      "  self.n_iter_ = _check_optimize_result(\"lbfgs\", opt_res, self.max_iter)\n"
     ]
    },
    {
     "name": "stdout",
     "output_type": "stream",
     "text": [
      "[CV] END hidden_layer_sizes=20, learning_rate_init=0.001, max_iter=2500, random_state=42, solver=lbfgs; total time=  44.6s\n",
      "[CV] END hidden_layer_sizes=20, learning_rate_init=0.001, max_iter=2500, random_state=42, solver=adam; total time=  22.4s\n",
      "[CV] END hidden_layer_sizes=20, learning_rate_init=0.001, max_iter=2500, random_state=42, solver=adam; total time=  25.8s\n",
      "[CV] END hidden_layer_sizes=20, learning_rate_init=0.001, max_iter=2500, random_state=42, solver=adam; total time=  26.4s\n",
      "[CV] END hidden_layer_sizes=20, learning_rate_init=0.001, max_iter=2500, random_state=42, solver=adam; total time=  29.0s\n",
      "[CV] END hidden_layer_sizes=20, learning_rate_init=0.001, max_iter=2500, random_state=42, solver=adam; total time=  28.6s\n",
      "[CV] END hidden_layer_sizes=20, learning_rate_init=1e-05, max_iter=2500, random_state=42, solver=lbfgs; total time=  39.7s\n"
     ]
    },
    {
     "name": "stderr",
     "output_type": "stream",
     "text": [
      "C:\\Users\\salda\\Anaconda3\\lib\\site-packages\\sklearn\\neural_network\\_multilayer_perceptron.py:500: ConvergenceWarning: lbfgs failed to converge (status=1):\n",
      "STOP: TOTAL NO. of ITERATIONS REACHED LIMIT.\n",
      "\n",
      "Increase the number of iterations (max_iter) or scale the data as shown in:\n",
      "    https://scikit-learn.org/stable/modules/preprocessing.html\n",
      "  self.n_iter_ = _check_optimize_result(\"lbfgs\", opt_res, self.max_iter)\n"
     ]
    },
    {
     "name": "stdout",
     "output_type": "stream",
     "text": [
      "[CV] END hidden_layer_sizes=20, learning_rate_init=1e-05, max_iter=2500, random_state=42, solver=lbfgs; total time=  40.5s\n"
     ]
    },
    {
     "name": "stderr",
     "output_type": "stream",
     "text": [
      "C:\\Users\\salda\\Anaconda3\\lib\\site-packages\\sklearn\\neural_network\\_multilayer_perceptron.py:500: ConvergenceWarning: lbfgs failed to converge (status=1):\n",
      "STOP: TOTAL NO. of ITERATIONS REACHED LIMIT.\n",
      "\n",
      "Increase the number of iterations (max_iter) or scale the data as shown in:\n",
      "    https://scikit-learn.org/stable/modules/preprocessing.html\n",
      "  self.n_iter_ = _check_optimize_result(\"lbfgs\", opt_res, self.max_iter)\n"
     ]
    },
    {
     "name": "stdout",
     "output_type": "stream",
     "text": [
      "[CV] END hidden_layer_sizes=20, learning_rate_init=1e-05, max_iter=2500, random_state=42, solver=lbfgs; total time=  41.6s\n"
     ]
    },
    {
     "name": "stderr",
     "output_type": "stream",
     "text": [
      "C:\\Users\\salda\\Anaconda3\\lib\\site-packages\\sklearn\\neural_network\\_multilayer_perceptron.py:500: ConvergenceWarning: lbfgs failed to converge (status=1):\n",
      "STOP: TOTAL NO. of ITERATIONS REACHED LIMIT.\n",
      "\n",
      "Increase the number of iterations (max_iter) or scale the data as shown in:\n",
      "    https://scikit-learn.org/stable/modules/preprocessing.html\n",
      "  self.n_iter_ = _check_optimize_result(\"lbfgs\", opt_res, self.max_iter)\n"
     ]
    },
    {
     "name": "stdout",
     "output_type": "stream",
     "text": [
      "[CV] END hidden_layer_sizes=20, learning_rate_init=1e-05, max_iter=2500, random_state=42, solver=lbfgs; total time=  42.9s\n"
     ]
    },
    {
     "name": "stderr",
     "output_type": "stream",
     "text": [
      "C:\\Users\\salda\\Anaconda3\\lib\\site-packages\\sklearn\\neural_network\\_multilayer_perceptron.py:500: ConvergenceWarning: lbfgs failed to converge (status=1):\n",
      "STOP: TOTAL NO. of ITERATIONS REACHED LIMIT.\n",
      "\n",
      "Increase the number of iterations (max_iter) or scale the data as shown in:\n",
      "    https://scikit-learn.org/stable/modules/preprocessing.html\n",
      "  self.n_iter_ = _check_optimize_result(\"lbfgs\", opt_res, self.max_iter)\n"
     ]
    },
    {
     "name": "stdout",
     "output_type": "stream",
     "text": [
      "[CV] END hidden_layer_sizes=20, learning_rate_init=1e-05, max_iter=2500, random_state=42, solver=lbfgs; total time=  41.7s\n"
     ]
    },
    {
     "name": "stderr",
     "output_type": "stream",
     "text": [
      "C:\\Users\\salda\\Anaconda3\\lib\\site-packages\\sklearn\\neural_network\\_multilayer_perceptron.py:614: ConvergenceWarning: Stochastic Optimizer: Maximum iterations (2500) reached and the optimization hasn't converged yet.\n",
      "  warnings.warn(\n"
     ]
    },
    {
     "name": "stdout",
     "output_type": "stream",
     "text": [
      "[CV] END hidden_layer_sizes=20, learning_rate_init=1e-05, max_iter=2500, random_state=42, solver=adam; total time= 3.0min\n"
     ]
    },
    {
     "name": "stderr",
     "output_type": "stream",
     "text": [
      "C:\\Users\\salda\\Anaconda3\\lib\\site-packages\\sklearn\\neural_network\\_multilayer_perceptron.py:614: ConvergenceWarning: Stochastic Optimizer: Maximum iterations (2500) reached and the optimization hasn't converged yet.\n",
      "  warnings.warn(\n"
     ]
    },
    {
     "name": "stdout",
     "output_type": "stream",
     "text": [
      "[CV] END hidden_layer_sizes=20, learning_rate_init=1e-05, max_iter=2500, random_state=42, solver=adam; total time= 2.9min\n"
     ]
    },
    {
     "name": "stderr",
     "output_type": "stream",
     "text": [
      "C:\\Users\\salda\\Anaconda3\\lib\\site-packages\\sklearn\\neural_network\\_multilayer_perceptron.py:614: ConvergenceWarning: Stochastic Optimizer: Maximum iterations (2500) reached and the optimization hasn't converged yet.\n",
      "  warnings.warn(\n"
     ]
    },
    {
     "name": "stdout",
     "output_type": "stream",
     "text": [
      "[CV] END hidden_layer_sizes=20, learning_rate_init=1e-05, max_iter=2500, random_state=42, solver=adam; total time= 2.9min\n"
     ]
    },
    {
     "name": "stderr",
     "output_type": "stream",
     "text": [
      "C:\\Users\\salda\\Anaconda3\\lib\\site-packages\\sklearn\\neural_network\\_multilayer_perceptron.py:614: ConvergenceWarning: Stochastic Optimizer: Maximum iterations (2500) reached and the optimization hasn't converged yet.\n",
      "  warnings.warn(\n"
     ]
    },
    {
     "name": "stdout",
     "output_type": "stream",
     "text": [
      "[CV] END hidden_layer_sizes=20, learning_rate_init=1e-05, max_iter=2500, random_state=42, solver=adam; total time= 3.0min\n"
     ]
    },
    {
     "name": "stderr",
     "output_type": "stream",
     "text": [
      "C:\\Users\\salda\\Anaconda3\\lib\\site-packages\\sklearn\\neural_network\\_multilayer_perceptron.py:614: ConvergenceWarning: Stochastic Optimizer: Maximum iterations (2500) reached and the optimization hasn't converged yet.\n",
      "  warnings.warn(\n"
     ]
    },
    {
     "name": "stdout",
     "output_type": "stream",
     "text": [
      "[CV] END hidden_layer_sizes=20, learning_rate_init=1e-05, max_iter=2500, random_state=42, solver=adam; total time= 3.1min\n"
     ]
    },
    {
     "name": "stderr",
     "output_type": "stream",
     "text": [
      "C:\\Users\\salda\\Anaconda3\\lib\\site-packages\\sklearn\\neural_network\\_multilayer_perceptron.py:500: ConvergenceWarning: lbfgs failed to converge (status=1):\n",
      "STOP: TOTAL NO. of ITERATIONS REACHED LIMIT.\n",
      "\n",
      "Increase the number of iterations (max_iter) or scale the data as shown in:\n",
      "    https://scikit-learn.org/stable/modules/preprocessing.html\n",
      "  self.n_iter_ = _check_optimize_result(\"lbfgs\", opt_res, self.max_iter)\n"
     ]
    },
    {
     "name": "stdout",
     "output_type": "stream",
     "text": [
      "[CV] END hidden_layer_sizes=21, learning_rate_init=0.1, max_iter=2500, random_state=42, solver=lbfgs; total time=  44.7s\n"
     ]
    },
    {
     "name": "stderr",
     "output_type": "stream",
     "text": [
      "C:\\Users\\salda\\Anaconda3\\lib\\site-packages\\sklearn\\neural_network\\_multilayer_perceptron.py:500: ConvergenceWarning: lbfgs failed to converge (status=1):\n",
      "STOP: TOTAL NO. of ITERATIONS REACHED LIMIT.\n",
      "\n",
      "Increase the number of iterations (max_iter) or scale the data as shown in:\n",
      "    https://scikit-learn.org/stable/modules/preprocessing.html\n",
      "  self.n_iter_ = _check_optimize_result(\"lbfgs\", opt_res, self.max_iter)\n"
     ]
    },
    {
     "name": "stdout",
     "output_type": "stream",
     "text": [
      "[CV] END hidden_layer_sizes=21, learning_rate_init=0.1, max_iter=2500, random_state=42, solver=lbfgs; total time=  45.6s\n"
     ]
    },
    {
     "name": "stderr",
     "output_type": "stream",
     "text": [
      "C:\\Users\\salda\\Anaconda3\\lib\\site-packages\\sklearn\\neural_network\\_multilayer_perceptron.py:500: ConvergenceWarning: lbfgs failed to converge (status=1):\n",
      "STOP: TOTAL NO. of ITERATIONS REACHED LIMIT.\n",
      "\n",
      "Increase the number of iterations (max_iter) or scale the data as shown in:\n",
      "    https://scikit-learn.org/stable/modules/preprocessing.html\n",
      "  self.n_iter_ = _check_optimize_result(\"lbfgs\", opt_res, self.max_iter)\n"
     ]
    },
    {
     "name": "stdout",
     "output_type": "stream",
     "text": [
      "[CV] END hidden_layer_sizes=21, learning_rate_init=0.1, max_iter=2500, random_state=42, solver=lbfgs; total time=  46.1s\n",
      "[CV] END hidden_layer_sizes=21, learning_rate_init=0.1, max_iter=2500, random_state=42, solver=lbfgs; total time=  39.6s\n"
     ]
    },
    {
     "name": "stderr",
     "output_type": "stream",
     "text": [
      "C:\\Users\\salda\\Anaconda3\\lib\\site-packages\\sklearn\\neural_network\\_multilayer_perceptron.py:500: ConvergenceWarning: lbfgs failed to converge (status=1):\n",
      "STOP: TOTAL NO. of ITERATIONS REACHED LIMIT.\n",
      "\n",
      "Increase the number of iterations (max_iter) or scale the data as shown in:\n",
      "    https://scikit-learn.org/stable/modules/preprocessing.html\n",
      "  self.n_iter_ = _check_optimize_result(\"lbfgs\", opt_res, self.max_iter)\n"
     ]
    },
    {
     "name": "stdout",
     "output_type": "stream",
     "text": [
      "[CV] END hidden_layer_sizes=21, learning_rate_init=0.1, max_iter=2500, random_state=42, solver=lbfgs; total time=  43.8s\n",
      "[CV] END hidden_layer_sizes=21, learning_rate_init=0.1, max_iter=2500, random_state=42, solver=adam; total time=   1.8s\n",
      "[CV] END hidden_layer_sizes=21, learning_rate_init=0.1, max_iter=2500, random_state=42, solver=adam; total time=   3.7s\n",
      "[CV] END hidden_layer_sizes=21, learning_rate_init=0.1, max_iter=2500, random_state=42, solver=adam; total time=   3.8s\n",
      "[CV] END hidden_layer_sizes=21, learning_rate_init=0.1, max_iter=2500, random_state=42, solver=adam; total time=   2.7s\n",
      "[CV] END hidden_layer_sizes=21, learning_rate_init=0.1, max_iter=2500, random_state=42, solver=adam; total time=   4.2s\n"
     ]
    },
    {
     "name": "stderr",
     "output_type": "stream",
     "text": [
      "C:\\Users\\salda\\Anaconda3\\lib\\site-packages\\sklearn\\neural_network\\_multilayer_perceptron.py:500: ConvergenceWarning: lbfgs failed to converge (status=1):\n",
      "STOP: TOTAL NO. of ITERATIONS REACHED LIMIT.\n",
      "\n",
      "Increase the number of iterations (max_iter) or scale the data as shown in:\n",
      "    https://scikit-learn.org/stable/modules/preprocessing.html\n",
      "  self.n_iter_ = _check_optimize_result(\"lbfgs\", opt_res, self.max_iter)\n"
     ]
    },
    {
     "name": "stdout",
     "output_type": "stream",
     "text": [
      "[CV] END hidden_layer_sizes=21, learning_rate_init=0.001, max_iter=2500, random_state=42, solver=lbfgs; total time=  45.7s\n"
     ]
    },
    {
     "name": "stderr",
     "output_type": "stream",
     "text": [
      "C:\\Users\\salda\\Anaconda3\\lib\\site-packages\\sklearn\\neural_network\\_multilayer_perceptron.py:500: ConvergenceWarning: lbfgs failed to converge (status=1):\n",
      "STOP: TOTAL NO. of ITERATIONS REACHED LIMIT.\n",
      "\n",
      "Increase the number of iterations (max_iter) or scale the data as shown in:\n",
      "    https://scikit-learn.org/stable/modules/preprocessing.html\n",
      "  self.n_iter_ = _check_optimize_result(\"lbfgs\", opt_res, self.max_iter)\n"
     ]
    },
    {
     "name": "stdout",
     "output_type": "stream",
     "text": [
      "[CV] END hidden_layer_sizes=21, learning_rate_init=0.001, max_iter=2500, random_state=42, solver=lbfgs; total time=  44.4s\n"
     ]
    },
    {
     "name": "stderr",
     "output_type": "stream",
     "text": [
      "C:\\Users\\salda\\Anaconda3\\lib\\site-packages\\sklearn\\neural_network\\_multilayer_perceptron.py:500: ConvergenceWarning: lbfgs failed to converge (status=1):\n",
      "STOP: TOTAL NO. of ITERATIONS REACHED LIMIT.\n",
      "\n",
      "Increase the number of iterations (max_iter) or scale the data as shown in:\n",
      "    https://scikit-learn.org/stable/modules/preprocessing.html\n",
      "  self.n_iter_ = _check_optimize_result(\"lbfgs\", opt_res, self.max_iter)\n"
     ]
    },
    {
     "name": "stdout",
     "output_type": "stream",
     "text": [
      "[CV] END hidden_layer_sizes=21, learning_rate_init=0.001, max_iter=2500, random_state=42, solver=lbfgs; total time=  44.8s\n",
      "[CV] END hidden_layer_sizes=21, learning_rate_init=0.001, max_iter=2500, random_state=42, solver=lbfgs; total time=  40.4s\n"
     ]
    },
    {
     "name": "stderr",
     "output_type": "stream",
     "text": [
      "C:\\Users\\salda\\Anaconda3\\lib\\site-packages\\sklearn\\neural_network\\_multilayer_perceptron.py:500: ConvergenceWarning: lbfgs failed to converge (status=1):\n",
      "STOP: TOTAL NO. of ITERATIONS REACHED LIMIT.\n",
      "\n",
      "Increase the number of iterations (max_iter) or scale the data as shown in:\n",
      "    https://scikit-learn.org/stable/modules/preprocessing.html\n",
      "  self.n_iter_ = _check_optimize_result(\"lbfgs\", opt_res, self.max_iter)\n"
     ]
    },
    {
     "name": "stdout",
     "output_type": "stream",
     "text": [
      "[CV] END hidden_layer_sizes=21, learning_rate_init=0.001, max_iter=2500, random_state=42, solver=lbfgs; total time= 1.1min\n",
      "[CV] END hidden_layer_sizes=21, learning_rate_init=0.001, max_iter=2500, random_state=42, solver=adam; total time=  32.9s\n",
      "[CV] END hidden_layer_sizes=21, learning_rate_init=0.001, max_iter=2500, random_state=42, solver=adam; total time=  55.9s\n",
      "[CV] END hidden_layer_sizes=21, learning_rate_init=0.001, max_iter=2500, random_state=42, solver=adam; total time=  47.3s\n",
      "[CV] END hidden_layer_sizes=21, learning_rate_init=0.001, max_iter=2500, random_state=42, solver=adam; total time= 1.0min\n",
      "[CV] END hidden_layer_sizes=21, learning_rate_init=0.001, max_iter=2500, random_state=42, solver=adam; total time=  46.4s\n"
     ]
    },
    {
     "name": "stderr",
     "output_type": "stream",
     "text": [
      "C:\\Users\\salda\\Anaconda3\\lib\\site-packages\\sklearn\\neural_network\\_multilayer_perceptron.py:500: ConvergenceWarning: lbfgs failed to converge (status=1):\n",
      "STOP: TOTAL NO. of ITERATIONS REACHED LIMIT.\n",
      "\n",
      "Increase the number of iterations (max_iter) or scale the data as shown in:\n",
      "    https://scikit-learn.org/stable/modules/preprocessing.html\n",
      "  self.n_iter_ = _check_optimize_result(\"lbfgs\", opt_res, self.max_iter)\n"
     ]
    },
    {
     "name": "stdout",
     "output_type": "stream",
     "text": [
      "[CV] END hidden_layer_sizes=21, learning_rate_init=1e-05, max_iter=2500, random_state=42, solver=lbfgs; total time= 1.2min\n"
     ]
    },
    {
     "name": "stderr",
     "output_type": "stream",
     "text": [
      "C:\\Users\\salda\\Anaconda3\\lib\\site-packages\\sklearn\\neural_network\\_multilayer_perceptron.py:500: ConvergenceWarning: lbfgs failed to converge (status=1):\n",
      "STOP: TOTAL NO. of ITERATIONS REACHED LIMIT.\n",
      "\n",
      "Increase the number of iterations (max_iter) or scale the data as shown in:\n",
      "    https://scikit-learn.org/stable/modules/preprocessing.html\n",
      "  self.n_iter_ = _check_optimize_result(\"lbfgs\", opt_res, self.max_iter)\n"
     ]
    },
    {
     "name": "stdout",
     "output_type": "stream",
     "text": [
      "[CV] END hidden_layer_sizes=21, learning_rate_init=1e-05, max_iter=2500, random_state=42, solver=lbfgs; total time= 1.2min\n"
     ]
    },
    {
     "name": "stderr",
     "output_type": "stream",
     "text": [
      "C:\\Users\\salda\\Anaconda3\\lib\\site-packages\\sklearn\\neural_network\\_multilayer_perceptron.py:500: ConvergenceWarning: lbfgs failed to converge (status=1):\n",
      "STOP: TOTAL NO. of ITERATIONS REACHED LIMIT.\n",
      "\n",
      "Increase the number of iterations (max_iter) or scale the data as shown in:\n",
      "    https://scikit-learn.org/stable/modules/preprocessing.html\n",
      "  self.n_iter_ = _check_optimize_result(\"lbfgs\", opt_res, self.max_iter)\n"
     ]
    },
    {
     "name": "stdout",
     "output_type": "stream",
     "text": [
      "[CV] END hidden_layer_sizes=21, learning_rate_init=1e-05, max_iter=2500, random_state=42, solver=lbfgs; total time= 1.2min\n",
      "[CV] END hidden_layer_sizes=21, learning_rate_init=1e-05, max_iter=2500, random_state=42, solver=lbfgs; total time= 1.2min\n"
     ]
    },
    {
     "name": "stderr",
     "output_type": "stream",
     "text": [
      "C:\\Users\\salda\\Anaconda3\\lib\\site-packages\\sklearn\\neural_network\\_multilayer_perceptron.py:500: ConvergenceWarning: lbfgs failed to converge (status=1):\n",
      "STOP: TOTAL NO. of ITERATIONS REACHED LIMIT.\n",
      "\n",
      "Increase the number of iterations (max_iter) or scale the data as shown in:\n",
      "    https://scikit-learn.org/stable/modules/preprocessing.html\n",
      "  self.n_iter_ = _check_optimize_result(\"lbfgs\", opt_res, self.max_iter)\n"
     ]
    },
    {
     "name": "stdout",
     "output_type": "stream",
     "text": [
      "[CV] END hidden_layer_sizes=21, learning_rate_init=1e-05, max_iter=2500, random_state=42, solver=lbfgs; total time= 1.2min\n"
     ]
    },
    {
     "name": "stderr",
     "output_type": "stream",
     "text": [
      "C:\\Users\\salda\\Anaconda3\\lib\\site-packages\\sklearn\\neural_network\\_multilayer_perceptron.py:614: ConvergenceWarning: Stochastic Optimizer: Maximum iterations (2500) reached and the optimization hasn't converged yet.\n",
      "  warnings.warn(\n"
     ]
    },
    {
     "name": "stdout",
     "output_type": "stream",
     "text": [
      "[CV] END hidden_layer_sizes=21, learning_rate_init=1e-05, max_iter=2500, random_state=42, solver=adam; total time= 4.9min\n"
     ]
    },
    {
     "name": "stderr",
     "output_type": "stream",
     "text": [
      "C:\\Users\\salda\\Anaconda3\\lib\\site-packages\\sklearn\\neural_network\\_multilayer_perceptron.py:614: ConvergenceWarning: Stochastic Optimizer: Maximum iterations (2500) reached and the optimization hasn't converged yet.\n",
      "  warnings.warn(\n"
     ]
    },
    {
     "name": "stdout",
     "output_type": "stream",
     "text": [
      "[CV] END hidden_layer_sizes=21, learning_rate_init=1e-05, max_iter=2500, random_state=42, solver=adam; total time= 4.8min\n"
     ]
    },
    {
     "name": "stderr",
     "output_type": "stream",
     "text": [
      "C:\\Users\\salda\\Anaconda3\\lib\\site-packages\\sklearn\\neural_network\\_multilayer_perceptron.py:614: ConvergenceWarning: Stochastic Optimizer: Maximum iterations (2500) reached and the optimization hasn't converged yet.\n",
      "  warnings.warn(\n"
     ]
    },
    {
     "name": "stdout",
     "output_type": "stream",
     "text": [
      "[CV] END hidden_layer_sizes=21, learning_rate_init=1e-05, max_iter=2500, random_state=42, solver=adam; total time= 4.6min\n"
     ]
    },
    {
     "name": "stderr",
     "output_type": "stream",
     "text": [
      "C:\\Users\\salda\\Anaconda3\\lib\\site-packages\\sklearn\\neural_network\\_multilayer_perceptron.py:614: ConvergenceWarning: Stochastic Optimizer: Maximum iterations (2500) reached and the optimization hasn't converged yet.\n",
      "  warnings.warn(\n"
     ]
    },
    {
     "name": "stdout",
     "output_type": "stream",
     "text": [
      "[CV] END hidden_layer_sizes=21, learning_rate_init=1e-05, max_iter=2500, random_state=42, solver=adam; total time= 5.2min\n"
     ]
    },
    {
     "name": "stderr",
     "output_type": "stream",
     "text": [
      "C:\\Users\\salda\\Anaconda3\\lib\\site-packages\\sklearn\\neural_network\\_multilayer_perceptron.py:614: ConvergenceWarning: Stochastic Optimizer: Maximum iterations (2500) reached and the optimization hasn't converged yet.\n",
      "  warnings.warn(\n"
     ]
    },
    {
     "name": "stdout",
     "output_type": "stream",
     "text": [
      "[CV] END hidden_layer_sizes=21, learning_rate_init=1e-05, max_iter=2500, random_state=42, solver=adam; total time= 5.1min\n",
      "[CV] END hidden_layer_sizes=22, learning_rate_init=0.1, max_iter=2500, random_state=42, solver=lbfgs; total time=  52.1s\n"
     ]
    },
    {
     "name": "stderr",
     "output_type": "stream",
     "text": [
      "C:\\Users\\salda\\Anaconda3\\lib\\site-packages\\sklearn\\neural_network\\_multilayer_perceptron.py:500: ConvergenceWarning: lbfgs failed to converge (status=1):\n",
      "STOP: TOTAL NO. of ITERATIONS REACHED LIMIT.\n",
      "\n",
      "Increase the number of iterations (max_iter) or scale the data as shown in:\n",
      "    https://scikit-learn.org/stable/modules/preprocessing.html\n",
      "  self.n_iter_ = _check_optimize_result(\"lbfgs\", opt_res, self.max_iter)\n"
     ]
    },
    {
     "name": "stdout",
     "output_type": "stream",
     "text": [
      "[CV] END hidden_layer_sizes=22, learning_rate_init=0.1, max_iter=2500, random_state=42, solver=lbfgs; total time= 1.2min\n"
     ]
    },
    {
     "name": "stderr",
     "output_type": "stream",
     "text": [
      "C:\\Users\\salda\\Anaconda3\\lib\\site-packages\\sklearn\\neural_network\\_multilayer_perceptron.py:500: ConvergenceWarning: lbfgs failed to converge (status=1):\n",
      "STOP: TOTAL NO. of ITERATIONS REACHED LIMIT.\n",
      "\n",
      "Increase the number of iterations (max_iter) or scale the data as shown in:\n",
      "    https://scikit-learn.org/stable/modules/preprocessing.html\n",
      "  self.n_iter_ = _check_optimize_result(\"lbfgs\", opt_res, self.max_iter)\n"
     ]
    },
    {
     "name": "stdout",
     "output_type": "stream",
     "text": [
      "[CV] END hidden_layer_sizes=22, learning_rate_init=0.1, max_iter=2500, random_state=42, solver=lbfgs; total time= 1.3min\n"
     ]
    },
    {
     "name": "stderr",
     "output_type": "stream",
     "text": [
      "C:\\Users\\salda\\Anaconda3\\lib\\site-packages\\sklearn\\neural_network\\_multilayer_perceptron.py:500: ConvergenceWarning: lbfgs failed to converge (status=1):\n",
      "STOP: TOTAL NO. of ITERATIONS REACHED LIMIT.\n",
      "\n",
      "Increase the number of iterations (max_iter) or scale the data as shown in:\n",
      "    https://scikit-learn.org/stable/modules/preprocessing.html\n",
      "  self.n_iter_ = _check_optimize_result(\"lbfgs\", opt_res, self.max_iter)\n"
     ]
    },
    {
     "name": "stdout",
     "output_type": "stream",
     "text": [
      "[CV] END hidden_layer_sizes=22, learning_rate_init=0.1, max_iter=2500, random_state=42, solver=lbfgs; total time= 1.1min\n"
     ]
    },
    {
     "name": "stderr",
     "output_type": "stream",
     "text": [
      "C:\\Users\\salda\\Anaconda3\\lib\\site-packages\\sklearn\\neural_network\\_multilayer_perceptron.py:500: ConvergenceWarning: lbfgs failed to converge (status=1):\n",
      "STOP: TOTAL NO. of ITERATIONS REACHED LIMIT.\n",
      "\n",
      "Increase the number of iterations (max_iter) or scale the data as shown in:\n",
      "    https://scikit-learn.org/stable/modules/preprocessing.html\n",
      "  self.n_iter_ = _check_optimize_result(\"lbfgs\", opt_res, self.max_iter)\n"
     ]
    },
    {
     "name": "stdout",
     "output_type": "stream",
     "text": [
      "[CV] END hidden_layer_sizes=22, learning_rate_init=0.1, max_iter=2500, random_state=42, solver=lbfgs; total time= 1.1min\n",
      "[CV] END hidden_layer_sizes=22, learning_rate_init=0.1, max_iter=2500, random_state=42, solver=adam; total time=   3.1s\n",
      "[CV] END hidden_layer_sizes=22, learning_rate_init=0.1, max_iter=2500, random_state=42, solver=adam; total time=   7.8s\n",
      "[CV] END hidden_layer_sizes=22, learning_rate_init=0.1, max_iter=2500, random_state=42, solver=adam; total time=   4.2s\n",
      "[CV] END hidden_layer_sizes=22, learning_rate_init=0.1, max_iter=2500, random_state=42, solver=adam; total time=   5.5s\n",
      "[CV] END hidden_layer_sizes=22, learning_rate_init=0.1, max_iter=2500, random_state=42, solver=adam; total time=   8.1s\n",
      "[CV] END hidden_layer_sizes=22, learning_rate_init=0.001, max_iter=2500, random_state=42, solver=lbfgs; total time= 1.0min\n"
     ]
    },
    {
     "name": "stderr",
     "output_type": "stream",
     "text": [
      "C:\\Users\\salda\\Anaconda3\\lib\\site-packages\\sklearn\\neural_network\\_multilayer_perceptron.py:500: ConvergenceWarning: lbfgs failed to converge (status=1):\n",
      "STOP: TOTAL NO. of ITERATIONS REACHED LIMIT.\n",
      "\n",
      "Increase the number of iterations (max_iter) or scale the data as shown in:\n",
      "    https://scikit-learn.org/stable/modules/preprocessing.html\n",
      "  self.n_iter_ = _check_optimize_result(\"lbfgs\", opt_res, self.max_iter)\n"
     ]
    },
    {
     "name": "stdout",
     "output_type": "stream",
     "text": [
      "[CV] END hidden_layer_sizes=22, learning_rate_init=0.001, max_iter=2500, random_state=42, solver=lbfgs; total time= 1.2min\n"
     ]
    },
    {
     "name": "stderr",
     "output_type": "stream",
     "text": [
      "C:\\Users\\salda\\Anaconda3\\lib\\site-packages\\sklearn\\neural_network\\_multilayer_perceptron.py:500: ConvergenceWarning: lbfgs failed to converge (status=1):\n",
      "STOP: TOTAL NO. of ITERATIONS REACHED LIMIT.\n",
      "\n",
      "Increase the number of iterations (max_iter) or scale the data as shown in:\n",
      "    https://scikit-learn.org/stable/modules/preprocessing.html\n",
      "  self.n_iter_ = _check_optimize_result(\"lbfgs\", opt_res, self.max_iter)\n"
     ]
    },
    {
     "name": "stdout",
     "output_type": "stream",
     "text": [
      "[CV] END hidden_layer_sizes=22, learning_rate_init=0.001, max_iter=2500, random_state=42, solver=lbfgs; total time= 1.3min\n"
     ]
    },
    {
     "name": "stderr",
     "output_type": "stream",
     "text": [
      "C:\\Users\\salda\\Anaconda3\\lib\\site-packages\\sklearn\\neural_network\\_multilayer_perceptron.py:500: ConvergenceWarning: lbfgs failed to converge (status=1):\n",
      "STOP: TOTAL NO. of ITERATIONS REACHED LIMIT.\n",
      "\n",
      "Increase the number of iterations (max_iter) or scale the data as shown in:\n",
      "    https://scikit-learn.org/stable/modules/preprocessing.html\n",
      "  self.n_iter_ = _check_optimize_result(\"lbfgs\", opt_res, self.max_iter)\n"
     ]
    },
    {
     "name": "stdout",
     "output_type": "stream",
     "text": [
      "[CV] END hidden_layer_sizes=22, learning_rate_init=0.001, max_iter=2500, random_state=42, solver=lbfgs; total time= 1.2min\n"
     ]
    },
    {
     "name": "stderr",
     "output_type": "stream",
     "text": [
      "C:\\Users\\salda\\Anaconda3\\lib\\site-packages\\sklearn\\neural_network\\_multilayer_perceptron.py:500: ConvergenceWarning: lbfgs failed to converge (status=1):\n",
      "STOP: TOTAL NO. of ITERATIONS REACHED LIMIT.\n",
      "\n",
      "Increase the number of iterations (max_iter) or scale the data as shown in:\n",
      "    https://scikit-learn.org/stable/modules/preprocessing.html\n",
      "  self.n_iter_ = _check_optimize_result(\"lbfgs\", opt_res, self.max_iter)\n"
     ]
    },
    {
     "name": "stdout",
     "output_type": "stream",
     "text": [
      "[CV] END hidden_layer_sizes=22, learning_rate_init=0.001, max_iter=2500, random_state=42, solver=lbfgs; total time= 1.2min\n",
      "[CV] END hidden_layer_sizes=22, learning_rate_init=0.001, max_iter=2500, random_state=42, solver=adam; total time=  29.3s\n",
      "[CV] END hidden_layer_sizes=22, learning_rate_init=0.001, max_iter=2500, random_state=42, solver=adam; total time=  46.3s\n",
      "[CV] END hidden_layer_sizes=22, learning_rate_init=0.001, max_iter=2500, random_state=42, solver=adam; total time=  43.7s\n",
      "[CV] END hidden_layer_sizes=22, learning_rate_init=0.001, max_iter=2500, random_state=42, solver=adam; total time=  48.4s\n",
      "[CV] END hidden_layer_sizes=22, learning_rate_init=0.001, max_iter=2500, random_state=42, solver=adam; total time=  36.8s\n",
      "[CV] END hidden_layer_sizes=22, learning_rate_init=1e-05, max_iter=2500, random_state=42, solver=lbfgs; total time=  58.1s\n"
     ]
    },
    {
     "name": "stderr",
     "output_type": "stream",
     "text": [
      "C:\\Users\\salda\\Anaconda3\\lib\\site-packages\\sklearn\\neural_network\\_multilayer_perceptron.py:500: ConvergenceWarning: lbfgs failed to converge (status=1):\n",
      "STOP: TOTAL NO. of ITERATIONS REACHED LIMIT.\n",
      "\n",
      "Increase the number of iterations (max_iter) or scale the data as shown in:\n",
      "    https://scikit-learn.org/stable/modules/preprocessing.html\n",
      "  self.n_iter_ = _check_optimize_result(\"lbfgs\", opt_res, self.max_iter)\n"
     ]
    },
    {
     "name": "stdout",
     "output_type": "stream",
     "text": [
      "[CV] END hidden_layer_sizes=22, learning_rate_init=1e-05, max_iter=2500, random_state=42, solver=lbfgs; total time= 1.2min\n"
     ]
    },
    {
     "name": "stderr",
     "output_type": "stream",
     "text": [
      "C:\\Users\\salda\\Anaconda3\\lib\\site-packages\\sklearn\\neural_network\\_multilayer_perceptron.py:500: ConvergenceWarning: lbfgs failed to converge (status=1):\n",
      "STOP: TOTAL NO. of ITERATIONS REACHED LIMIT.\n",
      "\n",
      "Increase the number of iterations (max_iter) or scale the data as shown in:\n",
      "    https://scikit-learn.org/stable/modules/preprocessing.html\n",
      "  self.n_iter_ = _check_optimize_result(\"lbfgs\", opt_res, self.max_iter)\n"
     ]
    },
    {
     "name": "stdout",
     "output_type": "stream",
     "text": [
      "[CV] END hidden_layer_sizes=22, learning_rate_init=1e-05, max_iter=2500, random_state=42, solver=lbfgs; total time= 1.3min\n"
     ]
    },
    {
     "name": "stderr",
     "output_type": "stream",
     "text": [
      "C:\\Users\\salda\\Anaconda3\\lib\\site-packages\\sklearn\\neural_network\\_multilayer_perceptron.py:500: ConvergenceWarning: lbfgs failed to converge (status=1):\n",
      "STOP: TOTAL NO. of ITERATIONS REACHED LIMIT.\n",
      "\n",
      "Increase the number of iterations (max_iter) or scale the data as shown in:\n",
      "    https://scikit-learn.org/stable/modules/preprocessing.html\n",
      "  self.n_iter_ = _check_optimize_result(\"lbfgs\", opt_res, self.max_iter)\n"
     ]
    },
    {
     "name": "stdout",
     "output_type": "stream",
     "text": [
      "[CV] END hidden_layer_sizes=22, learning_rate_init=1e-05, max_iter=2500, random_state=42, solver=lbfgs; total time= 1.2min\n"
     ]
    },
    {
     "name": "stderr",
     "output_type": "stream",
     "text": [
      "C:\\Users\\salda\\Anaconda3\\lib\\site-packages\\sklearn\\neural_network\\_multilayer_perceptron.py:500: ConvergenceWarning: lbfgs failed to converge (status=1):\n",
      "STOP: TOTAL NO. of ITERATIONS REACHED LIMIT.\n",
      "\n",
      "Increase the number of iterations (max_iter) or scale the data as shown in:\n",
      "    https://scikit-learn.org/stable/modules/preprocessing.html\n",
      "  self.n_iter_ = _check_optimize_result(\"lbfgs\", opt_res, self.max_iter)\n"
     ]
    },
    {
     "name": "stdout",
     "output_type": "stream",
     "text": [
      "[CV] END hidden_layer_sizes=22, learning_rate_init=1e-05, max_iter=2500, random_state=42, solver=lbfgs; total time= 1.3min\n"
     ]
    },
    {
     "name": "stderr",
     "output_type": "stream",
     "text": [
      "C:\\Users\\salda\\Anaconda3\\lib\\site-packages\\sklearn\\neural_network\\_multilayer_perceptron.py:614: ConvergenceWarning: Stochastic Optimizer: Maximum iterations (2500) reached and the optimization hasn't converged yet.\n",
      "  warnings.warn(\n"
     ]
    },
    {
     "name": "stdout",
     "output_type": "stream",
     "text": [
      "[CV] END hidden_layer_sizes=22, learning_rate_init=1e-05, max_iter=2500, random_state=42, solver=adam; total time= 4.9min\n"
     ]
    },
    {
     "name": "stderr",
     "output_type": "stream",
     "text": [
      "C:\\Users\\salda\\Anaconda3\\lib\\site-packages\\sklearn\\neural_network\\_multilayer_perceptron.py:614: ConvergenceWarning: Stochastic Optimizer: Maximum iterations (2500) reached and the optimization hasn't converged yet.\n",
      "  warnings.warn(\n"
     ]
    },
    {
     "name": "stdout",
     "output_type": "stream",
     "text": [
      "[CV] END hidden_layer_sizes=22, learning_rate_init=1e-05, max_iter=2500, random_state=42, solver=adam; total time= 4.6min\n"
     ]
    },
    {
     "name": "stderr",
     "output_type": "stream",
     "text": [
      "C:\\Users\\salda\\Anaconda3\\lib\\site-packages\\sklearn\\neural_network\\_multilayer_perceptron.py:614: ConvergenceWarning: Stochastic Optimizer: Maximum iterations (2500) reached and the optimization hasn't converged yet.\n",
      "  warnings.warn(\n"
     ]
    },
    {
     "name": "stdout",
     "output_type": "stream",
     "text": [
      "[CV] END hidden_layer_sizes=22, learning_rate_init=1e-05, max_iter=2500, random_state=42, solver=adam; total time= 3.7min\n"
     ]
    },
    {
     "name": "stderr",
     "output_type": "stream",
     "text": [
      "C:\\Users\\salda\\Anaconda3\\lib\\site-packages\\sklearn\\neural_network\\_multilayer_perceptron.py:614: ConvergenceWarning: Stochastic Optimizer: Maximum iterations (2500) reached and the optimization hasn't converged yet.\n",
      "  warnings.warn(\n"
     ]
    },
    {
     "name": "stdout",
     "output_type": "stream",
     "text": [
      "[CV] END hidden_layer_sizes=22, learning_rate_init=1e-05, max_iter=2500, random_state=42, solver=adam; total time= 3.6min\n"
     ]
    },
    {
     "name": "stderr",
     "output_type": "stream",
     "text": [
      "C:\\Users\\salda\\Anaconda3\\lib\\site-packages\\sklearn\\neural_network\\_multilayer_perceptron.py:614: ConvergenceWarning: Stochastic Optimizer: Maximum iterations (2500) reached and the optimization hasn't converged yet.\n",
      "  warnings.warn(\n"
     ]
    },
    {
     "name": "stdout",
     "output_type": "stream",
     "text": [
      "[CV] END hidden_layer_sizes=22, learning_rate_init=1e-05, max_iter=2500, random_state=42, solver=adam; total time= 3.1min\n"
     ]
    },
    {
     "name": "stderr",
     "output_type": "stream",
     "text": [
      "C:\\Users\\salda\\Anaconda3\\lib\\site-packages\\sklearn\\neural_network\\_multilayer_perceptron.py:500: ConvergenceWarning: lbfgs failed to converge (status=1):\n",
      "STOP: TOTAL NO. of ITERATIONS REACHED LIMIT.\n",
      "\n",
      "Increase the number of iterations (max_iter) or scale the data as shown in:\n",
      "    https://scikit-learn.org/stable/modules/preprocessing.html\n",
      "  self.n_iter_ = _check_optimize_result(\"lbfgs\", opt_res, self.max_iter)\n"
     ]
    },
    {
     "name": "stdout",
     "output_type": "stream",
     "text": [
      "[CV] END hidden_layer_sizes=23, learning_rate_init=0.1, max_iter=2500, random_state=42, solver=lbfgs; total time=  45.1s\n"
     ]
    },
    {
     "name": "stderr",
     "output_type": "stream",
     "text": [
      "C:\\Users\\salda\\Anaconda3\\lib\\site-packages\\sklearn\\neural_network\\_multilayer_perceptron.py:500: ConvergenceWarning: lbfgs failed to converge (status=1):\n",
      "STOP: TOTAL NO. of ITERATIONS REACHED LIMIT.\n",
      "\n",
      "Increase the number of iterations (max_iter) or scale the data as shown in:\n",
      "    https://scikit-learn.org/stable/modules/preprocessing.html\n",
      "  self.n_iter_ = _check_optimize_result(\"lbfgs\", opt_res, self.max_iter)\n"
     ]
    },
    {
     "name": "stdout",
     "output_type": "stream",
     "text": [
      "[CV] END hidden_layer_sizes=23, learning_rate_init=0.1, max_iter=2500, random_state=42, solver=lbfgs; total time=  47.9s\n"
     ]
    },
    {
     "name": "stderr",
     "output_type": "stream",
     "text": [
      "C:\\Users\\salda\\Anaconda3\\lib\\site-packages\\sklearn\\neural_network\\_multilayer_perceptron.py:500: ConvergenceWarning: lbfgs failed to converge (status=1):\n",
      "STOP: TOTAL NO. of ITERATIONS REACHED LIMIT.\n",
      "\n",
      "Increase the number of iterations (max_iter) or scale the data as shown in:\n",
      "    https://scikit-learn.org/stable/modules/preprocessing.html\n",
      "  self.n_iter_ = _check_optimize_result(\"lbfgs\", opt_res, self.max_iter)\n"
     ]
    },
    {
     "name": "stdout",
     "output_type": "stream",
     "text": [
      "[CV] END hidden_layer_sizes=23, learning_rate_init=0.1, max_iter=2500, random_state=42, solver=lbfgs; total time=  46.1s\n"
     ]
    },
    {
     "name": "stderr",
     "output_type": "stream",
     "text": [
      "C:\\Users\\salda\\Anaconda3\\lib\\site-packages\\sklearn\\neural_network\\_multilayer_perceptron.py:500: ConvergenceWarning: lbfgs failed to converge (status=1):\n",
      "STOP: TOTAL NO. of ITERATIONS REACHED LIMIT.\n",
      "\n",
      "Increase the number of iterations (max_iter) or scale the data as shown in:\n",
      "    https://scikit-learn.org/stable/modules/preprocessing.html\n",
      "  self.n_iter_ = _check_optimize_result(\"lbfgs\", opt_res, self.max_iter)\n"
     ]
    },
    {
     "name": "stdout",
     "output_type": "stream",
     "text": [
      "[CV] END hidden_layer_sizes=23, learning_rate_init=0.1, max_iter=2500, random_state=42, solver=lbfgs; total time=  46.0s\n"
     ]
    },
    {
     "name": "stderr",
     "output_type": "stream",
     "text": [
      "C:\\Users\\salda\\Anaconda3\\lib\\site-packages\\sklearn\\neural_network\\_multilayer_perceptron.py:500: ConvergenceWarning: lbfgs failed to converge (status=1):\n",
      "STOP: TOTAL NO. of ITERATIONS REACHED LIMIT.\n",
      "\n",
      "Increase the number of iterations (max_iter) or scale the data as shown in:\n",
      "    https://scikit-learn.org/stable/modules/preprocessing.html\n",
      "  self.n_iter_ = _check_optimize_result(\"lbfgs\", opt_res, self.max_iter)\n"
     ]
    },
    {
     "name": "stdout",
     "output_type": "stream",
     "text": [
      "[CV] END hidden_layer_sizes=23, learning_rate_init=0.1, max_iter=2500, random_state=42, solver=lbfgs; total time=  46.9s\n",
      "[CV] END hidden_layer_sizes=23, learning_rate_init=0.1, max_iter=2500, random_state=42, solver=adam; total time=   4.2s\n",
      "[CV] END hidden_layer_sizes=23, learning_rate_init=0.1, max_iter=2500, random_state=42, solver=adam; total time=   4.2s\n",
      "[CV] END hidden_layer_sizes=23, learning_rate_init=0.1, max_iter=2500, random_state=42, solver=adam; total time=   4.5s\n",
      "[CV] END hidden_layer_sizes=23, learning_rate_init=0.1, max_iter=2500, random_state=42, solver=adam; total time=   4.1s\n",
      "[CV] END hidden_layer_sizes=23, learning_rate_init=0.1, max_iter=2500, random_state=42, solver=adam; total time=   3.7s\n"
     ]
    },
    {
     "name": "stderr",
     "output_type": "stream",
     "text": [
      "C:\\Users\\salda\\Anaconda3\\lib\\site-packages\\sklearn\\neural_network\\_multilayer_perceptron.py:500: ConvergenceWarning: lbfgs failed to converge (status=1):\n",
      "STOP: TOTAL NO. of ITERATIONS REACHED LIMIT.\n",
      "\n",
      "Increase the number of iterations (max_iter) or scale the data as shown in:\n",
      "    https://scikit-learn.org/stable/modules/preprocessing.html\n",
      "  self.n_iter_ = _check_optimize_result(\"lbfgs\", opt_res, self.max_iter)\n"
     ]
    },
    {
     "name": "stdout",
     "output_type": "stream",
     "text": [
      "[CV] END hidden_layer_sizes=23, learning_rate_init=0.001, max_iter=2500, random_state=42, solver=lbfgs; total time=  44.8s\n"
     ]
    },
    {
     "name": "stderr",
     "output_type": "stream",
     "text": [
      "C:\\Users\\salda\\Anaconda3\\lib\\site-packages\\sklearn\\neural_network\\_multilayer_perceptron.py:500: ConvergenceWarning: lbfgs failed to converge (status=1):\n",
      "STOP: TOTAL NO. of ITERATIONS REACHED LIMIT.\n",
      "\n",
      "Increase the number of iterations (max_iter) or scale the data as shown in:\n",
      "    https://scikit-learn.org/stable/modules/preprocessing.html\n",
      "  self.n_iter_ = _check_optimize_result(\"lbfgs\", opt_res, self.max_iter)\n"
     ]
    },
    {
     "name": "stdout",
     "output_type": "stream",
     "text": [
      "[CV] END hidden_layer_sizes=23, learning_rate_init=0.001, max_iter=2500, random_state=42, solver=lbfgs; total time=  50.3s\n"
     ]
    },
    {
     "name": "stderr",
     "output_type": "stream",
     "text": [
      "C:\\Users\\salda\\Anaconda3\\lib\\site-packages\\sklearn\\neural_network\\_multilayer_perceptron.py:500: ConvergenceWarning: lbfgs failed to converge (status=1):\n",
      "STOP: TOTAL NO. of ITERATIONS REACHED LIMIT.\n",
      "\n",
      "Increase the number of iterations (max_iter) or scale the data as shown in:\n",
      "    https://scikit-learn.org/stable/modules/preprocessing.html\n",
      "  self.n_iter_ = _check_optimize_result(\"lbfgs\", opt_res, self.max_iter)\n"
     ]
    },
    {
     "name": "stdout",
     "output_type": "stream",
     "text": [
      "[CV] END hidden_layer_sizes=23, learning_rate_init=0.001, max_iter=2500, random_state=42, solver=lbfgs; total time=  48.7s\n"
     ]
    },
    {
     "name": "stderr",
     "output_type": "stream",
     "text": [
      "C:\\Users\\salda\\Anaconda3\\lib\\site-packages\\sklearn\\neural_network\\_multilayer_perceptron.py:500: ConvergenceWarning: lbfgs failed to converge (status=1):\n",
      "STOP: TOTAL NO. of ITERATIONS REACHED LIMIT.\n",
      "\n",
      "Increase the number of iterations (max_iter) or scale the data as shown in:\n",
      "    https://scikit-learn.org/stable/modules/preprocessing.html\n",
      "  self.n_iter_ = _check_optimize_result(\"lbfgs\", opt_res, self.max_iter)\n"
     ]
    },
    {
     "name": "stdout",
     "output_type": "stream",
     "text": [
      "[CV] END hidden_layer_sizes=23, learning_rate_init=0.001, max_iter=2500, random_state=42, solver=lbfgs; total time=  45.5s\n"
     ]
    },
    {
     "name": "stderr",
     "output_type": "stream",
     "text": [
      "C:\\Users\\salda\\Anaconda3\\lib\\site-packages\\sklearn\\neural_network\\_multilayer_perceptron.py:500: ConvergenceWarning: lbfgs failed to converge (status=1):\n",
      "STOP: TOTAL NO. of ITERATIONS REACHED LIMIT.\n",
      "\n",
      "Increase the number of iterations (max_iter) or scale the data as shown in:\n",
      "    https://scikit-learn.org/stable/modules/preprocessing.html\n",
      "  self.n_iter_ = _check_optimize_result(\"lbfgs\", opt_res, self.max_iter)\n"
     ]
    },
    {
     "name": "stdout",
     "output_type": "stream",
     "text": [
      "[CV] END hidden_layer_sizes=23, learning_rate_init=0.001, max_iter=2500, random_state=42, solver=lbfgs; total time=  46.9s\n",
      "[CV] END hidden_layer_sizes=23, learning_rate_init=0.001, max_iter=2500, random_state=42, solver=adam; total time=  22.7s\n",
      "[CV] END hidden_layer_sizes=23, learning_rate_init=0.001, max_iter=2500, random_state=42, solver=adam; total time=  23.4s\n",
      "[CV] END hidden_layer_sizes=23, learning_rate_init=0.001, max_iter=2500, random_state=42, solver=adam; total time=  18.0s\n",
      "[CV] END hidden_layer_sizes=23, learning_rate_init=0.001, max_iter=2500, random_state=42, solver=adam; total time=  31.9s\n",
      "[CV] END hidden_layer_sizes=23, learning_rate_init=0.001, max_iter=2500, random_state=42, solver=adam; total time=  24.1s\n"
     ]
    },
    {
     "name": "stderr",
     "output_type": "stream",
     "text": [
      "C:\\Users\\salda\\Anaconda3\\lib\\site-packages\\sklearn\\neural_network\\_multilayer_perceptron.py:500: ConvergenceWarning: lbfgs failed to converge (status=1):\n",
      "STOP: TOTAL NO. of ITERATIONS REACHED LIMIT.\n",
      "\n",
      "Increase the number of iterations (max_iter) or scale the data as shown in:\n",
      "    https://scikit-learn.org/stable/modules/preprocessing.html\n",
      "  self.n_iter_ = _check_optimize_result(\"lbfgs\", opt_res, self.max_iter)\n"
     ]
    },
    {
     "name": "stdout",
     "output_type": "stream",
     "text": [
      "[CV] END hidden_layer_sizes=23, learning_rate_init=1e-05, max_iter=2500, random_state=42, solver=lbfgs; total time=  44.9s\n"
     ]
    },
    {
     "name": "stderr",
     "output_type": "stream",
     "text": [
      "C:\\Users\\salda\\Anaconda3\\lib\\site-packages\\sklearn\\neural_network\\_multilayer_perceptron.py:500: ConvergenceWarning: lbfgs failed to converge (status=1):\n",
      "STOP: TOTAL NO. of ITERATIONS REACHED LIMIT.\n",
      "\n",
      "Increase the number of iterations (max_iter) or scale the data as shown in:\n",
      "    https://scikit-learn.org/stable/modules/preprocessing.html\n",
      "  self.n_iter_ = _check_optimize_result(\"lbfgs\", opt_res, self.max_iter)\n"
     ]
    },
    {
     "name": "stdout",
     "output_type": "stream",
     "text": [
      "[CV] END hidden_layer_sizes=23, learning_rate_init=1e-05, max_iter=2500, random_state=42, solver=lbfgs; total time=  47.5s\n"
     ]
    },
    {
     "name": "stderr",
     "output_type": "stream",
     "text": [
      "C:\\Users\\salda\\Anaconda3\\lib\\site-packages\\sklearn\\neural_network\\_multilayer_perceptron.py:500: ConvergenceWarning: lbfgs failed to converge (status=1):\n",
      "STOP: TOTAL NO. of ITERATIONS REACHED LIMIT.\n",
      "\n",
      "Increase the number of iterations (max_iter) or scale the data as shown in:\n",
      "    https://scikit-learn.org/stable/modules/preprocessing.html\n",
      "  self.n_iter_ = _check_optimize_result(\"lbfgs\", opt_res, self.max_iter)\n"
     ]
    },
    {
     "name": "stdout",
     "output_type": "stream",
     "text": [
      "[CV] END hidden_layer_sizes=23, learning_rate_init=1e-05, max_iter=2500, random_state=42, solver=lbfgs; total time=  46.5s\n"
     ]
    },
    {
     "name": "stderr",
     "output_type": "stream",
     "text": [
      "C:\\Users\\salda\\Anaconda3\\lib\\site-packages\\sklearn\\neural_network\\_multilayer_perceptron.py:500: ConvergenceWarning: lbfgs failed to converge (status=1):\n",
      "STOP: TOTAL NO. of ITERATIONS REACHED LIMIT.\n",
      "\n",
      "Increase the number of iterations (max_iter) or scale the data as shown in:\n",
      "    https://scikit-learn.org/stable/modules/preprocessing.html\n",
      "  self.n_iter_ = _check_optimize_result(\"lbfgs\", opt_res, self.max_iter)\n"
     ]
    },
    {
     "name": "stdout",
     "output_type": "stream",
     "text": [
      "[CV] END hidden_layer_sizes=23, learning_rate_init=1e-05, max_iter=2500, random_state=42, solver=lbfgs; total time=  46.0s\n"
     ]
    },
    {
     "name": "stderr",
     "output_type": "stream",
     "text": [
      "C:\\Users\\salda\\Anaconda3\\lib\\site-packages\\sklearn\\neural_network\\_multilayer_perceptron.py:500: ConvergenceWarning: lbfgs failed to converge (status=1):\n",
      "STOP: TOTAL NO. of ITERATIONS REACHED LIMIT.\n",
      "\n",
      "Increase the number of iterations (max_iter) or scale the data as shown in:\n",
      "    https://scikit-learn.org/stable/modules/preprocessing.html\n",
      "  self.n_iter_ = _check_optimize_result(\"lbfgs\", opt_res, self.max_iter)\n"
     ]
    },
    {
     "name": "stdout",
     "output_type": "stream",
     "text": [
      "[CV] END hidden_layer_sizes=23, learning_rate_init=1e-05, max_iter=2500, random_state=42, solver=lbfgs; total time=  51.8s\n"
     ]
    },
    {
     "name": "stderr",
     "output_type": "stream",
     "text": [
      "C:\\Users\\salda\\Anaconda3\\lib\\site-packages\\sklearn\\neural_network\\_multilayer_perceptron.py:614: ConvergenceWarning: Stochastic Optimizer: Maximum iterations (2500) reached and the optimization hasn't converged yet.\n",
      "  warnings.warn(\n"
     ]
    },
    {
     "name": "stdout",
     "output_type": "stream",
     "text": [
      "[CV] END hidden_layer_sizes=23, learning_rate_init=1e-05, max_iter=2500, random_state=42, solver=adam; total time= 3.0min\n"
     ]
    },
    {
     "name": "stderr",
     "output_type": "stream",
     "text": [
      "C:\\Users\\salda\\Anaconda3\\lib\\site-packages\\sklearn\\neural_network\\_multilayer_perceptron.py:614: ConvergenceWarning: Stochastic Optimizer: Maximum iterations (2500) reached and the optimization hasn't converged yet.\n",
      "  warnings.warn(\n"
     ]
    },
    {
     "name": "stdout",
     "output_type": "stream",
     "text": [
      "[CV] END hidden_layer_sizes=23, learning_rate_init=1e-05, max_iter=2500, random_state=42, solver=adam; total time= 3.0min\n"
     ]
    },
    {
     "name": "stderr",
     "output_type": "stream",
     "text": [
      "C:\\Users\\salda\\Anaconda3\\lib\\site-packages\\sklearn\\neural_network\\_multilayer_perceptron.py:614: ConvergenceWarning: Stochastic Optimizer: Maximum iterations (2500) reached and the optimization hasn't converged yet.\n",
      "  warnings.warn(\n"
     ]
    },
    {
     "name": "stdout",
     "output_type": "stream",
     "text": [
      "[CV] END hidden_layer_sizes=23, learning_rate_init=1e-05, max_iter=2500, random_state=42, solver=adam; total time= 3.0min\n"
     ]
    },
    {
     "name": "stderr",
     "output_type": "stream",
     "text": [
      "C:\\Users\\salda\\Anaconda3\\lib\\site-packages\\sklearn\\neural_network\\_multilayer_perceptron.py:614: ConvergenceWarning: Stochastic Optimizer: Maximum iterations (2500) reached and the optimization hasn't converged yet.\n",
      "  warnings.warn(\n"
     ]
    },
    {
     "name": "stdout",
     "output_type": "stream",
     "text": [
      "[CV] END hidden_layer_sizes=23, learning_rate_init=1e-05, max_iter=2500, random_state=42, solver=adam; total time= 3.0min\n"
     ]
    },
    {
     "name": "stderr",
     "output_type": "stream",
     "text": [
      "C:\\Users\\salda\\Anaconda3\\lib\\site-packages\\sklearn\\neural_network\\_multilayer_perceptron.py:614: ConvergenceWarning: Stochastic Optimizer: Maximum iterations (2500) reached and the optimization hasn't converged yet.\n",
      "  warnings.warn(\n"
     ]
    },
    {
     "name": "stdout",
     "output_type": "stream",
     "text": [
      "[CV] END hidden_layer_sizes=23, learning_rate_init=1e-05, max_iter=2500, random_state=42, solver=adam; total time= 3.0min\n"
     ]
    },
    {
     "name": "stderr",
     "output_type": "stream",
     "text": [
      "C:\\Users\\salda\\Anaconda3\\lib\\site-packages\\sklearn\\neural_network\\_multilayer_perceptron.py:500: ConvergenceWarning: lbfgs failed to converge (status=1):\n",
      "STOP: TOTAL NO. of ITERATIONS REACHED LIMIT.\n",
      "\n",
      "Increase the number of iterations (max_iter) or scale the data as shown in:\n",
      "    https://scikit-learn.org/stable/modules/preprocessing.html\n",
      "  self.n_iter_ = _check_optimize_result(\"lbfgs\", opt_res, self.max_iter)\n"
     ]
    },
    {
     "name": "stdout",
     "output_type": "stream",
     "text": [
      "[CV] END hidden_layer_sizes=24, learning_rate_init=0.1, max_iter=2500, random_state=42, solver=lbfgs; total time=  48.9s\n"
     ]
    },
    {
     "name": "stderr",
     "output_type": "stream",
     "text": [
      "C:\\Users\\salda\\Anaconda3\\lib\\site-packages\\sklearn\\neural_network\\_multilayer_perceptron.py:500: ConvergenceWarning: lbfgs failed to converge (status=1):\n",
      "STOP: TOTAL NO. of ITERATIONS REACHED LIMIT.\n",
      "\n",
      "Increase the number of iterations (max_iter) or scale the data as shown in:\n",
      "    https://scikit-learn.org/stable/modules/preprocessing.html\n",
      "  self.n_iter_ = _check_optimize_result(\"lbfgs\", opt_res, self.max_iter)\n"
     ]
    },
    {
     "name": "stdout",
     "output_type": "stream",
     "text": [
      "[CV] END hidden_layer_sizes=24, learning_rate_init=0.1, max_iter=2500, random_state=42, solver=lbfgs; total time=  50.0s\n"
     ]
    },
    {
     "name": "stderr",
     "output_type": "stream",
     "text": [
      "C:\\Users\\salda\\Anaconda3\\lib\\site-packages\\sklearn\\neural_network\\_multilayer_perceptron.py:500: ConvergenceWarning: lbfgs failed to converge (status=1):\n",
      "STOP: TOTAL NO. of ITERATIONS REACHED LIMIT.\n",
      "\n",
      "Increase the number of iterations (max_iter) or scale the data as shown in:\n",
      "    https://scikit-learn.org/stable/modules/preprocessing.html\n",
      "  self.n_iter_ = _check_optimize_result(\"lbfgs\", opt_res, self.max_iter)\n"
     ]
    },
    {
     "name": "stdout",
     "output_type": "stream",
     "text": [
      "[CV] END hidden_layer_sizes=24, learning_rate_init=0.1, max_iter=2500, random_state=42, solver=lbfgs; total time=  47.3s\n"
     ]
    },
    {
     "name": "stderr",
     "output_type": "stream",
     "text": [
      "C:\\Users\\salda\\Anaconda3\\lib\\site-packages\\sklearn\\neural_network\\_multilayer_perceptron.py:500: ConvergenceWarning: lbfgs failed to converge (status=1):\n",
      "STOP: TOTAL NO. of ITERATIONS REACHED LIMIT.\n",
      "\n",
      "Increase the number of iterations (max_iter) or scale the data as shown in:\n",
      "    https://scikit-learn.org/stable/modules/preprocessing.html\n",
      "  self.n_iter_ = _check_optimize_result(\"lbfgs\", opt_res, self.max_iter)\n"
     ]
    },
    {
     "name": "stdout",
     "output_type": "stream",
     "text": [
      "[CV] END hidden_layer_sizes=24, learning_rate_init=0.1, max_iter=2500, random_state=42, solver=lbfgs; total time=  48.1s\n"
     ]
    },
    {
     "name": "stderr",
     "output_type": "stream",
     "text": [
      "C:\\Users\\salda\\Anaconda3\\lib\\site-packages\\sklearn\\neural_network\\_multilayer_perceptron.py:500: ConvergenceWarning: lbfgs failed to converge (status=1):\n",
      "STOP: TOTAL NO. of ITERATIONS REACHED LIMIT.\n",
      "\n",
      "Increase the number of iterations (max_iter) or scale the data as shown in:\n",
      "    https://scikit-learn.org/stable/modules/preprocessing.html\n",
      "  self.n_iter_ = _check_optimize_result(\"lbfgs\", opt_res, self.max_iter)\n"
     ]
    },
    {
     "name": "stdout",
     "output_type": "stream",
     "text": [
      "[CV] END hidden_layer_sizes=24, learning_rate_init=0.1, max_iter=2500, random_state=42, solver=lbfgs; total time=  51.4s\n",
      "[CV] END hidden_layer_sizes=24, learning_rate_init=0.1, max_iter=2500, random_state=42, solver=adam; total time=   3.8s\n",
      "[CV] END hidden_layer_sizes=24, learning_rate_init=0.1, max_iter=2500, random_state=42, solver=adam; total time=   7.4s\n",
      "[CV] END hidden_layer_sizes=24, learning_rate_init=0.1, max_iter=2500, random_state=42, solver=adam; total time=   4.1s\n",
      "[CV] END hidden_layer_sizes=24, learning_rate_init=0.1, max_iter=2500, random_state=42, solver=adam; total time=   5.7s\n",
      "[CV] END hidden_layer_sizes=24, learning_rate_init=0.1, max_iter=2500, random_state=42, solver=adam; total time=   4.7s\n"
     ]
    },
    {
     "name": "stderr",
     "output_type": "stream",
     "text": [
      "C:\\Users\\salda\\Anaconda3\\lib\\site-packages\\sklearn\\neural_network\\_multilayer_perceptron.py:500: ConvergenceWarning: lbfgs failed to converge (status=1):\n",
      "STOP: TOTAL NO. of ITERATIONS REACHED LIMIT.\n",
      "\n",
      "Increase the number of iterations (max_iter) or scale the data as shown in:\n",
      "    https://scikit-learn.org/stable/modules/preprocessing.html\n",
      "  self.n_iter_ = _check_optimize_result(\"lbfgs\", opt_res, self.max_iter)\n"
     ]
    },
    {
     "name": "stdout",
     "output_type": "stream",
     "text": [
      "[CV] END hidden_layer_sizes=24, learning_rate_init=0.001, max_iter=2500, random_state=42, solver=lbfgs; total time=  54.0s\n"
     ]
    },
    {
     "name": "stderr",
     "output_type": "stream",
     "text": [
      "C:\\Users\\salda\\Anaconda3\\lib\\site-packages\\sklearn\\neural_network\\_multilayer_perceptron.py:500: ConvergenceWarning: lbfgs failed to converge (status=1):\n",
      "STOP: TOTAL NO. of ITERATIONS REACHED LIMIT.\n",
      "\n",
      "Increase the number of iterations (max_iter) or scale the data as shown in:\n",
      "    https://scikit-learn.org/stable/modules/preprocessing.html\n",
      "  self.n_iter_ = _check_optimize_result(\"lbfgs\", opt_res, self.max_iter)\n"
     ]
    },
    {
     "name": "stdout",
     "output_type": "stream",
     "text": [
      "[CV] END hidden_layer_sizes=24, learning_rate_init=0.001, max_iter=2500, random_state=42, solver=lbfgs; total time=  52.4s\n"
     ]
    },
    {
     "name": "stderr",
     "output_type": "stream",
     "text": [
      "C:\\Users\\salda\\Anaconda3\\lib\\site-packages\\sklearn\\neural_network\\_multilayer_perceptron.py:500: ConvergenceWarning: lbfgs failed to converge (status=1):\n",
      "STOP: TOTAL NO. of ITERATIONS REACHED LIMIT.\n",
      "\n",
      "Increase the number of iterations (max_iter) or scale the data as shown in:\n",
      "    https://scikit-learn.org/stable/modules/preprocessing.html\n",
      "  self.n_iter_ = _check_optimize_result(\"lbfgs\", opt_res, self.max_iter)\n"
     ]
    },
    {
     "name": "stdout",
     "output_type": "stream",
     "text": [
      "[CV] END hidden_layer_sizes=24, learning_rate_init=0.001, max_iter=2500, random_state=42, solver=lbfgs; total time=  48.1s\n"
     ]
    },
    {
     "name": "stderr",
     "output_type": "stream",
     "text": [
      "C:\\Users\\salda\\Anaconda3\\lib\\site-packages\\sklearn\\neural_network\\_multilayer_perceptron.py:500: ConvergenceWarning: lbfgs failed to converge (status=1):\n",
      "STOP: TOTAL NO. of ITERATIONS REACHED LIMIT.\n",
      "\n",
      "Increase the number of iterations (max_iter) or scale the data as shown in:\n",
      "    https://scikit-learn.org/stable/modules/preprocessing.html\n",
      "  self.n_iter_ = _check_optimize_result(\"lbfgs\", opt_res, self.max_iter)\n"
     ]
    },
    {
     "name": "stdout",
     "output_type": "stream",
     "text": [
      "[CV] END hidden_layer_sizes=24, learning_rate_init=0.001, max_iter=2500, random_state=42, solver=lbfgs; total time=  50.5s\n"
     ]
    },
    {
     "name": "stderr",
     "output_type": "stream",
     "text": [
      "C:\\Users\\salda\\Anaconda3\\lib\\site-packages\\sklearn\\neural_network\\_multilayer_perceptron.py:500: ConvergenceWarning: lbfgs failed to converge (status=1):\n",
      "STOP: TOTAL NO. of ITERATIONS REACHED LIMIT.\n",
      "\n",
      "Increase the number of iterations (max_iter) or scale the data as shown in:\n",
      "    https://scikit-learn.org/stable/modules/preprocessing.html\n",
      "  self.n_iter_ = _check_optimize_result(\"lbfgs\", opt_res, self.max_iter)\n"
     ]
    },
    {
     "name": "stdout",
     "output_type": "stream",
     "text": [
      "[CV] END hidden_layer_sizes=24, learning_rate_init=0.001, max_iter=2500, random_state=42, solver=lbfgs; total time=  53.4s\n",
      "[CV] END hidden_layer_sizes=24, learning_rate_init=0.001, max_iter=2500, random_state=42, solver=adam; total time=  51.3s\n",
      "[CV] END hidden_layer_sizes=24, learning_rate_init=0.001, max_iter=2500, random_state=42, solver=adam; total time=  30.2s\n",
      "[CV] END hidden_layer_sizes=24, learning_rate_init=0.001, max_iter=2500, random_state=42, solver=adam; total time=  31.8s\n",
      "[CV] END hidden_layer_sizes=24, learning_rate_init=0.001, max_iter=2500, random_state=42, solver=adam; total time=  32.3s\n",
      "[CV] END hidden_layer_sizes=24, learning_rate_init=0.001, max_iter=2500, random_state=42, solver=adam; total time=  29.5s\n"
     ]
    },
    {
     "name": "stderr",
     "output_type": "stream",
     "text": [
      "C:\\Users\\salda\\Anaconda3\\lib\\site-packages\\sklearn\\neural_network\\_multilayer_perceptron.py:500: ConvergenceWarning: lbfgs failed to converge (status=1):\n",
      "STOP: TOTAL NO. of ITERATIONS REACHED LIMIT.\n",
      "\n",
      "Increase the number of iterations (max_iter) or scale the data as shown in:\n",
      "    https://scikit-learn.org/stable/modules/preprocessing.html\n",
      "  self.n_iter_ = _check_optimize_result(\"lbfgs\", opt_res, self.max_iter)\n"
     ]
    },
    {
     "name": "stdout",
     "output_type": "stream",
     "text": [
      "[CV] END hidden_layer_sizes=24, learning_rate_init=1e-05, max_iter=2500, random_state=42, solver=lbfgs; total time=  53.0s\n"
     ]
    },
    {
     "name": "stderr",
     "output_type": "stream",
     "text": [
      "C:\\Users\\salda\\Anaconda3\\lib\\site-packages\\sklearn\\neural_network\\_multilayer_perceptron.py:500: ConvergenceWarning: lbfgs failed to converge (status=1):\n",
      "STOP: TOTAL NO. of ITERATIONS REACHED LIMIT.\n",
      "\n",
      "Increase the number of iterations (max_iter) or scale the data as shown in:\n",
      "    https://scikit-learn.org/stable/modules/preprocessing.html\n",
      "  self.n_iter_ = _check_optimize_result(\"lbfgs\", opt_res, self.max_iter)\n"
     ]
    },
    {
     "name": "stdout",
     "output_type": "stream",
     "text": [
      "[CV] END hidden_layer_sizes=24, learning_rate_init=1e-05, max_iter=2500, random_state=42, solver=lbfgs; total time=  51.0s\n"
     ]
    },
    {
     "name": "stderr",
     "output_type": "stream",
     "text": [
      "C:\\Users\\salda\\Anaconda3\\lib\\site-packages\\sklearn\\neural_network\\_multilayer_perceptron.py:500: ConvergenceWarning: lbfgs failed to converge (status=1):\n",
      "STOP: TOTAL NO. of ITERATIONS REACHED LIMIT.\n",
      "\n",
      "Increase the number of iterations (max_iter) or scale the data as shown in:\n",
      "    https://scikit-learn.org/stable/modules/preprocessing.html\n",
      "  self.n_iter_ = _check_optimize_result(\"lbfgs\", opt_res, self.max_iter)\n"
     ]
    },
    {
     "name": "stdout",
     "output_type": "stream",
     "text": [
      "[CV] END hidden_layer_sizes=24, learning_rate_init=1e-05, max_iter=2500, random_state=42, solver=lbfgs; total time=  48.5s\n"
     ]
    },
    {
     "name": "stderr",
     "output_type": "stream",
     "text": [
      "C:\\Users\\salda\\Anaconda3\\lib\\site-packages\\sklearn\\neural_network\\_multilayer_perceptron.py:500: ConvergenceWarning: lbfgs failed to converge (status=1):\n",
      "STOP: TOTAL NO. of ITERATIONS REACHED LIMIT.\n",
      "\n",
      "Increase the number of iterations (max_iter) or scale the data as shown in:\n",
      "    https://scikit-learn.org/stable/modules/preprocessing.html\n",
      "  self.n_iter_ = _check_optimize_result(\"lbfgs\", opt_res, self.max_iter)\n"
     ]
    },
    {
     "name": "stdout",
     "output_type": "stream",
     "text": [
      "[CV] END hidden_layer_sizes=24, learning_rate_init=1e-05, max_iter=2500, random_state=42, solver=lbfgs; total time=  53.6s\n"
     ]
    },
    {
     "name": "stderr",
     "output_type": "stream",
     "text": [
      "C:\\Users\\salda\\Anaconda3\\lib\\site-packages\\sklearn\\neural_network\\_multilayer_perceptron.py:500: ConvergenceWarning: lbfgs failed to converge (status=1):\n",
      "STOP: TOTAL NO. of ITERATIONS REACHED LIMIT.\n",
      "\n",
      "Increase the number of iterations (max_iter) or scale the data as shown in:\n",
      "    https://scikit-learn.org/stable/modules/preprocessing.html\n",
      "  self.n_iter_ = _check_optimize_result(\"lbfgs\", opt_res, self.max_iter)\n"
     ]
    },
    {
     "name": "stdout",
     "output_type": "stream",
     "text": [
      "[CV] END hidden_layer_sizes=24, learning_rate_init=1e-05, max_iter=2500, random_state=42, solver=lbfgs; total time=  50.5s\n"
     ]
    },
    {
     "name": "stderr",
     "output_type": "stream",
     "text": [
      "C:\\Users\\salda\\Anaconda3\\lib\\site-packages\\sklearn\\neural_network\\_multilayer_perceptron.py:614: ConvergenceWarning: Stochastic Optimizer: Maximum iterations (2500) reached and the optimization hasn't converged yet.\n",
      "  warnings.warn(\n"
     ]
    },
    {
     "name": "stdout",
     "output_type": "stream",
     "text": [
      "[CV] END hidden_layer_sizes=24, learning_rate_init=1e-05, max_iter=2500, random_state=42, solver=adam; total time= 3.2min\n"
     ]
    },
    {
     "name": "stderr",
     "output_type": "stream",
     "text": [
      "C:\\Users\\salda\\Anaconda3\\lib\\site-packages\\sklearn\\neural_network\\_multilayer_perceptron.py:614: ConvergenceWarning: Stochastic Optimizer: Maximum iterations (2500) reached and the optimization hasn't converged yet.\n",
      "  warnings.warn(\n"
     ]
    },
    {
     "name": "stdout",
     "output_type": "stream",
     "text": [
      "[CV] END hidden_layer_sizes=24, learning_rate_init=1e-05, max_iter=2500, random_state=42, solver=adam; total time= 3.2min\n"
     ]
    },
    {
     "name": "stderr",
     "output_type": "stream",
     "text": [
      "C:\\Users\\salda\\Anaconda3\\lib\\site-packages\\sklearn\\neural_network\\_multilayer_perceptron.py:614: ConvergenceWarning: Stochastic Optimizer: Maximum iterations (2500) reached and the optimization hasn't converged yet.\n",
      "  warnings.warn(\n"
     ]
    },
    {
     "name": "stdout",
     "output_type": "stream",
     "text": [
      "[CV] END hidden_layer_sizes=24, learning_rate_init=1e-05, max_iter=2500, random_state=42, solver=adam; total time= 3.3min\n"
     ]
    },
    {
     "name": "stderr",
     "output_type": "stream",
     "text": [
      "C:\\Users\\salda\\Anaconda3\\lib\\site-packages\\sklearn\\neural_network\\_multilayer_perceptron.py:614: ConvergenceWarning: Stochastic Optimizer: Maximum iterations (2500) reached and the optimization hasn't converged yet.\n",
      "  warnings.warn(\n"
     ]
    },
    {
     "name": "stdout",
     "output_type": "stream",
     "text": [
      "[CV] END hidden_layer_sizes=24, learning_rate_init=1e-05, max_iter=2500, random_state=42, solver=adam; total time= 3.1min\n"
     ]
    },
    {
     "name": "stderr",
     "output_type": "stream",
     "text": [
      "C:\\Users\\salda\\Anaconda3\\lib\\site-packages\\sklearn\\neural_network\\_multilayer_perceptron.py:614: ConvergenceWarning: Stochastic Optimizer: Maximum iterations (2500) reached and the optimization hasn't converged yet.\n",
      "  warnings.warn(\n"
     ]
    },
    {
     "name": "stdout",
     "output_type": "stream",
     "text": [
      "[CV] END hidden_layer_sizes=24, learning_rate_init=1e-05, max_iter=2500, random_state=42, solver=adam; total time= 3.2min\n"
     ]
    },
    {
     "name": "stderr",
     "output_type": "stream",
     "text": [
      "C:\\Users\\salda\\Anaconda3\\lib\\site-packages\\sklearn\\neural_network\\_multilayer_perceptron.py:500: ConvergenceWarning: lbfgs failed to converge (status=1):\n",
      "STOP: TOTAL NO. of ITERATIONS REACHED LIMIT.\n",
      "\n",
      "Increase the number of iterations (max_iter) or scale the data as shown in:\n",
      "    https://scikit-learn.org/stable/modules/preprocessing.html\n",
      "  self.n_iter_ = _check_optimize_result(\"lbfgs\", opt_res, self.max_iter)\n"
     ]
    },
    {
     "name": "stdout",
     "output_type": "stream",
     "text": [
      "[CV] END hidden_layer_sizes=25, learning_rate_init=0.1, max_iter=2500, random_state=42, solver=lbfgs; total time=  51.0s\n"
     ]
    },
    {
     "name": "stderr",
     "output_type": "stream",
     "text": [
      "C:\\Users\\salda\\Anaconda3\\lib\\site-packages\\sklearn\\neural_network\\_multilayer_perceptron.py:500: ConvergenceWarning: lbfgs failed to converge (status=1):\n",
      "STOP: TOTAL NO. of ITERATIONS REACHED LIMIT.\n",
      "\n",
      "Increase the number of iterations (max_iter) or scale the data as shown in:\n",
      "    https://scikit-learn.org/stable/modules/preprocessing.html\n",
      "  self.n_iter_ = _check_optimize_result(\"lbfgs\", opt_res, self.max_iter)\n"
     ]
    },
    {
     "name": "stdout",
     "output_type": "stream",
     "text": [
      "[CV] END hidden_layer_sizes=25, learning_rate_init=0.1, max_iter=2500, random_state=42, solver=lbfgs; total time=  52.7s\n"
     ]
    },
    {
     "name": "stderr",
     "output_type": "stream",
     "text": [
      "C:\\Users\\salda\\Anaconda3\\lib\\site-packages\\sklearn\\neural_network\\_multilayer_perceptron.py:500: ConvergenceWarning: lbfgs failed to converge (status=1):\n",
      "STOP: TOTAL NO. of ITERATIONS REACHED LIMIT.\n",
      "\n",
      "Increase the number of iterations (max_iter) or scale the data as shown in:\n",
      "    https://scikit-learn.org/stable/modules/preprocessing.html\n",
      "  self.n_iter_ = _check_optimize_result(\"lbfgs\", opt_res, self.max_iter)\n"
     ]
    },
    {
     "name": "stdout",
     "output_type": "stream",
     "text": [
      "[CV] END hidden_layer_sizes=25, learning_rate_init=0.1, max_iter=2500, random_state=42, solver=lbfgs; total time=  57.4s\n"
     ]
    },
    {
     "name": "stderr",
     "output_type": "stream",
     "text": [
      "C:\\Users\\salda\\Anaconda3\\lib\\site-packages\\sklearn\\neural_network\\_multilayer_perceptron.py:500: ConvergenceWarning: lbfgs failed to converge (status=1):\n",
      "STOP: TOTAL NO. of ITERATIONS REACHED LIMIT.\n",
      "\n",
      "Increase the number of iterations (max_iter) or scale the data as shown in:\n",
      "    https://scikit-learn.org/stable/modules/preprocessing.html\n",
      "  self.n_iter_ = _check_optimize_result(\"lbfgs\", opt_res, self.max_iter)\n"
     ]
    },
    {
     "name": "stdout",
     "output_type": "stream",
     "text": [
      "[CV] END hidden_layer_sizes=25, learning_rate_init=0.1, max_iter=2500, random_state=42, solver=lbfgs; total time=  52.6s\n"
     ]
    },
    {
     "name": "stderr",
     "output_type": "stream",
     "text": [
      "C:\\Users\\salda\\Anaconda3\\lib\\site-packages\\sklearn\\neural_network\\_multilayer_perceptron.py:500: ConvergenceWarning: lbfgs failed to converge (status=1):\n",
      "STOP: TOTAL NO. of ITERATIONS REACHED LIMIT.\n",
      "\n",
      "Increase the number of iterations (max_iter) or scale the data as shown in:\n",
      "    https://scikit-learn.org/stable/modules/preprocessing.html\n",
      "  self.n_iter_ = _check_optimize_result(\"lbfgs\", opt_res, self.max_iter)\n"
     ]
    },
    {
     "name": "stdout",
     "output_type": "stream",
     "text": [
      "[CV] END hidden_layer_sizes=25, learning_rate_init=0.1, max_iter=2500, random_state=42, solver=lbfgs; total time=  51.6s\n",
      "[CV] END hidden_layer_sizes=25, learning_rate_init=0.1, max_iter=2500, random_state=42, solver=adam; total time=   1.6s\n",
      "[CV] END hidden_layer_sizes=25, learning_rate_init=0.1, max_iter=2500, random_state=42, solver=adam; total time=   2.5s\n",
      "[CV] END hidden_layer_sizes=25, learning_rate_init=0.1, max_iter=2500, random_state=42, solver=adam; total time=   4.2s\n",
      "[CV] END hidden_layer_sizes=25, learning_rate_init=0.1, max_iter=2500, random_state=42, solver=adam; total time=   2.2s\n",
      "[CV] END hidden_layer_sizes=25, learning_rate_init=0.1, max_iter=2500, random_state=42, solver=adam; total time=   2.8s\n"
     ]
    },
    {
     "name": "stderr",
     "output_type": "stream",
     "text": [
      "C:\\Users\\salda\\Anaconda3\\lib\\site-packages\\sklearn\\neural_network\\_multilayer_perceptron.py:500: ConvergenceWarning: lbfgs failed to converge (status=1):\n",
      "STOP: TOTAL NO. of ITERATIONS REACHED LIMIT.\n",
      "\n",
      "Increase the number of iterations (max_iter) or scale the data as shown in:\n",
      "    https://scikit-learn.org/stable/modules/preprocessing.html\n",
      "  self.n_iter_ = _check_optimize_result(\"lbfgs\", opt_res, self.max_iter)\n"
     ]
    },
    {
     "name": "stdout",
     "output_type": "stream",
     "text": [
      "[CV] END hidden_layer_sizes=25, learning_rate_init=0.001, max_iter=2500, random_state=42, solver=lbfgs; total time=  48.8s\n"
     ]
    },
    {
     "name": "stderr",
     "output_type": "stream",
     "text": [
      "C:\\Users\\salda\\Anaconda3\\lib\\site-packages\\sklearn\\neural_network\\_multilayer_perceptron.py:500: ConvergenceWarning: lbfgs failed to converge (status=1):\n",
      "STOP: TOTAL NO. of ITERATIONS REACHED LIMIT.\n",
      "\n",
      "Increase the number of iterations (max_iter) or scale the data as shown in:\n",
      "    https://scikit-learn.org/stable/modules/preprocessing.html\n",
      "  self.n_iter_ = _check_optimize_result(\"lbfgs\", opt_res, self.max_iter)\n"
     ]
    },
    {
     "name": "stdout",
     "output_type": "stream",
     "text": [
      "[CV] END hidden_layer_sizes=25, learning_rate_init=0.001, max_iter=2500, random_state=42, solver=lbfgs; total time=  51.0s\n"
     ]
    },
    {
     "name": "stderr",
     "output_type": "stream",
     "text": [
      "C:\\Users\\salda\\Anaconda3\\lib\\site-packages\\sklearn\\neural_network\\_multilayer_perceptron.py:500: ConvergenceWarning: lbfgs failed to converge (status=1):\n",
      "STOP: TOTAL NO. of ITERATIONS REACHED LIMIT.\n",
      "\n",
      "Increase the number of iterations (max_iter) or scale the data as shown in:\n",
      "    https://scikit-learn.org/stable/modules/preprocessing.html\n",
      "  self.n_iter_ = _check_optimize_result(\"lbfgs\", opt_res, self.max_iter)\n"
     ]
    },
    {
     "name": "stdout",
     "output_type": "stream",
     "text": [
      "[CV] END hidden_layer_sizes=25, learning_rate_init=0.001, max_iter=2500, random_state=42, solver=lbfgs; total time=  54.4s\n"
     ]
    },
    {
     "name": "stderr",
     "output_type": "stream",
     "text": [
      "C:\\Users\\salda\\Anaconda3\\lib\\site-packages\\sklearn\\neural_network\\_multilayer_perceptron.py:500: ConvergenceWarning: lbfgs failed to converge (status=1):\n",
      "STOP: TOTAL NO. of ITERATIONS REACHED LIMIT.\n",
      "\n",
      "Increase the number of iterations (max_iter) or scale the data as shown in:\n",
      "    https://scikit-learn.org/stable/modules/preprocessing.html\n",
      "  self.n_iter_ = _check_optimize_result(\"lbfgs\", opt_res, self.max_iter)\n"
     ]
    },
    {
     "name": "stdout",
     "output_type": "stream",
     "text": [
      "[CV] END hidden_layer_sizes=25, learning_rate_init=0.001, max_iter=2500, random_state=42, solver=lbfgs; total time=  50.1s\n"
     ]
    },
    {
     "name": "stderr",
     "output_type": "stream",
     "text": [
      "C:\\Users\\salda\\Anaconda3\\lib\\site-packages\\sklearn\\neural_network\\_multilayer_perceptron.py:500: ConvergenceWarning: lbfgs failed to converge (status=1):\n",
      "STOP: TOTAL NO. of ITERATIONS REACHED LIMIT.\n",
      "\n",
      "Increase the number of iterations (max_iter) or scale the data as shown in:\n",
      "    https://scikit-learn.org/stable/modules/preprocessing.html\n",
      "  self.n_iter_ = _check_optimize_result(\"lbfgs\", opt_res, self.max_iter)\n"
     ]
    },
    {
     "name": "stdout",
     "output_type": "stream",
     "text": [
      "[CV] END hidden_layer_sizes=25, learning_rate_init=0.001, max_iter=2500, random_state=42, solver=lbfgs; total time=  53.6s\n",
      "[CV] END hidden_layer_sizes=25, learning_rate_init=0.001, max_iter=2500, random_state=42, solver=adam; total time=  29.3s\n",
      "[CV] END hidden_layer_sizes=25, learning_rate_init=0.001, max_iter=2500, random_state=42, solver=adam; total time=  20.5s\n",
      "[CV] END hidden_layer_sizes=25, learning_rate_init=0.001, max_iter=2500, random_state=42, solver=adam; total time=  35.5s\n",
      "[CV] END hidden_layer_sizes=25, learning_rate_init=0.001, max_iter=2500, random_state=42, solver=adam; total time=  17.5s\n",
      "[CV] END hidden_layer_sizes=25, learning_rate_init=0.001, max_iter=2500, random_state=42, solver=adam; total time=  26.9s\n"
     ]
    },
    {
     "name": "stderr",
     "output_type": "stream",
     "text": [
      "C:\\Users\\salda\\Anaconda3\\lib\\site-packages\\sklearn\\neural_network\\_multilayer_perceptron.py:500: ConvergenceWarning: lbfgs failed to converge (status=1):\n",
      "STOP: TOTAL NO. of ITERATIONS REACHED LIMIT.\n",
      "\n",
      "Increase the number of iterations (max_iter) or scale the data as shown in:\n",
      "    https://scikit-learn.org/stable/modules/preprocessing.html\n",
      "  self.n_iter_ = _check_optimize_result(\"lbfgs\", opt_res, self.max_iter)\n"
     ]
    },
    {
     "name": "stdout",
     "output_type": "stream",
     "text": [
      "[CV] END hidden_layer_sizes=25, learning_rate_init=1e-05, max_iter=2500, random_state=42, solver=lbfgs; total time=  49.6s\n"
     ]
    },
    {
     "name": "stderr",
     "output_type": "stream",
     "text": [
      "C:\\Users\\salda\\Anaconda3\\lib\\site-packages\\sklearn\\neural_network\\_multilayer_perceptron.py:500: ConvergenceWarning: lbfgs failed to converge (status=1):\n",
      "STOP: TOTAL NO. of ITERATIONS REACHED LIMIT.\n",
      "\n",
      "Increase the number of iterations (max_iter) or scale the data as shown in:\n",
      "    https://scikit-learn.org/stable/modules/preprocessing.html\n",
      "  self.n_iter_ = _check_optimize_result(\"lbfgs\", opt_res, self.max_iter)\n"
     ]
    },
    {
     "name": "stdout",
     "output_type": "stream",
     "text": [
      "[CV] END hidden_layer_sizes=25, learning_rate_init=1e-05, max_iter=2500, random_state=42, solver=lbfgs; total time=  54.2s\n"
     ]
    },
    {
     "name": "stderr",
     "output_type": "stream",
     "text": [
      "C:\\Users\\salda\\Anaconda3\\lib\\site-packages\\sklearn\\neural_network\\_multilayer_perceptron.py:500: ConvergenceWarning: lbfgs failed to converge (status=1):\n",
      "STOP: TOTAL NO. of ITERATIONS REACHED LIMIT.\n",
      "\n",
      "Increase the number of iterations (max_iter) or scale the data as shown in:\n",
      "    https://scikit-learn.org/stable/modules/preprocessing.html\n",
      "  self.n_iter_ = _check_optimize_result(\"lbfgs\", opt_res, self.max_iter)\n"
     ]
    },
    {
     "name": "stdout",
     "output_type": "stream",
     "text": [
      "[CV] END hidden_layer_sizes=25, learning_rate_init=1e-05, max_iter=2500, random_state=42, solver=lbfgs; total time=  50.4s\n"
     ]
    },
    {
     "name": "stderr",
     "output_type": "stream",
     "text": [
      "C:\\Users\\salda\\Anaconda3\\lib\\site-packages\\sklearn\\neural_network\\_multilayer_perceptron.py:500: ConvergenceWarning: lbfgs failed to converge (status=1):\n",
      "STOP: TOTAL NO. of ITERATIONS REACHED LIMIT.\n",
      "\n",
      "Increase the number of iterations (max_iter) or scale the data as shown in:\n",
      "    https://scikit-learn.org/stable/modules/preprocessing.html\n",
      "  self.n_iter_ = _check_optimize_result(\"lbfgs\", opt_res, self.max_iter)\n"
     ]
    },
    {
     "name": "stdout",
     "output_type": "stream",
     "text": [
      "[CV] END hidden_layer_sizes=25, learning_rate_init=1e-05, max_iter=2500, random_state=42, solver=lbfgs; total time=  55.7s\n"
     ]
    },
    {
     "name": "stderr",
     "output_type": "stream",
     "text": [
      "C:\\Users\\salda\\Anaconda3\\lib\\site-packages\\sklearn\\neural_network\\_multilayer_perceptron.py:500: ConvergenceWarning: lbfgs failed to converge (status=1):\n",
      "STOP: TOTAL NO. of ITERATIONS REACHED LIMIT.\n",
      "\n",
      "Increase the number of iterations (max_iter) or scale the data as shown in:\n",
      "    https://scikit-learn.org/stable/modules/preprocessing.html\n",
      "  self.n_iter_ = _check_optimize_result(\"lbfgs\", opt_res, self.max_iter)\n"
     ]
    },
    {
     "name": "stdout",
     "output_type": "stream",
     "text": [
      "[CV] END hidden_layer_sizes=25, learning_rate_init=1e-05, max_iter=2500, random_state=42, solver=lbfgs; total time=  51.3s\n"
     ]
    },
    {
     "name": "stderr",
     "output_type": "stream",
     "text": [
      "C:\\Users\\salda\\Anaconda3\\lib\\site-packages\\sklearn\\neural_network\\_multilayer_perceptron.py:614: ConvergenceWarning: Stochastic Optimizer: Maximum iterations (2500) reached and the optimization hasn't converged yet.\n",
      "  warnings.warn(\n"
     ]
    },
    {
     "name": "stdout",
     "output_type": "stream",
     "text": [
      "[CV] END hidden_layer_sizes=25, learning_rate_init=1e-05, max_iter=2500, random_state=42, solver=adam; total time= 3.1min\n"
     ]
    },
    {
     "name": "stderr",
     "output_type": "stream",
     "text": [
      "C:\\Users\\salda\\Anaconda3\\lib\\site-packages\\sklearn\\neural_network\\_multilayer_perceptron.py:614: ConvergenceWarning: Stochastic Optimizer: Maximum iterations (2500) reached and the optimization hasn't converged yet.\n",
      "  warnings.warn(\n"
     ]
    },
    {
     "name": "stdout",
     "output_type": "stream",
     "text": [
      "[CV] END hidden_layer_sizes=25, learning_rate_init=1e-05, max_iter=2500, random_state=42, solver=adam; total time= 3.0min\n"
     ]
    },
    {
     "name": "stderr",
     "output_type": "stream",
     "text": [
      "C:\\Users\\salda\\Anaconda3\\lib\\site-packages\\sklearn\\neural_network\\_multilayer_perceptron.py:614: ConvergenceWarning: Stochastic Optimizer: Maximum iterations (2500) reached and the optimization hasn't converged yet.\n",
      "  warnings.warn(\n"
     ]
    },
    {
     "name": "stdout",
     "output_type": "stream",
     "text": [
      "[CV] END hidden_layer_sizes=25, learning_rate_init=1e-05, max_iter=2500, random_state=42, solver=adam; total time= 3.1min\n"
     ]
    },
    {
     "name": "stderr",
     "output_type": "stream",
     "text": [
      "C:\\Users\\salda\\Anaconda3\\lib\\site-packages\\sklearn\\neural_network\\_multilayer_perceptron.py:614: ConvergenceWarning: Stochastic Optimizer: Maximum iterations (2500) reached and the optimization hasn't converged yet.\n",
      "  warnings.warn(\n"
     ]
    },
    {
     "name": "stdout",
     "output_type": "stream",
     "text": [
      "[CV] END hidden_layer_sizes=25, learning_rate_init=1e-05, max_iter=2500, random_state=42, solver=adam; total time= 3.2min\n"
     ]
    },
    {
     "name": "stderr",
     "output_type": "stream",
     "text": [
      "C:\\Users\\salda\\Anaconda3\\lib\\site-packages\\sklearn\\neural_network\\_multilayer_perceptron.py:614: ConvergenceWarning: Stochastic Optimizer: Maximum iterations (2500) reached and the optimization hasn't converged yet.\n",
      "  warnings.warn(\n"
     ]
    },
    {
     "name": "stdout",
     "output_type": "stream",
     "text": [
      "[CV] END hidden_layer_sizes=25, learning_rate_init=1e-05, max_iter=2500, random_state=42, solver=adam; total time= 3.1min\n"
     ]
    },
    {
     "name": "stderr",
     "output_type": "stream",
     "text": [
      "C:\\Users\\salda\\Anaconda3\\lib\\site-packages\\sklearn\\neural_network\\_multilayer_perceptron.py:500: ConvergenceWarning: lbfgs failed to converge (status=1):\n",
      "STOP: TOTAL NO. of ITERATIONS REACHED LIMIT.\n",
      "\n",
      "Increase the number of iterations (max_iter) or scale the data as shown in:\n",
      "    https://scikit-learn.org/stable/modules/preprocessing.html\n",
      "  self.n_iter_ = _check_optimize_result(\"lbfgs\", opt_res, self.max_iter)\n"
     ]
    },
    {
     "name": "stdout",
     "output_type": "stream",
     "text": [
      "[CV] END hidden_layer_sizes=26, learning_rate_init=0.1, max_iter=2500, random_state=42, solver=lbfgs; total time=  56.3s\n"
     ]
    },
    {
     "name": "stderr",
     "output_type": "stream",
     "text": [
      "C:\\Users\\salda\\Anaconda3\\lib\\site-packages\\sklearn\\neural_network\\_multilayer_perceptron.py:500: ConvergenceWarning: lbfgs failed to converge (status=1):\n",
      "STOP: TOTAL NO. of ITERATIONS REACHED LIMIT.\n",
      "\n",
      "Increase the number of iterations (max_iter) or scale the data as shown in:\n",
      "    https://scikit-learn.org/stable/modules/preprocessing.html\n",
      "  self.n_iter_ = _check_optimize_result(\"lbfgs\", opt_res, self.max_iter)\n"
     ]
    },
    {
     "name": "stdout",
     "output_type": "stream",
     "text": [
      "[CV] END hidden_layer_sizes=26, learning_rate_init=0.1, max_iter=2500, random_state=42, solver=lbfgs; total time=  55.0s\n"
     ]
    },
    {
     "name": "stderr",
     "output_type": "stream",
     "text": [
      "C:\\Users\\salda\\Anaconda3\\lib\\site-packages\\sklearn\\neural_network\\_multilayer_perceptron.py:500: ConvergenceWarning: lbfgs failed to converge (status=1):\n",
      "STOP: TOTAL NO. of ITERATIONS REACHED LIMIT.\n",
      "\n",
      "Increase the number of iterations (max_iter) or scale the data as shown in:\n",
      "    https://scikit-learn.org/stable/modules/preprocessing.html\n",
      "  self.n_iter_ = _check_optimize_result(\"lbfgs\", opt_res, self.max_iter)\n"
     ]
    },
    {
     "name": "stdout",
     "output_type": "stream",
     "text": [
      "[CV] END hidden_layer_sizes=26, learning_rate_init=0.1, max_iter=2500, random_state=42, solver=lbfgs; total time=  52.9s\n"
     ]
    },
    {
     "name": "stderr",
     "output_type": "stream",
     "text": [
      "C:\\Users\\salda\\Anaconda3\\lib\\site-packages\\sklearn\\neural_network\\_multilayer_perceptron.py:500: ConvergenceWarning: lbfgs failed to converge (status=1):\n",
      "STOP: TOTAL NO. of ITERATIONS REACHED LIMIT.\n",
      "\n",
      "Increase the number of iterations (max_iter) or scale the data as shown in:\n",
      "    https://scikit-learn.org/stable/modules/preprocessing.html\n",
      "  self.n_iter_ = _check_optimize_result(\"lbfgs\", opt_res, self.max_iter)\n"
     ]
    },
    {
     "name": "stdout",
     "output_type": "stream",
     "text": [
      "[CV] END hidden_layer_sizes=26, learning_rate_init=0.1, max_iter=2500, random_state=42, solver=lbfgs; total time=  55.9s\n"
     ]
    },
    {
     "name": "stderr",
     "output_type": "stream",
     "text": [
      "C:\\Users\\salda\\Anaconda3\\lib\\site-packages\\sklearn\\neural_network\\_multilayer_perceptron.py:500: ConvergenceWarning: lbfgs failed to converge (status=1):\n",
      "STOP: TOTAL NO. of ITERATIONS REACHED LIMIT.\n",
      "\n",
      "Increase the number of iterations (max_iter) or scale the data as shown in:\n",
      "    https://scikit-learn.org/stable/modules/preprocessing.html\n",
      "  self.n_iter_ = _check_optimize_result(\"lbfgs\", opt_res, self.max_iter)\n"
     ]
    },
    {
     "name": "stdout",
     "output_type": "stream",
     "text": [
      "[CV] END hidden_layer_sizes=26, learning_rate_init=0.1, max_iter=2500, random_state=42, solver=lbfgs; total time=  52.0s\n",
      "[CV] END hidden_layer_sizes=26, learning_rate_init=0.1, max_iter=2500, random_state=42, solver=adam; total time=   7.1s\n",
      "[CV] END hidden_layer_sizes=26, learning_rate_init=0.1, max_iter=2500, random_state=42, solver=adam; total time=   4.6s\n",
      "[CV] END hidden_layer_sizes=26, learning_rate_init=0.1, max_iter=2500, random_state=42, solver=adam; total time=   5.5s\n",
      "[CV] END hidden_layer_sizes=26, learning_rate_init=0.1, max_iter=2500, random_state=42, solver=adam; total time=   2.3s\n",
      "[CV] END hidden_layer_sizes=26, learning_rate_init=0.1, max_iter=2500, random_state=42, solver=adam; total time=   3.3s\n"
     ]
    },
    {
     "name": "stderr",
     "output_type": "stream",
     "text": [
      "C:\\Users\\salda\\Anaconda3\\lib\\site-packages\\sklearn\\neural_network\\_multilayer_perceptron.py:500: ConvergenceWarning: lbfgs failed to converge (status=1):\n",
      "STOP: TOTAL NO. of ITERATIONS REACHED LIMIT.\n",
      "\n",
      "Increase the number of iterations (max_iter) or scale the data as shown in:\n",
      "    https://scikit-learn.org/stable/modules/preprocessing.html\n",
      "  self.n_iter_ = _check_optimize_result(\"lbfgs\", opt_res, self.max_iter)\n"
     ]
    },
    {
     "name": "stdout",
     "output_type": "stream",
     "text": [
      "[CV] END hidden_layer_sizes=26, learning_rate_init=0.001, max_iter=2500, random_state=42, solver=lbfgs; total time=  53.4s\n"
     ]
    },
    {
     "name": "stderr",
     "output_type": "stream",
     "text": [
      "C:\\Users\\salda\\Anaconda3\\lib\\site-packages\\sklearn\\neural_network\\_multilayer_perceptron.py:500: ConvergenceWarning: lbfgs failed to converge (status=1):\n",
      "STOP: TOTAL NO. of ITERATIONS REACHED LIMIT.\n",
      "\n",
      "Increase the number of iterations (max_iter) or scale the data as shown in:\n",
      "    https://scikit-learn.org/stable/modules/preprocessing.html\n",
      "  self.n_iter_ = _check_optimize_result(\"lbfgs\", opt_res, self.max_iter)\n"
     ]
    },
    {
     "name": "stdout",
     "output_type": "stream",
     "text": [
      "[CV] END hidden_layer_sizes=26, learning_rate_init=0.001, max_iter=2500, random_state=42, solver=lbfgs; total time=  54.4s\n"
     ]
    },
    {
     "name": "stderr",
     "output_type": "stream",
     "text": [
      "C:\\Users\\salda\\Anaconda3\\lib\\site-packages\\sklearn\\neural_network\\_multilayer_perceptron.py:500: ConvergenceWarning: lbfgs failed to converge (status=1):\n",
      "STOP: TOTAL NO. of ITERATIONS REACHED LIMIT.\n",
      "\n",
      "Increase the number of iterations (max_iter) or scale the data as shown in:\n",
      "    https://scikit-learn.org/stable/modules/preprocessing.html\n",
      "  self.n_iter_ = _check_optimize_result(\"lbfgs\", opt_res, self.max_iter)\n"
     ]
    },
    {
     "name": "stdout",
     "output_type": "stream",
     "text": [
      "[CV] END hidden_layer_sizes=26, learning_rate_init=0.001, max_iter=2500, random_state=42, solver=lbfgs; total time=  56.4s\n"
     ]
    },
    {
     "name": "stderr",
     "output_type": "stream",
     "text": [
      "C:\\Users\\salda\\Anaconda3\\lib\\site-packages\\sklearn\\neural_network\\_multilayer_perceptron.py:500: ConvergenceWarning: lbfgs failed to converge (status=1):\n",
      "STOP: TOTAL NO. of ITERATIONS REACHED LIMIT.\n",
      "\n",
      "Increase the number of iterations (max_iter) or scale the data as shown in:\n",
      "    https://scikit-learn.org/stable/modules/preprocessing.html\n",
      "  self.n_iter_ = _check_optimize_result(\"lbfgs\", opt_res, self.max_iter)\n"
     ]
    },
    {
     "name": "stdout",
     "output_type": "stream",
     "text": [
      "[CV] END hidden_layer_sizes=26, learning_rate_init=0.001, max_iter=2500, random_state=42, solver=lbfgs; total time=  53.7s\n"
     ]
    },
    {
     "name": "stderr",
     "output_type": "stream",
     "text": [
      "C:\\Users\\salda\\Anaconda3\\lib\\site-packages\\sklearn\\neural_network\\_multilayer_perceptron.py:500: ConvergenceWarning: lbfgs failed to converge (status=1):\n",
      "STOP: TOTAL NO. of ITERATIONS REACHED LIMIT.\n",
      "\n",
      "Increase the number of iterations (max_iter) or scale the data as shown in:\n",
      "    https://scikit-learn.org/stable/modules/preprocessing.html\n",
      "  self.n_iter_ = _check_optimize_result(\"lbfgs\", opt_res, self.max_iter)\n"
     ]
    },
    {
     "name": "stdout",
     "output_type": "stream",
     "text": [
      "[CV] END hidden_layer_sizes=26, learning_rate_init=0.001, max_iter=2500, random_state=42, solver=lbfgs; total time=  53.8s\n",
      "[CV] END hidden_layer_sizes=26, learning_rate_init=0.001, max_iter=2500, random_state=42, solver=adam; total time=  29.4s\n",
      "[CV] END hidden_layer_sizes=26, learning_rate_init=0.001, max_iter=2500, random_state=42, solver=adam; total time=  36.7s\n",
      "[CV] END hidden_layer_sizes=26, learning_rate_init=0.001, max_iter=2500, random_state=42, solver=adam; total time=  28.3s\n",
      "[CV] END hidden_layer_sizes=26, learning_rate_init=0.001, max_iter=2500, random_state=42, solver=adam; total time=  23.5s\n",
      "[CV] END hidden_layer_sizes=26, learning_rate_init=0.001, max_iter=2500, random_state=42, solver=adam; total time=  20.6s\n"
     ]
    },
    {
     "name": "stderr",
     "output_type": "stream",
     "text": [
      "C:\\Users\\salda\\Anaconda3\\lib\\site-packages\\sklearn\\neural_network\\_multilayer_perceptron.py:500: ConvergenceWarning: lbfgs failed to converge (status=1):\n",
      "STOP: TOTAL NO. of ITERATIONS REACHED LIMIT.\n",
      "\n",
      "Increase the number of iterations (max_iter) or scale the data as shown in:\n",
      "    https://scikit-learn.org/stable/modules/preprocessing.html\n",
      "  self.n_iter_ = _check_optimize_result(\"lbfgs\", opt_res, self.max_iter)\n"
     ]
    },
    {
     "name": "stdout",
     "output_type": "stream",
     "text": [
      "[CV] END hidden_layer_sizes=26, learning_rate_init=1e-05, max_iter=2500, random_state=42, solver=lbfgs; total time=  53.5s\n"
     ]
    },
    {
     "name": "stderr",
     "output_type": "stream",
     "text": [
      "C:\\Users\\salda\\Anaconda3\\lib\\site-packages\\sklearn\\neural_network\\_multilayer_perceptron.py:500: ConvergenceWarning: lbfgs failed to converge (status=1):\n",
      "STOP: TOTAL NO. of ITERATIONS REACHED LIMIT.\n",
      "\n",
      "Increase the number of iterations (max_iter) or scale the data as shown in:\n",
      "    https://scikit-learn.org/stable/modules/preprocessing.html\n",
      "  self.n_iter_ = _check_optimize_result(\"lbfgs\", opt_res, self.max_iter)\n"
     ]
    },
    {
     "name": "stdout",
     "output_type": "stream",
     "text": [
      "[CV] END hidden_layer_sizes=26, learning_rate_init=1e-05, max_iter=2500, random_state=42, solver=lbfgs; total time=  52.7s\n"
     ]
    },
    {
     "name": "stderr",
     "output_type": "stream",
     "text": [
      "C:\\Users\\salda\\Anaconda3\\lib\\site-packages\\sklearn\\neural_network\\_multilayer_perceptron.py:500: ConvergenceWarning: lbfgs failed to converge (status=1):\n",
      "STOP: TOTAL NO. of ITERATIONS REACHED LIMIT.\n",
      "\n",
      "Increase the number of iterations (max_iter) or scale the data as shown in:\n",
      "    https://scikit-learn.org/stable/modules/preprocessing.html\n",
      "  self.n_iter_ = _check_optimize_result(\"lbfgs\", opt_res, self.max_iter)\n"
     ]
    },
    {
     "name": "stdout",
     "output_type": "stream",
     "text": [
      "[CV] END hidden_layer_sizes=26, learning_rate_init=1e-05, max_iter=2500, random_state=42, solver=lbfgs; total time=  51.9s\n"
     ]
    },
    {
     "name": "stderr",
     "output_type": "stream",
     "text": [
      "C:\\Users\\salda\\Anaconda3\\lib\\site-packages\\sklearn\\neural_network\\_multilayer_perceptron.py:500: ConvergenceWarning: lbfgs failed to converge (status=1):\n",
      "STOP: TOTAL NO. of ITERATIONS REACHED LIMIT.\n",
      "\n",
      "Increase the number of iterations (max_iter) or scale the data as shown in:\n",
      "    https://scikit-learn.org/stable/modules/preprocessing.html\n",
      "  self.n_iter_ = _check_optimize_result(\"lbfgs\", opt_res, self.max_iter)\n"
     ]
    },
    {
     "name": "stdout",
     "output_type": "stream",
     "text": [
      "[CV] END hidden_layer_sizes=26, learning_rate_init=1e-05, max_iter=2500, random_state=42, solver=lbfgs; total time=  54.1s\n"
     ]
    },
    {
     "name": "stderr",
     "output_type": "stream",
     "text": [
      "C:\\Users\\salda\\Anaconda3\\lib\\site-packages\\sklearn\\neural_network\\_multilayer_perceptron.py:500: ConvergenceWarning: lbfgs failed to converge (status=1):\n",
      "STOP: TOTAL NO. of ITERATIONS REACHED LIMIT.\n",
      "\n",
      "Increase the number of iterations (max_iter) or scale the data as shown in:\n",
      "    https://scikit-learn.org/stable/modules/preprocessing.html\n",
      "  self.n_iter_ = _check_optimize_result(\"lbfgs\", opt_res, self.max_iter)\n"
     ]
    },
    {
     "name": "stdout",
     "output_type": "stream",
     "text": [
      "[CV] END hidden_layer_sizes=26, learning_rate_init=1e-05, max_iter=2500, random_state=42, solver=lbfgs; total time=  52.0s\n"
     ]
    },
    {
     "name": "stderr",
     "output_type": "stream",
     "text": [
      "C:\\Users\\salda\\Anaconda3\\lib\\site-packages\\sklearn\\neural_network\\_multilayer_perceptron.py:614: ConvergenceWarning: Stochastic Optimizer: Maximum iterations (2500) reached and the optimization hasn't converged yet.\n",
      "  warnings.warn(\n"
     ]
    },
    {
     "name": "stdout",
     "output_type": "stream",
     "text": [
      "[CV] END hidden_layer_sizes=26, learning_rate_init=1e-05, max_iter=2500, random_state=42, solver=adam; total time= 3.2min\n"
     ]
    },
    {
     "name": "stderr",
     "output_type": "stream",
     "text": [
      "C:\\Users\\salda\\Anaconda3\\lib\\site-packages\\sklearn\\neural_network\\_multilayer_perceptron.py:614: ConvergenceWarning: Stochastic Optimizer: Maximum iterations (2500) reached and the optimization hasn't converged yet.\n",
      "  warnings.warn(\n"
     ]
    },
    {
     "name": "stdout",
     "output_type": "stream",
     "text": [
      "[CV] END hidden_layer_sizes=26, learning_rate_init=1e-05, max_iter=2500, random_state=42, solver=adam; total time= 3.2min\n"
     ]
    },
    {
     "name": "stderr",
     "output_type": "stream",
     "text": [
      "C:\\Users\\salda\\Anaconda3\\lib\\site-packages\\sklearn\\neural_network\\_multilayer_perceptron.py:614: ConvergenceWarning: Stochastic Optimizer: Maximum iterations (2500) reached and the optimization hasn't converged yet.\n",
      "  warnings.warn(\n"
     ]
    },
    {
     "name": "stdout",
     "output_type": "stream",
     "text": [
      "[CV] END hidden_layer_sizes=26, learning_rate_init=1e-05, max_iter=2500, random_state=42, solver=adam; total time= 3.2min\n"
     ]
    },
    {
     "name": "stderr",
     "output_type": "stream",
     "text": [
      "C:\\Users\\salda\\Anaconda3\\lib\\site-packages\\sklearn\\neural_network\\_multilayer_perceptron.py:614: ConvergenceWarning: Stochastic Optimizer: Maximum iterations (2500) reached and the optimization hasn't converged yet.\n",
      "  warnings.warn(\n"
     ]
    },
    {
     "name": "stdout",
     "output_type": "stream",
     "text": [
      "[CV] END hidden_layer_sizes=26, learning_rate_init=1e-05, max_iter=2500, random_state=42, solver=adam; total time= 3.2min\n"
     ]
    },
    {
     "name": "stderr",
     "output_type": "stream",
     "text": [
      "C:\\Users\\salda\\Anaconda3\\lib\\site-packages\\sklearn\\neural_network\\_multilayer_perceptron.py:614: ConvergenceWarning: Stochastic Optimizer: Maximum iterations (2500) reached and the optimization hasn't converged yet.\n",
      "  warnings.warn(\n"
     ]
    },
    {
     "name": "stdout",
     "output_type": "stream",
     "text": [
      "[CV] END hidden_layer_sizes=26, learning_rate_init=1e-05, max_iter=2500, random_state=42, solver=adam; total time= 3.2min\n"
     ]
    },
    {
     "name": "stderr",
     "output_type": "stream",
     "text": [
      "C:\\Users\\salda\\Anaconda3\\lib\\site-packages\\sklearn\\neural_network\\_multilayer_perceptron.py:500: ConvergenceWarning: lbfgs failed to converge (status=1):\n",
      "STOP: TOTAL NO. of ITERATIONS REACHED LIMIT.\n",
      "\n",
      "Increase the number of iterations (max_iter) or scale the data as shown in:\n",
      "    https://scikit-learn.org/stable/modules/preprocessing.html\n",
      "  self.n_iter_ = _check_optimize_result(\"lbfgs\", opt_res, self.max_iter)\n"
     ]
    },
    {
     "name": "stdout",
     "output_type": "stream",
     "text": [
      "[CV] END hidden_layer_sizes=27, learning_rate_init=0.1, max_iter=2500, random_state=42, solver=lbfgs; total time=  53.6s\n"
     ]
    },
    {
     "name": "stderr",
     "output_type": "stream",
     "text": [
      "C:\\Users\\salda\\Anaconda3\\lib\\site-packages\\sklearn\\neural_network\\_multilayer_perceptron.py:500: ConvergenceWarning: lbfgs failed to converge (status=1):\n",
      "STOP: TOTAL NO. of ITERATIONS REACHED LIMIT.\n",
      "\n",
      "Increase the number of iterations (max_iter) or scale the data as shown in:\n",
      "    https://scikit-learn.org/stable/modules/preprocessing.html\n",
      "  self.n_iter_ = _check_optimize_result(\"lbfgs\", opt_res, self.max_iter)\n"
     ]
    },
    {
     "name": "stdout",
     "output_type": "stream",
     "text": [
      "[CV] END hidden_layer_sizes=27, learning_rate_init=0.1, max_iter=2500, random_state=42, solver=lbfgs; total time=  53.3s\n"
     ]
    },
    {
     "name": "stderr",
     "output_type": "stream",
     "text": [
      "C:\\Users\\salda\\Anaconda3\\lib\\site-packages\\sklearn\\neural_network\\_multilayer_perceptron.py:500: ConvergenceWarning: lbfgs failed to converge (status=1):\n",
      "STOP: TOTAL NO. of ITERATIONS REACHED LIMIT.\n",
      "\n",
      "Increase the number of iterations (max_iter) or scale the data as shown in:\n",
      "    https://scikit-learn.org/stable/modules/preprocessing.html\n",
      "  self.n_iter_ = _check_optimize_result(\"lbfgs\", opt_res, self.max_iter)\n"
     ]
    },
    {
     "name": "stdout",
     "output_type": "stream",
     "text": [
      "[CV] END hidden_layer_sizes=27, learning_rate_init=0.1, max_iter=2500, random_state=42, solver=lbfgs; total time=  53.5s\n"
     ]
    },
    {
     "name": "stderr",
     "output_type": "stream",
     "text": [
      "C:\\Users\\salda\\Anaconda3\\lib\\site-packages\\sklearn\\neural_network\\_multilayer_perceptron.py:500: ConvergenceWarning: lbfgs failed to converge (status=1):\n",
      "STOP: TOTAL NO. of ITERATIONS REACHED LIMIT.\n",
      "\n",
      "Increase the number of iterations (max_iter) or scale the data as shown in:\n",
      "    https://scikit-learn.org/stable/modules/preprocessing.html\n",
      "  self.n_iter_ = _check_optimize_result(\"lbfgs\", opt_res, self.max_iter)\n"
     ]
    },
    {
     "name": "stdout",
     "output_type": "stream",
     "text": [
      "[CV] END hidden_layer_sizes=27, learning_rate_init=0.1, max_iter=2500, random_state=42, solver=lbfgs; total time=  53.4s\n"
     ]
    },
    {
     "name": "stderr",
     "output_type": "stream",
     "text": [
      "C:\\Users\\salda\\Anaconda3\\lib\\site-packages\\sklearn\\neural_network\\_multilayer_perceptron.py:500: ConvergenceWarning: lbfgs failed to converge (status=1):\n",
      "STOP: TOTAL NO. of ITERATIONS REACHED LIMIT.\n",
      "\n",
      "Increase the number of iterations (max_iter) or scale the data as shown in:\n",
      "    https://scikit-learn.org/stable/modules/preprocessing.html\n",
      "  self.n_iter_ = _check_optimize_result(\"lbfgs\", opt_res, self.max_iter)\n"
     ]
    },
    {
     "name": "stdout",
     "output_type": "stream",
     "text": [
      "[CV] END hidden_layer_sizes=27, learning_rate_init=0.1, max_iter=2500, random_state=42, solver=lbfgs; total time=  53.8s\n",
      "[CV] END hidden_layer_sizes=27, learning_rate_init=0.1, max_iter=2500, random_state=42, solver=adam; total time=   5.2s\n",
      "[CV] END hidden_layer_sizes=27, learning_rate_init=0.1, max_iter=2500, random_state=42, solver=adam; total time=   3.3s\n",
      "[CV] END hidden_layer_sizes=27, learning_rate_init=0.1, max_iter=2500, random_state=42, solver=adam; total time=   4.5s\n",
      "[CV] END hidden_layer_sizes=27, learning_rate_init=0.1, max_iter=2500, random_state=42, solver=adam; total time=   2.0s\n",
      "[CV] END hidden_layer_sizes=27, learning_rate_init=0.1, max_iter=2500, random_state=42, solver=adam; total time=   5.0s\n"
     ]
    },
    {
     "name": "stderr",
     "output_type": "stream",
     "text": [
      "C:\\Users\\salda\\Anaconda3\\lib\\site-packages\\sklearn\\neural_network\\_multilayer_perceptron.py:500: ConvergenceWarning: lbfgs failed to converge (status=1):\n",
      "STOP: TOTAL NO. of ITERATIONS REACHED LIMIT.\n",
      "\n",
      "Increase the number of iterations (max_iter) or scale the data as shown in:\n",
      "    https://scikit-learn.org/stable/modules/preprocessing.html\n",
      "  self.n_iter_ = _check_optimize_result(\"lbfgs\", opt_res, self.max_iter)\n"
     ]
    },
    {
     "name": "stdout",
     "output_type": "stream",
     "text": [
      "[CV] END hidden_layer_sizes=27, learning_rate_init=0.001, max_iter=2500, random_state=42, solver=lbfgs; total time=  55.3s\n"
     ]
    },
    {
     "name": "stderr",
     "output_type": "stream",
     "text": [
      "C:\\Users\\salda\\Anaconda3\\lib\\site-packages\\sklearn\\neural_network\\_multilayer_perceptron.py:500: ConvergenceWarning: lbfgs failed to converge (status=1):\n",
      "STOP: TOTAL NO. of ITERATIONS REACHED LIMIT.\n",
      "\n",
      "Increase the number of iterations (max_iter) or scale the data as shown in:\n",
      "    https://scikit-learn.org/stable/modules/preprocessing.html\n",
      "  self.n_iter_ = _check_optimize_result(\"lbfgs\", opt_res, self.max_iter)\n"
     ]
    },
    {
     "name": "stdout",
     "output_type": "stream",
     "text": [
      "[CV] END hidden_layer_sizes=27, learning_rate_init=0.001, max_iter=2500, random_state=42, solver=lbfgs; total time=  54.8s\n"
     ]
    },
    {
     "name": "stderr",
     "output_type": "stream",
     "text": [
      "C:\\Users\\salda\\Anaconda3\\lib\\site-packages\\sklearn\\neural_network\\_multilayer_perceptron.py:500: ConvergenceWarning: lbfgs failed to converge (status=1):\n",
      "STOP: TOTAL NO. of ITERATIONS REACHED LIMIT.\n",
      "\n",
      "Increase the number of iterations (max_iter) or scale the data as shown in:\n",
      "    https://scikit-learn.org/stable/modules/preprocessing.html\n",
      "  self.n_iter_ = _check_optimize_result(\"lbfgs\", opt_res, self.max_iter)\n"
     ]
    },
    {
     "name": "stdout",
     "output_type": "stream",
     "text": [
      "[CV] END hidden_layer_sizes=27, learning_rate_init=0.001, max_iter=2500, random_state=42, solver=lbfgs; total time=  54.3s\n"
     ]
    },
    {
     "name": "stderr",
     "output_type": "stream",
     "text": [
      "C:\\Users\\salda\\Anaconda3\\lib\\site-packages\\sklearn\\neural_network\\_multilayer_perceptron.py:500: ConvergenceWarning: lbfgs failed to converge (status=1):\n",
      "STOP: TOTAL NO. of ITERATIONS REACHED LIMIT.\n",
      "\n",
      "Increase the number of iterations (max_iter) or scale the data as shown in:\n",
      "    https://scikit-learn.org/stable/modules/preprocessing.html\n",
      "  self.n_iter_ = _check_optimize_result(\"lbfgs\", opt_res, self.max_iter)\n"
     ]
    },
    {
     "name": "stdout",
     "output_type": "stream",
     "text": [
      "[CV] END hidden_layer_sizes=27, learning_rate_init=0.001, max_iter=2500, random_state=42, solver=lbfgs; total time=  55.2s\n"
     ]
    },
    {
     "name": "stderr",
     "output_type": "stream",
     "text": [
      "C:\\Users\\salda\\Anaconda3\\lib\\site-packages\\sklearn\\neural_network\\_multilayer_perceptron.py:500: ConvergenceWarning: lbfgs failed to converge (status=1):\n",
      "STOP: TOTAL NO. of ITERATIONS REACHED LIMIT.\n",
      "\n",
      "Increase the number of iterations (max_iter) or scale the data as shown in:\n",
      "    https://scikit-learn.org/stable/modules/preprocessing.html\n",
      "  self.n_iter_ = _check_optimize_result(\"lbfgs\", opt_res, self.max_iter)\n"
     ]
    },
    {
     "name": "stdout",
     "output_type": "stream",
     "text": [
      "[CV] END hidden_layer_sizes=27, learning_rate_init=0.001, max_iter=2500, random_state=42, solver=lbfgs; total time=  59.8s\n",
      "[CV] END hidden_layer_sizes=27, learning_rate_init=0.001, max_iter=2500, random_state=42, solver=adam; total time=  30.0s\n",
      "[CV] END hidden_layer_sizes=27, learning_rate_init=0.001, max_iter=2500, random_state=42, solver=adam; total time=  38.8s\n",
      "[CV] END hidden_layer_sizes=27, learning_rate_init=0.001, max_iter=2500, random_state=42, solver=adam; total time=  28.3s\n",
      "[CV] END hidden_layer_sizes=27, learning_rate_init=0.001, max_iter=2500, random_state=42, solver=adam; total time=  20.7s\n",
      "[CV] END hidden_layer_sizes=27, learning_rate_init=0.001, max_iter=2500, random_state=42, solver=adam; total time=  20.4s\n"
     ]
    },
    {
     "name": "stderr",
     "output_type": "stream",
     "text": [
      "C:\\Users\\salda\\Anaconda3\\lib\\site-packages\\sklearn\\neural_network\\_multilayer_perceptron.py:500: ConvergenceWarning: lbfgs failed to converge (status=1):\n",
      "STOP: TOTAL NO. of ITERATIONS REACHED LIMIT.\n",
      "\n",
      "Increase the number of iterations (max_iter) or scale the data as shown in:\n",
      "    https://scikit-learn.org/stable/modules/preprocessing.html\n",
      "  self.n_iter_ = _check_optimize_result(\"lbfgs\", opt_res, self.max_iter)\n"
     ]
    },
    {
     "name": "stdout",
     "output_type": "stream",
     "text": [
      "[CV] END hidden_layer_sizes=27, learning_rate_init=1e-05, max_iter=2500, random_state=42, solver=lbfgs; total time=  52.8s\n"
     ]
    },
    {
     "name": "stderr",
     "output_type": "stream",
     "text": [
      "C:\\Users\\salda\\Anaconda3\\lib\\site-packages\\sklearn\\neural_network\\_multilayer_perceptron.py:500: ConvergenceWarning: lbfgs failed to converge (status=1):\n",
      "STOP: TOTAL NO. of ITERATIONS REACHED LIMIT.\n",
      "\n",
      "Increase the number of iterations (max_iter) or scale the data as shown in:\n",
      "    https://scikit-learn.org/stable/modules/preprocessing.html\n",
      "  self.n_iter_ = _check_optimize_result(\"lbfgs\", opt_res, self.max_iter)\n"
     ]
    },
    {
     "name": "stdout",
     "output_type": "stream",
     "text": [
      "[CV] END hidden_layer_sizes=27, learning_rate_init=1e-05, max_iter=2500, random_state=42, solver=lbfgs; total time=  54.7s\n"
     ]
    },
    {
     "name": "stderr",
     "output_type": "stream",
     "text": [
      "C:\\Users\\salda\\Anaconda3\\lib\\site-packages\\sklearn\\neural_network\\_multilayer_perceptron.py:500: ConvergenceWarning: lbfgs failed to converge (status=1):\n",
      "STOP: TOTAL NO. of ITERATIONS REACHED LIMIT.\n",
      "\n",
      "Increase the number of iterations (max_iter) or scale the data as shown in:\n",
      "    https://scikit-learn.org/stable/modules/preprocessing.html\n",
      "  self.n_iter_ = _check_optimize_result(\"lbfgs\", opt_res, self.max_iter)\n"
     ]
    },
    {
     "name": "stdout",
     "output_type": "stream",
     "text": [
      "[CV] END hidden_layer_sizes=27, learning_rate_init=1e-05, max_iter=2500, random_state=42, solver=lbfgs; total time=  54.5s\n"
     ]
    },
    {
     "name": "stderr",
     "output_type": "stream",
     "text": [
      "C:\\Users\\salda\\Anaconda3\\lib\\site-packages\\sklearn\\neural_network\\_multilayer_perceptron.py:500: ConvergenceWarning: lbfgs failed to converge (status=1):\n",
      "STOP: TOTAL NO. of ITERATIONS REACHED LIMIT.\n",
      "\n",
      "Increase the number of iterations (max_iter) or scale the data as shown in:\n",
      "    https://scikit-learn.org/stable/modules/preprocessing.html\n",
      "  self.n_iter_ = _check_optimize_result(\"lbfgs\", opt_res, self.max_iter)\n"
     ]
    },
    {
     "name": "stdout",
     "output_type": "stream",
     "text": [
      "[CV] END hidden_layer_sizes=27, learning_rate_init=1e-05, max_iter=2500, random_state=42, solver=lbfgs; total time=  52.7s\n"
     ]
    },
    {
     "name": "stderr",
     "output_type": "stream",
     "text": [
      "C:\\Users\\salda\\Anaconda3\\lib\\site-packages\\sklearn\\neural_network\\_multilayer_perceptron.py:500: ConvergenceWarning: lbfgs failed to converge (status=1):\n",
      "STOP: TOTAL NO. of ITERATIONS REACHED LIMIT.\n",
      "\n",
      "Increase the number of iterations (max_iter) or scale the data as shown in:\n",
      "    https://scikit-learn.org/stable/modules/preprocessing.html\n",
      "  self.n_iter_ = _check_optimize_result(\"lbfgs\", opt_res, self.max_iter)\n"
     ]
    },
    {
     "name": "stdout",
     "output_type": "stream",
     "text": [
      "[CV] END hidden_layer_sizes=27, learning_rate_init=1e-05, max_iter=2500, random_state=42, solver=lbfgs; total time=  53.4s\n"
     ]
    },
    {
     "name": "stderr",
     "output_type": "stream",
     "text": [
      "C:\\Users\\salda\\Anaconda3\\lib\\site-packages\\sklearn\\neural_network\\_multilayer_perceptron.py:614: ConvergenceWarning: Stochastic Optimizer: Maximum iterations (2500) reached and the optimization hasn't converged yet.\n",
      "  warnings.warn(\n"
     ]
    },
    {
     "name": "stdout",
     "output_type": "stream",
     "text": [
      "[CV] END hidden_layer_sizes=27, learning_rate_init=1e-05, max_iter=2500, random_state=42, solver=adam; total time= 3.2min\n"
     ]
    },
    {
     "name": "stderr",
     "output_type": "stream",
     "text": [
      "C:\\Users\\salda\\Anaconda3\\lib\\site-packages\\sklearn\\neural_network\\_multilayer_perceptron.py:614: ConvergenceWarning: Stochastic Optimizer: Maximum iterations (2500) reached and the optimization hasn't converged yet.\n",
      "  warnings.warn(\n"
     ]
    },
    {
     "name": "stdout",
     "output_type": "stream",
     "text": [
      "[CV] END hidden_layer_sizes=27, learning_rate_init=1e-05, max_iter=2500, random_state=42, solver=adam; total time= 3.3min\n"
     ]
    },
    {
     "name": "stderr",
     "output_type": "stream",
     "text": [
      "C:\\Users\\salda\\Anaconda3\\lib\\site-packages\\sklearn\\neural_network\\_multilayer_perceptron.py:614: ConvergenceWarning: Stochastic Optimizer: Maximum iterations (2500) reached and the optimization hasn't converged yet.\n",
      "  warnings.warn(\n"
     ]
    },
    {
     "name": "stdout",
     "output_type": "stream",
     "text": [
      "[CV] END hidden_layer_sizes=27, learning_rate_init=1e-05, max_iter=2500, random_state=42, solver=adam; total time= 3.3min\n"
     ]
    },
    {
     "name": "stderr",
     "output_type": "stream",
     "text": [
      "C:\\Users\\salda\\Anaconda3\\lib\\site-packages\\sklearn\\neural_network\\_multilayer_perceptron.py:614: ConvergenceWarning: Stochastic Optimizer: Maximum iterations (2500) reached and the optimization hasn't converged yet.\n",
      "  warnings.warn(\n"
     ]
    },
    {
     "name": "stdout",
     "output_type": "stream",
     "text": [
      "[CV] END hidden_layer_sizes=27, learning_rate_init=1e-05, max_iter=2500, random_state=42, solver=adam; total time= 3.5min\n"
     ]
    },
    {
     "name": "stderr",
     "output_type": "stream",
     "text": [
      "C:\\Users\\salda\\Anaconda3\\lib\\site-packages\\sklearn\\neural_network\\_multilayer_perceptron.py:614: ConvergenceWarning: Stochastic Optimizer: Maximum iterations (2500) reached and the optimization hasn't converged yet.\n",
      "  warnings.warn(\n"
     ]
    },
    {
     "name": "stdout",
     "output_type": "stream",
     "text": [
      "[CV] END hidden_layer_sizes=27, learning_rate_init=1e-05, max_iter=2500, random_state=42, solver=adam; total time= 3.3min\n"
     ]
    },
    {
     "name": "stderr",
     "output_type": "stream",
     "text": [
      "C:\\Users\\salda\\Anaconda3\\lib\\site-packages\\sklearn\\neural_network\\_multilayer_perceptron.py:500: ConvergenceWarning: lbfgs failed to converge (status=1):\n",
      "STOP: TOTAL NO. of ITERATIONS REACHED LIMIT.\n",
      "\n",
      "Increase the number of iterations (max_iter) or scale the data as shown in:\n",
      "    https://scikit-learn.org/stable/modules/preprocessing.html\n",
      "  self.n_iter_ = _check_optimize_result(\"lbfgs\", opt_res, self.max_iter)\n"
     ]
    },
    {
     "name": "stdout",
     "output_type": "stream",
     "text": [
      "[CV] END hidden_layer_sizes=28, learning_rate_init=0.1, max_iter=2500, random_state=42, solver=lbfgs; total time= 1.0min\n"
     ]
    },
    {
     "name": "stderr",
     "output_type": "stream",
     "text": [
      "C:\\Users\\salda\\Anaconda3\\lib\\site-packages\\sklearn\\neural_network\\_multilayer_perceptron.py:500: ConvergenceWarning: lbfgs failed to converge (status=1):\n",
      "STOP: TOTAL NO. of ITERATIONS REACHED LIMIT.\n",
      "\n",
      "Increase the number of iterations (max_iter) or scale the data as shown in:\n",
      "    https://scikit-learn.org/stable/modules/preprocessing.html\n",
      "  self.n_iter_ = _check_optimize_result(\"lbfgs\", opt_res, self.max_iter)\n"
     ]
    },
    {
     "name": "stdout",
     "output_type": "stream",
     "text": [
      "[CV] END hidden_layer_sizes=28, learning_rate_init=0.1, max_iter=2500, random_state=42, solver=lbfgs; total time= 1.0min\n"
     ]
    },
    {
     "name": "stderr",
     "output_type": "stream",
     "text": [
      "C:\\Users\\salda\\Anaconda3\\lib\\site-packages\\sklearn\\neural_network\\_multilayer_perceptron.py:500: ConvergenceWarning: lbfgs failed to converge (status=1):\n",
      "STOP: TOTAL NO. of ITERATIONS REACHED LIMIT.\n",
      "\n",
      "Increase the number of iterations (max_iter) or scale the data as shown in:\n",
      "    https://scikit-learn.org/stable/modules/preprocessing.html\n",
      "  self.n_iter_ = _check_optimize_result(\"lbfgs\", opt_res, self.max_iter)\n"
     ]
    },
    {
     "name": "stdout",
     "output_type": "stream",
     "text": [
      "[CV] END hidden_layer_sizes=28, learning_rate_init=0.1, max_iter=2500, random_state=42, solver=lbfgs; total time=  58.2s\n"
     ]
    },
    {
     "name": "stderr",
     "output_type": "stream",
     "text": [
      "C:\\Users\\salda\\Anaconda3\\lib\\site-packages\\sklearn\\neural_network\\_multilayer_perceptron.py:500: ConvergenceWarning: lbfgs failed to converge (status=1):\n",
      "STOP: TOTAL NO. of ITERATIONS REACHED LIMIT.\n",
      "\n",
      "Increase the number of iterations (max_iter) or scale the data as shown in:\n",
      "    https://scikit-learn.org/stable/modules/preprocessing.html\n",
      "  self.n_iter_ = _check_optimize_result(\"lbfgs\", opt_res, self.max_iter)\n"
     ]
    },
    {
     "name": "stdout",
     "output_type": "stream",
     "text": [
      "[CV] END hidden_layer_sizes=28, learning_rate_init=0.1, max_iter=2500, random_state=42, solver=lbfgs; total time=  57.4s\n"
     ]
    },
    {
     "name": "stderr",
     "output_type": "stream",
     "text": [
      "C:\\Users\\salda\\Anaconda3\\lib\\site-packages\\sklearn\\neural_network\\_multilayer_perceptron.py:500: ConvergenceWarning: lbfgs failed to converge (status=1):\n",
      "STOP: TOTAL NO. of ITERATIONS REACHED LIMIT.\n",
      "\n",
      "Increase the number of iterations (max_iter) or scale the data as shown in:\n",
      "    https://scikit-learn.org/stable/modules/preprocessing.html\n",
      "  self.n_iter_ = _check_optimize_result(\"lbfgs\", opt_res, self.max_iter)\n"
     ]
    },
    {
     "name": "stdout",
     "output_type": "stream",
     "text": [
      "[CV] END hidden_layer_sizes=28, learning_rate_init=0.1, max_iter=2500, random_state=42, solver=lbfgs; total time=  56.5s\n",
      "[CV] END hidden_layer_sizes=28, learning_rate_init=0.1, max_iter=2500, random_state=42, solver=adam; total time=   3.4s\n",
      "[CV] END hidden_layer_sizes=28, learning_rate_init=0.1, max_iter=2500, random_state=42, solver=adam; total time=   3.2s\n",
      "[CV] END hidden_layer_sizes=28, learning_rate_init=0.1, max_iter=2500, random_state=42, solver=adam; total time=   4.5s\n",
      "[CV] END hidden_layer_sizes=28, learning_rate_init=0.1, max_iter=2500, random_state=42, solver=adam; total time=   3.8s\n",
      "[CV] END hidden_layer_sizes=28, learning_rate_init=0.1, max_iter=2500, random_state=42, solver=adam; total time=   4.3s\n"
     ]
    },
    {
     "name": "stderr",
     "output_type": "stream",
     "text": [
      "C:\\Users\\salda\\Anaconda3\\lib\\site-packages\\sklearn\\neural_network\\_multilayer_perceptron.py:500: ConvergenceWarning: lbfgs failed to converge (status=1):\n",
      "STOP: TOTAL NO. of ITERATIONS REACHED LIMIT.\n",
      "\n",
      "Increase the number of iterations (max_iter) or scale the data as shown in:\n",
      "    https://scikit-learn.org/stable/modules/preprocessing.html\n",
      "  self.n_iter_ = _check_optimize_result(\"lbfgs\", opt_res, self.max_iter)\n"
     ]
    },
    {
     "name": "stdout",
     "output_type": "stream",
     "text": [
      "[CV] END hidden_layer_sizes=28, learning_rate_init=0.001, max_iter=2500, random_state=42, solver=lbfgs; total time=  57.1s\n"
     ]
    },
    {
     "name": "stderr",
     "output_type": "stream",
     "text": [
      "C:\\Users\\salda\\Anaconda3\\lib\\site-packages\\sklearn\\neural_network\\_multilayer_perceptron.py:500: ConvergenceWarning: lbfgs failed to converge (status=1):\n",
      "STOP: TOTAL NO. of ITERATIONS REACHED LIMIT.\n",
      "\n",
      "Increase the number of iterations (max_iter) or scale the data as shown in:\n",
      "    https://scikit-learn.org/stable/modules/preprocessing.html\n",
      "  self.n_iter_ = _check_optimize_result(\"lbfgs\", opt_res, self.max_iter)\n"
     ]
    },
    {
     "name": "stdout",
     "output_type": "stream",
     "text": [
      "[CV] END hidden_layer_sizes=28, learning_rate_init=0.001, max_iter=2500, random_state=42, solver=lbfgs; total time=  55.5s\n"
     ]
    },
    {
     "name": "stderr",
     "output_type": "stream",
     "text": [
      "C:\\Users\\salda\\Anaconda3\\lib\\site-packages\\sklearn\\neural_network\\_multilayer_perceptron.py:500: ConvergenceWarning: lbfgs failed to converge (status=1):\n",
      "STOP: TOTAL NO. of ITERATIONS REACHED LIMIT.\n",
      "\n",
      "Increase the number of iterations (max_iter) or scale the data as shown in:\n",
      "    https://scikit-learn.org/stable/modules/preprocessing.html\n",
      "  self.n_iter_ = _check_optimize_result(\"lbfgs\", opt_res, self.max_iter)\n"
     ]
    },
    {
     "name": "stdout",
     "output_type": "stream",
     "text": [
      "[CV] END hidden_layer_sizes=28, learning_rate_init=0.001, max_iter=2500, random_state=42, solver=lbfgs; total time= 1.1min\n"
     ]
    },
    {
     "name": "stderr",
     "output_type": "stream",
     "text": [
      "C:\\Users\\salda\\Anaconda3\\lib\\site-packages\\sklearn\\neural_network\\_multilayer_perceptron.py:500: ConvergenceWarning: lbfgs failed to converge (status=1):\n",
      "STOP: TOTAL NO. of ITERATIONS REACHED LIMIT.\n",
      "\n",
      "Increase the number of iterations (max_iter) or scale the data as shown in:\n",
      "    https://scikit-learn.org/stable/modules/preprocessing.html\n",
      "  self.n_iter_ = _check_optimize_result(\"lbfgs\", opt_res, self.max_iter)\n"
     ]
    },
    {
     "name": "stdout",
     "output_type": "stream",
     "text": [
      "[CV] END hidden_layer_sizes=28, learning_rate_init=0.001, max_iter=2500, random_state=42, solver=lbfgs; total time= 1.2min\n"
     ]
    },
    {
     "name": "stderr",
     "output_type": "stream",
     "text": [
      "C:\\Users\\salda\\Anaconda3\\lib\\site-packages\\sklearn\\neural_network\\_multilayer_perceptron.py:500: ConvergenceWarning: lbfgs failed to converge (status=1):\n",
      "STOP: TOTAL NO. of ITERATIONS REACHED LIMIT.\n",
      "\n",
      "Increase the number of iterations (max_iter) or scale the data as shown in:\n",
      "    https://scikit-learn.org/stable/modules/preprocessing.html\n",
      "  self.n_iter_ = _check_optimize_result(\"lbfgs\", opt_res, self.max_iter)\n"
     ]
    },
    {
     "name": "stdout",
     "output_type": "stream",
     "text": [
      "[CV] END hidden_layer_sizes=28, learning_rate_init=0.001, max_iter=2500, random_state=42, solver=lbfgs; total time= 1.1min\n",
      "[CV] END hidden_layer_sizes=28, learning_rate_init=0.001, max_iter=2500, random_state=42, solver=adam; total time=  36.5s\n",
      "[CV] END hidden_layer_sizes=28, learning_rate_init=0.001, max_iter=2500, random_state=42, solver=adam; total time=  24.6s\n",
      "[CV] END hidden_layer_sizes=28, learning_rate_init=0.001, max_iter=2500, random_state=42, solver=adam; total time=  41.6s\n",
      "[CV] END hidden_layer_sizes=28, learning_rate_init=0.001, max_iter=2500, random_state=42, solver=adam; total time=  36.2s\n",
      "[CV] END hidden_layer_sizes=28, learning_rate_init=0.001, max_iter=2500, random_state=42, solver=adam; total time=  24.2s\n"
     ]
    },
    {
     "name": "stderr",
     "output_type": "stream",
     "text": [
      "C:\\Users\\salda\\Anaconda3\\lib\\site-packages\\sklearn\\neural_network\\_multilayer_perceptron.py:500: ConvergenceWarning: lbfgs failed to converge (status=1):\n",
      "STOP: TOTAL NO. of ITERATIONS REACHED LIMIT.\n",
      "\n",
      "Increase the number of iterations (max_iter) or scale the data as shown in:\n",
      "    https://scikit-learn.org/stable/modules/preprocessing.html\n",
      "  self.n_iter_ = _check_optimize_result(\"lbfgs\", opt_res, self.max_iter)\n"
     ]
    },
    {
     "name": "stdout",
     "output_type": "stream",
     "text": [
      "[CV] END hidden_layer_sizes=28, learning_rate_init=1e-05, max_iter=2500, random_state=42, solver=lbfgs; total time=  56.4s\n"
     ]
    },
    {
     "name": "stderr",
     "output_type": "stream",
     "text": [
      "C:\\Users\\salda\\Anaconda3\\lib\\site-packages\\sklearn\\neural_network\\_multilayer_perceptron.py:500: ConvergenceWarning: lbfgs failed to converge (status=1):\n",
      "STOP: TOTAL NO. of ITERATIONS REACHED LIMIT.\n",
      "\n",
      "Increase the number of iterations (max_iter) or scale the data as shown in:\n",
      "    https://scikit-learn.org/stable/modules/preprocessing.html\n",
      "  self.n_iter_ = _check_optimize_result(\"lbfgs\", opt_res, self.max_iter)\n"
     ]
    },
    {
     "name": "stdout",
     "output_type": "stream",
     "text": [
      "[CV] END hidden_layer_sizes=28, learning_rate_init=1e-05, max_iter=2500, random_state=42, solver=lbfgs; total time=  54.7s\n"
     ]
    },
    {
     "name": "stderr",
     "output_type": "stream",
     "text": [
      "C:\\Users\\salda\\Anaconda3\\lib\\site-packages\\sklearn\\neural_network\\_multilayer_perceptron.py:500: ConvergenceWarning: lbfgs failed to converge (status=1):\n",
      "STOP: TOTAL NO. of ITERATIONS REACHED LIMIT.\n",
      "\n",
      "Increase the number of iterations (max_iter) or scale the data as shown in:\n",
      "    https://scikit-learn.org/stable/modules/preprocessing.html\n",
      "  self.n_iter_ = _check_optimize_result(\"lbfgs\", opt_res, self.max_iter)\n"
     ]
    },
    {
     "name": "stdout",
     "output_type": "stream",
     "text": [
      "[CV] END hidden_layer_sizes=28, learning_rate_init=1e-05, max_iter=2500, random_state=42, solver=lbfgs; total time=  55.7s\n"
     ]
    },
    {
     "name": "stderr",
     "output_type": "stream",
     "text": [
      "C:\\Users\\salda\\Anaconda3\\lib\\site-packages\\sklearn\\neural_network\\_multilayer_perceptron.py:500: ConvergenceWarning: lbfgs failed to converge (status=1):\n",
      "STOP: TOTAL NO. of ITERATIONS REACHED LIMIT.\n",
      "\n",
      "Increase the number of iterations (max_iter) or scale the data as shown in:\n",
      "    https://scikit-learn.org/stable/modules/preprocessing.html\n",
      "  self.n_iter_ = _check_optimize_result(\"lbfgs\", opt_res, self.max_iter)\n"
     ]
    },
    {
     "name": "stdout",
     "output_type": "stream",
     "text": [
      "[CV] END hidden_layer_sizes=28, learning_rate_init=1e-05, max_iter=2500, random_state=42, solver=lbfgs; total time=  57.2s\n"
     ]
    },
    {
     "name": "stderr",
     "output_type": "stream",
     "text": [
      "C:\\Users\\salda\\Anaconda3\\lib\\site-packages\\sklearn\\neural_network\\_multilayer_perceptron.py:500: ConvergenceWarning: lbfgs failed to converge (status=1):\n",
      "STOP: TOTAL NO. of ITERATIONS REACHED LIMIT.\n",
      "\n",
      "Increase the number of iterations (max_iter) or scale the data as shown in:\n",
      "    https://scikit-learn.org/stable/modules/preprocessing.html\n",
      "  self.n_iter_ = _check_optimize_result(\"lbfgs\", opt_res, self.max_iter)\n"
     ]
    },
    {
     "name": "stdout",
     "output_type": "stream",
     "text": [
      "[CV] END hidden_layer_sizes=28, learning_rate_init=1e-05, max_iter=2500, random_state=42, solver=lbfgs; total time=  55.7s\n"
     ]
    },
    {
     "name": "stderr",
     "output_type": "stream",
     "text": [
      "C:\\Users\\salda\\Anaconda3\\lib\\site-packages\\sklearn\\neural_network\\_multilayer_perceptron.py:614: ConvergenceWarning: Stochastic Optimizer: Maximum iterations (2500) reached and the optimization hasn't converged yet.\n",
      "  warnings.warn(\n"
     ]
    },
    {
     "name": "stdout",
     "output_type": "stream",
     "text": [
      "[CV] END hidden_layer_sizes=28, learning_rate_init=1e-05, max_iter=2500, random_state=42, solver=adam; total time= 3.1min\n"
     ]
    },
    {
     "name": "stderr",
     "output_type": "stream",
     "text": [
      "C:\\Users\\salda\\Anaconda3\\lib\\site-packages\\sklearn\\neural_network\\_multilayer_perceptron.py:614: ConvergenceWarning: Stochastic Optimizer: Maximum iterations (2500) reached and the optimization hasn't converged yet.\n",
      "  warnings.warn(\n"
     ]
    },
    {
     "name": "stdout",
     "output_type": "stream",
     "text": [
      "[CV] END hidden_layer_sizes=28, learning_rate_init=1e-05, max_iter=2500, random_state=42, solver=adam; total time= 3.1min\n"
     ]
    },
    {
     "name": "stderr",
     "output_type": "stream",
     "text": [
      "C:\\Users\\salda\\Anaconda3\\lib\\site-packages\\sklearn\\neural_network\\_multilayer_perceptron.py:614: ConvergenceWarning: Stochastic Optimizer: Maximum iterations (2500) reached and the optimization hasn't converged yet.\n",
      "  warnings.warn(\n"
     ]
    },
    {
     "name": "stdout",
     "output_type": "stream",
     "text": [
      "[CV] END hidden_layer_sizes=28, learning_rate_init=1e-05, max_iter=2500, random_state=42, solver=adam; total time= 3.1min\n"
     ]
    },
    {
     "name": "stderr",
     "output_type": "stream",
     "text": [
      "C:\\Users\\salda\\Anaconda3\\lib\\site-packages\\sklearn\\neural_network\\_multilayer_perceptron.py:614: ConvergenceWarning: Stochastic Optimizer: Maximum iterations (2500) reached and the optimization hasn't converged yet.\n",
      "  warnings.warn(\n"
     ]
    },
    {
     "name": "stdout",
     "output_type": "stream",
     "text": [
      "[CV] END hidden_layer_sizes=28, learning_rate_init=1e-05, max_iter=2500, random_state=42, solver=adam; total time= 3.1min\n"
     ]
    },
    {
     "name": "stderr",
     "output_type": "stream",
     "text": [
      "C:\\Users\\salda\\Anaconda3\\lib\\site-packages\\sklearn\\neural_network\\_multilayer_perceptron.py:614: ConvergenceWarning: Stochastic Optimizer: Maximum iterations (2500) reached and the optimization hasn't converged yet.\n",
      "  warnings.warn(\n"
     ]
    },
    {
     "name": "stdout",
     "output_type": "stream",
     "text": [
      "[CV] END hidden_layer_sizes=28, learning_rate_init=1e-05, max_iter=2500, random_state=42, solver=adam; total time= 3.1min\n"
     ]
    },
    {
     "name": "stderr",
     "output_type": "stream",
     "text": [
      "C:\\Users\\salda\\Anaconda3\\lib\\site-packages\\sklearn\\neural_network\\_multilayer_perceptron.py:500: ConvergenceWarning: lbfgs failed to converge (status=1):\n",
      "STOP: TOTAL NO. of ITERATIONS REACHED LIMIT.\n",
      "\n",
      "Increase the number of iterations (max_iter) or scale the data as shown in:\n",
      "    https://scikit-learn.org/stable/modules/preprocessing.html\n",
      "  self.n_iter_ = _check_optimize_result(\"lbfgs\", opt_res, self.max_iter)\n"
     ]
    },
    {
     "name": "stdout",
     "output_type": "stream",
     "text": [
      "[CV] END hidden_layer_sizes=29, learning_rate_init=0.1, max_iter=2500, random_state=42, solver=lbfgs; total time=  58.1s\n"
     ]
    },
    {
     "name": "stderr",
     "output_type": "stream",
     "text": [
      "C:\\Users\\salda\\Anaconda3\\lib\\site-packages\\sklearn\\neural_network\\_multilayer_perceptron.py:500: ConvergenceWarning: lbfgs failed to converge (status=1):\n",
      "STOP: TOTAL NO. of ITERATIONS REACHED LIMIT.\n",
      "\n",
      "Increase the number of iterations (max_iter) or scale the data as shown in:\n",
      "    https://scikit-learn.org/stable/modules/preprocessing.html\n",
      "  self.n_iter_ = _check_optimize_result(\"lbfgs\", opt_res, self.max_iter)\n"
     ]
    },
    {
     "name": "stdout",
     "output_type": "stream",
     "text": [
      "[CV] END hidden_layer_sizes=29, learning_rate_init=0.1, max_iter=2500, random_state=42, solver=lbfgs; total time=  57.2s\n"
     ]
    },
    {
     "name": "stderr",
     "output_type": "stream",
     "text": [
      "C:\\Users\\salda\\Anaconda3\\lib\\site-packages\\sklearn\\neural_network\\_multilayer_perceptron.py:500: ConvergenceWarning: lbfgs failed to converge (status=1):\n",
      "STOP: TOTAL NO. of ITERATIONS REACHED LIMIT.\n",
      "\n",
      "Increase the number of iterations (max_iter) or scale the data as shown in:\n",
      "    https://scikit-learn.org/stable/modules/preprocessing.html\n",
      "  self.n_iter_ = _check_optimize_result(\"lbfgs\", opt_res, self.max_iter)\n"
     ]
    },
    {
     "name": "stdout",
     "output_type": "stream",
     "text": [
      "[CV] END hidden_layer_sizes=29, learning_rate_init=0.1, max_iter=2500, random_state=42, solver=lbfgs; total time=  57.9s\n"
     ]
    },
    {
     "name": "stderr",
     "output_type": "stream",
     "text": [
      "C:\\Users\\salda\\Anaconda3\\lib\\site-packages\\sklearn\\neural_network\\_multilayer_perceptron.py:500: ConvergenceWarning: lbfgs failed to converge (status=1):\n",
      "STOP: TOTAL NO. of ITERATIONS REACHED LIMIT.\n",
      "\n",
      "Increase the number of iterations (max_iter) or scale the data as shown in:\n",
      "    https://scikit-learn.org/stable/modules/preprocessing.html\n",
      "  self.n_iter_ = _check_optimize_result(\"lbfgs\", opt_res, self.max_iter)\n"
     ]
    },
    {
     "name": "stdout",
     "output_type": "stream",
     "text": [
      "[CV] END hidden_layer_sizes=29, learning_rate_init=0.1, max_iter=2500, random_state=42, solver=lbfgs; total time= 1.3min\n"
     ]
    },
    {
     "name": "stderr",
     "output_type": "stream",
     "text": [
      "C:\\Users\\salda\\Anaconda3\\lib\\site-packages\\sklearn\\neural_network\\_multilayer_perceptron.py:500: ConvergenceWarning: lbfgs failed to converge (status=1):\n",
      "STOP: TOTAL NO. of ITERATIONS REACHED LIMIT.\n",
      "\n",
      "Increase the number of iterations (max_iter) or scale the data as shown in:\n",
      "    https://scikit-learn.org/stable/modules/preprocessing.html\n",
      "  self.n_iter_ = _check_optimize_result(\"lbfgs\", opt_res, self.max_iter)\n"
     ]
    },
    {
     "name": "stdout",
     "output_type": "stream",
     "text": [
      "[CV] END hidden_layer_sizes=29, learning_rate_init=0.1, max_iter=2500, random_state=42, solver=lbfgs; total time= 1.2min\n",
      "[CV] END hidden_layer_sizes=29, learning_rate_init=0.1, max_iter=2500, random_state=42, solver=adam; total time=   4.9s\n",
      "[CV] END hidden_layer_sizes=29, learning_rate_init=0.1, max_iter=2500, random_state=42, solver=adam; total time=  11.5s\n",
      "[CV] END hidden_layer_sizes=29, learning_rate_init=0.1, max_iter=2500, random_state=42, solver=adam; total time=   5.2s\n",
      "[CV] END hidden_layer_sizes=29, learning_rate_init=0.1, max_iter=2500, random_state=42, solver=adam; total time=   3.0s\n",
      "[CV] END hidden_layer_sizes=29, learning_rate_init=0.1, max_iter=2500, random_state=42, solver=adam; total time=   3.1s\n"
     ]
    },
    {
     "name": "stderr",
     "output_type": "stream",
     "text": [
      "C:\\Users\\salda\\Anaconda3\\lib\\site-packages\\sklearn\\neural_network\\_multilayer_perceptron.py:500: ConvergenceWarning: lbfgs failed to converge (status=1):\n",
      "STOP: TOTAL NO. of ITERATIONS REACHED LIMIT.\n",
      "\n",
      "Increase the number of iterations (max_iter) or scale the data as shown in:\n",
      "    https://scikit-learn.org/stable/modules/preprocessing.html\n",
      "  self.n_iter_ = _check_optimize_result(\"lbfgs\", opt_res, self.max_iter)\n"
     ]
    },
    {
     "name": "stdout",
     "output_type": "stream",
     "text": [
      "[CV] END hidden_layer_sizes=29, learning_rate_init=0.001, max_iter=2500, random_state=42, solver=lbfgs; total time= 1.1min\n"
     ]
    },
    {
     "name": "stderr",
     "output_type": "stream",
     "text": [
      "C:\\Users\\salda\\Anaconda3\\lib\\site-packages\\sklearn\\neural_network\\_multilayer_perceptron.py:500: ConvergenceWarning: lbfgs failed to converge (status=1):\n",
      "STOP: TOTAL NO. of ITERATIONS REACHED LIMIT.\n",
      "\n",
      "Increase the number of iterations (max_iter) or scale the data as shown in:\n",
      "    https://scikit-learn.org/stable/modules/preprocessing.html\n",
      "  self.n_iter_ = _check_optimize_result(\"lbfgs\", opt_res, self.max_iter)\n"
     ]
    },
    {
     "name": "stdout",
     "output_type": "stream",
     "text": [
      "[CV] END hidden_layer_sizes=29, learning_rate_init=0.001, max_iter=2500, random_state=42, solver=lbfgs; total time= 1.1min\n"
     ]
    },
    {
     "name": "stderr",
     "output_type": "stream",
     "text": [
      "C:\\Users\\salda\\Anaconda3\\lib\\site-packages\\sklearn\\neural_network\\_multilayer_perceptron.py:500: ConvergenceWarning: lbfgs failed to converge (status=1):\n",
      "STOP: TOTAL NO. of ITERATIONS REACHED LIMIT.\n",
      "\n",
      "Increase the number of iterations (max_iter) or scale the data as shown in:\n",
      "    https://scikit-learn.org/stable/modules/preprocessing.html\n",
      "  self.n_iter_ = _check_optimize_result(\"lbfgs\", opt_res, self.max_iter)\n"
     ]
    },
    {
     "name": "stdout",
     "output_type": "stream",
     "text": [
      "[CV] END hidden_layer_sizes=29, learning_rate_init=0.001, max_iter=2500, random_state=42, solver=lbfgs; total time= 1.2min\n"
     ]
    },
    {
     "name": "stderr",
     "output_type": "stream",
     "text": [
      "C:\\Users\\salda\\Anaconda3\\lib\\site-packages\\sklearn\\neural_network\\_multilayer_perceptron.py:500: ConvergenceWarning: lbfgs failed to converge (status=1):\n",
      "STOP: TOTAL NO. of ITERATIONS REACHED LIMIT.\n",
      "\n",
      "Increase the number of iterations (max_iter) or scale the data as shown in:\n",
      "    https://scikit-learn.org/stable/modules/preprocessing.html\n",
      "  self.n_iter_ = _check_optimize_result(\"lbfgs\", opt_res, self.max_iter)\n"
     ]
    },
    {
     "name": "stdout",
     "output_type": "stream",
     "text": [
      "[CV] END hidden_layer_sizes=29, learning_rate_init=0.001, max_iter=2500, random_state=42, solver=lbfgs; total time= 1.0min\n"
     ]
    },
    {
     "name": "stderr",
     "output_type": "stream",
     "text": [
      "C:\\Users\\salda\\Anaconda3\\lib\\site-packages\\sklearn\\neural_network\\_multilayer_perceptron.py:500: ConvergenceWarning: lbfgs failed to converge (status=1):\n",
      "STOP: TOTAL NO. of ITERATIONS REACHED LIMIT.\n",
      "\n",
      "Increase the number of iterations (max_iter) or scale the data as shown in:\n",
      "    https://scikit-learn.org/stable/modules/preprocessing.html\n",
      "  self.n_iter_ = _check_optimize_result(\"lbfgs\", opt_res, self.max_iter)\n"
     ]
    },
    {
     "name": "stdout",
     "output_type": "stream",
     "text": [
      "[CV] END hidden_layer_sizes=29, learning_rate_init=0.001, max_iter=2500, random_state=42, solver=lbfgs; total time= 1.0min\n",
      "[CV] END hidden_layer_sizes=29, learning_rate_init=0.001, max_iter=2500, random_state=42, solver=adam; total time=  29.7s\n",
      "[CV] END hidden_layer_sizes=29, learning_rate_init=0.001, max_iter=2500, random_state=42, solver=adam; total time=  49.3s\n",
      "[CV] END hidden_layer_sizes=29, learning_rate_init=0.001, max_iter=2500, random_state=42, solver=adam; total time=  46.8s\n",
      "[CV] END hidden_layer_sizes=29, learning_rate_init=0.001, max_iter=2500, random_state=42, solver=adam; total time=  39.0s\n",
      "[CV] END hidden_layer_sizes=29, learning_rate_init=0.001, max_iter=2500, random_state=42, solver=adam; total time=  41.5s\n"
     ]
    },
    {
     "name": "stderr",
     "output_type": "stream",
     "text": [
      "C:\\Users\\salda\\Anaconda3\\lib\\site-packages\\sklearn\\neural_network\\_multilayer_perceptron.py:500: ConvergenceWarning: lbfgs failed to converge (status=1):\n",
      "STOP: TOTAL NO. of ITERATIONS REACHED LIMIT.\n",
      "\n",
      "Increase the number of iterations (max_iter) or scale the data as shown in:\n",
      "    https://scikit-learn.org/stable/modules/preprocessing.html\n",
      "  self.n_iter_ = _check_optimize_result(\"lbfgs\", opt_res, self.max_iter)\n"
     ]
    },
    {
     "name": "stdout",
     "output_type": "stream",
     "text": [
      "[CV] END hidden_layer_sizes=29, learning_rate_init=1e-05, max_iter=2500, random_state=42, solver=lbfgs; total time= 1.3min\n"
     ]
    },
    {
     "name": "stderr",
     "output_type": "stream",
     "text": [
      "C:\\Users\\salda\\Anaconda3\\lib\\site-packages\\sklearn\\neural_network\\_multilayer_perceptron.py:500: ConvergenceWarning: lbfgs failed to converge (status=1):\n",
      "STOP: TOTAL NO. of ITERATIONS REACHED LIMIT.\n",
      "\n",
      "Increase the number of iterations (max_iter) or scale the data as shown in:\n",
      "    https://scikit-learn.org/stable/modules/preprocessing.html\n",
      "  self.n_iter_ = _check_optimize_result(\"lbfgs\", opt_res, self.max_iter)\n"
     ]
    },
    {
     "name": "stdout",
     "output_type": "stream",
     "text": [
      "[CV] END hidden_layer_sizes=29, learning_rate_init=1e-05, max_iter=2500, random_state=42, solver=lbfgs; total time= 1.3min\n"
     ]
    },
    {
     "name": "stderr",
     "output_type": "stream",
     "text": [
      "C:\\Users\\salda\\Anaconda3\\lib\\site-packages\\sklearn\\neural_network\\_multilayer_perceptron.py:500: ConvergenceWarning: lbfgs failed to converge (status=1):\n",
      "STOP: TOTAL NO. of ITERATIONS REACHED LIMIT.\n",
      "\n",
      "Increase the number of iterations (max_iter) or scale the data as shown in:\n",
      "    https://scikit-learn.org/stable/modules/preprocessing.html\n",
      "  self.n_iter_ = _check_optimize_result(\"lbfgs\", opt_res, self.max_iter)\n"
     ]
    },
    {
     "name": "stdout",
     "output_type": "stream",
     "text": [
      "[CV] END hidden_layer_sizes=29, learning_rate_init=1e-05, max_iter=2500, random_state=42, solver=lbfgs; total time= 1.3min\n"
     ]
    },
    {
     "name": "stderr",
     "output_type": "stream",
     "text": [
      "C:\\Users\\salda\\Anaconda3\\lib\\site-packages\\sklearn\\neural_network\\_multilayer_perceptron.py:500: ConvergenceWarning: lbfgs failed to converge (status=1):\n",
      "STOP: TOTAL NO. of ITERATIONS REACHED LIMIT.\n",
      "\n",
      "Increase the number of iterations (max_iter) or scale the data as shown in:\n",
      "    https://scikit-learn.org/stable/modules/preprocessing.html\n",
      "  self.n_iter_ = _check_optimize_result(\"lbfgs\", opt_res, self.max_iter)\n"
     ]
    },
    {
     "name": "stdout",
     "output_type": "stream",
     "text": [
      "[CV] END hidden_layer_sizes=29, learning_rate_init=1e-05, max_iter=2500, random_state=42, solver=lbfgs; total time= 1.3min\n"
     ]
    },
    {
     "name": "stderr",
     "output_type": "stream",
     "text": [
      "C:\\Users\\salda\\Anaconda3\\lib\\site-packages\\sklearn\\neural_network\\_multilayer_perceptron.py:500: ConvergenceWarning: lbfgs failed to converge (status=1):\n",
      "STOP: TOTAL NO. of ITERATIONS REACHED LIMIT.\n",
      "\n",
      "Increase the number of iterations (max_iter) or scale the data as shown in:\n",
      "    https://scikit-learn.org/stable/modules/preprocessing.html\n",
      "  self.n_iter_ = _check_optimize_result(\"lbfgs\", opt_res, self.max_iter)\n"
     ]
    },
    {
     "name": "stdout",
     "output_type": "stream",
     "text": [
      "[CV] END hidden_layer_sizes=29, learning_rate_init=1e-05, max_iter=2500, random_state=42, solver=lbfgs; total time= 1.2min\n"
     ]
    },
    {
     "name": "stderr",
     "output_type": "stream",
     "text": [
      "C:\\Users\\salda\\Anaconda3\\lib\\site-packages\\sklearn\\neural_network\\_multilayer_perceptron.py:614: ConvergenceWarning: Stochastic Optimizer: Maximum iterations (2500) reached and the optimization hasn't converged yet.\n",
      "  warnings.warn(\n"
     ]
    },
    {
     "name": "stdout",
     "output_type": "stream",
     "text": [
      "[CV] END hidden_layer_sizes=29, learning_rate_init=1e-05, max_iter=2500, random_state=42, solver=adam; total time= 4.4min\n"
     ]
    },
    {
     "name": "stderr",
     "output_type": "stream",
     "text": [
      "C:\\Users\\salda\\Anaconda3\\lib\\site-packages\\sklearn\\neural_network\\_multilayer_perceptron.py:614: ConvergenceWarning: Stochastic Optimizer: Maximum iterations (2500) reached and the optimization hasn't converged yet.\n",
      "  warnings.warn(\n"
     ]
    },
    {
     "name": "stdout",
     "output_type": "stream",
     "text": [
      "[CV] END hidden_layer_sizes=29, learning_rate_init=1e-05, max_iter=2500, random_state=42, solver=adam; total time= 4.4min\n"
     ]
    },
    {
     "name": "stderr",
     "output_type": "stream",
     "text": [
      "C:\\Users\\salda\\Anaconda3\\lib\\site-packages\\sklearn\\neural_network\\_multilayer_perceptron.py:614: ConvergenceWarning: Stochastic Optimizer: Maximum iterations (2500) reached and the optimization hasn't converged yet.\n",
      "  warnings.warn(\n"
     ]
    },
    {
     "name": "stdout",
     "output_type": "stream",
     "text": [
      "[CV] END hidden_layer_sizes=29, learning_rate_init=1e-05, max_iter=2500, random_state=42, solver=adam; total time= 4.1min\n"
     ]
    },
    {
     "name": "stderr",
     "output_type": "stream",
     "text": [
      "C:\\Users\\salda\\Anaconda3\\lib\\site-packages\\sklearn\\neural_network\\_multilayer_perceptron.py:614: ConvergenceWarning: Stochastic Optimizer: Maximum iterations (2500) reached and the optimization hasn't converged yet.\n",
      "  warnings.warn(\n"
     ]
    },
    {
     "name": "stdout",
     "output_type": "stream",
     "text": [
      "[CV] END hidden_layer_sizes=29, learning_rate_init=1e-05, max_iter=2500, random_state=42, solver=adam; total time= 3.4min\n"
     ]
    },
    {
     "name": "stderr",
     "output_type": "stream",
     "text": [
      "C:\\Users\\salda\\Anaconda3\\lib\\site-packages\\sklearn\\neural_network\\_multilayer_perceptron.py:614: ConvergenceWarning: Stochastic Optimizer: Maximum iterations (2500) reached and the optimization hasn't converged yet.\n",
      "  warnings.warn(\n"
     ]
    },
    {
     "name": "stdout",
     "output_type": "stream",
     "text": [
      "[CV] END hidden_layer_sizes=29, learning_rate_init=1e-05, max_iter=2500, random_state=42, solver=adam; total time= 3.4min\n"
     ]
    },
    {
     "name": "stderr",
     "output_type": "stream",
     "text": [
      "C:\\Users\\salda\\Anaconda3\\lib\\site-packages\\sklearn\\neural_network\\_multilayer_perceptron.py:500: ConvergenceWarning: lbfgs failed to converge (status=1):\n",
      "STOP: TOTAL NO. of ITERATIONS REACHED LIMIT.\n",
      "\n",
      "Increase the number of iterations (max_iter) or scale the data as shown in:\n",
      "    https://scikit-learn.org/stable/modules/preprocessing.html\n",
      "  self.n_iter_ = _check_optimize_result(\"lbfgs\", opt_res, self.max_iter)\n"
     ]
    },
    {
     "name": "stdout",
     "output_type": "stream",
     "text": [
      "[CV] END hidden_layer_sizes=30, learning_rate_init=0.1, max_iter=2500, random_state=42, solver=lbfgs; total time= 1.1min\n"
     ]
    },
    {
     "name": "stderr",
     "output_type": "stream",
     "text": [
      "C:\\Users\\salda\\Anaconda3\\lib\\site-packages\\sklearn\\neural_network\\_multilayer_perceptron.py:500: ConvergenceWarning: lbfgs failed to converge (status=1):\n",
      "STOP: TOTAL NO. of ITERATIONS REACHED LIMIT.\n",
      "\n",
      "Increase the number of iterations (max_iter) or scale the data as shown in:\n",
      "    https://scikit-learn.org/stable/modules/preprocessing.html\n",
      "  self.n_iter_ = _check_optimize_result(\"lbfgs\", opt_res, self.max_iter)\n"
     ]
    },
    {
     "name": "stdout",
     "output_type": "stream",
     "text": [
      "[CV] END hidden_layer_sizes=30, learning_rate_init=0.1, max_iter=2500, random_state=42, solver=lbfgs; total time= 1.1min\n"
     ]
    },
    {
     "name": "stderr",
     "output_type": "stream",
     "text": [
      "C:\\Users\\salda\\Anaconda3\\lib\\site-packages\\sklearn\\neural_network\\_multilayer_perceptron.py:500: ConvergenceWarning: lbfgs failed to converge (status=1):\n",
      "STOP: TOTAL NO. of ITERATIONS REACHED LIMIT.\n",
      "\n",
      "Increase the number of iterations (max_iter) or scale the data as shown in:\n",
      "    https://scikit-learn.org/stable/modules/preprocessing.html\n",
      "  self.n_iter_ = _check_optimize_result(\"lbfgs\", opt_res, self.max_iter)\n"
     ]
    },
    {
     "name": "stdout",
     "output_type": "stream",
     "text": [
      "[CV] END hidden_layer_sizes=30, learning_rate_init=0.1, max_iter=2500, random_state=42, solver=lbfgs; total time= 1.1min\n"
     ]
    },
    {
     "name": "stderr",
     "output_type": "stream",
     "text": [
      "C:\\Users\\salda\\Anaconda3\\lib\\site-packages\\sklearn\\neural_network\\_multilayer_perceptron.py:500: ConvergenceWarning: lbfgs failed to converge (status=1):\n",
      "STOP: TOTAL NO. of ITERATIONS REACHED LIMIT.\n",
      "\n",
      "Increase the number of iterations (max_iter) or scale the data as shown in:\n",
      "    https://scikit-learn.org/stable/modules/preprocessing.html\n",
      "  self.n_iter_ = _check_optimize_result(\"lbfgs\", opt_res, self.max_iter)\n"
     ]
    },
    {
     "name": "stdout",
     "output_type": "stream",
     "text": [
      "[CV] END hidden_layer_sizes=30, learning_rate_init=0.1, max_iter=2500, random_state=42, solver=lbfgs; total time= 1.2min\n"
     ]
    },
    {
     "name": "stderr",
     "output_type": "stream",
     "text": [
      "C:\\Users\\salda\\Anaconda3\\lib\\site-packages\\sklearn\\neural_network\\_multilayer_perceptron.py:500: ConvergenceWarning: lbfgs failed to converge (status=1):\n",
      "STOP: TOTAL NO. of ITERATIONS REACHED LIMIT.\n",
      "\n",
      "Increase the number of iterations (max_iter) or scale the data as shown in:\n",
      "    https://scikit-learn.org/stable/modules/preprocessing.html\n",
      "  self.n_iter_ = _check_optimize_result(\"lbfgs\", opt_res, self.max_iter)\n"
     ]
    },
    {
     "name": "stdout",
     "output_type": "stream",
     "text": [
      "[CV] END hidden_layer_sizes=30, learning_rate_init=0.1, max_iter=2500, random_state=42, solver=lbfgs; total time= 1.1min\n",
      "[CV] END hidden_layer_sizes=30, learning_rate_init=0.1, max_iter=2500, random_state=42, solver=adam; total time=   2.3s\n",
      "[CV] END hidden_layer_sizes=30, learning_rate_init=0.1, max_iter=2500, random_state=42, solver=adam; total time=   2.6s\n",
      "[CV] END hidden_layer_sizes=30, learning_rate_init=0.1, max_iter=2500, random_state=42, solver=adam; total time=   4.7s\n",
      "[CV] END hidden_layer_sizes=30, learning_rate_init=0.1, max_iter=2500, random_state=42, solver=adam; total time=   2.6s\n",
      "[CV] END hidden_layer_sizes=30, learning_rate_init=0.1, max_iter=2500, random_state=42, solver=adam; total time=   5.6s\n"
     ]
    },
    {
     "name": "stderr",
     "output_type": "stream",
     "text": [
      "C:\\Users\\salda\\Anaconda3\\lib\\site-packages\\sklearn\\neural_network\\_multilayer_perceptron.py:500: ConvergenceWarning: lbfgs failed to converge (status=1):\n",
      "STOP: TOTAL NO. of ITERATIONS REACHED LIMIT.\n",
      "\n",
      "Increase the number of iterations (max_iter) or scale the data as shown in:\n",
      "    https://scikit-learn.org/stable/modules/preprocessing.html\n",
      "  self.n_iter_ = _check_optimize_result(\"lbfgs\", opt_res, self.max_iter)\n"
     ]
    },
    {
     "name": "stdout",
     "output_type": "stream",
     "text": [
      "[CV] END hidden_layer_sizes=30, learning_rate_init=0.001, max_iter=2500, random_state=42, solver=lbfgs; total time= 1.1min\n"
     ]
    },
    {
     "name": "stderr",
     "output_type": "stream",
     "text": [
      "C:\\Users\\salda\\Anaconda3\\lib\\site-packages\\sklearn\\neural_network\\_multilayer_perceptron.py:500: ConvergenceWarning: lbfgs failed to converge (status=1):\n",
      "STOP: TOTAL NO. of ITERATIONS REACHED LIMIT.\n",
      "\n",
      "Increase the number of iterations (max_iter) or scale the data as shown in:\n",
      "    https://scikit-learn.org/stable/modules/preprocessing.html\n",
      "  self.n_iter_ = _check_optimize_result(\"lbfgs\", opt_res, self.max_iter)\n"
     ]
    },
    {
     "name": "stdout",
     "output_type": "stream",
     "text": [
      "[CV] END hidden_layer_sizes=30, learning_rate_init=0.001, max_iter=2500, random_state=42, solver=lbfgs; total time= 1.3min\n"
     ]
    },
    {
     "name": "stderr",
     "output_type": "stream",
     "text": [
      "C:\\Users\\salda\\Anaconda3\\lib\\site-packages\\sklearn\\neural_network\\_multilayer_perceptron.py:500: ConvergenceWarning: lbfgs failed to converge (status=1):\n",
      "STOP: TOTAL NO. of ITERATIONS REACHED LIMIT.\n",
      "\n",
      "Increase the number of iterations (max_iter) or scale the data as shown in:\n",
      "    https://scikit-learn.org/stable/modules/preprocessing.html\n",
      "  self.n_iter_ = _check_optimize_result(\"lbfgs\", opt_res, self.max_iter)\n"
     ]
    },
    {
     "name": "stdout",
     "output_type": "stream",
     "text": [
      "[CV] END hidden_layer_sizes=30, learning_rate_init=0.001, max_iter=2500, random_state=42, solver=lbfgs; total time= 1.2min\n"
     ]
    },
    {
     "name": "stderr",
     "output_type": "stream",
     "text": [
      "C:\\Users\\salda\\Anaconda3\\lib\\site-packages\\sklearn\\neural_network\\_multilayer_perceptron.py:500: ConvergenceWarning: lbfgs failed to converge (status=1):\n",
      "STOP: TOTAL NO. of ITERATIONS REACHED LIMIT.\n",
      "\n",
      "Increase the number of iterations (max_iter) or scale the data as shown in:\n",
      "    https://scikit-learn.org/stable/modules/preprocessing.html\n",
      "  self.n_iter_ = _check_optimize_result(\"lbfgs\", opt_res, self.max_iter)\n"
     ]
    },
    {
     "name": "stdout",
     "output_type": "stream",
     "text": [
      "[CV] END hidden_layer_sizes=30, learning_rate_init=0.001, max_iter=2500, random_state=42, solver=lbfgs; total time= 1.1min\n"
     ]
    },
    {
     "name": "stderr",
     "output_type": "stream",
     "text": [
      "C:\\Users\\salda\\Anaconda3\\lib\\site-packages\\sklearn\\neural_network\\_multilayer_perceptron.py:500: ConvergenceWarning: lbfgs failed to converge (status=1):\n",
      "STOP: TOTAL NO. of ITERATIONS REACHED LIMIT.\n",
      "\n",
      "Increase the number of iterations (max_iter) or scale the data as shown in:\n",
      "    https://scikit-learn.org/stable/modules/preprocessing.html\n",
      "  self.n_iter_ = _check_optimize_result(\"lbfgs\", opt_res, self.max_iter)\n"
     ]
    },
    {
     "name": "stdout",
     "output_type": "stream",
     "text": [
      "[CV] END hidden_layer_sizes=30, learning_rate_init=0.001, max_iter=2500, random_state=42, solver=lbfgs; total time= 1.0min\n",
      "[CV] END hidden_layer_sizes=30, learning_rate_init=0.001, max_iter=2500, random_state=42, solver=adam; total time=  28.1s\n",
      "[CV] END hidden_layer_sizes=30, learning_rate_init=0.001, max_iter=2500, random_state=42, solver=adam; total time=  27.8s\n",
      "[CV] END hidden_layer_sizes=30, learning_rate_init=0.001, max_iter=2500, random_state=42, solver=adam; total time=  28.4s\n",
      "[CV] END hidden_layer_sizes=30, learning_rate_init=0.001, max_iter=2500, random_state=42, solver=adam; total time=  25.1s\n",
      "[CV] END hidden_layer_sizes=30, learning_rate_init=0.001, max_iter=2500, random_state=42, solver=adam; total time=  23.5s\n"
     ]
    },
    {
     "name": "stderr",
     "output_type": "stream",
     "text": [
      "C:\\Users\\salda\\Anaconda3\\lib\\site-packages\\sklearn\\neural_network\\_multilayer_perceptron.py:500: ConvergenceWarning: lbfgs failed to converge (status=1):\n",
      "STOP: TOTAL NO. of ITERATIONS REACHED LIMIT.\n",
      "\n",
      "Increase the number of iterations (max_iter) or scale the data as shown in:\n",
      "    https://scikit-learn.org/stable/modules/preprocessing.html\n",
      "  self.n_iter_ = _check_optimize_result(\"lbfgs\", opt_res, self.max_iter)\n"
     ]
    },
    {
     "name": "stdout",
     "output_type": "stream",
     "text": [
      "[CV] END hidden_layer_sizes=30, learning_rate_init=1e-05, max_iter=2500, random_state=42, solver=lbfgs; total time=  59.0s\n"
     ]
    },
    {
     "name": "stderr",
     "output_type": "stream",
     "text": [
      "C:\\Users\\salda\\Anaconda3\\lib\\site-packages\\sklearn\\neural_network\\_multilayer_perceptron.py:500: ConvergenceWarning: lbfgs failed to converge (status=1):\n",
      "STOP: TOTAL NO. of ITERATIONS REACHED LIMIT.\n",
      "\n",
      "Increase the number of iterations (max_iter) or scale the data as shown in:\n",
      "    https://scikit-learn.org/stable/modules/preprocessing.html\n",
      "  self.n_iter_ = _check_optimize_result(\"lbfgs\", opt_res, self.max_iter)\n"
     ]
    },
    {
     "name": "stdout",
     "output_type": "stream",
     "text": [
      "[CV] END hidden_layer_sizes=30, learning_rate_init=1e-05, max_iter=2500, random_state=42, solver=lbfgs; total time=  59.1s\n"
     ]
    },
    {
     "name": "stderr",
     "output_type": "stream",
     "text": [
      "C:\\Users\\salda\\Anaconda3\\lib\\site-packages\\sklearn\\neural_network\\_multilayer_perceptron.py:500: ConvergenceWarning: lbfgs failed to converge (status=1):\n",
      "STOP: TOTAL NO. of ITERATIONS REACHED LIMIT.\n",
      "\n",
      "Increase the number of iterations (max_iter) or scale the data as shown in:\n",
      "    https://scikit-learn.org/stable/modules/preprocessing.html\n",
      "  self.n_iter_ = _check_optimize_result(\"lbfgs\", opt_res, self.max_iter)\n"
     ]
    },
    {
     "name": "stdout",
     "output_type": "stream",
     "text": [
      "[CV] END hidden_layer_sizes=30, learning_rate_init=1e-05, max_iter=2500, random_state=42, solver=lbfgs; total time=  59.6s\n"
     ]
    },
    {
     "name": "stderr",
     "output_type": "stream",
     "text": [
      "C:\\Users\\salda\\Anaconda3\\lib\\site-packages\\sklearn\\neural_network\\_multilayer_perceptron.py:500: ConvergenceWarning: lbfgs failed to converge (status=1):\n",
      "STOP: TOTAL NO. of ITERATIONS REACHED LIMIT.\n",
      "\n",
      "Increase the number of iterations (max_iter) or scale the data as shown in:\n",
      "    https://scikit-learn.org/stable/modules/preprocessing.html\n",
      "  self.n_iter_ = _check_optimize_result(\"lbfgs\", opt_res, self.max_iter)\n"
     ]
    },
    {
     "name": "stdout",
     "output_type": "stream",
     "text": [
      "[CV] END hidden_layer_sizes=30, learning_rate_init=1e-05, max_iter=2500, random_state=42, solver=lbfgs; total time= 1.1min\n"
     ]
    },
    {
     "name": "stderr",
     "output_type": "stream",
     "text": [
      "C:\\Users\\salda\\Anaconda3\\lib\\site-packages\\sklearn\\neural_network\\_multilayer_perceptron.py:500: ConvergenceWarning: lbfgs failed to converge (status=1):\n",
      "STOP: TOTAL NO. of ITERATIONS REACHED LIMIT.\n",
      "\n",
      "Increase the number of iterations (max_iter) or scale the data as shown in:\n",
      "    https://scikit-learn.org/stable/modules/preprocessing.html\n",
      "  self.n_iter_ = _check_optimize_result(\"lbfgs\", opt_res, self.max_iter)\n"
     ]
    },
    {
     "name": "stdout",
     "output_type": "stream",
     "text": [
      "[CV] END hidden_layer_sizes=30, learning_rate_init=1e-05, max_iter=2500, random_state=42, solver=lbfgs; total time= 1.2min\n"
     ]
    },
    {
     "name": "stderr",
     "output_type": "stream",
     "text": [
      "C:\\Users\\salda\\Anaconda3\\lib\\site-packages\\sklearn\\neural_network\\_multilayer_perceptron.py:614: ConvergenceWarning: Stochastic Optimizer: Maximum iterations (2500) reached and the optimization hasn't converged yet.\n",
      "  warnings.warn(\n"
     ]
    },
    {
     "name": "stdout",
     "output_type": "stream",
     "text": [
      "[CV] END hidden_layer_sizes=30, learning_rate_init=1e-05, max_iter=2500, random_state=42, solver=adam; total time= 3.4min\n"
     ]
    },
    {
     "name": "stderr",
     "output_type": "stream",
     "text": [
      "C:\\Users\\salda\\Anaconda3\\lib\\site-packages\\sklearn\\neural_network\\_multilayer_perceptron.py:614: ConvergenceWarning: Stochastic Optimizer: Maximum iterations (2500) reached and the optimization hasn't converged yet.\n",
      "  warnings.warn(\n"
     ]
    },
    {
     "name": "stdout",
     "output_type": "stream",
     "text": [
      "[CV] END hidden_layer_sizes=30, learning_rate_init=1e-05, max_iter=2500, random_state=42, solver=adam; total time= 3.1min\n"
     ]
    },
    {
     "name": "stderr",
     "output_type": "stream",
     "text": [
      "C:\\Users\\salda\\Anaconda3\\lib\\site-packages\\sklearn\\neural_network\\_multilayer_perceptron.py:614: ConvergenceWarning: Stochastic Optimizer: Maximum iterations (2500) reached and the optimization hasn't converged yet.\n",
      "  warnings.warn(\n"
     ]
    },
    {
     "name": "stdout",
     "output_type": "stream",
     "text": [
      "[CV] END hidden_layer_sizes=30, learning_rate_init=1e-05, max_iter=2500, random_state=42, solver=adam; total time= 3.1min\n"
     ]
    },
    {
     "name": "stderr",
     "output_type": "stream",
     "text": [
      "C:\\Users\\salda\\Anaconda3\\lib\\site-packages\\sklearn\\neural_network\\_multilayer_perceptron.py:614: ConvergenceWarning: Stochastic Optimizer: Maximum iterations (2500) reached and the optimization hasn't converged yet.\n",
      "  warnings.warn(\n"
     ]
    },
    {
     "name": "stdout",
     "output_type": "stream",
     "text": [
      "[CV] END hidden_layer_sizes=30, learning_rate_init=1e-05, max_iter=2500, random_state=42, solver=adam; total time= 3.1min\n"
     ]
    },
    {
     "name": "stderr",
     "output_type": "stream",
     "text": [
      "C:\\Users\\salda\\Anaconda3\\lib\\site-packages\\sklearn\\neural_network\\_multilayer_perceptron.py:614: ConvergenceWarning: Stochastic Optimizer: Maximum iterations (2500) reached and the optimization hasn't converged yet.\n",
      "  warnings.warn(\n"
     ]
    },
    {
     "name": "stdout",
     "output_type": "stream",
     "text": [
      "[CV] END hidden_layer_sizes=30, learning_rate_init=1e-05, max_iter=2500, random_state=42, solver=adam; total time= 3.1min\n"
     ]
    },
    {
     "name": "stderr",
     "output_type": "stream",
     "text": [
      "C:\\Users\\salda\\Anaconda3\\lib\\site-packages\\sklearn\\neural_network\\_multilayer_perceptron.py:500: ConvergenceWarning: lbfgs failed to converge (status=1):\n",
      "STOP: TOTAL NO. of ITERATIONS REACHED LIMIT.\n",
      "\n",
      "Increase the number of iterations (max_iter) or scale the data as shown in:\n",
      "    https://scikit-learn.org/stable/modules/preprocessing.html\n",
      "  self.n_iter_ = _check_optimize_result(\"lbfgs\", opt_res, self.max_iter)\n"
     ]
    },
    {
     "name": "stdout",
     "output_type": "stream",
     "text": [
      "[CV] END hidden_layer_sizes=31, learning_rate_init=0.1, max_iter=2500, random_state=42, solver=lbfgs; total time= 1.0min\n"
     ]
    },
    {
     "name": "stderr",
     "output_type": "stream",
     "text": [
      "C:\\Users\\salda\\Anaconda3\\lib\\site-packages\\sklearn\\neural_network\\_multilayer_perceptron.py:500: ConvergenceWarning: lbfgs failed to converge (status=1):\n",
      "STOP: TOTAL NO. of ITERATIONS REACHED LIMIT.\n",
      "\n",
      "Increase the number of iterations (max_iter) or scale the data as shown in:\n",
      "    https://scikit-learn.org/stable/modules/preprocessing.html\n",
      "  self.n_iter_ = _check_optimize_result(\"lbfgs\", opt_res, self.max_iter)\n"
     ]
    },
    {
     "name": "stdout",
     "output_type": "stream",
     "text": [
      "[CV] END hidden_layer_sizes=31, learning_rate_init=0.1, max_iter=2500, random_state=42, solver=lbfgs; total time=  59.8s\n"
     ]
    },
    {
     "name": "stderr",
     "output_type": "stream",
     "text": [
      "C:\\Users\\salda\\Anaconda3\\lib\\site-packages\\sklearn\\neural_network\\_multilayer_perceptron.py:500: ConvergenceWarning: lbfgs failed to converge (status=1):\n",
      "STOP: TOTAL NO. of ITERATIONS REACHED LIMIT.\n",
      "\n",
      "Increase the number of iterations (max_iter) or scale the data as shown in:\n",
      "    https://scikit-learn.org/stable/modules/preprocessing.html\n",
      "  self.n_iter_ = _check_optimize_result(\"lbfgs\", opt_res, self.max_iter)\n"
     ]
    },
    {
     "name": "stdout",
     "output_type": "stream",
     "text": [
      "[CV] END hidden_layer_sizes=31, learning_rate_init=0.1, max_iter=2500, random_state=42, solver=lbfgs; total time= 1.0min\n"
     ]
    },
    {
     "name": "stderr",
     "output_type": "stream",
     "text": [
      "C:\\Users\\salda\\Anaconda3\\lib\\site-packages\\sklearn\\neural_network\\_multilayer_perceptron.py:500: ConvergenceWarning: lbfgs failed to converge (status=1):\n",
      "STOP: TOTAL NO. of ITERATIONS REACHED LIMIT.\n",
      "\n",
      "Increase the number of iterations (max_iter) or scale the data as shown in:\n",
      "    https://scikit-learn.org/stable/modules/preprocessing.html\n",
      "  self.n_iter_ = _check_optimize_result(\"lbfgs\", opt_res, self.max_iter)\n"
     ]
    },
    {
     "name": "stdout",
     "output_type": "stream",
     "text": [
      "[CV] END hidden_layer_sizes=31, learning_rate_init=0.1, max_iter=2500, random_state=42, solver=lbfgs; total time= 1.0min\n"
     ]
    },
    {
     "name": "stderr",
     "output_type": "stream",
     "text": [
      "C:\\Users\\salda\\Anaconda3\\lib\\site-packages\\sklearn\\neural_network\\_multilayer_perceptron.py:500: ConvergenceWarning: lbfgs failed to converge (status=1):\n",
      "STOP: TOTAL NO. of ITERATIONS REACHED LIMIT.\n",
      "\n",
      "Increase the number of iterations (max_iter) or scale the data as shown in:\n",
      "    https://scikit-learn.org/stable/modules/preprocessing.html\n",
      "  self.n_iter_ = _check_optimize_result(\"lbfgs\", opt_res, self.max_iter)\n"
     ]
    },
    {
     "name": "stdout",
     "output_type": "stream",
     "text": [
      "[CV] END hidden_layer_sizes=31, learning_rate_init=0.1, max_iter=2500, random_state=42, solver=lbfgs; total time=  59.8s\n",
      "[CV] END hidden_layer_sizes=31, learning_rate_init=0.1, max_iter=2500, random_state=42, solver=adam; total time=   2.5s\n",
      "[CV] END hidden_layer_sizes=31, learning_rate_init=0.1, max_iter=2500, random_state=42, solver=adam; total time=   2.8s\n",
      "[CV] END hidden_layer_sizes=31, learning_rate_init=0.1, max_iter=2500, random_state=42, solver=adam; total time=   4.2s\n",
      "[CV] END hidden_layer_sizes=31, learning_rate_init=0.1, max_iter=2500, random_state=42, solver=adam; total time=   3.2s\n",
      "[CV] END hidden_layer_sizes=31, learning_rate_init=0.1, max_iter=2500, random_state=42, solver=adam; total time=   2.3s\n"
     ]
    },
    {
     "name": "stderr",
     "output_type": "stream",
     "text": [
      "C:\\Users\\salda\\Anaconda3\\lib\\site-packages\\sklearn\\neural_network\\_multilayer_perceptron.py:500: ConvergenceWarning: lbfgs failed to converge (status=1):\n",
      "STOP: TOTAL NO. of ITERATIONS REACHED LIMIT.\n",
      "\n",
      "Increase the number of iterations (max_iter) or scale the data as shown in:\n",
      "    https://scikit-learn.org/stable/modules/preprocessing.html\n",
      "  self.n_iter_ = _check_optimize_result(\"lbfgs\", opt_res, self.max_iter)\n"
     ]
    },
    {
     "name": "stdout",
     "output_type": "stream",
     "text": [
      "[CV] END hidden_layer_sizes=31, learning_rate_init=0.001, max_iter=2500, random_state=42, solver=lbfgs; total time= 1.0min\n"
     ]
    },
    {
     "name": "stderr",
     "output_type": "stream",
     "text": [
      "C:\\Users\\salda\\Anaconda3\\lib\\site-packages\\sklearn\\neural_network\\_multilayer_perceptron.py:500: ConvergenceWarning: lbfgs failed to converge (status=1):\n",
      "STOP: TOTAL NO. of ITERATIONS REACHED LIMIT.\n",
      "\n",
      "Increase the number of iterations (max_iter) or scale the data as shown in:\n",
      "    https://scikit-learn.org/stable/modules/preprocessing.html\n",
      "  self.n_iter_ = _check_optimize_result(\"lbfgs\", opt_res, self.max_iter)\n"
     ]
    },
    {
     "name": "stdout",
     "output_type": "stream",
     "text": [
      "[CV] END hidden_layer_sizes=31, learning_rate_init=0.001, max_iter=2500, random_state=42, solver=lbfgs; total time= 1.0min\n"
     ]
    },
    {
     "name": "stderr",
     "output_type": "stream",
     "text": [
      "C:\\Users\\salda\\Anaconda3\\lib\\site-packages\\sklearn\\neural_network\\_multilayer_perceptron.py:500: ConvergenceWarning: lbfgs failed to converge (status=1):\n",
      "STOP: TOTAL NO. of ITERATIONS REACHED LIMIT.\n",
      "\n",
      "Increase the number of iterations (max_iter) or scale the data as shown in:\n",
      "    https://scikit-learn.org/stable/modules/preprocessing.html\n",
      "  self.n_iter_ = _check_optimize_result(\"lbfgs\", opt_res, self.max_iter)\n"
     ]
    },
    {
     "name": "stdout",
     "output_type": "stream",
     "text": [
      "[CV] END hidden_layer_sizes=31, learning_rate_init=0.001, max_iter=2500, random_state=42, solver=lbfgs; total time= 1.0min\n"
     ]
    },
    {
     "name": "stderr",
     "output_type": "stream",
     "text": [
      "C:\\Users\\salda\\Anaconda3\\lib\\site-packages\\sklearn\\neural_network\\_multilayer_perceptron.py:500: ConvergenceWarning: lbfgs failed to converge (status=1):\n",
      "STOP: TOTAL NO. of ITERATIONS REACHED LIMIT.\n",
      "\n",
      "Increase the number of iterations (max_iter) or scale the data as shown in:\n",
      "    https://scikit-learn.org/stable/modules/preprocessing.html\n",
      "  self.n_iter_ = _check_optimize_result(\"lbfgs\", opt_res, self.max_iter)\n"
     ]
    },
    {
     "name": "stdout",
     "output_type": "stream",
     "text": [
      "[CV] END hidden_layer_sizes=31, learning_rate_init=0.001, max_iter=2500, random_state=42, solver=lbfgs; total time= 1.0min\n"
     ]
    },
    {
     "name": "stderr",
     "output_type": "stream",
     "text": [
      "C:\\Users\\salda\\Anaconda3\\lib\\site-packages\\sklearn\\neural_network\\_multilayer_perceptron.py:500: ConvergenceWarning: lbfgs failed to converge (status=1):\n",
      "STOP: TOTAL NO. of ITERATIONS REACHED LIMIT.\n",
      "\n",
      "Increase the number of iterations (max_iter) or scale the data as shown in:\n",
      "    https://scikit-learn.org/stable/modules/preprocessing.html\n",
      "  self.n_iter_ = _check_optimize_result(\"lbfgs\", opt_res, self.max_iter)\n"
     ]
    },
    {
     "name": "stdout",
     "output_type": "stream",
     "text": [
      "[CV] END hidden_layer_sizes=31, learning_rate_init=0.001, max_iter=2500, random_state=42, solver=lbfgs; total time= 1.0min\n",
      "[CV] END hidden_layer_sizes=31, learning_rate_init=0.001, max_iter=2500, random_state=42, solver=adam; total time=  31.0s\n",
      "[CV] END hidden_layer_sizes=31, learning_rate_init=0.001, max_iter=2500, random_state=42, solver=adam; total time=  28.6s\n",
      "[CV] END hidden_layer_sizes=31, learning_rate_init=0.001, max_iter=2500, random_state=42, solver=adam; total time=  35.5s\n",
      "[CV] END hidden_layer_sizes=31, learning_rate_init=0.001, max_iter=2500, random_state=42, solver=adam; total time=  42.5s\n",
      "[CV] END hidden_layer_sizes=31, learning_rate_init=0.001, max_iter=2500, random_state=42, solver=adam; total time=  24.5s\n"
     ]
    },
    {
     "name": "stderr",
     "output_type": "stream",
     "text": [
      "C:\\Users\\salda\\Anaconda3\\lib\\site-packages\\sklearn\\neural_network\\_multilayer_perceptron.py:500: ConvergenceWarning: lbfgs failed to converge (status=1):\n",
      "STOP: TOTAL NO. of ITERATIONS REACHED LIMIT.\n",
      "\n",
      "Increase the number of iterations (max_iter) or scale the data as shown in:\n",
      "    https://scikit-learn.org/stable/modules/preprocessing.html\n",
      "  self.n_iter_ = _check_optimize_result(\"lbfgs\", opt_res, self.max_iter)\n"
     ]
    },
    {
     "name": "stdout",
     "output_type": "stream",
     "text": [
      "[CV] END hidden_layer_sizes=31, learning_rate_init=1e-05, max_iter=2500, random_state=42, solver=lbfgs; total time= 1.0min\n"
     ]
    },
    {
     "name": "stderr",
     "output_type": "stream",
     "text": [
      "C:\\Users\\salda\\Anaconda3\\lib\\site-packages\\sklearn\\neural_network\\_multilayer_perceptron.py:500: ConvergenceWarning: lbfgs failed to converge (status=1):\n",
      "STOP: TOTAL NO. of ITERATIONS REACHED LIMIT.\n",
      "\n",
      "Increase the number of iterations (max_iter) or scale the data as shown in:\n",
      "    https://scikit-learn.org/stable/modules/preprocessing.html\n",
      "  self.n_iter_ = _check_optimize_result(\"lbfgs\", opt_res, self.max_iter)\n"
     ]
    },
    {
     "name": "stdout",
     "output_type": "stream",
     "text": [
      "[CV] END hidden_layer_sizes=31, learning_rate_init=1e-05, max_iter=2500, random_state=42, solver=lbfgs; total time=  58.6s\n"
     ]
    },
    {
     "name": "stderr",
     "output_type": "stream",
     "text": [
      "C:\\Users\\salda\\Anaconda3\\lib\\site-packages\\sklearn\\neural_network\\_multilayer_perceptron.py:500: ConvergenceWarning: lbfgs failed to converge (status=1):\n",
      "STOP: TOTAL NO. of ITERATIONS REACHED LIMIT.\n",
      "\n",
      "Increase the number of iterations (max_iter) or scale the data as shown in:\n",
      "    https://scikit-learn.org/stable/modules/preprocessing.html\n",
      "  self.n_iter_ = _check_optimize_result(\"lbfgs\", opt_res, self.max_iter)\n"
     ]
    },
    {
     "name": "stdout",
     "output_type": "stream",
     "text": [
      "[CV] END hidden_layer_sizes=31, learning_rate_init=1e-05, max_iter=2500, random_state=42, solver=lbfgs; total time=  59.7s\n"
     ]
    },
    {
     "name": "stderr",
     "output_type": "stream",
     "text": [
      "C:\\Users\\salda\\Anaconda3\\lib\\site-packages\\sklearn\\neural_network\\_multilayer_perceptron.py:500: ConvergenceWarning: lbfgs failed to converge (status=1):\n",
      "STOP: TOTAL NO. of ITERATIONS REACHED LIMIT.\n",
      "\n",
      "Increase the number of iterations (max_iter) or scale the data as shown in:\n",
      "    https://scikit-learn.org/stable/modules/preprocessing.html\n",
      "  self.n_iter_ = _check_optimize_result(\"lbfgs\", opt_res, self.max_iter)\n"
     ]
    },
    {
     "name": "stdout",
     "output_type": "stream",
     "text": [
      "[CV] END hidden_layer_sizes=31, learning_rate_init=1e-05, max_iter=2500, random_state=42, solver=lbfgs; total time= 1.0min\n"
     ]
    },
    {
     "name": "stderr",
     "output_type": "stream",
     "text": [
      "C:\\Users\\salda\\Anaconda3\\lib\\site-packages\\sklearn\\neural_network\\_multilayer_perceptron.py:500: ConvergenceWarning: lbfgs failed to converge (status=1):\n",
      "STOP: TOTAL NO. of ITERATIONS REACHED LIMIT.\n",
      "\n",
      "Increase the number of iterations (max_iter) or scale the data as shown in:\n",
      "    https://scikit-learn.org/stable/modules/preprocessing.html\n",
      "  self.n_iter_ = _check_optimize_result(\"lbfgs\", opt_res, self.max_iter)\n"
     ]
    },
    {
     "name": "stdout",
     "output_type": "stream",
     "text": [
      "[CV] END hidden_layer_sizes=31, learning_rate_init=1e-05, max_iter=2500, random_state=42, solver=lbfgs; total time= 1.0min\n"
     ]
    },
    {
     "name": "stderr",
     "output_type": "stream",
     "text": [
      "C:\\Users\\salda\\Anaconda3\\lib\\site-packages\\sklearn\\neural_network\\_multilayer_perceptron.py:614: ConvergenceWarning: Stochastic Optimizer: Maximum iterations (2500) reached and the optimization hasn't converged yet.\n",
      "  warnings.warn(\n"
     ]
    },
    {
     "name": "stdout",
     "output_type": "stream",
     "text": [
      "[CV] END hidden_layer_sizes=31, learning_rate_init=1e-05, max_iter=2500, random_state=42, solver=adam; total time= 3.2min\n"
     ]
    },
    {
     "name": "stderr",
     "output_type": "stream",
     "text": [
      "C:\\Users\\salda\\Anaconda3\\lib\\site-packages\\sklearn\\neural_network\\_multilayer_perceptron.py:614: ConvergenceWarning: Stochastic Optimizer: Maximum iterations (2500) reached and the optimization hasn't converged yet.\n",
      "  warnings.warn(\n"
     ]
    },
    {
     "name": "stdout",
     "output_type": "stream",
     "text": [
      "[CV] END hidden_layer_sizes=31, learning_rate_init=1e-05, max_iter=2500, random_state=42, solver=adam; total time= 3.1min\n"
     ]
    },
    {
     "name": "stderr",
     "output_type": "stream",
     "text": [
      "C:\\Users\\salda\\Anaconda3\\lib\\site-packages\\sklearn\\neural_network\\_multilayer_perceptron.py:614: ConvergenceWarning: Stochastic Optimizer: Maximum iterations (2500) reached and the optimization hasn't converged yet.\n",
      "  warnings.warn(\n"
     ]
    },
    {
     "name": "stdout",
     "output_type": "stream",
     "text": [
      "[CV] END hidden_layer_sizes=31, learning_rate_init=1e-05, max_iter=2500, random_state=42, solver=adam; total time= 3.2min\n"
     ]
    },
    {
     "name": "stderr",
     "output_type": "stream",
     "text": [
      "C:\\Users\\salda\\Anaconda3\\lib\\site-packages\\sklearn\\neural_network\\_multilayer_perceptron.py:614: ConvergenceWarning: Stochastic Optimizer: Maximum iterations (2500) reached and the optimization hasn't converged yet.\n",
      "  warnings.warn(\n"
     ]
    },
    {
     "name": "stdout",
     "output_type": "stream",
     "text": [
      "[CV] END hidden_layer_sizes=31, learning_rate_init=1e-05, max_iter=2500, random_state=42, solver=adam; total time= 3.1min\n"
     ]
    },
    {
     "name": "stderr",
     "output_type": "stream",
     "text": [
      "C:\\Users\\salda\\Anaconda3\\lib\\site-packages\\sklearn\\neural_network\\_multilayer_perceptron.py:614: ConvergenceWarning: Stochastic Optimizer: Maximum iterations (2500) reached and the optimization hasn't converged yet.\n",
      "  warnings.warn(\n"
     ]
    },
    {
     "name": "stdout",
     "output_type": "stream",
     "text": [
      "[CV] END hidden_layer_sizes=31, learning_rate_init=1e-05, max_iter=2500, random_state=42, solver=adam; total time= 3.2min\n"
     ]
    },
    {
     "name": "stderr",
     "output_type": "stream",
     "text": [
      "C:\\Users\\salda\\Anaconda3\\lib\\site-packages\\sklearn\\neural_network\\_multilayer_perceptron.py:500: ConvergenceWarning: lbfgs failed to converge (status=1):\n",
      "STOP: TOTAL NO. of ITERATIONS REACHED LIMIT.\n",
      "\n",
      "Increase the number of iterations (max_iter) or scale the data as shown in:\n",
      "    https://scikit-learn.org/stable/modules/preprocessing.html\n",
      "  self.n_iter_ = _check_optimize_result(\"lbfgs\", opt_res, self.max_iter)\n"
     ]
    },
    {
     "name": "stdout",
     "output_type": "stream",
     "text": [
      "[CV] END hidden_layer_sizes=32, learning_rate_init=0.1, max_iter=2500, random_state=42, solver=lbfgs; total time= 1.3min\n"
     ]
    },
    {
     "name": "stderr",
     "output_type": "stream",
     "text": [
      "C:\\Users\\salda\\Anaconda3\\lib\\site-packages\\sklearn\\neural_network\\_multilayer_perceptron.py:500: ConvergenceWarning: lbfgs failed to converge (status=1):\n",
      "STOP: TOTAL NO. of ITERATIONS REACHED LIMIT.\n",
      "\n",
      "Increase the number of iterations (max_iter) or scale the data as shown in:\n",
      "    https://scikit-learn.org/stable/modules/preprocessing.html\n",
      "  self.n_iter_ = _check_optimize_result(\"lbfgs\", opt_res, self.max_iter)\n"
     ]
    },
    {
     "name": "stdout",
     "output_type": "stream",
     "text": [
      "[CV] END hidden_layer_sizes=32, learning_rate_init=0.1, max_iter=2500, random_state=42, solver=lbfgs; total time= 1.1min\n"
     ]
    },
    {
     "name": "stderr",
     "output_type": "stream",
     "text": [
      "C:\\Users\\salda\\Anaconda3\\lib\\site-packages\\sklearn\\neural_network\\_multilayer_perceptron.py:500: ConvergenceWarning: lbfgs failed to converge (status=1):\n",
      "STOP: TOTAL NO. of ITERATIONS REACHED LIMIT.\n",
      "\n",
      "Increase the number of iterations (max_iter) or scale the data as shown in:\n",
      "    https://scikit-learn.org/stable/modules/preprocessing.html\n",
      "  self.n_iter_ = _check_optimize_result(\"lbfgs\", opt_res, self.max_iter)\n"
     ]
    },
    {
     "name": "stdout",
     "output_type": "stream",
     "text": [
      "[CV] END hidden_layer_sizes=32, learning_rate_init=0.1, max_iter=2500, random_state=42, solver=lbfgs; total time= 1.1min\n"
     ]
    },
    {
     "name": "stderr",
     "output_type": "stream",
     "text": [
      "C:\\Users\\salda\\Anaconda3\\lib\\site-packages\\sklearn\\neural_network\\_multilayer_perceptron.py:500: ConvergenceWarning: lbfgs failed to converge (status=1):\n",
      "STOP: TOTAL NO. of ITERATIONS REACHED LIMIT.\n",
      "\n",
      "Increase the number of iterations (max_iter) or scale the data as shown in:\n",
      "    https://scikit-learn.org/stable/modules/preprocessing.html\n",
      "  self.n_iter_ = _check_optimize_result(\"lbfgs\", opt_res, self.max_iter)\n"
     ]
    },
    {
     "name": "stdout",
     "output_type": "stream",
     "text": [
      "[CV] END hidden_layer_sizes=32, learning_rate_init=0.1, max_iter=2500, random_state=42, solver=lbfgs; total time= 1.1min\n"
     ]
    },
    {
     "name": "stderr",
     "output_type": "stream",
     "text": [
      "C:\\Users\\salda\\Anaconda3\\lib\\site-packages\\sklearn\\neural_network\\_multilayer_perceptron.py:500: ConvergenceWarning: lbfgs failed to converge (status=1):\n",
      "STOP: TOTAL NO. of ITERATIONS REACHED LIMIT.\n",
      "\n",
      "Increase the number of iterations (max_iter) or scale the data as shown in:\n",
      "    https://scikit-learn.org/stable/modules/preprocessing.html\n",
      "  self.n_iter_ = _check_optimize_result(\"lbfgs\", opt_res, self.max_iter)\n"
     ]
    },
    {
     "name": "stdout",
     "output_type": "stream",
     "text": [
      "[CV] END hidden_layer_sizes=32, learning_rate_init=0.1, max_iter=2500, random_state=42, solver=lbfgs; total time= 1.1min\n",
      "[CV] END hidden_layer_sizes=32, learning_rate_init=0.1, max_iter=2500, random_state=42, solver=adam; total time=   8.1s\n",
      "[CV] END hidden_layer_sizes=32, learning_rate_init=0.1, max_iter=2500, random_state=42, solver=adam; total time=   3.9s\n",
      "[CV] END hidden_layer_sizes=32, learning_rate_init=0.1, max_iter=2500, random_state=42, solver=adam; total time=   4.3s\n",
      "[CV] END hidden_layer_sizes=32, learning_rate_init=0.1, max_iter=2500, random_state=42, solver=adam; total time=   5.3s\n",
      "[CV] END hidden_layer_sizes=32, learning_rate_init=0.1, max_iter=2500, random_state=42, solver=adam; total time=   3.3s\n"
     ]
    },
    {
     "name": "stderr",
     "output_type": "stream",
     "text": [
      "C:\\Users\\salda\\Anaconda3\\lib\\site-packages\\sklearn\\neural_network\\_multilayer_perceptron.py:500: ConvergenceWarning: lbfgs failed to converge (status=1):\n",
      "STOP: TOTAL NO. of ITERATIONS REACHED LIMIT.\n",
      "\n",
      "Increase the number of iterations (max_iter) or scale the data as shown in:\n",
      "    https://scikit-learn.org/stable/modules/preprocessing.html\n",
      "  self.n_iter_ = _check_optimize_result(\"lbfgs\", opt_res, self.max_iter)\n"
     ]
    },
    {
     "name": "stdout",
     "output_type": "stream",
     "text": [
      "[CV] END hidden_layer_sizes=32, learning_rate_init=0.001, max_iter=2500, random_state=42, solver=lbfgs; total time= 1.3min\n"
     ]
    },
    {
     "name": "stderr",
     "output_type": "stream",
     "text": [
      "C:\\Users\\salda\\Anaconda3\\lib\\site-packages\\sklearn\\neural_network\\_multilayer_perceptron.py:500: ConvergenceWarning: lbfgs failed to converge (status=1):\n",
      "STOP: TOTAL NO. of ITERATIONS REACHED LIMIT.\n",
      "\n",
      "Increase the number of iterations (max_iter) or scale the data as shown in:\n",
      "    https://scikit-learn.org/stable/modules/preprocessing.html\n",
      "  self.n_iter_ = _check_optimize_result(\"lbfgs\", opt_res, self.max_iter)\n"
     ]
    },
    {
     "name": "stdout",
     "output_type": "stream",
     "text": [
      "[CV] END hidden_layer_sizes=32, learning_rate_init=0.001, max_iter=2500, random_state=42, solver=lbfgs; total time= 1.2min\n"
     ]
    },
    {
     "name": "stderr",
     "output_type": "stream",
     "text": [
      "C:\\Users\\salda\\Anaconda3\\lib\\site-packages\\sklearn\\neural_network\\_multilayer_perceptron.py:500: ConvergenceWarning: lbfgs failed to converge (status=1):\n",
      "STOP: TOTAL NO. of ITERATIONS REACHED LIMIT.\n",
      "\n",
      "Increase the number of iterations (max_iter) or scale the data as shown in:\n",
      "    https://scikit-learn.org/stable/modules/preprocessing.html\n",
      "  self.n_iter_ = _check_optimize_result(\"lbfgs\", opt_res, self.max_iter)\n"
     ]
    },
    {
     "name": "stdout",
     "output_type": "stream",
     "text": [
      "[CV] END hidden_layer_sizes=32, learning_rate_init=0.001, max_iter=2500, random_state=42, solver=lbfgs; total time= 1.2min\n"
     ]
    },
    {
     "name": "stderr",
     "output_type": "stream",
     "text": [
      "C:\\Users\\salda\\Anaconda3\\lib\\site-packages\\sklearn\\neural_network\\_multilayer_perceptron.py:500: ConvergenceWarning: lbfgs failed to converge (status=1):\n",
      "STOP: TOTAL NO. of ITERATIONS REACHED LIMIT.\n",
      "\n",
      "Increase the number of iterations (max_iter) or scale the data as shown in:\n",
      "    https://scikit-learn.org/stable/modules/preprocessing.html\n",
      "  self.n_iter_ = _check_optimize_result(\"lbfgs\", opt_res, self.max_iter)\n"
     ]
    },
    {
     "name": "stdout",
     "output_type": "stream",
     "text": [
      "[CV] END hidden_layer_sizes=32, learning_rate_init=0.001, max_iter=2500, random_state=42, solver=lbfgs; total time= 1.1min\n"
     ]
    },
    {
     "name": "stderr",
     "output_type": "stream",
     "text": [
      "C:\\Users\\salda\\Anaconda3\\lib\\site-packages\\sklearn\\neural_network\\_multilayer_perceptron.py:500: ConvergenceWarning: lbfgs failed to converge (status=1):\n",
      "STOP: TOTAL NO. of ITERATIONS REACHED LIMIT.\n",
      "\n",
      "Increase the number of iterations (max_iter) or scale the data as shown in:\n",
      "    https://scikit-learn.org/stable/modules/preprocessing.html\n",
      "  self.n_iter_ = _check_optimize_result(\"lbfgs\", opt_res, self.max_iter)\n"
     ]
    },
    {
     "name": "stdout",
     "output_type": "stream",
     "text": [
      "[CV] END hidden_layer_sizes=32, learning_rate_init=0.001, max_iter=2500, random_state=42, solver=lbfgs; total time= 1.2min\n",
      "[CV] END hidden_layer_sizes=32, learning_rate_init=0.001, max_iter=2500, random_state=42, solver=adam; total time=  31.0s\n",
      "[CV] END hidden_layer_sizes=32, learning_rate_init=0.001, max_iter=2500, random_state=42, solver=adam; total time=  39.2s\n",
      "[CV] END hidden_layer_sizes=32, learning_rate_init=0.001, max_iter=2500, random_state=42, solver=adam; total time=  27.8s\n",
      "[CV] END hidden_layer_sizes=32, learning_rate_init=0.001, max_iter=2500, random_state=42, solver=adam; total time=  23.3s\n",
      "[CV] END hidden_layer_sizes=32, learning_rate_init=0.001, max_iter=2500, random_state=42, solver=adam; total time=  26.9s\n"
     ]
    },
    {
     "name": "stderr",
     "output_type": "stream",
     "text": [
      "C:\\Users\\salda\\Anaconda3\\lib\\site-packages\\sklearn\\neural_network\\_multilayer_perceptron.py:500: ConvergenceWarning: lbfgs failed to converge (status=1):\n",
      "STOP: TOTAL NO. of ITERATIONS REACHED LIMIT.\n",
      "\n",
      "Increase the number of iterations (max_iter) or scale the data as shown in:\n",
      "    https://scikit-learn.org/stable/modules/preprocessing.html\n",
      "  self.n_iter_ = _check_optimize_result(\"lbfgs\", opt_res, self.max_iter)\n"
     ]
    },
    {
     "name": "stdout",
     "output_type": "stream",
     "text": [
      "[CV] END hidden_layer_sizes=32, learning_rate_init=1e-05, max_iter=2500, random_state=42, solver=lbfgs; total time= 1.2min\n"
     ]
    },
    {
     "name": "stderr",
     "output_type": "stream",
     "text": [
      "C:\\Users\\salda\\Anaconda3\\lib\\site-packages\\sklearn\\neural_network\\_multilayer_perceptron.py:500: ConvergenceWarning: lbfgs failed to converge (status=1):\n",
      "STOP: TOTAL NO. of ITERATIONS REACHED LIMIT.\n",
      "\n",
      "Increase the number of iterations (max_iter) or scale the data as shown in:\n",
      "    https://scikit-learn.org/stable/modules/preprocessing.html\n",
      "  self.n_iter_ = _check_optimize_result(\"lbfgs\", opt_res, self.max_iter)\n"
     ]
    },
    {
     "name": "stdout",
     "output_type": "stream",
     "text": [
      "[CV] END hidden_layer_sizes=32, learning_rate_init=1e-05, max_iter=2500, random_state=42, solver=lbfgs; total time= 1.1min\n"
     ]
    },
    {
     "name": "stderr",
     "output_type": "stream",
     "text": [
      "C:\\Users\\salda\\Anaconda3\\lib\\site-packages\\sklearn\\neural_network\\_multilayer_perceptron.py:500: ConvergenceWarning: lbfgs failed to converge (status=1):\n",
      "STOP: TOTAL NO. of ITERATIONS REACHED LIMIT.\n",
      "\n",
      "Increase the number of iterations (max_iter) or scale the data as shown in:\n",
      "    https://scikit-learn.org/stable/modules/preprocessing.html\n",
      "  self.n_iter_ = _check_optimize_result(\"lbfgs\", opt_res, self.max_iter)\n"
     ]
    },
    {
     "name": "stdout",
     "output_type": "stream",
     "text": [
      "[CV] END hidden_layer_sizes=32, learning_rate_init=1e-05, max_iter=2500, random_state=42, solver=lbfgs; total time= 1.1min\n"
     ]
    },
    {
     "name": "stderr",
     "output_type": "stream",
     "text": [
      "C:\\Users\\salda\\Anaconda3\\lib\\site-packages\\sklearn\\neural_network\\_multilayer_perceptron.py:500: ConvergenceWarning: lbfgs failed to converge (status=1):\n",
      "STOP: TOTAL NO. of ITERATIONS REACHED LIMIT.\n",
      "\n",
      "Increase the number of iterations (max_iter) or scale the data as shown in:\n",
      "    https://scikit-learn.org/stable/modules/preprocessing.html\n",
      "  self.n_iter_ = _check_optimize_result(\"lbfgs\", opt_res, self.max_iter)\n"
     ]
    },
    {
     "name": "stdout",
     "output_type": "stream",
     "text": [
      "[CV] END hidden_layer_sizes=32, learning_rate_init=1e-05, max_iter=2500, random_state=42, solver=lbfgs; total time= 1.2min\n"
     ]
    },
    {
     "name": "stderr",
     "output_type": "stream",
     "text": [
      "C:\\Users\\salda\\Anaconda3\\lib\\site-packages\\sklearn\\neural_network\\_multilayer_perceptron.py:500: ConvergenceWarning: lbfgs failed to converge (status=1):\n",
      "STOP: TOTAL NO. of ITERATIONS REACHED LIMIT.\n",
      "\n",
      "Increase the number of iterations (max_iter) or scale the data as shown in:\n",
      "    https://scikit-learn.org/stable/modules/preprocessing.html\n",
      "  self.n_iter_ = _check_optimize_result(\"lbfgs\", opt_res, self.max_iter)\n"
     ]
    },
    {
     "name": "stdout",
     "output_type": "stream",
     "text": [
      "[CV] END hidden_layer_sizes=32, learning_rate_init=1e-05, max_iter=2500, random_state=42, solver=lbfgs; total time= 1.1min\n"
     ]
    },
    {
     "name": "stderr",
     "output_type": "stream",
     "text": [
      "C:\\Users\\salda\\Anaconda3\\lib\\site-packages\\sklearn\\neural_network\\_multilayer_perceptron.py:614: ConvergenceWarning: Stochastic Optimizer: Maximum iterations (2500) reached and the optimization hasn't converged yet.\n",
      "  warnings.warn(\n"
     ]
    },
    {
     "name": "stdout",
     "output_type": "stream",
     "text": [
      "[CV] END hidden_layer_sizes=32, learning_rate_init=1e-05, max_iter=2500, random_state=42, solver=adam; total time= 3.7min\n"
     ]
    },
    {
     "name": "stderr",
     "output_type": "stream",
     "text": [
      "C:\\Users\\salda\\Anaconda3\\lib\\site-packages\\sklearn\\neural_network\\_multilayer_perceptron.py:614: ConvergenceWarning: Stochastic Optimizer: Maximum iterations (2500) reached and the optimization hasn't converged yet.\n",
      "  warnings.warn(\n"
     ]
    },
    {
     "name": "stdout",
     "output_type": "stream",
     "text": [
      "[CV] END hidden_layer_sizes=32, learning_rate_init=1e-05, max_iter=2500, random_state=42, solver=adam; total time= 3.5min\n"
     ]
    },
    {
     "name": "stderr",
     "output_type": "stream",
     "text": [
      "C:\\Users\\salda\\Anaconda3\\lib\\site-packages\\sklearn\\neural_network\\_multilayer_perceptron.py:614: ConvergenceWarning: Stochastic Optimizer: Maximum iterations (2500) reached and the optimization hasn't converged yet.\n",
      "  warnings.warn(\n"
     ]
    },
    {
     "name": "stdout",
     "output_type": "stream",
     "text": [
      "[CV] END hidden_layer_sizes=32, learning_rate_init=1e-05, max_iter=2500, random_state=42, solver=adam; total time= 3.3min\n"
     ]
    },
    {
     "name": "stderr",
     "output_type": "stream",
     "text": [
      "C:\\Users\\salda\\Anaconda3\\lib\\site-packages\\sklearn\\neural_network\\_multilayer_perceptron.py:614: ConvergenceWarning: Stochastic Optimizer: Maximum iterations (2500) reached and the optimization hasn't converged yet.\n",
      "  warnings.warn(\n"
     ]
    },
    {
     "name": "stdout",
     "output_type": "stream",
     "text": [
      "[CV] END hidden_layer_sizes=32, learning_rate_init=1e-05, max_iter=2500, random_state=42, solver=adam; total time= 3.2min\n"
     ]
    },
    {
     "name": "stderr",
     "output_type": "stream",
     "text": [
      "C:\\Users\\salda\\Anaconda3\\lib\\site-packages\\sklearn\\neural_network\\_multilayer_perceptron.py:614: ConvergenceWarning: Stochastic Optimizer: Maximum iterations (2500) reached and the optimization hasn't converged yet.\n",
      "  warnings.warn(\n"
     ]
    },
    {
     "name": "stdout",
     "output_type": "stream",
     "text": [
      "[CV] END hidden_layer_sizes=32, learning_rate_init=1e-05, max_iter=2500, random_state=42, solver=adam; total time= 3.4min\n"
     ]
    },
    {
     "name": "stderr",
     "output_type": "stream",
     "text": [
      "C:\\Users\\salda\\Anaconda3\\lib\\site-packages\\sklearn\\neural_network\\_multilayer_perceptron.py:500: ConvergenceWarning: lbfgs failed to converge (status=1):\n",
      "STOP: TOTAL NO. of ITERATIONS REACHED LIMIT.\n",
      "\n",
      "Increase the number of iterations (max_iter) or scale the data as shown in:\n",
      "    https://scikit-learn.org/stable/modules/preprocessing.html\n",
      "  self.n_iter_ = _check_optimize_result(\"lbfgs\", opt_res, self.max_iter)\n"
     ]
    },
    {
     "name": "stdout",
     "output_type": "stream",
     "text": [
      "[CV] END hidden_layer_sizes=33, learning_rate_init=0.1, max_iter=2500, random_state=42, solver=lbfgs; total time= 1.1min\n"
     ]
    },
    {
     "name": "stderr",
     "output_type": "stream",
     "text": [
      "C:\\Users\\salda\\Anaconda3\\lib\\site-packages\\sklearn\\neural_network\\_multilayer_perceptron.py:500: ConvergenceWarning: lbfgs failed to converge (status=1):\n",
      "STOP: TOTAL NO. of ITERATIONS REACHED LIMIT.\n",
      "\n",
      "Increase the number of iterations (max_iter) or scale the data as shown in:\n",
      "    https://scikit-learn.org/stable/modules/preprocessing.html\n",
      "  self.n_iter_ = _check_optimize_result(\"lbfgs\", opt_res, self.max_iter)\n"
     ]
    },
    {
     "name": "stdout",
     "output_type": "stream",
     "text": [
      "[CV] END hidden_layer_sizes=33, learning_rate_init=0.1, max_iter=2500, random_state=42, solver=lbfgs; total time= 1.1min\n"
     ]
    },
    {
     "name": "stderr",
     "output_type": "stream",
     "text": [
      "C:\\Users\\salda\\Anaconda3\\lib\\site-packages\\sklearn\\neural_network\\_multilayer_perceptron.py:500: ConvergenceWarning: lbfgs failed to converge (status=1):\n",
      "STOP: TOTAL NO. of ITERATIONS REACHED LIMIT.\n",
      "\n",
      "Increase the number of iterations (max_iter) or scale the data as shown in:\n",
      "    https://scikit-learn.org/stable/modules/preprocessing.html\n",
      "  self.n_iter_ = _check_optimize_result(\"lbfgs\", opt_res, self.max_iter)\n"
     ]
    },
    {
     "name": "stdout",
     "output_type": "stream",
     "text": [
      "[CV] END hidden_layer_sizes=33, learning_rate_init=0.1, max_iter=2500, random_state=42, solver=lbfgs; total time= 1.1min\n"
     ]
    },
    {
     "name": "stderr",
     "output_type": "stream",
     "text": [
      "C:\\Users\\salda\\Anaconda3\\lib\\site-packages\\sklearn\\neural_network\\_multilayer_perceptron.py:500: ConvergenceWarning: lbfgs failed to converge (status=1):\n",
      "STOP: TOTAL NO. of ITERATIONS REACHED LIMIT.\n",
      "\n",
      "Increase the number of iterations (max_iter) or scale the data as shown in:\n",
      "    https://scikit-learn.org/stable/modules/preprocessing.html\n",
      "  self.n_iter_ = _check_optimize_result(\"lbfgs\", opt_res, self.max_iter)\n"
     ]
    },
    {
     "name": "stdout",
     "output_type": "stream",
     "text": [
      "[CV] END hidden_layer_sizes=33, learning_rate_init=0.1, max_iter=2500, random_state=42, solver=lbfgs; total time= 1.2min\n"
     ]
    },
    {
     "name": "stderr",
     "output_type": "stream",
     "text": [
      "C:\\Users\\salda\\Anaconda3\\lib\\site-packages\\sklearn\\neural_network\\_multilayer_perceptron.py:500: ConvergenceWarning: lbfgs failed to converge (status=1):\n",
      "STOP: TOTAL NO. of ITERATIONS REACHED LIMIT.\n",
      "\n",
      "Increase the number of iterations (max_iter) or scale the data as shown in:\n",
      "    https://scikit-learn.org/stable/modules/preprocessing.html\n",
      "  self.n_iter_ = _check_optimize_result(\"lbfgs\", opt_res, self.max_iter)\n"
     ]
    },
    {
     "name": "stdout",
     "output_type": "stream",
     "text": [
      "[CV] END hidden_layer_sizes=33, learning_rate_init=0.1, max_iter=2500, random_state=42, solver=lbfgs; total time= 1.1min\n",
      "[CV] END hidden_layer_sizes=33, learning_rate_init=0.1, max_iter=2500, random_state=42, solver=adam; total time=   6.7s\n",
      "[CV] END hidden_layer_sizes=33, learning_rate_init=0.1, max_iter=2500, random_state=42, solver=adam; total time=   3.5s\n",
      "[CV] END hidden_layer_sizes=33, learning_rate_init=0.1, max_iter=2500, random_state=42, solver=adam; total time=  11.0s\n",
      "[CV] END hidden_layer_sizes=33, learning_rate_init=0.1, max_iter=2500, random_state=42, solver=adam; total time=   5.2s\n",
      "[CV] END hidden_layer_sizes=33, learning_rate_init=0.1, max_iter=2500, random_state=42, solver=adam; total time=   4.1s\n"
     ]
    },
    {
     "name": "stderr",
     "output_type": "stream",
     "text": [
      "C:\\Users\\salda\\Anaconda3\\lib\\site-packages\\sklearn\\neural_network\\_multilayer_perceptron.py:500: ConvergenceWarning: lbfgs failed to converge (status=1):\n",
      "STOP: TOTAL NO. of ITERATIONS REACHED LIMIT.\n",
      "\n",
      "Increase the number of iterations (max_iter) or scale the data as shown in:\n",
      "    https://scikit-learn.org/stable/modules/preprocessing.html\n",
      "  self.n_iter_ = _check_optimize_result(\"lbfgs\", opt_res, self.max_iter)\n"
     ]
    },
    {
     "name": "stdout",
     "output_type": "stream",
     "text": [
      "[CV] END hidden_layer_sizes=33, learning_rate_init=0.001, max_iter=2500, random_state=42, solver=lbfgs; total time= 1.1min\n"
     ]
    },
    {
     "name": "stderr",
     "output_type": "stream",
     "text": [
      "C:\\Users\\salda\\Anaconda3\\lib\\site-packages\\sklearn\\neural_network\\_multilayer_perceptron.py:500: ConvergenceWarning: lbfgs failed to converge (status=1):\n",
      "STOP: TOTAL NO. of ITERATIONS REACHED LIMIT.\n",
      "\n",
      "Increase the number of iterations (max_iter) or scale the data as shown in:\n",
      "    https://scikit-learn.org/stable/modules/preprocessing.html\n",
      "  self.n_iter_ = _check_optimize_result(\"lbfgs\", opt_res, self.max_iter)\n"
     ]
    },
    {
     "name": "stdout",
     "output_type": "stream",
     "text": [
      "[CV] END hidden_layer_sizes=33, learning_rate_init=0.001, max_iter=2500, random_state=42, solver=lbfgs; total time= 1.1min\n"
     ]
    },
    {
     "name": "stderr",
     "output_type": "stream",
     "text": [
      "C:\\Users\\salda\\Anaconda3\\lib\\site-packages\\sklearn\\neural_network\\_multilayer_perceptron.py:500: ConvergenceWarning: lbfgs failed to converge (status=1):\n",
      "STOP: TOTAL NO. of ITERATIONS REACHED LIMIT.\n",
      "\n",
      "Increase the number of iterations (max_iter) or scale the data as shown in:\n",
      "    https://scikit-learn.org/stable/modules/preprocessing.html\n",
      "  self.n_iter_ = _check_optimize_result(\"lbfgs\", opt_res, self.max_iter)\n"
     ]
    },
    {
     "name": "stdout",
     "output_type": "stream",
     "text": [
      "[CV] END hidden_layer_sizes=33, learning_rate_init=0.001, max_iter=2500, random_state=42, solver=lbfgs; total time= 1.1min\n"
     ]
    },
    {
     "name": "stderr",
     "output_type": "stream",
     "text": [
      "C:\\Users\\salda\\Anaconda3\\lib\\site-packages\\sklearn\\neural_network\\_multilayer_perceptron.py:500: ConvergenceWarning: lbfgs failed to converge (status=1):\n",
      "STOP: TOTAL NO. of ITERATIONS REACHED LIMIT.\n",
      "\n",
      "Increase the number of iterations (max_iter) or scale the data as shown in:\n",
      "    https://scikit-learn.org/stable/modules/preprocessing.html\n",
      "  self.n_iter_ = _check_optimize_result(\"lbfgs\", opt_res, self.max_iter)\n"
     ]
    },
    {
     "name": "stdout",
     "output_type": "stream",
     "text": [
      "[CV] END hidden_layer_sizes=33, learning_rate_init=0.001, max_iter=2500, random_state=42, solver=lbfgs; total time= 1.1min\n"
     ]
    },
    {
     "name": "stderr",
     "output_type": "stream",
     "text": [
      "C:\\Users\\salda\\Anaconda3\\lib\\site-packages\\sklearn\\neural_network\\_multilayer_perceptron.py:500: ConvergenceWarning: lbfgs failed to converge (status=1):\n",
      "STOP: TOTAL NO. of ITERATIONS REACHED LIMIT.\n",
      "\n",
      "Increase the number of iterations (max_iter) or scale the data as shown in:\n",
      "    https://scikit-learn.org/stable/modules/preprocessing.html\n",
      "  self.n_iter_ = _check_optimize_result(\"lbfgs\", opt_res, self.max_iter)\n"
     ]
    },
    {
     "name": "stdout",
     "output_type": "stream",
     "text": [
      "[CV] END hidden_layer_sizes=33, learning_rate_init=0.001, max_iter=2500, random_state=42, solver=lbfgs; total time= 1.1min\n",
      "[CV] END hidden_layer_sizes=33, learning_rate_init=0.001, max_iter=2500, random_state=42, solver=adam; total time=  21.7s\n",
      "[CV] END hidden_layer_sizes=33, learning_rate_init=0.001, max_iter=2500, random_state=42, solver=adam; total time=  20.3s\n",
      "[CV] END hidden_layer_sizes=33, learning_rate_init=0.001, max_iter=2500, random_state=42, solver=adam; total time=  15.5s\n",
      "[CV] END hidden_layer_sizes=33, learning_rate_init=0.001, max_iter=2500, random_state=42, solver=adam; total time=  33.4s\n",
      "[CV] END hidden_layer_sizes=33, learning_rate_init=0.001, max_iter=2500, random_state=42, solver=adam; total time=  21.8s\n"
     ]
    },
    {
     "name": "stderr",
     "output_type": "stream",
     "text": [
      "C:\\Users\\salda\\Anaconda3\\lib\\site-packages\\sklearn\\neural_network\\_multilayer_perceptron.py:500: ConvergenceWarning: lbfgs failed to converge (status=1):\n",
      "STOP: TOTAL NO. of ITERATIONS REACHED LIMIT.\n",
      "\n",
      "Increase the number of iterations (max_iter) or scale the data as shown in:\n",
      "    https://scikit-learn.org/stable/modules/preprocessing.html\n",
      "  self.n_iter_ = _check_optimize_result(\"lbfgs\", opt_res, self.max_iter)\n"
     ]
    },
    {
     "name": "stdout",
     "output_type": "stream",
     "text": [
      "[CV] END hidden_layer_sizes=33, learning_rate_init=1e-05, max_iter=2500, random_state=42, solver=lbfgs; total time= 1.3min\n"
     ]
    },
    {
     "name": "stderr",
     "output_type": "stream",
     "text": [
      "C:\\Users\\salda\\Anaconda3\\lib\\site-packages\\sklearn\\neural_network\\_multilayer_perceptron.py:500: ConvergenceWarning: lbfgs failed to converge (status=1):\n",
      "STOP: TOTAL NO. of ITERATIONS REACHED LIMIT.\n",
      "\n",
      "Increase the number of iterations (max_iter) or scale the data as shown in:\n",
      "    https://scikit-learn.org/stable/modules/preprocessing.html\n",
      "  self.n_iter_ = _check_optimize_result(\"lbfgs\", opt_res, self.max_iter)\n"
     ]
    },
    {
     "name": "stdout",
     "output_type": "stream",
     "text": [
      "[CV] END hidden_layer_sizes=33, learning_rate_init=1e-05, max_iter=2500, random_state=42, solver=lbfgs; total time= 1.3min\n"
     ]
    },
    {
     "name": "stderr",
     "output_type": "stream",
     "text": [
      "C:\\Users\\salda\\Anaconda3\\lib\\site-packages\\sklearn\\neural_network\\_multilayer_perceptron.py:500: ConvergenceWarning: lbfgs failed to converge (status=1):\n",
      "STOP: TOTAL NO. of ITERATIONS REACHED LIMIT.\n",
      "\n",
      "Increase the number of iterations (max_iter) or scale the data as shown in:\n",
      "    https://scikit-learn.org/stable/modules/preprocessing.html\n",
      "  self.n_iter_ = _check_optimize_result(\"lbfgs\", opt_res, self.max_iter)\n"
     ]
    },
    {
     "name": "stdout",
     "output_type": "stream",
     "text": [
      "[CV] END hidden_layer_sizes=33, learning_rate_init=1e-05, max_iter=2500, random_state=42, solver=lbfgs; total time= 1.2min\n"
     ]
    },
    {
     "name": "stderr",
     "output_type": "stream",
     "text": [
      "C:\\Users\\salda\\Anaconda3\\lib\\site-packages\\sklearn\\neural_network\\_multilayer_perceptron.py:500: ConvergenceWarning: lbfgs failed to converge (status=1):\n",
      "STOP: TOTAL NO. of ITERATIONS REACHED LIMIT.\n",
      "\n",
      "Increase the number of iterations (max_iter) or scale the data as shown in:\n",
      "    https://scikit-learn.org/stable/modules/preprocessing.html\n",
      "  self.n_iter_ = _check_optimize_result(\"lbfgs\", opt_res, self.max_iter)\n"
     ]
    },
    {
     "name": "stdout",
     "output_type": "stream",
     "text": [
      "[CV] END hidden_layer_sizes=33, learning_rate_init=1e-05, max_iter=2500, random_state=42, solver=lbfgs; total time= 1.3min\n"
     ]
    },
    {
     "name": "stderr",
     "output_type": "stream",
     "text": [
      "C:\\Users\\salda\\Anaconda3\\lib\\site-packages\\sklearn\\neural_network\\_multilayer_perceptron.py:500: ConvergenceWarning: lbfgs failed to converge (status=1):\n",
      "STOP: TOTAL NO. of ITERATIONS REACHED LIMIT.\n",
      "\n",
      "Increase the number of iterations (max_iter) or scale the data as shown in:\n",
      "    https://scikit-learn.org/stable/modules/preprocessing.html\n",
      "  self.n_iter_ = _check_optimize_result(\"lbfgs\", opt_res, self.max_iter)\n"
     ]
    },
    {
     "name": "stdout",
     "output_type": "stream",
     "text": [
      "[CV] END hidden_layer_sizes=33, learning_rate_init=1e-05, max_iter=2500, random_state=42, solver=lbfgs; total time= 1.1min\n"
     ]
    },
    {
     "name": "stderr",
     "output_type": "stream",
     "text": [
      "C:\\Users\\salda\\Anaconda3\\lib\\site-packages\\sklearn\\neural_network\\_multilayer_perceptron.py:614: ConvergenceWarning: Stochastic Optimizer: Maximum iterations (2500) reached and the optimization hasn't converged yet.\n",
      "  warnings.warn(\n"
     ]
    },
    {
     "name": "stdout",
     "output_type": "stream",
     "text": [
      "[CV] END hidden_layer_sizes=33, learning_rate_init=1e-05, max_iter=2500, random_state=42, solver=adam; total time= 3.8min\n"
     ]
    },
    {
     "name": "stderr",
     "output_type": "stream",
     "text": [
      "C:\\Users\\salda\\Anaconda3\\lib\\site-packages\\sklearn\\neural_network\\_multilayer_perceptron.py:614: ConvergenceWarning: Stochastic Optimizer: Maximum iterations (2500) reached and the optimization hasn't converged yet.\n",
      "  warnings.warn(\n"
     ]
    },
    {
     "name": "stdout",
     "output_type": "stream",
     "text": [
      "[CV] END hidden_layer_sizes=33, learning_rate_init=1e-05, max_iter=2500, random_state=42, solver=adam; total time= 3.5min\n"
     ]
    },
    {
     "name": "stderr",
     "output_type": "stream",
     "text": [
      "C:\\Users\\salda\\Anaconda3\\lib\\site-packages\\sklearn\\neural_network\\_multilayer_perceptron.py:614: ConvergenceWarning: Stochastic Optimizer: Maximum iterations (2500) reached and the optimization hasn't converged yet.\n",
      "  warnings.warn(\n"
     ]
    },
    {
     "name": "stdout",
     "output_type": "stream",
     "text": [
      "[CV] END hidden_layer_sizes=33, learning_rate_init=1e-05, max_iter=2500, random_state=42, solver=adam; total time= 3.3min\n"
     ]
    },
    {
     "name": "stderr",
     "output_type": "stream",
     "text": [
      "C:\\Users\\salda\\Anaconda3\\lib\\site-packages\\sklearn\\neural_network\\_multilayer_perceptron.py:614: ConvergenceWarning: Stochastic Optimizer: Maximum iterations (2500) reached and the optimization hasn't converged yet.\n",
      "  warnings.warn(\n"
     ]
    },
    {
     "name": "stdout",
     "output_type": "stream",
     "text": [
      "[CV] END hidden_layer_sizes=33, learning_rate_init=1e-05, max_iter=2500, random_state=42, solver=adam; total time= 3.4min\n",
      "[CV] END hidden_layer_sizes=33, learning_rate_init=1e-05, max_iter=2500, random_state=42, solver=adam; total time= 3.4min\n"
     ]
    },
    {
     "name": "stderr",
     "output_type": "stream",
     "text": [
      "C:\\Users\\salda\\Anaconda3\\lib\\site-packages\\sklearn\\neural_network\\_multilayer_perceptron.py:500: ConvergenceWarning: lbfgs failed to converge (status=1):\n",
      "STOP: TOTAL NO. of ITERATIONS REACHED LIMIT.\n",
      "\n",
      "Increase the number of iterations (max_iter) or scale the data as shown in:\n",
      "    https://scikit-learn.org/stable/modules/preprocessing.html\n",
      "  self.n_iter_ = _check_optimize_result(\"lbfgs\", opt_res, self.max_iter)\n"
     ]
    },
    {
     "name": "stdout",
     "output_type": "stream",
     "text": [
      "[CV] END hidden_layer_sizes=34, learning_rate_init=0.1, max_iter=2500, random_state=42, solver=lbfgs; total time= 1.4min\n"
     ]
    },
    {
     "name": "stderr",
     "output_type": "stream",
     "text": [
      "C:\\Users\\salda\\Anaconda3\\lib\\site-packages\\sklearn\\neural_network\\_multilayer_perceptron.py:500: ConvergenceWarning: lbfgs failed to converge (status=1):\n",
      "STOP: TOTAL NO. of ITERATIONS REACHED LIMIT.\n",
      "\n",
      "Increase the number of iterations (max_iter) or scale the data as shown in:\n",
      "    https://scikit-learn.org/stable/modules/preprocessing.html\n",
      "  self.n_iter_ = _check_optimize_result(\"lbfgs\", opt_res, self.max_iter)\n"
     ]
    },
    {
     "name": "stdout",
     "output_type": "stream",
     "text": [
      "[CV] END hidden_layer_sizes=34, learning_rate_init=0.1, max_iter=2500, random_state=42, solver=lbfgs; total time= 2.5min\n"
     ]
    },
    {
     "name": "stderr",
     "output_type": "stream",
     "text": [
      "C:\\Users\\salda\\Anaconda3\\lib\\site-packages\\sklearn\\neural_network\\_multilayer_perceptron.py:500: ConvergenceWarning: lbfgs failed to converge (status=1):\n",
      "STOP: TOTAL NO. of ITERATIONS REACHED LIMIT.\n",
      "\n",
      "Increase the number of iterations (max_iter) or scale the data as shown in:\n",
      "    https://scikit-learn.org/stable/modules/preprocessing.html\n",
      "  self.n_iter_ = _check_optimize_result(\"lbfgs\", opt_res, self.max_iter)\n"
     ]
    },
    {
     "name": "stdout",
     "output_type": "stream",
     "text": [
      "[CV] END hidden_layer_sizes=34, learning_rate_init=0.1, max_iter=2500, random_state=42, solver=lbfgs; total time= 2.1min\n"
     ]
    },
    {
     "name": "stderr",
     "output_type": "stream",
     "text": [
      "C:\\Users\\salda\\Anaconda3\\lib\\site-packages\\sklearn\\neural_network\\_multilayer_perceptron.py:500: ConvergenceWarning: lbfgs failed to converge (status=1):\n",
      "STOP: TOTAL NO. of ITERATIONS REACHED LIMIT.\n",
      "\n",
      "Increase the number of iterations (max_iter) or scale the data as shown in:\n",
      "    https://scikit-learn.org/stable/modules/preprocessing.html\n",
      "  self.n_iter_ = _check_optimize_result(\"lbfgs\", opt_res, self.max_iter)\n"
     ]
    },
    {
     "name": "stdout",
     "output_type": "stream",
     "text": [
      "[CV] END hidden_layer_sizes=34, learning_rate_init=0.1, max_iter=2500, random_state=42, solver=lbfgs; total time= 1.8min\n"
     ]
    },
    {
     "name": "stderr",
     "output_type": "stream",
     "text": [
      "C:\\Users\\salda\\Anaconda3\\lib\\site-packages\\sklearn\\neural_network\\_multilayer_perceptron.py:500: ConvergenceWarning: lbfgs failed to converge (status=1):\n",
      "STOP: TOTAL NO. of ITERATIONS REACHED LIMIT.\n",
      "\n",
      "Increase the number of iterations (max_iter) or scale the data as shown in:\n",
      "    https://scikit-learn.org/stable/modules/preprocessing.html\n",
      "  self.n_iter_ = _check_optimize_result(\"lbfgs\", opt_res, self.max_iter)\n"
     ]
    },
    {
     "name": "stdout",
     "output_type": "stream",
     "text": [
      "[CV] END hidden_layer_sizes=34, learning_rate_init=0.1, max_iter=2500, random_state=42, solver=lbfgs; total time= 1.6min\n",
      "[CV] END hidden_layer_sizes=34, learning_rate_init=0.1, max_iter=2500, random_state=42, solver=adam; total time=   5.1s\n",
      "[CV] END hidden_layer_sizes=34, learning_rate_init=0.1, max_iter=2500, random_state=42, solver=adam; total time=   4.6s\n",
      "[CV] END hidden_layer_sizes=34, learning_rate_init=0.1, max_iter=2500, random_state=42, solver=adam; total time=   2.9s\n",
      "[CV] END hidden_layer_sizes=34, learning_rate_init=0.1, max_iter=2500, random_state=42, solver=adam; total time=   2.6s\n",
      "[CV] END hidden_layer_sizes=34, learning_rate_init=0.1, max_iter=2500, random_state=42, solver=adam; total time=   3.8s\n"
     ]
    },
    {
     "name": "stderr",
     "output_type": "stream",
     "text": [
      "C:\\Users\\salda\\Anaconda3\\lib\\site-packages\\sklearn\\neural_network\\_multilayer_perceptron.py:500: ConvergenceWarning: lbfgs failed to converge (status=1):\n",
      "STOP: TOTAL NO. of ITERATIONS REACHED LIMIT.\n",
      "\n",
      "Increase the number of iterations (max_iter) or scale the data as shown in:\n",
      "    https://scikit-learn.org/stable/modules/preprocessing.html\n",
      "  self.n_iter_ = _check_optimize_result(\"lbfgs\", opt_res, self.max_iter)\n"
     ]
    },
    {
     "name": "stdout",
     "output_type": "stream",
     "text": [
      "[CV] END hidden_layer_sizes=34, learning_rate_init=0.001, max_iter=2500, random_state=42, solver=lbfgs; total time= 1.6min\n"
     ]
    },
    {
     "name": "stderr",
     "output_type": "stream",
     "text": [
      "C:\\Users\\salda\\Anaconda3\\lib\\site-packages\\sklearn\\neural_network\\_multilayer_perceptron.py:500: ConvergenceWarning: lbfgs failed to converge (status=1):\n",
      "STOP: TOTAL NO. of ITERATIONS REACHED LIMIT.\n",
      "\n",
      "Increase the number of iterations (max_iter) or scale the data as shown in:\n",
      "    https://scikit-learn.org/stable/modules/preprocessing.html\n",
      "  self.n_iter_ = _check_optimize_result(\"lbfgs\", opt_res, self.max_iter)\n"
     ]
    },
    {
     "name": "stdout",
     "output_type": "stream",
     "text": [
      "[CV] END hidden_layer_sizes=34, learning_rate_init=0.001, max_iter=2500, random_state=42, solver=lbfgs; total time= 1.3min\n"
     ]
    },
    {
     "name": "stderr",
     "output_type": "stream",
     "text": [
      "C:\\Users\\salda\\Anaconda3\\lib\\site-packages\\sklearn\\neural_network\\_multilayer_perceptron.py:500: ConvergenceWarning: lbfgs failed to converge (status=1):\n",
      "STOP: TOTAL NO. of ITERATIONS REACHED LIMIT.\n",
      "\n",
      "Increase the number of iterations (max_iter) or scale the data as shown in:\n",
      "    https://scikit-learn.org/stable/modules/preprocessing.html\n",
      "  self.n_iter_ = _check_optimize_result(\"lbfgs\", opt_res, self.max_iter)\n"
     ]
    },
    {
     "name": "stdout",
     "output_type": "stream",
     "text": [
      "[CV] END hidden_layer_sizes=34, learning_rate_init=0.001, max_iter=2500, random_state=42, solver=lbfgs; total time= 1.5min\n"
     ]
    },
    {
     "name": "stderr",
     "output_type": "stream",
     "text": [
      "C:\\Users\\salda\\Anaconda3\\lib\\site-packages\\sklearn\\neural_network\\_multilayer_perceptron.py:500: ConvergenceWarning: lbfgs failed to converge (status=1):\n",
      "STOP: TOTAL NO. of ITERATIONS REACHED LIMIT.\n",
      "\n",
      "Increase the number of iterations (max_iter) or scale the data as shown in:\n",
      "    https://scikit-learn.org/stable/modules/preprocessing.html\n",
      "  self.n_iter_ = _check_optimize_result(\"lbfgs\", opt_res, self.max_iter)\n"
     ]
    },
    {
     "name": "stdout",
     "output_type": "stream",
     "text": [
      "[CV] END hidden_layer_sizes=34, learning_rate_init=0.001, max_iter=2500, random_state=42, solver=lbfgs; total time= 1.6min\n"
     ]
    },
    {
     "name": "stderr",
     "output_type": "stream",
     "text": [
      "C:\\Users\\salda\\Anaconda3\\lib\\site-packages\\sklearn\\neural_network\\_multilayer_perceptron.py:500: ConvergenceWarning: lbfgs failed to converge (status=1):\n",
      "STOP: TOTAL NO. of ITERATIONS REACHED LIMIT.\n",
      "\n",
      "Increase the number of iterations (max_iter) or scale the data as shown in:\n",
      "    https://scikit-learn.org/stable/modules/preprocessing.html\n",
      "  self.n_iter_ = _check_optimize_result(\"lbfgs\", opt_res, self.max_iter)\n"
     ]
    },
    {
     "name": "stdout",
     "output_type": "stream",
     "text": [
      "[CV] END hidden_layer_sizes=34, learning_rate_init=0.001, max_iter=2500, random_state=42, solver=lbfgs; total time= 1.7min\n",
      "[CV] END hidden_layer_sizes=34, learning_rate_init=0.001, max_iter=2500, random_state=42, solver=adam; total time=  36.9s\n",
      "[CV] END hidden_layer_sizes=34, learning_rate_init=0.001, max_iter=2500, random_state=42, solver=adam; total time= 1.1min\n",
      "[CV] END hidden_layer_sizes=34, learning_rate_init=0.001, max_iter=2500, random_state=42, solver=adam; total time=  21.8s\n",
      "[CV] END hidden_layer_sizes=34, learning_rate_init=0.001, max_iter=2500, random_state=42, solver=adam; total time=  28.8s\n",
      "[CV] END hidden_layer_sizes=34, learning_rate_init=0.001, max_iter=2500, random_state=42, solver=adam; total time=  30.6s\n"
     ]
    },
    {
     "name": "stderr",
     "output_type": "stream",
     "text": [
      "C:\\Users\\salda\\Anaconda3\\lib\\site-packages\\sklearn\\neural_network\\_multilayer_perceptron.py:500: ConvergenceWarning: lbfgs failed to converge (status=1):\n",
      "STOP: TOTAL NO. of ITERATIONS REACHED LIMIT.\n",
      "\n",
      "Increase the number of iterations (max_iter) or scale the data as shown in:\n",
      "    https://scikit-learn.org/stable/modules/preprocessing.html\n",
      "  self.n_iter_ = _check_optimize_result(\"lbfgs\", opt_res, self.max_iter)\n"
     ]
    },
    {
     "name": "stdout",
     "output_type": "stream",
     "text": [
      "[CV] END hidden_layer_sizes=34, learning_rate_init=1e-05, max_iter=2500, random_state=42, solver=lbfgs; total time= 1.1min\n"
     ]
    },
    {
     "name": "stderr",
     "output_type": "stream",
     "text": [
      "C:\\Users\\salda\\Anaconda3\\lib\\site-packages\\sklearn\\neural_network\\_multilayer_perceptron.py:500: ConvergenceWarning: lbfgs failed to converge (status=1):\n",
      "STOP: TOTAL NO. of ITERATIONS REACHED LIMIT.\n",
      "\n",
      "Increase the number of iterations (max_iter) or scale the data as shown in:\n",
      "    https://scikit-learn.org/stable/modules/preprocessing.html\n",
      "  self.n_iter_ = _check_optimize_result(\"lbfgs\", opt_res, self.max_iter)\n"
     ]
    },
    {
     "name": "stdout",
     "output_type": "stream",
     "text": [
      "[CV] END hidden_layer_sizes=34, learning_rate_init=1e-05, max_iter=2500, random_state=42, solver=lbfgs; total time= 1.1min\n"
     ]
    },
    {
     "name": "stderr",
     "output_type": "stream",
     "text": [
      "C:\\Users\\salda\\Anaconda3\\lib\\site-packages\\sklearn\\neural_network\\_multilayer_perceptron.py:500: ConvergenceWarning: lbfgs failed to converge (status=1):\n",
      "STOP: TOTAL NO. of ITERATIONS REACHED LIMIT.\n",
      "\n",
      "Increase the number of iterations (max_iter) or scale the data as shown in:\n",
      "    https://scikit-learn.org/stable/modules/preprocessing.html\n",
      "  self.n_iter_ = _check_optimize_result(\"lbfgs\", opt_res, self.max_iter)\n"
     ]
    },
    {
     "name": "stdout",
     "output_type": "stream",
     "text": [
      "[CV] END hidden_layer_sizes=34, learning_rate_init=1e-05, max_iter=2500, random_state=42, solver=lbfgs; total time= 1.2min\n"
     ]
    },
    {
     "name": "stderr",
     "output_type": "stream",
     "text": [
      "C:\\Users\\salda\\Anaconda3\\lib\\site-packages\\sklearn\\neural_network\\_multilayer_perceptron.py:500: ConvergenceWarning: lbfgs failed to converge (status=1):\n",
      "STOP: TOTAL NO. of ITERATIONS REACHED LIMIT.\n",
      "\n",
      "Increase the number of iterations (max_iter) or scale the data as shown in:\n",
      "    https://scikit-learn.org/stable/modules/preprocessing.html\n",
      "  self.n_iter_ = _check_optimize_result(\"lbfgs\", opt_res, self.max_iter)\n"
     ]
    },
    {
     "name": "stdout",
     "output_type": "stream",
     "text": [
      "[CV] END hidden_layer_sizes=34, learning_rate_init=1e-05, max_iter=2500, random_state=42, solver=lbfgs; total time= 1.1min\n"
     ]
    },
    {
     "name": "stderr",
     "output_type": "stream",
     "text": [
      "C:\\Users\\salda\\Anaconda3\\lib\\site-packages\\sklearn\\neural_network\\_multilayer_perceptron.py:500: ConvergenceWarning: lbfgs failed to converge (status=1):\n",
      "STOP: TOTAL NO. of ITERATIONS REACHED LIMIT.\n",
      "\n",
      "Increase the number of iterations (max_iter) or scale the data as shown in:\n",
      "    https://scikit-learn.org/stable/modules/preprocessing.html\n",
      "  self.n_iter_ = _check_optimize_result(\"lbfgs\", opt_res, self.max_iter)\n"
     ]
    },
    {
     "name": "stdout",
     "output_type": "stream",
     "text": [
      "[CV] END hidden_layer_sizes=34, learning_rate_init=1e-05, max_iter=2500, random_state=42, solver=lbfgs; total time= 1.1min\n"
     ]
    },
    {
     "name": "stderr",
     "output_type": "stream",
     "text": [
      "C:\\Users\\salda\\Anaconda3\\lib\\site-packages\\sklearn\\neural_network\\_multilayer_perceptron.py:614: ConvergenceWarning: Stochastic Optimizer: Maximum iterations (2500) reached and the optimization hasn't converged yet.\n",
      "  warnings.warn(\n"
     ]
    },
    {
     "name": "stdout",
     "output_type": "stream",
     "text": [
      "[CV] END hidden_layer_sizes=34, learning_rate_init=1e-05, max_iter=2500, random_state=42, solver=adam; total time= 3.2min\n"
     ]
    },
    {
     "name": "stderr",
     "output_type": "stream",
     "text": [
      "C:\\Users\\salda\\Anaconda3\\lib\\site-packages\\sklearn\\neural_network\\_multilayer_perceptron.py:614: ConvergenceWarning: Stochastic Optimizer: Maximum iterations (2500) reached and the optimization hasn't converged yet.\n",
      "  warnings.warn(\n"
     ]
    },
    {
     "name": "stdout",
     "output_type": "stream",
     "text": [
      "[CV] END hidden_layer_sizes=34, learning_rate_init=1e-05, max_iter=2500, random_state=42, solver=adam; total time= 3.2min\n"
     ]
    },
    {
     "name": "stderr",
     "output_type": "stream",
     "text": [
      "C:\\Users\\salda\\Anaconda3\\lib\\site-packages\\sklearn\\neural_network\\_multilayer_perceptron.py:614: ConvergenceWarning: Stochastic Optimizer: Maximum iterations (2500) reached and the optimization hasn't converged yet.\n",
      "  warnings.warn(\n"
     ]
    },
    {
     "name": "stdout",
     "output_type": "stream",
     "text": [
      "[CV] END hidden_layer_sizes=34, learning_rate_init=1e-05, max_iter=2500, random_state=42, solver=adam; total time= 3.5min\n"
     ]
    },
    {
     "name": "stderr",
     "output_type": "stream",
     "text": [
      "C:\\Users\\salda\\Anaconda3\\lib\\site-packages\\sklearn\\neural_network\\_multilayer_perceptron.py:614: ConvergenceWarning: Stochastic Optimizer: Maximum iterations (2500) reached and the optimization hasn't converged yet.\n",
      "  warnings.warn(\n"
     ]
    },
    {
     "name": "stdout",
     "output_type": "stream",
     "text": [
      "[CV] END hidden_layer_sizes=34, learning_rate_init=1e-05, max_iter=2500, random_state=42, solver=adam; total time= 3.3min\n"
     ]
    },
    {
     "name": "stderr",
     "output_type": "stream",
     "text": [
      "C:\\Users\\salda\\Anaconda3\\lib\\site-packages\\sklearn\\neural_network\\_multilayer_perceptron.py:614: ConvergenceWarning: Stochastic Optimizer: Maximum iterations (2500) reached and the optimization hasn't converged yet.\n",
      "  warnings.warn(\n"
     ]
    },
    {
     "name": "stdout",
     "output_type": "stream",
     "text": [
      "[CV] END hidden_layer_sizes=34, learning_rate_init=1e-05, max_iter=2500, random_state=42, solver=adam; total time= 4.3min\n"
     ]
    },
    {
     "name": "stderr",
     "output_type": "stream",
     "text": [
      "C:\\Users\\salda\\Anaconda3\\lib\\site-packages\\sklearn\\neural_network\\_multilayer_perceptron.py:500: ConvergenceWarning: lbfgs failed to converge (status=1):\n",
      "STOP: TOTAL NO. of ITERATIONS REACHED LIMIT.\n",
      "\n",
      "Increase the number of iterations (max_iter) or scale the data as shown in:\n",
      "    https://scikit-learn.org/stable/modules/preprocessing.html\n",
      "  self.n_iter_ = _check_optimize_result(\"lbfgs\", opt_res, self.max_iter)\n"
     ]
    },
    {
     "name": "stdout",
     "output_type": "stream",
     "text": [
      "[CV] END hidden_layer_sizes=35, learning_rate_init=0.1, max_iter=2500, random_state=42, solver=lbfgs; total time= 1.3min\n"
     ]
    },
    {
     "name": "stderr",
     "output_type": "stream",
     "text": [
      "C:\\Users\\salda\\Anaconda3\\lib\\site-packages\\sklearn\\neural_network\\_multilayer_perceptron.py:500: ConvergenceWarning: lbfgs failed to converge (status=1):\n",
      "STOP: TOTAL NO. of ITERATIONS REACHED LIMIT.\n",
      "\n",
      "Increase the number of iterations (max_iter) or scale the data as shown in:\n",
      "    https://scikit-learn.org/stable/modules/preprocessing.html\n",
      "  self.n_iter_ = _check_optimize_result(\"lbfgs\", opt_res, self.max_iter)\n"
     ]
    },
    {
     "name": "stdout",
     "output_type": "stream",
     "text": [
      "[CV] END hidden_layer_sizes=35, learning_rate_init=0.1, max_iter=2500, random_state=42, solver=lbfgs; total time= 1.4min\n"
     ]
    },
    {
     "name": "stderr",
     "output_type": "stream",
     "text": [
      "C:\\Users\\salda\\Anaconda3\\lib\\site-packages\\sklearn\\neural_network\\_multilayer_perceptron.py:500: ConvergenceWarning: lbfgs failed to converge (status=1):\n",
      "STOP: TOTAL NO. of ITERATIONS REACHED LIMIT.\n",
      "\n",
      "Increase the number of iterations (max_iter) or scale the data as shown in:\n",
      "    https://scikit-learn.org/stable/modules/preprocessing.html\n",
      "  self.n_iter_ = _check_optimize_result(\"lbfgs\", opt_res, self.max_iter)\n"
     ]
    },
    {
     "name": "stdout",
     "output_type": "stream",
     "text": [
      "[CV] END hidden_layer_sizes=35, learning_rate_init=0.1, max_iter=2500, random_state=42, solver=lbfgs; total time= 1.8min\n"
     ]
    },
    {
     "name": "stderr",
     "output_type": "stream",
     "text": [
      "C:\\Users\\salda\\Anaconda3\\lib\\site-packages\\sklearn\\neural_network\\_multilayer_perceptron.py:500: ConvergenceWarning: lbfgs failed to converge (status=1):\n",
      "STOP: TOTAL NO. of ITERATIONS REACHED LIMIT.\n",
      "\n",
      "Increase the number of iterations (max_iter) or scale the data as shown in:\n",
      "    https://scikit-learn.org/stable/modules/preprocessing.html\n",
      "  self.n_iter_ = _check_optimize_result(\"lbfgs\", opt_res, self.max_iter)\n"
     ]
    },
    {
     "name": "stdout",
     "output_type": "stream",
     "text": [
      "[CV] END hidden_layer_sizes=35, learning_rate_init=0.1, max_iter=2500, random_state=42, solver=lbfgs; total time= 1.4min\n"
     ]
    },
    {
     "name": "stderr",
     "output_type": "stream",
     "text": [
      "C:\\Users\\salda\\Anaconda3\\lib\\site-packages\\sklearn\\neural_network\\_multilayer_perceptron.py:500: ConvergenceWarning: lbfgs failed to converge (status=1):\n",
      "STOP: TOTAL NO. of ITERATIONS REACHED LIMIT.\n",
      "\n",
      "Increase the number of iterations (max_iter) or scale the data as shown in:\n",
      "    https://scikit-learn.org/stable/modules/preprocessing.html\n",
      "  self.n_iter_ = _check_optimize_result(\"lbfgs\", opt_res, self.max_iter)\n"
     ]
    },
    {
     "name": "stdout",
     "output_type": "stream",
     "text": [
      "[CV] END hidden_layer_sizes=35, learning_rate_init=0.1, max_iter=2500, random_state=42, solver=lbfgs; total time= 1.5min\n",
      "[CV] END hidden_layer_sizes=35, learning_rate_init=0.1, max_iter=2500, random_state=42, solver=adam; total time=   5.7s\n",
      "[CV] END hidden_layer_sizes=35, learning_rate_init=0.1, max_iter=2500, random_state=42, solver=adam; total time=   4.3s\n",
      "[CV] END hidden_layer_sizes=35, learning_rate_init=0.1, max_iter=2500, random_state=42, solver=adam; total time=   3.7s\n",
      "[CV] END hidden_layer_sizes=35, learning_rate_init=0.1, max_iter=2500, random_state=42, solver=adam; total time=   1.9s\n",
      "[CV] END hidden_layer_sizes=35, learning_rate_init=0.1, max_iter=2500, random_state=42, solver=adam; total time=   8.0s\n"
     ]
    },
    {
     "name": "stderr",
     "output_type": "stream",
     "text": [
      "C:\\Users\\salda\\Anaconda3\\lib\\site-packages\\sklearn\\neural_network\\_multilayer_perceptron.py:500: ConvergenceWarning: lbfgs failed to converge (status=1):\n",
      "STOP: TOTAL NO. of ITERATIONS REACHED LIMIT.\n",
      "\n",
      "Increase the number of iterations (max_iter) or scale the data as shown in:\n",
      "    https://scikit-learn.org/stable/modules/preprocessing.html\n",
      "  self.n_iter_ = _check_optimize_result(\"lbfgs\", opt_res, self.max_iter)\n"
     ]
    },
    {
     "name": "stdout",
     "output_type": "stream",
     "text": [
      "[CV] END hidden_layer_sizes=35, learning_rate_init=0.001, max_iter=2500, random_state=42, solver=lbfgs; total time= 1.5min\n"
     ]
    },
    {
     "name": "stderr",
     "output_type": "stream",
     "text": [
      "C:\\Users\\salda\\Anaconda3\\lib\\site-packages\\sklearn\\neural_network\\_multilayer_perceptron.py:500: ConvergenceWarning: lbfgs failed to converge (status=1):\n",
      "STOP: TOTAL NO. of ITERATIONS REACHED LIMIT.\n",
      "\n",
      "Increase the number of iterations (max_iter) or scale the data as shown in:\n",
      "    https://scikit-learn.org/stable/modules/preprocessing.html\n",
      "  self.n_iter_ = _check_optimize_result(\"lbfgs\", opt_res, self.max_iter)\n"
     ]
    },
    {
     "name": "stdout",
     "output_type": "stream",
     "text": [
      "[CV] END hidden_layer_sizes=35, learning_rate_init=0.001, max_iter=2500, random_state=42, solver=lbfgs; total time= 1.2min\n"
     ]
    },
    {
     "name": "stderr",
     "output_type": "stream",
     "text": [
      "C:\\Users\\salda\\Anaconda3\\lib\\site-packages\\sklearn\\neural_network\\_multilayer_perceptron.py:500: ConvergenceWarning: lbfgs failed to converge (status=1):\n",
      "STOP: TOTAL NO. of ITERATIONS REACHED LIMIT.\n",
      "\n",
      "Increase the number of iterations (max_iter) or scale the data as shown in:\n",
      "    https://scikit-learn.org/stable/modules/preprocessing.html\n",
      "  self.n_iter_ = _check_optimize_result(\"lbfgs\", opt_res, self.max_iter)\n"
     ]
    },
    {
     "name": "stdout",
     "output_type": "stream",
     "text": [
      "[CV] END hidden_layer_sizes=35, learning_rate_init=0.001, max_iter=2500, random_state=42, solver=lbfgs; total time= 1.4min\n"
     ]
    },
    {
     "name": "stderr",
     "output_type": "stream",
     "text": [
      "C:\\Users\\salda\\Anaconda3\\lib\\site-packages\\sklearn\\neural_network\\_multilayer_perceptron.py:500: ConvergenceWarning: lbfgs failed to converge (status=1):\n",
      "STOP: TOTAL NO. of ITERATIONS REACHED LIMIT.\n",
      "\n",
      "Increase the number of iterations (max_iter) or scale the data as shown in:\n",
      "    https://scikit-learn.org/stable/modules/preprocessing.html\n",
      "  self.n_iter_ = _check_optimize_result(\"lbfgs\", opt_res, self.max_iter)\n"
     ]
    },
    {
     "name": "stdout",
     "output_type": "stream",
     "text": [
      "[CV] END hidden_layer_sizes=35, learning_rate_init=0.001, max_iter=2500, random_state=42, solver=lbfgs; total time= 1.2min\n"
     ]
    },
    {
     "name": "stderr",
     "output_type": "stream",
     "text": [
      "C:\\Users\\salda\\Anaconda3\\lib\\site-packages\\sklearn\\neural_network\\_multilayer_perceptron.py:500: ConvergenceWarning: lbfgs failed to converge (status=1):\n",
      "STOP: TOTAL NO. of ITERATIONS REACHED LIMIT.\n",
      "\n",
      "Increase the number of iterations (max_iter) or scale the data as shown in:\n",
      "    https://scikit-learn.org/stable/modules/preprocessing.html\n",
      "  self.n_iter_ = _check_optimize_result(\"lbfgs\", opt_res, self.max_iter)\n"
     ]
    },
    {
     "name": "stdout",
     "output_type": "stream",
     "text": [
      "[CV] END hidden_layer_sizes=35, learning_rate_init=0.001, max_iter=2500, random_state=42, solver=lbfgs; total time= 1.2min\n",
      "[CV] END hidden_layer_sizes=35, learning_rate_init=0.001, max_iter=2500, random_state=42, solver=adam; total time=  58.8s\n",
      "[CV] END hidden_layer_sizes=35, learning_rate_init=0.001, max_iter=2500, random_state=42, solver=adam; total time= 1.1min\n",
      "[CV] END hidden_layer_sizes=35, learning_rate_init=0.001, max_iter=2500, random_state=42, solver=adam; total time=  46.8s\n",
      "[CV] END hidden_layer_sizes=35, learning_rate_init=0.001, max_iter=2500, random_state=42, solver=adam; total time=  27.8s\n",
      "[CV] END hidden_layer_sizes=35, learning_rate_init=0.001, max_iter=2500, random_state=42, solver=adam; total time=  29.6s\n"
     ]
    },
    {
     "name": "stderr",
     "output_type": "stream",
     "text": [
      "C:\\Users\\salda\\Anaconda3\\lib\\site-packages\\sklearn\\neural_network\\_multilayer_perceptron.py:500: ConvergenceWarning: lbfgs failed to converge (status=1):\n",
      "STOP: TOTAL NO. of ITERATIONS REACHED LIMIT.\n",
      "\n",
      "Increase the number of iterations (max_iter) or scale the data as shown in:\n",
      "    https://scikit-learn.org/stable/modules/preprocessing.html\n",
      "  self.n_iter_ = _check_optimize_result(\"lbfgs\", opt_res, self.max_iter)\n"
     ]
    },
    {
     "name": "stdout",
     "output_type": "stream",
     "text": [
      "[CV] END hidden_layer_sizes=35, learning_rate_init=1e-05, max_iter=2500, random_state=42, solver=lbfgs; total time= 1.2min\n"
     ]
    },
    {
     "name": "stderr",
     "output_type": "stream",
     "text": [
      "C:\\Users\\salda\\Anaconda3\\lib\\site-packages\\sklearn\\neural_network\\_multilayer_perceptron.py:500: ConvergenceWarning: lbfgs failed to converge (status=1):\n",
      "STOP: TOTAL NO. of ITERATIONS REACHED LIMIT.\n",
      "\n",
      "Increase the number of iterations (max_iter) or scale the data as shown in:\n",
      "    https://scikit-learn.org/stable/modules/preprocessing.html\n",
      "  self.n_iter_ = _check_optimize_result(\"lbfgs\", opt_res, self.max_iter)\n"
     ]
    },
    {
     "name": "stdout",
     "output_type": "stream",
     "text": [
      "[CV] END hidden_layer_sizes=35, learning_rate_init=1e-05, max_iter=2500, random_state=42, solver=lbfgs; total time= 1.2min\n"
     ]
    },
    {
     "name": "stderr",
     "output_type": "stream",
     "text": [
      "C:\\Users\\salda\\Anaconda3\\lib\\site-packages\\sklearn\\neural_network\\_multilayer_perceptron.py:500: ConvergenceWarning: lbfgs failed to converge (status=1):\n",
      "STOP: TOTAL NO. of ITERATIONS REACHED LIMIT.\n",
      "\n",
      "Increase the number of iterations (max_iter) or scale the data as shown in:\n",
      "    https://scikit-learn.org/stable/modules/preprocessing.html\n",
      "  self.n_iter_ = _check_optimize_result(\"lbfgs\", opt_res, self.max_iter)\n"
     ]
    },
    {
     "name": "stdout",
     "output_type": "stream",
     "text": [
      "[CV] END hidden_layer_sizes=35, learning_rate_init=1e-05, max_iter=2500, random_state=42, solver=lbfgs; total time= 1.2min\n"
     ]
    },
    {
     "name": "stderr",
     "output_type": "stream",
     "text": [
      "C:\\Users\\salda\\Anaconda3\\lib\\site-packages\\sklearn\\neural_network\\_multilayer_perceptron.py:500: ConvergenceWarning: lbfgs failed to converge (status=1):\n",
      "STOP: TOTAL NO. of ITERATIONS REACHED LIMIT.\n",
      "\n",
      "Increase the number of iterations (max_iter) or scale the data as shown in:\n",
      "    https://scikit-learn.org/stable/modules/preprocessing.html\n",
      "  self.n_iter_ = _check_optimize_result(\"lbfgs\", opt_res, self.max_iter)\n"
     ]
    },
    {
     "name": "stdout",
     "output_type": "stream",
     "text": [
      "[CV] END hidden_layer_sizes=35, learning_rate_init=1e-05, max_iter=2500, random_state=42, solver=lbfgs; total time= 1.1min\n"
     ]
    },
    {
     "name": "stderr",
     "output_type": "stream",
     "text": [
      "C:\\Users\\salda\\Anaconda3\\lib\\site-packages\\sklearn\\neural_network\\_multilayer_perceptron.py:500: ConvergenceWarning: lbfgs failed to converge (status=1):\n",
      "STOP: TOTAL NO. of ITERATIONS REACHED LIMIT.\n",
      "\n",
      "Increase the number of iterations (max_iter) or scale the data as shown in:\n",
      "    https://scikit-learn.org/stable/modules/preprocessing.html\n",
      "  self.n_iter_ = _check_optimize_result(\"lbfgs\", opt_res, self.max_iter)\n"
     ]
    },
    {
     "name": "stdout",
     "output_type": "stream",
     "text": [
      "[CV] END hidden_layer_sizes=35, learning_rate_init=1e-05, max_iter=2500, random_state=42, solver=lbfgs; total time= 1.1min\n"
     ]
    },
    {
     "name": "stderr",
     "output_type": "stream",
     "text": [
      "C:\\Users\\salda\\Anaconda3\\lib\\site-packages\\sklearn\\neural_network\\_multilayer_perceptron.py:614: ConvergenceWarning: Stochastic Optimizer: Maximum iterations (2500) reached and the optimization hasn't converged yet.\n",
      "  warnings.warn(\n"
     ]
    },
    {
     "name": "stdout",
     "output_type": "stream",
     "text": [
      "[CV] END hidden_layer_sizes=35, learning_rate_init=1e-05, max_iter=2500, random_state=42, solver=adam; total time= 3.6min\n"
     ]
    },
    {
     "name": "stderr",
     "output_type": "stream",
     "text": [
      "C:\\Users\\salda\\Anaconda3\\lib\\site-packages\\sklearn\\neural_network\\_multilayer_perceptron.py:614: ConvergenceWarning: Stochastic Optimizer: Maximum iterations (2500) reached and the optimization hasn't converged yet.\n",
      "  warnings.warn(\n"
     ]
    },
    {
     "name": "stdout",
     "output_type": "stream",
     "text": [
      "[CV] END hidden_layer_sizes=35, learning_rate_init=1e-05, max_iter=2500, random_state=42, solver=adam; total time= 3.4min\n"
     ]
    },
    {
     "name": "stderr",
     "output_type": "stream",
     "text": [
      "C:\\Users\\salda\\Anaconda3\\lib\\site-packages\\sklearn\\neural_network\\_multilayer_perceptron.py:614: ConvergenceWarning: Stochastic Optimizer: Maximum iterations (2500) reached and the optimization hasn't converged yet.\n",
      "  warnings.warn(\n"
     ]
    },
    {
     "name": "stdout",
     "output_type": "stream",
     "text": [
      "[CV] END hidden_layer_sizes=35, learning_rate_init=1e-05, max_iter=2500, random_state=42, solver=adam; total time= 3.3min\n"
     ]
    },
    {
     "name": "stderr",
     "output_type": "stream",
     "text": [
      "C:\\Users\\salda\\Anaconda3\\lib\\site-packages\\sklearn\\neural_network\\_multilayer_perceptron.py:614: ConvergenceWarning: Stochastic Optimizer: Maximum iterations (2500) reached and the optimization hasn't converged yet.\n",
      "  warnings.warn(\n"
     ]
    },
    {
     "name": "stdout",
     "output_type": "stream",
     "text": [
      "[CV] END hidden_layer_sizes=35, learning_rate_init=1e-05, max_iter=2500, random_state=42, solver=adam; total time= 3.5min\n"
     ]
    },
    {
     "name": "stderr",
     "output_type": "stream",
     "text": [
      "C:\\Users\\salda\\Anaconda3\\lib\\site-packages\\sklearn\\neural_network\\_multilayer_perceptron.py:614: ConvergenceWarning: Stochastic Optimizer: Maximum iterations (2500) reached and the optimization hasn't converged yet.\n",
      "  warnings.warn(\n"
     ]
    },
    {
     "name": "stdout",
     "output_type": "stream",
     "text": [
      "[CV] END hidden_layer_sizes=35, learning_rate_init=1e-05, max_iter=2500, random_state=42, solver=adam; total time= 3.2min\n"
     ]
    },
    {
     "name": "stderr",
     "output_type": "stream",
     "text": [
      "C:\\Users\\salda\\Anaconda3\\lib\\site-packages\\sklearn\\neural_network\\_multilayer_perceptron.py:500: ConvergenceWarning: lbfgs failed to converge (status=1):\n",
      "STOP: TOTAL NO. of ITERATIONS REACHED LIMIT.\n",
      "\n",
      "Increase the number of iterations (max_iter) or scale the data as shown in:\n",
      "    https://scikit-learn.org/stable/modules/preprocessing.html\n",
      "  self.n_iter_ = _check_optimize_result(\"lbfgs\", opt_res, self.max_iter)\n"
     ]
    },
    {
     "name": "stdout",
     "output_type": "stream",
     "text": [
      "[CV] END hidden_layer_sizes=36, learning_rate_init=0.1, max_iter=2500, random_state=42, solver=lbfgs; total time= 1.2min\n"
     ]
    },
    {
     "name": "stderr",
     "output_type": "stream",
     "text": [
      "C:\\Users\\salda\\Anaconda3\\lib\\site-packages\\sklearn\\neural_network\\_multilayer_perceptron.py:500: ConvergenceWarning: lbfgs failed to converge (status=1):\n",
      "STOP: TOTAL NO. of ITERATIONS REACHED LIMIT.\n",
      "\n",
      "Increase the number of iterations (max_iter) or scale the data as shown in:\n",
      "    https://scikit-learn.org/stable/modules/preprocessing.html\n",
      "  self.n_iter_ = _check_optimize_result(\"lbfgs\", opt_res, self.max_iter)\n"
     ]
    },
    {
     "name": "stdout",
     "output_type": "stream",
     "text": [
      "[CV] END hidden_layer_sizes=36, learning_rate_init=0.1, max_iter=2500, random_state=42, solver=lbfgs; total time= 1.2min\n"
     ]
    },
    {
     "name": "stderr",
     "output_type": "stream",
     "text": [
      "C:\\Users\\salda\\Anaconda3\\lib\\site-packages\\sklearn\\neural_network\\_multilayer_perceptron.py:500: ConvergenceWarning: lbfgs failed to converge (status=1):\n",
      "STOP: TOTAL NO. of ITERATIONS REACHED LIMIT.\n",
      "\n",
      "Increase the number of iterations (max_iter) or scale the data as shown in:\n",
      "    https://scikit-learn.org/stable/modules/preprocessing.html\n",
      "  self.n_iter_ = _check_optimize_result(\"lbfgs\", opt_res, self.max_iter)\n"
     ]
    },
    {
     "name": "stdout",
     "output_type": "stream",
     "text": [
      "[CV] END hidden_layer_sizes=36, learning_rate_init=0.1, max_iter=2500, random_state=42, solver=lbfgs; total time= 1.2min\n"
     ]
    },
    {
     "name": "stderr",
     "output_type": "stream",
     "text": [
      "C:\\Users\\salda\\Anaconda3\\lib\\site-packages\\sklearn\\neural_network\\_multilayer_perceptron.py:500: ConvergenceWarning: lbfgs failed to converge (status=1):\n",
      "STOP: TOTAL NO. of ITERATIONS REACHED LIMIT.\n",
      "\n",
      "Increase the number of iterations (max_iter) or scale the data as shown in:\n",
      "    https://scikit-learn.org/stable/modules/preprocessing.html\n",
      "  self.n_iter_ = _check_optimize_result(\"lbfgs\", opt_res, self.max_iter)\n"
     ]
    },
    {
     "name": "stdout",
     "output_type": "stream",
     "text": [
      "[CV] END hidden_layer_sizes=36, learning_rate_init=0.1, max_iter=2500, random_state=42, solver=lbfgs; total time= 1.2min\n"
     ]
    },
    {
     "name": "stderr",
     "output_type": "stream",
     "text": [
      "C:\\Users\\salda\\Anaconda3\\lib\\site-packages\\sklearn\\neural_network\\_multilayer_perceptron.py:500: ConvergenceWarning: lbfgs failed to converge (status=1):\n",
      "STOP: TOTAL NO. of ITERATIONS REACHED LIMIT.\n",
      "\n",
      "Increase the number of iterations (max_iter) or scale the data as shown in:\n",
      "    https://scikit-learn.org/stable/modules/preprocessing.html\n",
      "  self.n_iter_ = _check_optimize_result(\"lbfgs\", opt_res, self.max_iter)\n"
     ]
    },
    {
     "name": "stdout",
     "output_type": "stream",
     "text": [
      "[CV] END hidden_layer_sizes=36, learning_rate_init=0.1, max_iter=2500, random_state=42, solver=lbfgs; total time= 1.1min\n",
      "[CV] END hidden_layer_sizes=36, learning_rate_init=0.1, max_iter=2500, random_state=42, solver=adam; total time=   4.3s\n",
      "[CV] END hidden_layer_sizes=36, learning_rate_init=0.1, max_iter=2500, random_state=42, solver=adam; total time=   3.9s\n",
      "[CV] END hidden_layer_sizes=36, learning_rate_init=0.1, max_iter=2500, random_state=42, solver=adam; total time=   5.0s\n",
      "[CV] END hidden_layer_sizes=36, learning_rate_init=0.1, max_iter=2500, random_state=42, solver=adam; total time=   2.8s\n",
      "[CV] END hidden_layer_sizes=36, learning_rate_init=0.1, max_iter=2500, random_state=42, solver=adam; total time=   3.0s\n"
     ]
    },
    {
     "name": "stderr",
     "output_type": "stream",
     "text": [
      "C:\\Users\\salda\\Anaconda3\\lib\\site-packages\\sklearn\\neural_network\\_multilayer_perceptron.py:500: ConvergenceWarning: lbfgs failed to converge (status=1):\n",
      "STOP: TOTAL NO. of ITERATIONS REACHED LIMIT.\n",
      "\n",
      "Increase the number of iterations (max_iter) or scale the data as shown in:\n",
      "    https://scikit-learn.org/stable/modules/preprocessing.html\n",
      "  self.n_iter_ = _check_optimize_result(\"lbfgs\", opt_res, self.max_iter)\n"
     ]
    },
    {
     "name": "stdout",
     "output_type": "stream",
     "text": [
      "[CV] END hidden_layer_sizes=36, learning_rate_init=0.001, max_iter=2500, random_state=42, solver=lbfgs; total time= 1.2min\n"
     ]
    },
    {
     "name": "stderr",
     "output_type": "stream",
     "text": [
      "C:\\Users\\salda\\Anaconda3\\lib\\site-packages\\sklearn\\neural_network\\_multilayer_perceptron.py:500: ConvergenceWarning: lbfgs failed to converge (status=1):\n",
      "STOP: TOTAL NO. of ITERATIONS REACHED LIMIT.\n",
      "\n",
      "Increase the number of iterations (max_iter) or scale the data as shown in:\n",
      "    https://scikit-learn.org/stable/modules/preprocessing.html\n",
      "  self.n_iter_ = _check_optimize_result(\"lbfgs\", opt_res, self.max_iter)\n"
     ]
    },
    {
     "name": "stdout",
     "output_type": "stream",
     "text": [
      "[CV] END hidden_layer_sizes=36, learning_rate_init=0.001, max_iter=2500, random_state=42, solver=lbfgs; total time= 1.2min\n"
     ]
    },
    {
     "name": "stderr",
     "output_type": "stream",
     "text": [
      "C:\\Users\\salda\\Anaconda3\\lib\\site-packages\\sklearn\\neural_network\\_multilayer_perceptron.py:500: ConvergenceWarning: lbfgs failed to converge (status=1):\n",
      "STOP: TOTAL NO. of ITERATIONS REACHED LIMIT.\n",
      "\n",
      "Increase the number of iterations (max_iter) or scale the data as shown in:\n",
      "    https://scikit-learn.org/stable/modules/preprocessing.html\n",
      "  self.n_iter_ = _check_optimize_result(\"lbfgs\", opt_res, self.max_iter)\n"
     ]
    },
    {
     "name": "stdout",
     "output_type": "stream",
     "text": [
      "[CV] END hidden_layer_sizes=36, learning_rate_init=0.001, max_iter=2500, random_state=42, solver=lbfgs; total time= 1.2min\n"
     ]
    },
    {
     "name": "stderr",
     "output_type": "stream",
     "text": [
      "C:\\Users\\salda\\Anaconda3\\lib\\site-packages\\sklearn\\neural_network\\_multilayer_perceptron.py:500: ConvergenceWarning: lbfgs failed to converge (status=1):\n",
      "STOP: TOTAL NO. of ITERATIONS REACHED LIMIT.\n",
      "\n",
      "Increase the number of iterations (max_iter) or scale the data as shown in:\n",
      "    https://scikit-learn.org/stable/modules/preprocessing.html\n",
      "  self.n_iter_ = _check_optimize_result(\"lbfgs\", opt_res, self.max_iter)\n"
     ]
    },
    {
     "name": "stdout",
     "output_type": "stream",
     "text": [
      "[CV] END hidden_layer_sizes=36, learning_rate_init=0.001, max_iter=2500, random_state=42, solver=lbfgs; total time= 1.2min\n"
     ]
    },
    {
     "name": "stderr",
     "output_type": "stream",
     "text": [
      "C:\\Users\\salda\\Anaconda3\\lib\\site-packages\\sklearn\\neural_network\\_multilayer_perceptron.py:500: ConvergenceWarning: lbfgs failed to converge (status=1):\n",
      "STOP: TOTAL NO. of ITERATIONS REACHED LIMIT.\n",
      "\n",
      "Increase the number of iterations (max_iter) or scale the data as shown in:\n",
      "    https://scikit-learn.org/stable/modules/preprocessing.html\n",
      "  self.n_iter_ = _check_optimize_result(\"lbfgs\", opt_res, self.max_iter)\n"
     ]
    },
    {
     "name": "stdout",
     "output_type": "stream",
     "text": [
      "[CV] END hidden_layer_sizes=36, learning_rate_init=0.001, max_iter=2500, random_state=42, solver=lbfgs; total time= 1.2min\n",
      "[CV] END hidden_layer_sizes=36, learning_rate_init=0.001, max_iter=2500, random_state=42, solver=adam; total time=  37.4s\n",
      "[CV] END hidden_layer_sizes=36, learning_rate_init=0.001, max_iter=2500, random_state=42, solver=adam; total time=  34.0s\n",
      "[CV] END hidden_layer_sizes=36, learning_rate_init=0.001, max_iter=2500, random_state=42, solver=adam; total time=  28.7s\n",
      "[CV] END hidden_layer_sizes=36, learning_rate_init=0.001, max_iter=2500, random_state=42, solver=adam; total time=  28.8s\n",
      "[CV] END hidden_layer_sizes=36, learning_rate_init=0.001, max_iter=2500, random_state=42, solver=adam; total time=  34.9s\n"
     ]
    },
    {
     "name": "stderr",
     "output_type": "stream",
     "text": [
      "C:\\Users\\salda\\Anaconda3\\lib\\site-packages\\sklearn\\neural_network\\_multilayer_perceptron.py:500: ConvergenceWarning: lbfgs failed to converge (status=1):\n",
      "STOP: TOTAL NO. of ITERATIONS REACHED LIMIT.\n",
      "\n",
      "Increase the number of iterations (max_iter) or scale the data as shown in:\n",
      "    https://scikit-learn.org/stable/modules/preprocessing.html\n",
      "  self.n_iter_ = _check_optimize_result(\"lbfgs\", opt_res, self.max_iter)\n"
     ]
    },
    {
     "name": "stdout",
     "output_type": "stream",
     "text": [
      "[CV] END hidden_layer_sizes=36, learning_rate_init=1e-05, max_iter=2500, random_state=42, solver=lbfgs; total time= 1.2min\n"
     ]
    },
    {
     "name": "stderr",
     "output_type": "stream",
     "text": [
      "C:\\Users\\salda\\Anaconda3\\lib\\site-packages\\sklearn\\neural_network\\_multilayer_perceptron.py:500: ConvergenceWarning: lbfgs failed to converge (status=1):\n",
      "STOP: TOTAL NO. of ITERATIONS REACHED LIMIT.\n",
      "\n",
      "Increase the number of iterations (max_iter) or scale the data as shown in:\n",
      "    https://scikit-learn.org/stable/modules/preprocessing.html\n",
      "  self.n_iter_ = _check_optimize_result(\"lbfgs\", opt_res, self.max_iter)\n"
     ]
    },
    {
     "name": "stdout",
     "output_type": "stream",
     "text": [
      "[CV] END hidden_layer_sizes=36, learning_rate_init=1e-05, max_iter=2500, random_state=42, solver=lbfgs; total time= 1.2min\n"
     ]
    },
    {
     "name": "stderr",
     "output_type": "stream",
     "text": [
      "C:\\Users\\salda\\Anaconda3\\lib\\site-packages\\sklearn\\neural_network\\_multilayer_perceptron.py:500: ConvergenceWarning: lbfgs failed to converge (status=1):\n",
      "STOP: TOTAL NO. of ITERATIONS REACHED LIMIT.\n",
      "\n",
      "Increase the number of iterations (max_iter) or scale the data as shown in:\n",
      "    https://scikit-learn.org/stable/modules/preprocessing.html\n",
      "  self.n_iter_ = _check_optimize_result(\"lbfgs\", opt_res, self.max_iter)\n"
     ]
    },
    {
     "name": "stdout",
     "output_type": "stream",
     "text": [
      "[CV] END hidden_layer_sizes=36, learning_rate_init=1e-05, max_iter=2500, random_state=42, solver=lbfgs; total time= 1.2min\n"
     ]
    },
    {
     "name": "stderr",
     "output_type": "stream",
     "text": [
      "C:\\Users\\salda\\Anaconda3\\lib\\site-packages\\sklearn\\neural_network\\_multilayer_perceptron.py:500: ConvergenceWarning: lbfgs failed to converge (status=1):\n",
      "STOP: TOTAL NO. of ITERATIONS REACHED LIMIT.\n",
      "\n",
      "Increase the number of iterations (max_iter) or scale the data as shown in:\n",
      "    https://scikit-learn.org/stable/modules/preprocessing.html\n",
      "  self.n_iter_ = _check_optimize_result(\"lbfgs\", opt_res, self.max_iter)\n"
     ]
    },
    {
     "name": "stdout",
     "output_type": "stream",
     "text": [
      "[CV] END hidden_layer_sizes=36, learning_rate_init=1e-05, max_iter=2500, random_state=42, solver=lbfgs; total time= 1.3min\n"
     ]
    },
    {
     "name": "stderr",
     "output_type": "stream",
     "text": [
      "C:\\Users\\salda\\Anaconda3\\lib\\site-packages\\sklearn\\neural_network\\_multilayer_perceptron.py:500: ConvergenceWarning: lbfgs failed to converge (status=1):\n",
      "STOP: TOTAL NO. of ITERATIONS REACHED LIMIT.\n",
      "\n",
      "Increase the number of iterations (max_iter) or scale the data as shown in:\n",
      "    https://scikit-learn.org/stable/modules/preprocessing.html\n",
      "  self.n_iter_ = _check_optimize_result(\"lbfgs\", opt_res, self.max_iter)\n"
     ]
    },
    {
     "name": "stdout",
     "output_type": "stream",
     "text": [
      "[CV] END hidden_layer_sizes=36, learning_rate_init=1e-05, max_iter=2500, random_state=42, solver=lbfgs; total time= 1.2min\n"
     ]
    },
    {
     "name": "stderr",
     "output_type": "stream",
     "text": [
      "C:\\Users\\salda\\Anaconda3\\lib\\site-packages\\sklearn\\neural_network\\_multilayer_perceptron.py:614: ConvergenceWarning: Stochastic Optimizer: Maximum iterations (2500) reached and the optimization hasn't converged yet.\n",
      "  warnings.warn(\n"
     ]
    },
    {
     "name": "stdout",
     "output_type": "stream",
     "text": [
      "[CV] END hidden_layer_sizes=36, learning_rate_init=1e-05, max_iter=2500, random_state=42, solver=adam; total time= 3.5min\n"
     ]
    },
    {
     "name": "stderr",
     "output_type": "stream",
     "text": [
      "C:\\Users\\salda\\Anaconda3\\lib\\site-packages\\sklearn\\neural_network\\_multilayer_perceptron.py:614: ConvergenceWarning: Stochastic Optimizer: Maximum iterations (2500) reached and the optimization hasn't converged yet.\n",
      "  warnings.warn(\n"
     ]
    },
    {
     "name": "stdout",
     "output_type": "stream",
     "text": [
      "[CV] END hidden_layer_sizes=36, learning_rate_init=1e-05, max_iter=2500, random_state=42, solver=adam; total time= 3.4min\n"
     ]
    },
    {
     "name": "stderr",
     "output_type": "stream",
     "text": [
      "C:\\Users\\salda\\Anaconda3\\lib\\site-packages\\sklearn\\neural_network\\_multilayer_perceptron.py:614: ConvergenceWarning: Stochastic Optimizer: Maximum iterations (2500) reached and the optimization hasn't converged yet.\n",
      "  warnings.warn(\n"
     ]
    },
    {
     "name": "stdout",
     "output_type": "stream",
     "text": [
      "[CV] END hidden_layer_sizes=36, learning_rate_init=1e-05, max_iter=2500, random_state=42, solver=adam; total time= 4.4min\n"
     ]
    },
    {
     "name": "stderr",
     "output_type": "stream",
     "text": [
      "C:\\Users\\salda\\Anaconda3\\lib\\site-packages\\sklearn\\neural_network\\_multilayer_perceptron.py:619: UserWarning: Training interrupted by user.\n",
      "  warnings.warn(\"Training interrupted by user.\")\n"
     ]
    },
    {
     "name": "stdout",
     "output_type": "stream",
     "text": [
      "[CV] END hidden_layer_sizes=36, learning_rate_init=1e-05, max_iter=2500, random_state=42, solver=adam; total time=10.1min\n"
     ]
    },
    {
     "name": "stderr",
     "output_type": "stream",
     "text": [
      "C:\\Users\\salda\\Anaconda3\\lib\\site-packages\\sklearn\\neural_network\\_multilayer_perceptron.py:619: UserWarning: Training interrupted by user.\n",
      "  warnings.warn(\"Training interrupted by user.\")\n"
     ]
    },
    {
     "name": "stdout",
     "output_type": "stream",
     "text": [
      "[CV] END hidden_layer_sizes=36, learning_rate_init=1e-05, max_iter=2500, random_state=42, solver=adam; total time=  12.2s\n"
     ]
    }
   ],
   "source": [
    "from sklearn.neural_network import MLPRegressor\n",
    "\n",
    "layers = range(1,50)\n",
    "\n",
    "parameters = {'hidden_layer_sizes': layers, 'solver': ['lbfgs', 'adam'], 'max_iter': [2500], 'learning_rate_init': 10.0 ** -np.arange(1, 6, 2), 'random_state':[42]}\n",
    "MLPReg = GridSearchCV(MLPRegressor(), parameters, cv=5,  verbose=2, return_train_score=False)\n",
    "MLPReg.fit(X1scaled, y1)\n",
    "\n",
    "MLPRegRes = pd.DataFrame(MLPReg.cv_results_)\n",
    "MLP_results = MLPRegRes[['rank_test_score', 'mean_test_score', 'param_hidden_layer_sizes', 'param_solver', 'param_max_iter', 'param_learning_rate_init']].sort_values(by=['rank_test_score'])\n",
    "MLP_results"
   ]
  },
  {
   "cell_type": "code",
   "execution_count": null,
   "id": "991e4f4d",
   "metadata": {},
   "outputs": [],
   "source": [
    "MLP_results1 = MLP_results[MLP_results['mean_test_score']>0.5]\n",
    "\n",
    "\n",
    "MLP_adam = MLP_results1[(MLP_results1['param_solver'] == 'adam' )].sort_values(by = ['param_hidden_layer_sizes'])\n",
    "MLP_lbfgs = MLP_results1[(MLP_results1['param_solver'] == 'lbfgs' )].sort_values(by = ['param_hidden_layer_sizes'])\n",
    "\n",
    "plt.plot(MLP_adam['param_hidden_layer_sizes'], MLP_adam['mean_test_score'], label = 'adam')\n",
    "plt.plot(MLP_lbfgs['param_hidden_layer_sizes'], MLP_lbfgs['mean_test_score'], label = 'lbfgs')\n",
    "\n",
    "plt.xlabel('Number of hidden layers')\n",
    "# Set the y axis label of the current axis.\n",
    "plt.ylabel('Mean test Score')\n",
    "# Set a title of the current axes.\n",
    "plt.title('Test scores of different number of hidden layers for Multi Layer Perceptron')\n",
    "# show a legend on the plot\n",
    "plt.legend()\n",
    "# Display a figure.\n",
    "plt.show()"
   ]
  }
 ],
 "metadata": {
  "kernelspec": {
   "display_name": "Python 3",
   "language": "python",
   "name": "python3"
  },
  "language_info": {
   "codemirror_mode": {
    "name": "ipython",
    "version": 3
   },
   "file_extension": ".py",
   "mimetype": "text/x-python",
   "name": "python",
   "nbconvert_exporter": "python",
   "pygments_lexer": "ipython3",
   "version": "3.8.8"
  }
 },
 "nbformat": 4,
 "nbformat_minor": 5
}
